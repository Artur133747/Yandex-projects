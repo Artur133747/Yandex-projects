{
 "cells": [
  {
   "cell_type": "markdown",
   "id": "afee7e3a",
   "metadata": {},
   "source": [
    "# Анализ базы данных книжного сервиса"
   ]
  },
  {
   "cell_type": "markdown",
   "id": "2856f639",
   "metadata": {},
   "source": [
    "## Описание:\n",
    "Коронавирус застал мир врасплох, изменив привычный порядок вещей. В свободное время жители городов больше не выходят на улицу, не посещают кафе и торговые центры. Зато стало больше времени для книг. Это заметили стартаперы — и бросились создавать приложения для тех, кто любит читать.\n",
    "\n",
    "Ваша компания решила быть на волне и купила крупный сервис для чтения книг по подписке. Ваша первая задача как аналитика — проанализировать базу данных.\n",
    "В ней — информация о книгах, издательствах, авторах, а также пользовательские обзоры книг. Эти данные помогут сформулировать ценностное предложение для нового продукта."
   ]
  },
  {
   "cell_type": "markdown",
   "id": "630b5fac",
   "metadata": {},
   "source": [
    "## Задачи: \n",
    "- Посчитайте, сколько книг вышло после 1 января 2000 года;\n",
    "- Для каждой книги посчитайте количество обзоров и среднюю оценку;\n",
    "- Определите издательство, которое выпустило наибольшее число книг толще 50 страниц — так вы исключите из анализа брошюры;\n",
    "- Определите автора с самой высокой средней оценкой книг — учитывайте только книги с 50 и более оценками;\n",
    "- Посчитайте среднее количество обзоров от пользователей, которые поставили больше 50 оценок."
   ]
  },
  {
   "cell_type": "markdown",
   "id": "8512d009",
   "metadata": {},
   "source": [
    "## Исследовательский анализ:"
   ]
  },
  {
   "cell_type": "markdown",
   "id": "a8fdc448",
   "metadata": {},
   "source": [
    "Импортируем библиотеки и установим параметры для подключения к базе данных:"
   ]
  },
  {
   "cell_type": "code",
   "execution_count": 1,
   "id": "c86de018",
   "metadata": {},
   "outputs": [],
   "source": [
    "import pandas as pd\n",
    "from sqlalchemy import create_engine\n",
    "db_config = {'user': 'praktikum_student', # имя пользователя\n",
    " 'pwd': 'Sdf4$2;d-d30pp', # пароль\n",
    " 'host': 'rc1b-wcoijxj3yxfsf3fs.mdb.yandexcloud.net',\n",
    " 'port': 6432, # порт подключения\n",
    " 'db': 'data-analyst-final-project-db'} # название базы данных\n",
    "connection_string = 'postgresql://{}:{}@{}:{}/{}'.format(db_config['user'],\n",
    " db_config['pwd'],\n",
    " db_config['host'],\n",
    " db_config['port'],\n",
    " db_config['db'])\n",
    "engine = create_engine(connection_string, connect_args={'sslmode':'require'}) # сохраняем коннектор"
   ]
  },
  {
   "cell_type": "markdown",
   "id": "e5e1f5e0",
   "metadata": {},
   "source": [
    "Создадим функцию, выводящую результат SQL-запроса:"
   ]
  },
  {
   "cell_type": "code",
   "execution_count": 2,
   "id": "2ed07136",
   "metadata": {},
   "outputs": [],
   "source": [
    "def sql_result(query):\n",
    "  return pd.io.sql.read_sql(query, con = engine)"
   ]
  },
  {
   "cell_type": "markdown",
   "id": "cf8955f9",
   "metadata": {},
   "source": [
    "Выведем первые пять строк каждой таблицы для ознакомления:"
   ]
  },
  {
   "cell_type": "code",
   "execution_count": 3,
   "id": "5ff14c6b",
   "metadata": {},
   "outputs": [
    {
     "data": {
      "text/html": [
       "<div>\n",
       "<style scoped>\n",
       "    .dataframe tbody tr th:only-of-type {\n",
       "        vertical-align: middle;\n",
       "    }\n",
       "\n",
       "    .dataframe tbody tr th {\n",
       "        vertical-align: top;\n",
       "    }\n",
       "\n",
       "    .dataframe thead th {\n",
       "        text-align: right;\n",
       "    }\n",
       "</style>\n",
       "<table border=\"1\" class=\"dataframe\">\n",
       "  <thead>\n",
       "    <tr style=\"text-align: right;\">\n",
       "      <th></th>\n",
       "      <th>book_id</th>\n",
       "      <th>author_id</th>\n",
       "      <th>title</th>\n",
       "      <th>num_pages</th>\n",
       "      <th>publication_date</th>\n",
       "      <th>publisher_id</th>\n",
       "    </tr>\n",
       "  </thead>\n",
       "  <tbody>\n",
       "    <tr>\n",
       "      <th>0</th>\n",
       "      <td>1</td>\n",
       "      <td>546</td>\n",
       "      <td>'Salem's Lot</td>\n",
       "      <td>594</td>\n",
       "      <td>2005-11-01</td>\n",
       "      <td>93</td>\n",
       "    </tr>\n",
       "    <tr>\n",
       "      <th>1</th>\n",
       "      <td>2</td>\n",
       "      <td>465</td>\n",
       "      <td>1 000 Places to See Before You Die</td>\n",
       "      <td>992</td>\n",
       "      <td>2003-05-22</td>\n",
       "      <td>336</td>\n",
       "    </tr>\n",
       "    <tr>\n",
       "      <th>2</th>\n",
       "      <td>3</td>\n",
       "      <td>407</td>\n",
       "      <td>13 Little Blue Envelopes (Little Blue Envelope...</td>\n",
       "      <td>322</td>\n",
       "      <td>2010-12-21</td>\n",
       "      <td>135</td>\n",
       "    </tr>\n",
       "    <tr>\n",
       "      <th>3</th>\n",
       "      <td>4</td>\n",
       "      <td>82</td>\n",
       "      <td>1491: New Revelations of the Americas Before C...</td>\n",
       "      <td>541</td>\n",
       "      <td>2006-10-10</td>\n",
       "      <td>309</td>\n",
       "    </tr>\n",
       "    <tr>\n",
       "      <th>4</th>\n",
       "      <td>5</td>\n",
       "      <td>125</td>\n",
       "      <td>1776</td>\n",
       "      <td>386</td>\n",
       "      <td>2006-07-04</td>\n",
       "      <td>268</td>\n",
       "    </tr>\n",
       "  </tbody>\n",
       "</table>\n",
       "</div>"
      ],
      "text/plain": [
       "   book_id  author_id                                              title  \\\n",
       "0        1        546                                       'Salem's Lot   \n",
       "1        2        465                 1 000 Places to See Before You Die   \n",
       "2        3        407  13 Little Blue Envelopes (Little Blue Envelope...   \n",
       "3        4         82  1491: New Revelations of the Americas Before C...   \n",
       "4        5        125                                               1776   \n",
       "\n",
       "   num_pages publication_date  publisher_id  \n",
       "0        594       2005-11-01            93  \n",
       "1        992       2003-05-22           336  \n",
       "2        322       2010-12-21           135  \n",
       "3        541       2006-10-10           309  \n",
       "4        386       2006-07-04           268  "
      ]
     },
     "execution_count": 3,
     "metadata": {},
     "output_type": "execute_result"
    }
   ],
   "source": [
    "query = '''\n",
    "\n",
    "SELECT * \n",
    "FROM books\n",
    "LIMIT 5\n",
    "\n",
    "'''\n",
    "sql_result(query)\n"
   ]
  },
  {
   "cell_type": "code",
   "execution_count": 4,
   "id": "efde8b67",
   "metadata": {},
   "outputs": [
    {
     "data": {
      "text/html": [
       "<div>\n",
       "<style scoped>\n",
       "    .dataframe tbody tr th:only-of-type {\n",
       "        vertical-align: middle;\n",
       "    }\n",
       "\n",
       "    .dataframe tbody tr th {\n",
       "        vertical-align: top;\n",
       "    }\n",
       "\n",
       "    .dataframe thead th {\n",
       "        text-align: right;\n",
       "    }\n",
       "</style>\n",
       "<table border=\"1\" class=\"dataframe\">\n",
       "  <thead>\n",
       "    <tr style=\"text-align: right;\">\n",
       "      <th></th>\n",
       "      <th>author_id</th>\n",
       "      <th>author</th>\n",
       "    </tr>\n",
       "  </thead>\n",
       "  <tbody>\n",
       "    <tr>\n",
       "      <th>0</th>\n",
       "      <td>1</td>\n",
       "      <td>A.S. Byatt</td>\n",
       "    </tr>\n",
       "    <tr>\n",
       "      <th>1</th>\n",
       "      <td>2</td>\n",
       "      <td>Aesop/Laura Harris/Laura Gibbs</td>\n",
       "    </tr>\n",
       "    <tr>\n",
       "      <th>2</th>\n",
       "      <td>3</td>\n",
       "      <td>Agatha Christie</td>\n",
       "    </tr>\n",
       "    <tr>\n",
       "      <th>3</th>\n",
       "      <td>4</td>\n",
       "      <td>Alan Brennert</td>\n",
       "    </tr>\n",
       "    <tr>\n",
       "      <th>4</th>\n",
       "      <td>5</td>\n",
       "      <td>Alan Moore/David   Lloyd</td>\n",
       "    </tr>\n",
       "  </tbody>\n",
       "</table>\n",
       "</div>"
      ],
      "text/plain": [
       "   author_id                          author\n",
       "0          1                      A.S. Byatt\n",
       "1          2  Aesop/Laura Harris/Laura Gibbs\n",
       "2          3                 Agatha Christie\n",
       "3          4                   Alan Brennert\n",
       "4          5        Alan Moore/David   Lloyd"
      ]
     },
     "execution_count": 4,
     "metadata": {},
     "output_type": "execute_result"
    }
   ],
   "source": [
    "query = '''\n",
    "\n",
    "SELECT * \n",
    "FROM authors\n",
    "LIMIT 5\n",
    "\n",
    "'''\n",
    "sql_result(query)"
   ]
  },
  {
   "cell_type": "code",
   "execution_count": 5,
   "id": "45d54901",
   "metadata": {},
   "outputs": [
    {
     "data": {
      "text/html": [
       "<div>\n",
       "<style scoped>\n",
       "    .dataframe tbody tr th:only-of-type {\n",
       "        vertical-align: middle;\n",
       "    }\n",
       "\n",
       "    .dataframe tbody tr th {\n",
       "        vertical-align: top;\n",
       "    }\n",
       "\n",
       "    .dataframe thead th {\n",
       "        text-align: right;\n",
       "    }\n",
       "</style>\n",
       "<table border=\"1\" class=\"dataframe\">\n",
       "  <thead>\n",
       "    <tr style=\"text-align: right;\">\n",
       "      <th></th>\n",
       "      <th>publisher_id</th>\n",
       "      <th>publisher</th>\n",
       "    </tr>\n",
       "  </thead>\n",
       "  <tbody>\n",
       "    <tr>\n",
       "      <th>0</th>\n",
       "      <td>1</td>\n",
       "      <td>Ace</td>\n",
       "    </tr>\n",
       "    <tr>\n",
       "      <th>1</th>\n",
       "      <td>2</td>\n",
       "      <td>Ace Book</td>\n",
       "    </tr>\n",
       "    <tr>\n",
       "      <th>2</th>\n",
       "      <td>3</td>\n",
       "      <td>Ace Books</td>\n",
       "    </tr>\n",
       "    <tr>\n",
       "      <th>3</th>\n",
       "      <td>4</td>\n",
       "      <td>Ace Hardcover</td>\n",
       "    </tr>\n",
       "    <tr>\n",
       "      <th>4</th>\n",
       "      <td>5</td>\n",
       "      <td>Addison Wesley Publishing Company</td>\n",
       "    </tr>\n",
       "  </tbody>\n",
       "</table>\n",
       "</div>"
      ],
      "text/plain": [
       "   publisher_id                          publisher\n",
       "0             1                                Ace\n",
       "1             2                           Ace Book\n",
       "2             3                          Ace Books\n",
       "3             4                      Ace Hardcover\n",
       "4             5  Addison Wesley Publishing Company"
      ]
     },
     "execution_count": 5,
     "metadata": {},
     "output_type": "execute_result"
    }
   ],
   "source": [
    "query = '''\n",
    "\n",
    "SELECT * \n",
    "FROM publishers\n",
    "LIMIT 5\n",
    "\n",
    "'''\n",
    "sql_result(query)"
   ]
  },
  {
   "cell_type": "code",
   "execution_count": 6,
   "id": "4df08645",
   "metadata": {},
   "outputs": [
    {
     "data": {
      "text/html": [
       "<div>\n",
       "<style scoped>\n",
       "    .dataframe tbody tr th:only-of-type {\n",
       "        vertical-align: middle;\n",
       "    }\n",
       "\n",
       "    .dataframe tbody tr th {\n",
       "        vertical-align: top;\n",
       "    }\n",
       "\n",
       "    .dataframe thead th {\n",
       "        text-align: right;\n",
       "    }\n",
       "</style>\n",
       "<table border=\"1\" class=\"dataframe\">\n",
       "  <thead>\n",
       "    <tr style=\"text-align: right;\">\n",
       "      <th></th>\n",
       "      <th>rating_id</th>\n",
       "      <th>book_id</th>\n",
       "      <th>username</th>\n",
       "      <th>rating</th>\n",
       "    </tr>\n",
       "  </thead>\n",
       "  <tbody>\n",
       "    <tr>\n",
       "      <th>0</th>\n",
       "      <td>1</td>\n",
       "      <td>1</td>\n",
       "      <td>ryanfranco</td>\n",
       "      <td>4</td>\n",
       "    </tr>\n",
       "    <tr>\n",
       "      <th>1</th>\n",
       "      <td>2</td>\n",
       "      <td>1</td>\n",
       "      <td>grantpatricia</td>\n",
       "      <td>2</td>\n",
       "    </tr>\n",
       "    <tr>\n",
       "      <th>2</th>\n",
       "      <td>3</td>\n",
       "      <td>1</td>\n",
       "      <td>brandtandrea</td>\n",
       "      <td>5</td>\n",
       "    </tr>\n",
       "    <tr>\n",
       "      <th>3</th>\n",
       "      <td>4</td>\n",
       "      <td>2</td>\n",
       "      <td>lorichen</td>\n",
       "      <td>3</td>\n",
       "    </tr>\n",
       "    <tr>\n",
       "      <th>4</th>\n",
       "      <td>5</td>\n",
       "      <td>2</td>\n",
       "      <td>mariokeller</td>\n",
       "      <td>2</td>\n",
       "    </tr>\n",
       "  </tbody>\n",
       "</table>\n",
       "</div>"
      ],
      "text/plain": [
       "   rating_id  book_id       username  rating\n",
       "0          1        1     ryanfranco       4\n",
       "1          2        1  grantpatricia       2\n",
       "2          3        1   brandtandrea       5\n",
       "3          4        2       lorichen       3\n",
       "4          5        2    mariokeller       2"
      ]
     },
     "execution_count": 6,
     "metadata": {},
     "output_type": "execute_result"
    }
   ],
   "source": [
    "query = '''\n",
    "\n",
    "SELECT * \n",
    "FROM ratings\n",
    "LIMIT 5\n",
    "\n",
    "'''\n",
    "sql_result(query)"
   ]
  },
  {
   "cell_type": "code",
   "execution_count": 7,
   "id": "bad9596e",
   "metadata": {
    "scrolled": true
   },
   "outputs": [
    {
     "data": {
      "text/html": [
       "<div>\n",
       "<style scoped>\n",
       "    .dataframe tbody tr th:only-of-type {\n",
       "        vertical-align: middle;\n",
       "    }\n",
       "\n",
       "    .dataframe tbody tr th {\n",
       "        vertical-align: top;\n",
       "    }\n",
       "\n",
       "    .dataframe thead th {\n",
       "        text-align: right;\n",
       "    }\n",
       "</style>\n",
       "<table border=\"1\" class=\"dataframe\">\n",
       "  <thead>\n",
       "    <tr style=\"text-align: right;\">\n",
       "      <th></th>\n",
       "      <th>review_id</th>\n",
       "      <th>book_id</th>\n",
       "      <th>username</th>\n",
       "      <th>text</th>\n",
       "    </tr>\n",
       "  </thead>\n",
       "  <tbody>\n",
       "    <tr>\n",
       "      <th>0</th>\n",
       "      <td>1</td>\n",
       "      <td>1</td>\n",
       "      <td>brandtandrea</td>\n",
       "      <td>Mention society tell send professor analysis. ...</td>\n",
       "    </tr>\n",
       "    <tr>\n",
       "      <th>1</th>\n",
       "      <td>2</td>\n",
       "      <td>1</td>\n",
       "      <td>ryanfranco</td>\n",
       "      <td>Foot glass pretty audience hit themselves. Amo...</td>\n",
       "    </tr>\n",
       "    <tr>\n",
       "      <th>2</th>\n",
       "      <td>3</td>\n",
       "      <td>2</td>\n",
       "      <td>lorichen</td>\n",
       "      <td>Listen treat keep worry. Miss husband tax but ...</td>\n",
       "    </tr>\n",
       "    <tr>\n",
       "      <th>3</th>\n",
       "      <td>4</td>\n",
       "      <td>3</td>\n",
       "      <td>johnsonamanda</td>\n",
       "      <td>Finally month interesting blue could nature cu...</td>\n",
       "    </tr>\n",
       "    <tr>\n",
       "      <th>4</th>\n",
       "      <td>5</td>\n",
       "      <td>3</td>\n",
       "      <td>scotttamara</td>\n",
       "      <td>Nation purpose heavy give wait song will. List...</td>\n",
       "    </tr>\n",
       "  </tbody>\n",
       "</table>\n",
       "</div>"
      ],
      "text/plain": [
       "   review_id  book_id       username  \\\n",
       "0          1        1   brandtandrea   \n",
       "1          2        1     ryanfranco   \n",
       "2          3        2       lorichen   \n",
       "3          4        3  johnsonamanda   \n",
       "4          5        3    scotttamara   \n",
       "\n",
       "                                                text  \n",
       "0  Mention society tell send professor analysis. ...  \n",
       "1  Foot glass pretty audience hit themselves. Amo...  \n",
       "2  Listen treat keep worry. Miss husband tax but ...  \n",
       "3  Finally month interesting blue could nature cu...  \n",
       "4  Nation purpose heavy give wait song will. List...  "
      ]
     },
     "execution_count": 7,
     "metadata": {},
     "output_type": "execute_result"
    }
   ],
   "source": [
    "query = '''\n",
    "\n",
    "SELECT * \n",
    "FROM reviews\n",
    "LIMIT 5\n",
    "\n",
    "'''\n",
    "sql_result(query)"
   ]
  },
  {
   "cell_type": "markdown",
   "id": "cb012cf0",
   "metadata": {},
   "source": [
    "### Задача 1: посчитайте, сколько книг вышло после 1 января 2000 года:"
   ]
  },
  {
   "cell_type": "code",
   "execution_count": 8,
   "id": "99bbd323",
   "metadata": {},
   "outputs": [
    {
     "data": {
      "text/html": [
       "<div>\n",
       "<style scoped>\n",
       "    .dataframe tbody tr th:only-of-type {\n",
       "        vertical-align: middle;\n",
       "    }\n",
       "\n",
       "    .dataframe tbody tr th {\n",
       "        vertical-align: top;\n",
       "    }\n",
       "\n",
       "    .dataframe thead th {\n",
       "        text-align: right;\n",
       "    }\n",
       "</style>\n",
       "<table border=\"1\" class=\"dataframe\">\n",
       "  <thead>\n",
       "    <tr style=\"text-align: right;\">\n",
       "      <th></th>\n",
       "      <th>count</th>\n",
       "    </tr>\n",
       "  </thead>\n",
       "  <tbody>\n",
       "    <tr>\n",
       "      <th>0</th>\n",
       "      <td>819</td>\n",
       "    </tr>\n",
       "  </tbody>\n",
       "</table>\n",
       "</div>"
      ],
      "text/plain": [
       "   count\n",
       "0    819"
      ]
     },
     "execution_count": 8,
     "metadata": {},
     "output_type": "execute_result"
    }
   ],
   "source": [
    "query = '''\n",
    "\n",
    "SELECT COUNT(book_id) \n",
    "FROM books\n",
    "WHERE publication_date > '2000-01-01'\n",
    "\n",
    "'''\n",
    "sql_result(query)"
   ]
  },
  {
   "cell_type": "markdown",
   "id": "0044267d",
   "metadata": {},
   "source": [
    "После 1 января 2000 года вышло 819 книг."
   ]
  },
  {
   "cell_type": "markdown",
   "id": "6d42cf36",
   "metadata": {},
   "source": [
    "### Задача 2: для каждой книги посчитайте количество обзоров и среднюю оценку:"
   ]
  },
  {
   "cell_type": "code",
   "execution_count": 9,
   "id": "e0f56927",
   "metadata": {},
   "outputs": [
    {
     "data": {
      "text/html": [
       "<div>\n",
       "<style scoped>\n",
       "    .dataframe tbody tr th:only-of-type {\n",
       "        vertical-align: middle;\n",
       "    }\n",
       "\n",
       "    .dataframe tbody tr th {\n",
       "        vertical-align: top;\n",
       "    }\n",
       "\n",
       "    .dataframe thead th {\n",
       "        text-align: right;\n",
       "    }\n",
       "</style>\n",
       "<table border=\"1\" class=\"dataframe\">\n",
       "  <thead>\n",
       "    <tr style=\"text-align: right;\">\n",
       "      <th></th>\n",
       "      <th>title</th>\n",
       "      <th>review_count</th>\n",
       "      <th>avg_rating</th>\n",
       "    </tr>\n",
       "  </thead>\n",
       "  <tbody>\n",
       "    <tr>\n",
       "      <th>0</th>\n",
       "      <td>Twilight (Twilight  #1)</td>\n",
       "      <td>7</td>\n",
       "      <td>3.662500</td>\n",
       "    </tr>\n",
       "    <tr>\n",
       "      <th>1</th>\n",
       "      <td>The Hobbit  or There and Back Again</td>\n",
       "      <td>6</td>\n",
       "      <td>4.125000</td>\n",
       "    </tr>\n",
       "    <tr>\n",
       "      <th>2</th>\n",
       "      <td>The Catcher in the Rye</td>\n",
       "      <td>6</td>\n",
       "      <td>3.825581</td>\n",
       "    </tr>\n",
       "    <tr>\n",
       "      <th>3</th>\n",
       "      <td>Harry Potter and the Prisoner of Azkaban (Harr...</td>\n",
       "      <td>6</td>\n",
       "      <td>4.414634</td>\n",
       "    </tr>\n",
       "    <tr>\n",
       "      <th>4</th>\n",
       "      <td>Harry Potter and the Chamber of Secrets (Harry...</td>\n",
       "      <td>6</td>\n",
       "      <td>4.287500</td>\n",
       "    </tr>\n",
       "    <tr>\n",
       "      <th>...</th>\n",
       "      <td>...</td>\n",
       "      <td>...</td>\n",
       "      <td>...</td>\n",
       "    </tr>\n",
       "    <tr>\n",
       "      <th>995</th>\n",
       "      <td>Essential Tales and Poems</td>\n",
       "      <td>0</td>\n",
       "      <td>4.000000</td>\n",
       "    </tr>\n",
       "    <tr>\n",
       "      <th>996</th>\n",
       "      <td>Leonardo's Notebooks</td>\n",
       "      <td>0</td>\n",
       "      <td>4.000000</td>\n",
       "    </tr>\n",
       "    <tr>\n",
       "      <th>997</th>\n",
       "      <td>The Cat in the Hat and Other Dr. Seuss Favorites</td>\n",
       "      <td>0</td>\n",
       "      <td>5.000000</td>\n",
       "    </tr>\n",
       "    <tr>\n",
       "      <th>998</th>\n",
       "      <td>Anne Rice's The Vampire Lestat: A Graphic Novel</td>\n",
       "      <td>0</td>\n",
       "      <td>3.666667</td>\n",
       "    </tr>\n",
       "    <tr>\n",
       "      <th>999</th>\n",
       "      <td>The Natural Way to Draw</td>\n",
       "      <td>0</td>\n",
       "      <td>3.000000</td>\n",
       "    </tr>\n",
       "  </tbody>\n",
       "</table>\n",
       "<p>1000 rows × 3 columns</p>\n",
       "</div>"
      ],
      "text/plain": [
       "                                                 title  review_count  \\\n",
       "0                              Twilight (Twilight  #1)             7   \n",
       "1                  The Hobbit  or There and Back Again             6   \n",
       "2                               The Catcher in the Rye             6   \n",
       "3    Harry Potter and the Prisoner of Azkaban (Harr...             6   \n",
       "4    Harry Potter and the Chamber of Secrets (Harry...             6   \n",
       "..                                                 ...           ...   \n",
       "995                          Essential Tales and Poems             0   \n",
       "996                               Leonardo's Notebooks             0   \n",
       "997   The Cat in the Hat and Other Dr. Seuss Favorites             0   \n",
       "998    Anne Rice's The Vampire Lestat: A Graphic Novel             0   \n",
       "999                            The Natural Way to Draw             0   \n",
       "\n",
       "     avg_rating  \n",
       "0      3.662500  \n",
       "1      4.125000  \n",
       "2      3.825581  \n",
       "3      4.414634  \n",
       "4      4.287500  \n",
       "..          ...  \n",
       "995    4.000000  \n",
       "996    4.000000  \n",
       "997    5.000000  \n",
       "998    3.666667  \n",
       "999    3.000000  \n",
       "\n",
       "[1000 rows x 3 columns]"
      ]
     },
     "execution_count": 9,
     "metadata": {},
     "output_type": "execute_result"
    }
   ],
   "source": [
    "query = '''\n",
    "\n",
    "SELECT books.title,\n",
    "       COUNT (distinct review_id) as review_count,\n",
    "       AVG(rating) AS avg_rating\n",
    "FROM books\n",
    "LEFT JOIN reviews ON reviews.book_id = books.book_id\n",
    "LEFT JOIN ratings ON ratings.book_id = books.book_id\n",
    "GROUP BY books.title,\n",
    "         books.book_id\n",
    "ORDER BY COUNT(reviews.review_id) DESC\n",
    "\n",
    "'''\n",
    "sql_result(query)  "
   ]
  },
  {
   "cell_type": "markdown",
   "id": "10be4769",
   "metadata": {},
   "source": [
    "Больше всего обзоров у книги Twilight (Twilight #1) - 7"
   ]
  },
  {
   "cell_type": "markdown",
   "id": "66878837",
   "metadata": {},
   "source": [
    "### Задача 3: определите издательство, которое выпустило наибольшее число книг толще 50 страниц — так вы исключите из анализа брошюры:"
   ]
  },
  {
   "cell_type": "code",
   "execution_count": 10,
   "id": "7db99e41",
   "metadata": {},
   "outputs": [
    {
     "data": {
      "text/html": [
       "<div>\n",
       "<style scoped>\n",
       "    .dataframe tbody tr th:only-of-type {\n",
       "        vertical-align: middle;\n",
       "    }\n",
       "\n",
       "    .dataframe tbody tr th {\n",
       "        vertical-align: top;\n",
       "    }\n",
       "\n",
       "    .dataframe thead th {\n",
       "        text-align: right;\n",
       "    }\n",
       "</style>\n",
       "<table border=\"1\" class=\"dataframe\">\n",
       "  <thead>\n",
       "    <tr style=\"text-align: right;\">\n",
       "      <th></th>\n",
       "      <th>publisher</th>\n",
       "      <th>book_count</th>\n",
       "    </tr>\n",
       "  </thead>\n",
       "  <tbody>\n",
       "    <tr>\n",
       "      <th>0</th>\n",
       "      <td>Penguin Books</td>\n",
       "      <td>42</td>\n",
       "    </tr>\n",
       "    <tr>\n",
       "      <th>1</th>\n",
       "      <td>Vintage</td>\n",
       "      <td>31</td>\n",
       "    </tr>\n",
       "    <tr>\n",
       "      <th>2</th>\n",
       "      <td>Grand Central Publishing</td>\n",
       "      <td>25</td>\n",
       "    </tr>\n",
       "    <tr>\n",
       "      <th>3</th>\n",
       "      <td>Penguin Classics</td>\n",
       "      <td>24</td>\n",
       "    </tr>\n",
       "    <tr>\n",
       "      <th>4</th>\n",
       "      <td>Ballantine Books</td>\n",
       "      <td>19</td>\n",
       "    </tr>\n",
       "    <tr>\n",
       "      <th>...</th>\n",
       "      <td>...</td>\n",
       "      <td>...</td>\n",
       "    </tr>\n",
       "    <tr>\n",
       "      <th>329</th>\n",
       "      <td>Turtleback</td>\n",
       "      <td>1</td>\n",
       "    </tr>\n",
       "    <tr>\n",
       "      <th>330</th>\n",
       "      <td>Atheneum Books for Young Readers: Richard Jack...</td>\n",
       "      <td>1</td>\n",
       "    </tr>\n",
       "    <tr>\n",
       "      <th>331</th>\n",
       "      <td>Penguin Signet</td>\n",
       "      <td>1</td>\n",
       "    </tr>\n",
       "    <tr>\n",
       "      <th>332</th>\n",
       "      <td>Victor Gollancz</td>\n",
       "      <td>1</td>\n",
       "    </tr>\n",
       "    <tr>\n",
       "      <th>333</th>\n",
       "      <td>Harvard Business Review Press</td>\n",
       "      <td>1</td>\n",
       "    </tr>\n",
       "  </tbody>\n",
       "</table>\n",
       "<p>334 rows × 2 columns</p>\n",
       "</div>"
      ],
      "text/plain": [
       "                                             publisher  book_count\n",
       "0                                        Penguin Books          42\n",
       "1                                              Vintage          31\n",
       "2                             Grand Central Publishing          25\n",
       "3                                     Penguin Classics          24\n",
       "4                                     Ballantine Books          19\n",
       "..                                                 ...         ...\n",
       "329                                         Turtleback           1\n",
       "330  Atheneum Books for Young Readers: Richard Jack...           1\n",
       "331                                     Penguin Signet           1\n",
       "332                                    Victor Gollancz           1\n",
       "333                      Harvard Business Review Press           1\n",
       "\n",
       "[334 rows x 2 columns]"
      ]
     },
     "execution_count": 10,
     "metadata": {},
     "output_type": "execute_result"
    }
   ],
   "source": [
    "query = '''\n",
    "\n",
    "SELECT publisher,\n",
    "       COUNT (book_id) AS book_count\n",
    "FROM books\n",
    "LEFT JOIN publishers ON publishers.publisher_id=books.publisher_id\n",
    "WHERE num_pages>50\n",
    "GROUP BY publisher\n",
    "ORDER BY book_count DESC\n",
    "\n",
    "'''\n",
    "sql_result(query)"
   ]
  },
  {
   "cell_type": "markdown",
   "id": "bb022d48",
   "metadata": {},
   "source": [
    "Издательство, выпустившее наибольшее число книг толще 50 страниц - Penguin Books. 42 книги."
   ]
  },
  {
   "cell_type": "markdown",
   "id": "5c028000",
   "metadata": {},
   "source": [
    "### Задача 4: определите автора с самой высокой средней оценкой книг — учитывайте только книги с 50 и более оценками:"
   ]
  },
  {
   "cell_type": "code",
   "execution_count": 11,
   "id": "f4866b50",
   "metadata": {},
   "outputs": [
    {
     "data": {
      "text/html": [
       "<div>\n",
       "<style scoped>\n",
       "    .dataframe tbody tr th:only-of-type {\n",
       "        vertical-align: middle;\n",
       "    }\n",
       "\n",
       "    .dataframe tbody tr th {\n",
       "        vertical-align: top;\n",
       "    }\n",
       "\n",
       "    .dataframe thead th {\n",
       "        text-align: right;\n",
       "    }\n",
       "</style>\n",
       "<table border=\"1\" class=\"dataframe\">\n",
       "  <thead>\n",
       "    <tr style=\"text-align: right;\">\n",
       "      <th></th>\n",
       "      <th>author</th>\n",
       "      <th>avg</th>\n",
       "    </tr>\n",
       "  </thead>\n",
       "  <tbody>\n",
       "    <tr>\n",
       "      <th>0</th>\n",
       "      <td>J.K. Rowling/Mary GrandPré</td>\n",
       "      <td>4.287097</td>\n",
       "    </tr>\n",
       "  </tbody>\n",
       "</table>\n",
       "</div>"
      ],
      "text/plain": [
       "                       author       avg\n",
       "0  J.K. Rowling/Mary GrandPré  4.287097"
      ]
     },
     "execution_count": 11,
     "metadata": {},
     "output_type": "execute_result"
    }
   ],
   "source": [
    "query = '''\n",
    "\n",
    "SELECT author, \n",
    "       AVG(rating)\n",
    "FROM authors AS a\n",
    "JOIN books AS b \n",
    "ON a.author_id = b.author_id\n",
    "JOIN ratings AS r \n",
    "ON b.book_id = r.book_id\n",
    "WHERE b.book_id IN (\n",
    "SELECT book_id\n",
    "FROM ratings \n",
    "GROUP BY book_id\n",
    "HAVING COUNT(rating_id) >= 50\n",
    "ORDER BY COUNT(rating_id) DESC)\n",
    "GROUP BY author\n",
    "ORDER BY avg DESC\n",
    "LIMIT 1\n",
    "\n",
    "'''\n",
    "sql_result(query)"
   ]
  },
  {
   "cell_type": "markdown",
   "id": "2514833d",
   "metadata": {},
   "source": [
    "Автор с самой высокой средней оценкой книг - J.K. Rowling/Mary GrandPré - 4.287097"
   ]
  },
  {
   "cell_type": "markdown",
   "id": "2f3b7409",
   "metadata": {},
   "source": [
    "### Задача 5: посчитайте среднее количество обзоров от пользователей, которые поставили больше 50 оценок:"
   ]
  },
  {
   "cell_type": "code",
   "execution_count": 12,
   "id": "2ae55e5c",
   "metadata": {},
   "outputs": [
    {
     "data": {
      "text/html": [
       "<div>\n",
       "<style scoped>\n",
       "    .dataframe tbody tr th:only-of-type {\n",
       "        vertical-align: middle;\n",
       "    }\n",
       "\n",
       "    .dataframe tbody tr th {\n",
       "        vertical-align: top;\n",
       "    }\n",
       "\n",
       "    .dataframe thead th {\n",
       "        text-align: right;\n",
       "    }\n",
       "</style>\n",
       "<table border=\"1\" class=\"dataframe\">\n",
       "  <thead>\n",
       "    <tr style=\"text-align: right;\">\n",
       "      <th></th>\n",
       "      <th>avg_review_count</th>\n",
       "    </tr>\n",
       "  </thead>\n",
       "  <tbody>\n",
       "    <tr>\n",
       "      <th>0</th>\n",
       "      <td>24.333333</td>\n",
       "    </tr>\n",
       "  </tbody>\n",
       "</table>\n",
       "</div>"
      ],
      "text/plain": [
       "   avg_review_count\n",
       "0         24.333333"
      ]
     },
     "execution_count": 12,
     "metadata": {},
     "output_type": "execute_result"
    }
   ],
   "source": [
    "query = '''\n",
    "\n",
    "SELECT AVG(review_count) as avg_review_count\n",
    "FROM\n",
    "(SELECT COUNT(review_id) as review_count\n",
    "FROM reviews\n",
    "WHERE username IN\n",
    "(SELECT username\n",
    "FROM ratings\n",
    "GROUP BY username\n",
    "HAVING COUNT(ratings) > 50)\n",
    "GROUP BY username) AS user_review_count \n",
    "\n",
    "'''\n",
    "sql_result(query)"
   ]
  },
  {
   "cell_type": "markdown",
   "id": "b1bfd0ef",
   "metadata": {},
   "source": [
    "Среднее количество обзоров от пользователей, которые поставили больше 50 оценок - 24."
   ]
  },
  {
   "cell_type": "markdown",
   "id": "f668999a",
   "metadata": {},
   "source": [
    "## Общие выводы:"
   ]
  },
  {
   "cell_type": "markdown",
   "id": "b6519a15",
   "metadata": {},
   "source": [
    "- После 1 января 2000 года вышло 819 книг.\n",
    "- Больше всего обзоров у книги Twilight (Twilight #1) - 7.\n",
    "- Издательство, выпустившее наибольшее число книг толще 50 страниц - Penguin Books. 42 книги.\n",
    "- Автор с самой высокой средней оценкой книг - J.K. Rowling/Mary GrandPré - 4.287097.\n",
    "- Среднее количество обзоров от пользователей, которые поставили больше 50 оценок - 24."
   ]
  }
 ],
 "metadata": {
  "ExecuteTimeLog": [
   {
    "duration": 5684,
    "start_time": "2023-03-07T23:04:43.452Z"
   },
   {
    "duration": 2409,
    "start_time": "2023-03-07T23:04:51.424Z"
   },
   {
    "duration": 10,
    "start_time": "2023-03-07T23:04:53.835Z"
   },
   {
    "duration": 3,
    "start_time": "2023-03-07T23:05:45.593Z"
   },
   {
    "duration": 109,
    "start_time": "2023-03-07T23:06:20.904Z"
   },
   {
    "duration": 10,
    "start_time": "2023-03-07T23:06:54.976Z"
   },
   {
    "duration": 27,
    "start_time": "2023-03-07T23:07:05.235Z"
   },
   {
    "duration": 11,
    "start_time": "2023-03-07T23:07:12.628Z"
   },
   {
    "duration": 11,
    "start_time": "2023-03-07T23:07:23.271Z"
   },
   {
    "duration": 10,
    "start_time": "2023-03-07T23:07:41.201Z"
   },
   {
    "duration": 10,
    "start_time": "2023-03-07T23:09:45.484Z"
   },
   {
    "duration": 64,
    "start_time": "2023-03-07T23:10:00.451Z"
   },
   {
    "duration": 10,
    "start_time": "2023-03-07T23:10:08.866Z"
   },
   {
    "duration": 33,
    "start_time": "2023-03-07T23:11:01.894Z"
   },
   {
    "duration": 3,
    "start_time": "2023-03-07T23:12:25.387Z"
   },
   {
    "duration": 26,
    "start_time": "2023-03-07T23:12:36.784Z"
   },
   {
    "duration": 37,
    "start_time": "2023-03-07T23:18:12.112Z"
   },
   {
    "duration": 34,
    "start_time": "2023-03-07T23:18:36.873Z"
   },
   {
    "duration": 32,
    "start_time": "2023-03-07T23:18:59.661Z"
   },
   {
    "duration": 31,
    "start_time": "2023-03-07T23:19:23.787Z"
   },
   {
    "duration": 25,
    "start_time": "2023-03-07T23:19:35.607Z"
   },
   {
    "duration": 18,
    "start_time": "2023-03-07T23:22:32.420Z"
   },
   {
    "duration": 10,
    "start_time": "2023-03-07T23:22:32.768Z"
   },
   {
    "duration": 11,
    "start_time": "2023-03-07T23:22:32.968Z"
   },
   {
    "duration": 25,
    "start_time": "2023-03-07T23:22:33.238Z"
   },
   {
    "duration": 21,
    "start_time": "2023-03-07T23:22:33.835Z"
   },
   {
    "duration": 15,
    "start_time": "2023-03-07T23:23:17.613Z"
   },
   {
    "duration": 153,
    "start_time": "2023-03-07T23:23:34.480Z"
   },
   {
    "duration": 19,
    "start_time": "2023-03-07T23:23:50.553Z"
   },
   {
    "duration": 2,
    "start_time": "2023-03-07T23:29:02.835Z"
   },
   {
    "duration": 14,
    "start_time": "2023-03-07T23:29:18.375Z"
   },
   {
    "duration": 15,
    "start_time": "2023-03-07T23:29:44.696Z"
   },
   {
    "duration": 13,
    "start_time": "2023-03-07T23:31:32.964Z"
   },
   {
    "duration": 3,
    "start_time": "2023-03-07T23:35:54.627Z"
   },
   {
    "duration": 5640,
    "start_time": "2023-03-07T23:35:54.632Z"
   },
   {
    "duration": 2,
    "start_time": "2023-03-07T23:36:00.274Z"
   },
   {
    "duration": 57,
    "start_time": "2023-03-07T23:36:00.277Z"
   },
   {
    "duration": 20,
    "start_time": "2023-03-07T23:36:00.336Z"
   },
   {
    "duration": 24,
    "start_time": "2023-03-07T23:36:00.358Z"
   },
   {
    "duration": 12,
    "start_time": "2023-03-07T23:36:00.383Z"
   },
   {
    "duration": 16,
    "start_time": "2023-03-07T23:36:00.397Z"
   },
   {
    "duration": 9,
    "start_time": "2023-03-07T23:36:00.414Z"
   },
   {
    "duration": 76,
    "start_time": "2023-03-07T23:36:00.425Z"
   },
   {
    "duration": 26,
    "start_time": "2023-03-07T23:36:00.503Z"
   },
   {
    "duration": 43,
    "start_time": "2023-03-07T23:36:00.531Z"
   },
   {
    "duration": 34,
    "start_time": "2023-03-07T23:36:00.575Z"
   },
   {
    "duration": 28,
    "start_time": "2023-03-07T23:36:00.611Z"
   },
   {
    "duration": 13,
    "start_time": "2023-03-07T23:46:15.685Z"
   },
   {
    "duration": 133,
    "start_time": "2023-03-07T23:52:08.804Z"
   },
   {
    "duration": 74,
    "start_time": "2023-03-07T23:52:24.407Z"
   },
   {
    "duration": 64,
    "start_time": "2023-03-07T23:52:55.652Z"
   },
   {
    "duration": 14,
    "start_time": "2023-03-07T23:53:32.465Z"
   },
   {
    "duration": 14,
    "start_time": "2023-03-07T23:53:39.551Z"
   },
   {
    "duration": 52,
    "start_time": "2023-03-08T13:22:36.475Z"
   },
   {
    "duration": 8,
    "start_time": "2023-03-08T13:22:52.352Z"
   },
   {
    "duration": 8,
    "start_time": "2023-03-08T13:23:20.677Z"
   },
   {
    "duration": 7,
    "start_time": "2023-03-08T13:27:10.843Z"
   },
   {
    "duration": 5599,
    "start_time": "2023-03-08T13:27:17.493Z"
   },
   {
    "duration": 3,
    "start_time": "2023-03-08T13:27:23.094Z"
   },
   {
    "duration": 119,
    "start_time": "2023-03-08T13:27:23.098Z"
   },
   {
    "duration": 12,
    "start_time": "2023-03-08T13:27:23.219Z"
   },
   {
    "duration": 10,
    "start_time": "2023-03-08T13:27:23.234Z"
   },
   {
    "duration": 11,
    "start_time": "2023-03-08T13:27:23.246Z"
   },
   {
    "duration": 11,
    "start_time": "2023-03-08T13:27:23.258Z"
   },
   {
    "duration": 9,
    "start_time": "2023-03-08T13:27:23.271Z"
   },
   {
    "duration": 46,
    "start_time": "2023-03-08T13:27:23.282Z"
   },
   {
    "duration": 12,
    "start_time": "2023-03-08T13:27:23.330Z"
   },
   {
    "duration": 16,
    "start_time": "2023-03-08T13:27:23.344Z"
   },
   {
    "duration": 12,
    "start_time": "2023-03-08T13:27:23.362Z"
   },
   {
    "duration": 37,
    "start_time": "2023-03-08T13:28:05.441Z"
   },
   {
    "duration": 6,
    "start_time": "2023-03-08T13:31:59.256Z"
   },
   {
    "duration": 5,
    "start_time": "2023-03-08T13:32:10.044Z"
   },
   {
    "duration": 5461,
    "start_time": "2023-03-08T13:32:18.340Z"
   },
   {
    "duration": 4,
    "start_time": "2023-03-08T13:32:23.804Z"
   },
   {
    "duration": 253,
    "start_time": "2023-03-08T13:32:23.810Z"
   },
   {
    "duration": 0,
    "start_time": "2023-03-08T13:32:24.066Z"
   },
   {
    "duration": 0,
    "start_time": "2023-03-08T13:32:24.067Z"
   },
   {
    "duration": 0,
    "start_time": "2023-03-08T13:32:24.068Z"
   },
   {
    "duration": 0,
    "start_time": "2023-03-08T13:32:24.069Z"
   },
   {
    "duration": 0,
    "start_time": "2023-03-08T13:32:24.070Z"
   },
   {
    "duration": 0,
    "start_time": "2023-03-08T13:32:24.071Z"
   },
   {
    "duration": 0,
    "start_time": "2023-03-08T13:32:24.073Z"
   },
   {
    "duration": 0,
    "start_time": "2023-03-08T13:32:24.074Z"
   },
   {
    "duration": 0,
    "start_time": "2023-03-08T13:32:24.076Z"
   },
   {
    "duration": 5324,
    "start_time": "2023-03-08T13:32:36.029Z"
   },
   {
    "duration": 4,
    "start_time": "2023-03-08T13:32:41.355Z"
   },
   {
    "duration": 58,
    "start_time": "2023-03-08T13:32:41.362Z"
   },
   {
    "duration": 17,
    "start_time": "2023-03-08T13:32:41.422Z"
   },
   {
    "duration": 12,
    "start_time": "2023-03-08T13:32:41.441Z"
   },
   {
    "duration": 15,
    "start_time": "2023-03-08T13:32:41.454Z"
   },
   {
    "duration": 16,
    "start_time": "2023-03-08T13:32:41.470Z"
   },
   {
    "duration": 14,
    "start_time": "2023-03-08T13:32:41.489Z"
   },
   {
    "duration": 45,
    "start_time": "2023-03-08T13:32:41.504Z"
   },
   {
    "duration": 16,
    "start_time": "2023-03-08T13:32:41.551Z"
   },
   {
    "duration": 14,
    "start_time": "2023-03-08T13:32:41.569Z"
   },
   {
    "duration": 14,
    "start_time": "2023-03-08T13:32:41.585Z"
   },
   {
    "duration": 9371,
    "start_time": "2023-03-09T14:28:40.414Z"
   },
   {
    "duration": 3,
    "start_time": "2023-03-09T14:28:49.787Z"
   },
   {
    "duration": 263,
    "start_time": "2023-03-09T14:28:49.791Z"
   },
   {
    "duration": 72,
    "start_time": "2023-03-09T14:28:50.056Z"
   },
   {
    "duration": 73,
    "start_time": "2023-03-09T14:28:50.130Z"
   },
   {
    "duration": 72,
    "start_time": "2023-03-09T14:28:50.205Z"
   },
   {
    "duration": 84,
    "start_time": "2023-03-09T14:28:50.279Z"
   },
   {
    "duration": 74,
    "start_time": "2023-03-09T14:28:50.365Z"
   },
   {
    "duration": 126,
    "start_time": "2023-03-09T14:28:50.441Z"
   },
   {
    "duration": 83,
    "start_time": "2023-03-09T14:28:50.569Z"
   },
   {
    "duration": 75,
    "start_time": "2023-03-09T14:28:50.654Z"
   },
   {
    "duration": 76,
    "start_time": "2023-03-09T14:28:50.730Z"
   },
   {
    "duration": 252,
    "start_time": "2023-03-09T14:29:43.269Z"
   },
   {
    "duration": 76,
    "start_time": "2023-03-09T14:29:57.550Z"
   },
   {
    "duration": 83,
    "start_time": "2023-03-09T14:30:16.654Z"
   },
   {
    "duration": 11857,
    "start_time": "2023-03-09T15:18:32.084Z"
   },
   {
    "duration": 4,
    "start_time": "2023-03-09T15:18:43.943Z"
   },
   {
    "duration": 80,
    "start_time": "2023-03-09T15:18:43.949Z"
   },
   {
    "duration": 14,
    "start_time": "2023-03-09T15:18:44.031Z"
   },
   {
    "duration": 13,
    "start_time": "2023-03-09T15:18:44.047Z"
   },
   {
    "duration": 14,
    "start_time": "2023-03-09T15:18:44.063Z"
   },
   {
    "duration": 14,
    "start_time": "2023-03-09T15:18:44.079Z"
   },
   {
    "duration": 44,
    "start_time": "2023-03-09T15:18:44.094Z"
   },
   {
    "duration": 41,
    "start_time": "2023-03-09T15:18:44.141Z"
   },
   {
    "duration": 18,
    "start_time": "2023-03-09T15:18:44.184Z"
   },
   {
    "duration": 31,
    "start_time": "2023-03-09T15:18:44.204Z"
   },
   {
    "duration": 18,
    "start_time": "2023-03-09T15:18:44.237Z"
   },
   {
    "duration": 50,
    "start_time": "2023-03-09T15:32:30.837Z"
   },
   {
    "duration": 9310,
    "start_time": "2023-03-09T15:32:38.392Z"
   },
   {
    "duration": 3,
    "start_time": "2023-03-09T15:32:47.704Z"
   },
   {
    "duration": 299,
    "start_time": "2023-03-09T15:32:47.709Z"
   },
   {
    "duration": 82,
    "start_time": "2023-03-09T15:32:48.010Z"
   },
   {
    "duration": 75,
    "start_time": "2023-03-09T15:32:48.094Z"
   },
   {
    "duration": 74,
    "start_time": "2023-03-09T15:32:48.171Z"
   },
   {
    "duration": 73,
    "start_time": "2023-03-09T15:32:48.247Z"
   },
   {
    "duration": 74,
    "start_time": "2023-03-09T15:32:48.322Z"
   },
   {
    "duration": 238,
    "start_time": "2023-03-09T15:32:48.397Z"
   },
   {
    "duration": 0,
    "start_time": "2023-03-09T15:32:48.638Z"
   },
   {
    "duration": 0,
    "start_time": "2023-03-09T15:32:48.639Z"
   },
   {
    "duration": 0,
    "start_time": "2023-03-09T15:32:48.640Z"
   },
   {
    "duration": 111,
    "start_time": "2023-03-09T15:33:13.004Z"
   },
   {
    "duration": 9466,
    "start_time": "2023-03-09T15:33:26.800Z"
   },
   {
    "duration": 3,
    "start_time": "2023-03-09T15:33:36.268Z"
   },
   {
    "duration": 314,
    "start_time": "2023-03-09T15:33:36.272Z"
   },
   {
    "duration": 79,
    "start_time": "2023-03-09T15:33:36.588Z"
   },
   {
    "duration": 83,
    "start_time": "2023-03-09T15:33:36.669Z"
   },
   {
    "duration": 73,
    "start_time": "2023-03-09T15:33:36.754Z"
   },
   {
    "duration": 77,
    "start_time": "2023-03-09T15:33:36.829Z"
   },
   {
    "duration": 75,
    "start_time": "2023-03-09T15:33:36.907Z"
   },
   {
    "duration": 106,
    "start_time": "2023-03-09T15:33:36.983Z"
   },
   {
    "duration": 88,
    "start_time": "2023-03-09T15:33:37.091Z"
   },
   {
    "duration": 88,
    "start_time": "2023-03-09T15:33:37.181Z"
   },
   {
    "duration": 77,
    "start_time": "2023-03-09T15:33:37.271Z"
   }
  ],
  "kernelspec": {
   "display_name": "Python 3 (ipykernel)",
   "language": "python",
   "name": "python3"
  },
  "language_info": {
   "codemirror_mode": {
    "name": "ipython",
    "version": 3
   },
   "file_extension": ".py",
   "mimetype": "text/x-python",
   "name": "python",
   "nbconvert_exporter": "python",
   "pygments_lexer": "ipython3",
   "version": "3.9.5"
  },
  "toc": {
   "base_numbering": 1,
   "nav_menu": {},
   "number_sections": true,
   "sideBar": true,
   "skip_h1_title": true,
   "title_cell": "Table of Contents",
   "title_sidebar": "Contents",
   "toc_cell": false,
   "toc_position": {},
   "toc_section_display": true,
   "toc_window_display": false
  }
 },
 "nbformat": 4,
 "nbformat_minor": 5
}
