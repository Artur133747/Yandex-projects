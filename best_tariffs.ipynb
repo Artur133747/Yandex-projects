{
 "cells": [
  {
   "cell_type": "markdown",
   "metadata": {},
   "source": [
    "# Исследование об определении перспективного тарифа для телеком-компании"
   ]
  },
  {
   "cell_type": "markdown",
   "metadata": {},
   "source": [
    "Клиентам предлагают два тарифных плана: «Смарт» и «Ультра». Чтобы скорректировать рекламный бюджет, коммерческий департамент хочет понять, какой тариф приносит больше денег.\n",
    "Предстоит сделать предварительный анализ тарифов на небольшой выборке клиентов. В вашем распоряжении данные 500 пользователей «Мегалайна»: кто они, откуда, каким тарифом пользуются, сколько звонков и сообщений каждый отправил за 2018 год. Нужно проанализировать поведение клиентов и сделать вывод — какой тариф лучше."
   ]
  },
  {
   "cell_type": "markdown",
   "metadata": {},
   "source": [
    "## Изучение данных из файла"
   ]
  },
  {
   "cell_type": "code",
   "execution_count": 1,
   "metadata": {},
   "outputs": [],
   "source": [
    "import pandas as pd\n",
    "import numpy as np\n",
    "from scipy import stats as st\n",
    "from matplotlib import pyplot as plt   "
   ]
  },
  {
   "cell_type": "code",
   "execution_count": 2,
   "metadata": {},
   "outputs": [],
   "source": [
    "data_calls = pd.read_csv('/datasets/calls.csv')"
   ]
  },
  {
   "cell_type": "code",
   "execution_count": 3,
   "metadata": {},
   "outputs": [
    {
     "data": {
      "text/html": [
       "<div>\n",
       "<style scoped>\n",
       "    .dataframe tbody tr th:only-of-type {\n",
       "        vertical-align: middle;\n",
       "    }\n",
       "\n",
       "    .dataframe tbody tr th {\n",
       "        vertical-align: top;\n",
       "    }\n",
       "\n",
       "    .dataframe thead th {\n",
       "        text-align: right;\n",
       "    }\n",
       "</style>\n",
       "<table border=\"1\" class=\"dataframe\">\n",
       "  <thead>\n",
       "    <tr style=\"text-align: right;\">\n",
       "      <th></th>\n",
       "      <th>id</th>\n",
       "      <th>call_date</th>\n",
       "      <th>duration</th>\n",
       "      <th>user_id</th>\n",
       "    </tr>\n",
       "  </thead>\n",
       "  <tbody>\n",
       "    <tr>\n",
       "      <th>0</th>\n",
       "      <td>1000_0</td>\n",
       "      <td>2018-07-25</td>\n",
       "      <td>0.00</td>\n",
       "      <td>1000</td>\n",
       "    </tr>\n",
       "    <tr>\n",
       "      <th>1</th>\n",
       "      <td>1000_1</td>\n",
       "      <td>2018-08-17</td>\n",
       "      <td>0.00</td>\n",
       "      <td>1000</td>\n",
       "    </tr>\n",
       "    <tr>\n",
       "      <th>2</th>\n",
       "      <td>1000_2</td>\n",
       "      <td>2018-06-11</td>\n",
       "      <td>2.85</td>\n",
       "      <td>1000</td>\n",
       "    </tr>\n",
       "    <tr>\n",
       "      <th>3</th>\n",
       "      <td>1000_3</td>\n",
       "      <td>2018-09-21</td>\n",
       "      <td>13.80</td>\n",
       "      <td>1000</td>\n",
       "    </tr>\n",
       "    <tr>\n",
       "      <th>4</th>\n",
       "      <td>1000_4</td>\n",
       "      <td>2018-12-15</td>\n",
       "      <td>5.18</td>\n",
       "      <td>1000</td>\n",
       "    </tr>\n",
       "  </tbody>\n",
       "</table>\n",
       "</div>"
      ],
      "text/plain": [
       "       id   call_date  duration  user_id\n",
       "0  1000_0  2018-07-25      0.00     1000\n",
       "1  1000_1  2018-08-17      0.00     1000\n",
       "2  1000_2  2018-06-11      2.85     1000\n",
       "3  1000_3  2018-09-21     13.80     1000\n",
       "4  1000_4  2018-12-15      5.18     1000"
      ]
     },
     "execution_count": 3,
     "metadata": {},
     "output_type": "execute_result"
    }
   ],
   "source": [
    "data_calls.head()"
   ]
  },
  {
   "cell_type": "code",
   "execution_count": 4,
   "metadata": {},
   "outputs": [
    {
     "data": {
      "text/html": [
       "<div>\n",
       "<style scoped>\n",
       "    .dataframe tbody tr th:only-of-type {\n",
       "        vertical-align: middle;\n",
       "    }\n",
       "\n",
       "    .dataframe tbody tr th {\n",
       "        vertical-align: top;\n",
       "    }\n",
       "\n",
       "    .dataframe thead th {\n",
       "        text-align: right;\n",
       "    }\n",
       "</style>\n",
       "<table border=\"1\" class=\"dataframe\">\n",
       "  <thead>\n",
       "    <tr style=\"text-align: right;\">\n",
       "      <th></th>\n",
       "      <th>duration</th>\n",
       "      <th>user_id</th>\n",
       "    </tr>\n",
       "  </thead>\n",
       "  <tbody>\n",
       "    <tr>\n",
       "      <th>count</th>\n",
       "      <td>202607.000000</td>\n",
       "      <td>202607.000000</td>\n",
       "    </tr>\n",
       "    <tr>\n",
       "      <th>mean</th>\n",
       "      <td>6.755887</td>\n",
       "      <td>1253.940619</td>\n",
       "    </tr>\n",
       "    <tr>\n",
       "      <th>std</th>\n",
       "      <td>5.843365</td>\n",
       "      <td>144.722751</td>\n",
       "    </tr>\n",
       "    <tr>\n",
       "      <th>min</th>\n",
       "      <td>0.000000</td>\n",
       "      <td>1000.000000</td>\n",
       "    </tr>\n",
       "    <tr>\n",
       "      <th>25%</th>\n",
       "      <td>1.300000</td>\n",
       "      <td>1126.000000</td>\n",
       "    </tr>\n",
       "    <tr>\n",
       "      <th>50%</th>\n",
       "      <td>6.000000</td>\n",
       "      <td>1260.000000</td>\n",
       "    </tr>\n",
       "    <tr>\n",
       "      <th>75%</th>\n",
       "      <td>10.700000</td>\n",
       "      <td>1379.000000</td>\n",
       "    </tr>\n",
       "    <tr>\n",
       "      <th>max</th>\n",
       "      <td>38.000000</td>\n",
       "      <td>1499.000000</td>\n",
       "    </tr>\n",
       "  </tbody>\n",
       "</table>\n",
       "</div>"
      ],
      "text/plain": [
       "            duration        user_id\n",
       "count  202607.000000  202607.000000\n",
       "mean        6.755887    1253.940619\n",
       "std         5.843365     144.722751\n",
       "min         0.000000    1000.000000\n",
       "25%         1.300000    1126.000000\n",
       "50%         6.000000    1260.000000\n",
       "75%        10.700000    1379.000000\n",
       "max        38.000000    1499.000000"
      ]
     },
     "execution_count": 4,
     "metadata": {},
     "output_type": "execute_result"
    }
   ],
   "source": [
    "data_calls.describe()"
   ]
  },
  {
   "cell_type": "code",
   "execution_count": 5,
   "metadata": {},
   "outputs": [
    {
     "name": "stdout",
     "output_type": "stream",
     "text": [
      "<class 'pandas.core.frame.DataFrame'>\n",
      "RangeIndex: 202607 entries, 0 to 202606\n",
      "Data columns (total 4 columns):\n",
      " #   Column     Non-Null Count   Dtype  \n",
      "---  ------     --------------   -----  \n",
      " 0   id         202607 non-null  object \n",
      " 1   call_date  202607 non-null  object \n",
      " 2   duration   202607 non-null  float64\n",
      " 3   user_id    202607 non-null  int64  \n",
      "dtypes: float64(1), int64(1), object(2)\n",
      "memory usage: 6.2+ MB\n"
     ]
    }
   ],
   "source": [
    "data_calls.info()"
   ]
  },
  {
   "cell_type": "code",
   "execution_count": 6,
   "metadata": {},
   "outputs": [
    {
     "data": {
      "text/plain": [
       "0"
      ]
     },
     "execution_count": 6,
     "metadata": {},
     "output_type": "execute_result"
    }
   ],
   "source": [
    "data_calls.duplicated().sum()"
   ]
  },
  {
   "cell_type": "code",
   "execution_count": 7,
   "metadata": {},
   "outputs": [],
   "source": [
    "data_internet = pd.read_csv('/datasets/internet.csv')"
   ]
  },
  {
   "cell_type": "code",
   "execution_count": 8,
   "metadata": {},
   "outputs": [
    {
     "data": {
      "text/html": [
       "<div>\n",
       "<style scoped>\n",
       "    .dataframe tbody tr th:only-of-type {\n",
       "        vertical-align: middle;\n",
       "    }\n",
       "\n",
       "    .dataframe tbody tr th {\n",
       "        vertical-align: top;\n",
       "    }\n",
       "\n",
       "    .dataframe thead th {\n",
       "        text-align: right;\n",
       "    }\n",
       "</style>\n",
       "<table border=\"1\" class=\"dataframe\">\n",
       "  <thead>\n",
       "    <tr style=\"text-align: right;\">\n",
       "      <th></th>\n",
       "      <th>Unnamed: 0</th>\n",
       "      <th>id</th>\n",
       "      <th>mb_used</th>\n",
       "      <th>session_date</th>\n",
       "      <th>user_id</th>\n",
       "    </tr>\n",
       "  </thead>\n",
       "  <tbody>\n",
       "    <tr>\n",
       "      <th>0</th>\n",
       "      <td>0</td>\n",
       "      <td>1000_0</td>\n",
       "      <td>112.95</td>\n",
       "      <td>2018-11-25</td>\n",
       "      <td>1000</td>\n",
       "    </tr>\n",
       "    <tr>\n",
       "      <th>1</th>\n",
       "      <td>1</td>\n",
       "      <td>1000_1</td>\n",
       "      <td>1052.81</td>\n",
       "      <td>2018-09-07</td>\n",
       "      <td>1000</td>\n",
       "    </tr>\n",
       "    <tr>\n",
       "      <th>2</th>\n",
       "      <td>2</td>\n",
       "      <td>1000_2</td>\n",
       "      <td>1197.26</td>\n",
       "      <td>2018-06-25</td>\n",
       "      <td>1000</td>\n",
       "    </tr>\n",
       "    <tr>\n",
       "      <th>3</th>\n",
       "      <td>3</td>\n",
       "      <td>1000_3</td>\n",
       "      <td>550.27</td>\n",
       "      <td>2018-08-22</td>\n",
       "      <td>1000</td>\n",
       "    </tr>\n",
       "    <tr>\n",
       "      <th>4</th>\n",
       "      <td>4</td>\n",
       "      <td>1000_4</td>\n",
       "      <td>302.56</td>\n",
       "      <td>2018-09-24</td>\n",
       "      <td>1000</td>\n",
       "    </tr>\n",
       "  </tbody>\n",
       "</table>\n",
       "</div>"
      ],
      "text/plain": [
       "   Unnamed: 0      id  mb_used session_date  user_id\n",
       "0           0  1000_0   112.95   2018-11-25     1000\n",
       "1           1  1000_1  1052.81   2018-09-07     1000\n",
       "2           2  1000_2  1197.26   2018-06-25     1000\n",
       "3           3  1000_3   550.27   2018-08-22     1000\n",
       "4           4  1000_4   302.56   2018-09-24     1000"
      ]
     },
     "execution_count": 8,
     "metadata": {},
     "output_type": "execute_result"
    }
   ],
   "source": [
    "data_internet.head()"
   ]
  },
  {
   "cell_type": "code",
   "execution_count": 9,
   "metadata": {},
   "outputs": [
    {
     "data": {
      "text/html": [
       "<div>\n",
       "<style scoped>\n",
       "    .dataframe tbody tr th:only-of-type {\n",
       "        vertical-align: middle;\n",
       "    }\n",
       "\n",
       "    .dataframe tbody tr th {\n",
       "        vertical-align: top;\n",
       "    }\n",
       "\n",
       "    .dataframe thead th {\n",
       "        text-align: right;\n",
       "    }\n",
       "</style>\n",
       "<table border=\"1\" class=\"dataframe\">\n",
       "  <thead>\n",
       "    <tr style=\"text-align: right;\">\n",
       "      <th></th>\n",
       "      <th>Unnamed: 0</th>\n",
       "      <th>mb_used</th>\n",
       "      <th>user_id</th>\n",
       "    </tr>\n",
       "  </thead>\n",
       "  <tbody>\n",
       "    <tr>\n",
       "      <th>count</th>\n",
       "      <td>149396.000000</td>\n",
       "      <td>149396.000000</td>\n",
       "      <td>149396.000000</td>\n",
       "    </tr>\n",
       "    <tr>\n",
       "      <th>mean</th>\n",
       "      <td>74697.500000</td>\n",
       "      <td>370.192426</td>\n",
       "      <td>1252.099842</td>\n",
       "    </tr>\n",
       "    <tr>\n",
       "      <th>std</th>\n",
       "      <td>43127.054745</td>\n",
       "      <td>278.300951</td>\n",
       "      <td>144.050823</td>\n",
       "    </tr>\n",
       "    <tr>\n",
       "      <th>min</th>\n",
       "      <td>0.000000</td>\n",
       "      <td>0.000000</td>\n",
       "      <td>1000.000000</td>\n",
       "    </tr>\n",
       "    <tr>\n",
       "      <th>25%</th>\n",
       "      <td>37348.750000</td>\n",
       "      <td>138.187500</td>\n",
       "      <td>1130.000000</td>\n",
       "    </tr>\n",
       "    <tr>\n",
       "      <th>50%</th>\n",
       "      <td>74697.500000</td>\n",
       "      <td>348.015000</td>\n",
       "      <td>1251.000000</td>\n",
       "    </tr>\n",
       "    <tr>\n",
       "      <th>75%</th>\n",
       "      <td>112046.250000</td>\n",
       "      <td>559.552500</td>\n",
       "      <td>1380.000000</td>\n",
       "    </tr>\n",
       "    <tr>\n",
       "      <th>max</th>\n",
       "      <td>149395.000000</td>\n",
       "      <td>1724.830000</td>\n",
       "      <td>1499.000000</td>\n",
       "    </tr>\n",
       "  </tbody>\n",
       "</table>\n",
       "</div>"
      ],
      "text/plain": [
       "          Unnamed: 0        mb_used        user_id\n",
       "count  149396.000000  149396.000000  149396.000000\n",
       "mean    74697.500000     370.192426    1252.099842\n",
       "std     43127.054745     278.300951     144.050823\n",
       "min         0.000000       0.000000    1000.000000\n",
       "25%     37348.750000     138.187500    1130.000000\n",
       "50%     74697.500000     348.015000    1251.000000\n",
       "75%    112046.250000     559.552500    1380.000000\n",
       "max    149395.000000    1724.830000    1499.000000"
      ]
     },
     "execution_count": 9,
     "metadata": {},
     "output_type": "execute_result"
    }
   ],
   "source": [
    "data_internet.describe()"
   ]
  },
  {
   "cell_type": "code",
   "execution_count": 10,
   "metadata": {},
   "outputs": [
    {
     "name": "stdout",
     "output_type": "stream",
     "text": [
      "<class 'pandas.core.frame.DataFrame'>\n",
      "RangeIndex: 149396 entries, 0 to 149395\n",
      "Data columns (total 5 columns):\n",
      " #   Column        Non-Null Count   Dtype  \n",
      "---  ------        --------------   -----  \n",
      " 0   Unnamed: 0    149396 non-null  int64  \n",
      " 1   id            149396 non-null  object \n",
      " 2   mb_used       149396 non-null  float64\n",
      " 3   session_date  149396 non-null  object \n",
      " 4   user_id       149396 non-null  int64  \n",
      "dtypes: float64(1), int64(2), object(2)\n",
      "memory usage: 5.7+ MB\n"
     ]
    }
   ],
   "source": [
    "data_internet.info()"
   ]
  },
  {
   "cell_type": "code",
   "execution_count": 11,
   "metadata": {},
   "outputs": [
    {
     "data": {
      "text/plain": [
       "0"
      ]
     },
     "execution_count": 11,
     "metadata": {},
     "output_type": "execute_result"
    }
   ],
   "source": [
    "data_internet.duplicated().sum()"
   ]
  },
  {
   "cell_type": "code",
   "execution_count": 12,
   "metadata": {},
   "outputs": [],
   "source": [
    "data_messages = pd.read_csv('/datasets/messages.csv')"
   ]
  },
  {
   "cell_type": "code",
   "execution_count": 13,
   "metadata": {},
   "outputs": [
    {
     "data": {
      "text/html": [
       "<div>\n",
       "<style scoped>\n",
       "    .dataframe tbody tr th:only-of-type {\n",
       "        vertical-align: middle;\n",
       "    }\n",
       "\n",
       "    .dataframe tbody tr th {\n",
       "        vertical-align: top;\n",
       "    }\n",
       "\n",
       "    .dataframe thead th {\n",
       "        text-align: right;\n",
       "    }\n",
       "</style>\n",
       "<table border=\"1\" class=\"dataframe\">\n",
       "  <thead>\n",
       "    <tr style=\"text-align: right;\">\n",
       "      <th></th>\n",
       "      <th>id</th>\n",
       "      <th>message_date</th>\n",
       "      <th>user_id</th>\n",
       "    </tr>\n",
       "  </thead>\n",
       "  <tbody>\n",
       "    <tr>\n",
       "      <th>0</th>\n",
       "      <td>1000_0</td>\n",
       "      <td>2018-06-27</td>\n",
       "      <td>1000</td>\n",
       "    </tr>\n",
       "    <tr>\n",
       "      <th>1</th>\n",
       "      <td>1000_1</td>\n",
       "      <td>2018-10-08</td>\n",
       "      <td>1000</td>\n",
       "    </tr>\n",
       "    <tr>\n",
       "      <th>2</th>\n",
       "      <td>1000_2</td>\n",
       "      <td>2018-08-04</td>\n",
       "      <td>1000</td>\n",
       "    </tr>\n",
       "    <tr>\n",
       "      <th>3</th>\n",
       "      <td>1000_3</td>\n",
       "      <td>2018-06-16</td>\n",
       "      <td>1000</td>\n",
       "    </tr>\n",
       "    <tr>\n",
       "      <th>4</th>\n",
       "      <td>1000_4</td>\n",
       "      <td>2018-12-05</td>\n",
       "      <td>1000</td>\n",
       "    </tr>\n",
       "  </tbody>\n",
       "</table>\n",
       "</div>"
      ],
      "text/plain": [
       "       id message_date  user_id\n",
       "0  1000_0   2018-06-27     1000\n",
       "1  1000_1   2018-10-08     1000\n",
       "2  1000_2   2018-08-04     1000\n",
       "3  1000_3   2018-06-16     1000\n",
       "4  1000_4   2018-12-05     1000"
      ]
     },
     "execution_count": 13,
     "metadata": {},
     "output_type": "execute_result"
    }
   ],
   "source": [
    "data_messages.head()"
   ]
  },
  {
   "cell_type": "code",
   "execution_count": 14,
   "metadata": {},
   "outputs": [
    {
     "data": {
      "text/html": [
       "<div>\n",
       "<style scoped>\n",
       "    .dataframe tbody tr th:only-of-type {\n",
       "        vertical-align: middle;\n",
       "    }\n",
       "\n",
       "    .dataframe tbody tr th {\n",
       "        vertical-align: top;\n",
       "    }\n",
       "\n",
       "    .dataframe thead th {\n",
       "        text-align: right;\n",
       "    }\n",
       "</style>\n",
       "<table border=\"1\" class=\"dataframe\">\n",
       "  <thead>\n",
       "    <tr style=\"text-align: right;\">\n",
       "      <th></th>\n",
       "      <th>user_id</th>\n",
       "    </tr>\n",
       "  </thead>\n",
       "  <tbody>\n",
       "    <tr>\n",
       "      <th>count</th>\n",
       "      <td>123036.000000</td>\n",
       "    </tr>\n",
       "    <tr>\n",
       "      <th>mean</th>\n",
       "      <td>1256.989410</td>\n",
       "    </tr>\n",
       "    <tr>\n",
       "      <th>std</th>\n",
       "      <td>143.523967</td>\n",
       "    </tr>\n",
       "    <tr>\n",
       "      <th>min</th>\n",
       "      <td>1000.000000</td>\n",
       "    </tr>\n",
       "    <tr>\n",
       "      <th>25%</th>\n",
       "      <td>1134.000000</td>\n",
       "    </tr>\n",
       "    <tr>\n",
       "      <th>50%</th>\n",
       "      <td>1271.000000</td>\n",
       "    </tr>\n",
       "    <tr>\n",
       "      <th>75%</th>\n",
       "      <td>1381.000000</td>\n",
       "    </tr>\n",
       "    <tr>\n",
       "      <th>max</th>\n",
       "      <td>1499.000000</td>\n",
       "    </tr>\n",
       "  </tbody>\n",
       "</table>\n",
       "</div>"
      ],
      "text/plain": [
       "             user_id\n",
       "count  123036.000000\n",
       "mean     1256.989410\n",
       "std       143.523967\n",
       "min      1000.000000\n",
       "25%      1134.000000\n",
       "50%      1271.000000\n",
       "75%      1381.000000\n",
       "max      1499.000000"
      ]
     },
     "execution_count": 14,
     "metadata": {},
     "output_type": "execute_result"
    }
   ],
   "source": [
    "data_messages.describe()"
   ]
  },
  {
   "cell_type": "code",
   "execution_count": 15,
   "metadata": {},
   "outputs": [
    {
     "name": "stdout",
     "output_type": "stream",
     "text": [
      "<class 'pandas.core.frame.DataFrame'>\n",
      "RangeIndex: 123036 entries, 0 to 123035\n",
      "Data columns (total 3 columns):\n",
      " #   Column        Non-Null Count   Dtype \n",
      "---  ------        --------------   ----- \n",
      " 0   id            123036 non-null  object\n",
      " 1   message_date  123036 non-null  object\n",
      " 2   user_id       123036 non-null  int64 \n",
      "dtypes: int64(1), object(2)\n",
      "memory usage: 2.8+ MB\n"
     ]
    }
   ],
   "source": [
    "data_messages.info()"
   ]
  },
  {
   "cell_type": "code",
   "execution_count": 16,
   "metadata": {},
   "outputs": [
    {
     "data": {
      "text/plain": [
       "0"
      ]
     },
     "execution_count": 16,
     "metadata": {},
     "output_type": "execute_result"
    }
   ],
   "source": [
    "data_messages.duplicated().sum()"
   ]
  },
  {
   "cell_type": "code",
   "execution_count": 17,
   "metadata": {},
   "outputs": [],
   "source": [
    "data_tariffs = pd.read_csv('/datasets/tariffs.csv')"
   ]
  },
  {
   "cell_type": "code",
   "execution_count": 18,
   "metadata": {},
   "outputs": [
    {
     "data": {
      "text/html": [
       "<div>\n",
       "<style scoped>\n",
       "    .dataframe tbody tr th:only-of-type {\n",
       "        vertical-align: middle;\n",
       "    }\n",
       "\n",
       "    .dataframe tbody tr th {\n",
       "        vertical-align: top;\n",
       "    }\n",
       "\n",
       "    .dataframe thead th {\n",
       "        text-align: right;\n",
       "    }\n",
       "</style>\n",
       "<table border=\"1\" class=\"dataframe\">\n",
       "  <thead>\n",
       "    <tr style=\"text-align: right;\">\n",
       "      <th></th>\n",
       "      <th>messages_included</th>\n",
       "      <th>mb_per_month_included</th>\n",
       "      <th>minutes_included</th>\n",
       "      <th>rub_monthly_fee</th>\n",
       "      <th>rub_per_gb</th>\n",
       "      <th>rub_per_message</th>\n",
       "      <th>rub_per_minute</th>\n",
       "      <th>tariff_name</th>\n",
       "    </tr>\n",
       "  </thead>\n",
       "  <tbody>\n",
       "    <tr>\n",
       "      <th>0</th>\n",
       "      <td>50</td>\n",
       "      <td>15360</td>\n",
       "      <td>500</td>\n",
       "      <td>550</td>\n",
       "      <td>200</td>\n",
       "      <td>3</td>\n",
       "      <td>3</td>\n",
       "      <td>smart</td>\n",
       "    </tr>\n",
       "    <tr>\n",
       "      <th>1</th>\n",
       "      <td>1000</td>\n",
       "      <td>30720</td>\n",
       "      <td>3000</td>\n",
       "      <td>1950</td>\n",
       "      <td>150</td>\n",
       "      <td>1</td>\n",
       "      <td>1</td>\n",
       "      <td>ultra</td>\n",
       "    </tr>\n",
       "  </tbody>\n",
       "</table>\n",
       "</div>"
      ],
      "text/plain": [
       "   messages_included  mb_per_month_included  minutes_included  \\\n",
       "0                 50                  15360               500   \n",
       "1               1000                  30720              3000   \n",
       "\n",
       "   rub_monthly_fee  rub_per_gb  rub_per_message  rub_per_minute tariff_name  \n",
       "0              550         200                3               3       smart  \n",
       "1             1950         150                1               1       ultra  "
      ]
     },
     "execution_count": 18,
     "metadata": {},
     "output_type": "execute_result"
    }
   ],
   "source": [
    "data_tariffs.head()"
   ]
  },
  {
   "cell_type": "code",
   "execution_count": 19,
   "metadata": {},
   "outputs": [
    {
     "data": {
      "text/html": [
       "<div>\n",
       "<style scoped>\n",
       "    .dataframe tbody tr th:only-of-type {\n",
       "        vertical-align: middle;\n",
       "    }\n",
       "\n",
       "    .dataframe tbody tr th {\n",
       "        vertical-align: top;\n",
       "    }\n",
       "\n",
       "    .dataframe thead th {\n",
       "        text-align: right;\n",
       "    }\n",
       "</style>\n",
       "<table border=\"1\" class=\"dataframe\">\n",
       "  <thead>\n",
       "    <tr style=\"text-align: right;\">\n",
       "      <th></th>\n",
       "      <th>messages_included</th>\n",
       "      <th>mb_per_month_included</th>\n",
       "      <th>minutes_included</th>\n",
       "      <th>rub_monthly_fee</th>\n",
       "      <th>rub_per_gb</th>\n",
       "      <th>rub_per_message</th>\n",
       "      <th>rub_per_minute</th>\n",
       "    </tr>\n",
       "  </thead>\n",
       "  <tbody>\n",
       "    <tr>\n",
       "      <th>count</th>\n",
       "      <td>2.000000</td>\n",
       "      <td>2.000000</td>\n",
       "      <td>2.000000</td>\n",
       "      <td>2.000000</td>\n",
       "      <td>2.000000</td>\n",
       "      <td>2.000000</td>\n",
       "      <td>2.000000</td>\n",
       "    </tr>\n",
       "    <tr>\n",
       "      <th>mean</th>\n",
       "      <td>525.000000</td>\n",
       "      <td>23040.000000</td>\n",
       "      <td>1750.000000</td>\n",
       "      <td>1250.000000</td>\n",
       "      <td>175.000000</td>\n",
       "      <td>2.000000</td>\n",
       "      <td>2.000000</td>\n",
       "    </tr>\n",
       "    <tr>\n",
       "      <th>std</th>\n",
       "      <td>671.751442</td>\n",
       "      <td>10861.160159</td>\n",
       "      <td>1767.766953</td>\n",
       "      <td>989.949494</td>\n",
       "      <td>35.355339</td>\n",
       "      <td>1.414214</td>\n",
       "      <td>1.414214</td>\n",
       "    </tr>\n",
       "    <tr>\n",
       "      <th>min</th>\n",
       "      <td>50.000000</td>\n",
       "      <td>15360.000000</td>\n",
       "      <td>500.000000</td>\n",
       "      <td>550.000000</td>\n",
       "      <td>150.000000</td>\n",
       "      <td>1.000000</td>\n",
       "      <td>1.000000</td>\n",
       "    </tr>\n",
       "    <tr>\n",
       "      <th>25%</th>\n",
       "      <td>287.500000</td>\n",
       "      <td>19200.000000</td>\n",
       "      <td>1125.000000</td>\n",
       "      <td>900.000000</td>\n",
       "      <td>162.500000</td>\n",
       "      <td>1.500000</td>\n",
       "      <td>1.500000</td>\n",
       "    </tr>\n",
       "    <tr>\n",
       "      <th>50%</th>\n",
       "      <td>525.000000</td>\n",
       "      <td>23040.000000</td>\n",
       "      <td>1750.000000</td>\n",
       "      <td>1250.000000</td>\n",
       "      <td>175.000000</td>\n",
       "      <td>2.000000</td>\n",
       "      <td>2.000000</td>\n",
       "    </tr>\n",
       "    <tr>\n",
       "      <th>75%</th>\n",
       "      <td>762.500000</td>\n",
       "      <td>26880.000000</td>\n",
       "      <td>2375.000000</td>\n",
       "      <td>1600.000000</td>\n",
       "      <td>187.500000</td>\n",
       "      <td>2.500000</td>\n",
       "      <td>2.500000</td>\n",
       "    </tr>\n",
       "    <tr>\n",
       "      <th>max</th>\n",
       "      <td>1000.000000</td>\n",
       "      <td>30720.000000</td>\n",
       "      <td>3000.000000</td>\n",
       "      <td>1950.000000</td>\n",
       "      <td>200.000000</td>\n",
       "      <td>3.000000</td>\n",
       "      <td>3.000000</td>\n",
       "    </tr>\n",
       "  </tbody>\n",
       "</table>\n",
       "</div>"
      ],
      "text/plain": [
       "       messages_included  mb_per_month_included  minutes_included  \\\n",
       "count           2.000000               2.000000          2.000000   \n",
       "mean          525.000000           23040.000000       1750.000000   \n",
       "std           671.751442           10861.160159       1767.766953   \n",
       "min            50.000000           15360.000000        500.000000   \n",
       "25%           287.500000           19200.000000       1125.000000   \n",
       "50%           525.000000           23040.000000       1750.000000   \n",
       "75%           762.500000           26880.000000       2375.000000   \n",
       "max          1000.000000           30720.000000       3000.000000   \n",
       "\n",
       "       rub_monthly_fee  rub_per_gb  rub_per_message  rub_per_minute  \n",
       "count         2.000000    2.000000         2.000000        2.000000  \n",
       "mean       1250.000000  175.000000         2.000000        2.000000  \n",
       "std         989.949494   35.355339         1.414214        1.414214  \n",
       "min         550.000000  150.000000         1.000000        1.000000  \n",
       "25%         900.000000  162.500000         1.500000        1.500000  \n",
       "50%        1250.000000  175.000000         2.000000        2.000000  \n",
       "75%        1600.000000  187.500000         2.500000        2.500000  \n",
       "max        1950.000000  200.000000         3.000000        3.000000  "
      ]
     },
     "execution_count": 19,
     "metadata": {},
     "output_type": "execute_result"
    }
   ],
   "source": [
    "data_tariffs.describe()"
   ]
  },
  {
   "cell_type": "code",
   "execution_count": 20,
   "metadata": {},
   "outputs": [
    {
     "name": "stdout",
     "output_type": "stream",
     "text": [
      "<class 'pandas.core.frame.DataFrame'>\n",
      "RangeIndex: 2 entries, 0 to 1\n",
      "Data columns (total 8 columns):\n",
      " #   Column                 Non-Null Count  Dtype \n",
      "---  ------                 --------------  ----- \n",
      " 0   messages_included      2 non-null      int64 \n",
      " 1   mb_per_month_included  2 non-null      int64 \n",
      " 2   minutes_included       2 non-null      int64 \n",
      " 3   rub_monthly_fee        2 non-null      int64 \n",
      " 4   rub_per_gb             2 non-null      int64 \n",
      " 5   rub_per_message        2 non-null      int64 \n",
      " 6   rub_per_minute         2 non-null      int64 \n",
      " 7   tariff_name            2 non-null      object\n",
      "dtypes: int64(7), object(1)\n",
      "memory usage: 256.0+ bytes\n"
     ]
    }
   ],
   "source": [
    "data_tariffs.info()"
   ]
  },
  {
   "cell_type": "code",
   "execution_count": 21,
   "metadata": {},
   "outputs": [
    {
     "data": {
      "text/plain": [
       "0"
      ]
     },
     "execution_count": 21,
     "metadata": {},
     "output_type": "execute_result"
    }
   ],
   "source": [
    "data_tariffs.duplicated().sum()"
   ]
  },
  {
   "cell_type": "code",
   "execution_count": 22,
   "metadata": {},
   "outputs": [],
   "source": [
    "data_users = pd.read_csv('/datasets/users.csv')"
   ]
  },
  {
   "cell_type": "code",
   "execution_count": 23,
   "metadata": {},
   "outputs": [
    {
     "data": {
      "text/html": [
       "<div>\n",
       "<style scoped>\n",
       "    .dataframe tbody tr th:only-of-type {\n",
       "        vertical-align: middle;\n",
       "    }\n",
       "\n",
       "    .dataframe tbody tr th {\n",
       "        vertical-align: top;\n",
       "    }\n",
       "\n",
       "    .dataframe thead th {\n",
       "        text-align: right;\n",
       "    }\n",
       "</style>\n",
       "<table border=\"1\" class=\"dataframe\">\n",
       "  <thead>\n",
       "    <tr style=\"text-align: right;\">\n",
       "      <th></th>\n",
       "      <th>user_id</th>\n",
       "      <th>age</th>\n",
       "      <th>churn_date</th>\n",
       "      <th>city</th>\n",
       "      <th>first_name</th>\n",
       "      <th>last_name</th>\n",
       "      <th>reg_date</th>\n",
       "      <th>tariff</th>\n",
       "    </tr>\n",
       "  </thead>\n",
       "  <tbody>\n",
       "    <tr>\n",
       "      <th>0</th>\n",
       "      <td>1000</td>\n",
       "      <td>52</td>\n",
       "      <td>NaN</td>\n",
       "      <td>Краснодар</td>\n",
       "      <td>Рафаил</td>\n",
       "      <td>Верещагин</td>\n",
       "      <td>2018-05-25</td>\n",
       "      <td>ultra</td>\n",
       "    </tr>\n",
       "    <tr>\n",
       "      <th>1</th>\n",
       "      <td>1001</td>\n",
       "      <td>41</td>\n",
       "      <td>NaN</td>\n",
       "      <td>Москва</td>\n",
       "      <td>Иван</td>\n",
       "      <td>Ежов</td>\n",
       "      <td>2018-11-01</td>\n",
       "      <td>smart</td>\n",
       "    </tr>\n",
       "    <tr>\n",
       "      <th>2</th>\n",
       "      <td>1002</td>\n",
       "      <td>59</td>\n",
       "      <td>NaN</td>\n",
       "      <td>Стерлитамак</td>\n",
       "      <td>Евгений</td>\n",
       "      <td>Абрамович</td>\n",
       "      <td>2018-06-17</td>\n",
       "      <td>smart</td>\n",
       "    </tr>\n",
       "    <tr>\n",
       "      <th>3</th>\n",
       "      <td>1003</td>\n",
       "      <td>23</td>\n",
       "      <td>NaN</td>\n",
       "      <td>Москва</td>\n",
       "      <td>Белла</td>\n",
       "      <td>Белякова</td>\n",
       "      <td>2018-08-17</td>\n",
       "      <td>ultra</td>\n",
       "    </tr>\n",
       "    <tr>\n",
       "      <th>4</th>\n",
       "      <td>1004</td>\n",
       "      <td>68</td>\n",
       "      <td>NaN</td>\n",
       "      <td>Новокузнецк</td>\n",
       "      <td>Татьяна</td>\n",
       "      <td>Авдеенко</td>\n",
       "      <td>2018-05-14</td>\n",
       "      <td>ultra</td>\n",
       "    </tr>\n",
       "  </tbody>\n",
       "</table>\n",
       "</div>"
      ],
      "text/plain": [
       "   user_id  age churn_date         city first_name  last_name    reg_date  \\\n",
       "0     1000   52        NaN    Краснодар     Рафаил  Верещагин  2018-05-25   \n",
       "1     1001   41        NaN       Москва       Иван       Ежов  2018-11-01   \n",
       "2     1002   59        NaN  Стерлитамак    Евгений  Абрамович  2018-06-17   \n",
       "3     1003   23        NaN       Москва      Белла   Белякова  2018-08-17   \n",
       "4     1004   68        NaN  Новокузнецк    Татьяна   Авдеенко  2018-05-14   \n",
       "\n",
       "  tariff  \n",
       "0  ultra  \n",
       "1  smart  \n",
       "2  smart  \n",
       "3  ultra  \n",
       "4  ultra  "
      ]
     },
     "execution_count": 23,
     "metadata": {},
     "output_type": "execute_result"
    }
   ],
   "source": [
    "data_users.head()"
   ]
  },
  {
   "cell_type": "code",
   "execution_count": 24,
   "metadata": {},
   "outputs": [
    {
     "data": {
      "text/html": [
       "<div>\n",
       "<style scoped>\n",
       "    .dataframe tbody tr th:only-of-type {\n",
       "        vertical-align: middle;\n",
       "    }\n",
       "\n",
       "    .dataframe tbody tr th {\n",
       "        vertical-align: top;\n",
       "    }\n",
       "\n",
       "    .dataframe thead th {\n",
       "        text-align: right;\n",
       "    }\n",
       "</style>\n",
       "<table border=\"1\" class=\"dataframe\">\n",
       "  <thead>\n",
       "    <tr style=\"text-align: right;\">\n",
       "      <th></th>\n",
       "      <th>user_id</th>\n",
       "      <th>age</th>\n",
       "    </tr>\n",
       "  </thead>\n",
       "  <tbody>\n",
       "    <tr>\n",
       "      <th>count</th>\n",
       "      <td>500.000000</td>\n",
       "      <td>500.00000</td>\n",
       "    </tr>\n",
       "    <tr>\n",
       "      <th>mean</th>\n",
       "      <td>1249.500000</td>\n",
       "      <td>46.58800</td>\n",
       "    </tr>\n",
       "    <tr>\n",
       "      <th>std</th>\n",
       "      <td>144.481833</td>\n",
       "      <td>16.66763</td>\n",
       "    </tr>\n",
       "    <tr>\n",
       "      <th>min</th>\n",
       "      <td>1000.000000</td>\n",
       "      <td>18.00000</td>\n",
       "    </tr>\n",
       "    <tr>\n",
       "      <th>25%</th>\n",
       "      <td>1124.750000</td>\n",
       "      <td>32.00000</td>\n",
       "    </tr>\n",
       "    <tr>\n",
       "      <th>50%</th>\n",
       "      <td>1249.500000</td>\n",
       "      <td>46.00000</td>\n",
       "    </tr>\n",
       "    <tr>\n",
       "      <th>75%</th>\n",
       "      <td>1374.250000</td>\n",
       "      <td>62.00000</td>\n",
       "    </tr>\n",
       "    <tr>\n",
       "      <th>max</th>\n",
       "      <td>1499.000000</td>\n",
       "      <td>75.00000</td>\n",
       "    </tr>\n",
       "  </tbody>\n",
       "</table>\n",
       "</div>"
      ],
      "text/plain": [
       "           user_id        age\n",
       "count   500.000000  500.00000\n",
       "mean   1249.500000   46.58800\n",
       "std     144.481833   16.66763\n",
       "min    1000.000000   18.00000\n",
       "25%    1124.750000   32.00000\n",
       "50%    1249.500000   46.00000\n",
       "75%    1374.250000   62.00000\n",
       "max    1499.000000   75.00000"
      ]
     },
     "execution_count": 24,
     "metadata": {},
     "output_type": "execute_result"
    }
   ],
   "source": [
    "data_users.describe()"
   ]
  },
  {
   "cell_type": "code",
   "execution_count": 25,
   "metadata": {},
   "outputs": [
    {
     "name": "stdout",
     "output_type": "stream",
     "text": [
      "<class 'pandas.core.frame.DataFrame'>\n",
      "RangeIndex: 500 entries, 0 to 499\n",
      "Data columns (total 8 columns):\n",
      " #   Column      Non-Null Count  Dtype \n",
      "---  ------      --------------  ----- \n",
      " 0   user_id     500 non-null    int64 \n",
      " 1   age         500 non-null    int64 \n",
      " 2   churn_date  38 non-null     object\n",
      " 3   city        500 non-null    object\n",
      " 4   first_name  500 non-null    object\n",
      " 5   last_name   500 non-null    object\n",
      " 6   reg_date    500 non-null    object\n",
      " 7   tariff      500 non-null    object\n",
      "dtypes: int64(2), object(6)\n",
      "memory usage: 31.4+ KB\n"
     ]
    }
   ],
   "source": [
    "data_users.info()"
   ]
  },
  {
   "cell_type": "code",
   "execution_count": 26,
   "metadata": {},
   "outputs": [
    {
     "data": {
      "text/plain": [
       "0"
      ]
     },
     "execution_count": 26,
     "metadata": {},
     "output_type": "execute_result"
    }
   ],
   "source": [
    "data_users.duplicated().sum()"
   ]
  },
  {
   "cell_type": "markdown",
   "metadata": {},
   "source": [
    "### Вывод:"
   ]
  },
  {
   "cell_type": "markdown",
   "metadata": {},
   "source": [
    "В датафрейме data_users встречаются пропуски. Столбец call_date в датафрейме data_calls, столбец session_date в датафрейме data_internet и столбцы reg_date, churn_date в датафрейме data_users имеют неверный тип."
   ]
  },
  {
   "cell_type": "markdown",
   "metadata": {},
   "source": [
    "## Предобработка данных"
   ]
  },
  {
   "cell_type": "markdown",
   "metadata": {},
   "source": [
    "Добавим столбец с включенным количеством гигабайт для каждого тарифа:"
   ]
  },
  {
   "cell_type": "code",
   "execution_count": 27,
   "metadata": {},
   "outputs": [
    {
     "data": {
      "text/html": [
       "<div>\n",
       "<style scoped>\n",
       "    .dataframe tbody tr th:only-of-type {\n",
       "        vertical-align: middle;\n",
       "    }\n",
       "\n",
       "    .dataframe tbody tr th {\n",
       "        vertical-align: top;\n",
       "    }\n",
       "\n",
       "    .dataframe thead th {\n",
       "        text-align: right;\n",
       "    }\n",
       "</style>\n",
       "<table border=\"1\" class=\"dataframe\">\n",
       "  <thead>\n",
       "    <tr style=\"text-align: right;\">\n",
       "      <th></th>\n",
       "      <th>messages_included</th>\n",
       "      <th>mb_per_month_included</th>\n",
       "      <th>minutes_included</th>\n",
       "      <th>rub_monthly_fee</th>\n",
       "      <th>rub_per_gb</th>\n",
       "      <th>rub_per_message</th>\n",
       "      <th>rub_per_minute</th>\n",
       "      <th>tariff</th>\n",
       "      <th>gb_included</th>\n",
       "    </tr>\n",
       "  </thead>\n",
       "  <tbody>\n",
       "    <tr>\n",
       "      <th>0</th>\n",
       "      <td>50</td>\n",
       "      <td>15360</td>\n",
       "      <td>500</td>\n",
       "      <td>550</td>\n",
       "      <td>200</td>\n",
       "      <td>3</td>\n",
       "      <td>3</td>\n",
       "      <td>smart</td>\n",
       "      <td>15.0</td>\n",
       "    </tr>\n",
       "    <tr>\n",
       "      <th>1</th>\n",
       "      <td>1000</td>\n",
       "      <td>30720</td>\n",
       "      <td>3000</td>\n",
       "      <td>1950</td>\n",
       "      <td>150</td>\n",
       "      <td>1</td>\n",
       "      <td>1</td>\n",
       "      <td>ultra</td>\n",
       "      <td>30.0</td>\n",
       "    </tr>\n",
       "  </tbody>\n",
       "</table>\n",
       "</div>"
      ],
      "text/plain": [
       "   messages_included  mb_per_month_included  minutes_included  \\\n",
       "0                 50                  15360               500   \n",
       "1               1000                  30720              3000   \n",
       "\n",
       "   rub_monthly_fee  rub_per_gb  rub_per_message  rub_per_minute tariff  \\\n",
       "0              550         200                3               3  smart   \n",
       "1             1950         150                1               1  ultra   \n",
       "\n",
       "   gb_included  \n",
       "0         15.0  \n",
       "1         30.0  "
      ]
     },
     "execution_count": 27,
     "metadata": {},
     "output_type": "execute_result"
    }
   ],
   "source": [
    "data_tariffs = data_tariffs.rename(columns={'tariff_name': 'tariff'})\n",
    "data_tariffs['gb_included'] = data_tariffs['mb_per_month_included'] / 1024\n",
    "data_tariffs.head()"
   ]
  },
  {
   "cell_type": "markdown",
   "metadata": {},
   "source": [
    "Приведем данные в столбцах с датами к нужному типу:"
   ]
  },
  {
   "cell_type": "code",
   "execution_count": 28,
   "metadata": {},
   "outputs": [],
   "source": [
    "data_calls['call_date'] = pd.to_datetime(data_calls['call_date'], format='%Y-%m-%d')"
   ]
  },
  {
   "cell_type": "code",
   "execution_count": 29,
   "metadata": {},
   "outputs": [
    {
     "name": "stdout",
     "output_type": "stream",
     "text": [
      "<class 'pandas.core.frame.DataFrame'>\n",
      "RangeIndex: 202607 entries, 0 to 202606\n",
      "Data columns (total 4 columns):\n",
      " #   Column     Non-Null Count   Dtype         \n",
      "---  ------     --------------   -----         \n",
      " 0   id         202607 non-null  object        \n",
      " 1   call_date  202607 non-null  datetime64[ns]\n",
      " 2   duration   202607 non-null  float64       \n",
      " 3   user_id    202607 non-null  int64         \n",
      "dtypes: datetime64[ns](1), float64(1), int64(1), object(1)\n",
      "memory usage: 6.2+ MB\n"
     ]
    }
   ],
   "source": [
    "data_calls.info()"
   ]
  },
  {
   "cell_type": "code",
   "execution_count": 30,
   "metadata": {},
   "outputs": [],
   "source": [
    "data_internet['session_date'] = pd.to_datetime(data_internet['session_date'], format='%Y-%m-%d')"
   ]
  },
  {
   "cell_type": "code",
   "execution_count": 31,
   "metadata": {},
   "outputs": [
    {
     "name": "stdout",
     "output_type": "stream",
     "text": [
      "<class 'pandas.core.frame.DataFrame'>\n",
      "RangeIndex: 149396 entries, 0 to 149395\n",
      "Data columns (total 5 columns):\n",
      " #   Column        Non-Null Count   Dtype         \n",
      "---  ------        --------------   -----         \n",
      " 0   Unnamed: 0    149396 non-null  int64         \n",
      " 1   id            149396 non-null  object        \n",
      " 2   mb_used       149396 non-null  float64       \n",
      " 3   session_date  149396 non-null  datetime64[ns]\n",
      " 4   user_id       149396 non-null  int64         \n",
      "dtypes: datetime64[ns](1), float64(1), int64(2), object(1)\n",
      "memory usage: 5.7+ MB\n"
     ]
    }
   ],
   "source": [
    "data_internet.info()"
   ]
  },
  {
   "cell_type": "code",
   "execution_count": 32,
   "metadata": {},
   "outputs": [],
   "source": [
    "data_users['reg_date'] = pd.to_datetime(data_users['reg_date'], format='%Y-%m-%d')\n",
    "data_users['churn_date'] = pd.to_datetime(data_users['churn_date'], format='%Y-%m-%d')"
   ]
  },
  {
   "cell_type": "code",
   "execution_count": 33,
   "metadata": {},
   "outputs": [
    {
     "name": "stdout",
     "output_type": "stream",
     "text": [
      "<class 'pandas.core.frame.DataFrame'>\n",
      "RangeIndex: 500 entries, 0 to 499\n",
      "Data columns (total 8 columns):\n",
      " #   Column      Non-Null Count  Dtype         \n",
      "---  ------      --------------  -----         \n",
      " 0   user_id     500 non-null    int64         \n",
      " 1   age         500 non-null    int64         \n",
      " 2   churn_date  38 non-null     datetime64[ns]\n",
      " 3   city        500 non-null    object        \n",
      " 4   first_name  500 non-null    object        \n",
      " 5   last_name   500 non-null    object        \n",
      " 6   reg_date    500 non-null    datetime64[ns]\n",
      " 7   tariff      500 non-null    object        \n",
      "dtypes: datetime64[ns](2), int64(2), object(4)\n",
      "memory usage: 31.4+ KB\n"
     ]
    }
   ],
   "source": [
    "data_users.info()"
   ]
  },
  {
   "cell_type": "markdown",
   "metadata": {},
   "source": [
    "Заменим пропуски в столбце churn_date датафрейма data_users на \"active\""
   ]
  },
  {
   "cell_type": "code",
   "execution_count": 34,
   "metadata": {},
   "outputs": [],
   "source": [
    "data_users['churn_date'] = data_users['churn_date'].fillna('active')"
   ]
  },
  {
   "cell_type": "code",
   "execution_count": 35,
   "metadata": {},
   "outputs": [
    {
     "name": "stdout",
     "output_type": "stream",
     "text": [
      "<class 'pandas.core.frame.DataFrame'>\n",
      "RangeIndex: 500 entries, 0 to 499\n",
      "Data columns (total 8 columns):\n",
      " #   Column      Non-Null Count  Dtype         \n",
      "---  ------      --------------  -----         \n",
      " 0   user_id     500 non-null    int64         \n",
      " 1   age         500 non-null    int64         \n",
      " 2   churn_date  500 non-null    object        \n",
      " 3   city        500 non-null    object        \n",
      " 4   first_name  500 non-null    object        \n",
      " 5   last_name   500 non-null    object        \n",
      " 6   reg_date    500 non-null    datetime64[ns]\n",
      " 7   tariff      500 non-null    object        \n",
      "dtypes: datetime64[ns](1), int64(2), object(5)\n",
      "memory usage: 31.4+ KB\n"
     ]
    }
   ],
   "source": [
    "data_users.info()"
   ]
  },
  {
   "cell_type": "markdown",
   "metadata": {},
   "source": [
    "Добавим столбец с месяцами в датафрейм data_calls:"
   ]
  },
  {
   "cell_type": "code",
   "execution_count": 36,
   "metadata": {},
   "outputs": [
    {
     "data": {
      "text/html": [
       "<div>\n",
       "<style scoped>\n",
       "    .dataframe tbody tr th:only-of-type {\n",
       "        vertical-align: middle;\n",
       "    }\n",
       "\n",
       "    .dataframe tbody tr th {\n",
       "        vertical-align: top;\n",
       "    }\n",
       "\n",
       "    .dataframe thead th {\n",
       "        text-align: right;\n",
       "    }\n",
       "</style>\n",
       "<table border=\"1\" class=\"dataframe\">\n",
       "  <thead>\n",
       "    <tr style=\"text-align: right;\">\n",
       "      <th></th>\n",
       "      <th>id</th>\n",
       "      <th>call_date</th>\n",
       "      <th>duration</th>\n",
       "      <th>user_id</th>\n",
       "      <th>month</th>\n",
       "    </tr>\n",
       "  </thead>\n",
       "  <tbody>\n",
       "    <tr>\n",
       "      <th>0</th>\n",
       "      <td>1000_0</td>\n",
       "      <td>2018-07-25</td>\n",
       "      <td>0.00</td>\n",
       "      <td>1000</td>\n",
       "      <td>7</td>\n",
       "    </tr>\n",
       "    <tr>\n",
       "      <th>1</th>\n",
       "      <td>1000_1</td>\n",
       "      <td>2018-08-17</td>\n",
       "      <td>0.00</td>\n",
       "      <td>1000</td>\n",
       "      <td>8</td>\n",
       "    </tr>\n",
       "    <tr>\n",
       "      <th>2</th>\n",
       "      <td>1000_2</td>\n",
       "      <td>2018-06-11</td>\n",
       "      <td>2.85</td>\n",
       "      <td>1000</td>\n",
       "      <td>6</td>\n",
       "    </tr>\n",
       "    <tr>\n",
       "      <th>3</th>\n",
       "      <td>1000_3</td>\n",
       "      <td>2018-09-21</td>\n",
       "      <td>13.80</td>\n",
       "      <td>1000</td>\n",
       "      <td>9</td>\n",
       "    </tr>\n",
       "    <tr>\n",
       "      <th>4</th>\n",
       "      <td>1000_4</td>\n",
       "      <td>2018-12-15</td>\n",
       "      <td>5.18</td>\n",
       "      <td>1000</td>\n",
       "      <td>12</td>\n",
       "    </tr>\n",
       "  </tbody>\n",
       "</table>\n",
       "</div>"
      ],
      "text/plain": [
       "       id  call_date  duration  user_id  month\n",
       "0  1000_0 2018-07-25      0.00     1000      7\n",
       "1  1000_1 2018-08-17      0.00     1000      8\n",
       "2  1000_2 2018-06-11      2.85     1000      6\n",
       "3  1000_3 2018-09-21     13.80     1000      9\n",
       "4  1000_4 2018-12-15      5.18     1000     12"
      ]
     },
     "execution_count": 36,
     "metadata": {},
     "output_type": "execute_result"
    }
   ],
   "source": [
    "data_calls['month'] = pd.DatetimeIndex(data_calls['call_date']).month\n",
    "data_calls.head()"
   ]
  },
  {
   "cell_type": "markdown",
   "metadata": {},
   "source": [
    "Округлим длительность звонка в большую сторону:"
   ]
  },
  {
   "cell_type": "code",
   "execution_count": 37,
   "metadata": {},
   "outputs": [
    {
     "data": {
      "text/html": [
       "<div>\n",
       "<style scoped>\n",
       "    .dataframe tbody tr th:only-of-type {\n",
       "        vertical-align: middle;\n",
       "    }\n",
       "\n",
       "    .dataframe tbody tr th {\n",
       "        vertical-align: top;\n",
       "    }\n",
       "\n",
       "    .dataframe thead th {\n",
       "        text-align: right;\n",
       "    }\n",
       "</style>\n",
       "<table border=\"1\" class=\"dataframe\">\n",
       "  <thead>\n",
       "    <tr style=\"text-align: right;\">\n",
       "      <th></th>\n",
       "      <th>id</th>\n",
       "      <th>call_date</th>\n",
       "      <th>duration</th>\n",
       "      <th>user_id</th>\n",
       "      <th>month</th>\n",
       "    </tr>\n",
       "  </thead>\n",
       "  <tbody>\n",
       "    <tr>\n",
       "      <th>0</th>\n",
       "      <td>1000_0</td>\n",
       "      <td>2018-07-25</td>\n",
       "      <td>0.0</td>\n",
       "      <td>1000</td>\n",
       "      <td>7</td>\n",
       "    </tr>\n",
       "    <tr>\n",
       "      <th>1</th>\n",
       "      <td>1000_1</td>\n",
       "      <td>2018-08-17</td>\n",
       "      <td>0.0</td>\n",
       "      <td>1000</td>\n",
       "      <td>8</td>\n",
       "    </tr>\n",
       "    <tr>\n",
       "      <th>2</th>\n",
       "      <td>1000_2</td>\n",
       "      <td>2018-06-11</td>\n",
       "      <td>3.0</td>\n",
       "      <td>1000</td>\n",
       "      <td>6</td>\n",
       "    </tr>\n",
       "    <tr>\n",
       "      <th>3</th>\n",
       "      <td>1000_3</td>\n",
       "      <td>2018-09-21</td>\n",
       "      <td>14.0</td>\n",
       "      <td>1000</td>\n",
       "      <td>9</td>\n",
       "    </tr>\n",
       "    <tr>\n",
       "      <th>4</th>\n",
       "      <td>1000_4</td>\n",
       "      <td>2018-12-15</td>\n",
       "      <td>6.0</td>\n",
       "      <td>1000</td>\n",
       "      <td>12</td>\n",
       "    </tr>\n",
       "  </tbody>\n",
       "</table>\n",
       "</div>"
      ],
      "text/plain": [
       "       id  call_date  duration  user_id  month\n",
       "0  1000_0 2018-07-25       0.0     1000      7\n",
       "1  1000_1 2018-08-17       0.0     1000      8\n",
       "2  1000_2 2018-06-11       3.0     1000      6\n",
       "3  1000_3 2018-09-21      14.0     1000      9\n",
       "4  1000_4 2018-12-15       6.0     1000     12"
      ]
     },
     "execution_count": 37,
     "metadata": {},
     "output_type": "execute_result"
    }
   ],
   "source": [
    "data_calls['duration'] = np.ceil(data_calls['duration'])\n",
    "data_calls.head()"
   ]
  },
  {
   "cell_type": "markdown",
   "metadata": {},
   "source": [
    "Создадим сводную таблицу с длительностью звонков по месяцам:"
   ]
  },
  {
   "cell_type": "code",
   "execution_count": 38,
   "metadata": {},
   "outputs": [
    {
     "data": {
      "text/html": [
       "<div>\n",
       "<style scoped>\n",
       "    .dataframe tbody tr th:only-of-type {\n",
       "        vertical-align: middle;\n",
       "    }\n",
       "\n",
       "    .dataframe tbody tr th {\n",
       "        vertical-align: top;\n",
       "    }\n",
       "\n",
       "    .dataframe thead th {\n",
       "        text-align: right;\n",
       "    }\n",
       "</style>\n",
       "<table border=\"1\" class=\"dataframe\">\n",
       "  <thead>\n",
       "    <tr style=\"text-align: right;\">\n",
       "      <th></th>\n",
       "      <th>user_id</th>\n",
       "      <th>month</th>\n",
       "      <th>duration_calls</th>\n",
       "    </tr>\n",
       "  </thead>\n",
       "  <tbody>\n",
       "    <tr>\n",
       "      <th>0</th>\n",
       "      <td>1000</td>\n",
       "      <td>5</td>\n",
       "      <td>159</td>\n",
       "    </tr>\n",
       "    <tr>\n",
       "      <th>1</th>\n",
       "      <td>1000</td>\n",
       "      <td>6</td>\n",
       "      <td>172</td>\n",
       "    </tr>\n",
       "    <tr>\n",
       "      <th>2</th>\n",
       "      <td>1000</td>\n",
       "      <td>7</td>\n",
       "      <td>340</td>\n",
       "    </tr>\n",
       "    <tr>\n",
       "      <th>3</th>\n",
       "      <td>1000</td>\n",
       "      <td>8</td>\n",
       "      <td>408</td>\n",
       "    </tr>\n",
       "    <tr>\n",
       "      <th>4</th>\n",
       "      <td>1000</td>\n",
       "      <td>9</td>\n",
       "      <td>466</td>\n",
       "    </tr>\n",
       "  </tbody>\n",
       "</table>\n",
       "</div>"
      ],
      "text/plain": [
       "   user_id  month  duration_calls\n",
       "0     1000      5             159\n",
       "1     1000      6             172\n",
       "2     1000      7             340\n",
       "3     1000      8             408\n",
       "4     1000      9             466"
      ]
     },
     "execution_count": 38,
     "metadata": {},
     "output_type": "execute_result"
    }
   ],
   "source": [
    "data_calls_pivot_sum = data_calls.pivot_table(index=['user_id', 'month'], values='duration', aggfunc='sum').reset_index().astype('int')\n",
    "data_calls_pivot_sum = data_calls_pivot_sum.rename(columns={'duration' :'duration_calls'})\n",
    "data_calls_pivot_sum.head()"
   ]
  },
  {
   "cell_type": "markdown",
   "metadata": {},
   "source": [
    "Создадим сводную таблицу с количеством сделанных звонков:"
   ]
  },
  {
   "cell_type": "code",
   "execution_count": 39,
   "metadata": {},
   "outputs": [
    {
     "data": {
      "text/html": [
       "<div>\n",
       "<style scoped>\n",
       "    .dataframe tbody tr th:only-of-type {\n",
       "        vertical-align: middle;\n",
       "    }\n",
       "\n",
       "    .dataframe tbody tr th {\n",
       "        vertical-align: top;\n",
       "    }\n",
       "\n",
       "    .dataframe thead th {\n",
       "        text-align: right;\n",
       "    }\n",
       "</style>\n",
       "<table border=\"1\" class=\"dataframe\">\n",
       "  <thead>\n",
       "    <tr style=\"text-align: right;\">\n",
       "      <th></th>\n",
       "      <th>user_id</th>\n",
       "      <th>month</th>\n",
       "      <th>amount_of_calls</th>\n",
       "    </tr>\n",
       "  </thead>\n",
       "  <tbody>\n",
       "    <tr>\n",
       "      <th>0</th>\n",
       "      <td>1000</td>\n",
       "      <td>5</td>\n",
       "      <td>22</td>\n",
       "    </tr>\n",
       "    <tr>\n",
       "      <th>1</th>\n",
       "      <td>1000</td>\n",
       "      <td>6</td>\n",
       "      <td>43</td>\n",
       "    </tr>\n",
       "    <tr>\n",
       "      <th>2</th>\n",
       "      <td>1000</td>\n",
       "      <td>7</td>\n",
       "      <td>47</td>\n",
       "    </tr>\n",
       "    <tr>\n",
       "      <th>3</th>\n",
       "      <td>1000</td>\n",
       "      <td>8</td>\n",
       "      <td>52</td>\n",
       "    </tr>\n",
       "    <tr>\n",
       "      <th>4</th>\n",
       "      <td>1000</td>\n",
       "      <td>9</td>\n",
       "      <td>58</td>\n",
       "    </tr>\n",
       "  </tbody>\n",
       "</table>\n",
       "</div>"
      ],
      "text/plain": [
       "   user_id  month  amount_of_calls\n",
       "0     1000      5               22\n",
       "1     1000      6               43\n",
       "2     1000      7               47\n",
       "3     1000      8               52\n",
       "4     1000      9               58"
      ]
     },
     "execution_count": 39,
     "metadata": {},
     "output_type": "execute_result"
    }
   ],
   "source": [
    "data_calls_pivot_count = data_calls.pivot_table(index=['user_id', 'month'], values='id', aggfunc='count').reset_index()\n",
    "data_calls_pivot_count = data_calls_pivot_count.rename(columns={'id' :'amount_of_calls'})\n",
    "data_calls_pivot_count.head()"
   ]
  },
  {
   "cell_type": "markdown",
   "metadata": {},
   "source": [
    "Добавим столбец с месяцами в датафрейм data_internet:"
   ]
  },
  {
   "cell_type": "code",
   "execution_count": 40,
   "metadata": {},
   "outputs": [
    {
     "data": {
      "text/html": [
       "<div>\n",
       "<style scoped>\n",
       "    .dataframe tbody tr th:only-of-type {\n",
       "        vertical-align: middle;\n",
       "    }\n",
       "\n",
       "    .dataframe tbody tr th {\n",
       "        vertical-align: top;\n",
       "    }\n",
       "\n",
       "    .dataframe thead th {\n",
       "        text-align: right;\n",
       "    }\n",
       "</style>\n",
       "<table border=\"1\" class=\"dataframe\">\n",
       "  <thead>\n",
       "    <tr style=\"text-align: right;\">\n",
       "      <th></th>\n",
       "      <th>Unnamed: 0</th>\n",
       "      <th>id</th>\n",
       "      <th>mb_used</th>\n",
       "      <th>session_date</th>\n",
       "      <th>user_id</th>\n",
       "      <th>month</th>\n",
       "    </tr>\n",
       "  </thead>\n",
       "  <tbody>\n",
       "    <tr>\n",
       "      <th>0</th>\n",
       "      <td>0</td>\n",
       "      <td>1000_0</td>\n",
       "      <td>112.95</td>\n",
       "      <td>2018-11-25</td>\n",
       "      <td>1000</td>\n",
       "      <td>11</td>\n",
       "    </tr>\n",
       "    <tr>\n",
       "      <th>1</th>\n",
       "      <td>1</td>\n",
       "      <td>1000_1</td>\n",
       "      <td>1052.81</td>\n",
       "      <td>2018-09-07</td>\n",
       "      <td>1000</td>\n",
       "      <td>9</td>\n",
       "    </tr>\n",
       "    <tr>\n",
       "      <th>2</th>\n",
       "      <td>2</td>\n",
       "      <td>1000_2</td>\n",
       "      <td>1197.26</td>\n",
       "      <td>2018-06-25</td>\n",
       "      <td>1000</td>\n",
       "      <td>6</td>\n",
       "    </tr>\n",
       "    <tr>\n",
       "      <th>3</th>\n",
       "      <td>3</td>\n",
       "      <td>1000_3</td>\n",
       "      <td>550.27</td>\n",
       "      <td>2018-08-22</td>\n",
       "      <td>1000</td>\n",
       "      <td>8</td>\n",
       "    </tr>\n",
       "    <tr>\n",
       "      <th>4</th>\n",
       "      <td>4</td>\n",
       "      <td>1000_4</td>\n",
       "      <td>302.56</td>\n",
       "      <td>2018-09-24</td>\n",
       "      <td>1000</td>\n",
       "      <td>9</td>\n",
       "    </tr>\n",
       "  </tbody>\n",
       "</table>\n",
       "</div>"
      ],
      "text/plain": [
       "   Unnamed: 0      id  mb_used session_date  user_id  month\n",
       "0           0  1000_0   112.95   2018-11-25     1000     11\n",
       "1           1  1000_1  1052.81   2018-09-07     1000      9\n",
       "2           2  1000_2  1197.26   2018-06-25     1000      6\n",
       "3           3  1000_3   550.27   2018-08-22     1000      8\n",
       "4           4  1000_4   302.56   2018-09-24     1000      9"
      ]
     },
     "execution_count": 40,
     "metadata": {},
     "output_type": "execute_result"
    }
   ],
   "source": [
    "data_internet['month'] = pd.DatetimeIndex(data_internet['session_date']).month\n",
    "data_internet.head()"
   ]
  },
  {
   "cell_type": "code",
   "execution_count": 41,
   "metadata": {},
   "outputs": [
    {
     "name": "stdout",
     "output_type": "stream",
     "text": [
      "Нулевых интернет-сессий: 0.13 %\n"
     ]
    },
    {
     "data": {
      "image/png": "[encoded data removed]",
      "text/plain": [
       "<Figure size 432x288 with 1 Axes>"
      ]
     },
     "metadata": {
      "needs_background": "light"
     },
     "output_type": "display_data"
    }
   ],
   "source": [
    "# Комментарий ревьюера 2\n",
    "temp = data_internet.copy()\n",
    "temp['mb_used'].hist(bins = 50)\n",
    "print('Нулевых интернет-сессий:',round(temp['mb_used'].value_counts().sort_index()[0]/temp['mb_used'].count(),2), '%')"
   ]
  },
  {
   "cell_type": "markdown",
   "metadata": {},
   "source": [
    "Создадим сводную таблицу с использованным трафиком, так же добавим столбец с количеством израсходованных гигабайт, с округлением в большую сторону:"
   ]
  },
  {
   "cell_type": "code",
   "execution_count": 42,
   "metadata": {},
   "outputs": [
    {
     "data": {
      "text/html": [
       "<div>\n",
       "<style scoped>\n",
       "    .dataframe tbody tr th:only-of-type {\n",
       "        vertical-align: middle;\n",
       "    }\n",
       "\n",
       "    .dataframe tbody tr th {\n",
       "        vertical-align: top;\n",
       "    }\n",
       "\n",
       "    .dataframe thead th {\n",
       "        text-align: right;\n",
       "    }\n",
       "</style>\n",
       "<table border=\"1\" class=\"dataframe\">\n",
       "  <thead>\n",
       "    <tr style=\"text-align: right;\">\n",
       "      <th></th>\n",
       "      <th>user_id</th>\n",
       "      <th>month</th>\n",
       "      <th>mb_used</th>\n",
       "      <th>gb_used</th>\n",
       "    </tr>\n",
       "  </thead>\n",
       "  <tbody>\n",
       "    <tr>\n",
       "      <th>0</th>\n",
       "      <td>1000</td>\n",
       "      <td>5</td>\n",
       "      <td>2253.49</td>\n",
       "      <td>3</td>\n",
       "    </tr>\n",
       "    <tr>\n",
       "      <th>1</th>\n",
       "      <td>1000</td>\n",
       "      <td>6</td>\n",
       "      <td>23233.77</td>\n",
       "      <td>23</td>\n",
       "    </tr>\n",
       "    <tr>\n",
       "      <th>2</th>\n",
       "      <td>1000</td>\n",
       "      <td>7</td>\n",
       "      <td>14003.64</td>\n",
       "      <td>14</td>\n",
       "    </tr>\n",
       "    <tr>\n",
       "      <th>3</th>\n",
       "      <td>1000</td>\n",
       "      <td>8</td>\n",
       "      <td>14055.93</td>\n",
       "      <td>14</td>\n",
       "    </tr>\n",
       "    <tr>\n",
       "      <th>4</th>\n",
       "      <td>1000</td>\n",
       "      <td>9</td>\n",
       "      <td>14568.91</td>\n",
       "      <td>15</td>\n",
       "    </tr>\n",
       "  </tbody>\n",
       "</table>\n",
       "</div>"
      ],
      "text/plain": [
       "   user_id  month   mb_used  gb_used\n",
       "0     1000      5   2253.49        3\n",
       "1     1000      6  23233.77       23\n",
       "2     1000      7  14003.64       14\n",
       "3     1000      8  14055.93       14\n",
       "4     1000      9  14568.91       15"
      ]
     },
     "execution_count": 42,
     "metadata": {},
     "output_type": "execute_result"
    }
   ],
   "source": [
    "data_internet_pivot = data_internet.pivot_table(index=['user_id', 'month'], values='mb_used', aggfunc='sum').reset_index()\n",
    "data_internet_pivot['gb_used'] = np.ceil(data_internet_pivot['mb_used'] / 1024).astype('int')\n",
    "data_internet_pivot.head()"
   ]
  },
  {
   "cell_type": "code",
   "execution_count": 43,
   "metadata": {},
   "outputs": [
    {
     "data": {
      "image/png": "[encoded data removed]",
      "text/plain": [
       "<Figure size 432x288 with 1 Axes>"
      ]
     },
     "metadata": {
      "needs_background": "light"
     },
     "output_type": "display_data"
    }
   ],
   "source": [
    "data_internet_pivot['gb_used'].hist(bins=30)\n",
    "plt.show()"
   ]
  },
  {
   "cell_type": "markdown",
   "metadata": {},
   "source": [
    "На гистограмме видно отсутсвие аномалий по интернет трафику."
   ]
  },
  {
   "cell_type": "markdown",
   "metadata": {},
   "source": [
    "Добавим столбец с месяцами в датафрейм data_messages:"
   ]
  },
  {
   "cell_type": "code",
   "execution_count": 44,
   "metadata": {},
   "outputs": [
    {
     "data": {
      "text/html": [
       "<div>\n",
       "<style scoped>\n",
       "    .dataframe tbody tr th:only-of-type {\n",
       "        vertical-align: middle;\n",
       "    }\n",
       "\n",
       "    .dataframe tbody tr th {\n",
       "        vertical-align: top;\n",
       "    }\n",
       "\n",
       "    .dataframe thead th {\n",
       "        text-align: right;\n",
       "    }\n",
       "</style>\n",
       "<table border=\"1\" class=\"dataframe\">\n",
       "  <thead>\n",
       "    <tr style=\"text-align: right;\">\n",
       "      <th></th>\n",
       "      <th>id</th>\n",
       "      <th>message_date</th>\n",
       "      <th>user_id</th>\n",
       "      <th>month</th>\n",
       "    </tr>\n",
       "  </thead>\n",
       "  <tbody>\n",
       "    <tr>\n",
       "      <th>0</th>\n",
       "      <td>1000_0</td>\n",
       "      <td>2018-06-27</td>\n",
       "      <td>1000</td>\n",
       "      <td>6</td>\n",
       "    </tr>\n",
       "    <tr>\n",
       "      <th>1</th>\n",
       "      <td>1000_1</td>\n",
       "      <td>2018-10-08</td>\n",
       "      <td>1000</td>\n",
       "      <td>10</td>\n",
       "    </tr>\n",
       "    <tr>\n",
       "      <th>2</th>\n",
       "      <td>1000_2</td>\n",
       "      <td>2018-08-04</td>\n",
       "      <td>1000</td>\n",
       "      <td>8</td>\n",
       "    </tr>\n",
       "    <tr>\n",
       "      <th>3</th>\n",
       "      <td>1000_3</td>\n",
       "      <td>2018-06-16</td>\n",
       "      <td>1000</td>\n",
       "      <td>6</td>\n",
       "    </tr>\n",
       "    <tr>\n",
       "      <th>4</th>\n",
       "      <td>1000_4</td>\n",
       "      <td>2018-12-05</td>\n",
       "      <td>1000</td>\n",
       "      <td>12</td>\n",
       "    </tr>\n",
       "  </tbody>\n",
       "</table>\n",
       "</div>"
      ],
      "text/plain": [
       "       id message_date  user_id  month\n",
       "0  1000_0   2018-06-27     1000      6\n",
       "1  1000_1   2018-10-08     1000     10\n",
       "2  1000_2   2018-08-04     1000      8\n",
       "3  1000_3   2018-06-16     1000      6\n",
       "4  1000_4   2018-12-05     1000     12"
      ]
     },
     "execution_count": 44,
     "metadata": {},
     "output_type": "execute_result"
    }
   ],
   "source": [
    "data_messages['month'] = pd.DatetimeIndex(data_messages['message_date']).month\n",
    "data_messages.head()"
   ]
  },
  {
   "cell_type": "markdown",
   "metadata": {},
   "source": [
    "Создадим сводную таблицу с количеством отправленных сообщений:"
   ]
  },
  {
   "cell_type": "code",
   "execution_count": 45,
   "metadata": {},
   "outputs": [
    {
     "data": {
      "text/html": [
       "<div>\n",
       "<style scoped>\n",
       "    .dataframe tbody tr th:only-of-type {\n",
       "        vertical-align: middle;\n",
       "    }\n",
       "\n",
       "    .dataframe tbody tr th {\n",
       "        vertical-align: top;\n",
       "    }\n",
       "\n",
       "    .dataframe thead th {\n",
       "        text-align: right;\n",
       "    }\n",
       "</style>\n",
       "<table border=\"1\" class=\"dataframe\">\n",
       "  <thead>\n",
       "    <tr style=\"text-align: right;\">\n",
       "      <th></th>\n",
       "      <th>user_id</th>\n",
       "      <th>month</th>\n",
       "      <th>ammount_of_messages</th>\n",
       "    </tr>\n",
       "  </thead>\n",
       "  <tbody>\n",
       "    <tr>\n",
       "      <th>0</th>\n",
       "      <td>1000</td>\n",
       "      <td>5</td>\n",
       "      <td>22</td>\n",
       "    </tr>\n",
       "    <tr>\n",
       "      <th>1</th>\n",
       "      <td>1000</td>\n",
       "      <td>6</td>\n",
       "      <td>60</td>\n",
       "    </tr>\n",
       "    <tr>\n",
       "      <th>2</th>\n",
       "      <td>1000</td>\n",
       "      <td>7</td>\n",
       "      <td>75</td>\n",
       "    </tr>\n",
       "    <tr>\n",
       "      <th>3</th>\n",
       "      <td>1000</td>\n",
       "      <td>8</td>\n",
       "      <td>81</td>\n",
       "    </tr>\n",
       "    <tr>\n",
       "      <th>4</th>\n",
       "      <td>1000</td>\n",
       "      <td>9</td>\n",
       "      <td>57</td>\n",
       "    </tr>\n",
       "  </tbody>\n",
       "</table>\n",
       "</div>"
      ],
      "text/plain": [
       "   user_id  month  ammount_of_messages\n",
       "0     1000      5                   22\n",
       "1     1000      6                   60\n",
       "2     1000      7                   75\n",
       "3     1000      8                   81\n",
       "4     1000      9                   57"
      ]
     },
     "execution_count": 45,
     "metadata": {},
     "output_type": "execute_result"
    }
   ],
   "source": [
    "data_messages_pivot = data_messages.pivot_table(index=['user_id', 'month'], values='id', aggfunc='count').reset_index().astype('int')\n",
    "data_messages_pivot = data_messages_pivot.rename(columns={'id' :'ammount_of_messages'})\n",
    "data_messages_pivot.head()\n"
   ]
  },
  {
   "cell_type": "markdown",
   "metadata": {},
   "source": [
    "Методом merge, создадим финальный датафрейм:"
   ]
  },
  {
   "cell_type": "code",
   "execution_count": 46,
   "metadata": {},
   "outputs": [
    {
     "data": {
      "text/html": [
       "<div>\n",
       "<style scoped>\n",
       "    .dataframe tbody tr th:only-of-type {\n",
       "        vertical-align: middle;\n",
       "    }\n",
       "\n",
       "    .dataframe tbody tr th {\n",
       "        vertical-align: top;\n",
       "    }\n",
       "\n",
       "    .dataframe thead th {\n",
       "        text-align: right;\n",
       "    }\n",
       "</style>\n",
       "<table border=\"1\" class=\"dataframe\">\n",
       "  <thead>\n",
       "    <tr style=\"text-align: right;\">\n",
       "      <th></th>\n",
       "      <th>user_id</th>\n",
       "      <th>tariff</th>\n",
       "      <th>city</th>\n",
       "      <th>month</th>\n",
       "      <th>duration_calls</th>\n",
       "      <th>amount_of_calls</th>\n",
       "      <th>mb_used</th>\n",
       "      <th>gb_used</th>\n",
       "      <th>ammount_of_messages</th>\n",
       "    </tr>\n",
       "  </thead>\n",
       "  <tbody>\n",
       "    <tr>\n",
       "      <th>0</th>\n",
       "      <td>1000</td>\n",
       "      <td>ultra</td>\n",
       "      <td>Краснодар</td>\n",
       "      <td>5.0</td>\n",
       "      <td>159.0</td>\n",
       "      <td>22.0</td>\n",
       "      <td>2253.49</td>\n",
       "      <td>3.0</td>\n",
       "      <td>22.0</td>\n",
       "    </tr>\n",
       "    <tr>\n",
       "      <th>1</th>\n",
       "      <td>1000</td>\n",
       "      <td>ultra</td>\n",
       "      <td>Краснодар</td>\n",
       "      <td>6.0</td>\n",
       "      <td>172.0</td>\n",
       "      <td>43.0</td>\n",
       "      <td>23233.77</td>\n",
       "      <td>23.0</td>\n",
       "      <td>60.0</td>\n",
       "    </tr>\n",
       "    <tr>\n",
       "      <th>2</th>\n",
       "      <td>1000</td>\n",
       "      <td>ultra</td>\n",
       "      <td>Краснодар</td>\n",
       "      <td>7.0</td>\n",
       "      <td>340.0</td>\n",
       "      <td>47.0</td>\n",
       "      <td>14003.64</td>\n",
       "      <td>14.0</td>\n",
       "      <td>75.0</td>\n",
       "    </tr>\n",
       "    <tr>\n",
       "      <th>3</th>\n",
       "      <td>1000</td>\n",
       "      <td>ultra</td>\n",
       "      <td>Краснодар</td>\n",
       "      <td>8.0</td>\n",
       "      <td>408.0</td>\n",
       "      <td>52.0</td>\n",
       "      <td>14055.93</td>\n",
       "      <td>14.0</td>\n",
       "      <td>81.0</td>\n",
       "    </tr>\n",
       "    <tr>\n",
       "      <th>4</th>\n",
       "      <td>1000</td>\n",
       "      <td>ultra</td>\n",
       "      <td>Краснодар</td>\n",
       "      <td>9.0</td>\n",
       "      <td>466.0</td>\n",
       "      <td>58.0</td>\n",
       "      <td>14568.91</td>\n",
       "      <td>15.0</td>\n",
       "      <td>57.0</td>\n",
       "    </tr>\n",
       "  </tbody>\n",
       "</table>\n",
       "</div>"
      ],
      "text/plain": [
       "   user_id tariff       city  month  duration_calls  amount_of_calls  \\\n",
       "0     1000  ultra  Краснодар    5.0           159.0             22.0   \n",
       "1     1000  ultra  Краснодар    6.0           172.0             43.0   \n",
       "2     1000  ultra  Краснодар    7.0           340.0             47.0   \n",
       "3     1000  ultra  Краснодар    8.0           408.0             52.0   \n",
       "4     1000  ultra  Краснодар    9.0           466.0             58.0   \n",
       "\n",
       "    mb_used  gb_used  ammount_of_messages  \n",
       "0   2253.49      3.0                 22.0  \n",
       "1  23233.77     23.0                 60.0  \n",
       "2  14003.64     14.0                 75.0  \n",
       "3  14055.93     14.0                 81.0  \n",
       "4  14568.91     15.0                 57.0  "
      ]
     },
     "execution_count": 46,
     "metadata": {},
     "output_type": "execute_result"
    }
   ],
   "source": [
    "data_final = (data_users[['user_id', 'tariff', 'city']]\n",
    "              .merge(data_calls_pivot_sum, on=['user_id'], how='left')\n",
    "              .merge(data_calls_pivot_count, on=['user_id', 'month'], how='left')\n",
    "              .merge(data_internet_pivot, on=['user_id', 'month'], how='left')\n",
    "              .merge(data_messages_pivot, on=['user_id', 'month'], how='left')\n",
    ")\n",
    "data_final.head()              "
   ]
  },
  {
   "cell_type": "code",
   "execution_count": 47,
   "metadata": {},
   "outputs": [
    {
     "data": {
      "text/html": [
       "<div>\n",
       "<style scoped>\n",
       "    .dataframe tbody tr th:only-of-type {\n",
       "        vertical-align: middle;\n",
       "    }\n",
       "\n",
       "    .dataframe tbody tr th {\n",
       "        vertical-align: top;\n",
       "    }\n",
       "\n",
       "    .dataframe thead th {\n",
       "        text-align: right;\n",
       "    }\n",
       "</style>\n",
       "<table border=\"1\" class=\"dataframe\">\n",
       "  <thead>\n",
       "    <tr style=\"text-align: right;\">\n",
       "      <th></th>\n",
       "      <th>user_id</th>\n",
       "      <th>tariff</th>\n",
       "      <th>city</th>\n",
       "      <th>month</th>\n",
       "      <th>duration_calls</th>\n",
       "      <th>amount_of_calls</th>\n",
       "      <th>mb_used</th>\n",
       "      <th>gb_used</th>\n",
       "      <th>ammount_of_messages</th>\n",
       "      <th>messages_included</th>\n",
       "      <th>mb_per_month_included</th>\n",
       "      <th>minutes_included</th>\n",
       "      <th>rub_monthly_fee</th>\n",
       "      <th>rub_per_gb</th>\n",
       "      <th>rub_per_message</th>\n",
       "      <th>rub_per_minute</th>\n",
       "      <th>gb_included</th>\n",
       "    </tr>\n",
       "  </thead>\n",
       "  <tbody>\n",
       "    <tr>\n",
       "      <th>0</th>\n",
       "      <td>1000</td>\n",
       "      <td>ultra</td>\n",
       "      <td>Краснодар</td>\n",
       "      <td>5.0</td>\n",
       "      <td>159.0</td>\n",
       "      <td>22.0</td>\n",
       "      <td>2253.49</td>\n",
       "      <td>3.0</td>\n",
       "      <td>22.0</td>\n",
       "      <td>1000</td>\n",
       "      <td>30720</td>\n",
       "      <td>3000</td>\n",
       "      <td>1950</td>\n",
       "      <td>150</td>\n",
       "      <td>1</td>\n",
       "      <td>1</td>\n",
       "      <td>30.0</td>\n",
       "    </tr>\n",
       "    <tr>\n",
       "      <th>1</th>\n",
       "      <td>1000</td>\n",
       "      <td>ultra</td>\n",
       "      <td>Краснодар</td>\n",
       "      <td>6.0</td>\n",
       "      <td>172.0</td>\n",
       "      <td>43.0</td>\n",
       "      <td>23233.77</td>\n",
       "      <td>23.0</td>\n",
       "      <td>60.0</td>\n",
       "      <td>1000</td>\n",
       "      <td>30720</td>\n",
       "      <td>3000</td>\n",
       "      <td>1950</td>\n",
       "      <td>150</td>\n",
       "      <td>1</td>\n",
       "      <td>1</td>\n",
       "      <td>30.0</td>\n",
       "    </tr>\n",
       "    <tr>\n",
       "      <th>2</th>\n",
       "      <td>1000</td>\n",
       "      <td>ultra</td>\n",
       "      <td>Краснодар</td>\n",
       "      <td>7.0</td>\n",
       "      <td>340.0</td>\n",
       "      <td>47.0</td>\n",
       "      <td>14003.64</td>\n",
       "      <td>14.0</td>\n",
       "      <td>75.0</td>\n",
       "      <td>1000</td>\n",
       "      <td>30720</td>\n",
       "      <td>3000</td>\n",
       "      <td>1950</td>\n",
       "      <td>150</td>\n",
       "      <td>1</td>\n",
       "      <td>1</td>\n",
       "      <td>30.0</td>\n",
       "    </tr>\n",
       "    <tr>\n",
       "      <th>3</th>\n",
       "      <td>1000</td>\n",
       "      <td>ultra</td>\n",
       "      <td>Краснодар</td>\n",
       "      <td>8.0</td>\n",
       "      <td>408.0</td>\n",
       "      <td>52.0</td>\n",
       "      <td>14055.93</td>\n",
       "      <td>14.0</td>\n",
       "      <td>81.0</td>\n",
       "      <td>1000</td>\n",
       "      <td>30720</td>\n",
       "      <td>3000</td>\n",
       "      <td>1950</td>\n",
       "      <td>150</td>\n",
       "      <td>1</td>\n",
       "      <td>1</td>\n",
       "      <td>30.0</td>\n",
       "    </tr>\n",
       "    <tr>\n",
       "      <th>4</th>\n",
       "      <td>1000</td>\n",
       "      <td>ultra</td>\n",
       "      <td>Краснодар</td>\n",
       "      <td>9.0</td>\n",
       "      <td>466.0</td>\n",
       "      <td>58.0</td>\n",
       "      <td>14568.91</td>\n",
       "      <td>15.0</td>\n",
       "      <td>57.0</td>\n",
       "      <td>1000</td>\n",
       "      <td>30720</td>\n",
       "      <td>3000</td>\n",
       "      <td>1950</td>\n",
       "      <td>150</td>\n",
       "      <td>1</td>\n",
       "      <td>1</td>\n",
       "      <td>30.0</td>\n",
       "    </tr>\n",
       "  </tbody>\n",
       "</table>\n",
       "</div>"
      ],
      "text/plain": [
       "   user_id tariff       city  month  duration_calls  amount_of_calls  \\\n",
       "0     1000  ultra  Краснодар    5.0           159.0             22.0   \n",
       "1     1000  ultra  Краснодар    6.0           172.0             43.0   \n",
       "2     1000  ultra  Краснодар    7.0           340.0             47.0   \n",
       "3     1000  ultra  Краснодар    8.0           408.0             52.0   \n",
       "4     1000  ultra  Краснодар    9.0           466.0             58.0   \n",
       "\n",
       "    mb_used  gb_used  ammount_of_messages  messages_included  \\\n",
       "0   2253.49      3.0                 22.0               1000   \n",
       "1  23233.77     23.0                 60.0               1000   \n",
       "2  14003.64     14.0                 75.0               1000   \n",
       "3  14055.93     14.0                 81.0               1000   \n",
       "4  14568.91     15.0                 57.0               1000   \n",
       "\n",
       "   mb_per_month_included  minutes_included  rub_monthly_fee  rub_per_gb  \\\n",
       "0                  30720              3000             1950         150   \n",
       "1                  30720              3000             1950         150   \n",
       "2                  30720              3000             1950         150   \n",
       "3                  30720              3000             1950         150   \n",
       "4                  30720              3000             1950         150   \n",
       "\n",
       "   rub_per_message  rub_per_minute  gb_included  \n",
       "0                1               1         30.0  \n",
       "1                1               1         30.0  \n",
       "2                1               1         30.0  \n",
       "3                1               1         30.0  \n",
       "4                1               1         30.0  "
      ]
     },
     "execution_count": 47,
     "metadata": {},
     "output_type": "execute_result"
    }
   ],
   "source": [
    "data_final = data_final.merge(data_tariffs, on=['tariff'])\n",
    "data_final.head()"
   ]
  },
  {
   "cell_type": "code",
   "execution_count": 48,
   "metadata": {},
   "outputs": [
    {
     "data": {
      "text/plain": [
       "user_id                  0.000000\n",
       "tariff                   0.000000\n",
       "city                     0.000000\n",
       "month                    0.002514\n",
       "duration_calls           0.002514\n",
       "amount_of_calls          0.002514\n",
       "mb_used                  0.005971\n",
       "gb_used                  0.005971\n",
       "ammount_of_messages      0.158391\n",
       "messages_included        0.000000\n",
       "mb_per_month_included    0.000000\n",
       "minutes_included         0.000000\n",
       "rub_monthly_fee          0.000000\n",
       "rub_per_gb               0.000000\n",
       "rub_per_message          0.000000\n",
       "rub_per_minute           0.000000\n",
       "gb_included              0.000000\n",
       "dtype: float64"
      ]
     },
     "execution_count": 48,
     "metadata": {},
     "output_type": "execute_result"
    }
   ],
   "source": [
    "data_final.isna().mean()"
   ]
  },
  {
   "cell_type": "markdown",
   "metadata": {},
   "source": [
    "Пропуски в столбце ammount_messages скорее всего иллюстрируют отсутствие пересланных сообщений. Заменим значения на 0. Пропуски в остальных столбцах составляют несущественную часть данных. Удалим их."
   ]
  },
  {
   "cell_type": "code",
   "execution_count": 49,
   "metadata": {},
   "outputs": [],
   "source": [
    "data_final['ammount_of_messages'] = data_final['ammount_of_messages'].fillna(0)"
   ]
  },
  {
   "cell_type": "code",
   "execution_count": 50,
   "metadata": {},
   "outputs": [
    {
     "data": {
      "text/plain": [
       "user_id                  0\n",
       "tariff                   0\n",
       "city                     0\n",
       "month                    0\n",
       "duration_calls           0\n",
       "amount_of_calls          0\n",
       "mb_used                  0\n",
       "gb_used                  0\n",
       "ammount_of_messages      0\n",
       "messages_included        0\n",
       "mb_per_month_included    0\n",
       "minutes_included         0\n",
       "rub_monthly_fee          0\n",
       "rub_per_gb               0\n",
       "rub_per_message          0\n",
       "rub_per_minute           0\n",
       "gb_included              0\n",
       "dtype: int64"
      ]
     },
     "execution_count": 50,
     "metadata": {},
     "output_type": "execute_result"
    }
   ],
   "source": [
    "data_final.dropna(subset=['month', 'duration_calls', 'amount_of_calls', 'mb_used', 'gb_used'], axis=0, inplace=True)\n",
    "data_final.isna().sum()"
   ]
  },
  {
   "cell_type": "markdown",
   "metadata": {},
   "source": [
    "Добавим столбцы с остатками для каждой услуги:"
   ]
  },
  {
   "cell_type": "code",
   "execution_count": 52,
   "metadata": {},
   "outputs": [
    {
     "data": {
      "text/html": [
       "<div>\n",
       "<style scoped>\n",
       "    .dataframe tbody tr th:only-of-type {\n",
       "        vertical-align: middle;\n",
       "    }\n",
       "\n",
       "    .dataframe tbody tr th {\n",
       "        vertical-align: top;\n",
       "    }\n",
       "\n",
       "    .dataframe thead th {\n",
       "        text-align: right;\n",
       "    }\n",
       "</style>\n",
       "<table border=\"1\" class=\"dataframe\">\n",
       "  <thead>\n",
       "    <tr style=\"text-align: right;\">\n",
       "      <th></th>\n",
       "      <th>user_id</th>\n",
       "      <th>tariff</th>\n",
       "      <th>city</th>\n",
       "      <th>month</th>\n",
       "      <th>duration_calls</th>\n",
       "      <th>amount_of_calls</th>\n",
       "      <th>mb_used</th>\n",
       "      <th>gb_used</th>\n",
       "      <th>ammount_of_messages</th>\n",
       "      <th>messages_included</th>\n",
       "      <th>mb_per_month_included</th>\n",
       "      <th>minutes_included</th>\n",
       "      <th>rub_monthly_fee</th>\n",
       "      <th>rub_per_gb</th>\n",
       "      <th>rub_per_message</th>\n",
       "      <th>rub_per_minute</th>\n",
       "      <th>gb_included</th>\n",
       "      <th>calls_overrun</th>\n",
       "    </tr>\n",
       "  </thead>\n",
       "  <tbody>\n",
       "    <tr>\n",
       "      <th>0</th>\n",
       "      <td>1000</td>\n",
       "      <td>ultra</td>\n",
       "      <td>Краснодар</td>\n",
       "      <td>5.0</td>\n",
       "      <td>159.0</td>\n",
       "      <td>22.0</td>\n",
       "      <td>2253.49</td>\n",
       "      <td>3.0</td>\n",
       "      <td>22.0</td>\n",
       "      <td>1000</td>\n",
       "      <td>30720</td>\n",
       "      <td>3000</td>\n",
       "      <td>1950</td>\n",
       "      <td>150</td>\n",
       "      <td>1</td>\n",
       "      <td>1</td>\n",
       "      <td>30.0</td>\n",
       "      <td>2841.0</td>\n",
       "    </tr>\n",
       "    <tr>\n",
       "      <th>1</th>\n",
       "      <td>1000</td>\n",
       "      <td>ultra</td>\n",
       "      <td>Краснодар</td>\n",
       "      <td>6.0</td>\n",
       "      <td>172.0</td>\n",
       "      <td>43.0</td>\n",
       "      <td>23233.77</td>\n",
       "      <td>23.0</td>\n",
       "      <td>60.0</td>\n",
       "      <td>1000</td>\n",
       "      <td>30720</td>\n",
       "      <td>3000</td>\n",
       "      <td>1950</td>\n",
       "      <td>150</td>\n",
       "      <td>1</td>\n",
       "      <td>1</td>\n",
       "      <td>30.0</td>\n",
       "      <td>2828.0</td>\n",
       "    </tr>\n",
       "    <tr>\n",
       "      <th>2</th>\n",
       "      <td>1000</td>\n",
       "      <td>ultra</td>\n",
       "      <td>Краснодар</td>\n",
       "      <td>7.0</td>\n",
       "      <td>340.0</td>\n",
       "      <td>47.0</td>\n",
       "      <td>14003.64</td>\n",
       "      <td>14.0</td>\n",
       "      <td>75.0</td>\n",
       "      <td>1000</td>\n",
       "      <td>30720</td>\n",
       "      <td>3000</td>\n",
       "      <td>1950</td>\n",
       "      <td>150</td>\n",
       "      <td>1</td>\n",
       "      <td>1</td>\n",
       "      <td>30.0</td>\n",
       "      <td>2660.0</td>\n",
       "    </tr>\n",
       "    <tr>\n",
       "      <th>3</th>\n",
       "      <td>1000</td>\n",
       "      <td>ultra</td>\n",
       "      <td>Краснодар</td>\n",
       "      <td>8.0</td>\n",
       "      <td>408.0</td>\n",
       "      <td>52.0</td>\n",
       "      <td>14055.93</td>\n",
       "      <td>14.0</td>\n",
       "      <td>81.0</td>\n",
       "      <td>1000</td>\n",
       "      <td>30720</td>\n",
       "      <td>3000</td>\n",
       "      <td>1950</td>\n",
       "      <td>150</td>\n",
       "      <td>1</td>\n",
       "      <td>1</td>\n",
       "      <td>30.0</td>\n",
       "      <td>2592.0</td>\n",
       "    </tr>\n",
       "    <tr>\n",
       "      <th>4</th>\n",
       "      <td>1000</td>\n",
       "      <td>ultra</td>\n",
       "      <td>Краснодар</td>\n",
       "      <td>9.0</td>\n",
       "      <td>466.0</td>\n",
       "      <td>58.0</td>\n",
       "      <td>14568.91</td>\n",
       "      <td>15.0</td>\n",
       "      <td>57.0</td>\n",
       "      <td>1000</td>\n",
       "      <td>30720</td>\n",
       "      <td>3000</td>\n",
       "      <td>1950</td>\n",
       "      <td>150</td>\n",
       "      <td>1</td>\n",
       "      <td>1</td>\n",
       "      <td>30.0</td>\n",
       "      <td>2534.0</td>\n",
       "    </tr>\n",
       "  </tbody>\n",
       "</table>\n",
       "</div>"
      ],
      "text/plain": [
       "   user_id tariff       city  month  duration_calls  amount_of_calls  \\\n",
       "0     1000  ultra  Краснодар    5.0           159.0             22.0   \n",
       "1     1000  ultra  Краснодар    6.0           172.0             43.0   \n",
       "2     1000  ultra  Краснодар    7.0           340.0             47.0   \n",
       "3     1000  ultra  Краснодар    8.0           408.0             52.0   \n",
       "4     1000  ultra  Краснодар    9.0           466.0             58.0   \n",
       "\n",
       "    mb_used  gb_used  ammount_of_messages  messages_included  \\\n",
       "0   2253.49      3.0                 22.0               1000   \n",
       "1  23233.77     23.0                 60.0               1000   \n",
       "2  14003.64     14.0                 75.0               1000   \n",
       "3  14055.93     14.0                 81.0               1000   \n",
       "4  14568.91     15.0                 57.0               1000   \n",
       "\n",
       "   mb_per_month_included  minutes_included  rub_monthly_fee  rub_per_gb  \\\n",
       "0                  30720              3000             1950         150   \n",
       "1                  30720              3000             1950         150   \n",
       "2                  30720              3000             1950         150   \n",
       "3                  30720              3000             1950         150   \n",
       "4                  30720              3000             1950         150   \n",
       "\n",
       "   rub_per_message  rub_per_minute  gb_included  calls_overrun  \n",
       "0                1               1         30.0         2841.0  \n",
       "1                1               1         30.0         2828.0  \n",
       "2                1               1         30.0         2660.0  \n",
       "3                1               1         30.0         2592.0  \n",
       "4                1               1         30.0         2534.0  "
      ]
     },
     "execution_count": 52,
     "metadata": {},
     "output_type": "execute_result"
    }
   ],
   "source": [
    "data_final['calls_overrun'] = abs(data_final['duration_calls'] - data_final['minutes_included'])\n",
    "data_final.head()"
   ]
  },
  {
   "cell_type": "code",
   "execution_count": 53,
   "metadata": {},
   "outputs": [
    {
     "data": {
      "text/html": [
       "<div>\n",
       "<style scoped>\n",
       "    .dataframe tbody tr th:only-of-type {\n",
       "        vertical-align: middle;\n",
       "    }\n",
       "\n",
       "    .dataframe tbody tr th {\n",
       "        vertical-align: top;\n",
       "    }\n",
       "\n",
       "    .dataframe thead th {\n",
       "        text-align: right;\n",
       "    }\n",
       "</style>\n",
       "<table border=\"1\" class=\"dataframe\">\n",
       "  <thead>\n",
       "    <tr style=\"text-align: right;\">\n",
       "      <th></th>\n",
       "      <th>user_id</th>\n",
       "      <th>tariff</th>\n",
       "      <th>city</th>\n",
       "      <th>month</th>\n",
       "      <th>duration_calls</th>\n",
       "      <th>amount_of_calls</th>\n",
       "      <th>mb_used</th>\n",
       "      <th>gb_used</th>\n",
       "      <th>ammount_of_messages</th>\n",
       "      <th>messages_included</th>\n",
       "      <th>mb_per_month_included</th>\n",
       "      <th>minutes_included</th>\n",
       "      <th>rub_monthly_fee</th>\n",
       "      <th>rub_per_gb</th>\n",
       "      <th>rub_per_message</th>\n",
       "      <th>rub_per_minute</th>\n",
       "      <th>gb_included</th>\n",
       "      <th>calls_overrun</th>\n",
       "      <th>mes_overrun</th>\n",
       "    </tr>\n",
       "  </thead>\n",
       "  <tbody>\n",
       "    <tr>\n",
       "      <th>0</th>\n",
       "      <td>1000</td>\n",
       "      <td>ultra</td>\n",
       "      <td>Краснодар</td>\n",
       "      <td>5.0</td>\n",
       "      <td>159.0</td>\n",
       "      <td>22.0</td>\n",
       "      <td>2253.49</td>\n",
       "      <td>3.0</td>\n",
       "      <td>22.0</td>\n",
       "      <td>1000</td>\n",
       "      <td>30720</td>\n",
       "      <td>3000</td>\n",
       "      <td>1950</td>\n",
       "      <td>150</td>\n",
       "      <td>1</td>\n",
       "      <td>1</td>\n",
       "      <td>30.0</td>\n",
       "      <td>2841.0</td>\n",
       "      <td>978.0</td>\n",
       "    </tr>\n",
       "    <tr>\n",
       "      <th>1</th>\n",
       "      <td>1000</td>\n",
       "      <td>ultra</td>\n",
       "      <td>Краснодар</td>\n",
       "      <td>6.0</td>\n",
       "      <td>172.0</td>\n",
       "      <td>43.0</td>\n",
       "      <td>23233.77</td>\n",
       "      <td>23.0</td>\n",
       "      <td>60.0</td>\n",
       "      <td>1000</td>\n",
       "      <td>30720</td>\n",
       "      <td>3000</td>\n",
       "      <td>1950</td>\n",
       "      <td>150</td>\n",
       "      <td>1</td>\n",
       "      <td>1</td>\n",
       "      <td>30.0</td>\n",
       "      <td>2828.0</td>\n",
       "      <td>940.0</td>\n",
       "    </tr>\n",
       "    <tr>\n",
       "      <th>2</th>\n",
       "      <td>1000</td>\n",
       "      <td>ultra</td>\n",
       "      <td>Краснодар</td>\n",
       "      <td>7.0</td>\n",
       "      <td>340.0</td>\n",
       "      <td>47.0</td>\n",
       "      <td>14003.64</td>\n",
       "      <td>14.0</td>\n",
       "      <td>75.0</td>\n",
       "      <td>1000</td>\n",
       "      <td>30720</td>\n",
       "      <td>3000</td>\n",
       "      <td>1950</td>\n",
       "      <td>150</td>\n",
       "      <td>1</td>\n",
       "      <td>1</td>\n",
       "      <td>30.0</td>\n",
       "      <td>2660.0</td>\n",
       "      <td>925.0</td>\n",
       "    </tr>\n",
       "    <tr>\n",
       "      <th>3</th>\n",
       "      <td>1000</td>\n",
       "      <td>ultra</td>\n",
       "      <td>Краснодар</td>\n",
       "      <td>8.0</td>\n",
       "      <td>408.0</td>\n",
       "      <td>52.0</td>\n",
       "      <td>14055.93</td>\n",
       "      <td>14.0</td>\n",
       "      <td>81.0</td>\n",
       "      <td>1000</td>\n",
       "      <td>30720</td>\n",
       "      <td>3000</td>\n",
       "      <td>1950</td>\n",
       "      <td>150</td>\n",
       "      <td>1</td>\n",
       "      <td>1</td>\n",
       "      <td>30.0</td>\n",
       "      <td>2592.0</td>\n",
       "      <td>919.0</td>\n",
       "    </tr>\n",
       "    <tr>\n",
       "      <th>4</th>\n",
       "      <td>1000</td>\n",
       "      <td>ultra</td>\n",
       "      <td>Краснодар</td>\n",
       "      <td>9.0</td>\n",
       "      <td>466.0</td>\n",
       "      <td>58.0</td>\n",
       "      <td>14568.91</td>\n",
       "      <td>15.0</td>\n",
       "      <td>57.0</td>\n",
       "      <td>1000</td>\n",
       "      <td>30720</td>\n",
       "      <td>3000</td>\n",
       "      <td>1950</td>\n",
       "      <td>150</td>\n",
       "      <td>1</td>\n",
       "      <td>1</td>\n",
       "      <td>30.0</td>\n",
       "      <td>2534.0</td>\n",
       "      <td>943.0</td>\n",
       "    </tr>\n",
       "  </tbody>\n",
       "</table>\n",
       "</div>"
      ],
      "text/plain": [
       "   user_id tariff       city  month  duration_calls  amount_of_calls  \\\n",
       "0     1000  ultra  Краснодар    5.0           159.0             22.0   \n",
       "1     1000  ultra  Краснодар    6.0           172.0             43.0   \n",
       "2     1000  ultra  Краснодар    7.0           340.0             47.0   \n",
       "3     1000  ultra  Краснодар    8.0           408.0             52.0   \n",
       "4     1000  ultra  Краснодар    9.0           466.0             58.0   \n",
       "\n",
       "    mb_used  gb_used  ammount_of_messages  messages_included  \\\n",
       "0   2253.49      3.0                 22.0               1000   \n",
       "1  23233.77     23.0                 60.0               1000   \n",
       "2  14003.64     14.0                 75.0               1000   \n",
       "3  14055.93     14.0                 81.0               1000   \n",
       "4  14568.91     15.0                 57.0               1000   \n",
       "\n",
       "   mb_per_month_included  minutes_included  rub_monthly_fee  rub_per_gb  \\\n",
       "0                  30720              3000             1950         150   \n",
       "1                  30720              3000             1950         150   \n",
       "2                  30720              3000             1950         150   \n",
       "3                  30720              3000             1950         150   \n",
       "4                  30720              3000             1950         150   \n",
       "\n",
       "   rub_per_message  rub_per_minute  gb_included  calls_overrun  mes_overrun  \n",
       "0                1               1         30.0         2841.0        978.0  \n",
       "1                1               1         30.0         2828.0        940.0  \n",
       "2                1               1         30.0         2660.0        925.0  \n",
       "3                1               1         30.0         2592.0        919.0  \n",
       "4                1               1         30.0         2534.0        943.0  "
      ]
     },
     "execution_count": 53,
     "metadata": {},
     "output_type": "execute_result"
    }
   ],
   "source": [
    "data_final['mes_overrun'] = abs(data_final['ammount_of_messages'] - data_final['messages_included'])\n",
    "data_final.head()"
   ]
  },
  {
   "cell_type": "code",
   "execution_count": 54,
   "metadata": {},
   "outputs": [
    {
     "data": {
      "text/html": [
       "<div>\n",
       "<style scoped>\n",
       "    .dataframe tbody tr th:only-of-type {\n",
       "        vertical-align: middle;\n",
       "    }\n",
       "\n",
       "    .dataframe tbody tr th {\n",
       "        vertical-align: top;\n",
       "    }\n",
       "\n",
       "    .dataframe thead th {\n",
       "        text-align: right;\n",
       "    }\n",
       "</style>\n",
       "<table border=\"1\" class=\"dataframe\">\n",
       "  <thead>\n",
       "    <tr style=\"text-align: right;\">\n",
       "      <th></th>\n",
       "      <th>user_id</th>\n",
       "      <th>tariff</th>\n",
       "      <th>city</th>\n",
       "      <th>month</th>\n",
       "      <th>duration_calls</th>\n",
       "      <th>amount_of_calls</th>\n",
       "      <th>mb_used</th>\n",
       "      <th>gb_used</th>\n",
       "      <th>ammount_of_messages</th>\n",
       "      <th>messages_included</th>\n",
       "      <th>mb_per_month_included</th>\n",
       "      <th>minutes_included</th>\n",
       "      <th>rub_monthly_fee</th>\n",
       "      <th>rub_per_gb</th>\n",
       "      <th>rub_per_message</th>\n",
       "      <th>rub_per_minute</th>\n",
       "      <th>gb_included</th>\n",
       "      <th>calls_overrun</th>\n",
       "      <th>mes_overrun</th>\n",
       "      <th>gb_overrun</th>\n",
       "    </tr>\n",
       "  </thead>\n",
       "  <tbody>\n",
       "    <tr>\n",
       "      <th>0</th>\n",
       "      <td>1000</td>\n",
       "      <td>ultra</td>\n",
       "      <td>Краснодар</td>\n",
       "      <td>5.0</td>\n",
       "      <td>159.0</td>\n",
       "      <td>22.0</td>\n",
       "      <td>2253.49</td>\n",
       "      <td>3.0</td>\n",
       "      <td>22.0</td>\n",
       "      <td>1000</td>\n",
       "      <td>30720</td>\n",
       "      <td>3000</td>\n",
       "      <td>1950</td>\n",
       "      <td>150</td>\n",
       "      <td>1</td>\n",
       "      <td>1</td>\n",
       "      <td>30.0</td>\n",
       "      <td>2841.0</td>\n",
       "      <td>978.0</td>\n",
       "      <td>27.0</td>\n",
       "    </tr>\n",
       "    <tr>\n",
       "      <th>1</th>\n",
       "      <td>1000</td>\n",
       "      <td>ultra</td>\n",
       "      <td>Краснодар</td>\n",
       "      <td>6.0</td>\n",
       "      <td>172.0</td>\n",
       "      <td>43.0</td>\n",
       "      <td>23233.77</td>\n",
       "      <td>23.0</td>\n",
       "      <td>60.0</td>\n",
       "      <td>1000</td>\n",
       "      <td>30720</td>\n",
       "      <td>3000</td>\n",
       "      <td>1950</td>\n",
       "      <td>150</td>\n",
       "      <td>1</td>\n",
       "      <td>1</td>\n",
       "      <td>30.0</td>\n",
       "      <td>2828.0</td>\n",
       "      <td>940.0</td>\n",
       "      <td>7.0</td>\n",
       "    </tr>\n",
       "    <tr>\n",
       "      <th>2</th>\n",
       "      <td>1000</td>\n",
       "      <td>ultra</td>\n",
       "      <td>Краснодар</td>\n",
       "      <td>7.0</td>\n",
       "      <td>340.0</td>\n",
       "      <td>47.0</td>\n",
       "      <td>14003.64</td>\n",
       "      <td>14.0</td>\n",
       "      <td>75.0</td>\n",
       "      <td>1000</td>\n",
       "      <td>30720</td>\n",
       "      <td>3000</td>\n",
       "      <td>1950</td>\n",
       "      <td>150</td>\n",
       "      <td>1</td>\n",
       "      <td>1</td>\n",
       "      <td>30.0</td>\n",
       "      <td>2660.0</td>\n",
       "      <td>925.0</td>\n",
       "      <td>16.0</td>\n",
       "    </tr>\n",
       "    <tr>\n",
       "      <th>3</th>\n",
       "      <td>1000</td>\n",
       "      <td>ultra</td>\n",
       "      <td>Краснодар</td>\n",
       "      <td>8.0</td>\n",
       "      <td>408.0</td>\n",
       "      <td>52.0</td>\n",
       "      <td>14055.93</td>\n",
       "      <td>14.0</td>\n",
       "      <td>81.0</td>\n",
       "      <td>1000</td>\n",
       "      <td>30720</td>\n",
       "      <td>3000</td>\n",
       "      <td>1950</td>\n",
       "      <td>150</td>\n",
       "      <td>1</td>\n",
       "      <td>1</td>\n",
       "      <td>30.0</td>\n",
       "      <td>2592.0</td>\n",
       "      <td>919.0</td>\n",
       "      <td>16.0</td>\n",
       "    </tr>\n",
       "    <tr>\n",
       "      <th>4</th>\n",
       "      <td>1000</td>\n",
       "      <td>ultra</td>\n",
       "      <td>Краснодар</td>\n",
       "      <td>9.0</td>\n",
       "      <td>466.0</td>\n",
       "      <td>58.0</td>\n",
       "      <td>14568.91</td>\n",
       "      <td>15.0</td>\n",
       "      <td>57.0</td>\n",
       "      <td>1000</td>\n",
       "      <td>30720</td>\n",
       "      <td>3000</td>\n",
       "      <td>1950</td>\n",
       "      <td>150</td>\n",
       "      <td>1</td>\n",
       "      <td>1</td>\n",
       "      <td>30.0</td>\n",
       "      <td>2534.0</td>\n",
       "      <td>943.0</td>\n",
       "      <td>15.0</td>\n",
       "    </tr>\n",
       "  </tbody>\n",
       "</table>\n",
       "</div>"
      ],
      "text/plain": [
       "   user_id tariff       city  month  duration_calls  amount_of_calls  \\\n",
       "0     1000  ultra  Краснодар    5.0           159.0             22.0   \n",
       "1     1000  ultra  Краснодар    6.0           172.0             43.0   \n",
       "2     1000  ultra  Краснодар    7.0           340.0             47.0   \n",
       "3     1000  ultra  Краснодар    8.0           408.0             52.0   \n",
       "4     1000  ultra  Краснодар    9.0           466.0             58.0   \n",
       "\n",
       "    mb_used  gb_used  ammount_of_messages  messages_included  \\\n",
       "0   2253.49      3.0                 22.0               1000   \n",
       "1  23233.77     23.0                 60.0               1000   \n",
       "2  14003.64     14.0                 75.0               1000   \n",
       "3  14055.93     14.0                 81.0               1000   \n",
       "4  14568.91     15.0                 57.0               1000   \n",
       "\n",
       "   mb_per_month_included  minutes_included  rub_monthly_fee  rub_per_gb  \\\n",
       "0                  30720              3000             1950         150   \n",
       "1                  30720              3000             1950         150   \n",
       "2                  30720              3000             1950         150   \n",
       "3                  30720              3000             1950         150   \n",
       "4                  30720              3000             1950         150   \n",
       "\n",
       "   rub_per_message  rub_per_minute  gb_included  calls_overrun  mes_overrun  \\\n",
       "0                1               1         30.0         2841.0        978.0   \n",
       "1                1               1         30.0         2828.0        940.0   \n",
       "2                1               1         30.0         2660.0        925.0   \n",
       "3                1               1         30.0         2592.0        919.0   \n",
       "4                1               1         30.0         2534.0        943.0   \n",
       "\n",
       "   gb_overrun  \n",
       "0        27.0  \n",
       "1         7.0  \n",
       "2        16.0  \n",
       "3        16.0  \n",
       "4        15.0  "
      ]
     },
     "execution_count": 54,
     "metadata": {},
     "output_type": "execute_result"
    }
   ],
   "source": [
    "data_final['gb_overrun'] = abs(data_final['gb_used'] - data_final['gb_included'])\n",
    "data_final.head()"
   ]
  },
  {
   "cell_type": "markdown",
   "metadata": {},
   "source": [
    "Создадим функцию для подсчета помесячной выручки:"
   ]
  },
  {
   "cell_type": "code",
   "execution_count": 55,
   "metadata": {},
   "outputs": [
    {
     "data": {
      "text/html": [
       "<div>\n",
       "<style scoped>\n",
       "    .dataframe tbody tr th:only-of-type {\n",
       "        vertical-align: middle;\n",
       "    }\n",
       "\n",
       "    .dataframe tbody tr th {\n",
       "        vertical-align: top;\n",
       "    }\n",
       "\n",
       "    .dataframe thead th {\n",
       "        text-align: right;\n",
       "    }\n",
       "</style>\n",
       "<table border=\"1\" class=\"dataframe\">\n",
       "  <thead>\n",
       "    <tr style=\"text-align: right;\">\n",
       "      <th></th>\n",
       "      <th>user_id</th>\n",
       "      <th>tariff</th>\n",
       "      <th>city</th>\n",
       "      <th>month</th>\n",
       "      <th>duration_calls</th>\n",
       "      <th>amount_of_calls</th>\n",
       "      <th>mb_used</th>\n",
       "      <th>gb_used</th>\n",
       "      <th>ammount_of_messages</th>\n",
       "      <th>messages_included</th>\n",
       "      <th>...</th>\n",
       "      <th>minutes_included</th>\n",
       "      <th>rub_monthly_fee</th>\n",
       "      <th>rub_per_gb</th>\n",
       "      <th>rub_per_message</th>\n",
       "      <th>rub_per_minute</th>\n",
       "      <th>gb_included</th>\n",
       "      <th>calls_overrun</th>\n",
       "      <th>mes_overrun</th>\n",
       "      <th>gb_overrun</th>\n",
       "      <th>income</th>\n",
       "    </tr>\n",
       "  </thead>\n",
       "  <tbody>\n",
       "    <tr>\n",
       "      <th>0</th>\n",
       "      <td>1000</td>\n",
       "      <td>ultra</td>\n",
       "      <td>Краснодар</td>\n",
       "      <td>5.0</td>\n",
       "      <td>159.0</td>\n",
       "      <td>22.0</td>\n",
       "      <td>2253.49</td>\n",
       "      <td>3.0</td>\n",
       "      <td>22.0</td>\n",
       "      <td>1000</td>\n",
       "      <td>...</td>\n",
       "      <td>3000</td>\n",
       "      <td>1950</td>\n",
       "      <td>150</td>\n",
       "      <td>1</td>\n",
       "      <td>1</td>\n",
       "      <td>30.0</td>\n",
       "      <td>2841.0</td>\n",
       "      <td>978.0</td>\n",
       "      <td>27.0</td>\n",
       "      <td>9819.0</td>\n",
       "    </tr>\n",
       "    <tr>\n",
       "      <th>1</th>\n",
       "      <td>1000</td>\n",
       "      <td>ultra</td>\n",
       "      <td>Краснодар</td>\n",
       "      <td>6.0</td>\n",
       "      <td>172.0</td>\n",
       "      <td>43.0</td>\n",
       "      <td>23233.77</td>\n",
       "      <td>23.0</td>\n",
       "      <td>60.0</td>\n",
       "      <td>1000</td>\n",
       "      <td>...</td>\n",
       "      <td>3000</td>\n",
       "      <td>1950</td>\n",
       "      <td>150</td>\n",
       "      <td>1</td>\n",
       "      <td>1</td>\n",
       "      <td>30.0</td>\n",
       "      <td>2828.0</td>\n",
       "      <td>940.0</td>\n",
       "      <td>7.0</td>\n",
       "      <td>6768.0</td>\n",
       "    </tr>\n",
       "    <tr>\n",
       "      <th>2</th>\n",
       "      <td>1000</td>\n",
       "      <td>ultra</td>\n",
       "      <td>Краснодар</td>\n",
       "      <td>7.0</td>\n",
       "      <td>340.0</td>\n",
       "      <td>47.0</td>\n",
       "      <td>14003.64</td>\n",
       "      <td>14.0</td>\n",
       "      <td>75.0</td>\n",
       "      <td>1000</td>\n",
       "      <td>...</td>\n",
       "      <td>3000</td>\n",
       "      <td>1950</td>\n",
       "      <td>150</td>\n",
       "      <td>1</td>\n",
       "      <td>1</td>\n",
       "      <td>30.0</td>\n",
       "      <td>2660.0</td>\n",
       "      <td>925.0</td>\n",
       "      <td>16.0</td>\n",
       "      <td>7935.0</td>\n",
       "    </tr>\n",
       "    <tr>\n",
       "      <th>3</th>\n",
       "      <td>1000</td>\n",
       "      <td>ultra</td>\n",
       "      <td>Краснодар</td>\n",
       "      <td>8.0</td>\n",
       "      <td>408.0</td>\n",
       "      <td>52.0</td>\n",
       "      <td>14055.93</td>\n",
       "      <td>14.0</td>\n",
       "      <td>81.0</td>\n",
       "      <td>1000</td>\n",
       "      <td>...</td>\n",
       "      <td>3000</td>\n",
       "      <td>1950</td>\n",
       "      <td>150</td>\n",
       "      <td>1</td>\n",
       "      <td>1</td>\n",
       "      <td>30.0</td>\n",
       "      <td>2592.0</td>\n",
       "      <td>919.0</td>\n",
       "      <td>16.0</td>\n",
       "      <td>7861.0</td>\n",
       "    </tr>\n",
       "    <tr>\n",
       "      <th>4</th>\n",
       "      <td>1000</td>\n",
       "      <td>ultra</td>\n",
       "      <td>Краснодар</td>\n",
       "      <td>9.0</td>\n",
       "      <td>466.0</td>\n",
       "      <td>58.0</td>\n",
       "      <td>14568.91</td>\n",
       "      <td>15.0</td>\n",
       "      <td>57.0</td>\n",
       "      <td>1000</td>\n",
       "      <td>...</td>\n",
       "      <td>3000</td>\n",
       "      <td>1950</td>\n",
       "      <td>150</td>\n",
       "      <td>1</td>\n",
       "      <td>1</td>\n",
       "      <td>30.0</td>\n",
       "      <td>2534.0</td>\n",
       "      <td>943.0</td>\n",
       "      <td>15.0</td>\n",
       "      <td>7677.0</td>\n",
       "    </tr>\n",
       "  </tbody>\n",
       "</table>\n",
       "<p>5 rows × 21 columns</p>\n",
       "</div>"
      ],
      "text/plain": [
       "   user_id tariff       city  month  duration_calls  amount_of_calls  \\\n",
       "0     1000  ultra  Краснодар    5.0           159.0             22.0   \n",
       "1     1000  ultra  Краснодар    6.0           172.0             43.0   \n",
       "2     1000  ultra  Краснодар    7.0           340.0             47.0   \n",
       "3     1000  ultra  Краснодар    8.0           408.0             52.0   \n",
       "4     1000  ultra  Краснодар    9.0           466.0             58.0   \n",
       "\n",
       "    mb_used  gb_used  ammount_of_messages  messages_included  ...  \\\n",
       "0   2253.49      3.0                 22.0               1000  ...   \n",
       "1  23233.77     23.0                 60.0               1000  ...   \n",
       "2  14003.64     14.0                 75.0               1000  ...   \n",
       "3  14055.93     14.0                 81.0               1000  ...   \n",
       "4  14568.91     15.0                 57.0               1000  ...   \n",
       "\n",
       "   minutes_included  rub_monthly_fee  rub_per_gb  rub_per_message  \\\n",
       "0              3000             1950         150                1   \n",
       "1              3000             1950         150                1   \n",
       "2              3000             1950         150                1   \n",
       "3              3000             1950         150                1   \n",
       "4              3000             1950         150                1   \n",
       "\n",
       "   rub_per_minute  gb_included  calls_overrun  mes_overrun  gb_overrun  income  \n",
       "0               1         30.0         2841.0        978.0        27.0  9819.0  \n",
       "1               1         30.0         2828.0        940.0         7.0  6768.0  \n",
       "2               1         30.0         2660.0        925.0        16.0  7935.0  \n",
       "3               1         30.0         2592.0        919.0        16.0  7861.0  \n",
       "4               1         30.0         2534.0        943.0        15.0  7677.0  \n",
       "\n",
       "[5 rows x 21 columns]"
      ]
     },
     "execution_count": 55,
     "metadata": {},
     "output_type": "execute_result"
    }
   ],
   "source": [
    "def income(data_final):\n",
    "    income_min = 0\n",
    "    income_mes = 0\n",
    "    income_internet = 0\n",
    "    if data_final['calls_overrun'] > 0:\n",
    "        income_min = data_final['calls_overrun'] * data_final['rub_per_minute']\n",
    "    if data_final['mes_overrun'] > 0:\n",
    "        income_mes = data_final['mes_overrun'] * data_final['rub_per_message']\n",
    "    if data_final['gb_overrun'] > 0:\n",
    "        income_internet = data_final['gb_overrun'] * data_final['rub_per_gb']\n",
    "    if data_final['tariff'] == 'ultra':\n",
    "        income_tariff = 1950\n",
    "    if data_final['tariff'] == 'smart':\n",
    "        income_tariff = 550\n",
    "    return income_min + income_mes + income_internet + income_tariff\n",
    "data_final['income'] = data_final.apply(income, axis=1)\n",
    "data_final.head()"
   ]
  },
  {
   "cell_type": "code",
   "execution_count": 56,
   "metadata": {},
   "outputs": [
    {
     "data": {
      "text/plain": [
       "user_id                  0\n",
       "tariff                   0\n",
       "city                     0\n",
       "month                    0\n",
       "duration_calls           0\n",
       "amount_of_calls          0\n",
       "mb_used                  0\n",
       "gb_used                  0\n",
       "ammount_of_messages      0\n",
       "messages_included        0\n",
       "mb_per_month_included    0\n",
       "minutes_included         0\n",
       "rub_monthly_fee          0\n",
       "rub_per_gb               0\n",
       "rub_per_message          0\n",
       "rub_per_minute           0\n",
       "gb_included              0\n",
       "calls_overrun            0\n",
       "mes_overrun              0\n",
       "gb_overrun               0\n",
       "income                   0\n",
       "dtype: int64"
      ]
     },
     "execution_count": 56,
     "metadata": {},
     "output_type": "execute_result"
    }
   ],
   "source": [
    "data_final.isna().sum()"
   ]
  },
  {
   "cell_type": "markdown",
   "metadata": {},
   "source": [
    "## Анализ данных"
   ]
  },
  {
   "cell_type": "markdown",
   "metadata": {},
   "source": [
    "### Столбчатые диаграммы"
   ]
  },
  {
   "cell_type": "markdown",
   "metadata": {},
   "source": [
    "Создадим датафрейм для каждого тарифа:"
   ]
  },
  {
   "cell_type": "code",
   "execution_count": 57,
   "metadata": {},
   "outputs": [],
   "source": [
    "data_ultra = data_final.query('tariff == \"ultra\"')\n",
    "data_smart = data_final.query('tariff == \"smart\"')"
   ]
  },
  {
   "cell_type": "markdown",
   "metadata": {},
   "source": [
    "Построим столбчатые диаграммы для среднего каждой услуги (длительности звонков, количества сообщений и использованного трафика):"
   ]
  },
  {
   "cell_type": "code",
   "execution_count": 58,
   "metadata": {
    "scrolled": true
   },
   "outputs": [
    {
     "data": {
      "image/png": "[encoded data removed]",
      "text/plain": [
       "<Figure size 432x288 with 1 Axes>"
      ]
     },
     "metadata": {
      "needs_background": "light"
     },
     "output_type": "display_data"
    }
   ],
   "source": [
    "mean_ultra_calls = data_ultra.groupby('month')['duration_calls'].mean().reset_index()\n",
    "mean_smart_calls = data_smart.groupby('month')['duration_calls'].mean().reset_index()\n",
    "both_calls_mean = mean_ultra_calls.merge(mean_smart_calls, on='month')\n",
    "both_calls_mean = both_calls_mean.rename(columns={'duration_calls_x': 'duration_calls_ultra', 'duration_calls_y': 'duration_calls_smart'})\n",
    "both_calls_mean.plot(kind='bar', x='month')\n",
    "plt.title('Среднее, звонки')\n",
    "plt.show()"
   ]
  },
  {
   "cell_type": "markdown",
   "metadata": {},
   "source": [
    "Среднее значение в каждом месяце тарифа \"Ультра\" выше среднего тарифа \"Смарт\". Встречается аномальное значение в феврале где значения равны."
   ]
  },
  {
   "cell_type": "code",
   "execution_count": 59,
   "metadata": {},
   "outputs": [
    {
     "data": {
      "image/png": "[encoded data removed]",
      "text/plain": [
       "<Figure size 432x288 with 1 Axes>"
      ]
     },
     "metadata": {
      "needs_background": "light"
     },
     "output_type": "display_data"
    }
   ],
   "source": [
    "mean_ultra_messages = data_ultra.groupby('month')['ammount_of_messages'].mean().reset_index()\n",
    "mean_smart_messages = data_smart.groupby('month')['ammount_of_messages'].mean().reset_index()\n",
    "both_messages_mean = mean_ultra_messages.merge(mean_smart_messages, on='month')\n",
    "both_messages_mean = both_messages_mean.rename(columns={'ammount_of_messages_x': 'ammount_of_messages_ultra', 'ammount_of_messages_y': 'ammount_of_messages_smart'})\n",
    "both_messages_mean.plot(kind='bar', x='month')\n",
    "plt.title('Среднее, сообщения')\n",
    "plt.show()"
   ]
  },
  {
   "cell_type": "markdown",
   "metadata": {},
   "source": [
    "Среднее значение количества сообщений тарифа \"Ультра\" выше тарифа \"Смарт\"."
   ]
  },
  {
   "cell_type": "code",
   "execution_count": 60,
   "metadata": {},
   "outputs": [
    {
     "data": {
      "image/png": "[encoded data removed]",
      "text/plain": [
       "<Figure size 432x288 with 1 Axes>"
      ]
     },
     "metadata": {
      "needs_background": "light"
     },
     "output_type": "display_data"
    }
   ],
   "source": [
    "mean_ultra_internet = data_ultra.groupby('month')['gb_used'].mean().reset_index()\n",
    "mean_smart_internet = data_smart.groupby('month')['gb_used'].mean().reset_index()\n",
    "both_internet_mean = mean_ultra_internet.merge(mean_smart_internet, on='month')\n",
    "both_internet_mean = both_internet_mean.rename(columns={'gb_used_x': 'gb_used_ultra', 'gb_used_y': 'gb_used_smart'})\n",
    "both_internet_mean.plot(kind='bar', x='month')\n",
    "plt.title('Среднее, интернет')\n",
    "plt.show()"
   ]
  },
  {
   "cell_type": "markdown",
   "metadata": {},
   "source": [
    "Средние значения использованного трафика тарифа \"Ультра\" выше тарифа \"Смарт\". Однако средние значения этой услуги ближе всего у двух тарифов."
   ]
  },
  {
   "cell_type": "markdown",
   "metadata": {},
   "source": [
    "Создадим столбчатые диграммы для дисперсии каждой услуги:"
   ]
  },
  {
   "cell_type": "code",
   "execution_count": 61,
   "metadata": {
    "scrolled": true
   },
   "outputs": [
    {
     "data": {
      "image/png": "[encoded data removed]",
      "text/plain": [
       "<Figure size 432x288 with 1 Axes>"
      ]
     },
     "metadata": {
      "needs_background": "light"
     },
     "output_type": "display_data"
    }
   ],
   "source": [
    "var_ultra_calls = data_ultra.groupby('month')['duration_calls'].agg('var').reset_index()\n",
    "var_smart_calls = data_smart.groupby('month')['duration_calls'].agg('var').reset_index()\n",
    "both_calls_var = var_ultra_calls.merge(var_smart_calls, on='month')\n",
    "both_calls_var = both_calls_var.rename(columns={'duration_calls_x': 'duration_calls_ultra', 'duration_calls_y': 'duration_calls_smart'})\n",
    "both_calls_var.plot(kind='bar', x='month')\n",
    "plt.title('Диспресия, звонки')\n",
    "plt.show()"
   ]
  },
  {
   "cell_type": "code",
   "execution_count": 62,
   "metadata": {},
   "outputs": [
    {
     "data": {
      "image/png": "[encoded data removed]",
      "text/plain": [
       "<Figure size 432x288 with 1 Axes>"
      ]
     },
     "metadata": {
      "needs_background": "light"
     },
     "output_type": "display_data"
    }
   ],
   "source": [
    "var_ultra_messages = data_ultra.groupby('month')['ammount_of_messages'].agg('var').reset_index()\n",
    "var_smart_messages = data_smart.groupby('month')['ammount_of_messages'].agg('var').reset_index()\n",
    "both_messages_var = var_ultra_messages.merge(var_smart_messages, on='month')\n",
    "both_messages_var = both_messages_var.rename(columns={'ammount_of_messages_x': 'ammount_of_messages_ultra', 'ammount_of_messages_y': 'ammount_of_messages_smart'})\n",
    "both_messages_var.plot(kind='bar', x='month')\n",
    "plt.title('Диспресия, сообщения')\n",
    "plt.show()"
   ]
  },
  {
   "cell_type": "code",
   "execution_count": 63,
   "metadata": {},
   "outputs": [
    {
     "data": {
      "image/png": "[encoded data removed]",
      "text/plain": [
       "<Figure size 432x288 with 1 Axes>"
      ]
     },
     "metadata": {
      "needs_background": "light"
     },
     "output_type": "display_data"
    }
   ],
   "source": [
    "var_ultra_internet = data_ultra.groupby('month')['gb_used'].agg('var').reset_index()\n",
    "var_smart_internet = data_smart.groupby('month')['gb_used'].agg('var').reset_index()\n",
    "both_internet_var = var_ultra_internet.merge(var_smart_internet, on='month')\n",
    "both_internet_var = both_internet_var.rename(columns={'gb_used_x': 'gb_used_ultra', 'gb_used_y': 'gb_used_smart'})\n",
    "both_internet_var.plot(kind='bar', x='month')\n",
    "plt.title('Дисперсия, интернет')\n",
    "plt.show()"
   ]
  },
  {
   "cell_type": "markdown",
   "metadata": {},
   "source": [
    "Создадим столбчатые диграммы для стандартного отклонения каждой услуги:"
   ]
  },
  {
   "cell_type": "code",
   "execution_count": 64,
   "metadata": {},
   "outputs": [
    {
     "data": {
      "image/png": "[encoded data removed]",
      "text/plain": [
       "<Figure size 432x288 with 1 Axes>"
      ]
     },
     "metadata": {
      "needs_background": "light"
     },
     "output_type": "display_data"
    }
   ],
   "source": [
    "std_ultra_calls = data_ultra.groupby('month')['duration_calls'].agg('std').reset_index()\n",
    "std_smart_calls = data_smart.groupby('month')['duration_calls'].agg('std').reset_index()\n",
    "both_calls_std = std_ultra_calls.merge(std_smart_calls, on='month')\n",
    "both_calls_std = both_calls_std.rename(columns={'duration_calls_x': 'duration_calls_ultra', 'duration_calls_y': 'duration_calls_smart'})\n",
    "both_calls_std.plot(kind='bar', x='month')\n",
    "plt.title('Стандартное отклонение, звонки')\n",
    "plt.show()"
   ]
  },
  {
   "cell_type": "code",
   "execution_count": 65,
   "metadata": {},
   "outputs": [
    {
     "data": {
      "image/png": "[encoded data removed]",
      "text/plain": [
       "<Figure size 432x288 with 1 Axes>"
      ]
     },
     "metadata": {
      "needs_background": "light"
     },
     "output_type": "display_data"
    }
   ],
   "source": [
    "std_ultra_messages = data_ultra.groupby('month')['ammount_of_messages'].agg('var').reset_index()\n",
    "std_smart_messages = data_smart.groupby('month')['ammount_of_messages'].agg('var').reset_index()\n",
    "both_messages_std = std_ultra_messages.merge(std_smart_messages, on='month')\n",
    "both_messages_std = both_messages_std.rename(columns={'ammount_of_messages_x': 'ammount_of_messages_ultra', 'ammount_of_messages_y': 'ammount_of_messages_smart'})\n",
    "both_messages_std.plot(kind='bar', x='month')\n",
    "plt.title('Стандартное отклонение, сообщения')\n",
    "plt.show()"
   ]
  },
  {
   "cell_type": "code",
   "execution_count": 66,
   "metadata": {},
   "outputs": [
    {
     "data": {
      "image/png": "[encoded data removed]",
      "text/plain": [
       "<Figure size 432x288 with 1 Axes>"
      ]
     },
     "metadata": {
      "needs_background": "light"
     },
     "output_type": "display_data"
    }
   ],
   "source": [
    "std_ultra_internet = data_ultra.groupby('month')['gb_used'].agg('var').reset_index()\n",
    "std_smart_internet = data_smart.groupby('month')['gb_used'].agg('var').reset_index()\n",
    "both_internet_std = std_ultra_internet.merge(std_smart_internet, on='month')\n",
    "both_internet_std = both_internet_std.rename(columns={'gb_used_x': 'gb_used_ultra', 'gb_used_y': 'gb_used_smart'})\n",
    "both_internet_std.plot(kind='bar', x='month')\n",
    "plt.title('Стандартное отклонение, интернет')\n",
    "plt.show()"
   ]
  },
  {
   "cell_type": "markdown",
   "metadata": {},
   "source": [
    "Дисперсия и стандартное отклонение всех услуг тарифа \"Ультра\" в основном значительно выше дисперсии и стандартного отклонения тарифа \"Смарт\", что говорит о более широком распределении и большей рассеяности данных первой выборки."
   ]
  },
  {
   "cell_type": "code",
   "execution_count": 67,
   "metadata": {},
   "outputs": [
    {
     "data": {
      "image/png": "[encoded data removed]",
      "text/plain": [
       "<Figure size 432x288 with 1 Axes>"
      ]
     },
     "metadata": {
      "needs_background": "light"
     },
     "output_type": "display_data"
    }
   ],
   "source": [
    "sum_income_ultra = data_ultra.groupby('month')['income'].sum().reset_index()\n",
    "sum_income_smart = data_smart.groupby('month')['income'].sum().reset_index()\n",
    "sum_both_income = sum_income_ultra.merge(sum_income_smart, on='month')\n",
    "sum_both_income = sum_both_income.rename(columns={'income_x': 'income_ultra', 'income_y': 'income_smart'})\n",
    "sum_both_income.plot(kind='bar', x='month')\n",
    "plt.title('Доход')\n",
    "plt.show()"
   ]
  },
  {
   "cell_type": "markdown",
   "metadata": {},
   "source": [
    "Наблюдается явная тенденция увеличения дохода в течении года, у обоих тарифов. "
   ]
  },
  {
   "cell_type": "markdown",
   "metadata": {},
   "source": [
    "### Гистограммы распределения каждой услуги:"
   ]
  },
  {
   "cell_type": "code",
   "execution_count": 68,
   "metadata": {
    "scrolled": true
   },
   "outputs": [
    {
     "data": {
      "image/png": "[encoded data removed]",
      "text/plain": [
       "<Figure size 720x360 with 1 Axes>"
      ]
     },
     "metadata": {
      "needs_background": "light"
     },
     "output_type": "display_data"
    }
   ],
   "source": [
    "calls=pd.DataFrame({\n",
    "    'Смарт':data_smart['duration_calls'],\n",
    "    'Ультра':data_ultra['duration_calls']\n",
    "})\n",
    "calls.plot(kind='hist', bins=10, grid=True, figsize=(10, 5), alpha=0.6)\n",
    "plt.title('Распределение, звонки')\n",
    "plt.xlabel('Минуты')\n",
    "plt.ylabel('Частота')\n",
    "plt.show()"
   ]
  },
  {
   "cell_type": "markdown",
   "metadata": {},
   "source": [
    "Оба распределения стремятся к нормальному. Можно понять, что пользователи тарифа \"Смарт\" чаще используют от 300 до 500 минут, а поьзователи тарифа \"Ультра\" от 500 до 700 минут. Однако пользователи тарифа смарт совершают звонки значительно чаще."
   ]
  },
  {
   "cell_type": "code",
   "execution_count": 69,
   "metadata": {
    "scrolled": true
   },
   "outputs": [
    {
     "data": {
      "image/png": "[encoded data removed]",
      "text/plain": [
       "<Figure size 720x360 with 1 Axes>"
      ]
     },
     "metadata": {
      "needs_background": "light"
     },
     "output_type": "display_data"
    }
   ],
   "source": [
    "messages=pd.DataFrame({\n",
    "    'Смарт':data_smart['ammount_of_messages'],\n",
    "    'Ультра':data_ultra['ammount_of_messages']\n",
    "})\n",
    "messages.plot(kind='hist', bins=10, grid=True, figsize=(10, 5), alpha=0.6)\n",
    "plt.title('Распределение, сообщения')\n",
    "plt.xlabel('Сообщения')\n",
    "plt.ylabel('Частота')\n",
    "plt.show()"
   ]
  },
  {
   "cell_type": "markdown",
   "metadata": {},
   "source": [
    "Эта гистограмма скошена вправо. Она демонстрирует, что пользователи тарифа смарт и ультра чаще отправляют от 0 до 25 сообщений. Гистограмма тарифа ультра имеет более длинный хвост после 110 сообщений, но крайне малую частоту."
   ]
  },
  {
   "cell_type": "code",
   "execution_count": 70,
   "metadata": {
    "scrolled": true
   },
   "outputs": [
    {
     "data": {
      "image/png": "[encoded data removed]",
      "text/plain": [
       "<Figure size 720x360 with 1 Axes>"
      ]
     },
     "metadata": {
      "needs_background": "light"
     },
     "output_type": "display_data"
    }
   ],
   "source": [
    "internet=pd.DataFrame({\n",
    "    'Смарт':data_smart['gb_used'],\n",
    "    'Ультра':data_ultra['gb_used']\n",
    "})\n",
    "internet.plot(kind='hist', bins=10, grid=True, figsize=(10, 5), alpha=0.6)\n",
    "plt.title('Распределение, интернет')\n",
    "plt.xlabel('Гигабайты')\n",
    "plt.ylabel('Частота')\n",
    "plt.show()"
   ]
  },
  {
   "cell_type": "markdown",
   "metadata": {},
   "source": [
    "Оба распределения стремятся к нормальному. Пользователи тарифа \"Смарт\" и ультра чаще используют от 15 до 20 гб интернета. Но частота тарифа \"Смарт\" значительно выше тарифа \"Ультра\"."
   ]
  },
  {
   "cell_type": "code",
   "execution_count": 71,
   "metadata": {},
   "outputs": [
    {
     "data": {
      "image/png": "[encoded data removed]",
      "text/plain": [
       "<Figure size 720x360 with 1 Axes>"
      ]
     },
     "metadata": {
      "needs_background": "light"
     },
     "output_type": "display_data"
    }
   ],
   "source": [
    "income=pd.DataFrame({\n",
    "    'Смарт':data_smart['income'],\n",
    "    'Ультра':data_ultra['income']\n",
    "})\n",
    "income.plot(kind='hist', bins=20, grid=True, figsize=(10, 5), alpha=0.6)\n",
    "plt.title('Распределение, выручка')\n",
    "plt.xlabel('Доход')\n",
    "plt.ylabel('Частота')\n",
    "plt.show()"
   ]
  },
  {
   "cell_type": "markdown",
   "metadata": {},
   "source": [
    "Оба распределения стремятся к нормальному. Пик частоты дохода у тарифа \"Смарт\" находится в районе 1000, а тарифа \"Ультра\" в районе 6000. Однако пик тарифа \"Смарт\" значительно выше пика тарифа \"Ультра\"."
   ]
  },
  {
   "cell_type": "markdown",
   "metadata": {},
   "source": [
    "## Проверка гипотез"
   ]
  },
  {
   "cell_type": "markdown",
   "metadata": {},
   "source": [
    "### Гипотеза №1: Средняя выручка пользователей тарифов «Ультра» и «Смарт» различаются."
   ]
  },
  {
   "cell_type": "markdown",
   "metadata": {},
   "source": [
    "У нас есть нулевая гипотеза Н0 - средняя выручка пользователей тарифов \"Ультра\" и \"Смарт\" равны, т.е. средние значения равны. Альтернативной гипотезой же является Н1 - средняя выручка пользователей тарифов \"Ультра\" и \"Смарт\" не равны, т.е. средние значения не равны."
   ]
  },
  {
   "cell_type": "code",
   "execution_count": 72,
   "metadata": {},
   "outputs": [
    {
     "name": "stdout",
     "output_type": "stream",
     "text": [
      "p-значение:  0.0\n",
      "Отвергаем нулевую гипотезу\n"
     ]
    }
   ],
   "source": [
    "alpha = .05\n",
    "results = st.ttest_ind(\n",
    "    data_final.query('tariff == \"ultra\"')['income'], \n",
    "    data_final.query('tariff == \"smart\"')['income']\n",
    ")\n",
    "print('p-значение: ', results.pvalue)\n",
    "if results.pvalue < alpha:\n",
    "    print('Отвергаем нулевую гипотезу')\n",
    "else:\n",
    "    print('Не получилось отвергнуть нулевую гипотезу')\n",
    "        "
   ]
  },
  {
   "cell_type": "markdown",
   "metadata": {},
   "source": [
    "Средняя выручка пользователей тарифов \"Ультра\" и \"Смарт\" не равны."
   ]
  },
  {
   "cell_type": "markdown",
   "metadata": {},
   "source": [
    "### Гипотеза №2: средняя выручка пользователей из Москвы отличается от выручки пользователей из других регионов."
   ]
  },
  {
   "cell_type": "markdown",
   "metadata": {},
   "source": [
    "У нас есть нулевая гипотеза Н0 - средняя выручка пользователей из Москвы равна выручке пользователей из других регионов, т. е. средние значения равны. Альтернативной же гипотезой является Н1 - средняя выручка пользователей из Москвы не равна выручке пользователей из других регионов, т. е. средние значения не равны."
   ]
  },
  {
   "cell_type": "code",
   "execution_count": 73,
   "metadata": {},
   "outputs": [
    {
     "name": "stdout",
     "output_type": "stream",
     "text": [
      "p-значение: 0.013756159422775563\n",
      "Отвергаем нулевую гипотезу\n"
     ]
    }
   ],
   "source": [
    "alpha = .05\n",
    "results = st.ttest_ind(\n",
    "    data_final.query('city == \"Москва\"')['income'],\n",
    "    data_final.query('city != \"Москва\"')['income']\n",
    ")\n",
    "print('p-значение:', results.pvalue)\n",
    "if results.pvalue < alpha:\n",
    "    print('Отвергаем нулевую гипотезу')\n",
    "else:\n",
    "    print('Не получилось отвергнуть нулевую гипотезу')"
   ]
  },
  {
   "cell_type": "markdown",
   "metadata": {},
   "source": [
    "Средняя выручка пользователей из Москвы не равна выручке пользователей из других регионов."
   ]
  },
  {
   "cell_type": "markdown",
   "metadata": {},
   "source": [
    "## Общий вывод"
   ]
  },
  {
   "cell_type": "markdown",
   "metadata": {},
   "source": [
    "### Предобработка данных"
   ]
  },
  {
   "cell_type": "markdown",
   "metadata": {},
   "source": [
    "При предобработке данных были выявлены и устранены пропуски в столбцах. Все данные приведены к нужным типам. Посчитано для каждого пользователя:\n",
    "количество сделанных звонков и израсходованных минут разговора по месяцам;\n",
    "количество отправленных сообщений по месяцам;\n",
    "объем израсходованного интернет-трафика по месяцам;\n",
    "помесячную выручку с каждого пользователя "
   ]
  },
  {
   "cell_type": "markdown",
   "metadata": {},
   "source": [
    "### Цели исследования"
   ]
  },
  {
   "cell_type": "markdown",
   "metadata": {},
   "source": [
    "Целью исследования был предварительный анализ тарифов на небольшой выборке клиентов. Нужно было проанализировать поведение клиентов и сделать вывод — какой тариф лучше, описать поведение клиентов оператора, исходя из выборки. Проверить, сколько минут разговора, сколько сообщений и какой объём интернет-трафика требуется пользователям каждого тарифа в месяц. Посчитать среднее количество, дисперсию и стандартное отклонение. Построить гистограммы. Описать распределения. Затем проверить две гипотезы: средняя выручка пользователей тарифов «Ультра» и «Смарт» различаются; Средняя выручка пользователей из Москвы отличается от выручки пользователей из других регионов."
   ]
  },
  {
   "cell_type": "markdown",
   "metadata": {},
   "source": [
    "### Исследование"
   ]
  },
  {
   "cell_type": "markdown",
   "metadata": {},
   "source": [
    "В процессе иследования были найдены дисперсия стандартное отклонение и среднее значение услуг каждого из тарифов. Так же были построены гистограммы распределения услуг каждого из тарифов. Затем были проверены две гипотезы."
   ]
  }
 ],
 "metadata": {
  "ExecuteTimeLog": [
   {
    "duration": 618,
    "start_time": "2022-06-22T10:09:01.740Z"
   },
   {
    "duration": 1147,
    "start_time": "2022-06-22T10:09:02.360Z"
   },
   {
    "duration": 40,
    "start_time": "2022-06-22T10:09:03.509Z"
   },
   {
    "duration": 175,
    "start_time": "2022-06-22T10:09:03.552Z"
   },
   {
    "duration": 150,
    "start_time": "2022-06-22T10:09:03.729Z"
   },
   {
    "duration": 1158,
    "start_time": "2022-06-22T10:10:58.026Z"
   },
   {
    "duration": 17,
    "start_time": "2022-06-22T10:10:59.186Z"
   },
   {
    "duration": 60,
    "start_time": "2022-06-22T10:10:59.244Z"
   },
   {
    "duration": 37,
    "start_time": "2022-06-22T10:11:00.212Z"
   },
   {
    "duration": 483,
    "start_time": "2022-06-22T10:20:33.647Z"
   },
   {
    "duration": 237,
    "start_time": "2022-06-22T10:20:34.133Z"
   },
   {
    "duration": 20,
    "start_time": "2022-06-22T10:20:34.372Z"
   },
   {
    "duration": 65,
    "start_time": "2022-06-22T10:20:34.393Z"
   },
   {
    "duration": 48,
    "start_time": "2022-06-22T10:20:34.461Z"
   },
   {
    "duration": 228,
    "start_time": "2022-06-22T10:20:34.511Z"
   },
   {
    "duration": 14,
    "start_time": "2022-06-22T10:20:34.741Z"
   },
   {
    "duration": 143,
    "start_time": "2022-06-22T10:20:34.761Z"
   },
   {
    "duration": 34,
    "start_time": "2022-06-22T10:20:34.906Z"
   },
   {
    "duration": 297,
    "start_time": "2022-06-22T10:20:34.942Z"
   },
   {
    "duration": 10,
    "start_time": "2022-06-22T10:20:35.242Z"
   },
   {
    "duration": 65,
    "start_time": "2022-06-22T10:20:35.259Z"
   },
   {
    "duration": 22,
    "start_time": "2022-06-22T10:20:35.326Z"
   },
   {
    "duration": 168,
    "start_time": "2022-06-22T10:20:35.352Z"
   },
   {
    "duration": 9,
    "start_time": "2022-06-22T10:20:35.522Z"
   },
   {
    "duration": 78,
    "start_time": "2022-06-22T10:20:35.532Z"
   },
   {
    "duration": 14,
    "start_time": "2022-06-22T10:20:35.612Z"
   },
   {
    "duration": 112,
    "start_time": "2022-06-22T10:20:35.628Z"
   },
   {
    "duration": 10,
    "start_time": "2022-06-22T10:20:35.742Z"
   },
   {
    "duration": 90,
    "start_time": "2022-06-22T10:20:35.754Z"
   },
   {
    "duration": 49,
    "start_time": "2022-06-22T10:20:35.846Z"
   },
   {
    "duration": 6,
    "start_time": "2022-06-22T10:30:35.637Z"
   },
   {
    "duration": 44,
    "start_time": "2022-06-22T10:37:42.220Z"
   },
   {
    "duration": 40,
    "start_time": "2022-06-22T10:37:55.490Z"
   },
   {
    "duration": 47,
    "start_time": "2022-06-22T10:39:57.538Z"
   },
   {
    "duration": 28,
    "start_time": "2022-06-22T10:40:10.416Z"
   },
   {
    "duration": 5,
    "start_time": "2022-06-22T10:41:50.143Z"
   },
   {
    "duration": 25,
    "start_time": "2022-06-22T10:41:58.778Z"
   },
   {
    "duration": 8,
    "start_time": "2022-06-22T10:42:50.019Z"
   },
   {
    "duration": 35,
    "start_time": "2022-06-22T10:42:51.790Z"
   },
   {
    "duration": 4,
    "start_time": "2022-06-22T10:47:44.705Z"
   },
   {
    "duration": 6,
    "start_time": "2022-06-22T10:53:00.677Z"
   },
   {
    "duration": 96,
    "start_time": "2022-06-22T10:53:10.333Z"
   },
   {
    "duration": 15,
    "start_time": "2022-06-22T10:53:17.129Z"
   },
   {
    "duration": 9,
    "start_time": "2022-06-22T10:57:03.012Z"
   },
   {
    "duration": 26,
    "start_time": "2022-06-22T10:57:04.595Z"
   },
   {
    "duration": 13,
    "start_time": "2022-06-22T10:59:50.252Z"
   },
   {
    "duration": 35,
    "start_time": "2022-06-22T11:08:41.009Z"
   },
   {
    "duration": 9,
    "start_time": "2022-06-22T11:08:51.535Z"
   },
   {
    "duration": 13,
    "start_time": "2022-06-22T11:09:26.800Z"
   },
   {
    "duration": 30,
    "start_time": "2022-06-22T11:14:41.215Z"
   },
   {
    "duration": 18,
    "start_time": "2022-06-22T11:14:55.647Z"
   },
   {
    "duration": 25,
    "start_time": "2022-06-22T11:15:23.480Z"
   },
   {
    "duration": 27,
    "start_time": "2022-06-22T11:15:58.880Z"
   },
   {
    "duration": 16,
    "start_time": "2022-06-22T11:16:19.097Z"
   },
   {
    "duration": 17,
    "start_time": "2022-06-22T11:16:19.978Z"
   },
   {
    "duration": 11,
    "start_time": "2022-06-22T11:16:43.431Z"
   },
   {
    "duration": 49,
    "start_time": "2022-06-22T11:18:48.800Z"
   },
   {
    "duration": 24,
    "start_time": "2022-06-22T11:19:39.606Z"
   },
   {
    "duration": 39,
    "start_time": "2022-06-22T11:19:56.570Z"
   },
   {
    "duration": 11,
    "start_time": "2022-06-22T11:20:52.926Z"
   },
   {
    "duration": 15,
    "start_time": "2022-06-22T11:21:22.383Z"
   },
   {
    "duration": 7,
    "start_time": "2022-06-22T11:21:40.924Z"
   },
   {
    "duration": 9,
    "start_time": "2022-06-22T11:22:12.086Z"
   },
   {
    "duration": 14,
    "start_time": "2022-06-22T11:22:14.306Z"
   },
   {
    "duration": 7,
    "start_time": "2022-06-22T11:23:21.912Z"
   },
   {
    "duration": 26,
    "start_time": "2022-06-22T11:23:32.496Z"
   },
   {
    "duration": 2877,
    "start_time": "2022-06-22T11:24:21.808Z"
   },
   {
    "duration": 16,
    "start_time": "2022-06-22T11:24:34.676Z"
   },
   {
    "duration": 9,
    "start_time": "2022-06-22T11:27:31.439Z"
   },
   {
    "duration": 16,
    "start_time": "2022-06-22T11:27:45.378Z"
   },
   {
    "duration": 454,
    "start_time": "2022-06-22T11:27:57.733Z"
   },
   {
    "duration": 288,
    "start_time": "2022-06-22T11:27:58.189Z"
   },
   {
    "duration": 35,
    "start_time": "2022-06-22T11:27:58.487Z"
   },
   {
    "duration": 62,
    "start_time": "2022-06-22T11:27:58.524Z"
   },
   {
    "duration": 87,
    "start_time": "2022-06-22T11:27:58.588Z"
   },
   {
    "duration": 231,
    "start_time": "2022-06-22T11:27:58.680Z"
   },
   {
    "duration": 28,
    "start_time": "2022-06-22T11:27:58.913Z"
   },
   {
    "duration": 85,
    "start_time": "2022-06-22T11:27:58.947Z"
   },
   {
    "duration": 59,
    "start_time": "2022-06-22T11:27:59.034Z"
   },
   {
    "duration": 149,
    "start_time": "2022-06-22T11:27:59.098Z"
   },
   {
    "duration": 39,
    "start_time": "2022-06-22T11:27:59.250Z"
   },
   {
    "duration": 57,
    "start_time": "2022-06-22T11:27:59.300Z"
   },
   {
    "duration": 42,
    "start_time": "2022-06-22T11:27:59.359Z"
   },
   {
    "duration": 88,
    "start_time": "2022-06-22T11:27:59.409Z"
   },
   {
    "duration": 14,
    "start_time": "2022-06-22T11:27:59.503Z"
   },
   {
    "duration": 41,
    "start_time": "2022-06-22T11:27:59.522Z"
   },
   {
    "duration": 68,
    "start_time": "2022-06-22T11:27:59.565Z"
   },
   {
    "duration": 53,
    "start_time": "2022-06-22T11:27:59.635Z"
   },
   {
    "duration": 17,
    "start_time": "2022-06-22T11:27:59.690Z"
   },
   {
    "duration": 35,
    "start_time": "2022-06-22T11:27:59.709Z"
   },
   {
    "duration": 26,
    "start_time": "2022-06-22T11:27:59.745Z"
   },
   {
    "duration": 124,
    "start_time": "2022-06-22T11:27:59.775Z"
   },
   {
    "duration": 31,
    "start_time": "2022-06-22T11:27:59.905Z"
   },
   {
    "duration": 66,
    "start_time": "2022-06-22T11:27:59.940Z"
   },
   {
    "duration": 26,
    "start_time": "2022-06-22T11:28:00.008Z"
   },
   {
    "duration": 8,
    "start_time": "2022-06-22T11:28:00.037Z"
   },
   {
    "duration": 36,
    "start_time": "2022-06-22T11:28:00.047Z"
   },
   {
    "duration": 57,
    "start_time": "2022-06-22T11:28:00.086Z"
   },
   {
    "duration": 31,
    "start_time": "2022-06-22T11:28:00.145Z"
   },
   {
    "duration": 47,
    "start_time": "2022-06-22T11:28:00.198Z"
   },
   {
    "duration": 20,
    "start_time": "2022-06-22T11:28:00.246Z"
   },
   {
    "duration": 72,
    "start_time": "2022-06-22T11:28:00.268Z"
   },
   {
    "duration": 62,
    "start_time": "2022-06-22T11:28:00.341Z"
   },
   {
    "duration": 46,
    "start_time": "2022-06-22T11:28:00.405Z"
   },
   {
    "duration": 114,
    "start_time": "2022-06-22T11:49:00.088Z"
   },
   {
    "duration": 28,
    "start_time": "2022-06-22T11:49:17.705Z"
   },
   {
    "duration": 27,
    "start_time": "2022-06-22T11:50:39.641Z"
   },
   {
    "duration": 40,
    "start_time": "2022-06-22T11:50:48.104Z"
   },
   {
    "duration": 25,
    "start_time": "2022-06-22T11:52:29.405Z"
   },
   {
    "duration": 25,
    "start_time": "2022-06-22T11:52:49.579Z"
   },
   {
    "duration": 32,
    "start_time": "2022-06-22T11:53:00.281Z"
   },
   {
    "duration": 76,
    "start_time": "2022-06-22T11:54:16.919Z"
   },
   {
    "duration": 446,
    "start_time": "2022-06-22T11:58:25.998Z"
   },
   {
    "duration": 225,
    "start_time": "2022-06-22T11:58:26.446Z"
   },
   {
    "duration": 33,
    "start_time": "2022-06-22T11:58:26.680Z"
   },
   {
    "duration": 27,
    "start_time": "2022-06-22T11:58:26.715Z"
   },
   {
    "duration": 41,
    "start_time": "2022-06-22T11:58:26.744Z"
   },
   {
    "duration": 159,
    "start_time": "2022-06-22T11:58:26.788Z"
   },
   {
    "duration": 13,
    "start_time": "2022-06-22T11:58:26.949Z"
   },
   {
    "duration": 73,
    "start_time": "2022-06-22T11:58:26.965Z"
   },
   {
    "duration": 29,
    "start_time": "2022-06-22T11:58:27.040Z"
   },
   {
    "duration": 147,
    "start_time": "2022-06-22T11:58:27.073Z"
   },
   {
    "duration": 7,
    "start_time": "2022-06-22T11:58:27.222Z"
   },
   {
    "duration": 30,
    "start_time": "2022-06-22T11:58:27.231Z"
   },
   {
    "duration": 68,
    "start_time": "2022-06-22T11:58:27.262Z"
   },
   {
    "duration": 15,
    "start_time": "2022-06-22T11:58:27.333Z"
   },
   {
    "duration": 35,
    "start_time": "2022-06-22T11:58:27.350Z"
   },
   {
    "duration": 46,
    "start_time": "2022-06-22T11:58:27.387Z"
   },
   {
    "duration": 9,
    "start_time": "2022-06-22T11:58:27.435Z"
   },
   {
    "duration": 62,
    "start_time": "2022-06-22T11:58:27.446Z"
   },
   {
    "duration": 10,
    "start_time": "2022-06-22T11:58:27.509Z"
   },
   {
    "duration": 17,
    "start_time": "2022-06-22T11:58:27.520Z"
   },
   {
    "duration": 11,
    "start_time": "2022-06-22T11:58:27.538Z"
   },
   {
    "duration": 65,
    "start_time": "2022-06-22T11:58:27.551Z"
   },
   {
    "duration": 18,
    "start_time": "2022-06-22T11:58:27.618Z"
   },
   {
    "duration": 26,
    "start_time": "2022-06-22T11:58:27.637Z"
   },
   {
    "duration": 26,
    "start_time": "2022-06-22T11:58:27.664Z"
   },
   {
    "duration": 22,
    "start_time": "2022-06-22T11:58:27.692Z"
   },
   {
    "duration": 12,
    "start_time": "2022-06-22T11:58:27.717Z"
   },
   {
    "duration": 10,
    "start_time": "2022-06-22T11:58:27.731Z"
   },
   {
    "duration": 41,
    "start_time": "2022-06-22T11:58:27.743Z"
   },
   {
    "duration": 26,
    "start_time": "2022-06-22T11:58:27.786Z"
   },
   {
    "duration": 5,
    "start_time": "2022-06-22T11:58:27.813Z"
   },
   {
    "duration": 4,
    "start_time": "2022-06-22T11:58:27.820Z"
   },
   {
    "duration": 45,
    "start_time": "2022-06-22T11:58:27.826Z"
   },
   {
    "duration": 17,
    "start_time": "2022-06-22T11:58:27.873Z"
   },
   {
    "duration": 26,
    "start_time": "2022-06-22T11:58:27.895Z"
   },
   {
    "duration": 22,
    "start_time": "2022-06-22T11:58:27.923Z"
   },
   {
    "duration": 70,
    "start_time": "2022-06-22T11:58:27.946Z"
   },
   {
    "duration": 12,
    "start_time": "2022-06-22T11:59:14.006Z"
   },
   {
    "duration": 453,
    "start_time": "2022-06-22T11:59:20.996Z"
   },
   {
    "duration": 222,
    "start_time": "2022-06-22T11:59:21.451Z"
   },
   {
    "duration": 24,
    "start_time": "2022-06-22T11:59:21.679Z"
   },
   {
    "duration": 27,
    "start_time": "2022-06-22T11:59:21.704Z"
   },
   {
    "duration": 36,
    "start_time": "2022-06-22T11:59:21.733Z"
   },
   {
    "duration": 179,
    "start_time": "2022-06-22T11:59:21.781Z"
   },
   {
    "duration": 24,
    "start_time": "2022-06-22T11:59:21.970Z"
   },
   {
    "duration": 38,
    "start_time": "2022-06-22T11:59:21.996Z"
   },
   {
    "duration": 27,
    "start_time": "2022-06-22T11:59:22.036Z"
   },
   {
    "duration": 139,
    "start_time": "2022-06-22T11:59:22.066Z"
   },
   {
    "duration": 8,
    "start_time": "2022-06-22T11:59:22.208Z"
   },
   {
    "duration": 13,
    "start_time": "2022-06-22T11:59:22.217Z"
   },
   {
    "duration": 34,
    "start_time": "2022-06-22T11:59:22.232Z"
   },
   {
    "duration": 31,
    "start_time": "2022-06-22T11:59:22.271Z"
   },
   {
    "duration": 8,
    "start_time": "2022-06-22T11:59:22.310Z"
   },
   {
    "duration": 41,
    "start_time": "2022-06-22T11:59:22.320Z"
   },
   {
    "duration": 50,
    "start_time": "2022-06-22T11:59:22.363Z"
   },
   {
    "duration": 29,
    "start_time": "2022-06-22T11:59:22.415Z"
   },
   {
    "duration": 30,
    "start_time": "2022-06-22T11:59:22.446Z"
   },
   {
    "duration": 37,
    "start_time": "2022-06-22T11:59:22.483Z"
   },
   {
    "duration": 10,
    "start_time": "2022-06-22T11:59:22.522Z"
   },
   {
    "duration": 47,
    "start_time": "2022-06-22T11:59:22.533Z"
   },
   {
    "duration": 33,
    "start_time": "2022-06-22T11:59:22.582Z"
   },
   {
    "duration": 22,
    "start_time": "2022-06-22T11:59:22.616Z"
   },
   {
    "duration": 30,
    "start_time": "2022-06-22T11:59:22.639Z"
   },
   {
    "duration": 13,
    "start_time": "2022-06-22T11:59:22.673Z"
   },
   {
    "duration": 12,
    "start_time": "2022-06-22T11:59:22.688Z"
   },
   {
    "duration": 17,
    "start_time": "2022-06-22T11:59:22.701Z"
   },
   {
    "duration": 14,
    "start_time": "2022-06-22T11:59:22.720Z"
   },
   {
    "duration": 6,
    "start_time": "2022-06-22T11:59:22.735Z"
   },
   {
    "duration": 6,
    "start_time": "2022-06-22T11:59:22.742Z"
   },
   {
    "duration": 55,
    "start_time": "2022-06-22T11:59:22.750Z"
   },
   {
    "duration": 38,
    "start_time": "2022-06-22T11:59:22.807Z"
   },
   {
    "duration": 33,
    "start_time": "2022-06-22T11:59:22.848Z"
   },
   {
    "duration": 43,
    "start_time": "2022-06-22T11:59:22.886Z"
   },
   {
    "duration": 45,
    "start_time": "2022-06-22T11:59:22.931Z"
   },
   {
    "duration": 86,
    "start_time": "2022-06-22T12:00:43.604Z"
   },
   {
    "duration": 29,
    "start_time": "2022-06-22T12:00:59.579Z"
   },
   {
    "duration": 18,
    "start_time": "2022-06-22T12:01:06.673Z"
   },
   {
    "duration": 25,
    "start_time": "2022-06-22T12:01:19.087Z"
   },
   {
    "duration": 14,
    "start_time": "2022-06-22T12:02:53.128Z"
   },
   {
    "duration": 486,
    "start_time": "2022-06-22T12:12:04.907Z"
   },
   {
    "duration": 221,
    "start_time": "2022-06-22T12:12:05.413Z"
   },
   {
    "duration": 23,
    "start_time": "2022-06-22T12:12:05.638Z"
   },
   {
    "duration": 116,
    "start_time": "2022-06-22T12:12:05.663Z"
   },
   {
    "duration": 179,
    "start_time": "2022-06-22T12:12:05.784Z"
   },
   {
    "duration": 242,
    "start_time": "2022-06-22T12:12:05.968Z"
   },
   {
    "duration": 14,
    "start_time": "2022-06-22T12:12:06.216Z"
   },
   {
    "duration": 142,
    "start_time": "2022-06-22T12:12:06.236Z"
   },
   {
    "duration": 113,
    "start_time": "2022-06-22T12:12:06.383Z"
   },
   {
    "duration": 291,
    "start_time": "2022-06-22T12:12:06.501Z"
   },
   {
    "duration": 24,
    "start_time": "2022-06-22T12:12:06.794Z"
   },
   {
    "duration": 118,
    "start_time": "2022-06-22T12:12:06.827Z"
   },
   {
    "duration": 58,
    "start_time": "2022-06-22T12:12:06.947Z"
   },
   {
    "duration": 52,
    "start_time": "2022-06-22T12:12:07.015Z"
   },
   {
    "duration": 21,
    "start_time": "2022-06-22T12:12:07.077Z"
   },
   {
    "duration": 97,
    "start_time": "2022-06-22T12:12:07.105Z"
   },
   {
    "duration": 38,
    "start_time": "2022-06-22T12:12:07.209Z"
   },
   {
    "duration": 91,
    "start_time": "2022-06-22T12:12:07.250Z"
   },
   {
    "duration": 30,
    "start_time": "2022-06-22T12:12:07.343Z"
   },
   {
    "duration": 64,
    "start_time": "2022-06-22T12:12:07.378Z"
   },
   {
    "duration": 31,
    "start_time": "2022-06-22T12:12:07.444Z"
   },
   {
    "duration": 185,
    "start_time": "2022-06-22T12:12:07.477Z"
   },
   {
    "duration": 38,
    "start_time": "2022-06-22T12:12:07.664Z"
   },
   {
    "duration": 79,
    "start_time": "2022-06-22T12:12:07.704Z"
   },
   {
    "duration": 40,
    "start_time": "2022-06-22T12:12:07.788Z"
   },
   {
    "duration": 124,
    "start_time": "2022-06-22T12:12:07.835Z"
   },
   {
    "duration": 113,
    "start_time": "2022-06-22T12:12:07.968Z"
   },
   {
    "duration": 178,
    "start_time": "2022-06-22T12:12:08.084Z"
   },
   {
    "duration": 99,
    "start_time": "2022-06-22T12:12:08.263Z"
   },
   {
    "duration": 153,
    "start_time": "2022-06-22T12:12:08.363Z"
   },
   {
    "duration": 18,
    "start_time": "2022-06-22T12:12:08.521Z"
   },
   {
    "duration": 41,
    "start_time": "2022-06-22T12:12:08.542Z"
   },
   {
    "duration": 47,
    "start_time": "2022-06-22T12:12:08.588Z"
   },
   {
    "duration": 111,
    "start_time": "2022-06-22T12:12:08.636Z"
   },
   {
    "duration": 116,
    "start_time": "2022-06-22T12:13:24.403Z"
   },
   {
    "duration": 14,
    "start_time": "2022-06-22T12:13:31.622Z"
   },
   {
    "duration": 35,
    "start_time": "2022-06-22T12:13:37.896Z"
   },
   {
    "duration": 24,
    "start_time": "2022-06-22T12:14:40.449Z"
   },
   {
    "duration": 478,
    "start_time": "2022-06-22T12:14:47.671Z"
   },
   {
    "duration": 273,
    "start_time": "2022-06-22T12:14:48.151Z"
   },
   {
    "duration": 20,
    "start_time": "2022-06-22T12:14:48.429Z"
   },
   {
    "duration": 60,
    "start_time": "2022-06-22T12:14:48.451Z"
   },
   {
    "duration": 77,
    "start_time": "2022-06-22T12:14:48.520Z"
   },
   {
    "duration": 218,
    "start_time": "2022-06-22T12:14:48.600Z"
   },
   {
    "duration": 10,
    "start_time": "2022-06-22T12:14:48.821Z"
   },
   {
    "duration": 71,
    "start_time": "2022-06-22T12:14:48.833Z"
   },
   {
    "duration": 57,
    "start_time": "2022-06-22T12:14:48.906Z"
   },
   {
    "duration": 162,
    "start_time": "2022-06-22T12:14:48.965Z"
   },
   {
    "duration": 7,
    "start_time": "2022-06-22T12:14:49.129Z"
   },
   {
    "duration": 41,
    "start_time": "2022-06-22T12:14:49.138Z"
   },
   {
    "duration": 42,
    "start_time": "2022-06-22T12:14:49.188Z"
   },
   {
    "duration": 75,
    "start_time": "2022-06-22T12:14:49.234Z"
   },
   {
    "duration": 14,
    "start_time": "2022-06-22T12:14:49.315Z"
   },
   {
    "duration": 61,
    "start_time": "2022-06-22T12:14:49.333Z"
   },
   {
    "duration": 36,
    "start_time": "2022-06-22T12:14:49.395Z"
   },
   {
    "duration": 54,
    "start_time": "2022-06-22T12:14:49.433Z"
   },
   {
    "duration": 21,
    "start_time": "2022-06-22T12:14:49.492Z"
   },
   {
    "duration": 29,
    "start_time": "2022-06-22T12:14:49.518Z"
   },
   {
    "duration": 26,
    "start_time": "2022-06-22T12:14:49.549Z"
   },
   {
    "duration": 89,
    "start_time": "2022-06-22T12:14:49.580Z"
   },
   {
    "duration": 49,
    "start_time": "2022-06-22T12:14:49.672Z"
   },
   {
    "duration": 24,
    "start_time": "2022-06-22T12:14:49.723Z"
   },
   {
    "duration": 35,
    "start_time": "2022-06-22T12:14:49.749Z"
   },
   {
    "duration": 33,
    "start_time": "2022-06-22T12:14:49.786Z"
   },
   {
    "duration": 21,
    "start_time": "2022-06-22T12:14:49.821Z"
   },
   {
    "duration": 6,
    "start_time": "2022-06-22T12:14:49.844Z"
   },
   {
    "duration": 74,
    "start_time": "2022-06-22T12:14:49.852Z"
   },
   {
    "duration": 33,
    "start_time": "2022-06-22T12:14:49.928Z"
   },
   {
    "duration": 14,
    "start_time": "2022-06-22T12:14:49.963Z"
   },
   {
    "duration": 60,
    "start_time": "2022-06-22T12:14:49.979Z"
   },
   {
    "duration": 8,
    "start_time": "2022-06-22T12:14:50.041Z"
   },
   {
    "duration": 99,
    "start_time": "2022-06-22T12:14:50.051Z"
   },
   {
    "duration": 52,
    "start_time": "2022-06-22T12:17:33.583Z"
   },
   {
    "duration": 44,
    "start_time": "2022-06-22T12:18:35.992Z"
   },
   {
    "duration": 61,
    "start_time": "2022-06-22T12:18:45.149Z"
   },
   {
    "duration": 475,
    "start_time": "2022-06-22T12:19:02.485Z"
   },
   {
    "duration": 232,
    "start_time": "2022-06-22T12:19:02.970Z"
   },
   {
    "duration": 23,
    "start_time": "2022-06-22T12:19:03.209Z"
   },
   {
    "duration": 39,
    "start_time": "2022-06-22T12:19:03.234Z"
   },
   {
    "duration": 51,
    "start_time": "2022-06-22T12:19:03.275Z"
   },
   {
    "duration": 190,
    "start_time": "2022-06-22T12:19:03.327Z"
   },
   {
    "duration": 9,
    "start_time": "2022-06-22T12:19:03.519Z"
   },
   {
    "duration": 35,
    "start_time": "2022-06-22T12:19:03.529Z"
   },
   {
    "duration": 51,
    "start_time": "2022-06-22T12:19:03.566Z"
   },
   {
    "duration": 111,
    "start_time": "2022-06-22T12:19:03.619Z"
   },
   {
    "duration": 6,
    "start_time": "2022-06-22T12:19:03.732Z"
   },
   {
    "duration": 25,
    "start_time": "2022-06-22T12:19:03.740Z"
   },
   {
    "duration": 34,
    "start_time": "2022-06-22T12:19:03.772Z"
   },
   {
    "duration": 27,
    "start_time": "2022-06-22T12:19:03.810Z"
   },
   {
    "duration": 8,
    "start_time": "2022-06-22T12:19:03.838Z"
   },
   {
    "duration": 51,
    "start_time": "2022-06-22T12:19:03.847Z"
   },
   {
    "duration": 24,
    "start_time": "2022-06-22T12:19:03.901Z"
   },
   {
    "duration": 29,
    "start_time": "2022-06-22T12:19:03.926Z"
   },
   {
    "duration": 23,
    "start_time": "2022-06-22T12:19:03.958Z"
   },
   {
    "duration": 47,
    "start_time": "2022-06-22T12:19:03.984Z"
   },
   {
    "duration": 11,
    "start_time": "2022-06-22T12:19:04.032Z"
   },
   {
    "duration": 56,
    "start_time": "2022-06-22T12:19:04.044Z"
   },
   {
    "duration": 27,
    "start_time": "2022-06-22T12:19:04.102Z"
   },
   {
    "duration": 24,
    "start_time": "2022-06-22T12:19:04.131Z"
   },
   {
    "duration": 32,
    "start_time": "2022-06-22T12:19:04.156Z"
   },
   {
    "duration": 34,
    "start_time": "2022-06-22T12:19:04.190Z"
   },
   {
    "duration": 14,
    "start_time": "2022-06-22T12:19:04.225Z"
   },
   {
    "duration": 9,
    "start_time": "2022-06-22T12:19:04.240Z"
   },
   {
    "duration": 69,
    "start_time": "2022-06-22T12:19:04.250Z"
   },
   {
    "duration": 30,
    "start_time": "2022-06-22T12:19:04.321Z"
   },
   {
    "duration": 29,
    "start_time": "2022-06-22T12:19:04.352Z"
   },
   {
    "duration": 63,
    "start_time": "2022-06-22T12:19:04.382Z"
   },
   {
    "duration": 65,
    "start_time": "2022-06-22T12:19:04.446Z"
   },
   {
    "duration": 43,
    "start_time": "2022-06-22T12:19:04.516Z"
   },
   {
    "duration": 41,
    "start_time": "2022-06-22T12:19:11.980Z"
   },
   {
    "duration": 54,
    "start_time": "2022-06-22T12:19:35.229Z"
   },
   {
    "duration": 34,
    "start_time": "2022-06-22T12:20:24.208Z"
   },
   {
    "duration": 41,
    "start_time": "2022-06-22T12:21:26.309Z"
   },
   {
    "duration": 60,
    "start_time": "2022-06-22T12:21:51.731Z"
   },
   {
    "duration": 50,
    "start_time": "2022-06-22T12:24:10.800Z"
   },
   {
    "duration": 78,
    "start_time": "2022-06-22T12:24:33.528Z"
   },
   {
    "duration": 104,
    "start_time": "2022-06-22T12:28:35.428Z"
   },
   {
    "duration": 60,
    "start_time": "2022-06-22T12:28:42.741Z"
   },
   {
    "duration": 46,
    "start_time": "2022-06-22T12:29:02.190Z"
   },
   {
    "duration": 74,
    "start_time": "2022-06-22T12:31:40.935Z"
   },
   {
    "duration": 51,
    "start_time": "2022-06-22T12:34:59.424Z"
   },
   {
    "duration": 72,
    "start_time": "2022-06-22T12:35:04.950Z"
   },
   {
    "duration": 389,
    "start_time": "2022-06-22T13:26:27.004Z"
   },
   {
    "duration": 538,
    "start_time": "2022-06-22T13:26:27.402Z"
   },
   {
    "duration": 30,
    "start_time": "2022-06-22T13:26:27.941Z"
   },
   {
    "duration": 47,
    "start_time": "2022-06-22T13:26:27.978Z"
   },
   {
    "duration": 22,
    "start_time": "2022-06-22T13:26:28.027Z"
   },
   {
    "duration": 597,
    "start_time": "2022-06-22T13:26:28.051Z"
   },
   {
    "duration": 20,
    "start_time": "2022-06-22T13:26:28.651Z"
   },
   {
    "duration": 84,
    "start_time": "2022-06-22T13:26:28.673Z"
   },
   {
    "duration": 42,
    "start_time": "2022-06-22T13:26:28.761Z"
   },
   {
    "duration": 117,
    "start_time": "2022-06-22T13:26:28.804Z"
   },
   {
    "duration": 7,
    "start_time": "2022-06-22T13:26:28.922Z"
   },
   {
    "duration": 18,
    "start_time": "2022-06-22T13:26:28.931Z"
   },
   {
    "duration": 43,
    "start_time": "2022-06-22T13:26:28.959Z"
   },
   {
    "duration": 14,
    "start_time": "2022-06-22T13:26:29.009Z"
   },
   {
    "duration": 7,
    "start_time": "2022-06-22T13:26:29.024Z"
   },
   {
    "duration": 43,
    "start_time": "2022-06-22T13:26:29.033Z"
   },
   {
    "duration": 34,
    "start_time": "2022-06-22T13:26:29.084Z"
   },
   {
    "duration": 17,
    "start_time": "2022-06-22T13:26:29.119Z"
   },
   {
    "duration": 8,
    "start_time": "2022-06-22T13:26:29.138Z"
   },
   {
    "duration": 18,
    "start_time": "2022-06-22T13:26:29.148Z"
   },
   {
    "duration": 12,
    "start_time": "2022-06-22T13:26:29.168Z"
   },
   {
    "duration": 65,
    "start_time": "2022-06-22T13:26:29.182Z"
   },
   {
    "duration": 29,
    "start_time": "2022-06-22T13:26:29.248Z"
   },
   {
    "duration": 51,
    "start_time": "2022-06-22T13:26:29.280Z"
   },
   {
    "duration": 16,
    "start_time": "2022-06-22T13:26:29.333Z"
   },
   {
    "duration": 11,
    "start_time": "2022-06-22T13:26:29.350Z"
   },
   {
    "duration": 48,
    "start_time": "2022-06-22T13:26:29.371Z"
   },
   {
    "duration": 8,
    "start_time": "2022-06-22T13:26:29.421Z"
   },
   {
    "duration": 11,
    "start_time": "2022-06-22T13:26:29.430Z"
   },
   {
    "duration": 42,
    "start_time": "2022-06-22T13:26:29.443Z"
   },
   {
    "duration": 16,
    "start_time": "2022-06-22T13:26:29.486Z"
   },
   {
    "duration": 37,
    "start_time": "2022-06-22T13:26:29.510Z"
   },
   {
    "duration": 46,
    "start_time": "2022-06-22T13:26:29.549Z"
   },
   {
    "duration": 43,
    "start_time": "2022-06-22T13:26:29.601Z"
   },
   {
    "duration": 53,
    "start_time": "2022-06-22T13:26:29.645Z"
   },
   {
    "duration": 40,
    "start_time": "2022-06-22T13:26:29.700Z"
   },
   {
    "duration": 59,
    "start_time": "2022-06-22T13:54:26.546Z"
   },
   {
    "duration": 49,
    "start_time": "2022-06-22T13:55:57.982Z"
   },
   {
    "duration": 54,
    "start_time": "2022-06-22T13:57:11.580Z"
   },
   {
    "duration": 96,
    "start_time": "2022-06-22T14:03:32.271Z"
   },
   {
    "duration": 37,
    "start_time": "2022-06-22T14:05:30.148Z"
   },
   {
    "duration": 23,
    "start_time": "2022-06-22T14:05:40.572Z"
   },
   {
    "duration": 416,
    "start_time": "2022-06-22T14:06:07.821Z"
   },
   {
    "duration": 221,
    "start_time": "2022-06-22T14:06:08.240Z"
   },
   {
    "duration": 34,
    "start_time": "2022-06-22T14:06:08.464Z"
   },
   {
    "duration": 46,
    "start_time": "2022-06-22T14:06:08.503Z"
   },
   {
    "duration": 51,
    "start_time": "2022-06-22T14:06:08.551Z"
   },
   {
    "duration": 141,
    "start_time": "2022-06-22T14:06:08.603Z"
   },
   {
    "duration": 29,
    "start_time": "2022-06-22T14:06:08.746Z"
   },
   {
    "duration": 33,
    "start_time": "2022-06-22T14:06:08.785Z"
   },
   {
    "duration": 22,
    "start_time": "2022-06-22T14:06:08.820Z"
   },
   {
    "duration": 116,
    "start_time": "2022-06-22T14:06:08.844Z"
   },
   {
    "duration": 17,
    "start_time": "2022-06-22T14:06:08.969Z"
   },
   {
    "duration": 21,
    "start_time": "2022-06-22T14:06:08.989Z"
   },
   {
    "duration": 19,
    "start_time": "2022-06-22T14:06:09.012Z"
   },
   {
    "duration": 15,
    "start_time": "2022-06-22T14:06:09.035Z"
   },
   {
    "duration": 24,
    "start_time": "2022-06-22T14:06:09.051Z"
   },
   {
    "duration": 37,
    "start_time": "2022-06-22T14:06:09.083Z"
   },
   {
    "duration": 13,
    "start_time": "2022-06-22T14:06:09.121Z"
   },
   {
    "duration": 54,
    "start_time": "2022-06-22T14:06:09.136Z"
   },
   {
    "duration": 13,
    "start_time": "2022-06-22T14:06:09.194Z"
   },
   {
    "duration": 17,
    "start_time": "2022-06-22T14:06:09.209Z"
   },
   {
    "duration": 14,
    "start_time": "2022-06-22T14:06:09.227Z"
   },
   {
    "duration": 57,
    "start_time": "2022-06-22T14:06:09.243Z"
   },
   {
    "duration": 21,
    "start_time": "2022-06-22T14:06:09.301Z"
   },
   {
    "duration": 22,
    "start_time": "2022-06-22T14:06:09.324Z"
   },
   {
    "duration": 30,
    "start_time": "2022-06-22T14:06:09.347Z"
   },
   {
    "duration": 21,
    "start_time": "2022-06-22T14:06:09.379Z"
   },
   {
    "duration": 12,
    "start_time": "2022-06-22T14:06:09.402Z"
   },
   {
    "duration": 6,
    "start_time": "2022-06-22T14:06:09.415Z"
   },
   {
    "duration": 14,
    "start_time": "2022-06-22T14:06:09.422Z"
   },
   {
    "duration": 38,
    "start_time": "2022-06-22T14:06:09.438Z"
   },
   {
    "duration": 66,
    "start_time": "2022-06-22T14:06:09.478Z"
   },
   {
    "duration": 0,
    "start_time": "2022-06-22T14:06:09.545Z"
   },
   {
    "duration": 0,
    "start_time": "2022-06-22T14:06:09.547Z"
   },
   {
    "duration": 0,
    "start_time": "2022-06-22T14:06:09.548Z"
   },
   {
    "duration": 0,
    "start_time": "2022-06-22T14:06:09.549Z"
   },
   {
    "duration": 0,
    "start_time": "2022-06-22T14:06:09.552Z"
   },
   {
    "duration": 0,
    "start_time": "2022-06-22T14:06:09.555Z"
   },
   {
    "duration": 0,
    "start_time": "2022-06-22T14:06:09.556Z"
   },
   {
    "duration": 381,
    "start_time": "2022-06-22T14:06:37.519Z"
   },
   {
    "duration": 189,
    "start_time": "2022-06-22T14:06:37.902Z"
   },
   {
    "duration": 22,
    "start_time": "2022-06-22T14:06:38.095Z"
   },
   {
    "duration": 30,
    "start_time": "2022-06-22T14:06:38.120Z"
   },
   {
    "duration": 50,
    "start_time": "2022-06-22T14:06:38.152Z"
   },
   {
    "duration": 174,
    "start_time": "2022-06-22T14:06:38.204Z"
   },
   {
    "duration": 20,
    "start_time": "2022-06-22T14:06:38.385Z"
   },
   {
    "duration": 38,
    "start_time": "2022-06-22T14:06:38.408Z"
   },
   {
    "duration": 54,
    "start_time": "2022-06-22T14:06:38.448Z"
   },
   {
    "duration": 113,
    "start_time": "2022-06-22T14:06:38.509Z"
   },
   {
    "duration": 8,
    "start_time": "2022-06-22T14:06:38.624Z"
   },
   {
    "duration": 15,
    "start_time": "2022-06-22T14:06:38.634Z"
   },
   {
    "duration": 38,
    "start_time": "2022-06-22T14:06:38.652Z"
   },
   {
    "duration": 16,
    "start_time": "2022-06-22T14:06:38.695Z"
   },
   {
    "duration": 7,
    "start_time": "2022-06-22T14:06:38.713Z"
   },
   {
    "duration": 30,
    "start_time": "2022-06-22T14:06:38.722Z"
   },
   {
    "duration": 33,
    "start_time": "2022-06-22T14:06:38.759Z"
   },
   {
    "duration": 29,
    "start_time": "2022-06-22T14:06:38.794Z"
   },
   {
    "duration": 9,
    "start_time": "2022-06-22T14:06:38.825Z"
   },
   {
    "duration": 15,
    "start_time": "2022-06-22T14:06:38.835Z"
   },
   {
    "duration": 45,
    "start_time": "2022-06-22T14:06:38.855Z"
   },
   {
    "duration": 38,
    "start_time": "2022-06-22T14:06:38.902Z"
   },
   {
    "duration": 27,
    "start_time": "2022-06-22T14:06:38.942Z"
   },
   {
    "duration": 33,
    "start_time": "2022-06-22T14:06:38.974Z"
   },
   {
    "duration": 15,
    "start_time": "2022-06-22T14:06:39.009Z"
   },
   {
    "duration": 5,
    "start_time": "2022-06-22T14:06:39.026Z"
   },
   {
    "duration": 12,
    "start_time": "2022-06-22T14:06:39.032Z"
   },
   {
    "duration": 13,
    "start_time": "2022-06-22T14:06:39.052Z"
   },
   {
    "duration": 38,
    "start_time": "2022-06-22T14:06:39.069Z"
   },
   {
    "duration": 31,
    "start_time": "2022-06-22T14:06:39.109Z"
   },
   {
    "duration": 25,
    "start_time": "2022-06-22T14:06:39.141Z"
   },
   {
    "duration": 66,
    "start_time": "2022-06-22T14:06:39.167Z"
   },
   {
    "duration": 59,
    "start_time": "2022-06-22T14:06:39.235Z"
   },
   {
    "duration": 23,
    "start_time": "2022-06-22T14:06:39.297Z"
   },
   {
    "duration": 58,
    "start_time": "2022-06-22T14:06:39.322Z"
   },
   {
    "duration": 41,
    "start_time": "2022-06-22T14:06:39.384Z"
   },
   {
    "duration": 47,
    "start_time": "2022-06-22T14:06:39.427Z"
   },
   {
    "duration": 86,
    "start_time": "2022-06-22T14:06:39.483Z"
   },
   {
    "duration": 14,
    "start_time": "2022-06-22T14:07:34.999Z"
   },
   {
    "duration": 11,
    "start_time": "2022-06-22T14:08:54.303Z"
   },
   {
    "duration": 11,
    "start_time": "2022-06-22T14:09:34.443Z"
   },
   {
    "duration": 15,
    "start_time": "2022-06-22T14:10:15.433Z"
   },
   {
    "duration": 26,
    "start_time": "2022-06-22T14:11:05.509Z"
   },
   {
    "duration": 16,
    "start_time": "2022-06-22T14:12:14.320Z"
   },
   {
    "duration": 41,
    "start_time": "2022-06-22T14:12:21.437Z"
   },
   {
    "duration": 11,
    "start_time": "2022-06-22T14:15:48.608Z"
   },
   {
    "duration": 33,
    "start_time": "2022-06-22T14:21:43.595Z"
   },
   {
    "duration": 468,
    "start_time": "2022-06-22T15:04:00.830Z"
   },
   {
    "duration": 198,
    "start_time": "2022-06-22T15:04:01.300Z"
   },
   {
    "duration": 17,
    "start_time": "2022-06-22T15:04:01.499Z"
   },
   {
    "duration": 43,
    "start_time": "2022-06-22T15:04:01.518Z"
   },
   {
    "duration": 37,
    "start_time": "2022-06-22T15:04:01.563Z"
   },
   {
    "duration": 200,
    "start_time": "2022-06-22T15:04:01.602Z"
   },
   {
    "duration": 13,
    "start_time": "2022-06-22T15:04:01.805Z"
   },
   {
    "duration": 58,
    "start_time": "2022-06-22T15:04:01.820Z"
   },
   {
    "duration": 62,
    "start_time": "2022-06-22T15:04:01.883Z"
   },
   {
    "duration": 156,
    "start_time": "2022-06-22T15:04:01.949Z"
   },
   {
    "duration": 10,
    "start_time": "2022-06-22T15:04:02.107Z"
   },
   {
    "duration": 28,
    "start_time": "2022-06-22T15:04:02.119Z"
   },
   {
    "duration": 35,
    "start_time": "2022-06-22T15:04:02.149Z"
   },
   {
    "duration": 30,
    "start_time": "2022-06-22T15:04:02.185Z"
   },
   {
    "duration": 20,
    "start_time": "2022-06-22T15:04:02.218Z"
   },
   {
    "duration": 43,
    "start_time": "2022-06-22T15:04:02.240Z"
   },
   {
    "duration": 32,
    "start_time": "2022-06-22T15:04:02.285Z"
   },
   {
    "duration": 71,
    "start_time": "2022-06-22T15:04:02.318Z"
   },
   {
    "duration": 12,
    "start_time": "2022-06-22T15:04:02.391Z"
   },
   {
    "duration": 17,
    "start_time": "2022-06-22T15:04:02.404Z"
   },
   {
    "duration": 12,
    "start_time": "2022-06-22T15:04:02.423Z"
   },
   {
    "duration": 57,
    "start_time": "2022-06-22T15:04:02.437Z"
   },
   {
    "duration": 21,
    "start_time": "2022-06-22T15:04:02.496Z"
   },
   {
    "duration": 58,
    "start_time": "2022-06-22T15:04:02.519Z"
   },
   {
    "duration": 26,
    "start_time": "2022-06-22T15:04:02.586Z"
   },
   {
    "duration": 7,
    "start_time": "2022-06-22T15:04:02.615Z"
   },
   {
    "duration": 19,
    "start_time": "2022-06-22T15:04:02.624Z"
   },
   {
    "duration": 16,
    "start_time": "2022-06-22T15:04:02.648Z"
   },
   {
    "duration": 32,
    "start_time": "2022-06-22T15:04:02.670Z"
   },
   {
    "duration": 40,
    "start_time": "2022-06-22T15:04:02.704Z"
   },
   {
    "duration": 19,
    "start_time": "2022-06-22T15:04:02.746Z"
   },
   {
    "duration": 64,
    "start_time": "2022-06-22T15:04:02.766Z"
   },
   {
    "duration": 58,
    "start_time": "2022-06-22T15:04:02.832Z"
   },
   {
    "duration": 23,
    "start_time": "2022-06-22T15:04:02.892Z"
   },
   {
    "duration": 58,
    "start_time": "2022-06-22T15:04:02.916Z"
   },
   {
    "duration": 52,
    "start_time": "2022-06-22T15:04:02.978Z"
   },
   {
    "duration": 51,
    "start_time": "2022-06-22T15:04:03.032Z"
   },
   {
    "duration": 38,
    "start_time": "2022-06-22T15:04:03.086Z"
   },
   {
    "duration": 118,
    "start_time": "2022-06-22T15:10:06.339Z"
   },
   {
    "duration": 34,
    "start_time": "2022-06-22T15:14:10.586Z"
   },
   {
    "duration": 392,
    "start_time": "2022-06-22T15:14:23.853Z"
   },
   {
    "duration": 177,
    "start_time": "2022-06-22T15:14:24.247Z"
   },
   {
    "duration": 14,
    "start_time": "2022-06-22T15:14:24.425Z"
   },
   {
    "duration": 40,
    "start_time": "2022-06-22T15:14:24.440Z"
   },
   {
    "duration": 26,
    "start_time": "2022-06-22T15:14:24.483Z"
   },
   {
    "duration": 158,
    "start_time": "2022-06-22T15:14:24.511Z"
   },
   {
    "duration": 11,
    "start_time": "2022-06-22T15:14:24.674Z"
   },
   {
    "duration": 30,
    "start_time": "2022-06-22T15:14:24.686Z"
   },
   {
    "duration": 20,
    "start_time": "2022-06-22T15:14:24.717Z"
   },
   {
    "duration": 97,
    "start_time": "2022-06-22T15:14:24.738Z"
   },
   {
    "duration": 7,
    "start_time": "2022-06-22T15:14:24.837Z"
   },
   {
    "duration": 22,
    "start_time": "2022-06-22T15:14:24.845Z"
   },
   {
    "duration": 35,
    "start_time": "2022-06-22T15:14:24.869Z"
   },
   {
    "duration": 14,
    "start_time": "2022-06-22T15:14:24.908Z"
   },
   {
    "duration": 8,
    "start_time": "2022-06-22T15:14:24.923Z"
   },
   {
    "duration": 33,
    "start_time": "2022-06-22T15:14:24.932Z"
   },
   {
    "duration": 24,
    "start_time": "2022-06-22T15:14:24.967Z"
   },
   {
    "duration": 27,
    "start_time": "2022-06-22T15:14:24.993Z"
   },
   {
    "duration": 10,
    "start_time": "2022-06-22T15:14:25.021Z"
   },
   {
    "duration": 17,
    "start_time": "2022-06-22T15:14:25.033Z"
   },
   {
    "duration": 17,
    "start_time": "2022-06-22T15:14:25.051Z"
   },
   {
    "duration": 56,
    "start_time": "2022-06-22T15:14:25.070Z"
   },
   {
    "duration": 18,
    "start_time": "2022-06-22T15:14:25.128Z"
   },
   {
    "duration": 33,
    "start_time": "2022-06-22T15:14:25.148Z"
   },
   {
    "duration": 22,
    "start_time": "2022-06-22T15:14:25.183Z"
   },
   {
    "duration": 5,
    "start_time": "2022-06-22T15:14:25.207Z"
   },
   {
    "duration": 12,
    "start_time": "2022-06-22T15:14:25.214Z"
   },
   {
    "duration": 7,
    "start_time": "2022-06-22T15:14:25.228Z"
   },
   {
    "duration": 35,
    "start_time": "2022-06-22T15:14:25.236Z"
   },
   {
    "duration": 34,
    "start_time": "2022-06-22T15:14:25.278Z"
   },
   {
    "duration": 14,
    "start_time": "2022-06-22T15:14:25.313Z"
   },
   {
    "duration": 52,
    "start_time": "2022-06-22T15:14:25.328Z"
   },
   {
    "duration": 40,
    "start_time": "2022-06-22T15:14:25.382Z"
   },
   {
    "duration": 37,
    "start_time": "2022-06-22T15:14:25.423Z"
   },
   {
    "duration": 36,
    "start_time": "2022-06-22T15:14:25.462Z"
   },
   {
    "duration": 35,
    "start_time": "2022-06-22T15:14:25.500Z"
   },
   {
    "duration": 58,
    "start_time": "2022-06-22T15:14:25.536Z"
   },
   {
    "duration": 28,
    "start_time": "2022-06-22T15:14:25.595Z"
   },
   {
    "duration": 419,
    "start_time": "2022-06-23T10:33:13.469Z"
   },
   {
    "duration": 274,
    "start_time": "2022-06-23T10:33:13.890Z"
   },
   {
    "duration": 17,
    "start_time": "2022-06-23T10:33:14.166Z"
   },
   {
    "duration": 27,
    "start_time": "2022-06-23T10:33:14.184Z"
   },
   {
    "duration": 23,
    "start_time": "2022-06-23T10:33:14.213Z"
   },
   {
    "duration": 525,
    "start_time": "2022-06-23T10:33:14.238Z"
   },
   {
    "duration": 11,
    "start_time": "2022-06-23T10:33:14.765Z"
   },
   {
    "duration": 32,
    "start_time": "2022-06-23T10:33:14.778Z"
   },
   {
    "duration": 23,
    "start_time": "2022-06-23T10:33:14.811Z"
   },
   {
    "duration": 537,
    "start_time": "2022-06-23T10:33:14.836Z"
   },
   {
    "duration": 11,
    "start_time": "2022-06-23T10:33:15.377Z"
   },
   {
    "duration": 33,
    "start_time": "2022-06-23T10:33:15.390Z"
   },
   {
    "duration": 20,
    "start_time": "2022-06-23T10:33:15.425Z"
   },
   {
    "duration": 76,
    "start_time": "2022-06-23T10:33:15.448Z"
   },
   {
    "duration": 9,
    "start_time": "2022-06-23T10:33:15.527Z"
   },
   {
    "duration": 42,
    "start_time": "2022-06-23T10:33:15.539Z"
   },
   {
    "duration": 44,
    "start_time": "2022-06-23T10:33:15.584Z"
   },
   {
    "duration": 76,
    "start_time": "2022-06-23T10:33:15.630Z"
   },
   {
    "duration": 10,
    "start_time": "2022-06-23T10:33:15.708Z"
   },
   {
    "duration": 16,
    "start_time": "2022-06-23T10:33:15.720Z"
   },
   {
    "duration": 11,
    "start_time": "2022-06-23T10:33:15.738Z"
   },
   {
    "duration": 51,
    "start_time": "2022-06-23T10:33:15.752Z"
   },
   {
    "duration": 18,
    "start_time": "2022-06-23T10:33:15.805Z"
   },
   {
    "duration": 28,
    "start_time": "2022-06-23T10:33:15.825Z"
   },
   {
    "duration": 20,
    "start_time": "2022-06-23T10:33:15.857Z"
   },
   {
    "duration": 6,
    "start_time": "2022-06-23T10:33:15.879Z"
   },
   {
    "duration": 29,
    "start_time": "2022-06-23T10:33:15.886Z"
   },
   {
    "duration": 15,
    "start_time": "2022-06-23T10:33:15.917Z"
   },
   {
    "duration": 17,
    "start_time": "2022-06-23T10:33:15.934Z"
   },
   {
    "duration": 34,
    "start_time": "2022-06-23T10:33:15.959Z"
   },
   {
    "duration": 15,
    "start_time": "2022-06-23T10:33:15.995Z"
   },
   {
    "duration": 59,
    "start_time": "2022-06-23T10:33:16.011Z"
   },
   {
    "duration": 41,
    "start_time": "2022-06-23T10:33:16.072Z"
   },
   {
    "duration": 45,
    "start_time": "2022-06-23T10:33:16.115Z"
   },
   {
    "duration": 34,
    "start_time": "2022-06-23T10:33:16.162Z"
   },
   {
    "duration": 39,
    "start_time": "2022-06-23T10:33:16.198Z"
   },
   {
    "duration": 36,
    "start_time": "2022-06-23T10:33:16.251Z"
   },
   {
    "duration": 28,
    "start_time": "2022-06-23T10:33:16.289Z"
   },
   {
    "duration": 70,
    "start_time": "2022-06-23T10:36:22.271Z"
   },
   {
    "duration": 23,
    "start_time": "2022-06-23T10:36:31.542Z"
   },
   {
    "duration": 17,
    "start_time": "2022-06-23T10:37:06.843Z"
   },
   {
    "duration": 20,
    "start_time": "2022-06-23T10:38:19.829Z"
   },
   {
    "duration": 13,
    "start_time": "2022-06-23T10:38:35.219Z"
   },
   {
    "duration": 459,
    "start_time": "2022-06-23T10:40:17.306Z"
   },
   {
    "duration": 198,
    "start_time": "2022-06-23T10:40:17.770Z"
   },
   {
    "duration": 22,
    "start_time": "2022-06-23T10:40:17.971Z"
   },
   {
    "duration": 53,
    "start_time": "2022-06-23T10:40:17.996Z"
   },
   {
    "duration": 50,
    "start_time": "2022-06-23T10:40:18.061Z"
   },
   {
    "duration": 179,
    "start_time": "2022-06-23T10:40:18.114Z"
   },
   {
    "duration": 11,
    "start_time": "2022-06-23T10:40:18.295Z"
   },
   {
    "duration": 62,
    "start_time": "2022-06-23T10:40:18.308Z"
   },
   {
    "duration": 32,
    "start_time": "2022-06-23T10:40:18.372Z"
   },
   {
    "duration": 123,
    "start_time": "2022-06-23T10:40:18.406Z"
   },
   {
    "duration": 9,
    "start_time": "2022-06-23T10:40:18.531Z"
   },
   {
    "duration": 44,
    "start_time": "2022-06-23T10:40:18.551Z"
   },
   {
    "duration": 29,
    "start_time": "2022-06-23T10:40:18.597Z"
   },
   {
    "duration": 43,
    "start_time": "2022-06-23T10:40:18.630Z"
   },
   {
    "duration": 14,
    "start_time": "2022-06-23T10:40:18.676Z"
   },
   {
    "duration": 34,
    "start_time": "2022-06-23T10:40:18.691Z"
   },
   {
    "duration": 15,
    "start_time": "2022-06-23T10:40:18.726Z"
   },
   {
    "duration": 39,
    "start_time": "2022-06-23T10:40:18.743Z"
   },
   {
    "duration": 11,
    "start_time": "2022-06-23T10:40:18.783Z"
   },
   {
    "duration": 18,
    "start_time": "2022-06-23T10:40:18.795Z"
   },
   {
    "duration": 21,
    "start_time": "2022-06-23T10:40:18.815Z"
   },
   {
    "duration": 55,
    "start_time": "2022-06-23T10:40:18.838Z"
   },
   {
    "duration": 20,
    "start_time": "2022-06-23T10:40:18.895Z"
   },
   {
    "duration": 48,
    "start_time": "2022-06-23T10:40:18.916Z"
   },
   {
    "duration": 26,
    "start_time": "2022-06-23T10:40:18.969Z"
   },
   {
    "duration": 6,
    "start_time": "2022-06-23T10:40:18.996Z"
   },
   {
    "duration": 16,
    "start_time": "2022-06-23T10:40:19.004Z"
   },
   {
    "duration": 7,
    "start_time": "2022-06-23T10:40:19.023Z"
   },
   {
    "duration": 39,
    "start_time": "2022-06-23T10:40:19.032Z"
   },
   {
    "duration": 35,
    "start_time": "2022-06-23T10:40:19.073Z"
   },
   {
    "duration": 20,
    "start_time": "2022-06-23T10:40:19.110Z"
   },
   {
    "duration": 70,
    "start_time": "2022-06-23T10:40:19.132Z"
   },
   {
    "duration": 61,
    "start_time": "2022-06-23T10:40:19.204Z"
   },
   {
    "duration": 33,
    "start_time": "2022-06-23T10:40:19.269Z"
   },
   {
    "duration": 65,
    "start_time": "2022-06-23T10:40:19.305Z"
   },
   {
    "duration": 38,
    "start_time": "2022-06-23T10:40:19.372Z"
   },
   {
    "duration": 58,
    "start_time": "2022-06-23T10:40:19.412Z"
   },
   {
    "duration": 39,
    "start_time": "2022-06-23T10:40:19.472Z"
   },
   {
    "duration": 50,
    "start_time": "2022-06-23T10:40:19.513Z"
   },
   {
    "duration": 89,
    "start_time": "2022-06-23T10:40:19.569Z"
   },
   {
    "duration": 13,
    "start_time": "2022-06-23T10:41:28.670Z"
   },
   {
    "duration": 12,
    "start_time": "2022-06-23T10:44:37.703Z"
   },
   {
    "duration": 16,
    "start_time": "2022-06-23T10:45:53.704Z"
   },
   {
    "duration": 13,
    "start_time": "2022-06-23T10:48:44.801Z"
   },
   {
    "duration": 429,
    "start_time": "2022-06-23T10:48:54.212Z"
   },
   {
    "duration": 204,
    "start_time": "2022-06-23T10:48:54.643Z"
   },
   {
    "duration": 27,
    "start_time": "2022-06-23T10:48:54.851Z"
   },
   {
    "duration": 43,
    "start_time": "2022-06-23T10:48:54.880Z"
   },
   {
    "duration": 42,
    "start_time": "2022-06-23T10:48:54.926Z"
   },
   {
    "duration": 142,
    "start_time": "2022-06-23T10:48:54.973Z"
   },
   {
    "duration": 10,
    "start_time": "2022-06-23T10:48:55.118Z"
   },
   {
    "duration": 53,
    "start_time": "2022-06-23T10:48:55.131Z"
   },
   {
    "duration": 27,
    "start_time": "2022-06-23T10:48:55.186Z"
   },
   {
    "duration": 103,
    "start_time": "2022-06-23T10:48:55.215Z"
   },
   {
    "duration": 9,
    "start_time": "2022-06-23T10:48:55.319Z"
   },
   {
    "duration": 36,
    "start_time": "2022-06-23T10:48:55.330Z"
   },
   {
    "duration": 27,
    "start_time": "2022-06-23T10:48:55.369Z"
   },
   {
    "duration": 17,
    "start_time": "2022-06-23T10:48:55.400Z"
   },
   {
    "duration": 12,
    "start_time": "2022-06-23T10:48:55.419Z"
   },
   {
    "duration": 68,
    "start_time": "2022-06-23T10:48:55.433Z"
   },
   {
    "duration": 15,
    "start_time": "2022-06-23T10:48:55.503Z"
   },
   {
    "duration": 48,
    "start_time": "2022-06-23T10:48:55.520Z"
   },
   {
    "duration": 12,
    "start_time": "2022-06-23T10:48:55.570Z"
   },
   {
    "duration": 23,
    "start_time": "2022-06-23T10:48:55.585Z"
   },
   {
    "duration": 14,
    "start_time": "2022-06-23T10:48:55.611Z"
   },
   {
    "duration": 35,
    "start_time": "2022-06-23T10:48:55.627Z"
   },
   {
    "duration": 72,
    "start_time": "2022-06-23T10:48:55.664Z"
   },
   {
    "duration": 29,
    "start_time": "2022-06-23T10:48:55.739Z"
   },
   {
    "duration": 38,
    "start_time": "2022-06-23T10:48:55.770Z"
   },
   {
    "duration": 25,
    "start_time": "2022-06-23T10:48:55.811Z"
   },
   {
    "duration": 10,
    "start_time": "2022-06-23T10:48:55.853Z"
   },
   {
    "duration": 32,
    "start_time": "2022-06-23T10:48:55.865Z"
   },
   {
    "duration": 7,
    "start_time": "2022-06-23T10:48:55.899Z"
   },
   {
    "duration": 16,
    "start_time": "2022-06-23T10:48:55.908Z"
   },
   {
    "duration": 48,
    "start_time": "2022-06-23T10:48:55.926Z"
   },
   {
    "duration": 14,
    "start_time": "2022-06-23T10:48:55.976Z"
   },
   {
    "duration": 38,
    "start_time": "2022-06-23T10:48:55.992Z"
   },
   {
    "duration": 57,
    "start_time": "2022-06-23T10:48:56.051Z"
   },
   {
    "duration": 28,
    "start_time": "2022-06-23T10:48:56.110Z"
   },
   {
    "duration": 42,
    "start_time": "2022-06-23T10:48:56.151Z"
   },
   {
    "duration": 69,
    "start_time": "2022-06-23T10:48:56.195Z"
   },
   {
    "duration": 36,
    "start_time": "2022-06-23T10:48:56.269Z"
   },
   {
    "duration": 61,
    "start_time": "2022-06-23T10:48:56.307Z"
   },
   {
    "duration": 76,
    "start_time": "2022-06-23T10:48:56.372Z"
   },
   {
    "duration": 14,
    "start_time": "2022-06-23T10:50:36.107Z"
   },
   {
    "duration": 28,
    "start_time": "2022-06-23T10:51:07.838Z"
   },
   {
    "duration": 459,
    "start_time": "2022-06-23T10:52:54.348Z"
   },
   {
    "duration": 181,
    "start_time": "2022-06-23T10:52:54.810Z"
   },
   {
    "duration": 17,
    "start_time": "2022-06-23T10:52:54.993Z"
   },
   {
    "duration": 55,
    "start_time": "2022-06-23T10:52:55.012Z"
   },
   {
    "duration": 34,
    "start_time": "2022-06-23T10:52:55.070Z"
   },
   {
    "duration": 140,
    "start_time": "2022-06-23T10:52:55.106Z"
   },
   {
    "duration": 37,
    "start_time": "2022-06-23T10:52:55.250Z"
   },
   {
    "duration": 32,
    "start_time": "2022-06-23T10:52:55.289Z"
   },
   {
    "duration": 21,
    "start_time": "2022-06-23T10:52:55.323Z"
   },
   {
    "duration": 120,
    "start_time": "2022-06-23T10:52:55.345Z"
   },
   {
    "duration": 10,
    "start_time": "2022-06-23T10:52:55.469Z"
   },
   {
    "duration": 22,
    "start_time": "2022-06-23T10:52:55.481Z"
   },
   {
    "duration": 27,
    "start_time": "2022-06-23T10:52:55.506Z"
   },
   {
    "duration": 19,
    "start_time": "2022-06-23T10:52:55.535Z"
   },
   {
    "duration": 12,
    "start_time": "2022-06-23T10:52:55.556Z"
   },
   {
    "duration": 44,
    "start_time": "2022-06-23T10:52:55.569Z"
   },
   {
    "duration": 12,
    "start_time": "2022-06-23T10:52:55.614Z"
   },
   {
    "duration": 66,
    "start_time": "2022-06-23T10:52:55.627Z"
   },
   {
    "duration": 12,
    "start_time": "2022-06-23T10:52:55.695Z"
   },
   {
    "duration": 35,
    "start_time": "2022-06-23T10:52:55.709Z"
   },
   {
    "duration": 52,
    "start_time": "2022-06-23T10:52:55.746Z"
   },
   {
    "duration": 27,
    "start_time": "2022-06-23T10:52:55.800Z"
   },
   {
    "duration": 54,
    "start_time": "2022-06-23T10:52:55.828Z"
   },
   {
    "duration": 20,
    "start_time": "2022-06-23T10:52:55.884Z"
   },
   {
    "duration": 23,
    "start_time": "2022-06-23T10:52:55.905Z"
   },
   {
    "duration": 32,
    "start_time": "2022-06-23T10:52:55.930Z"
   },
   {
    "duration": 23,
    "start_time": "2022-06-23T10:52:55.964Z"
   },
   {
    "duration": 22,
    "start_time": "2022-06-23T10:52:55.989Z"
   },
   {
    "duration": 12,
    "start_time": "2022-06-23T10:52:56.013Z"
   },
   {
    "duration": 19,
    "start_time": "2022-06-23T10:52:56.026Z"
   },
   {
    "duration": 61,
    "start_time": "2022-06-23T10:52:56.047Z"
   },
   {
    "duration": 14,
    "start_time": "2022-06-23T10:52:56.110Z"
   },
   {
    "duration": 48,
    "start_time": "2022-06-23T10:52:56.126Z"
   },
   {
    "duration": 45,
    "start_time": "2022-06-23T10:52:56.175Z"
   },
   {
    "duration": 44,
    "start_time": "2022-06-23T10:52:56.222Z"
   },
   {
    "duration": 36,
    "start_time": "2022-06-23T10:52:56.271Z"
   },
   {
    "duration": 62,
    "start_time": "2022-06-23T10:52:56.309Z"
   },
   {
    "duration": 35,
    "start_time": "2022-06-23T10:52:56.377Z"
   },
   {
    "duration": 58,
    "start_time": "2022-06-23T10:52:56.414Z"
   },
   {
    "duration": 34,
    "start_time": "2022-06-23T10:52:56.480Z"
   },
   {
    "duration": 85,
    "start_time": "2022-06-23T10:56:23.328Z"
   },
   {
    "duration": 17,
    "start_time": "2022-06-23T10:56:35.925Z"
   },
   {
    "duration": 17,
    "start_time": "2022-06-23T10:58:02.796Z"
   },
   {
    "duration": 1589,
    "start_time": "2022-06-23T11:04:15.151Z"
   },
   {
    "duration": 20,
    "start_time": "2022-06-23T11:06:14.906Z"
   },
   {
    "duration": 15,
    "start_time": "2022-06-23T11:17:11.437Z"
   },
   {
    "duration": 411,
    "start_time": "2022-06-23T11:17:25.120Z"
   },
   {
    "duration": 192,
    "start_time": "2022-06-23T11:17:25.534Z"
   },
   {
    "duration": 16,
    "start_time": "2022-06-23T11:17:25.728Z"
   },
   {
    "duration": 47,
    "start_time": "2022-06-23T11:17:25.750Z"
   },
   {
    "duration": 26,
    "start_time": "2022-06-23T11:17:25.799Z"
   },
   {
    "duration": 156,
    "start_time": "2022-06-23T11:17:25.826Z"
   },
   {
    "duration": 11,
    "start_time": "2022-06-23T11:17:25.983Z"
   },
   {
    "duration": 31,
    "start_time": "2022-06-23T11:17:25.996Z"
   },
   {
    "duration": 37,
    "start_time": "2022-06-23T11:17:26.028Z"
   },
   {
    "duration": 128,
    "start_time": "2022-06-23T11:17:26.067Z"
   },
   {
    "duration": 11,
    "start_time": "2022-06-23T11:17:26.197Z"
   },
   {
    "duration": 21,
    "start_time": "2022-06-23T11:17:26.210Z"
   },
   {
    "duration": 24,
    "start_time": "2022-06-23T11:17:26.233Z"
   },
   {
    "duration": 38,
    "start_time": "2022-06-23T11:17:26.266Z"
   },
   {
    "duration": 12,
    "start_time": "2022-06-23T11:17:26.306Z"
   },
   {
    "duration": 43,
    "start_time": "2022-06-23T11:17:26.320Z"
   },
   {
    "duration": 40,
    "start_time": "2022-06-23T11:17:26.365Z"
   },
   {
    "duration": 31,
    "start_time": "2022-06-23T11:17:26.407Z"
   },
   {
    "duration": 14,
    "start_time": "2022-06-23T11:17:26.440Z"
   },
   {
    "duration": 26,
    "start_time": "2022-06-23T11:17:26.460Z"
   },
   {
    "duration": 18,
    "start_time": "2022-06-23T11:17:26.493Z"
   },
   {
    "duration": 11,
    "start_time": "2022-06-23T11:17:26.513Z"
   },
   {
    "duration": 53,
    "start_time": "2022-06-23T11:17:26.526Z"
   },
   {
    "duration": 24,
    "start_time": "2022-06-23T11:17:26.585Z"
   },
   {
    "duration": 21,
    "start_time": "2022-06-23T11:17:26.611Z"
   },
   {
    "duration": 29,
    "start_time": "2022-06-23T11:17:26.634Z"
   },
   {
    "duration": 11,
    "start_time": "2022-06-23T11:17:26.669Z"
   },
   {
    "duration": 18,
    "start_time": "2022-06-23T11:17:26.687Z"
   },
   {
    "duration": 6,
    "start_time": "2022-06-23T11:17:26.707Z"
   },
   {
    "duration": 13,
    "start_time": "2022-06-23T11:17:26.715Z"
   },
   {
    "duration": 57,
    "start_time": "2022-06-23T11:17:26.729Z"
   },
   {
    "duration": 13,
    "start_time": "2022-06-23T11:17:26.788Z"
   },
   {
    "duration": 37,
    "start_time": "2022-06-23T11:17:26.803Z"
   },
   {
    "duration": 54,
    "start_time": "2022-06-23T11:17:26.842Z"
   },
   {
    "duration": 26,
    "start_time": "2022-06-23T11:17:26.897Z"
   },
   {
    "duration": 58,
    "start_time": "2022-06-23T11:17:26.924Z"
   },
   {
    "duration": 38,
    "start_time": "2022-06-23T11:17:26.985Z"
   },
   {
    "duration": 60,
    "start_time": "2022-06-23T11:17:27.024Z"
   },
   {
    "duration": 33,
    "start_time": "2022-06-23T11:17:27.087Z"
   },
   {
    "duration": 20,
    "start_time": "2022-06-23T11:17:27.121Z"
   },
   {
    "duration": 38,
    "start_time": "2022-06-23T11:17:27.147Z"
   },
   {
    "duration": 26,
    "start_time": "2022-06-23T11:17:27.191Z"
   },
   {
    "duration": 1272,
    "start_time": "2022-06-23T11:17:27.219Z"
   },
   {
    "duration": 18,
    "start_time": "2022-06-23T11:23:54.270Z"
   },
   {
    "duration": 408,
    "start_time": "2022-06-23T11:24:16.694Z"
   },
   {
    "duration": 185,
    "start_time": "2022-06-23T11:24:17.104Z"
   },
   {
    "duration": 19,
    "start_time": "2022-06-23T11:24:17.294Z"
   },
   {
    "duration": 29,
    "start_time": "2022-06-23T11:24:17.316Z"
   },
   {
    "duration": 47,
    "start_time": "2022-06-23T11:24:17.350Z"
   },
   {
    "duration": 190,
    "start_time": "2022-06-23T11:24:17.399Z"
   },
   {
    "duration": 11,
    "start_time": "2022-06-23T11:24:17.590Z"
   },
   {
    "duration": 31,
    "start_time": "2022-06-23T11:24:17.602Z"
   },
   {
    "duration": 38,
    "start_time": "2022-06-23T11:24:17.635Z"
   },
   {
    "duration": 119,
    "start_time": "2022-06-23T11:24:17.675Z"
   },
   {
    "duration": 8,
    "start_time": "2022-06-23T11:24:17.796Z"
   },
   {
    "duration": 25,
    "start_time": "2022-06-23T11:24:17.806Z"
   },
   {
    "duration": 51,
    "start_time": "2022-06-23T11:24:17.833Z"
   },
   {
    "duration": 24,
    "start_time": "2022-06-23T11:24:17.888Z"
   },
   {
    "duration": 9,
    "start_time": "2022-06-23T11:24:17.913Z"
   },
   {
    "duration": 36,
    "start_time": "2022-06-23T11:24:17.924Z"
   },
   {
    "duration": 16,
    "start_time": "2022-06-23T11:24:17.961Z"
   },
   {
    "duration": 33,
    "start_time": "2022-06-23T11:24:17.986Z"
   },
   {
    "duration": 11,
    "start_time": "2022-06-23T11:24:18.021Z"
   },
   {
    "duration": 62,
    "start_time": "2022-06-23T11:24:18.034Z"
   },
   {
    "duration": 13,
    "start_time": "2022-06-23T11:24:18.098Z"
   },
   {
    "duration": 21,
    "start_time": "2022-06-23T11:24:18.113Z"
   },
   {
    "duration": 49,
    "start_time": "2022-06-23T11:24:18.135Z"
   },
   {
    "duration": 25,
    "start_time": "2022-06-23T11:24:18.189Z"
   },
   {
    "duration": 22,
    "start_time": "2022-06-23T11:24:18.216Z"
   },
   {
    "duration": 20,
    "start_time": "2022-06-23T11:24:18.240Z"
   },
   {
    "duration": 41,
    "start_time": "2022-06-23T11:24:18.261Z"
   },
   {
    "duration": 24,
    "start_time": "2022-06-23T11:24:18.303Z"
   },
   {
    "duration": 12,
    "start_time": "2022-06-23T11:24:18.330Z"
   },
   {
    "duration": 23,
    "start_time": "2022-06-23T11:24:18.344Z"
   },
   {
    "duration": 53,
    "start_time": "2022-06-23T11:24:18.375Z"
   },
   {
    "duration": 11,
    "start_time": "2022-06-23T11:24:18.430Z"
   },
   {
    "duration": 55,
    "start_time": "2022-06-23T11:24:18.444Z"
   },
   {
    "duration": 57,
    "start_time": "2022-06-23T11:24:18.501Z"
   },
   {
    "duration": 35,
    "start_time": "2022-06-23T11:24:18.562Z"
   },
   {
    "duration": 36,
    "start_time": "2022-06-23T11:24:18.598Z"
   },
   {
    "duration": 61,
    "start_time": "2022-06-23T11:24:18.635Z"
   },
   {
    "duration": 35,
    "start_time": "2022-06-23T11:24:18.698Z"
   },
   {
    "duration": 41,
    "start_time": "2022-06-23T11:24:18.753Z"
   },
   {
    "duration": 22,
    "start_time": "2022-06-23T11:24:18.796Z"
   },
   {
    "duration": 49,
    "start_time": "2022-06-23T11:24:18.821Z"
   },
   {
    "duration": 23,
    "start_time": "2022-06-23T11:24:18.872Z"
   },
   {
    "duration": 22,
    "start_time": "2022-06-23T11:24:18.897Z"
   },
   {
    "duration": 1518,
    "start_time": "2022-06-23T11:24:18.921Z"
   },
   {
    "duration": 23,
    "start_time": "2022-06-23T11:25:26.213Z"
   },
   {
    "duration": 1602,
    "start_time": "2022-06-23T11:27:01.699Z"
   },
   {
    "duration": 134,
    "start_time": "2022-06-23T11:29:49.886Z"
   },
   {
    "duration": 159,
    "start_time": "2022-06-23T11:30:03.125Z"
   },
   {
    "duration": 9,
    "start_time": "2022-06-23T11:52:27.838Z"
   },
   {
    "duration": 20,
    "start_time": "2022-06-23T12:08:50.255Z"
   },
   {
    "duration": 8,
    "start_time": "2022-06-23T12:23:45.608Z"
   },
   {
    "duration": 8,
    "start_time": "2022-06-23T12:24:06.386Z"
   },
   {
    "duration": 11,
    "start_time": "2022-06-23T12:25:06.691Z"
   },
   {
    "duration": 11,
    "start_time": "2022-06-23T12:29:37.898Z"
   },
   {
    "duration": 23,
    "start_time": "2022-06-23T12:29:48.824Z"
   },
   {
    "duration": 16,
    "start_time": "2022-06-23T12:29:57.791Z"
   },
   {
    "duration": 17,
    "start_time": "2022-06-23T12:30:03.874Z"
   },
   {
    "duration": 16,
    "start_time": "2022-06-23T12:31:41.524Z"
   },
   {
    "duration": 3,
    "start_time": "2022-06-23T12:42:23.742Z"
   },
   {
    "duration": 4,
    "start_time": "2022-06-23T12:42:36.274Z"
   },
   {
    "duration": 5,
    "start_time": "2022-06-23T12:46:18.825Z"
   },
   {
    "duration": 422,
    "start_time": "2022-06-23T21:45:51.878Z"
   },
   {
    "duration": 288,
    "start_time": "2022-06-23T21:45:52.302Z"
   },
   {
    "duration": 15,
    "start_time": "2022-06-23T21:45:52.593Z"
   },
   {
    "duration": 42,
    "start_time": "2022-06-23T21:45:52.609Z"
   },
   {
    "duration": 27,
    "start_time": "2022-06-23T21:45:52.653Z"
   },
   {
    "duration": 501,
    "start_time": "2022-06-23T21:45:52.681Z"
   },
   {
    "duration": 9,
    "start_time": "2022-06-23T21:45:53.183Z"
   },
   {
    "duration": 60,
    "start_time": "2022-06-23T21:45:53.194Z"
   },
   {
    "duration": 36,
    "start_time": "2022-06-23T21:45:53.257Z"
   },
   {
    "duration": 710,
    "start_time": "2022-06-23T21:45:53.295Z"
   },
   {
    "duration": 7,
    "start_time": "2022-06-23T21:45:54.007Z"
   },
   {
    "duration": 22,
    "start_time": "2022-06-23T21:45:54.016Z"
   },
   {
    "duration": 29,
    "start_time": "2022-06-23T21:45:54.041Z"
   },
   {
    "duration": 70,
    "start_time": "2022-06-23T21:45:54.073Z"
   },
   {
    "duration": 12,
    "start_time": "2022-06-23T21:45:54.145Z"
   },
   {
    "duration": 28,
    "start_time": "2022-06-23T21:45:54.159Z"
   },
   {
    "duration": 13,
    "start_time": "2022-06-23T21:45:54.188Z"
   },
   {
    "duration": 69,
    "start_time": "2022-06-23T21:45:54.202Z"
   },
   {
    "duration": 10,
    "start_time": "2022-06-23T21:45:54.273Z"
   },
   {
    "duration": 23,
    "start_time": "2022-06-23T21:45:54.286Z"
   },
   {
    "duration": 18,
    "start_time": "2022-06-23T21:45:54.311Z"
   },
   {
    "duration": 49,
    "start_time": "2022-06-23T21:45:54.331Z"
   },
   {
    "duration": 35,
    "start_time": "2022-06-23T21:45:54.383Z"
   },
   {
    "duration": 28,
    "start_time": "2022-06-23T21:45:54.420Z"
   },
   {
    "duration": 45,
    "start_time": "2022-06-23T21:45:54.450Z"
   },
   {
    "duration": 34,
    "start_time": "2022-06-23T21:45:54.498Z"
   },
   {
    "duration": 26,
    "start_time": "2022-06-23T21:45:54.534Z"
   },
   {
    "duration": 34,
    "start_time": "2022-06-23T21:45:54.563Z"
   },
   {
    "duration": 18,
    "start_time": "2022-06-23T21:45:54.599Z"
   },
   {
    "duration": 44,
    "start_time": "2022-06-23T21:45:54.619Z"
   },
   {
    "duration": 52,
    "start_time": "2022-06-23T21:45:54.666Z"
   },
   {
    "duration": 16,
    "start_time": "2022-06-23T21:45:54.722Z"
   },
   {
    "duration": 81,
    "start_time": "2022-06-23T21:45:54.740Z"
   },
   {
    "duration": 61,
    "start_time": "2022-06-23T21:45:54.823Z"
   },
   {
    "duration": 41,
    "start_time": "2022-06-23T21:45:54.887Z"
   },
   {
    "duration": 46,
    "start_time": "2022-06-23T21:45:54.930Z"
   },
   {
    "duration": 62,
    "start_time": "2022-06-23T21:45:54.978Z"
   },
   {
    "duration": 36,
    "start_time": "2022-06-23T21:45:55.042Z"
   },
   {
    "duration": 27,
    "start_time": "2022-06-23T21:45:55.080Z"
   },
   {
    "duration": 29,
    "start_time": "2022-06-23T21:45:55.129Z"
   },
   {
    "duration": 23,
    "start_time": "2022-06-23T21:45:55.162Z"
   },
   {
    "duration": 41,
    "start_time": "2022-06-23T21:45:55.187Z"
   },
   {
    "duration": 36,
    "start_time": "2022-06-23T21:45:55.230Z"
   },
   {
    "duration": 125,
    "start_time": "2022-06-23T21:45:55.268Z"
   },
   {
    "duration": 9,
    "start_time": "2022-06-23T21:45:55.394Z"
   },
   {
    "duration": 35,
    "start_time": "2022-06-23T21:45:55.404Z"
   },
   {
    "duration": 24,
    "start_time": "2022-06-23T21:45:55.441Z"
   },
   {
    "duration": 6,
    "start_time": "2022-06-23T21:45:55.467Z"
   },
   {
    "duration": 426,
    "start_time": "2022-06-24T09:08:03.109Z"
   },
   {
    "duration": 240,
    "start_time": "2022-06-24T09:08:03.537Z"
   },
   {
    "duration": 14,
    "start_time": "2022-06-24T09:08:03.778Z"
   },
   {
    "duration": 30,
    "start_time": "2022-06-24T09:08:03.794Z"
   },
   {
    "duration": 30,
    "start_time": "2022-06-24T09:08:03.827Z"
   },
   {
    "duration": 295,
    "start_time": "2022-06-24T09:08:03.859Z"
   },
   {
    "duration": 10,
    "start_time": "2022-06-24T09:08:04.155Z"
   },
   {
    "duration": 30,
    "start_time": "2022-06-24T09:08:04.166Z"
   },
   {
    "duration": 23,
    "start_time": "2022-06-24T09:08:04.198Z"
   },
   {
    "duration": 314,
    "start_time": "2022-06-24T09:08:04.222Z"
   },
   {
    "duration": 7,
    "start_time": "2022-06-24T09:08:04.538Z"
   },
   {
    "duration": 17,
    "start_time": "2022-06-24T09:08:04.547Z"
   },
   {
    "duration": 23,
    "start_time": "2022-06-24T09:08:04.566Z"
   },
   {
    "duration": 70,
    "start_time": "2022-06-24T09:08:04.593Z"
   },
   {
    "duration": 8,
    "start_time": "2022-06-24T09:08:04.665Z"
   },
   {
    "duration": 29,
    "start_time": "2022-06-24T09:08:04.674Z"
   },
   {
    "duration": 10,
    "start_time": "2022-06-24T09:08:04.704Z"
   },
   {
    "duration": 64,
    "start_time": "2022-06-24T09:08:04.715Z"
   },
   {
    "duration": 11,
    "start_time": "2022-06-24T09:08:04.780Z"
   },
   {
    "duration": 21,
    "start_time": "2022-06-24T09:08:04.792Z"
   },
   {
    "duration": 11,
    "start_time": "2022-06-24T09:08:04.815Z"
   },
   {
    "duration": 18,
    "start_time": "2022-06-24T09:08:04.827Z"
   },
   {
    "duration": 36,
    "start_time": "2022-06-24T09:08:04.847Z"
   },
   {
    "duration": 23,
    "start_time": "2022-06-24T09:08:04.885Z"
   },
   {
    "duration": 36,
    "start_time": "2022-06-24T09:08:04.909Z"
   },
   {
    "duration": 16,
    "start_time": "2022-06-24T09:08:04.947Z"
   },
   {
    "duration": 6,
    "start_time": "2022-06-24T09:08:04.964Z"
   },
   {
    "duration": 20,
    "start_time": "2022-06-24T09:08:04.971Z"
   },
   {
    "duration": 12,
    "start_time": "2022-06-24T09:08:04.992Z"
   },
   {
    "duration": 26,
    "start_time": "2022-06-24T09:08:05.006Z"
   },
   {
    "duration": 38,
    "start_time": "2022-06-24T09:08:05.034Z"
   },
   {
    "duration": 11,
    "start_time": "2022-06-24T09:08:05.073Z"
   },
   {
    "duration": 59,
    "start_time": "2022-06-24T09:08:05.085Z"
   },
   {
    "duration": 42,
    "start_time": "2022-06-24T09:08:05.146Z"
   },
   {
    "duration": 44,
    "start_time": "2022-06-24T09:08:05.189Z"
   },
   {
    "duration": 34,
    "start_time": "2022-06-24T09:08:05.235Z"
   },
   {
    "duration": 37,
    "start_time": "2022-06-24T09:08:05.270Z"
   },
   {
    "duration": 33,
    "start_time": "2022-06-24T09:08:05.327Z"
   },
   {
    "duration": 28,
    "start_time": "2022-06-24T09:08:05.361Z"
   },
   {
    "duration": 44,
    "start_time": "2022-06-24T09:08:05.390Z"
   },
   {
    "duration": 16,
    "start_time": "2022-06-24T09:08:05.437Z"
   },
   {
    "duration": 27,
    "start_time": "2022-06-24T09:08:05.455Z"
   },
   {
    "duration": 40,
    "start_time": "2022-06-24T09:08:05.483Z"
   },
   {
    "duration": 130,
    "start_time": "2022-06-24T09:08:05.525Z"
   },
   {
    "duration": 9,
    "start_time": "2022-06-24T09:08:05.656Z"
   },
   {
    "duration": 21,
    "start_time": "2022-06-24T09:08:05.667Z"
   },
   {
    "duration": 16,
    "start_time": "2022-06-24T09:08:05.691Z"
   },
   {
    "duration": 21,
    "start_time": "2022-06-24T09:08:05.709Z"
   },
   {
    "duration": 91,
    "start_time": "2022-06-24T09:08:05.732Z"
   },
   {
    "duration": 7,
    "start_time": "2022-06-24T09:11:53.719Z"
   },
   {
    "duration": 9,
    "start_time": "2022-06-24T09:15:53.285Z"
   },
   {
    "duration": 17,
    "start_time": "2022-06-24T09:16:06.757Z"
   },
   {
    "duration": 13,
    "start_time": "2022-06-24T09:16:15.422Z"
   },
   {
    "duration": 13,
    "start_time": "2022-06-24T09:16:57.984Z"
   },
   {
    "duration": 14,
    "start_time": "2022-06-24T09:17:55.417Z"
   },
   {
    "duration": 13,
    "start_time": "2022-06-24T09:18:58.637Z"
   },
   {
    "duration": 13,
    "start_time": "2022-06-24T09:20:02.685Z"
   },
   {
    "duration": 434,
    "start_time": "2022-06-24T09:21:17.818Z"
   },
   {
    "duration": 159,
    "start_time": "2022-06-24T09:21:18.254Z"
   },
   {
    "duration": 20,
    "start_time": "2022-06-24T09:21:18.414Z"
   },
   {
    "duration": 31,
    "start_time": "2022-06-24T09:21:18.436Z"
   },
   {
    "duration": 26,
    "start_time": "2022-06-24T09:21:18.469Z"
   },
   {
    "duration": 134,
    "start_time": "2022-06-24T09:21:18.496Z"
   },
   {
    "duration": 9,
    "start_time": "2022-06-24T09:21:18.632Z"
   },
   {
    "duration": 32,
    "start_time": "2022-06-24T09:21:18.642Z"
   },
   {
    "duration": 23,
    "start_time": "2022-06-24T09:21:18.676Z"
   },
   {
    "duration": 94,
    "start_time": "2022-06-24T09:21:18.701Z"
   },
   {
    "duration": 7,
    "start_time": "2022-06-24T09:21:18.796Z"
   },
   {
    "duration": 25,
    "start_time": "2022-06-24T09:21:18.805Z"
   },
   {
    "duration": 19,
    "start_time": "2022-06-24T09:21:18.832Z"
   },
   {
    "duration": 19,
    "start_time": "2022-06-24T09:21:18.854Z"
   },
   {
    "duration": 8,
    "start_time": "2022-06-24T09:21:18.875Z"
   },
   {
    "duration": 43,
    "start_time": "2022-06-24T09:21:18.885Z"
   },
   {
    "duration": 10,
    "start_time": "2022-06-24T09:21:18.930Z"
   },
   {
    "duration": 32,
    "start_time": "2022-06-24T09:21:18.942Z"
   },
   {
    "duration": 10,
    "start_time": "2022-06-24T09:21:18.975Z"
   },
   {
    "duration": 16,
    "start_time": "2022-06-24T09:21:18.987Z"
   },
   {
    "duration": 12,
    "start_time": "2022-06-24T09:21:19.005Z"
   },
   {
    "duration": 17,
    "start_time": "2022-06-24T09:21:19.019Z"
   },
   {
    "duration": 35,
    "start_time": "2022-06-24T09:21:19.038Z"
   },
   {
    "duration": 20,
    "start_time": "2022-06-24T09:21:19.074Z"
   },
   {
    "duration": 55,
    "start_time": "2022-06-24T09:21:19.096Z"
   },
   {
    "duration": 19,
    "start_time": "2022-06-24T09:21:19.153Z"
   },
   {
    "duration": 6,
    "start_time": "2022-06-24T09:21:19.174Z"
   },
   {
    "duration": 40,
    "start_time": "2022-06-24T09:21:19.182Z"
   },
   {
    "duration": 11,
    "start_time": "2022-06-24T09:21:19.224Z"
   },
   {
    "duration": 14,
    "start_time": "2022-06-24T09:21:19.237Z"
   },
   {
    "duration": 35,
    "start_time": "2022-06-24T09:21:19.253Z"
   },
   {
    "duration": 11,
    "start_time": "2022-06-24T09:21:19.289Z"
   },
   {
    "duration": 51,
    "start_time": "2022-06-24T09:21:19.302Z"
   },
   {
    "duration": 45,
    "start_time": "2022-06-24T09:21:19.355Z"
   },
   {
    "duration": 36,
    "start_time": "2022-06-24T09:21:19.402Z"
   },
   {
    "duration": 33,
    "start_time": "2022-06-24T09:21:19.440Z"
   },
   {
    "duration": 62,
    "start_time": "2022-06-24T09:21:19.475Z"
   },
   {
    "duration": 36,
    "start_time": "2022-06-24T09:21:19.539Z"
   },
   {
    "duration": 31,
    "start_time": "2022-06-24T09:21:19.576Z"
   },
   {
    "duration": 34,
    "start_time": "2022-06-24T09:21:19.609Z"
   },
   {
    "duration": 17,
    "start_time": "2022-06-24T09:21:19.647Z"
   },
   {
    "duration": 17,
    "start_time": "2022-06-24T09:21:19.665Z"
   },
   {
    "duration": 45,
    "start_time": "2022-06-24T09:21:19.683Z"
   },
   {
    "duration": 124,
    "start_time": "2022-06-24T09:21:19.730Z"
   },
   {
    "duration": 10,
    "start_time": "2022-06-24T09:21:19.856Z"
   },
   {
    "duration": 6,
    "start_time": "2022-06-24T09:21:19.868Z"
   },
   {
    "duration": 21,
    "start_time": "2022-06-24T09:21:19.876Z"
   },
   {
    "duration": 34,
    "start_time": "2022-06-24T09:21:19.899Z"
   },
   {
    "duration": 12,
    "start_time": "2022-06-24T09:21:19.935Z"
   },
   {
    "duration": 21,
    "start_time": "2022-06-24T09:21:19.949Z"
   },
   {
    "duration": 13,
    "start_time": "2022-06-24T09:21:19.971Z"
   },
   {
    "duration": 10,
    "start_time": "2022-06-24T09:21:19.986Z"
   },
   {
    "duration": 13,
    "start_time": "2022-06-24T09:21:45.946Z"
   },
   {
    "duration": 17,
    "start_time": "2022-06-24T09:23:24.009Z"
   },
   {
    "duration": 756,
    "start_time": "2022-06-24T09:40:33.337Z"
   },
   {
    "duration": 54,
    "start_time": "2022-06-24T12:34:56.629Z"
   },
   {
    "duration": 407,
    "start_time": "2022-06-24T12:35:26.794Z"
   },
   {
    "duration": 566,
    "start_time": "2022-06-24T12:35:27.203Z"
   },
   {
    "duration": 15,
    "start_time": "2022-06-24T12:35:27.771Z"
   },
   {
    "duration": 28,
    "start_time": "2022-06-24T12:35:27.788Z"
   },
   {
    "duration": 25,
    "start_time": "2022-06-24T12:35:27.819Z"
   },
   {
    "duration": 468,
    "start_time": "2022-06-24T12:35:27.846Z"
   },
   {
    "duration": 13,
    "start_time": "2022-06-24T12:35:28.316Z"
   },
   {
    "duration": 40,
    "start_time": "2022-06-24T12:35:28.331Z"
   },
   {
    "duration": 28,
    "start_time": "2022-06-24T12:35:28.375Z"
   },
   {
    "duration": 176,
    "start_time": "2022-06-24T12:35:28.405Z"
   },
   {
    "duration": 8,
    "start_time": "2022-06-24T12:35:28.582Z"
   },
   {
    "duration": 16,
    "start_time": "2022-06-24T12:35:28.592Z"
   },
   {
    "duration": 19,
    "start_time": "2022-06-24T12:35:28.609Z"
   },
   {
    "duration": 60,
    "start_time": "2022-06-24T12:35:28.631Z"
   },
   {
    "duration": 8,
    "start_time": "2022-06-24T12:35:28.693Z"
   },
   {
    "duration": 33,
    "start_time": "2022-06-24T12:35:28.703Z"
   },
   {
    "duration": 11,
    "start_time": "2022-06-24T12:35:28.738Z"
   },
   {
    "duration": 72,
    "start_time": "2022-06-24T12:35:28.751Z"
   },
   {
    "duration": 10,
    "start_time": "2022-06-24T12:35:28.827Z"
   },
   {
    "duration": 23,
    "start_time": "2022-06-24T12:35:28.838Z"
   },
   {
    "duration": 22,
    "start_time": "2022-06-24T12:35:28.862Z"
   },
   {
    "duration": 15,
    "start_time": "2022-06-24T12:35:28.886Z"
   },
   {
    "duration": 33,
    "start_time": "2022-06-24T12:35:28.903Z"
   },
   {
    "duration": 26,
    "start_time": "2022-06-24T12:35:28.938Z"
   },
   {
    "duration": 28,
    "start_time": "2022-06-24T12:35:28.966Z"
   },
   {
    "duration": 17,
    "start_time": "2022-06-24T12:35:28.995Z"
   },
   {
    "duration": 7,
    "start_time": "2022-06-24T12:35:29.014Z"
   },
   {
    "duration": 31,
    "start_time": "2022-06-24T12:35:29.023Z"
   },
   {
    "duration": 15,
    "start_time": "2022-06-24T12:35:29.060Z"
   },
   {
    "duration": 14,
    "start_time": "2022-06-24T12:35:29.076Z"
   },
   {
    "duration": 35,
    "start_time": "2022-06-24T12:35:29.091Z"
   },
   {
    "duration": 25,
    "start_time": "2022-06-24T12:35:29.128Z"
   },
   {
    "duration": 44,
    "start_time": "2022-06-24T12:35:29.155Z"
   },
   {
    "duration": 72,
    "start_time": "2022-06-24T12:35:29.201Z"
   },
   {
    "duration": 23,
    "start_time": "2022-06-24T12:35:29.275Z"
   },
   {
    "duration": 32,
    "start_time": "2022-06-24T12:35:29.300Z"
   },
   {
    "duration": 52,
    "start_time": "2022-06-24T12:35:29.334Z"
   },
   {
    "duration": 32,
    "start_time": "2022-06-24T12:35:29.388Z"
   },
   {
    "duration": 57,
    "start_time": "2022-06-24T12:35:29.422Z"
   },
   {
    "duration": 21,
    "start_time": "2022-06-24T12:35:29.481Z"
   },
   {
    "duration": 17,
    "start_time": "2022-06-24T12:35:29.507Z"
   },
   {
    "duration": 45,
    "start_time": "2022-06-24T12:35:29.526Z"
   },
   {
    "duration": 20,
    "start_time": "2022-06-24T12:35:29.573Z"
   },
   {
    "duration": 141,
    "start_time": "2022-06-24T12:35:29.595Z"
   },
   {
    "duration": 19,
    "start_time": "2022-06-24T12:35:29.738Z"
   },
   {
    "duration": 4,
    "start_time": "2022-06-24T12:35:29.762Z"
   },
   {
    "duration": 8,
    "start_time": "2022-06-24T12:35:29.767Z"
   },
   {
    "duration": 16,
    "start_time": "2022-06-24T12:35:29.777Z"
   },
   {
    "duration": 13,
    "start_time": "2022-06-24T12:35:29.795Z"
   },
   {
    "duration": 15,
    "start_time": "2022-06-24T12:35:29.809Z"
   },
   {
    "duration": 44,
    "start_time": "2022-06-24T12:35:29.825Z"
   },
   {
    "duration": 18,
    "start_time": "2022-06-24T12:35:29.871Z"
   },
   {
    "duration": 15,
    "start_time": "2022-06-24T12:35:29.890Z"
   },
   {
    "duration": 731,
    "start_time": "2022-06-24T12:35:29.906Z"
   },
   {
    "duration": 246,
    "start_time": "2022-06-24T12:35:30.639Z"
   },
   {
    "duration": 239,
    "start_time": "2022-06-24T12:36:28.095Z"
   },
   {
    "duration": 277,
    "start_time": "2022-06-24T12:36:49.728Z"
   },
   {
    "duration": 426,
    "start_time": "2022-06-24T12:38:20.191Z"
   },
   {
    "duration": 176,
    "start_time": "2022-06-24T12:38:20.619Z"
   },
   {
    "duration": 15,
    "start_time": "2022-06-24T12:38:20.797Z"
   },
   {
    "duration": 53,
    "start_time": "2022-06-24T12:38:20.813Z"
   },
   {
    "duration": 27,
    "start_time": "2022-06-24T12:38:20.869Z"
   },
   {
    "duration": 193,
    "start_time": "2022-06-24T12:38:20.898Z"
   },
   {
    "duration": 11,
    "start_time": "2022-06-24T12:38:21.093Z"
   },
   {
    "duration": 42,
    "start_time": "2022-06-24T12:38:21.106Z"
   },
   {
    "duration": 34,
    "start_time": "2022-06-24T12:38:21.150Z"
   },
   {
    "duration": 102,
    "start_time": "2022-06-24T12:38:21.186Z"
   },
   {
    "duration": 8,
    "start_time": "2022-06-24T12:38:21.290Z"
   },
   {
    "duration": 15,
    "start_time": "2022-06-24T12:38:21.300Z"
   },
   {
    "duration": 47,
    "start_time": "2022-06-24T12:38:21.316Z"
   },
   {
    "duration": 16,
    "start_time": "2022-06-24T12:38:21.366Z"
   },
   {
    "duration": 8,
    "start_time": "2022-06-24T12:38:21.384Z"
   },
   {
    "duration": 26,
    "start_time": "2022-06-24T12:38:21.394Z"
   },
   {
    "duration": 11,
    "start_time": "2022-06-24T12:38:21.421Z"
   },
   {
    "duration": 35,
    "start_time": "2022-06-24T12:38:21.434Z"
   },
   {
    "duration": 11,
    "start_time": "2022-06-24T12:38:21.471Z"
   },
   {
    "duration": 17,
    "start_time": "2022-06-24T12:38:21.483Z"
   },
   {
    "duration": 16,
    "start_time": "2022-06-24T12:38:21.502Z"
   },
   {
    "duration": 16,
    "start_time": "2022-06-24T12:38:21.520Z"
   },
   {
    "duration": 58,
    "start_time": "2022-06-24T12:38:21.537Z"
   },
   {
    "duration": 18,
    "start_time": "2022-06-24T12:38:21.597Z"
   },
   {
    "duration": 44,
    "start_time": "2022-06-24T12:38:21.617Z"
   },
   {
    "duration": 21,
    "start_time": "2022-06-24T12:38:21.662Z"
   },
   {
    "duration": 6,
    "start_time": "2022-06-24T12:38:21.684Z"
   },
   {
    "duration": 13,
    "start_time": "2022-06-24T12:38:21.692Z"
   },
   {
    "duration": 7,
    "start_time": "2022-06-24T12:38:21.706Z"
   },
   {
    "duration": 14,
    "start_time": "2022-06-24T12:38:21.715Z"
   },
   {
    "duration": 52,
    "start_time": "2022-06-24T12:38:21.731Z"
   },
   {
    "duration": 11,
    "start_time": "2022-06-24T12:38:21.785Z"
   },
   {
    "duration": 72,
    "start_time": "2022-06-24T12:38:21.798Z"
   },
   {
    "duration": 46,
    "start_time": "2022-06-24T12:38:21.872Z"
   },
   {
    "duration": 43,
    "start_time": "2022-06-24T12:38:21.920Z"
   },
   {
    "duration": 35,
    "start_time": "2022-06-24T12:38:21.964Z"
   },
   {
    "duration": 61,
    "start_time": "2022-06-24T12:38:22.001Z"
   },
   {
    "duration": 36,
    "start_time": "2022-06-24T12:38:22.063Z"
   },
   {
    "duration": 31,
    "start_time": "2022-06-24T12:38:22.100Z"
   },
   {
    "duration": 42,
    "start_time": "2022-06-24T12:38:22.133Z"
   },
   {
    "duration": 18,
    "start_time": "2022-06-24T12:38:22.178Z"
   },
   {
    "duration": 20,
    "start_time": "2022-06-24T12:38:22.198Z"
   },
   {
    "duration": 50,
    "start_time": "2022-06-24T12:38:22.220Z"
   },
   {
    "duration": 126,
    "start_time": "2022-06-24T12:38:22.272Z"
   },
   {
    "duration": 18,
    "start_time": "2022-06-24T12:38:22.400Z"
   },
   {
    "duration": 6,
    "start_time": "2022-06-24T12:38:22.420Z"
   },
   {
    "duration": 5,
    "start_time": "2022-06-24T12:38:22.428Z"
   },
   {
    "duration": 36,
    "start_time": "2022-06-24T12:38:22.435Z"
   },
   {
    "duration": 14,
    "start_time": "2022-06-24T12:38:22.473Z"
   },
   {
    "duration": 14,
    "start_time": "2022-06-24T12:38:22.488Z"
   },
   {
    "duration": 13,
    "start_time": "2022-06-24T12:38:22.504Z"
   },
   {
    "duration": 14,
    "start_time": "2022-06-24T12:38:22.518Z"
   },
   {
    "duration": 18,
    "start_time": "2022-06-24T12:38:22.553Z"
   },
   {
    "duration": 496,
    "start_time": "2022-06-24T12:38:22.574Z"
   },
   {
    "duration": 259,
    "start_time": "2022-06-24T12:38:23.072Z"
   },
   {
    "duration": 234,
    "start_time": "2022-06-24T12:38:23.333Z"
   },
   {
    "duration": 261,
    "start_time": "2022-06-24T12:38:56.346Z"
   },
   {
    "duration": 218,
    "start_time": "2022-06-24T12:39:37.202Z"
   },
   {
    "duration": 232,
    "start_time": "2022-06-24T12:39:37.703Z"
   },
   {
    "duration": 208,
    "start_time": "2022-06-24T12:39:38.212Z"
   },
   {
    "duration": 213,
    "start_time": "2022-06-24T12:41:18.974Z"
   },
   {
    "duration": 211,
    "start_time": "2022-06-24T12:41:19.298Z"
   },
   {
    "duration": 210,
    "start_time": "2022-06-24T12:41:19.512Z"
   },
   {
    "duration": 209,
    "start_time": "2022-06-24T12:45:08.766Z"
   },
   {
    "duration": 199,
    "start_time": "2022-06-24T12:45:17.699Z"
   },
   {
    "duration": 200,
    "start_time": "2022-06-24T12:45:39.529Z"
   },
   {
    "duration": 230,
    "start_time": "2022-06-24T12:46:39.814Z"
   },
   {
    "duration": 312,
    "start_time": "2022-06-24T12:46:58.077Z"
   },
   {
    "duration": 211,
    "start_time": "2022-06-24T12:48:32.167Z"
   },
   {
    "duration": 211,
    "start_time": "2022-06-24T12:49:14.423Z"
   },
   {
    "duration": 202,
    "start_time": "2022-06-24T12:50:50.089Z"
   },
   {
    "duration": 197,
    "start_time": "2022-06-24T12:52:41.420Z"
   },
   {
    "duration": 13,
    "start_time": "2022-06-24T13:07:15.276Z"
   },
   {
    "duration": 15,
    "start_time": "2022-06-24T13:07:24.009Z"
   },
   {
    "duration": 87,
    "start_time": "2022-06-24T14:03:38.908Z"
   },
   {
    "duration": 427,
    "start_time": "2022-06-24T14:04:27.853Z"
   },
   {
    "duration": 35,
    "start_time": "2022-06-24T14:04:34.263Z"
   },
   {
    "duration": 7,
    "start_time": "2022-06-24T14:04:47.624Z"
   },
   {
    "duration": 11,
    "start_time": "2022-06-24T14:09:05.007Z"
   },
   {
    "duration": 18,
    "start_time": "2022-06-24T14:09:20.422Z"
   },
   {
    "duration": 15,
    "start_time": "2022-06-24T14:09:27.076Z"
   },
   {
    "duration": 26,
    "start_time": "2022-06-24T14:09:36.812Z"
   },
   {
    "duration": 25,
    "start_time": "2022-06-24T14:10:29.291Z"
   },
   {
    "duration": 22,
    "start_time": "2022-06-24T14:11:43.833Z"
   },
   {
    "duration": 7,
    "start_time": "2022-06-24T14:12:28.784Z"
   },
   {
    "duration": 17,
    "start_time": "2022-06-24T14:18:33.714Z"
   },
   {
    "duration": 8,
    "start_time": "2022-06-24T14:18:37.694Z"
   },
   {
    "duration": 17,
    "start_time": "2022-06-24T14:19:59.926Z"
   },
   {
    "duration": 6,
    "start_time": "2022-06-24T14:20:15.796Z"
   },
   {
    "duration": 824,
    "start_time": "2022-06-24T15:04:27.060Z"
   },
   {
    "duration": 160,
    "start_time": "2022-06-24T15:04:27.886Z"
   },
   {
    "duration": 16,
    "start_time": "2022-06-24T15:04:28.048Z"
   },
   {
    "duration": 30,
    "start_time": "2022-06-24T15:04:28.066Z"
   },
   {
    "duration": 30,
    "start_time": "2022-06-24T15:04:28.099Z"
   },
   {
    "duration": 146,
    "start_time": "2022-06-24T15:04:28.154Z"
   },
   {
    "duration": 9,
    "start_time": "2022-06-24T15:04:28.302Z"
   },
   {
    "duration": 28,
    "start_time": "2022-06-24T15:04:28.312Z"
   },
   {
    "duration": 30,
    "start_time": "2022-06-24T15:04:28.342Z"
   },
   {
    "duration": 90,
    "start_time": "2022-06-24T15:04:28.376Z"
   },
   {
    "duration": 7,
    "start_time": "2022-06-24T15:04:28.468Z"
   },
   {
    "duration": 15,
    "start_time": "2022-06-24T15:04:28.477Z"
   },
   {
    "duration": 19,
    "start_time": "2022-06-24T15:04:28.494Z"
   },
   {
    "duration": 16,
    "start_time": "2022-06-24T15:04:28.515Z"
   },
   {
    "duration": 26,
    "start_time": "2022-06-24T15:04:28.533Z"
   },
   {
    "duration": 26,
    "start_time": "2022-06-24T15:04:28.561Z"
   },
   {
    "duration": 10,
    "start_time": "2022-06-24T15:04:28.589Z"
   },
   {
    "duration": 30,
    "start_time": "2022-06-24T15:04:28.601Z"
   },
   {
    "duration": 9,
    "start_time": "2022-06-24T15:04:28.632Z"
   },
   {
    "duration": 22,
    "start_time": "2022-06-24T15:04:28.643Z"
   },
   {
    "duration": 10,
    "start_time": "2022-06-24T15:04:28.667Z"
   },
   {
    "duration": 13,
    "start_time": "2022-06-24T15:04:28.679Z"
   },
   {
    "duration": 60,
    "start_time": "2022-06-24T15:04:28.693Z"
   },
   {
    "duration": 19,
    "start_time": "2022-06-24T15:04:28.754Z"
   },
   {
    "duration": 21,
    "start_time": "2022-06-24T15:04:28.774Z"
   },
   {
    "duration": 16,
    "start_time": "2022-06-24T15:04:28.796Z"
   },
   {
    "duration": 5,
    "start_time": "2022-06-24T15:04:28.814Z"
   },
   {
    "duration": 37,
    "start_time": "2022-06-24T15:04:28.823Z"
   },
   {
    "duration": 7,
    "start_time": "2022-06-24T15:04:28.862Z"
   },
   {
    "duration": 11,
    "start_time": "2022-06-24T15:04:28.870Z"
   },
   {
    "duration": 35,
    "start_time": "2022-06-24T15:04:28.883Z"
   },
   {
    "duration": 11,
    "start_time": "2022-06-24T15:04:28.920Z"
   },
   {
    "duration": 55,
    "start_time": "2022-06-24T15:04:28.932Z"
   },
   {
    "duration": 43,
    "start_time": "2022-06-24T15:04:28.988Z"
   },
   {
    "duration": 40,
    "start_time": "2022-06-24T15:04:29.033Z"
   },
   {
    "duration": 31,
    "start_time": "2022-06-24T15:04:29.075Z"
   },
   {
    "duration": 53,
    "start_time": "2022-06-24T15:04:29.107Z"
   },
   {
    "duration": 33,
    "start_time": "2022-06-24T15:04:29.162Z"
   },
   {
    "duration": 32,
    "start_time": "2022-06-24T15:04:29.197Z"
   },
   {
    "duration": 40,
    "start_time": "2022-06-24T15:04:29.231Z"
   },
   {
    "duration": 15,
    "start_time": "2022-06-24T15:04:29.272Z"
   },
   {
    "duration": 25,
    "start_time": "2022-06-24T15:04:29.289Z"
   },
   {
    "duration": 42,
    "start_time": "2022-06-24T15:04:29.316Z"
   },
   {
    "duration": 124,
    "start_time": "2022-06-24T15:04:29.359Z"
   },
   {
    "duration": 9,
    "start_time": "2022-06-24T15:04:29.485Z"
   },
   {
    "duration": 3,
    "start_time": "2022-06-24T15:04:29.495Z"
   },
   {
    "duration": 6,
    "start_time": "2022-06-24T15:04:29.500Z"
   },
   {
    "duration": 14,
    "start_time": "2022-06-24T15:04:29.508Z"
   },
   {
    "duration": 29,
    "start_time": "2022-06-24T15:04:29.524Z"
   },
   {
    "duration": 13,
    "start_time": "2022-06-24T15:04:29.555Z"
   },
   {
    "duration": 13,
    "start_time": "2022-06-24T15:04:29.569Z"
   },
   {
    "duration": 12,
    "start_time": "2022-06-24T15:04:29.583Z"
   },
   {
    "duration": 13,
    "start_time": "2022-06-24T15:04:29.596Z"
   },
   {
    "duration": 478,
    "start_time": "2022-06-24T15:04:29.610Z"
   },
   {
    "duration": 194,
    "start_time": "2022-06-24T15:04:30.090Z"
   },
   {
    "duration": 196,
    "start_time": "2022-06-24T15:04:30.285Z"
   },
   {
    "duration": 212,
    "start_time": "2022-06-24T15:04:30.482Z"
   },
   {
    "duration": 198,
    "start_time": "2022-06-24T15:04:30.696Z"
   },
   {
    "duration": 233,
    "start_time": "2022-06-24T15:04:30.895Z"
   },
   {
    "duration": 209,
    "start_time": "2022-06-24T15:04:31.129Z"
   },
   {
    "duration": 188,
    "start_time": "2022-06-24T15:04:31.340Z"
   },
   {
    "duration": 191,
    "start_time": "2022-06-24T15:04:31.530Z"
   },
   {
    "duration": 18,
    "start_time": "2022-06-24T15:04:31.723Z"
   },
   {
    "duration": 7,
    "start_time": "2022-06-24T15:04:31.753Z"
   },
   {
    "duration": 103,
    "start_time": "2022-06-24T15:09:36.727Z"
   },
   {
    "duration": 27,
    "start_time": "2022-06-24T15:10:57.177Z"
   },
   {
    "duration": 772,
    "start_time": "2022-06-24T15:11:08.805Z"
   },
   {
    "duration": 163,
    "start_time": "2022-06-24T15:11:09.579Z"
   },
   {
    "duration": 17,
    "start_time": "2022-06-24T15:11:09.744Z"
   },
   {
    "duration": 25,
    "start_time": "2022-06-24T15:11:09.763Z"
   },
   {
    "duration": 25,
    "start_time": "2022-06-24T15:11:09.791Z"
   },
   {
    "duration": 143,
    "start_time": "2022-06-24T15:11:09.817Z"
   },
   {
    "duration": 9,
    "start_time": "2022-06-24T15:11:09.962Z"
   },
   {
    "duration": 27,
    "start_time": "2022-06-24T15:11:09.972Z"
   },
   {
    "duration": 21,
    "start_time": "2022-06-24T15:11:10.001Z"
   },
   {
    "duration": 102,
    "start_time": "2022-06-24T15:11:10.023Z"
   },
   {
    "duration": 8,
    "start_time": "2022-06-24T15:11:10.126Z"
   },
   {
    "duration": 28,
    "start_time": "2022-06-24T15:11:10.136Z"
   },
   {
    "duration": 17,
    "start_time": "2022-06-24T15:11:10.166Z"
   },
   {
    "duration": 15,
    "start_time": "2022-06-24T15:11:10.186Z"
   },
   {
    "duration": 7,
    "start_time": "2022-06-24T15:11:10.202Z"
   },
   {
    "duration": 28,
    "start_time": "2022-06-24T15:11:10.210Z"
   },
   {
    "duration": 23,
    "start_time": "2022-06-24T15:11:10.239Z"
   },
   {
    "duration": 31,
    "start_time": "2022-06-24T15:11:10.264Z"
   },
   {
    "duration": 9,
    "start_time": "2022-06-24T15:11:10.297Z"
   },
   {
    "duration": 16,
    "start_time": "2022-06-24T15:11:10.308Z"
   },
   {
    "duration": 9,
    "start_time": "2022-06-24T15:11:10.325Z"
   },
   {
    "duration": 18,
    "start_time": "2022-06-24T15:11:10.335Z"
   },
   {
    "duration": 37,
    "start_time": "2022-06-24T15:11:10.355Z"
   },
   {
    "duration": 19,
    "start_time": "2022-06-24T15:11:10.394Z"
   },
   {
    "duration": 39,
    "start_time": "2022-06-24T15:11:10.415Z"
   },
   {
    "duration": 17,
    "start_time": "2022-06-24T15:11:10.457Z"
   },
   {
    "duration": 5,
    "start_time": "2022-06-24T15:11:10.476Z"
   },
   {
    "duration": 14,
    "start_time": "2022-06-24T15:11:10.483Z"
   },
   {
    "duration": 8,
    "start_time": "2022-06-24T15:11:10.498Z"
   },
   {
    "duration": 14,
    "start_time": "2022-06-24T15:11:10.507Z"
   },
   {
    "duration": 56,
    "start_time": "2022-06-24T15:11:10.523Z"
   },
   {
    "duration": 11,
    "start_time": "2022-06-24T15:11:10.581Z"
   },
   {
    "duration": 35,
    "start_time": "2022-06-24T15:11:10.594Z"
   },
   {
    "duration": 59,
    "start_time": "2022-06-24T15:11:10.631Z"
   },
   {
    "duration": 22,
    "start_time": "2022-06-24T15:11:10.691Z"
   },
   {
    "duration": 48,
    "start_time": "2022-06-24T15:11:10.715Z"
   },
   {
    "duration": 34,
    "start_time": "2022-06-24T15:11:10.765Z"
   },
   {
    "duration": 32,
    "start_time": "2022-06-24T15:11:10.800Z"
   },
   {
    "duration": 46,
    "start_time": "2022-06-24T15:11:10.834Z"
   },
   {
    "duration": 18,
    "start_time": "2022-06-24T15:11:10.882Z"
   },
   {
    "duration": 17,
    "start_time": "2022-06-24T15:11:10.905Z"
   },
   {
    "duration": 21,
    "start_time": "2022-06-24T15:11:10.952Z"
   },
   {
    "duration": 18,
    "start_time": "2022-06-24T15:11:10.975Z"
   },
   {
    "duration": 159,
    "start_time": "2022-06-24T15:11:10.994Z"
   },
   {
    "duration": 11,
    "start_time": "2022-06-24T15:11:11.154Z"
   },
   {
    "duration": 4,
    "start_time": "2022-06-24T15:11:11.167Z"
   },
   {
    "duration": 5,
    "start_time": "2022-06-24T15:11:11.172Z"
   },
   {
    "duration": 16,
    "start_time": "2022-06-24T15:11:11.179Z"
   },
   {
    "duration": 14,
    "start_time": "2022-06-24T15:11:11.197Z"
   },
   {
    "duration": 42,
    "start_time": "2022-06-24T15:11:11.212Z"
   },
   {
    "duration": 14,
    "start_time": "2022-06-24T15:11:11.255Z"
   },
   {
    "duration": 12,
    "start_time": "2022-06-24T15:11:11.270Z"
   },
   {
    "duration": 13,
    "start_time": "2022-06-24T15:11:11.283Z"
   },
   {
    "duration": 441,
    "start_time": "2022-06-24T15:11:11.297Z"
   },
   {
    "duration": 205,
    "start_time": "2022-06-24T15:11:11.739Z"
   },
   {
    "duration": 191,
    "start_time": "2022-06-24T15:11:11.946Z"
   },
   {
    "duration": 189,
    "start_time": "2022-06-24T15:11:12.138Z"
   },
   {
    "duration": 188,
    "start_time": "2022-06-24T15:11:12.328Z"
   },
   {
    "duration": 196,
    "start_time": "2022-06-24T15:11:12.518Z"
   },
   {
    "duration": 193,
    "start_time": "2022-06-24T15:11:12.715Z"
   },
   {
    "duration": 186,
    "start_time": "2022-06-24T15:11:12.909Z"
   },
   {
    "duration": 218,
    "start_time": "2022-06-24T15:11:13.096Z"
   },
   {
    "duration": 18,
    "start_time": "2022-06-24T15:11:13.317Z"
   },
   {
    "duration": 21,
    "start_time": "2022-06-24T15:11:13.337Z"
   },
   {
    "duration": 16,
    "start_time": "2022-06-24T15:11:13.360Z"
   },
   {
    "duration": 12,
    "start_time": "2022-06-24T15:11:44.647Z"
   },
   {
    "duration": 7,
    "start_time": "2022-06-24T15:14:31.806Z"
   },
   {
    "duration": 9,
    "start_time": "2022-06-24T15:18:42.150Z"
   },
   {
    "duration": 837,
    "start_time": "2022-06-29T09:00:53.080Z"
   },
   {
    "duration": 222,
    "start_time": "2022-06-29T09:00:53.919Z"
   },
   {
    "duration": 16,
    "start_time": "2022-06-29T09:00:54.143Z"
   },
   {
    "duration": 28,
    "start_time": "2022-06-29T09:00:54.161Z"
   },
   {
    "duration": 24,
    "start_time": "2022-06-29T09:00:54.191Z"
   },
   {
    "duration": 318,
    "start_time": "2022-06-29T09:00:54.217Z"
   },
   {
    "duration": 9,
    "start_time": "2022-06-29T09:00:54.537Z"
   },
   {
    "duration": 27,
    "start_time": "2022-06-29T09:00:54.548Z"
   },
   {
    "duration": 19,
    "start_time": "2022-06-29T09:00:54.577Z"
   },
   {
    "duration": 141,
    "start_time": "2022-06-29T09:00:54.597Z"
   },
   {
    "duration": 7,
    "start_time": "2022-06-29T09:00:54.739Z"
   },
   {
    "duration": 18,
    "start_time": "2022-06-29T09:00:54.748Z"
   },
   {
    "duration": 17,
    "start_time": "2022-06-29T09:00:54.768Z"
   },
   {
    "duration": 32,
    "start_time": "2022-06-29T09:00:54.788Z"
   },
   {
    "duration": 8,
    "start_time": "2022-06-29T09:00:54.822Z"
   },
   {
    "duration": 29,
    "start_time": "2022-06-29T09:00:54.832Z"
   },
   {
    "duration": 11,
    "start_time": "2022-06-29T09:00:54.863Z"
   },
   {
    "duration": 48,
    "start_time": "2022-06-29T09:00:54.876Z"
   },
   {
    "duration": 10,
    "start_time": "2022-06-29T09:00:54.926Z"
   },
   {
    "duration": 15,
    "start_time": "2022-06-29T09:00:54.937Z"
   },
   {
    "duration": 10,
    "start_time": "2022-06-29T09:00:54.954Z"
   },
   {
    "duration": 12,
    "start_time": "2022-06-29T09:00:54.966Z"
   },
   {
    "duration": 32,
    "start_time": "2022-06-29T09:00:54.980Z"
   },
   {
    "duration": 17,
    "start_time": "2022-06-29T09:00:55.014Z"
   },
   {
    "duration": 44,
    "start_time": "2022-06-29T09:00:55.033Z"
   },
   {
    "duration": 16,
    "start_time": "2022-06-29T09:00:55.079Z"
   },
   {
    "duration": 5,
    "start_time": "2022-06-29T09:00:55.097Z"
   },
   {
    "duration": 14,
    "start_time": "2022-06-29T09:00:55.104Z"
   },
   {
    "duration": 7,
    "start_time": "2022-06-29T09:00:55.120Z"
   },
   {
    "duration": 16,
    "start_time": "2022-06-29T09:00:55.129Z"
   },
   {
    "duration": 30,
    "start_time": "2022-06-29T09:00:55.168Z"
   },
   {
    "duration": 11,
    "start_time": "2022-06-29T09:00:55.200Z"
   },
   {
    "duration": 60,
    "start_time": "2022-06-29T09:00:55.213Z"
   },
   {
    "duration": 43,
    "start_time": "2022-06-29T09:00:55.275Z"
   },
   {
    "duration": 23,
    "start_time": "2022-06-29T09:00:55.319Z"
   },
   {
    "duration": 51,
    "start_time": "2022-06-29T09:00:55.344Z"
   },
   {
    "duration": 35,
    "start_time": "2022-06-29T09:00:55.397Z"
   },
   {
    "duration": 57,
    "start_time": "2022-06-29T09:00:55.433Z"
   },
   {
    "duration": 31,
    "start_time": "2022-06-29T09:00:55.491Z"
   },
   {
    "duration": 20,
    "start_time": "2022-06-29T09:00:55.524Z"
   },
   {
    "duration": 20,
    "start_time": "2022-06-29T09:00:55.571Z"
   },
   {
    "duration": 22,
    "start_time": "2022-06-29T09:00:55.592Z"
   },
   {
    "duration": 20,
    "start_time": "2022-06-29T09:00:55.616Z"
   },
   {
    "duration": 147,
    "start_time": "2022-06-29T09:00:55.638Z"
   },
   {
    "duration": 12,
    "start_time": "2022-06-29T09:00:55.787Z"
   },
   {
    "duration": 2,
    "start_time": "2022-06-29T09:00:55.801Z"
   },
   {
    "duration": 7,
    "start_time": "2022-06-29T09:00:55.806Z"
   },
   {
    "duration": 19,
    "start_time": "2022-06-29T09:00:55.815Z"
   },
   {
    "duration": 37,
    "start_time": "2022-06-29T09:00:55.836Z"
   },
   {
    "duration": 19,
    "start_time": "2022-06-29T09:00:55.875Z"
   },
   {
    "duration": 15,
    "start_time": "2022-06-29T09:00:55.896Z"
   },
   {
    "duration": 15,
    "start_time": "2022-06-29T09:00:55.914Z"
   },
   {
    "duration": 48,
    "start_time": "2022-06-29T09:00:55.931Z"
   },
   {
    "duration": 709,
    "start_time": "2022-06-29T09:00:55.981Z"
   },
   {
    "duration": 250,
    "start_time": "2022-06-29T09:00:56.692Z"
   },
   {
    "duration": 260,
    "start_time": "2022-06-29T09:00:56.945Z"
   },
   {
    "duration": 236,
    "start_time": "2022-06-29T09:00:57.207Z"
   },
   {
    "duration": 198,
    "start_time": "2022-06-29T09:00:57.445Z"
   },
   {
    "duration": 215,
    "start_time": "2022-06-29T09:00:57.645Z"
   },
   {
    "duration": 216,
    "start_time": "2022-06-29T09:00:57.867Z"
   },
   {
    "duration": 217,
    "start_time": "2022-06-29T09:00:58.085Z"
   },
   {
    "duration": 305,
    "start_time": "2022-06-29T09:00:58.304Z"
   },
   {
    "duration": 20,
    "start_time": "2022-06-29T09:00:58.611Z"
   },
   {
    "duration": 7,
    "start_time": "2022-06-29T09:00:58.632Z"
   },
   {
    "duration": 32,
    "start_time": "2022-06-29T09:00:58.641Z"
   },
   {
    "duration": 7,
    "start_time": "2022-06-29T09:00:58.674Z"
   },
   {
    "duration": 96,
    "start_time": "2022-06-29T09:33:23.132Z"
   },
   {
    "duration": 31,
    "start_time": "2022-06-29T09:33:58.178Z"
   },
   {
    "duration": 15,
    "start_time": "2022-06-29T09:34:15.394Z"
   },
   {
    "duration": 41,
    "start_time": "2022-06-29T09:34:31.871Z"
   },
   {
    "duration": 3,
    "start_time": "2022-06-29T09:45:40.657Z"
   },
   {
    "duration": 7,
    "start_time": "2022-06-29T09:46:39.981Z"
   },
   {
    "duration": 63,
    "start_time": "2022-06-29T09:55:43.553Z"
   },
   {
    "duration": 18,
    "start_time": "2022-06-29T09:59:56.515Z"
   },
   {
    "duration": 16,
    "start_time": "2022-06-29T10:00:28.499Z"
   },
   {
    "duration": 24,
    "start_time": "2022-06-29T10:00:59.268Z"
   },
   {
    "duration": 15,
    "start_time": "2022-06-29T10:14:33.720Z"
   },
   {
    "duration": 5,
    "start_time": "2022-06-29T10:14:47.516Z"
   },
   {
    "duration": 344,
    "start_time": "2022-06-29T10:15:12.643Z"
   },
   {
    "duration": 4790,
    "start_time": "2022-06-29T10:16:14.742Z"
   },
   {
    "duration": 174,
    "start_time": "2022-06-29T10:17:03.227Z"
   },
   {
    "duration": 280,
    "start_time": "2022-06-29T10:18:32.047Z"
   },
   {
    "duration": 207,
    "start_time": "2022-06-29T10:18:39.070Z"
   },
   {
    "duration": 215,
    "start_time": "2022-06-29T10:22:20.991Z"
   },
   {
    "duration": 201,
    "start_time": "2022-06-29T10:22:26.905Z"
   },
   {
    "duration": 186,
    "start_time": "2022-06-29T10:23:49.771Z"
   },
   {
    "duration": 60,
    "start_time": "2022-06-29T10:24:16.525Z"
   },
   {
    "duration": 211,
    "start_time": "2022-06-29T10:24:38.721Z"
   },
   {
    "duration": 257,
    "start_time": "2022-06-29T10:25:22.130Z"
   },
   {
    "duration": 438,
    "start_time": "2022-06-29T10:25:48.612Z"
   },
   {
    "duration": 244,
    "start_time": "2022-06-29T10:28:28.013Z"
   },
   {
    "duration": 214,
    "start_time": "2022-06-29T10:28:34.048Z"
   },
   {
    "duration": 216,
    "start_time": "2022-06-29T10:29:19.091Z"
   },
   {
    "duration": 222,
    "start_time": "2022-06-29T10:29:59.685Z"
   },
   {
    "duration": 223,
    "start_time": "2022-06-29T10:41:58.895Z"
   },
   {
    "duration": 232,
    "start_time": "2022-06-29T10:42:12.071Z"
   },
   {
    "duration": 165,
    "start_time": "2022-06-29T10:42:45.892Z"
   },
   {
    "duration": 13,
    "start_time": "2022-06-29T10:44:50.617Z"
   },
   {
    "duration": 5106,
    "start_time": "2022-06-29T10:45:32.961Z"
   },
   {
    "duration": 183,
    "start_time": "2022-06-29T10:53:40.048Z"
   },
   {
    "duration": 179,
    "start_time": "2022-06-29T10:56:29.664Z"
   },
   {
    "duration": 192,
    "start_time": "2022-06-29T10:56:57.455Z"
   },
   {
    "duration": 39,
    "start_time": "2022-06-29T11:03:05.867Z"
   },
   {
    "duration": 40,
    "start_time": "2022-06-29T11:05:18.802Z"
   },
   {
    "duration": 18,
    "start_time": "2022-06-29T11:18:22.569Z"
   },
   {
    "duration": 176,
    "start_time": "2022-06-29T11:18:39.949Z"
   },
   {
    "duration": 14,
    "start_time": "2022-06-29T11:19:01.351Z"
   },
   {
    "duration": 356,
    "start_time": "2022-06-29T11:19:12.500Z"
   },
   {
    "duration": 159,
    "start_time": "2022-06-29T11:20:44.234Z"
   },
   {
    "duration": 177,
    "start_time": "2022-06-29T11:23:44.578Z"
   },
   {
    "duration": 211,
    "start_time": "2022-06-29T11:23:52.109Z"
   },
   {
    "duration": 53,
    "start_time": "2022-06-29T11:26:07.811Z"
   },
   {
    "duration": 57,
    "start_time": "2022-06-29T11:26:34.006Z"
   },
   {
    "duration": 38,
    "start_time": "2022-06-29T11:27:06.274Z"
   },
   {
    "duration": 38,
    "start_time": "2022-06-29T11:28:06.348Z"
   },
   {
    "duration": 45,
    "start_time": "2022-06-29T11:29:51.522Z"
   },
   {
    "duration": 63,
    "start_time": "2022-06-29T11:33:32.351Z"
   },
   {
    "duration": 91,
    "start_time": "2022-06-29T11:34:24.864Z"
   },
   {
    "duration": 1505,
    "start_time": "2022-06-29T11:34:44.494Z"
   },
   {
    "duration": 479,
    "start_time": "2022-06-29T11:35:12.329Z"
   },
   {
    "duration": 461,
    "start_time": "2022-06-29T11:36:21.409Z"
   },
   {
    "duration": 457,
    "start_time": "2022-06-29T11:40:16.569Z"
   },
   {
    "duration": 557,
    "start_time": "2022-06-29T11:41:09.339Z"
   },
   {
    "duration": 594,
    "start_time": "2022-06-29T11:42:49.802Z"
   },
   {
    "duration": 21,
    "start_time": "2022-06-29T11:46:05.891Z"
   },
   {
    "duration": 9,
    "start_time": "2022-06-29T11:46:28.068Z"
   },
   {
    "duration": 13,
    "start_time": "2022-06-29T11:47:23.496Z"
   },
   {
    "duration": 7,
    "start_time": "2022-06-29T11:47:31.687Z"
   },
   {
    "duration": 666,
    "start_time": "2022-06-29T12:03:28.964Z"
   },
   {
    "duration": 1165,
    "start_time": "2022-07-01T10:58:29.820Z"
   },
   {
    "duration": 265,
    "start_time": "2022-07-01T10:58:30.987Z"
   },
   {
    "duration": 12,
    "start_time": "2022-07-01T10:58:31.254Z"
   },
   {
    "duration": 51,
    "start_time": "2022-07-01T10:58:31.268Z"
   },
   {
    "duration": 23,
    "start_time": "2022-07-01T10:58:31.321Z"
   },
   {
    "duration": 345,
    "start_time": "2022-07-01T10:58:31.346Z"
   },
   {
    "duration": 8,
    "start_time": "2022-07-01T10:58:31.693Z"
   },
   {
    "duration": 39,
    "start_time": "2022-07-01T10:58:31.703Z"
   },
   {
    "duration": 20,
    "start_time": "2022-07-01T10:58:31.743Z"
   },
   {
    "duration": 120,
    "start_time": "2022-07-01T10:58:31.765Z"
   },
   {
    "duration": 7,
    "start_time": "2022-07-01T10:58:31.887Z"
   },
   {
    "duration": 18,
    "start_time": "2022-07-01T10:58:31.897Z"
   },
   {
    "duration": 28,
    "start_time": "2022-07-01T10:58:31.916Z"
   },
   {
    "duration": 32,
    "start_time": "2022-07-01T10:58:31.945Z"
   },
   {
    "duration": 7,
    "start_time": "2022-07-01T10:58:31.979Z"
   },
   {
    "duration": 26,
    "start_time": "2022-07-01T10:58:31.988Z"
   },
   {
    "duration": 9,
    "start_time": "2022-07-01T10:58:32.016Z"
   },
   {
    "duration": 49,
    "start_time": "2022-07-01T10:58:32.027Z"
   },
   {
    "duration": 10,
    "start_time": "2022-07-01T10:58:32.077Z"
   },
   {
    "duration": 23,
    "start_time": "2022-07-01T10:58:32.088Z"
   },
   {
    "duration": 12,
    "start_time": "2022-07-01T10:58:32.112Z"
   },
   {
    "duration": 19,
    "start_time": "2022-07-01T10:58:32.126Z"
   },
   {
    "duration": 36,
    "start_time": "2022-07-01T10:58:32.146Z"
   },
   {
    "duration": 25,
    "start_time": "2022-07-01T10:58:32.183Z"
   },
   {
    "duration": 31,
    "start_time": "2022-07-01T10:58:32.210Z"
   },
   {
    "duration": 15,
    "start_time": "2022-07-01T10:58:32.242Z"
   },
   {
    "duration": 5,
    "start_time": "2022-07-01T10:58:32.259Z"
   },
   {
    "duration": 21,
    "start_time": "2022-07-01T10:58:32.268Z"
   },
   {
    "duration": 14,
    "start_time": "2022-07-01T10:58:32.291Z"
   },
   {
    "duration": 20,
    "start_time": "2022-07-01T10:58:32.307Z"
   },
   {
    "duration": 35,
    "start_time": "2022-07-01T10:58:32.329Z"
   },
   {
    "duration": 10,
    "start_time": "2022-07-01T10:58:32.365Z"
   },
   {
    "duration": 37,
    "start_time": "2022-07-01T10:58:32.376Z"
   },
   {
    "duration": 46,
    "start_time": "2022-07-01T10:58:32.415Z"
   },
   {
    "duration": 21,
    "start_time": "2022-07-01T10:58:32.462Z"
   },
   {
    "duration": 53,
    "start_time": "2022-07-01T10:58:32.485Z"
   },
   {
    "duration": 34,
    "start_time": "2022-07-01T10:58:32.540Z"
   },
   {
    "duration": 31,
    "start_time": "2022-07-01T10:58:32.575Z"
   },
   {
    "duration": 56,
    "start_time": "2022-07-01T10:58:32.607Z"
   },
   {
    "duration": 18,
    "start_time": "2022-07-01T10:58:32.665Z"
   },
   {
    "duration": 16,
    "start_time": "2022-07-01T10:58:32.685Z"
   },
   {
    "duration": 33,
    "start_time": "2022-07-01T10:58:32.703Z"
   },
   {
    "duration": 20,
    "start_time": "2022-07-01T10:58:32.738Z"
   },
   {
    "duration": 132,
    "start_time": "2022-07-01T10:58:32.760Z"
   },
   {
    "duration": 224,
    "start_time": "2022-07-01T10:58:32.893Z"
   },
   {
    "duration": 211,
    "start_time": "2022-07-01T10:58:33.118Z"
   },
   {
    "duration": 208,
    "start_time": "2022-07-01T10:58:33.331Z"
   },
   {
    "duration": 36,
    "start_time": "2022-07-01T10:58:33.540Z"
   },
   {
    "duration": 51,
    "start_time": "2022-07-01T10:58:33.577Z"
   },
   {
    "duration": 532,
    "start_time": "2022-07-01T10:58:33.629Z"
   },
   {
    "duration": 548,
    "start_time": "2022-07-01T10:58:34.162Z"
   },
   {
    "duration": 652,
    "start_time": "2022-07-01T10:58:34.712Z"
   },
   {
    "duration": 15,
    "start_time": "2022-07-01T10:58:35.366Z"
   },
   {
    "duration": 40,
    "start_time": "2022-07-01T10:58:35.383Z"
   },
   {
    "duration": 18,
    "start_time": "2022-07-01T10:58:35.425Z"
   },
   {
    "duration": 11,
    "start_time": "2022-07-01T10:58:35.445Z"
   },
   {
    "duration": 8,
    "start_time": "2022-07-01T11:12:17.365Z"
   },
   {
    "duration": 184,
    "start_time": "2022-07-01T11:13:36.970Z"
   },
   {
    "duration": 179,
    "start_time": "2022-07-01T11:13:46.382Z"
   },
   {
    "duration": 1002,
    "start_time": "2022-07-01T11:14:38.929Z"
   },
   {
    "duration": 198,
    "start_time": "2022-07-01T11:14:39.933Z"
   },
   {
    "duration": 12,
    "start_time": "2022-07-01T11:14:40.132Z"
   },
   {
    "duration": 33,
    "start_time": "2022-07-01T11:14:40.146Z"
   },
   {
    "duration": 22,
    "start_time": "2022-07-01T11:14:40.181Z"
   },
   {
    "duration": 140,
    "start_time": "2022-07-01T11:14:40.205Z"
   },
   {
    "duration": 9,
    "start_time": "2022-07-01T11:14:40.347Z"
   },
   {
    "duration": 28,
    "start_time": "2022-07-01T11:14:40.357Z"
   },
   {
    "duration": 20,
    "start_time": "2022-07-01T11:14:40.387Z"
   },
   {
    "duration": 93,
    "start_time": "2022-07-01T11:14:40.410Z"
   },
   {
    "duration": 7,
    "start_time": "2022-07-01T11:14:40.505Z"
   },
   {
    "duration": 27,
    "start_time": "2022-07-01T11:14:40.513Z"
   },
   {
    "duration": 20,
    "start_time": "2022-07-01T11:14:40.541Z"
   },
   {
    "duration": 11,
    "start_time": "2022-07-01T11:14:40.563Z"
   },
   {
    "duration": 7,
    "start_time": "2022-07-01T11:14:40.576Z"
   },
   {
    "duration": 48,
    "start_time": "2022-07-01T11:14:40.585Z"
   },
   {
    "duration": 12,
    "start_time": "2022-07-01T11:14:40.635Z"
   },
   {
    "duration": 30,
    "start_time": "2022-07-01T11:14:40.649Z"
   },
   {
    "duration": 9,
    "start_time": "2022-07-01T11:14:40.681Z"
   },
   {
    "duration": 21,
    "start_time": "2022-07-01T11:14:40.692Z"
   },
   {
    "duration": 29,
    "start_time": "2022-07-01T11:14:40.715Z"
   },
   {
    "duration": 18,
    "start_time": "2022-07-01T11:14:40.746Z"
   },
   {
    "duration": 34,
    "start_time": "2022-07-01T11:14:40.765Z"
   },
   {
    "duration": 26,
    "start_time": "2022-07-01T11:14:40.801Z"
   },
   {
    "duration": 26,
    "start_time": "2022-07-01T11:14:40.829Z"
   },
   {
    "duration": 18,
    "start_time": "2022-07-01T11:14:40.857Z"
   },
   {
    "duration": 6,
    "start_time": "2022-07-01T11:14:40.877Z"
   },
   {
    "duration": 12,
    "start_time": "2022-07-01T11:14:40.888Z"
   },
   {
    "duration": 5,
    "start_time": "2022-07-01T11:14:40.927Z"
   },
   {
    "duration": 18,
    "start_time": "2022-07-01T11:14:40.933Z"
   },
   {
    "duration": 29,
    "start_time": "2022-07-01T11:14:40.953Z"
   },
   {
    "duration": 10,
    "start_time": "2022-07-01T11:14:40.984Z"
   },
   {
    "duration": 54,
    "start_time": "2022-07-01T11:14:40.995Z"
   },
   {
    "duration": 39,
    "start_time": "2022-07-01T11:14:41.051Z"
   },
   {
    "duration": 36,
    "start_time": "2022-07-01T11:14:41.092Z"
   },
   {
    "duration": 30,
    "start_time": "2022-07-01T11:14:41.129Z"
   },
   {
    "duration": 35,
    "start_time": "2022-07-01T11:14:41.160Z"
   },
   {
    "duration": 48,
    "start_time": "2022-07-01T11:14:41.196Z"
   },
   {
    "duration": 27,
    "start_time": "2022-07-01T11:14:41.245Z"
   },
   {
    "duration": 18,
    "start_time": "2022-07-01T11:14:41.274Z"
   },
   {
    "duration": 43,
    "start_time": "2022-07-01T11:14:41.293Z"
   },
   {
    "duration": 21,
    "start_time": "2022-07-01T11:14:41.338Z"
   },
   {
    "duration": 21,
    "start_time": "2022-07-01T11:14:41.360Z"
   },
   {
    "duration": 152,
    "start_time": "2022-07-01T11:14:41.383Z"
   },
   {
    "duration": 246,
    "start_time": "2022-07-01T11:14:41.537Z"
   },
   {
    "duration": 16,
    "start_time": "2022-07-01T11:14:41.785Z"
   },
   {
    "duration": 28,
    "start_time": "2022-07-01T11:14:41.803Z"
   },
   {
    "duration": 23,
    "start_time": "2022-07-01T11:14:41.833Z"
   },
   {
    "duration": 29,
    "start_time": "2022-07-01T11:14:41.858Z"
   },
   {
    "duration": 221,
    "start_time": "2022-07-01T11:15:10.576Z"
   },
   {
    "duration": 197,
    "start_time": "2022-07-01T11:15:28.683Z"
   },
   {
    "duration": 9,
    "start_time": "2022-07-01T11:16:26.774Z"
   },
   {
    "duration": 204,
    "start_time": "2022-07-01T11:16:27.594Z"
   },
   {
    "duration": 196,
    "start_time": "2022-07-01T11:17:34.926Z"
   },
   {
    "duration": 221,
    "start_time": "2022-07-01T11:19:13.554Z"
   },
   {
    "duration": 231,
    "start_time": "2022-07-01T11:19:40.583Z"
   },
   {
    "duration": 225,
    "start_time": "2022-07-01T11:19:47.298Z"
   },
   {
    "duration": 201,
    "start_time": "2022-07-01T11:20:26.931Z"
   },
   {
    "duration": 215,
    "start_time": "2022-07-01T11:20:43.969Z"
   },
   {
    "duration": 285,
    "start_time": "2022-07-01T11:22:18.838Z"
   },
   {
    "duration": 182,
    "start_time": "2022-07-01T11:22:35.340Z"
   },
   {
    "duration": 214,
    "start_time": "2022-07-01T11:26:05.080Z"
   },
   {
    "duration": 211,
    "start_time": "2022-07-01T11:26:11.249Z"
   },
   {
    "duration": 190,
    "start_time": "2022-07-01T11:26:17.430Z"
   },
   {
    "duration": 202,
    "start_time": "2022-07-01T11:26:23.263Z"
   },
   {
    "duration": 179,
    "start_time": "2022-07-01T12:16:34.536Z"
   },
   {
    "duration": 189,
    "start_time": "2022-07-01T12:17:27.203Z"
   },
   {
    "duration": 211,
    "start_time": "2022-07-01T12:19:33.947Z"
   },
   {
    "duration": 193,
    "start_time": "2022-07-01T12:23:00.964Z"
   },
   {
    "duration": 200,
    "start_time": "2022-07-01T12:24:16.529Z"
   },
   {
    "duration": 287,
    "start_time": "2022-07-01T12:28:12.202Z"
   },
   {
    "duration": 187,
    "start_time": "2022-07-01T12:28:35.608Z"
   },
   {
    "duration": 202,
    "start_time": "2022-07-01T12:30:29.210Z"
   },
   {
    "duration": 206,
    "start_time": "2022-07-01T12:30:30.120Z"
   },
   {
    "duration": 191,
    "start_time": "2022-07-01T12:30:30.888Z"
   },
   {
    "duration": 227,
    "start_time": "2022-07-01T12:38:30.465Z"
   },
   {
    "duration": 192,
    "start_time": "2022-07-01T12:38:36.103Z"
   },
   {
    "duration": 184,
    "start_time": "2022-07-01T12:39:25.643Z"
   },
   {
    "duration": 156,
    "start_time": "2022-07-01T12:45:16.242Z"
   },
   {
    "duration": 190,
    "start_time": "2022-07-01T12:48:20.129Z"
   },
   {
    "duration": 76,
    "start_time": "2022-07-01T12:49:48.427Z"
   },
   {
    "duration": 3,
    "start_time": "2022-07-01T12:51:08.986Z"
   },
   {
    "duration": 4,
    "start_time": "2022-07-01T12:52:17.045Z"
   },
   {
    "duration": 71,
    "start_time": "2022-07-01T12:52:25.440Z"
   },
   {
    "duration": 87,
    "start_time": "2022-07-01T12:52:38.602Z"
   },
   {
    "duration": 17,
    "start_time": "2022-07-01T13:07:43.010Z"
   },
   {
    "duration": 19,
    "start_time": "2022-07-01T13:08:00.812Z"
   },
   {
    "duration": 2,
    "start_time": "2022-07-01T13:09:47.940Z"
   },
   {
    "duration": 20,
    "start_time": "2022-07-01T13:27:27.325Z"
   },
   {
    "duration": 20,
    "start_time": "2022-07-01T13:27:27.878Z"
   },
   {
    "duration": 23,
    "start_time": "2022-07-01T14:00:34.241Z"
   },
   {
    "duration": 21,
    "start_time": "2022-07-01T14:00:46.667Z"
   },
   {
    "duration": 1253,
    "start_time": "2022-07-01T16:39:56.102Z"
   },
   {
    "duration": 262,
    "start_time": "2022-07-01T16:39:57.357Z"
   },
   {
    "duration": 13,
    "start_time": "2022-07-01T16:39:57.620Z"
   },
   {
    "duration": 36,
    "start_time": "2022-07-01T16:39:57.635Z"
   },
   {
    "duration": 22,
    "start_time": "2022-07-01T16:39:57.674Z"
   },
   {
    "duration": 296,
    "start_time": "2022-07-01T16:39:57.698Z"
   },
   {
    "duration": 10,
    "start_time": "2022-07-01T16:39:57.995Z"
   },
   {
    "duration": 36,
    "start_time": "2022-07-01T16:39:58.006Z"
   },
   {
    "duration": 26,
    "start_time": "2022-07-01T16:39:58.044Z"
   },
   {
    "duration": 123,
    "start_time": "2022-07-01T16:39:58.072Z"
   },
   {
    "duration": 7,
    "start_time": "2022-07-01T16:39:58.197Z"
   },
   {
    "duration": 23,
    "start_time": "2022-07-01T16:39:58.206Z"
   },
   {
    "duration": 37,
    "start_time": "2022-07-01T16:39:58.231Z"
   },
   {
    "duration": 33,
    "start_time": "2022-07-01T16:39:58.272Z"
   },
   {
    "duration": 9,
    "start_time": "2022-07-01T16:39:58.306Z"
   },
   {
    "duration": 37,
    "start_time": "2022-07-01T16:39:58.317Z"
   },
   {
    "duration": 11,
    "start_time": "2022-07-01T16:39:58.356Z"
   },
   {
    "duration": 48,
    "start_time": "2022-07-01T16:39:58.369Z"
   },
   {
    "duration": 11,
    "start_time": "2022-07-01T16:39:58.419Z"
   },
   {
    "duration": 16,
    "start_time": "2022-07-01T16:39:58.432Z"
   },
   {
    "duration": 20,
    "start_time": "2022-07-01T16:39:58.450Z"
   },
   {
    "duration": 18,
    "start_time": "2022-07-01T16:39:58.472Z"
   },
   {
    "duration": 34,
    "start_time": "2022-07-01T16:39:58.491Z"
   },
   {
    "duration": 41,
    "start_time": "2022-07-01T16:39:58.527Z"
   },
   {
    "duration": 25,
    "start_time": "2022-07-01T16:39:58.569Z"
   },
   {
    "duration": 16,
    "start_time": "2022-07-01T16:39:58.595Z"
   },
   {
    "duration": 7,
    "start_time": "2022-07-01T16:39:58.613Z"
   },
   {
    "duration": 45,
    "start_time": "2022-07-01T16:39:58.622Z"
   },
   {
    "duration": 6,
    "start_time": "2022-07-01T16:39:58.669Z"
   },
   {
    "duration": 17,
    "start_time": "2022-07-01T16:39:58.677Z"
   },
   {
    "duration": 33,
    "start_time": "2022-07-01T16:39:58.696Z"
   },
   {
    "duration": 11,
    "start_time": "2022-07-01T16:39:58.731Z"
   },
   {
    "duration": 35,
    "start_time": "2022-07-01T16:39:58.766Z"
   },
   {
    "duration": 40,
    "start_time": "2022-07-01T16:39:58.803Z"
   },
   {
    "duration": 46,
    "start_time": "2022-07-01T16:39:58.845Z"
   },
   {
    "duration": 38,
    "start_time": "2022-07-01T16:39:58.894Z"
   },
   {
    "duration": 61,
    "start_time": "2022-07-01T16:39:58.934Z"
   },
   {
    "duration": 38,
    "start_time": "2022-07-01T16:39:58.997Z"
   },
   {
    "duration": 61,
    "start_time": "2022-07-01T16:39:59.038Z"
   },
   {
    "duration": 24,
    "start_time": "2022-07-01T16:39:59.101Z"
   },
   {
    "duration": 44,
    "start_time": "2022-07-01T16:39:59.130Z"
   },
   {
    "duration": 23,
    "start_time": "2022-07-01T16:39:59.176Z"
   },
   {
    "duration": 27,
    "start_time": "2022-07-01T16:39:59.201Z"
   },
   {
    "duration": 147,
    "start_time": "2022-07-01T16:39:59.229Z"
   },
   {
    "duration": 10,
    "start_time": "2022-07-01T16:39:59.378Z"
   },
   {
    "duration": 20,
    "start_time": "2022-07-01T16:39:59.389Z"
   },
   {
    "duration": 21,
    "start_time": "2022-07-01T16:39:59.411Z"
   },
   {
    "duration": 281,
    "start_time": "2022-07-01T16:39:59.434Z"
   },
   {
    "duration": 233,
    "start_time": "2022-07-01T16:39:59.717Z"
   },
   {
    "duration": 220,
    "start_time": "2022-07-01T16:39:59.952Z"
   },
   {
    "duration": 112,
    "start_time": "2022-07-01T16:40:00.174Z"
   },
   {
    "duration": 1,
    "start_time": "2022-07-01T16:40:00.288Z"
   },
   {
    "duration": 0,
    "start_time": "2022-07-01T16:40:00.290Z"
   },
   {
    "duration": 0,
    "start_time": "2022-07-01T16:40:00.291Z"
   },
   {
    "duration": 0,
    "start_time": "2022-07-01T16:40:00.293Z"
   },
   {
    "duration": 0,
    "start_time": "2022-07-01T16:40:00.295Z"
   },
   {
    "duration": 0,
    "start_time": "2022-07-01T16:40:00.296Z"
   },
   {
    "duration": 0,
    "start_time": "2022-07-01T16:40:00.298Z"
   },
   {
    "duration": 8,
    "start_time": "2022-07-01T16:40:35.172Z"
   },
   {
    "duration": 15,
    "start_time": "2022-07-01T16:40:43.798Z"
   },
   {
    "duration": 6,
    "start_time": "2022-07-01T16:43:53.769Z"
   },
   {
    "duration": 1053,
    "start_time": "2022-07-01T16:45:50.135Z"
   },
   {
    "duration": 209,
    "start_time": "2022-07-01T16:45:51.190Z"
   },
   {
    "duration": 12,
    "start_time": "2022-07-01T16:45:51.401Z"
   },
   {
    "duration": 31,
    "start_time": "2022-07-01T16:45:51.415Z"
   },
   {
    "duration": 39,
    "start_time": "2022-07-01T16:45:51.448Z"
   },
   {
    "duration": 128,
    "start_time": "2022-07-01T16:45:51.489Z"
   },
   {
    "duration": 9,
    "start_time": "2022-07-01T16:45:51.619Z"
   },
   {
    "duration": 39,
    "start_time": "2022-07-01T16:45:51.630Z"
   },
   {
    "duration": 20,
    "start_time": "2022-07-01T16:45:51.671Z"
   },
   {
    "duration": 87,
    "start_time": "2022-07-01T16:45:51.694Z"
   },
   {
    "duration": 8,
    "start_time": "2022-07-01T16:45:51.782Z"
   },
   {
    "duration": 17,
    "start_time": "2022-07-01T16:45:51.792Z"
   },
   {
    "duration": 18,
    "start_time": "2022-07-01T16:45:51.810Z"
   },
   {
    "duration": 38,
    "start_time": "2022-07-01T16:45:51.830Z"
   },
   {
    "duration": 8,
    "start_time": "2022-07-01T16:45:51.870Z"
   },
   {
    "duration": 27,
    "start_time": "2022-07-01T16:45:51.880Z"
   },
   {
    "duration": 11,
    "start_time": "2022-07-01T16:45:51.909Z"
   },
   {
    "duration": 25,
    "start_time": "2022-07-01T16:45:51.922Z"
   },
   {
    "duration": 27,
    "start_time": "2022-07-01T16:45:51.948Z"
   },
   {
    "duration": 20,
    "start_time": "2022-07-01T16:45:51.977Z"
   },
   {
    "duration": 16,
    "start_time": "2022-07-01T16:45:51.999Z"
   },
   {
    "duration": 16,
    "start_time": "2022-07-01T16:45:52.017Z"
   },
   {
    "duration": 52,
    "start_time": "2022-07-01T16:45:52.034Z"
   },
   {
    "duration": 17,
    "start_time": "2022-07-01T16:45:52.088Z"
   },
   {
    "duration": 26,
    "start_time": "2022-07-01T16:45:52.107Z"
   },
   {
    "duration": 47,
    "start_time": "2022-07-01T16:45:52.135Z"
   },
   {
    "duration": 7,
    "start_time": "2022-07-01T16:45:52.184Z"
   },
   {
    "duration": 14,
    "start_time": "2022-07-01T16:45:52.196Z"
   },
   {
    "duration": 9,
    "start_time": "2022-07-01T16:45:52.212Z"
   },
   {
    "duration": 14,
    "start_time": "2022-07-01T16:45:52.223Z"
   },
   {
    "duration": 54,
    "start_time": "2022-07-01T16:45:52.239Z"
   },
   {
    "duration": 14,
    "start_time": "2022-07-01T16:45:52.294Z"
   },
   {
    "duration": 63,
    "start_time": "2022-07-01T16:45:52.310Z"
   },
   {
    "duration": 39,
    "start_time": "2022-07-01T16:45:52.375Z"
   },
   {
    "duration": 23,
    "start_time": "2022-07-01T16:45:52.416Z"
   },
   {
    "duration": 30,
    "start_time": "2022-07-01T16:45:52.467Z"
   },
   {
    "duration": 35,
    "start_time": "2022-07-01T16:45:52.499Z"
   },
   {
    "duration": 52,
    "start_time": "2022-07-01T16:45:52.535Z"
   },
   {
    "duration": 29,
    "start_time": "2022-07-01T16:45:52.589Z"
   },
   {
    "duration": 20,
    "start_time": "2022-07-01T16:45:52.620Z"
   },
   {
    "duration": 41,
    "start_time": "2022-07-01T16:45:52.642Z"
   },
   {
    "duration": 19,
    "start_time": "2022-07-01T16:45:52.684Z"
   },
   {
    "duration": 21,
    "start_time": "2022-07-01T16:45:52.705Z"
   },
   {
    "duration": 144,
    "start_time": "2022-07-01T16:45:52.727Z"
   },
   {
    "duration": 9,
    "start_time": "2022-07-01T16:45:52.873Z"
   },
   {
    "duration": 240,
    "start_time": "2022-07-01T16:45:52.883Z"
   },
   {
    "duration": 218,
    "start_time": "2022-07-01T16:45:53.126Z"
   },
   {
    "duration": 206,
    "start_time": "2022-07-01T16:45:53.346Z"
   },
   {
    "duration": 215,
    "start_time": "2022-07-01T16:45:53.554Z"
   },
   {
    "duration": 183,
    "start_time": "2022-07-01T16:45:53.771Z"
   },
   {
    "duration": 205,
    "start_time": "2022-07-01T16:45:53.956Z"
   },
   {
    "duration": 20,
    "start_time": "2022-07-01T16:45:54.162Z"
   },
   {
    "duration": 6,
    "start_time": "2022-07-01T16:45:54.183Z"
   },
   {
    "duration": 12,
    "start_time": "2022-07-01T16:45:54.191Z"
   },
   {
    "duration": 6,
    "start_time": "2022-07-01T16:45:54.204Z"
   },
   {
    "duration": 218,
    "start_time": "2022-07-01T16:48:34.716Z"
   },
   {
    "duration": 204,
    "start_time": "2022-07-01T16:57:25.330Z"
   },
   {
    "duration": 202,
    "start_time": "2022-07-01T16:58:13.022Z"
   },
   {
    "duration": 317,
    "start_time": "2022-07-01T17:00:21.534Z"
   },
   {
    "duration": 1215,
    "start_time": "2022-07-02T10:10:35.594Z"
   },
   {
    "duration": 267,
    "start_time": "2022-07-02T10:10:36.811Z"
   },
   {
    "duration": 13,
    "start_time": "2022-07-02T10:10:37.079Z"
   },
   {
    "duration": 32,
    "start_time": "2022-07-02T10:10:37.094Z"
   },
   {
    "duration": 24,
    "start_time": "2022-07-02T10:10:37.128Z"
   },
   {
    "duration": 289,
    "start_time": "2022-07-02T10:10:37.153Z"
   },
   {
    "duration": 9,
    "start_time": "2022-07-02T10:10:37.444Z"
   },
   {
    "duration": 33,
    "start_time": "2022-07-02T10:10:37.455Z"
   },
   {
    "duration": 38,
    "start_time": "2022-07-02T10:10:37.489Z"
   },
   {
    "duration": 117,
    "start_time": "2022-07-02T10:10:37.530Z"
   },
   {
    "duration": 7,
    "start_time": "2022-07-02T10:10:37.649Z"
   },
   {
    "duration": 16,
    "start_time": "2022-07-02T10:10:37.658Z"
   },
   {
    "duration": 17,
    "start_time": "2022-07-02T10:10:37.676Z"
   },
   {
    "duration": 28,
    "start_time": "2022-07-02T10:10:37.695Z"
   },
   {
    "duration": 9,
    "start_time": "2022-07-02T10:10:37.725Z"
   },
   {
    "duration": 27,
    "start_time": "2022-07-02T10:10:37.736Z"
   },
   {
    "duration": 10,
    "start_time": "2022-07-02T10:10:37.764Z"
   },
   {
    "duration": 34,
    "start_time": "2022-07-02T10:10:37.775Z"
   },
   {
    "duration": 10,
    "start_time": "2022-07-02T10:10:37.811Z"
   },
   {
    "duration": 16,
    "start_time": "2022-07-02T10:10:37.822Z"
   },
   {
    "duration": 12,
    "start_time": "2022-07-02T10:10:37.840Z"
   },
   {
    "duration": 11,
    "start_time": "2022-07-02T10:10:37.854Z"
   },
   {
    "duration": 33,
    "start_time": "2022-07-02T10:10:37.866Z"
   },
   {
    "duration": 36,
    "start_time": "2022-07-02T10:10:37.901Z"
   },
   {
    "duration": 26,
    "start_time": "2022-07-02T10:10:37.938Z"
   },
   {
    "duration": 16,
    "start_time": "2022-07-02T10:10:37.966Z"
   },
   {
    "duration": 5,
    "start_time": "2022-07-02T10:10:37.983Z"
   },
   {
    "duration": 36,
    "start_time": "2022-07-02T10:10:37.991Z"
   },
   {
    "duration": 6,
    "start_time": "2022-07-02T10:10:38.029Z"
   },
   {
    "duration": 16,
    "start_time": "2022-07-02T10:10:38.037Z"
   },
   {
    "duration": 30,
    "start_time": "2022-07-02T10:10:38.054Z"
   },
   {
    "duration": 10,
    "start_time": "2022-07-02T10:10:38.086Z"
   },
   {
    "duration": 50,
    "start_time": "2022-07-02T10:10:38.098Z"
   },
   {
    "duration": 42,
    "start_time": "2022-07-02T10:10:38.150Z"
   },
   {
    "duration": 44,
    "start_time": "2022-07-02T10:10:38.194Z"
   },
   {
    "duration": 30,
    "start_time": "2022-07-02T10:10:38.240Z"
   },
   {
    "duration": 35,
    "start_time": "2022-07-02T10:10:38.272Z"
   },
   {
    "duration": 44,
    "start_time": "2022-07-02T10:10:38.309Z"
   },
   {
    "duration": 28,
    "start_time": "2022-07-02T10:10:38.355Z"
   },
   {
    "duration": 41,
    "start_time": "2022-07-02T10:10:38.385Z"
   },
   {
    "duration": 18,
    "start_time": "2022-07-02T10:10:38.428Z"
   },
   {
    "duration": 33,
    "start_time": "2022-07-02T10:10:38.448Z"
   },
   {
    "duration": 23,
    "start_time": "2022-07-02T10:10:38.484Z"
   },
   {
    "duration": 132,
    "start_time": "2022-07-02T10:10:38.508Z"
   },
   {
    "duration": 8,
    "start_time": "2022-07-02T10:10:38.643Z"
   },
   {
    "duration": 222,
    "start_time": "2022-07-02T10:10:38.652Z"
   },
   {
    "duration": 199,
    "start_time": "2022-07-02T10:10:38.876Z"
   },
   {
    "duration": 198,
    "start_time": "2022-07-02T10:10:39.077Z"
   },
   {
    "duration": 210,
    "start_time": "2022-07-02T10:10:39.277Z"
   },
   {
    "duration": 201,
    "start_time": "2022-07-02T10:10:39.490Z"
   },
   {
    "duration": 201,
    "start_time": "2022-07-02T10:10:39.693Z"
   },
   {
    "duration": 206,
    "start_time": "2022-07-02T10:10:39.896Z"
   },
   {
    "duration": 187,
    "start_time": "2022-07-02T10:10:40.104Z"
   },
   {
    "duration": 209,
    "start_time": "2022-07-02T10:10:40.293Z"
   },
   {
    "duration": 16,
    "start_time": "2022-07-02T10:10:40.503Z"
   },
   {
    "duration": 9,
    "start_time": "2022-07-02T10:10:40.527Z"
   },
   {
    "duration": 27,
    "start_time": "2022-07-02T10:10:40.538Z"
   },
   {
    "duration": 21,
    "start_time": "2022-07-02T10:10:40.567Z"
   },
   {
    "duration": 284,
    "start_time": "2022-07-02T10:13:44.075Z"
   },
   {
    "duration": 202,
    "start_time": "2022-07-02T10:15:43.232Z"
   },
   {
    "duration": 206,
    "start_time": "2022-07-02T10:17:08.050Z"
   },
   {
    "duration": 20,
    "start_time": "2022-07-02T10:40:07.651Z"
   },
   {
    "duration": 7,
    "start_time": "2022-07-02T10:40:24.193Z"
   },
   {
    "duration": 9,
    "start_time": "2022-07-02T10:48:26.820Z"
   },
   {
    "duration": 18,
    "start_time": "2022-07-02T11:00:05.126Z"
   },
   {
    "duration": 61,
    "start_time": "2022-07-02T11:01:48.641Z"
   },
   {
    "duration": 229,
    "start_time": "2022-07-02T11:02:05.713Z"
   },
   {
    "duration": 11,
    "start_time": "2022-07-02T11:02:16.491Z"
   },
   {
    "duration": 92,
    "start_time": "2022-07-02T11:11:59.197Z"
   },
   {
    "duration": 4,
    "start_time": "2022-07-02T11:16:42.457Z"
   },
   {
    "duration": 1101,
    "start_time": "2022-07-02T13:11:25.437Z"
   },
   {
    "duration": 249,
    "start_time": "2022-07-02T13:11:26.539Z"
   },
   {
    "duration": 17,
    "start_time": "2022-07-02T13:11:26.790Z"
   },
   {
    "duration": 57,
    "start_time": "2022-07-02T13:11:26.809Z"
   },
   {
    "duration": 30,
    "start_time": "2022-07-02T13:11:26.869Z"
   },
   {
    "duration": 154,
    "start_time": "2022-07-02T13:11:26.901Z"
   },
   {
    "duration": 8,
    "start_time": "2022-07-02T13:11:27.057Z"
   },
   {
    "duration": 42,
    "start_time": "2022-07-02T13:11:27.067Z"
   },
   {
    "duration": 25,
    "start_time": "2022-07-02T13:11:27.111Z"
   },
   {
    "duration": 81,
    "start_time": "2022-07-02T13:11:27.138Z"
   },
   {
    "duration": 10,
    "start_time": "2022-07-02T13:11:27.221Z"
   },
   {
    "duration": 30,
    "start_time": "2022-07-02T13:11:27.233Z"
   },
   {
    "duration": 29,
    "start_time": "2022-07-02T13:11:27.265Z"
   },
   {
    "duration": 20,
    "start_time": "2022-07-02T13:11:27.298Z"
   },
   {
    "duration": 23,
    "start_time": "2022-07-02T13:11:27.320Z"
   },
   {
    "duration": 48,
    "start_time": "2022-07-02T13:11:27.345Z"
   },
   {
    "duration": 24,
    "start_time": "2022-07-02T13:11:27.395Z"
   },
   {
    "duration": 33,
    "start_time": "2022-07-02T13:11:27.421Z"
   },
   {
    "duration": 10,
    "start_time": "2022-07-02T13:11:27.456Z"
   },
   {
    "duration": 27,
    "start_time": "2022-07-02T13:11:27.467Z"
   },
   {
    "duration": 19,
    "start_time": "2022-07-02T13:11:27.496Z"
   },
   {
    "duration": 25,
    "start_time": "2022-07-02T13:11:27.517Z"
   },
   {
    "duration": 49,
    "start_time": "2022-07-02T13:11:27.544Z"
   },
   {
    "duration": 29,
    "start_time": "2022-07-02T13:11:27.595Z"
   },
   {
    "duration": 40,
    "start_time": "2022-07-02T13:11:27.627Z"
   },
   {
    "duration": 18,
    "start_time": "2022-07-02T13:11:27.669Z"
   },
   {
    "duration": 14,
    "start_time": "2022-07-02T13:11:27.689Z"
   },
   {
    "duration": 28,
    "start_time": "2022-07-02T13:11:27.705Z"
   },
   {
    "duration": 20,
    "start_time": "2022-07-02T13:11:27.735Z"
   },
   {
    "duration": 31,
    "start_time": "2022-07-02T13:11:27.757Z"
   },
   {
    "duration": 46,
    "start_time": "2022-07-02T13:11:27.790Z"
   },
   {
    "duration": 11,
    "start_time": "2022-07-02T13:11:27.838Z"
   },
   {
    "duration": 37,
    "start_time": "2022-07-02T13:11:27.850Z"
   },
   {
    "duration": 64,
    "start_time": "2022-07-02T13:11:27.888Z"
   },
   {
    "duration": 21,
    "start_time": "2022-07-02T13:11:27.954Z"
   },
   {
    "duration": 33,
    "start_time": "2022-07-02T13:11:27.976Z"
   },
   {
    "duration": 46,
    "start_time": "2022-07-02T13:11:28.010Z"
   },
   {
    "duration": 32,
    "start_time": "2022-07-02T13:11:28.058Z"
   },
   {
    "duration": 51,
    "start_time": "2022-07-02T13:11:28.091Z"
   },
   {
    "duration": 21,
    "start_time": "2022-07-02T13:11:28.143Z"
   },
   {
    "duration": 19,
    "start_time": "2022-07-02T13:11:28.169Z"
   },
   {
    "duration": 39,
    "start_time": "2022-07-02T13:11:28.189Z"
   },
   {
    "duration": 22,
    "start_time": "2022-07-02T13:11:28.229Z"
   },
   {
    "duration": 184,
    "start_time": "2022-07-02T13:11:28.253Z"
   },
   {
    "duration": 10,
    "start_time": "2022-07-02T13:11:28.438Z"
   },
   {
    "duration": 234,
    "start_time": "2022-07-02T13:11:28.450Z"
   },
   {
    "duration": 239,
    "start_time": "2022-07-02T13:11:28.686Z"
   },
   {
    "duration": 194,
    "start_time": "2022-07-02T13:11:28.926Z"
   },
   {
    "duration": 212,
    "start_time": "2022-07-02T13:11:29.126Z"
   },
   {
    "duration": 221,
    "start_time": "2022-07-02T13:11:29.340Z"
   },
   {
    "duration": 249,
    "start_time": "2022-07-02T13:11:29.563Z"
   },
   {
    "duration": 244,
    "start_time": "2022-07-02T13:11:29.813Z"
   },
   {
    "duration": 205,
    "start_time": "2022-07-02T13:11:30.059Z"
   },
   {
    "duration": 229,
    "start_time": "2022-07-02T13:11:30.266Z"
   },
   {
    "duration": 303,
    "start_time": "2022-07-02T13:11:30.497Z"
   },
   {
    "duration": 200,
    "start_time": "2022-07-02T13:11:30.802Z"
   },
   {
    "duration": 215,
    "start_time": "2022-07-02T13:11:31.004Z"
   },
   {
    "duration": 10,
    "start_time": "2022-07-02T13:11:31.227Z"
   },
   {
    "duration": 39,
    "start_time": "2022-07-02T13:11:31.239Z"
   },
   {
    "duration": 1295,
    "start_time": "2022-07-02T17:28:11.760Z"
   },
   {
    "duration": 282,
    "start_time": "2022-07-02T17:28:13.057Z"
   },
   {
    "duration": 12,
    "start_time": "2022-07-02T17:28:13.341Z"
   },
   {
    "duration": 28,
    "start_time": "2022-07-02T17:28:13.355Z"
   },
   {
    "duration": 25,
    "start_time": "2022-07-02T17:28:13.384Z"
   },
   {
    "duration": 285,
    "start_time": "2022-07-02T17:28:13.424Z"
   },
   {
    "duration": 8,
    "start_time": "2022-07-02T17:28:13.711Z"
   },
   {
    "duration": 29,
    "start_time": "2022-07-02T17:28:13.721Z"
   },
   {
    "duration": 21,
    "start_time": "2022-07-02T17:28:13.752Z"
   },
   {
    "duration": 118,
    "start_time": "2022-07-02T17:28:13.775Z"
   },
   {
    "duration": 9,
    "start_time": "2022-07-02T17:28:13.895Z"
   },
   {
    "duration": 26,
    "start_time": "2022-07-02T17:28:13.906Z"
   },
   {
    "duration": 40,
    "start_time": "2022-07-02T17:28:13.933Z"
   },
   {
    "duration": 31,
    "start_time": "2022-07-02T17:28:13.975Z"
   },
   {
    "duration": 8,
    "start_time": "2022-07-02T17:28:14.008Z"
   },
   {
    "duration": 25,
    "start_time": "2022-07-02T17:28:14.017Z"
   },
   {
    "duration": 11,
    "start_time": "2022-07-02T17:28:14.044Z"
   },
   {
    "duration": 50,
    "start_time": "2022-07-02T17:28:14.057Z"
   },
   {
    "duration": 10,
    "start_time": "2022-07-02T17:28:14.109Z"
   },
   {
    "duration": 17,
    "start_time": "2022-07-02T17:28:14.121Z"
   },
   {
    "duration": 13,
    "start_time": "2022-07-02T17:28:14.140Z"
   },
   {
    "duration": 14,
    "start_time": "2022-07-02T17:28:14.155Z"
   },
   {
    "duration": 33,
    "start_time": "2022-07-02T17:28:14.170Z"
   },
   {
    "duration": 31,
    "start_time": "2022-07-02T17:28:14.204Z"
   },
   {
    "duration": 28,
    "start_time": "2022-07-02T17:28:14.237Z"
   },
   {
    "duration": 16,
    "start_time": "2022-07-02T17:28:14.266Z"
   },
   {
    "duration": 5,
    "start_time": "2022-07-02T17:28:14.284Z"
   },
   {
    "duration": 37,
    "start_time": "2022-07-02T17:28:14.292Z"
   },
   {
    "duration": 10,
    "start_time": "2022-07-02T17:28:14.331Z"
   },
   {
    "duration": 12,
    "start_time": "2022-07-02T17:28:14.342Z"
   },
   {
    "duration": 40,
    "start_time": "2022-07-02T17:28:14.356Z"
   },
   {
    "duration": 9,
    "start_time": "2022-07-02T17:28:14.398Z"
   },
   {
    "duration": 50,
    "start_time": "2022-07-02T17:28:14.409Z"
   },
   {
    "duration": 44,
    "start_time": "2022-07-02T17:28:14.461Z"
   },
   {
    "duration": 35,
    "start_time": "2022-07-02T17:28:14.507Z"
   },
   {
    "duration": 32,
    "start_time": "2022-07-02T17:28:14.544Z"
   },
   {
    "duration": 54,
    "start_time": "2022-07-02T17:28:14.578Z"
   },
   {
    "duration": 32,
    "start_time": "2022-07-02T17:28:14.634Z"
   },
   {
    "duration": 28,
    "start_time": "2022-07-02T17:28:14.667Z"
   },
   {
    "duration": 39,
    "start_time": "2022-07-02T17:28:14.696Z"
   },
   {
    "duration": 16,
    "start_time": "2022-07-02T17:28:14.736Z"
   },
   {
    "duration": 17,
    "start_time": "2022-07-02T17:28:14.753Z"
   },
   {
    "duration": 20,
    "start_time": "2022-07-02T17:28:14.771Z"
   },
   {
    "duration": 139,
    "start_time": "2022-07-02T17:28:14.792Z"
   },
   {
    "duration": 9,
    "start_time": "2022-07-02T17:28:14.933Z"
   },
   {
    "duration": 225,
    "start_time": "2022-07-02T17:28:14.943Z"
   },
   {
    "duration": 207,
    "start_time": "2022-07-02T17:28:15.170Z"
   },
   {
    "duration": 201,
    "start_time": "2022-07-02T17:28:15.378Z"
   },
   {
    "duration": 202,
    "start_time": "2022-07-02T17:28:15.581Z"
   },
   {
    "duration": 190,
    "start_time": "2022-07-02T17:28:15.785Z"
   },
   {
    "duration": 218,
    "start_time": "2022-07-02T17:28:15.977Z"
   },
   {
    "duration": 209,
    "start_time": "2022-07-02T17:28:16.197Z"
   },
   {
    "duration": 197,
    "start_time": "2022-07-02T17:28:16.409Z"
   },
   {
    "duration": 210,
    "start_time": "2022-07-02T17:28:16.608Z"
   },
   {
    "duration": 295,
    "start_time": "2022-07-02T17:28:16.823Z"
   },
   {
    "duration": 180,
    "start_time": "2022-07-02T17:28:17.123Z"
   },
   {
    "duration": 201,
    "start_time": "2022-07-02T17:28:17.304Z"
   },
   {
    "duration": 19,
    "start_time": "2022-07-02T17:28:17.507Z"
   },
   {
    "duration": 11,
    "start_time": "2022-07-02T17:28:17.527Z"
   },
   {
    "duration": 4,
    "start_time": "2022-07-02T17:34:12.880Z"
   },
   {
    "duration": 1122,
    "start_time": "2022-07-02T17:34:21.808Z"
   },
   {
    "duration": 216,
    "start_time": "2022-07-02T17:34:22.932Z"
   },
   {
    "duration": 15,
    "start_time": "2022-07-02T17:34:23.150Z"
   },
   {
    "duration": 29,
    "start_time": "2022-07-02T17:34:23.168Z"
   },
   {
    "duration": 44,
    "start_time": "2022-07-02T17:34:23.200Z"
   },
   {
    "duration": 141,
    "start_time": "2022-07-02T17:34:23.246Z"
   },
   {
    "duration": 8,
    "start_time": "2022-07-02T17:34:23.390Z"
   },
   {
    "duration": 41,
    "start_time": "2022-07-02T17:34:23.399Z"
   },
   {
    "duration": 25,
    "start_time": "2022-07-02T17:34:23.442Z"
   },
   {
    "duration": 101,
    "start_time": "2022-07-02T17:34:23.470Z"
   },
   {
    "duration": 9,
    "start_time": "2022-07-02T17:34:23.573Z"
   },
   {
    "duration": 18,
    "start_time": "2022-07-02T17:34:23.584Z"
   },
   {
    "duration": 29,
    "start_time": "2022-07-02T17:34:23.603Z"
   },
   {
    "duration": 33,
    "start_time": "2022-07-02T17:34:23.634Z"
   },
   {
    "duration": 11,
    "start_time": "2022-07-02T17:34:23.669Z"
   },
   {
    "duration": 31,
    "start_time": "2022-07-02T17:34:23.682Z"
   },
   {
    "duration": 9,
    "start_time": "2022-07-02T17:34:23.715Z"
   },
   {
    "duration": 29,
    "start_time": "2022-07-02T17:34:23.726Z"
   },
   {
    "duration": 33,
    "start_time": "2022-07-02T17:34:23.756Z"
   },
   {
    "duration": 29,
    "start_time": "2022-07-02T17:34:23.791Z"
   },
   {
    "duration": 14,
    "start_time": "2022-07-02T17:34:23.822Z"
   },
   {
    "duration": 15,
    "start_time": "2022-07-02T17:34:23.838Z"
   },
   {
    "duration": 34,
    "start_time": "2022-07-02T17:34:23.855Z"
   },
   {
    "duration": 17,
    "start_time": "2022-07-02T17:34:23.891Z"
   },
   {
    "duration": 24,
    "start_time": "2022-07-02T17:34:23.923Z"
   },
   {
    "duration": 16,
    "start_time": "2022-07-02T17:34:23.949Z"
   },
   {
    "duration": 5,
    "start_time": "2022-07-02T17:34:23.967Z"
   },
   {
    "duration": 13,
    "start_time": "2022-07-02T17:34:23.976Z"
   },
   {
    "duration": 6,
    "start_time": "2022-07-02T17:34:23.990Z"
   },
   {
    "duration": 33,
    "start_time": "2022-07-02T17:34:23.998Z"
   },
   {
    "duration": 31,
    "start_time": "2022-07-02T17:34:24.032Z"
   },
   {
    "duration": 11,
    "start_time": "2022-07-02T17:34:24.064Z"
   },
   {
    "duration": 56,
    "start_time": "2022-07-02T17:34:24.077Z"
   },
   {
    "duration": 46,
    "start_time": "2022-07-02T17:34:24.135Z"
   },
   {
    "duration": 23,
    "start_time": "2022-07-02T17:34:24.182Z"
   },
   {
    "duration": 40,
    "start_time": "2022-07-02T17:34:24.223Z"
   },
   {
    "duration": 63,
    "start_time": "2022-07-02T17:34:24.265Z"
   },
   {
    "duration": 38,
    "start_time": "2022-07-02T17:34:24.330Z"
   },
   {
    "duration": 29,
    "start_time": "2022-07-02T17:34:24.370Z"
   },
   {
    "duration": 38,
    "start_time": "2022-07-02T17:34:24.400Z"
   },
   {
    "duration": 5,
    "start_time": "2022-07-02T17:34:24.440Z"
   },
   {
    "duration": 26,
    "start_time": "2022-07-02T17:34:24.446Z"
   },
   {
    "duration": 21,
    "start_time": "2022-07-02T17:34:24.474Z"
   },
   {
    "duration": 32,
    "start_time": "2022-07-02T17:34:24.496Z"
   },
   {
    "duration": 142,
    "start_time": "2022-07-02T17:34:24.530Z"
   },
   {
    "duration": 8,
    "start_time": "2022-07-02T17:34:24.674Z"
   },
   {
    "duration": 222,
    "start_time": "2022-07-02T17:34:24.684Z"
   },
   {
    "duration": 207,
    "start_time": "2022-07-02T17:34:24.907Z"
   },
   {
    "duration": 192,
    "start_time": "2022-07-02T17:34:25.123Z"
   },
   {
    "duration": 208,
    "start_time": "2022-07-02T17:34:25.317Z"
   },
   {
    "duration": 196,
    "start_time": "2022-07-02T17:34:25.527Z"
   },
   {
    "duration": 216,
    "start_time": "2022-07-02T17:34:25.725Z"
   },
   {
    "duration": 211,
    "start_time": "2022-07-02T17:34:25.943Z"
   },
   {
    "duration": 199,
    "start_time": "2022-07-02T17:34:26.155Z"
   },
   {
    "duration": 209,
    "start_time": "2022-07-02T17:34:26.355Z"
   },
   {
    "duration": 491,
    "start_time": "2022-07-02T17:34:26.565Z"
   },
   {
    "duration": 407,
    "start_time": "2022-07-02T17:34:27.058Z"
   },
   {
    "duration": 402,
    "start_time": "2022-07-02T17:34:27.467Z"
   },
   {
    "duration": 10,
    "start_time": "2022-07-02T17:34:27.923Z"
   },
   {
    "duration": 19,
    "start_time": "2022-07-02T17:34:27.934Z"
   },
   {
    "duration": 11,
    "start_time": "2022-07-02T17:35:11.167Z"
   },
   {
    "duration": 19,
    "start_time": "2022-07-02T17:35:44.278Z"
   },
   {
    "duration": 21,
    "start_time": "2022-07-02T17:38:04.005Z"
   },
   {
    "duration": 10,
    "start_time": "2022-07-02T17:46:04.396Z"
   },
   {
    "duration": 7,
    "start_time": "2022-07-02T17:46:32.501Z"
   },
   {
    "duration": 9,
    "start_time": "2022-07-02T17:46:45.330Z"
   },
   {
    "duration": 8,
    "start_time": "2022-07-02T17:46:57.543Z"
   },
   {
    "duration": 1391,
    "start_time": "2022-07-04T10:14:30.156Z"
   },
   {
    "duration": 370,
    "start_time": "2022-07-04T10:14:31.550Z"
   },
   {
    "duration": 14,
    "start_time": "2022-07-04T10:14:31.922Z"
   },
   {
    "duration": 50,
    "start_time": "2022-07-04T10:14:31.938Z"
   },
   {
    "duration": 35,
    "start_time": "2022-07-04T10:14:31.991Z"
   },
   {
    "duration": 416,
    "start_time": "2022-07-04T10:14:32.028Z"
   },
   {
    "duration": 9,
    "start_time": "2022-07-04T10:14:32.446Z"
   },
   {
    "duration": 47,
    "start_time": "2022-07-04T10:14:32.457Z"
   },
   {
    "duration": 26,
    "start_time": "2022-07-04T10:14:32.506Z"
   },
   {
    "duration": 189,
    "start_time": "2022-07-04T10:14:32.535Z"
   },
   {
    "duration": 7,
    "start_time": "2022-07-04T10:14:32.727Z"
   },
   {
    "duration": 26,
    "start_time": "2022-07-04T10:14:32.736Z"
   },
   {
    "duration": 35,
    "start_time": "2022-07-04T10:14:32.763Z"
   },
   {
    "duration": 64,
    "start_time": "2022-07-04T10:14:32.801Z"
   },
   {
    "duration": 25,
    "start_time": "2022-07-04T10:14:32.867Z"
   },
   {
    "duration": 62,
    "start_time": "2022-07-04T10:14:32.894Z"
   },
   {
    "duration": 24,
    "start_time": "2022-07-04T10:14:32.958Z"
   },
   {
    "duration": 79,
    "start_time": "2022-07-04T10:14:32.988Z"
   },
   {
    "duration": 27,
    "start_time": "2022-07-04T10:14:33.078Z"
   },
   {
    "duration": 18,
    "start_time": "2022-07-04T10:14:33.113Z"
   },
   {
    "duration": 14,
    "start_time": "2022-07-04T10:14:33.133Z"
   },
   {
    "duration": 26,
    "start_time": "2022-07-04T10:14:33.149Z"
   },
   {
    "duration": 62,
    "start_time": "2022-07-04T10:14:33.178Z"
   },
   {
    "duration": 18,
    "start_time": "2022-07-04T10:14:33.242Z"
   },
   {
    "duration": 33,
    "start_time": "2022-07-04T10:14:33.262Z"
   },
   {
    "duration": 44,
    "start_time": "2022-07-04T10:14:33.297Z"
   },
   {
    "duration": 6,
    "start_time": "2022-07-04T10:14:33.343Z"
   },
   {
    "duration": 13,
    "start_time": "2022-07-04T10:14:33.353Z"
   },
   {
    "duration": 52,
    "start_time": "2022-07-04T10:14:33.371Z"
   },
   {
    "duration": 16,
    "start_time": "2022-07-04T10:14:33.425Z"
   },
   {
    "duration": 38,
    "start_time": "2022-07-04T10:14:33.442Z"
   },
   {
    "duration": 22,
    "start_time": "2022-07-04T10:14:33.484Z"
   },
   {
    "duration": 43,
    "start_time": "2022-07-04T10:14:33.508Z"
   },
   {
    "duration": 63,
    "start_time": "2022-07-04T10:14:33.553Z"
   },
   {
    "duration": 37,
    "start_time": "2022-07-04T10:14:33.625Z"
   },
   {
    "duration": 61,
    "start_time": "2022-07-04T10:14:33.664Z"
   },
   {
    "duration": 36,
    "start_time": "2022-07-04T10:14:33.727Z"
   },
   {
    "duration": 54,
    "start_time": "2022-07-04T10:14:33.765Z"
   },
   {
    "duration": 32,
    "start_time": "2022-07-04T10:14:33.822Z"
   },
   {
    "duration": 47,
    "start_time": "2022-07-04T10:14:33.856Z"
   },
   {
    "duration": 45,
    "start_time": "2022-07-04T10:14:33.905Z"
   },
   {
    "duration": 24,
    "start_time": "2022-07-04T10:14:33.951Z"
   },
   {
    "duration": 62,
    "start_time": "2022-07-04T10:14:33.978Z"
   },
   {
    "duration": 178,
    "start_time": "2022-07-04T10:14:34.041Z"
   },
   {
    "duration": 9,
    "start_time": "2022-07-04T10:14:34.221Z"
   },
   {
    "duration": 294,
    "start_time": "2022-07-04T10:14:34.231Z"
   },
   {
    "duration": 295,
    "start_time": "2022-07-04T10:14:34.527Z"
   },
   {
    "duration": 295,
    "start_time": "2022-07-04T10:14:34.824Z"
   },
   {
    "duration": 244,
    "start_time": "2022-07-04T10:14:35.122Z"
   },
   {
    "duration": 234,
    "start_time": "2022-07-04T10:14:35.372Z"
   },
   {
    "duration": 251,
    "start_time": "2022-07-04T10:14:35.608Z"
   },
   {
    "duration": 266,
    "start_time": "2022-07-04T10:14:35.861Z"
   },
   {
    "duration": 232,
    "start_time": "2022-07-04T10:14:36.129Z"
   },
   {
    "duration": 256,
    "start_time": "2022-07-04T10:14:36.363Z"
   },
   {
    "duration": 364,
    "start_time": "2022-07-04T10:14:36.621Z"
   },
   {
    "duration": 214,
    "start_time": "2022-07-04T10:14:36.987Z"
   },
   {
    "duration": 225,
    "start_time": "2022-07-04T10:14:37.204Z"
   },
   {
    "duration": 11,
    "start_time": "2022-07-04T10:14:37.431Z"
   },
   {
    "duration": 38,
    "start_time": "2022-07-04T10:14:37.443Z"
   },
   {
    "duration": 247,
    "start_time": "2022-07-04T10:17:29.409Z"
   },
   {
    "duration": 129,
    "start_time": "2022-07-04T10:30:47.029Z"
   },
   {
    "duration": 8,
    "start_time": "2022-07-04T10:34:26.607Z"
   },
   {
    "duration": 9,
    "start_time": "2022-07-04T10:35:02.890Z"
   },
   {
    "duration": 11,
    "start_time": "2022-07-04T10:35:10.513Z"
   },
   {
    "duration": 7,
    "start_time": "2022-07-04T10:47:23.806Z"
   },
   {
    "duration": 7,
    "start_time": "2022-07-04T11:00:25.008Z"
   },
   {
    "duration": 10,
    "start_time": "2022-07-04T11:00:34.307Z"
   },
   {
    "duration": 18,
    "start_time": "2022-07-04T11:01:46.578Z"
   },
   {
    "duration": 8,
    "start_time": "2022-07-04T11:08:30.206Z"
   },
   {
    "duration": 6,
    "start_time": "2022-07-04T11:09:09.439Z"
   },
   {
    "duration": 1125,
    "start_time": "2022-07-04T11:09:27.609Z"
   },
   {
    "duration": 1182,
    "start_time": "2022-07-04T11:10:01.035Z"
   },
   {
    "duration": 239,
    "start_time": "2022-07-04T11:10:02.219Z"
   },
   {
    "duration": 20,
    "start_time": "2022-07-04T11:10:02.460Z"
   },
   {
    "duration": 56,
    "start_time": "2022-07-04T11:10:02.486Z"
   },
   {
    "duration": 30,
    "start_time": "2022-07-04T11:10:02.544Z"
   },
   {
    "duration": 175,
    "start_time": "2022-07-04T11:10:02.581Z"
   },
   {
    "duration": 16,
    "start_time": "2022-07-04T11:10:02.758Z"
   },
   {
    "duration": 67,
    "start_time": "2022-07-04T11:10:02.776Z"
   },
   {
    "duration": 26,
    "start_time": "2022-07-04T11:10:02.845Z"
   },
   {
    "duration": 125,
    "start_time": "2022-07-04T11:10:02.883Z"
   },
   {
    "duration": 9,
    "start_time": "2022-07-04T11:10:03.009Z"
   },
   {
    "duration": 20,
    "start_time": "2022-07-04T11:10:03.020Z"
   },
   {
    "duration": 19,
    "start_time": "2022-07-04T11:10:03.041Z"
   },
   {
    "duration": 42,
    "start_time": "2022-07-04T11:10:03.063Z"
   },
   {
    "duration": 31,
    "start_time": "2022-07-04T11:10:03.111Z"
   },
   {
    "duration": 51,
    "start_time": "2022-07-04T11:10:03.143Z"
   },
   {
    "duration": 13,
    "start_time": "2022-07-04T11:10:03.198Z"
   },
   {
    "duration": 26,
    "start_time": "2022-07-04T11:10:03.213Z"
   },
   {
    "duration": 11,
    "start_time": "2022-07-04T11:10:03.241Z"
   },
   {
    "duration": 29,
    "start_time": "2022-07-04T11:10:03.254Z"
   },
   {
    "duration": 38,
    "start_time": "2022-07-04T11:10:03.287Z"
   },
   {
    "duration": 21,
    "start_time": "2022-07-04T11:10:03.327Z"
   },
   {
    "duration": 72,
    "start_time": "2022-07-04T11:10:03.350Z"
   },
   {
    "duration": 20,
    "start_time": "2022-07-04T11:10:03.424Z"
   },
   {
    "duration": 47,
    "start_time": "2022-07-04T11:10:03.446Z"
   },
   {
    "duration": 22,
    "start_time": "2022-07-04T11:10:03.500Z"
   },
   {
    "duration": 7,
    "start_time": "2022-07-04T11:10:03.524Z"
   },
   {
    "duration": 14,
    "start_time": "2022-07-04T11:10:03.532Z"
   },
   {
    "duration": 8,
    "start_time": "2022-07-04T11:10:03.548Z"
   },
   {
    "duration": 25,
    "start_time": "2022-07-04T11:10:03.557Z"
   },
   {
    "duration": 72,
    "start_time": "2022-07-04T11:10:03.584Z"
   },
   {
    "duration": 23,
    "start_time": "2022-07-04T11:10:03.658Z"
   },
   {
    "duration": 66,
    "start_time": "2022-07-04T11:10:03.690Z"
   },
   {
    "duration": 64,
    "start_time": "2022-07-04T11:10:03.757Z"
   },
   {
    "duration": 26,
    "start_time": "2022-07-04T11:10:03.823Z"
   },
   {
    "duration": 56,
    "start_time": "2022-07-04T11:10:03.851Z"
   },
   {
    "duration": 40,
    "start_time": "2022-07-04T11:10:03.909Z"
   },
   {
    "duration": 57,
    "start_time": "2022-07-04T11:10:03.951Z"
   },
   {
    "duration": 35,
    "start_time": "2022-07-04T11:10:04.010Z"
   },
   {
    "duration": 36,
    "start_time": "2022-07-04T11:10:04.047Z"
   },
   {
    "duration": 29,
    "start_time": "2022-07-04T11:10:04.089Z"
   },
   {
    "duration": 12,
    "start_time": "2022-07-04T11:10:04.120Z"
   },
   {
    "duration": 27,
    "start_time": "2022-07-04T11:10:04.134Z"
   },
   {
    "duration": 62,
    "start_time": "2022-07-04T11:10:04.174Z"
   },
   {
    "duration": 28,
    "start_time": "2022-07-04T11:10:04.238Z"
   },
   {
    "duration": 232,
    "start_time": "2022-07-04T11:10:04.275Z"
   },
   {
    "duration": 9,
    "start_time": "2022-07-04T11:10:04.509Z"
   },
   {
    "duration": 15,
    "start_time": "2022-07-04T11:10:04.520Z"
   },
   {
    "duration": 307,
    "start_time": "2022-07-04T11:10:04.537Z"
   },
   {
    "duration": 278,
    "start_time": "2022-07-04T11:10:04.847Z"
   },
   {
    "duration": 279,
    "start_time": "2022-07-04T11:10:05.127Z"
   },
   {
    "duration": 279,
    "start_time": "2022-07-04T11:10:05.410Z"
   },
   {
    "duration": 329,
    "start_time": "2022-07-04T11:10:05.691Z"
   },
   {
    "duration": 298,
    "start_time": "2022-07-04T11:10:06.022Z"
   },
   {
    "duration": 291,
    "start_time": "2022-07-04T11:10:06.322Z"
   },
   {
    "duration": 265,
    "start_time": "2022-07-04T11:10:06.615Z"
   },
   {
    "duration": 274,
    "start_time": "2022-07-04T11:10:06.882Z"
   },
   {
    "duration": 418,
    "start_time": "2022-07-04T11:10:07.158Z"
   },
   {
    "duration": 244,
    "start_time": "2022-07-04T11:10:07.581Z"
   },
   {
    "duration": 259,
    "start_time": "2022-07-04T11:10:07.827Z"
   },
   {
    "duration": 218,
    "start_time": "2022-07-04T11:10:08.093Z"
   },
   {
    "duration": 11,
    "start_time": "2022-07-04T11:10:08.313Z"
   },
   {
    "duration": 11,
    "start_time": "2022-07-04T11:10:08.326Z"
   },
   {
    "duration": 16,
    "start_time": "2022-07-04T11:16:29.478Z"
   },
   {
    "duration": 7,
    "start_time": "2022-07-04T11:18:22.227Z"
   },
   {
    "duration": 300,
    "start_time": "2022-07-04T11:18:48.426Z"
   },
   {
    "duration": 271,
    "start_time": "2022-07-04T11:21:26.337Z"
   },
   {
    "duration": 1247,
    "start_time": "2022-07-04T11:24:08.831Z"
   },
   {
    "duration": 277,
    "start_time": "2022-07-04T11:24:10.082Z"
   },
   {
    "duration": 27,
    "start_time": "2022-07-04T11:24:10.361Z"
   },
   {
    "duration": 54,
    "start_time": "2022-07-04T11:24:10.390Z"
   },
   {
    "duration": 34,
    "start_time": "2022-07-04T11:24:10.446Z"
   },
   {
    "duration": 179,
    "start_time": "2022-07-04T11:24:10.483Z"
   },
   {
    "duration": 26,
    "start_time": "2022-07-04T11:24:10.664Z"
   },
   {
    "duration": 55,
    "start_time": "2022-07-04T11:24:10.693Z"
   },
   {
    "duration": 34,
    "start_time": "2022-07-04T11:24:10.750Z"
   },
   {
    "duration": 117,
    "start_time": "2022-07-04T11:24:10.790Z"
   },
   {
    "duration": 9,
    "start_time": "2022-07-04T11:24:10.909Z"
   },
   {
    "duration": 39,
    "start_time": "2022-07-04T11:24:10.919Z"
   },
   {
    "duration": 54,
    "start_time": "2022-07-04T11:24:10.960Z"
   },
   {
    "duration": 14,
    "start_time": "2022-07-04T11:24:11.016Z"
   },
   {
    "duration": 21,
    "start_time": "2022-07-04T11:24:11.032Z"
   },
   {
    "duration": 74,
    "start_time": "2022-07-04T11:24:11.055Z"
   },
   {
    "duration": 11,
    "start_time": "2022-07-04T11:24:11.131Z"
   },
   {
    "duration": 79,
    "start_time": "2022-07-04T11:24:11.144Z"
   },
   {
    "duration": 11,
    "start_time": "2022-07-04T11:24:11.225Z"
   },
   {
    "duration": 59,
    "start_time": "2022-07-04T11:24:11.238Z"
   },
   {
    "duration": 36,
    "start_time": "2022-07-04T11:24:11.301Z"
   },
   {
    "duration": 35,
    "start_time": "2022-07-04T11:24:11.339Z"
   },
   {
    "duration": 70,
    "start_time": "2022-07-04T11:24:11.377Z"
   },
   {
    "duration": 23,
    "start_time": "2022-07-04T11:24:11.449Z"
   },
   {
    "duration": 57,
    "start_time": "2022-07-04T11:24:11.474Z"
   },
   {
    "duration": 18,
    "start_time": "2022-07-04T11:24:11.533Z"
   },
   {
    "duration": 48,
    "start_time": "2022-07-04T11:24:11.553Z"
   },
   {
    "duration": 26,
    "start_time": "2022-07-04T11:24:11.611Z"
   },
   {
    "duration": 26,
    "start_time": "2022-07-04T11:24:11.639Z"
   },
   {
    "duration": 58,
    "start_time": "2022-07-04T11:24:11.667Z"
   },
   {
    "duration": 59,
    "start_time": "2022-07-04T11:24:11.726Z"
   },
   {
    "duration": 25,
    "start_time": "2022-07-04T11:24:11.788Z"
   },
   {
    "duration": 68,
    "start_time": "2022-07-04T11:24:11.815Z"
   },
   {
    "duration": 61,
    "start_time": "2022-07-04T11:24:11.884Z"
   },
   {
    "duration": 33,
    "start_time": "2022-07-04T11:24:11.947Z"
   },
   {
    "duration": 45,
    "start_time": "2022-07-04T11:24:11.982Z"
   },
   {
    "duration": 48,
    "start_time": "2022-07-04T11:24:12.029Z"
   },
   {
    "duration": 66,
    "start_time": "2022-07-04T11:24:12.079Z"
   },
   {
    "duration": 41,
    "start_time": "2022-07-04T11:24:12.147Z"
   },
   {
    "duration": 39,
    "start_time": "2022-07-04T11:24:12.190Z"
   },
   {
    "duration": 10,
    "start_time": "2022-07-04T11:24:12.231Z"
   },
   {
    "duration": 18,
    "start_time": "2022-07-04T11:24:12.243Z"
   },
   {
    "duration": 47,
    "start_time": "2022-07-04T11:24:12.262Z"
   },
   {
    "duration": 25,
    "start_time": "2022-07-04T11:24:12.310Z"
   },
   {
    "duration": 47,
    "start_time": "2022-07-04T11:24:12.337Z"
   },
   {
    "duration": 34,
    "start_time": "2022-07-04T11:24:12.393Z"
   },
   {
    "duration": 164,
    "start_time": "2022-07-04T11:24:12.428Z"
   },
   {
    "duration": 16,
    "start_time": "2022-07-04T11:24:12.594Z"
   },
   {
    "duration": 16,
    "start_time": "2022-07-04T11:24:12.613Z"
   },
   {
    "duration": 298,
    "start_time": "2022-07-04T11:24:12.631Z"
   },
   {
    "duration": 280,
    "start_time": "2022-07-04T11:24:12.931Z"
   },
   {
    "duration": 252,
    "start_time": "2022-07-04T11:24:13.214Z"
   },
   {
    "duration": 285,
    "start_time": "2022-07-04T11:24:13.476Z"
   },
   {
    "duration": 262,
    "start_time": "2022-07-04T11:24:13.763Z"
   },
   {
    "duration": 291,
    "start_time": "2022-07-04T11:24:14.027Z"
   },
   {
    "duration": 294,
    "start_time": "2022-07-04T11:24:14.320Z"
   },
   {
    "duration": 291,
    "start_time": "2022-07-04T11:24:14.616Z"
   },
   {
    "duration": 276,
    "start_time": "2022-07-04T11:24:14.913Z"
   },
   {
    "duration": 369,
    "start_time": "2022-07-04T11:24:15.194Z"
   },
   {
    "duration": 267,
    "start_time": "2022-07-04T11:24:15.565Z"
   },
   {
    "duration": 297,
    "start_time": "2022-07-04T11:24:15.834Z"
   },
   {
    "duration": 273,
    "start_time": "2022-07-04T11:24:16.133Z"
   },
   {
    "duration": 13,
    "start_time": "2022-07-04T11:24:16.411Z"
   },
   {
    "duration": 12,
    "start_time": "2022-07-04T11:24:16.426Z"
   },
   {
    "duration": 127,
    "start_time": "2022-07-04T11:26:47.997Z"
   },
   {
    "duration": 85,
    "start_time": "2022-07-04T11:27:37.805Z"
   },
   {
    "duration": 76,
    "start_time": "2022-07-04T11:27:52.057Z"
   },
   {
    "duration": 7,
    "start_time": "2022-07-04T11:28:06.913Z"
   },
   {
    "duration": 8,
    "start_time": "2022-07-04T11:28:18.205Z"
   },
   {
    "duration": 234,
    "start_time": "2022-07-04T11:32:06.897Z"
   },
   {
    "duration": 200,
    "start_time": "2022-07-04T11:33:42.306Z"
   },
   {
    "duration": 117,
    "start_time": "2022-07-04T11:42:17.836Z"
   },
   {
    "duration": 3,
    "start_time": "2022-07-04T11:42:33.310Z"
   },
   {
    "duration": 11,
    "start_time": "2022-07-04T11:44:12.898Z"
   },
   {
    "duration": 12,
    "start_time": "2022-07-04T11:44:46.001Z"
   },
   {
    "duration": 19,
    "start_time": "2022-07-04T11:45:09.043Z"
   },
   {
    "duration": 28,
    "start_time": "2022-07-04T11:45:59.837Z"
   },
   {
    "duration": 39,
    "start_time": "2022-07-04T11:46:28.121Z"
   },
   {
    "duration": 16,
    "start_time": "2022-07-04T11:48:16.210Z"
   },
   {
    "duration": 30,
    "start_time": "2022-07-04T11:49:54.358Z"
   },
   {
    "duration": 238,
    "start_time": "2022-07-04T11:50:09.802Z"
   },
   {
    "duration": 255,
    "start_time": "2022-07-04T11:52:01.457Z"
   },
   {
    "duration": 1193,
    "start_time": "2022-07-04T12:01:29.246Z"
   },
   {
    "duration": 286,
    "start_time": "2022-07-04T12:01:30.442Z"
   },
   {
    "duration": 16,
    "start_time": "2022-07-04T12:01:30.731Z"
   },
   {
    "duration": 96,
    "start_time": "2022-07-04T12:01:30.749Z"
   },
   {
    "duration": 51,
    "start_time": "2022-07-04T12:01:30.847Z"
   },
   {
    "duration": 162,
    "start_time": "2022-07-04T12:01:30.901Z"
   },
   {
    "duration": 180,
    "start_time": "2022-07-04T12:01:31.064Z"
   },
   {
    "duration": 10,
    "start_time": "2022-07-04T12:01:31.246Z"
   },
   {
    "duration": 91,
    "start_time": "2022-07-04T12:01:31.257Z"
   },
   {
    "duration": 49,
    "start_time": "2022-07-04T12:01:31.350Z"
   },
   {
    "duration": 118,
    "start_time": "2022-07-04T12:01:31.400Z"
   },
   {
    "duration": 110,
    "start_time": "2022-07-04T12:01:31.520Z"
   },
   {
    "duration": 9,
    "start_time": "2022-07-04T12:01:31.632Z"
   },
   {
    "duration": 39,
    "start_time": "2022-07-04T12:01:31.644Z"
   },
   {
    "duration": 27,
    "start_time": "2022-07-04T12:01:31.692Z"
   },
   {
    "duration": 69,
    "start_time": "2022-07-04T12:01:31.721Z"
   },
   {
    "duration": 18,
    "start_time": "2022-07-04T12:01:31.792Z"
   },
   {
    "duration": 18,
    "start_time": "2022-07-04T12:01:31.812Z"
   },
   {
    "duration": 52,
    "start_time": "2022-07-04T12:01:31.832Z"
   },
   {
    "duration": 36,
    "start_time": "2022-07-04T12:01:31.886Z"
   },
   {
    "duration": 10,
    "start_time": "2022-07-04T12:01:31.924Z"
   },
   {
    "duration": 28,
    "start_time": "2022-07-04T12:01:31.936Z"
   },
   {
    "duration": 12,
    "start_time": "2022-07-04T12:01:31.966Z"
   },
   {
    "duration": 47,
    "start_time": "2022-07-04T12:01:31.979Z"
   },
   {
    "duration": 25,
    "start_time": "2022-07-04T12:01:32.028Z"
   },
   {
    "duration": 8,
    "start_time": "2022-07-04T12:01:32.056Z"
   },
   {
    "duration": 35,
    "start_time": "2022-07-04T12:01:32.065Z"
   },
   {
    "duration": 47,
    "start_time": "2022-07-04T12:01:32.102Z"
   },
   {
    "duration": 30,
    "start_time": "2022-07-04T12:01:32.151Z"
   },
   {
    "duration": 28,
    "start_time": "2022-07-04T12:01:32.193Z"
   },
   {
    "duration": 16,
    "start_time": "2022-07-04T12:01:32.223Z"
   },
   {
    "duration": 5,
    "start_time": "2022-07-04T12:01:32.240Z"
   },
   {
    "duration": 17,
    "start_time": "2022-07-04T12:01:32.247Z"
   },
   {
    "duration": 42,
    "start_time": "2022-07-04T12:01:32.266Z"
   },
   {
    "duration": 17,
    "start_time": "2022-07-04T12:01:32.310Z"
   },
   {
    "duration": 33,
    "start_time": "2022-07-04T12:01:32.329Z"
   },
   {
    "duration": 31,
    "start_time": "2022-07-04T12:01:32.363Z"
   },
   {
    "duration": 45,
    "start_time": "2022-07-04T12:01:32.397Z"
   },
   {
    "duration": 66,
    "start_time": "2022-07-04T12:01:32.444Z"
   },
   {
    "duration": 25,
    "start_time": "2022-07-04T12:01:32.512Z"
   },
   {
    "duration": 51,
    "start_time": "2022-07-04T12:01:32.541Z"
   },
   {
    "duration": 208,
    "start_time": "2022-07-04T12:01:32.594Z"
   },
   {
    "duration": 43,
    "start_time": "2022-07-04T12:01:32.804Z"
   },
   {
    "duration": 61,
    "start_time": "2022-07-04T12:01:32.849Z"
   },
   {
    "duration": 30,
    "start_time": "2022-07-04T12:01:32.911Z"
   },
   {
    "duration": 48,
    "start_time": "2022-07-04T12:01:32.942Z"
   },
   {
    "duration": 12,
    "start_time": "2022-07-04T12:01:32.998Z"
   },
   {
    "duration": 4,
    "start_time": "2022-07-04T12:01:33.012Z"
   },
   {
    "duration": 14,
    "start_time": "2022-07-04T12:01:33.017Z"
   },
   {
    "duration": 18,
    "start_time": "2022-07-04T12:01:33.033Z"
   },
   {
    "duration": 44,
    "start_time": "2022-07-04T12:01:33.053Z"
   },
   {
    "duration": 25,
    "start_time": "2022-07-04T12:01:33.106Z"
   },
   {
    "duration": 191,
    "start_time": "2022-07-04T12:01:33.133Z"
   },
   {
    "duration": 9,
    "start_time": "2022-07-04T12:01:33.326Z"
   },
   {
    "duration": 16,
    "start_time": "2022-07-04T12:01:33.337Z"
   },
   {
    "duration": 290,
    "start_time": "2022-07-04T12:01:33.355Z"
   },
   {
    "duration": 273,
    "start_time": "2022-07-04T12:01:33.647Z"
   },
   {
    "duration": 239,
    "start_time": "2022-07-04T12:01:33.922Z"
   },
   {
    "duration": 276,
    "start_time": "2022-07-04T12:01:34.166Z"
   },
   {
    "duration": 280,
    "start_time": "2022-07-04T12:01:34.444Z"
   },
   {
    "duration": 247,
    "start_time": "2022-07-04T12:01:34.726Z"
   },
   {
    "duration": 264,
    "start_time": "2022-07-04T12:01:34.976Z"
   },
   {
    "duration": 269,
    "start_time": "2022-07-04T12:01:35.243Z"
   },
   {
    "duration": 378,
    "start_time": "2022-07-04T12:01:35.514Z"
   },
   {
    "duration": 243,
    "start_time": "2022-07-04T12:01:35.897Z"
   },
   {
    "duration": 271,
    "start_time": "2022-07-04T12:01:36.142Z"
   },
   {
    "duration": 219,
    "start_time": "2022-07-04T12:01:36.415Z"
   },
   {
    "duration": 274,
    "start_time": "2022-07-04T12:01:36.635Z"
   },
   {
    "duration": 254,
    "start_time": "2022-07-04T12:01:36.913Z"
   },
   {
    "duration": 25,
    "start_time": "2022-07-04T12:01:37.169Z"
   },
   {
    "duration": 22,
    "start_time": "2022-07-04T12:01:37.204Z"
   },
   {
    "duration": 958,
    "start_time": "2022-07-04T21:21:10.998Z"
   },
   {
    "duration": 234,
    "start_time": "2022-07-04T21:21:11.958Z"
   },
   {
    "duration": 11,
    "start_time": "2022-07-04T21:21:12.193Z"
   },
   {
    "duration": 23,
    "start_time": "2022-07-04T21:21:12.206Z"
   },
   {
    "duration": 28,
    "start_time": "2022-07-04T21:21:12.231Z"
   },
   {
    "duration": 100,
    "start_time": "2022-07-04T21:21:12.261Z"
   },
   {
    "duration": 293,
    "start_time": "2022-07-04T21:21:12.363Z"
   },
   {
    "duration": 11,
    "start_time": "2022-07-04T21:21:12.658Z"
   },
   {
    "duration": 29,
    "start_time": "2022-07-04T21:21:12.670Z"
   },
   {
    "duration": 17,
    "start_time": "2022-07-04T21:21:12.701Z"
   },
   {
    "duration": 74,
    "start_time": "2022-07-04T21:21:12.720Z"
   },
   {
    "duration": 115,
    "start_time": "2022-07-04T21:21:12.795Z"
   },
   {
    "duration": 7,
    "start_time": "2022-07-04T21:21:12.912Z"
   },
   {
    "duration": 20,
    "start_time": "2022-07-04T21:21:12.921Z"
   },
   {
    "duration": 17,
    "start_time": "2022-07-04T21:21:12.942Z"
   },
   {
    "duration": 41,
    "start_time": "2022-07-04T21:21:12.961Z"
   },
   {
    "duration": 41,
    "start_time": "2022-07-04T21:21:13.003Z"
   },
   {
    "duration": 8,
    "start_time": "2022-07-04T21:21:13.046Z"
   },
   {
    "duration": 24,
    "start_time": "2022-07-04T21:21:13.056Z"
   },
   {
    "duration": 10,
    "start_time": "2022-07-04T21:21:13.081Z"
   },
   {
    "duration": 7,
    "start_time": "2022-07-04T21:21:13.092Z"
   },
   {
    "duration": 39,
    "start_time": "2022-07-04T21:21:13.100Z"
   },
   {
    "duration": 9,
    "start_time": "2022-07-04T21:21:13.140Z"
   },
   {
    "duration": 14,
    "start_time": "2022-07-04T21:21:13.151Z"
   },
   {
    "duration": 11,
    "start_time": "2022-07-04T21:21:13.166Z"
   },
   {
    "duration": 6,
    "start_time": "2022-07-04T21:21:13.178Z"
   },
   {
    "duration": 11,
    "start_time": "2022-07-04T21:21:13.186Z"
   },
   {
    "duration": 56,
    "start_time": "2022-07-04T21:21:13.201Z"
   },
   {
    "duration": 17,
    "start_time": "2022-07-04T21:21:13.258Z"
   },
   {
    "duration": 20,
    "start_time": "2022-07-04T21:21:13.277Z"
   },
   {
    "duration": 14,
    "start_time": "2022-07-04T21:21:13.299Z"
   },
   {
    "duration": 29,
    "start_time": "2022-07-04T21:21:13.314Z"
   },
   {
    "duration": 19,
    "start_time": "2022-07-04T21:21:13.344Z"
   },
   {
    "duration": 7,
    "start_time": "2022-07-04T21:21:13.364Z"
   },
   {
    "duration": 12,
    "start_time": "2022-07-04T21:21:13.373Z"
   },
   {
    "duration": 29,
    "start_time": "2022-07-04T21:21:13.387Z"
   },
   {
    "duration": 9,
    "start_time": "2022-07-04T21:21:13.417Z"
   },
   {
    "duration": 44,
    "start_time": "2022-07-04T21:21:13.427Z"
   },
   {
    "duration": 37,
    "start_time": "2022-07-04T21:21:13.472Z"
   },
   {
    "duration": 36,
    "start_time": "2022-07-04T21:21:13.511Z"
   },
   {
    "duration": 29,
    "start_time": "2022-07-04T21:21:13.548Z"
   },
   {
    "duration": 159,
    "start_time": "2022-07-04T21:21:13.578Z"
   },
   {
    "duration": 34,
    "start_time": "2022-07-04T21:21:13.742Z"
   },
   {
    "duration": 26,
    "start_time": "2022-07-04T21:21:13.777Z"
   },
   {
    "duration": 46,
    "start_time": "2022-07-04T21:21:13.805Z"
   },
   {
    "duration": 20,
    "start_time": "2022-07-04T21:21:13.853Z"
   },
   {
    "duration": 7,
    "start_time": "2022-07-04T21:21:13.874Z"
   },
   {
    "duration": 4,
    "start_time": "2022-07-04T21:21:13.882Z"
   },
   {
    "duration": 11,
    "start_time": "2022-07-04T21:21:13.887Z"
   },
   {
    "duration": 16,
    "start_time": "2022-07-04T21:21:13.899Z"
   },
   {
    "duration": 17,
    "start_time": "2022-07-04T21:21:13.942Z"
   },
   {
    "duration": 19,
    "start_time": "2022-07-04T21:21:13.960Z"
   },
   {
    "duration": 131,
    "start_time": "2022-07-04T21:21:13.980Z"
   },
   {
    "duration": 6,
    "start_time": "2022-07-04T21:21:14.112Z"
   },
   {
    "duration": 11,
    "start_time": "2022-07-04T21:21:14.119Z"
   },
   {
    "duration": 190,
    "start_time": "2022-07-04T21:21:14.131Z"
   },
   {
    "duration": 238,
    "start_time": "2022-07-04T21:21:14.322Z"
   },
   {
    "duration": 192,
    "start_time": "2022-07-04T21:21:14.562Z"
   },
   {
    "duration": 208,
    "start_time": "2022-07-04T21:21:14.755Z"
   },
   {
    "duration": 185,
    "start_time": "2022-07-04T21:21:14.964Z"
   },
   {
    "duration": 192,
    "start_time": "2022-07-04T21:21:15.150Z"
   },
   {
    "duration": 192,
    "start_time": "2022-07-04T21:21:15.343Z"
   },
   {
    "duration": 183,
    "start_time": "2022-07-04T21:21:15.537Z"
   },
   {
    "duration": 271,
    "start_time": "2022-07-04T21:21:15.722Z"
   },
   {
    "duration": 176,
    "start_time": "2022-07-04T21:21:15.995Z"
   },
   {
    "duration": 187,
    "start_time": "2022-07-04T21:21:16.172Z"
   },
   {
    "duration": 168,
    "start_time": "2022-07-04T21:21:16.361Z"
   },
   {
    "duration": 180,
    "start_time": "2022-07-04T21:21:16.531Z"
   },
   {
    "duration": 221,
    "start_time": "2022-07-04T21:21:16.713Z"
   },
   {
    "duration": 9,
    "start_time": "2022-07-04T21:21:16.941Z"
   },
   {
    "duration": 13,
    "start_time": "2022-07-04T21:21:16.952Z"
   },
   {
    "duration": 196,
    "start_time": "2022-07-04T21:24:24.889Z"
   },
   {
    "duration": 13,
    "start_time": "2022-07-04T21:30:39.122Z"
   },
   {
    "duration": 4,
    "start_time": "2022-07-04T21:35:16.637Z"
   },
   {
    "duration": 1015,
    "start_time": "2022-07-04T21:35:58.331Z"
   },
   {
    "duration": 189,
    "start_time": "2022-07-04T21:35:59.348Z"
   },
   {
    "duration": 11,
    "start_time": "2022-07-04T21:35:59.539Z"
   },
   {
    "duration": 23,
    "start_time": "2022-07-04T21:35:59.552Z"
   },
   {
    "duration": 20,
    "start_time": "2022-07-04T21:35:59.577Z"
   },
   {
    "duration": 119,
    "start_time": "2022-07-04T21:35:59.599Z"
   },
   {
    "duration": 108,
    "start_time": "2022-07-04T21:35:59.719Z"
   },
   {
    "duration": 8,
    "start_time": "2022-07-04T21:35:59.828Z"
   },
   {
    "duration": 29,
    "start_time": "2022-07-04T21:35:59.837Z"
   },
   {
    "duration": 16,
    "start_time": "2022-07-04T21:35:59.868Z"
   },
   {
    "duration": 74,
    "start_time": "2022-07-04T21:35:59.885Z"
   },
   {
    "duration": 75,
    "start_time": "2022-07-04T21:35:59.961Z"
   },
   {
    "duration": 8,
    "start_time": "2022-07-04T21:36:00.038Z"
   },
   {
    "duration": 15,
    "start_time": "2022-07-04T21:36:00.049Z"
   },
   {
    "duration": 15,
    "start_time": "2022-07-04T21:36:00.066Z"
   },
   {
    "duration": 49,
    "start_time": "2022-07-04T21:36:00.082Z"
   },
   {
    "duration": 11,
    "start_time": "2022-07-04T21:36:00.133Z"
   },
   {
    "duration": 23,
    "start_time": "2022-07-04T21:36:00.146Z"
   },
   {
    "duration": 29,
    "start_time": "2022-07-04T21:36:00.171Z"
   },
   {
    "duration": 19,
    "start_time": "2022-07-04T21:36:00.202Z"
   },
   {
    "duration": 15,
    "start_time": "2022-07-04T21:36:00.222Z"
   },
   {
    "duration": 41,
    "start_time": "2022-07-04T21:36:00.239Z"
   },
   {
    "duration": 10,
    "start_time": "2022-07-04T21:36:00.281Z"
   },
   {
    "duration": 30,
    "start_time": "2022-07-04T21:36:00.293Z"
   },
   {
    "duration": 28,
    "start_time": "2022-07-04T21:36:00.325Z"
   },
   {
    "duration": 14,
    "start_time": "2022-07-04T21:36:00.354Z"
   },
   {
    "duration": 26,
    "start_time": "2022-07-04T21:36:00.370Z"
   },
   {
    "duration": 27,
    "start_time": "2022-07-04T21:36:00.397Z"
   },
   {
    "duration": 16,
    "start_time": "2022-07-04T21:36:00.426Z"
   },
   {
    "duration": 22,
    "start_time": "2022-07-04T21:36:00.443Z"
   },
   {
    "duration": 17,
    "start_time": "2022-07-04T21:36:00.466Z"
   },
   {
    "duration": 6,
    "start_time": "2022-07-04T21:36:00.485Z"
   },
   {
    "duration": 20,
    "start_time": "2022-07-04T21:36:00.493Z"
   },
   {
    "duration": 21,
    "start_time": "2022-07-04T21:36:00.515Z"
   },
   {
    "duration": 19,
    "start_time": "2022-07-04T21:36:00.538Z"
   },
   {
    "duration": 44,
    "start_time": "2022-07-04T21:36:00.559Z"
   },
   {
    "duration": 11,
    "start_time": "2022-07-04T21:36:00.605Z"
   },
   {
    "duration": 41,
    "start_time": "2022-07-04T21:36:00.617Z"
   },
   {
    "duration": 39,
    "start_time": "2022-07-04T21:36:00.660Z"
   },
   {
    "duration": 21,
    "start_time": "2022-07-04T21:36:00.701Z"
   },
   {
    "duration": 212,
    "start_time": "2022-07-04T21:36:00.741Z"
   },
   {
    "duration": 33,
    "start_time": "2022-07-04T21:36:00.954Z"
   },
   {
    "duration": 167,
    "start_time": "2022-07-04T21:36:00.989Z"
   },
   {
    "duration": 32,
    "start_time": "2022-07-04T21:36:01.158Z"
   },
   {
    "duration": 38,
    "start_time": "2022-07-04T21:36:01.192Z"
   },
   {
    "duration": 38,
    "start_time": "2022-07-04T21:36:01.231Z"
   },
   {
    "duration": 17,
    "start_time": "2022-07-04T21:36:01.271Z"
   },
   {
    "duration": 6,
    "start_time": "2022-07-04T21:36:01.290Z"
   },
   {
    "duration": 8,
    "start_time": "2022-07-04T21:36:01.298Z"
   },
   {
    "duration": 34,
    "start_time": "2022-07-04T21:36:01.307Z"
   },
   {
    "duration": 35,
    "start_time": "2022-07-04T21:36:01.343Z"
   },
   {
    "duration": 42,
    "start_time": "2022-07-04T21:36:01.379Z"
   },
   {
    "duration": 41,
    "start_time": "2022-07-04T21:36:01.423Z"
   },
   {
    "duration": 43,
    "start_time": "2022-07-04T21:36:01.465Z"
   },
   {
    "duration": 136,
    "start_time": "2022-07-04T21:36:01.510Z"
   },
   {
    "duration": 7,
    "start_time": "2022-07-04T21:36:01.647Z"
   },
   {
    "duration": 31,
    "start_time": "2022-07-04T21:36:01.655Z"
   },
   {
    "duration": 208,
    "start_time": "2022-07-04T21:36:01.687Z"
   },
   {
    "duration": 188,
    "start_time": "2022-07-04T21:36:01.897Z"
   },
   {
    "duration": 181,
    "start_time": "2022-07-04T21:36:02.086Z"
   },
   {
    "duration": 204,
    "start_time": "2022-07-04T21:36:02.268Z"
   },
   {
    "duration": 191,
    "start_time": "2022-07-04T21:36:02.473Z"
   },
   {
    "duration": 206,
    "start_time": "2022-07-04T21:36:02.665Z"
   },
   {
    "duration": 283,
    "start_time": "2022-07-04T21:36:02.872Z"
   },
   {
    "duration": 190,
    "start_time": "2022-07-04T21:36:03.157Z"
   },
   {
    "duration": 218,
    "start_time": "2022-07-04T21:36:03.349Z"
   },
   {
    "duration": 181,
    "start_time": "2022-07-04T21:36:03.569Z"
   },
   {
    "duration": 197,
    "start_time": "2022-07-04T21:36:03.751Z"
   },
   {
    "duration": 166,
    "start_time": "2022-07-04T21:36:03.950Z"
   },
   {
    "duration": 182,
    "start_time": "2022-07-04T21:36:04.118Z"
   },
   {
    "duration": 237,
    "start_time": "2022-07-04T21:36:04.302Z"
   },
   {
    "duration": 14,
    "start_time": "2022-07-04T21:36:04.541Z"
   },
   {
    "duration": 20,
    "start_time": "2022-07-04T21:36:04.557Z"
   },
   {
    "duration": 210,
    "start_time": "2022-07-04T21:58:32.441Z"
   }
  ],
  "kernelspec": {
   "display_name": "Python 3 (ipykernel)",
   "language": "python",
   "name": "python3"
  },
  "language_info": {
   "codemirror_mode": {
    "name": "ipython",
    "version": 3
   },
   "file_extension": ".py",
   "mimetype": "text/x-python",
   "name": "python",
   "nbconvert_exporter": "python",
   "pygments_lexer": "ipython3",
   "version": "3.9.5"
  },
  "toc": {
   "base_numbering": 1,
   "nav_menu": {},
   "number_sections": true,
   "sideBar": true,
   "skip_h1_title": true,
   "title_cell": "Table of Contents",
   "title_sidebar": "Contents",
   "toc_cell": false,
   "toc_position": {
    "height": "calc(100% - 180px)",
    "left": "10px",
    "top": "150px",
    "width": "180.682px"
   },
   "toc_section_display": true,
   "toc_window_display": true
  }
 },
 "nbformat": 4,
 "nbformat_minor": 2
}
