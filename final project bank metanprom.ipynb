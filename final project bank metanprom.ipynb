{
 "cells": [
  {
   "cell_type": "markdown",
   "metadata": {},
   "source": [
    "# Финальный проект: Анализ оттока клиентов банка \"Метанпром\"."
   ]
  },
  {
   "cell_type": "markdown",
   "metadata": {},
   "source": [
    "Ссылка на презентацию: https://disk.yandex.ru/i/xd3qNrnOymOfwA"
   ]
  },
  {
   "cell_type": "markdown",
   "metadata": {},
   "source": [
    "Ссылка на дашборд: https://public.tableau.com/app/profile/artur1081/viz/Final_dashboard_16781478516230/Dashboard1"
   ]
  },
  {
   "cell_type": "markdown",
   "metadata": {},
   "source": [
    "## Описание проекта:\n",
    "Главной задачей стал анализ оттока клиентов. Анализ показал, как клиенты пользуются  услугами, а так же помог составить портрет клиентов, которые склонны уходить из банка."
   ]
  },
  {
   "cell_type": "markdown",
   "metadata": {},
   "source": [
    "## Цель проекта: \n",
    "На основании портрета клиентов выяснить, какая категория более подвержена оттоку из банка \"Метанпром\". Оставить рекомендации для уменьшения доли оттока."
   ]
  },
  {
   "cell_type": "markdown",
   "metadata": {},
   "source": [
    "## Предобработка данных:"
   ]
  },
  {
   "cell_type": "markdown",
   "metadata": {},
   "source": [
    "Для начала импортируем библиотеки:"
   ]
  },
  {
   "cell_type": "code",
   "execution_count": 1,
   "metadata": {},
   "outputs": [],
   "source": [
    "import pandas as pd\n",
    "import seaborn as sns\n",
    "import numpy as np\n",
    "import matplotlib.pyplot as plt\n",
    "from scipy import stats as st\n",
    "import math as mth"
   ]
  },
  {
   "cell_type": "markdown",
   "metadata": {},
   "source": [
    "Загрузка датасета:"
   ]
  },
  {
   "cell_type": "code",
   "execution_count": 2,
   "metadata": {},
   "outputs": [],
   "source": [
    "data = pd.read_csv('/datasets/bank_dataset.csv') "
   ]
  },
  {
   "cell_type": "code",
   "execution_count": 3,
   "metadata": {},
   "outputs": [
    {
     "data": {
      "text/html": [
       "<div>\n",
       "<style scoped>\n",
       "    .dataframe tbody tr th:only-of-type {\n",
       "        vertical-align: middle;\n",
       "    }\n",
       "\n",
       "    .dataframe tbody tr th {\n",
       "        vertical-align: top;\n",
       "    }\n",
       "\n",
       "    .dataframe thead th {\n",
       "        text-align: right;\n",
       "    }\n",
       "</style>\n",
       "<table border=\"1\" class=\"dataframe\">\n",
       "  <thead>\n",
       "    <tr style=\"text-align: right;\">\n",
       "      <th></th>\n",
       "      <th>userid</th>\n",
       "      <th>score</th>\n",
       "      <th>City</th>\n",
       "      <th>Gender</th>\n",
       "      <th>Age</th>\n",
       "      <th>Objects</th>\n",
       "      <th>Balance</th>\n",
       "      <th>Products</th>\n",
       "      <th>CreditCard</th>\n",
       "      <th>Loyalty</th>\n",
       "      <th>estimated_salary</th>\n",
       "      <th>Churn</th>\n",
       "    </tr>\n",
       "  </thead>\n",
       "  <tbody>\n",
       "    <tr>\n",
       "      <th>0</th>\n",
       "      <td>15677338</td>\n",
       "      <td>619</td>\n",
       "      <td>Ярославль</td>\n",
       "      <td>Ж</td>\n",
       "      <td>42</td>\n",
       "      <td>2</td>\n",
       "      <td>NaN</td>\n",
       "      <td>1</td>\n",
       "      <td>1</td>\n",
       "      <td>1</td>\n",
       "      <td>101348.88</td>\n",
       "      <td>1</td>\n",
       "    </tr>\n",
       "    <tr>\n",
       "      <th>1</th>\n",
       "      <td>15690047</td>\n",
       "      <td>608</td>\n",
       "      <td>Рыбинск</td>\n",
       "      <td>Ж</td>\n",
       "      <td>41</td>\n",
       "      <td>1</td>\n",
       "      <td>83807.86</td>\n",
       "      <td>1</td>\n",
       "      <td>0</td>\n",
       "      <td>1</td>\n",
       "      <td>112542.58</td>\n",
       "      <td>0</td>\n",
       "    </tr>\n",
       "    <tr>\n",
       "      <th>2</th>\n",
       "      <td>15662040</td>\n",
       "      <td>502</td>\n",
       "      <td>Ярославль</td>\n",
       "      <td>Ж</td>\n",
       "      <td>42</td>\n",
       "      <td>8</td>\n",
       "      <td>159660.80</td>\n",
       "      <td>3</td>\n",
       "      <td>1</td>\n",
       "      <td>0</td>\n",
       "      <td>113931.57</td>\n",
       "      <td>1</td>\n",
       "    </tr>\n",
       "    <tr>\n",
       "      <th>3</th>\n",
       "      <td>15744090</td>\n",
       "      <td>699</td>\n",
       "      <td>Ярославль</td>\n",
       "      <td>Ж</td>\n",
       "      <td>39</td>\n",
       "      <td>1</td>\n",
       "      <td>NaN</td>\n",
       "      <td>2</td>\n",
       "      <td>0</td>\n",
       "      <td>0</td>\n",
       "      <td>93826.63</td>\n",
       "      <td>0</td>\n",
       "    </tr>\n",
       "    <tr>\n",
       "      <th>4</th>\n",
       "      <td>15780624</td>\n",
       "      <td>850</td>\n",
       "      <td>Рыбинск</td>\n",
       "      <td>Ж</td>\n",
       "      <td>43</td>\n",
       "      <td>2</td>\n",
       "      <td>125510.82</td>\n",
       "      <td>1</td>\n",
       "      <td>1</td>\n",
       "      <td>1</td>\n",
       "      <td>79084.10</td>\n",
       "      <td>0</td>\n",
       "    </tr>\n",
       "  </tbody>\n",
       "</table>\n",
       "</div>"
      ],
      "text/plain": [
       "     userid  score       City Gender  Age  Objects    Balance  Products  \\\n",
       "0  15677338    619  Ярославль      Ж   42        2        NaN         1   \n",
       "1  15690047    608    Рыбинск      Ж   41        1   83807.86         1   \n",
       "2  15662040    502  Ярославль      Ж   42        8  159660.80         3   \n",
       "3  15744090    699  Ярославль      Ж   39        1        NaN         2   \n",
       "4  15780624    850    Рыбинск      Ж   43        2  125510.82         1   \n",
       "\n",
       "   CreditCard  Loyalty  estimated_salary  Churn  \n",
       "0           1        1         101348.88      1  \n",
       "1           0        1         112542.58      0  \n",
       "2           1        0         113931.57      1  \n",
       "3           0        0          93826.63      0  \n",
       "4           1        1          79084.10      0  "
      ]
     },
     "execution_count": 3,
     "metadata": {},
     "output_type": "execute_result"
    }
   ],
   "source": [
    "data.head()"
   ]
  },
  {
   "cell_type": "markdown",
   "metadata": {},
   "source": []
  },
  {
   "cell_type": "markdown",
   "metadata": {},
   "source": [
    "Узнаем общую информацию о датасете:"
   ]
  },
  {
   "cell_type": "code",
   "execution_count": 4,
   "metadata": {},
   "outputs": [
    {
     "name": "stdout",
     "output_type": "stream",
     "text": [
      "<class 'pandas.core.frame.DataFrame'>\n",
      "RangeIndex: 10000 entries, 0 to 9999\n",
      "Data columns (total 12 columns):\n",
      " #   Column            Non-Null Count  Dtype  \n",
      "---  ------            --------------  -----  \n",
      " 0   userid            10000 non-null  int64  \n",
      " 1   score             10000 non-null  int64  \n",
      " 2   City              10000 non-null  object \n",
      " 3   Gender            10000 non-null  object \n",
      " 4   Age               10000 non-null  int64  \n",
      " 5   Objects           10000 non-null  int64  \n",
      " 6   Balance           6383 non-null   float64\n",
      " 7   Products          10000 non-null  int64  \n",
      " 8   CreditCard        10000 non-null  int64  \n",
      " 9   Loyalty           10000 non-null  int64  \n",
      " 10  estimated_salary  10000 non-null  float64\n",
      " 11  Churn             10000 non-null  int64  \n",
      "dtypes: float64(2), int64(8), object(2)\n",
      "memory usage: 937.6+ KB\n"
     ]
    }
   ],
   "source": [
    "data.info()"
   ]
  },
  {
   "cell_type": "code",
   "execution_count": 5,
   "metadata": {},
   "outputs": [
    {
     "data": {
      "text/html": [
       "<div>\n",
       "<style scoped>\n",
       "    .dataframe tbody tr th:only-of-type {\n",
       "        vertical-align: middle;\n",
       "    }\n",
       "\n",
       "    .dataframe tbody tr th {\n",
       "        vertical-align: top;\n",
       "    }\n",
       "\n",
       "    .dataframe thead th {\n",
       "        text-align: right;\n",
       "    }\n",
       "</style>\n",
       "<table border=\"1\" class=\"dataframe\">\n",
       "  <thead>\n",
       "    <tr style=\"text-align: right;\">\n",
       "      <th></th>\n",
       "      <th>userid</th>\n",
       "      <th>score</th>\n",
       "      <th>Age</th>\n",
       "      <th>Objects</th>\n",
       "      <th>Balance</th>\n",
       "      <th>Products</th>\n",
       "      <th>CreditCard</th>\n",
       "      <th>Loyalty</th>\n",
       "      <th>estimated_salary</th>\n",
       "      <th>Churn</th>\n",
       "    </tr>\n",
       "  </thead>\n",
       "  <tbody>\n",
       "    <tr>\n",
       "      <th>count</th>\n",
       "      <td>1.000000e+04</td>\n",
       "      <td>10000.000000</td>\n",
       "      <td>10000.000000</td>\n",
       "      <td>10000.000000</td>\n",
       "      <td>6383.000000</td>\n",
       "      <td>10000.000000</td>\n",
       "      <td>10000.00000</td>\n",
       "      <td>10000.000000</td>\n",
       "      <td>10000.000000</td>\n",
       "      <td>10000.000000</td>\n",
       "    </tr>\n",
       "    <tr>\n",
       "      <th>mean</th>\n",
       "      <td>1.573368e+07</td>\n",
       "      <td>650.528800</td>\n",
       "      <td>38.921800</td>\n",
       "      <td>5.012800</td>\n",
       "      <td>119827.493793</td>\n",
       "      <td>1.530200</td>\n",
       "      <td>0.70550</td>\n",
       "      <td>0.515100</td>\n",
       "      <td>100090.239881</td>\n",
       "      <td>0.203700</td>\n",
       "    </tr>\n",
       "    <tr>\n",
       "      <th>std</th>\n",
       "      <td>7.193619e+04</td>\n",
       "      <td>96.653299</td>\n",
       "      <td>10.487806</td>\n",
       "      <td>2.892174</td>\n",
       "      <td>30095.056462</td>\n",
       "      <td>0.581654</td>\n",
       "      <td>0.45584</td>\n",
       "      <td>0.499797</td>\n",
       "      <td>57510.492818</td>\n",
       "      <td>0.402769</td>\n",
       "    </tr>\n",
       "    <tr>\n",
       "      <th>min</th>\n",
       "      <td>1.560844e+07</td>\n",
       "      <td>350.000000</td>\n",
       "      <td>18.000000</td>\n",
       "      <td>0.000000</td>\n",
       "      <td>3768.690000</td>\n",
       "      <td>1.000000</td>\n",
       "      <td>0.00000</td>\n",
       "      <td>0.000000</td>\n",
       "      <td>11.580000</td>\n",
       "      <td>0.000000</td>\n",
       "    </tr>\n",
       "    <tr>\n",
       "      <th>25%</th>\n",
       "      <td>1.567126e+07</td>\n",
       "      <td>584.000000</td>\n",
       "      <td>32.000000</td>\n",
       "      <td>3.000000</td>\n",
       "      <td>100181.975000</td>\n",
       "      <td>1.000000</td>\n",
       "      <td>0.00000</td>\n",
       "      <td>0.000000</td>\n",
       "      <td>51002.110000</td>\n",
       "      <td>0.000000</td>\n",
       "    </tr>\n",
       "    <tr>\n",
       "      <th>50%</th>\n",
       "      <td>1.573347e+07</td>\n",
       "      <td>652.000000</td>\n",
       "      <td>37.000000</td>\n",
       "      <td>5.000000</td>\n",
       "      <td>119839.690000</td>\n",
       "      <td>1.000000</td>\n",
       "      <td>1.00000</td>\n",
       "      <td>1.000000</td>\n",
       "      <td>100193.915000</td>\n",
       "      <td>0.000000</td>\n",
       "    </tr>\n",
       "    <tr>\n",
       "      <th>75%</th>\n",
       "      <td>1.579597e+07</td>\n",
       "      <td>718.000000</td>\n",
       "      <td>44.000000</td>\n",
       "      <td>7.000000</td>\n",
       "      <td>139512.290000</td>\n",
       "      <td>2.000000</td>\n",
       "      <td>1.00000</td>\n",
       "      <td>1.000000</td>\n",
       "      <td>149388.247500</td>\n",
       "      <td>0.000000</td>\n",
       "    </tr>\n",
       "    <tr>\n",
       "      <th>max</th>\n",
       "      <td>1.585843e+07</td>\n",
       "      <td>850.000000</td>\n",
       "      <td>92.000000</td>\n",
       "      <td>10.000000</td>\n",
       "      <td>250898.090000</td>\n",
       "      <td>4.000000</td>\n",
       "      <td>1.00000</td>\n",
       "      <td>1.000000</td>\n",
       "      <td>199992.480000</td>\n",
       "      <td>1.000000</td>\n",
       "    </tr>\n",
       "  </tbody>\n",
       "</table>\n",
       "</div>"
      ],
      "text/plain": [
       "             userid         score           Age       Objects        Balance  \\\n",
       "count  1.000000e+04  10000.000000  10000.000000  10000.000000    6383.000000   \n",
       "mean   1.573368e+07    650.528800     38.921800      5.012800  119827.493793   \n",
       "std    7.193619e+04     96.653299     10.487806      2.892174   30095.056462   \n",
       "min    1.560844e+07    350.000000     18.000000      0.000000    3768.690000   \n",
       "25%    1.567126e+07    584.000000     32.000000      3.000000  100181.975000   \n",
       "50%    1.573347e+07    652.000000     37.000000      5.000000  119839.690000   \n",
       "75%    1.579597e+07    718.000000     44.000000      7.000000  139512.290000   \n",
       "max    1.585843e+07    850.000000     92.000000     10.000000  250898.090000   \n",
       "\n",
       "           Products   CreditCard       Loyalty  estimated_salary         Churn  \n",
       "count  10000.000000  10000.00000  10000.000000      10000.000000  10000.000000  \n",
       "mean       1.530200      0.70550      0.515100     100090.239881      0.203700  \n",
       "std        0.581654      0.45584      0.499797      57510.492818      0.402769  \n",
       "min        1.000000      0.00000      0.000000         11.580000      0.000000  \n",
       "25%        1.000000      0.00000      0.000000      51002.110000      0.000000  \n",
       "50%        1.000000      1.00000      1.000000     100193.915000      0.000000  \n",
       "75%        2.000000      1.00000      1.000000     149388.247500      0.000000  \n",
       "max        4.000000      1.00000      1.000000     199992.480000      1.000000  "
      ]
     },
     "execution_count": 5,
     "metadata": {},
     "output_type": "execute_result"
    }
   ],
   "source": [
    "data.describe()"
   ]
  },
  {
   "cell_type": "markdown",
   "metadata": {},
   "source": [
    "Посчитаем количество явных дубликатов:"
   ]
  },
  {
   "cell_type": "code",
   "execution_count": 6,
   "metadata": {},
   "outputs": [
    {
     "name": "stdout",
     "output_type": "stream",
     "text": [
      "Количество явных дубликатов в датасете: 0\n"
     ]
    }
   ],
   "source": [
    "print('Количество явных дубликатов в датасете:', data.duplicated().sum())"
   ]
  },
  {
   "cell_type": "markdown",
   "metadata": {},
   "source": [
    "Узнаем количество пропусков:"
   ]
  },
  {
   "cell_type": "code",
   "execution_count": 7,
   "metadata": {},
   "outputs": [
    {
     "data": {
      "text/plain": [
       "userid                 0\n",
       "score                  0\n",
       "City                   0\n",
       "Gender                 0\n",
       "Age                    0\n",
       "Objects                0\n",
       "Balance             3617\n",
       "Products               0\n",
       "CreditCard             0\n",
       "Loyalty                0\n",
       "estimated_salary       0\n",
       "Churn                  0\n",
       "dtype: int64"
      ]
     },
     "execution_count": 7,
     "metadata": {},
     "output_type": "execute_result"
    }
   ],
   "source": [
    "data.isna().sum()"
   ]
  },
  {
   "cell_type": "markdown",
   "metadata": {},
   "source": [
    "Столбец balance содержит 3617 пропусков."
   ]
  },
  {
   "cell_type": "markdown",
   "metadata": {},
   "source": [
    "Посчитаем долю пропусков в столбце balance:"
   ]
  },
  {
   "cell_type": "code",
   "execution_count": 8,
   "metadata": {},
   "outputs": [
    {
     "data": {
      "text/plain": [
       "userid              0.0000\n",
       "score               0.0000\n",
       "City                0.0000\n",
       "Gender              0.0000\n",
       "Age                 0.0000\n",
       "Objects             0.0000\n",
       "Balance             0.3617\n",
       "Products            0.0000\n",
       "CreditCard          0.0000\n",
       "Loyalty             0.0000\n",
       "estimated_salary    0.0000\n",
       "Churn               0.0000\n",
       "dtype: float64"
      ]
     },
     "execution_count": 8,
     "metadata": {},
     "output_type": "execute_result"
    }
   ],
   "source": [
    "data.isna().mean()"
   ]
  },
  {
   "cell_type": "markdown",
   "metadata": {},
   "source": [
    "Пропуски в столбце balance содержат существенную часть данных и удалению не подлежат."
   ]
  },
  {
   "cell_type": "markdown",
   "metadata": {},
   "source": [
    "Приведем названия столбцов к змеиному регистру:"
   ]
  },
  {
   "cell_type": "code",
   "execution_count": 9,
   "metadata": {},
   "outputs": [
    {
     "data": {
      "text/html": [
       "<div>\n",
       "<style scoped>\n",
       "    .dataframe tbody tr th:only-of-type {\n",
       "        vertical-align: middle;\n",
       "    }\n",
       "\n",
       "    .dataframe tbody tr th {\n",
       "        vertical-align: top;\n",
       "    }\n",
       "\n",
       "    .dataframe thead th {\n",
       "        text-align: right;\n",
       "    }\n",
       "</style>\n",
       "<table border=\"1\" class=\"dataframe\">\n",
       "  <thead>\n",
       "    <tr style=\"text-align: right;\">\n",
       "      <th></th>\n",
       "      <th>userid</th>\n",
       "      <th>score</th>\n",
       "      <th>city</th>\n",
       "      <th>gender</th>\n",
       "      <th>age</th>\n",
       "      <th>objects</th>\n",
       "      <th>balance</th>\n",
       "      <th>products</th>\n",
       "      <th>creditcard</th>\n",
       "      <th>loyalty</th>\n",
       "      <th>estimated_salary</th>\n",
       "      <th>churn</th>\n",
       "    </tr>\n",
       "  </thead>\n",
       "  <tbody>\n",
       "    <tr>\n",
       "      <th>0</th>\n",
       "      <td>15677338</td>\n",
       "      <td>619</td>\n",
       "      <td>Ярославль</td>\n",
       "      <td>Ж</td>\n",
       "      <td>42</td>\n",
       "      <td>2</td>\n",
       "      <td>NaN</td>\n",
       "      <td>1</td>\n",
       "      <td>1</td>\n",
       "      <td>1</td>\n",
       "      <td>101348.88</td>\n",
       "      <td>1</td>\n",
       "    </tr>\n",
       "    <tr>\n",
       "      <th>1</th>\n",
       "      <td>15690047</td>\n",
       "      <td>608</td>\n",
       "      <td>Рыбинск</td>\n",
       "      <td>Ж</td>\n",
       "      <td>41</td>\n",
       "      <td>1</td>\n",
       "      <td>83807.86</td>\n",
       "      <td>1</td>\n",
       "      <td>0</td>\n",
       "      <td>1</td>\n",
       "      <td>112542.58</td>\n",
       "      <td>0</td>\n",
       "    </tr>\n",
       "    <tr>\n",
       "      <th>2</th>\n",
       "      <td>15662040</td>\n",
       "      <td>502</td>\n",
       "      <td>Ярославль</td>\n",
       "      <td>Ж</td>\n",
       "      <td>42</td>\n",
       "      <td>8</td>\n",
       "      <td>159660.80</td>\n",
       "      <td>3</td>\n",
       "      <td>1</td>\n",
       "      <td>0</td>\n",
       "      <td>113931.57</td>\n",
       "      <td>1</td>\n",
       "    </tr>\n",
       "    <tr>\n",
       "      <th>3</th>\n",
       "      <td>15744090</td>\n",
       "      <td>699</td>\n",
       "      <td>Ярославль</td>\n",
       "      <td>Ж</td>\n",
       "      <td>39</td>\n",
       "      <td>1</td>\n",
       "      <td>NaN</td>\n",
       "      <td>2</td>\n",
       "      <td>0</td>\n",
       "      <td>0</td>\n",
       "      <td>93826.63</td>\n",
       "      <td>0</td>\n",
       "    </tr>\n",
       "    <tr>\n",
       "      <th>4</th>\n",
       "      <td>15780624</td>\n",
       "      <td>850</td>\n",
       "      <td>Рыбинск</td>\n",
       "      <td>Ж</td>\n",
       "      <td>43</td>\n",
       "      <td>2</td>\n",
       "      <td>125510.82</td>\n",
       "      <td>1</td>\n",
       "      <td>1</td>\n",
       "      <td>1</td>\n",
       "      <td>79084.10</td>\n",
       "      <td>0</td>\n",
       "    </tr>\n",
       "  </tbody>\n",
       "</table>\n",
       "</div>"
      ],
      "text/plain": [
       "     userid  score       city gender  age  objects    balance  products  \\\n",
       "0  15677338    619  Ярославль      Ж   42        2        NaN         1   \n",
       "1  15690047    608    Рыбинск      Ж   41        1   83807.86         1   \n",
       "2  15662040    502  Ярославль      Ж   42        8  159660.80         3   \n",
       "3  15744090    699  Ярославль      Ж   39        1        NaN         2   \n",
       "4  15780624    850    Рыбинск      Ж   43        2  125510.82         1   \n",
       "\n",
       "   creditcard  loyalty  estimated_salary  churn  \n",
       "0           1        1         101348.88      1  \n",
       "1           0        1         112542.58      0  \n",
       "2           1        0         113931.57      1  \n",
       "3           0        0          93826.63      0  \n",
       "4           1        1          79084.10      0  "
      ]
     },
     "execution_count": 9,
     "metadata": {},
     "output_type": "execute_result"
    }
   ],
   "source": [
    "data.columns = data.columns.str.lower()\n",
    "data.head()"
   ]
  },
  {
   "cell_type": "markdown",
   "metadata": {},
   "source": [
    "Исследуем выбросы в столбцах собственности, возраста, баланса и предполагаемой зарплаты:"
   ]
  },
  {
   "cell_type": "code",
   "execution_count": 10,
   "metadata": {},
   "outputs": [
    {
     "data": {
      "image/png": "[encoded data removed]",
      "text/plain": [
       "<Figure size 432x288 with 1 Axes>"
      ]
     },
     "metadata": {
      "needs_background": "light"
     },
     "output_type": "display_data"
    }
   ],
   "source": [
    "sns.boxplot(data=data, x='objects', palette='BuPu')\n",
    "plt.title('Выбросы в столбце собственности')\n",
    "plt.xlabel('Собственность')\n",
    "plt.show()"
   ]
  },
  {
   "cell_type": "code",
   "execution_count": 11,
   "metadata": {},
   "outputs": [
    {
     "data": {
      "image/png": "[encoded data removed]",
      "text/plain": [
       "<Figure size 432x288 with 1 Axes>"
      ]
     },
     "metadata": {
      "needs_background": "light"
     },
     "output_type": "display_data"
    }
   ],
   "source": [
    "sns.boxplot(data=data, x='age', palette='BuPu')\n",
    "plt.title('Выбросы в столбце возраста')\n",
    "plt.xlabel('Возраст')\n",
    "plt.show()"
   ]
  },
  {
   "cell_type": "code",
   "execution_count": 12,
   "metadata": {},
   "outputs": [
    {
     "data": {
      "image/png": "[encoded data removed]",
      "text/plain": [
       "<Figure size 432x288 with 1 Axes>"
      ]
     },
     "metadata": {
      "needs_background": "light"
     },
     "output_type": "display_data"
    }
   ],
   "source": [
    "sns.boxplot(data=data, x='balance', palette='BuPu')\n",
    "plt.title('Выбросы в столбце баланса')\n",
    "plt.xlabel('Баланс')\n",
    "plt.show()"
   ]
  },
  {
   "cell_type": "code",
   "execution_count": 13,
   "metadata": {},
   "outputs": [
    {
     "data": {
      "image/png": "[encoded data removed]",
      "text/plain": [
       "<Figure size 432x288 with 1 Axes>"
      ]
     },
     "metadata": {
      "needs_background": "light"
     },
     "output_type": "display_data"
    }
   ],
   "source": [
    "sns.boxplot(data=data, x='estimated_salary', palette='BuPu')\n",
    "plt.title('Выбросы в столбце предполагаемой зарплаты')\n",
    "plt.xlabel('Предполагаемая зарплата')\n",
    "plt.show()"
   ]
  },
  {
   "cell_type": "markdown",
   "metadata": {},
   "source": [
    "Столбец возраста содержит выбросы на отрезке после 62 лет. Столбец баланса содержит выбросы в районе больше 200000 и меньше 40000."
   ]
  },
  {
   "cell_type": "markdown",
   "metadata": {},
   "source": [
    "Проверим каков процент выбросов в столбце возраста:"
   ]
  },
  {
   "cell_type": "code",
   "execution_count": 14,
   "metadata": {},
   "outputs": [
    {
     "name": "stdout",
     "output_type": "stream",
     "text": [
      "Процент выбросов в столбце возраста: 3.6 %\n"
     ]
    }
   ],
   "source": [
    "print('Процент выбросов в столбце возраста:', round(len(data.query('age > 62'))/len(data)*100, 1), '%') "
   ]
  },
  {
   "cell_type": "markdown",
   "metadata": {},
   "source": [
    "Проверим каков процент выбросов в столбце баланса:"
   ]
  },
  {
   "cell_type": "code",
   "execution_count": 15,
   "metadata": {},
   "outputs": [
    {
     "name": "stdout",
     "output_type": "stream",
     "text": [
      "Процент выбросов в столбце баланса: 0.6 %\n"
     ]
    }
   ],
   "source": [
    "print('Процент выбросов в столбце баланса:', round(len(data.query('balance > 200000 or balance < 40000'))/len(data)*100, 1), '%')"
   ]
  },
  {
   "cell_type": "markdown",
   "metadata": {},
   "source": [
    "Выбросы подлежат удалению, так как их общая доля не превышает 5%."
   ]
  },
  {
   "cell_type": "markdown",
   "metadata": {},
   "source": [
    "Создадим новый отфильтрованный датасет."
   ]
  },
  {
   "cell_type": "code",
   "execution_count": 16,
   "metadata": {
    "scrolled": true
   },
   "outputs": [
    {
     "data": {
      "text/html": [
       "<div>\n",
       "<style scoped>\n",
       "    .dataframe tbody tr th:only-of-type {\n",
       "        vertical-align: middle;\n",
       "    }\n",
       "\n",
       "    .dataframe tbody tr th {\n",
       "        vertical-align: top;\n",
       "    }\n",
       "\n",
       "    .dataframe thead th {\n",
       "        text-align: right;\n",
       "    }\n",
       "</style>\n",
       "<table border=\"1\" class=\"dataframe\">\n",
       "  <thead>\n",
       "    <tr style=\"text-align: right;\">\n",
       "      <th></th>\n",
       "      <th>userid</th>\n",
       "      <th>score</th>\n",
       "      <th>age</th>\n",
       "      <th>objects</th>\n",
       "      <th>balance</th>\n",
       "      <th>products</th>\n",
       "      <th>creditcard</th>\n",
       "      <th>loyalty</th>\n",
       "      <th>estimated_salary</th>\n",
       "      <th>churn</th>\n",
       "    </tr>\n",
       "  </thead>\n",
       "  <tbody>\n",
       "    <tr>\n",
       "      <th>count</th>\n",
       "      <td>6.098000e+03</td>\n",
       "      <td>6098.000000</td>\n",
       "      <td>6098.000000</td>\n",
       "      <td>6098.000000</td>\n",
       "      <td>6098.000000</td>\n",
       "      <td>6098.000000</td>\n",
       "      <td>6098.000000</td>\n",
       "      <td>6098.000000</td>\n",
       "      <td>6098.000000</td>\n",
       "      <td>6098.000000</td>\n",
       "    </tr>\n",
       "    <tr>\n",
       "      <th>mean</th>\n",
       "      <td>1.573324e+07</td>\n",
       "      <td>650.947852</td>\n",
       "      <td>38.110528</td>\n",
       "      <td>4.982781</td>\n",
       "      <td>119740.764234</td>\n",
       "      <td>1.388488</td>\n",
       "      <td>0.700558</td>\n",
       "      <td>0.503608</td>\n",
       "      <td>100664.253947</td>\n",
       "      <td>0.237783</td>\n",
       "    </tr>\n",
       "    <tr>\n",
       "      <th>std</th>\n",
       "      <td>7.190547e+04</td>\n",
       "      <td>96.929753</td>\n",
       "      <td>8.895006</td>\n",
       "      <td>2.908286</td>\n",
       "      <td>28876.878459</td>\n",
       "      <td>0.578817</td>\n",
       "      <td>0.458051</td>\n",
       "      <td>0.500028</td>\n",
       "      <td>57418.551848</td>\n",
       "      <td>0.425760</td>\n",
       "    </tr>\n",
       "    <tr>\n",
       "      <th>min</th>\n",
       "      <td>1.560844e+07</td>\n",
       "      <td>350.000000</td>\n",
       "      <td>18.000000</td>\n",
       "      <td>0.000000</td>\n",
       "      <td>40105.510000</td>\n",
       "      <td>1.000000</td>\n",
       "      <td>0.000000</td>\n",
       "      <td>0.000000</td>\n",
       "      <td>11.580000</td>\n",
       "      <td>0.000000</td>\n",
       "    </tr>\n",
       "    <tr>\n",
       "      <th>25%</th>\n",
       "      <td>1.567104e+07</td>\n",
       "      <td>584.000000</td>\n",
       "      <td>32.000000</td>\n",
       "      <td>2.000000</td>\n",
       "      <td>100370.117500</td>\n",
       "      <td>1.000000</td>\n",
       "      <td>0.000000</td>\n",
       "      <td>0.000000</td>\n",
       "      <td>51697.330000</td>\n",
       "      <td>0.000000</td>\n",
       "    </tr>\n",
       "    <tr>\n",
       "      <th>50%</th>\n",
       "      <td>1.573287e+07</td>\n",
       "      <td>652.000000</td>\n",
       "      <td>37.000000</td>\n",
       "      <td>5.000000</td>\n",
       "      <td>119785.240000</td>\n",
       "      <td>1.000000</td>\n",
       "      <td>1.000000</td>\n",
       "      <td>1.000000</td>\n",
       "      <td>101140.290000</td>\n",
       "      <td>0.000000</td>\n",
       "    </tr>\n",
       "    <tr>\n",
       "      <th>75%</th>\n",
       "      <td>1.579561e+07</td>\n",
       "      <td>718.000000</td>\n",
       "      <td>43.000000</td>\n",
       "      <td>8.000000</td>\n",
       "      <td>139217.690000</td>\n",
       "      <td>2.000000</td>\n",
       "      <td>1.000000</td>\n",
       "      <td>1.000000</td>\n",
       "      <td>149592.187500</td>\n",
       "      <td>0.000000</td>\n",
       "    </tr>\n",
       "    <tr>\n",
       "      <th>max</th>\n",
       "      <td>1.585843e+07</td>\n",
       "      <td>850.000000</td>\n",
       "      <td>62.000000</td>\n",
       "      <td>10.000000</td>\n",
       "      <td>199689.490000</td>\n",
       "      <td>4.000000</td>\n",
       "      <td>1.000000</td>\n",
       "      <td>1.000000</td>\n",
       "      <td>199970.740000</td>\n",
       "      <td>1.000000</td>\n",
       "    </tr>\n",
       "  </tbody>\n",
       "</table>\n",
       "</div>"
      ],
      "text/plain": [
       "             userid        score          age      objects        balance  \\\n",
       "count  6.098000e+03  6098.000000  6098.000000  6098.000000    6098.000000   \n",
       "mean   1.573324e+07   650.947852    38.110528     4.982781  119740.764234   \n",
       "std    7.190547e+04    96.929753     8.895006     2.908286   28876.878459   \n",
       "min    1.560844e+07   350.000000    18.000000     0.000000   40105.510000   \n",
       "25%    1.567104e+07   584.000000    32.000000     2.000000  100370.117500   \n",
       "50%    1.573287e+07   652.000000    37.000000     5.000000  119785.240000   \n",
       "75%    1.579561e+07   718.000000    43.000000     8.000000  139217.690000   \n",
       "max    1.585843e+07   850.000000    62.000000    10.000000  199689.490000   \n",
       "\n",
       "          products   creditcard      loyalty  estimated_salary        churn  \n",
       "count  6098.000000  6098.000000  6098.000000       6098.000000  6098.000000  \n",
       "mean      1.388488     0.700558     0.503608     100664.253947     0.237783  \n",
       "std       0.578817     0.458051     0.500028      57418.551848     0.425760  \n",
       "min       1.000000     0.000000     0.000000         11.580000     0.000000  \n",
       "25%       1.000000     0.000000     0.000000      51697.330000     0.000000  \n",
       "50%       1.000000     1.000000     1.000000     101140.290000     0.000000  \n",
       "75%       2.000000     1.000000     1.000000     149592.187500     0.000000  \n",
       "max       4.000000     1.000000     1.000000     199970.740000     1.000000  "
      ]
     },
     "execution_count": 16,
     "metadata": {},
     "output_type": "execute_result"
    }
   ],
   "source": [
    "data = data.query('balance < 200000 and balance > 40000 and age <= 62')\n",
    "data.describe()"
   ]
  },
  {
   "cell_type": "markdown",
   "metadata": {},
   "source": [
    "По итогам предобработки были выявлены пропуски в данных, названия столбцов приведены к общему стилю. Так же были отброшены выбросы. Был создан отфильтрованный датасет на основе предобработки данных."
   ]
  },
  {
   "cell_type": "markdown",
   "metadata": {},
   "source": [
    "## Исследовательский анализ:"
   ]
  },
  {
   "cell_type": "markdown",
   "metadata": {},
   "source": [
    "Закодируем категориальные значения в gender и city для корректного отображения на матрице корреляции и создадим новые столбцы с кодировкой:"
   ]
  },
  {
   "cell_type": "code",
   "execution_count": 17,
   "metadata": {},
   "outputs": [
    {
     "data": {
      "text/html": [
       "<div>\n",
       "<style scoped>\n",
       "    .dataframe tbody tr th:only-of-type {\n",
       "        vertical-align: middle;\n",
       "    }\n",
       "\n",
       "    .dataframe tbody tr th {\n",
       "        vertical-align: top;\n",
       "    }\n",
       "\n",
       "    .dataframe thead th {\n",
       "        text-align: right;\n",
       "    }\n",
       "</style>\n",
       "<table border=\"1\" class=\"dataframe\">\n",
       "  <thead>\n",
       "    <tr style=\"text-align: right;\">\n",
       "      <th></th>\n",
       "      <th>userid</th>\n",
       "      <th>score</th>\n",
       "      <th>city</th>\n",
       "      <th>gender</th>\n",
       "      <th>age</th>\n",
       "      <th>objects</th>\n",
       "      <th>balance</th>\n",
       "      <th>products</th>\n",
       "      <th>creditcard</th>\n",
       "      <th>loyalty</th>\n",
       "      <th>estimated_salary</th>\n",
       "      <th>churn</th>\n",
       "      <th>gender_number</th>\n",
       "    </tr>\n",
       "  </thead>\n",
       "  <tbody>\n",
       "    <tr>\n",
       "      <th>1</th>\n",
       "      <td>15690047</td>\n",
       "      <td>608</td>\n",
       "      <td>Рыбинск</td>\n",
       "      <td>Ж</td>\n",
       "      <td>41</td>\n",
       "      <td>1</td>\n",
       "      <td>83807.86</td>\n",
       "      <td>1</td>\n",
       "      <td>0</td>\n",
       "      <td>1</td>\n",
       "      <td>112542.58</td>\n",
       "      <td>0</td>\n",
       "      <td>0</td>\n",
       "    </tr>\n",
       "    <tr>\n",
       "      <th>2</th>\n",
       "      <td>15662040</td>\n",
       "      <td>502</td>\n",
       "      <td>Ярославль</td>\n",
       "      <td>Ж</td>\n",
       "      <td>42</td>\n",
       "      <td>8</td>\n",
       "      <td>159660.80</td>\n",
       "      <td>3</td>\n",
       "      <td>1</td>\n",
       "      <td>0</td>\n",
       "      <td>113931.57</td>\n",
       "      <td>1</td>\n",
       "      <td>0</td>\n",
       "    </tr>\n",
       "    <tr>\n",
       "      <th>4</th>\n",
       "      <td>15780624</td>\n",
       "      <td>850</td>\n",
       "      <td>Рыбинск</td>\n",
       "      <td>Ж</td>\n",
       "      <td>43</td>\n",
       "      <td>2</td>\n",
       "      <td>125510.82</td>\n",
       "      <td>1</td>\n",
       "      <td>1</td>\n",
       "      <td>1</td>\n",
       "      <td>79084.10</td>\n",
       "      <td>0</td>\n",
       "      <td>0</td>\n",
       "    </tr>\n",
       "    <tr>\n",
       "      <th>5</th>\n",
       "      <td>15616748</td>\n",
       "      <td>645</td>\n",
       "      <td>Рыбинск</td>\n",
       "      <td>М</td>\n",
       "      <td>44</td>\n",
       "      <td>8</td>\n",
       "      <td>113755.78</td>\n",
       "      <td>2</td>\n",
       "      <td>1</td>\n",
       "      <td>0</td>\n",
       "      <td>149756.71</td>\n",
       "      <td>1</td>\n",
       "      <td>1</td>\n",
       "    </tr>\n",
       "    <tr>\n",
       "      <th>7</th>\n",
       "      <td>15698884</td>\n",
       "      <td>376</td>\n",
       "      <td>Ростов Великий</td>\n",
       "      <td>Ж</td>\n",
       "      <td>29</td>\n",
       "      <td>4</td>\n",
       "      <td>115046.74</td>\n",
       "      <td>4</td>\n",
       "      <td>1</td>\n",
       "      <td>0</td>\n",
       "      <td>119346.88</td>\n",
       "      <td>1</td>\n",
       "      <td>0</td>\n",
       "    </tr>\n",
       "  </tbody>\n",
       "</table>\n",
       "</div>"
      ],
      "text/plain": [
       "     userid  score            city gender  age  objects    balance  products  \\\n",
       "1  15690047    608         Рыбинск      Ж   41        1   83807.86         1   \n",
       "2  15662040    502       Ярославль      Ж   42        8  159660.80         3   \n",
       "4  15780624    850         Рыбинск      Ж   43        2  125510.82         1   \n",
       "5  15616748    645         Рыбинск      М   44        8  113755.78         2   \n",
       "7  15698884    376  Ростов Великий      Ж   29        4  115046.74         4   \n",
       "\n",
       "   creditcard  loyalty  estimated_salary  churn  gender_number  \n",
       "1           0        1         112542.58      0              0  \n",
       "2           1        0         113931.57      1              0  \n",
       "4           1        1          79084.10      0              0  \n",
       "5           1        0         149756.71      1              1  \n",
       "7           1        0         119346.88      1              0  "
      ]
     },
     "execution_count": 17,
     "metadata": {},
     "output_type": "execute_result"
    }
   ],
   "source": [
    "data['gender_number'] = data['gender'].replace(['Ж', \"М\"], [0, 1])\n",
    "data.head()"
   ]
  },
  {
   "cell_type": "code",
   "execution_count": 18,
   "metadata": {},
   "outputs": [],
   "source": [
    "data['city_number']=data['city']"
   ]
  },
  {
   "cell_type": "code",
   "execution_count": 19,
   "metadata": {},
   "outputs": [
    {
     "data": {
      "text/html": [
       "<div>\n",
       "<style scoped>\n",
       "    .dataframe tbody tr th:only-of-type {\n",
       "        vertical-align: middle;\n",
       "    }\n",
       "\n",
       "    .dataframe tbody tr th {\n",
       "        vertical-align: top;\n",
       "    }\n",
       "\n",
       "    .dataframe thead th {\n",
       "        text-align: right;\n",
       "    }\n",
       "</style>\n",
       "<table border=\"1\" class=\"dataframe\">\n",
       "  <thead>\n",
       "    <tr style=\"text-align: right;\">\n",
       "      <th></th>\n",
       "      <th>userid</th>\n",
       "      <th>score</th>\n",
       "      <th>city</th>\n",
       "      <th>gender</th>\n",
       "      <th>age</th>\n",
       "      <th>objects</th>\n",
       "      <th>balance</th>\n",
       "      <th>products</th>\n",
       "      <th>creditcard</th>\n",
       "      <th>loyalty</th>\n",
       "      <th>estimated_salary</th>\n",
       "      <th>churn</th>\n",
       "      <th>gender_number</th>\n",
       "      <th>Ростов Великий</th>\n",
       "      <th>Рыбинск</th>\n",
       "      <th>Ярославль</th>\n",
       "    </tr>\n",
       "  </thead>\n",
       "  <tbody>\n",
       "    <tr>\n",
       "      <th>1</th>\n",
       "      <td>15690047</td>\n",
       "      <td>608</td>\n",
       "      <td>Рыбинск</td>\n",
       "      <td>Ж</td>\n",
       "      <td>41</td>\n",
       "      <td>1</td>\n",
       "      <td>83807.86</td>\n",
       "      <td>1</td>\n",
       "      <td>0</td>\n",
       "      <td>1</td>\n",
       "      <td>112542.58</td>\n",
       "      <td>0</td>\n",
       "      <td>0</td>\n",
       "      <td>0</td>\n",
       "      <td>1</td>\n",
       "      <td>0</td>\n",
       "    </tr>\n",
       "    <tr>\n",
       "      <th>2</th>\n",
       "      <td>15662040</td>\n",
       "      <td>502</td>\n",
       "      <td>Ярославль</td>\n",
       "      <td>Ж</td>\n",
       "      <td>42</td>\n",
       "      <td>8</td>\n",
       "      <td>159660.80</td>\n",
       "      <td>3</td>\n",
       "      <td>1</td>\n",
       "      <td>0</td>\n",
       "      <td>113931.57</td>\n",
       "      <td>1</td>\n",
       "      <td>0</td>\n",
       "      <td>0</td>\n",
       "      <td>0</td>\n",
       "      <td>1</td>\n",
       "    </tr>\n",
       "    <tr>\n",
       "      <th>4</th>\n",
       "      <td>15780624</td>\n",
       "      <td>850</td>\n",
       "      <td>Рыбинск</td>\n",
       "      <td>Ж</td>\n",
       "      <td>43</td>\n",
       "      <td>2</td>\n",
       "      <td>125510.82</td>\n",
       "      <td>1</td>\n",
       "      <td>1</td>\n",
       "      <td>1</td>\n",
       "      <td>79084.10</td>\n",
       "      <td>0</td>\n",
       "      <td>0</td>\n",
       "      <td>0</td>\n",
       "      <td>1</td>\n",
       "      <td>0</td>\n",
       "    </tr>\n",
       "    <tr>\n",
       "      <th>5</th>\n",
       "      <td>15616748</td>\n",
       "      <td>645</td>\n",
       "      <td>Рыбинск</td>\n",
       "      <td>М</td>\n",
       "      <td>44</td>\n",
       "      <td>8</td>\n",
       "      <td>113755.78</td>\n",
       "      <td>2</td>\n",
       "      <td>1</td>\n",
       "      <td>0</td>\n",
       "      <td>149756.71</td>\n",
       "      <td>1</td>\n",
       "      <td>1</td>\n",
       "      <td>0</td>\n",
       "      <td>1</td>\n",
       "      <td>0</td>\n",
       "    </tr>\n",
       "    <tr>\n",
       "      <th>7</th>\n",
       "      <td>15698884</td>\n",
       "      <td>376</td>\n",
       "      <td>Ростов Великий</td>\n",
       "      <td>Ж</td>\n",
       "      <td>29</td>\n",
       "      <td>4</td>\n",
       "      <td>115046.74</td>\n",
       "      <td>4</td>\n",
       "      <td>1</td>\n",
       "      <td>0</td>\n",
       "      <td>119346.88</td>\n",
       "      <td>1</td>\n",
       "      <td>0</td>\n",
       "      <td>1</td>\n",
       "      <td>0</td>\n",
       "      <td>0</td>\n",
       "    </tr>\n",
       "  </tbody>\n",
       "</table>\n",
       "</div>"
      ],
      "text/plain": [
       "     userid  score            city gender  age  objects    balance  products  \\\n",
       "1  15690047    608         Рыбинск      Ж   41        1   83807.86         1   \n",
       "2  15662040    502       Ярославль      Ж   42        8  159660.80         3   \n",
       "4  15780624    850         Рыбинск      Ж   43        2  125510.82         1   \n",
       "5  15616748    645         Рыбинск      М   44        8  113755.78         2   \n",
       "7  15698884    376  Ростов Великий      Ж   29        4  115046.74         4   \n",
       "\n",
       "   creditcard  loyalty  estimated_salary  churn  gender_number  \\\n",
       "1           0        1         112542.58      0              0   \n",
       "2           1        0         113931.57      1              0   \n",
       "4           1        1          79084.10      0              0   \n",
       "5           1        0         149756.71      1              1   \n",
       "7           1        0         119346.88      1              0   \n",
       "\n",
       "   Ростов Великий  Рыбинск  Ярославль  \n",
       "1               0        1          0  \n",
       "2               0        0          1  \n",
       "4               0        1          0  \n",
       "5               0        1          0  \n",
       "7               1        0          0  "
      ]
     },
     "execution_count": 19,
     "metadata": {},
     "output_type": "execute_result"
    }
   ],
   "source": [
    "data = pd.get_dummies(data, columns=['city_number'])\n",
    "data = data.rename (\n",
    "    columns = ({\n",
    "        'city_number_Ростов Великий':'Ростов Великий', 'city_number_Рыбинск':'Рыбинск','city_number_Ярославль':'Ярославль', })\n",
    ")\n",
    "data.head()"
   ]
  },
  {
   "cell_type": "markdown",
   "metadata": {},
   "source": [
    "Построим матрицу корреляции:"
   ]
  },
  {
   "cell_type": "code",
   "execution_count": 20,
   "metadata": {},
   "outputs": [],
   "source": [
    "plt.rcParams ['figure.figsize'] = [12, 8] # увеличили графики во всем проекте."
   ]
  },
  {
   "cell_type": "code",
   "execution_count": 21,
   "metadata": {},
   "outputs": [
    {
     "data": {
      "image/png": "[encoded data removed]",
      "text/plain": [
       "<Figure size 864x576 with 2 Axes>"
      ]
     },
     "metadata": {
      "needs_background": "light"
     },
     "output_type": "display_data"
    }
   ],
   "source": [
    "sns.heatmap (data.corr(), annot=True, cmap='BuPu', linewidths=2);"
   ]
  },
  {
   "cell_type": "markdown",
   "metadata": {},
   "source": [
    "При рассмотрении корреляции параметра churn с остальными параметрами, можно заметить что сильной зависимости между ними не наблюдается. Наиболее выражена зависимость с параметром возраста, однакоона составляет лишь 37%. С точки зрения шкалы Чеддока - данные имеют либо очень слабые силы связи с коэффициентом корреляции от 0 до 0.3, либо слабые силы связи с коэффициентом корреляцииот 0.3 до 0.5. В очень слабую связь с churn входят такие параметры как:  score (баллы кредитного скоринга), balance (баланс на счете), products (количество продуктов), creditcard (наличие кредитной карты), loyality (активность клиента). В слабую связь входит только параметр age (возраст)."
   ]
  },
  {
   "cell_type": "markdown",
   "metadata": {},
   "source": [
    "Для определения возрастных категорий, рассмотрим отточных клиентов в зависимости от возраста:"
   ]
  },
  {
   "cell_type": "code",
   "execution_count": 22,
   "metadata": {},
   "outputs": [
    {
     "data": {
      "text/plain": [
       "<AxesSubplot:xlabel='age'>"
      ]
     },
     "execution_count": 22,
     "metadata": {},
     "output_type": "execute_result"
    },
    {
     "data": {
      "image/png": "[encoded data removed]",
      "text/plain": [
       "<Figure size 864x576 with 1 Axes>"
      ]
     },
     "metadata": {
      "needs_background": "light"
     },
     "output_type": "display_data"
    }
   ],
   "source": [
    "data_age = data[data['churn']==1]['age'].value_counts().reset_index().rename(columns={'index':'age', 'age':'clients_count'}).sort_values(by='age')\n",
    "data_age.plot(kind='bar', x='age', y='clients_count', color='indigo')"
   ]
  },
  {
   "cell_type": "markdown",
   "metadata": {},
   "source": [
    "Напишем функцию с выделением основных возрастных категорий:"
   ]
  },
  {
   "cell_type": "code",
   "execution_count": 23,
   "metadata": {},
   "outputs": [],
   "source": [
    "def age_group(age):\n",
    "    if 27 > age >= 18:\n",
    "        return '18-27'\n",
    "    if 36 >= age >= 28:\n",
    "        return '28-36'\n",
    "    if 48 >= age >= 37:\n",
    "        return '37-48'\n",
    "    if 62 >= age >= 49:\n",
    "        return '49-62'"
   ]
  },
  {
   "cell_type": "markdown",
   "metadata": {},
   "source": [
    "Применим функцию к столбцу age и создадим новый столбец для возрастных категорий:"
   ]
  },
  {
   "cell_type": "code",
   "execution_count": 24,
   "metadata": {},
   "outputs": [
    {
     "data": {
      "text/html": [
       "<div>\n",
       "<style scoped>\n",
       "    .dataframe tbody tr th:only-of-type {\n",
       "        vertical-align: middle;\n",
       "    }\n",
       "\n",
       "    .dataframe tbody tr th {\n",
       "        vertical-align: top;\n",
       "    }\n",
       "\n",
       "    .dataframe thead th {\n",
       "        text-align: right;\n",
       "    }\n",
       "</style>\n",
       "<table border=\"1\" class=\"dataframe\">\n",
       "  <thead>\n",
       "    <tr style=\"text-align: right;\">\n",
       "      <th></th>\n",
       "      <th>userid</th>\n",
       "      <th>score</th>\n",
       "      <th>city</th>\n",
       "      <th>gender</th>\n",
       "      <th>age</th>\n",
       "      <th>objects</th>\n",
       "      <th>balance</th>\n",
       "      <th>products</th>\n",
       "      <th>creditcard</th>\n",
       "      <th>loyalty</th>\n",
       "      <th>estimated_salary</th>\n",
       "      <th>churn</th>\n",
       "      <th>gender_number</th>\n",
       "      <th>Ростов Великий</th>\n",
       "      <th>Рыбинск</th>\n",
       "      <th>Ярославль</th>\n",
       "      <th>age_group</th>\n",
       "    </tr>\n",
       "  </thead>\n",
       "  <tbody>\n",
       "    <tr>\n",
       "      <th>1</th>\n",
       "      <td>15690047</td>\n",
       "      <td>608</td>\n",
       "      <td>Рыбинск</td>\n",
       "      <td>Ж</td>\n",
       "      <td>41</td>\n",
       "      <td>1</td>\n",
       "      <td>83807.86</td>\n",
       "      <td>1</td>\n",
       "      <td>0</td>\n",
       "      <td>1</td>\n",
       "      <td>112542.58</td>\n",
       "      <td>0</td>\n",
       "      <td>0</td>\n",
       "      <td>0</td>\n",
       "      <td>1</td>\n",
       "      <td>0</td>\n",
       "      <td>37-48</td>\n",
       "    </tr>\n",
       "    <tr>\n",
       "      <th>2</th>\n",
       "      <td>15662040</td>\n",
       "      <td>502</td>\n",
       "      <td>Ярославль</td>\n",
       "      <td>Ж</td>\n",
       "      <td>42</td>\n",
       "      <td>8</td>\n",
       "      <td>159660.80</td>\n",
       "      <td>3</td>\n",
       "      <td>1</td>\n",
       "      <td>0</td>\n",
       "      <td>113931.57</td>\n",
       "      <td>1</td>\n",
       "      <td>0</td>\n",
       "      <td>0</td>\n",
       "      <td>0</td>\n",
       "      <td>1</td>\n",
       "      <td>37-48</td>\n",
       "    </tr>\n",
       "    <tr>\n",
       "      <th>4</th>\n",
       "      <td>15780624</td>\n",
       "      <td>850</td>\n",
       "      <td>Рыбинск</td>\n",
       "      <td>Ж</td>\n",
       "      <td>43</td>\n",
       "      <td>2</td>\n",
       "      <td>125510.82</td>\n",
       "      <td>1</td>\n",
       "      <td>1</td>\n",
       "      <td>1</td>\n",
       "      <td>79084.10</td>\n",
       "      <td>0</td>\n",
       "      <td>0</td>\n",
       "      <td>0</td>\n",
       "      <td>1</td>\n",
       "      <td>0</td>\n",
       "      <td>37-48</td>\n",
       "    </tr>\n",
       "    <tr>\n",
       "      <th>5</th>\n",
       "      <td>15616748</td>\n",
       "      <td>645</td>\n",
       "      <td>Рыбинск</td>\n",
       "      <td>М</td>\n",
       "      <td>44</td>\n",
       "      <td>8</td>\n",
       "      <td>113755.78</td>\n",
       "      <td>2</td>\n",
       "      <td>1</td>\n",
       "      <td>0</td>\n",
       "      <td>149756.71</td>\n",
       "      <td>1</td>\n",
       "      <td>1</td>\n",
       "      <td>0</td>\n",
       "      <td>1</td>\n",
       "      <td>0</td>\n",
       "      <td>37-48</td>\n",
       "    </tr>\n",
       "    <tr>\n",
       "      <th>7</th>\n",
       "      <td>15698884</td>\n",
       "      <td>376</td>\n",
       "      <td>Ростов Великий</td>\n",
       "      <td>Ж</td>\n",
       "      <td>29</td>\n",
       "      <td>4</td>\n",
       "      <td>115046.74</td>\n",
       "      <td>4</td>\n",
       "      <td>1</td>\n",
       "      <td>0</td>\n",
       "      <td>119346.88</td>\n",
       "      <td>1</td>\n",
       "      <td>0</td>\n",
       "      <td>1</td>\n",
       "      <td>0</td>\n",
       "      <td>0</td>\n",
       "      <td>28-36</td>\n",
       "    </tr>\n",
       "  </tbody>\n",
       "</table>\n",
       "</div>"
      ],
      "text/plain": [
       "     userid  score            city gender  age  objects    balance  products  \\\n",
       "1  15690047    608         Рыбинск      Ж   41        1   83807.86         1   \n",
       "2  15662040    502       Ярославль      Ж   42        8  159660.80         3   \n",
       "4  15780624    850         Рыбинск      Ж   43        2  125510.82         1   \n",
       "5  15616748    645         Рыбинск      М   44        8  113755.78         2   \n",
       "7  15698884    376  Ростов Великий      Ж   29        4  115046.74         4   \n",
       "\n",
       "   creditcard  loyalty  estimated_salary  churn  gender_number  \\\n",
       "1           0        1         112542.58      0              0   \n",
       "2           1        0         113931.57      1              0   \n",
       "4           1        1          79084.10      0              0   \n",
       "5           1        0         149756.71      1              1   \n",
       "7           1        0         119346.88      1              0   \n",
       "\n",
       "   Ростов Великий  Рыбинск  Ярославль age_group  \n",
       "1               0        1          0     37-48  \n",
       "2               0        0          1     37-48  \n",
       "4               0        1          0     37-48  \n",
       "5               0        1          0     37-48  \n",
       "7               1        0          0     28-36  "
      ]
     },
     "execution_count": 24,
     "metadata": {},
     "output_type": "execute_result"
    }
   ],
   "source": [
    "data['age_group'] = data['age'].apply(age_group)\n",
    "data.head()"
   ]
  },
  {
   "cell_type": "markdown",
   "metadata": {},
   "source": [
    "Рассмотрим долю ушедших клиентов от общего числа для таких параметров как:\n",
    "\n",
    "-кредитный рейтинг\n",
    "\n",
    "-город клиента\n",
    "\n",
    "-пол пользователя \n",
    "\n",
    "-объекты в собственности\n",
    "\n",
    "-возрастная группа пользователя\n",
    "\n",
    "-количество продуктов, которыми пользуется клиент \n",
    "\n",
    "-наличие кредитной карты \n",
    "\n",
    "-активность клиента"
   ]
  },
  {
   "cell_type": "code",
   "execution_count": 25,
   "metadata": {
    "scrolled": true
   },
   "outputs": [
    {
     "data": {
      "text/html": [
       "<div>\n",
       "<style scoped>\n",
       "    .dataframe tbody tr th:only-of-type {\n",
       "        vertical-align: middle;\n",
       "    }\n",
       "\n",
       "    .dataframe tbody tr th {\n",
       "        vertical-align: top;\n",
       "    }\n",
       "\n",
       "    .dataframe thead th {\n",
       "        text-align: right;\n",
       "    }\n",
       "</style>\n",
       "<table border=\"1\" class=\"dataframe\">\n",
       "  <thead>\n",
       "    <tr style=\"text-align: right;\">\n",
       "      <th></th>\n",
       "      <th>sum</th>\n",
       "      <th>count</th>\n",
       "      <th>percent</th>\n",
       "    </tr>\n",
       "    <tr>\n",
       "      <th>score</th>\n",
       "      <th></th>\n",
       "      <th></th>\n",
       "      <th></th>\n",
       "    </tr>\n",
       "  </thead>\n",
       "  <tbody>\n",
       "    <tr>\n",
       "      <th>351</th>\n",
       "      <td>1</td>\n",
       "      <td>1</td>\n",
       "      <td>100.000000</td>\n",
       "    </tr>\n",
       "    <tr>\n",
       "      <th>358</th>\n",
       "      <td>1</td>\n",
       "      <td>1</td>\n",
       "      <td>100.000000</td>\n",
       "    </tr>\n",
       "    <tr>\n",
       "      <th>359</th>\n",
       "      <td>1</td>\n",
       "      <td>1</td>\n",
       "      <td>100.000000</td>\n",
       "    </tr>\n",
       "    <tr>\n",
       "      <th>363</th>\n",
       "      <td>1</td>\n",
       "      <td>1</td>\n",
       "      <td>100.000000</td>\n",
       "    </tr>\n",
       "    <tr>\n",
       "      <th>365</th>\n",
       "      <td>1</td>\n",
       "      <td>1</td>\n",
       "      <td>100.000000</td>\n",
       "    </tr>\n",
       "    <tr>\n",
       "      <th>...</th>\n",
       "      <td>...</td>\n",
       "      <td>...</td>\n",
       "      <td>...</td>\n",
       "    </tr>\n",
       "    <tr>\n",
       "      <th>839</th>\n",
       "      <td>1</td>\n",
       "      <td>2</td>\n",
       "      <td>50.000000</td>\n",
       "    </tr>\n",
       "    <tr>\n",
       "      <th>840</th>\n",
       "      <td>1</td>\n",
       "      <td>3</td>\n",
       "      <td>33.333333</td>\n",
       "    </tr>\n",
       "    <tr>\n",
       "      <th>841</th>\n",
       "      <td>1</td>\n",
       "      <td>5</td>\n",
       "      <td>20.000000</td>\n",
       "    </tr>\n",
       "    <tr>\n",
       "      <th>846</th>\n",
       "      <td>1</td>\n",
       "      <td>2</td>\n",
       "      <td>50.000000</td>\n",
       "    </tr>\n",
       "    <tr>\n",
       "      <th>849</th>\n",
       "      <td>1</td>\n",
       "      <td>5</td>\n",
       "      <td>20.000000</td>\n",
       "    </tr>\n",
       "  </tbody>\n",
       "</table>\n",
       "<p>82 rows × 3 columns</p>\n",
       "</div>"
      ],
      "text/plain": [
       "       sum  count     percent\n",
       "score                        \n",
       "351      1      1  100.000000\n",
       "358      1      1  100.000000\n",
       "359      1      1  100.000000\n",
       "363      1      1  100.000000\n",
       "365      1      1  100.000000\n",
       "...    ...    ...         ...\n",
       "839      1      2   50.000000\n",
       "840      1      3   33.333333\n",
       "841      1      5   20.000000\n",
       "846      1      2   50.000000\n",
       "849      1      5   20.000000\n",
       "\n",
       "[82 rows x 3 columns]"
      ]
     },
     "execution_count": 25,
     "metadata": {},
     "output_type": "execute_result"
    },
    {
     "data": {
      "image/png": "[encoded data removed]",
      "text/plain": [
       "<Figure size 1008x720 with 1 Axes>"
      ]
     },
     "metadata": {
      "needs_background": "light"
     },
     "output_type": "display_data"
    }
   ],
   "source": [
    "churn_score = data.pivot_table(index='score', values='churn', aggfunc=['sum', 'count'])\n",
    "churn_score.columns = churn_score.columns.droplevel(level=1)\n",
    "churn_score['percent'] = churn_score['sum']/churn_score['count']*100\n",
    "churn_score = churn_score[churn_score['sum']==1]\n",
    "churn_score['percent'].plot(kind ='bar', title ='Процент ушедших клиентов в разбивке по скоринговому рейтингу', figsize=(14,10),\n",
    "                            xlabel='Скоринговый рейтинг', ylabel='Процент', color='indigo')\n",
    "churn_score"
   ]
  },
  {
   "cell_type": "markdown",
   "metadata": {},
   "source": [
    "По графику видно, что из банка со 100% вероятностью уходят клиенты с рейтингом ниже 410, а так же рейтингом равным 423 и 436. С рейтинга 438 по рейтинг 639 наблюдается снижение оттока клиентов. С скорингового рейтинга 654 доля ушедших клиентов растет."
   ]
  },
  {
   "cell_type": "code",
   "execution_count": 26,
   "metadata": {},
   "outputs": [
    {
     "data": {
      "text/html": [
       "<div>\n",
       "<style scoped>\n",
       "    .dataframe tbody tr th:only-of-type {\n",
       "        vertical-align: middle;\n",
       "    }\n",
       "\n",
       "    .dataframe tbody tr th {\n",
       "        vertical-align: top;\n",
       "    }\n",
       "\n",
       "    .dataframe thead th {\n",
       "        text-align: right;\n",
       "    }\n",
       "</style>\n",
       "<table border=\"1\" class=\"dataframe\">\n",
       "  <thead>\n",
       "    <tr style=\"text-align: right;\">\n",
       "      <th></th>\n",
       "      <th>sum</th>\n",
       "      <th>count</th>\n",
       "      <th>percent</th>\n",
       "    </tr>\n",
       "    <tr>\n",
       "      <th>city</th>\n",
       "      <th></th>\n",
       "      <th></th>\n",
       "      <th></th>\n",
       "    </tr>\n",
       "  </thead>\n",
       "  <tbody>\n",
       "    <tr>\n",
       "      <th>Ростов Великий</th>\n",
       "      <td>785</td>\n",
       "      <td>2411</td>\n",
       "      <td>32.559104</td>\n",
       "    </tr>\n",
       "    <tr>\n",
       "      <th>Рыбинск</th>\n",
       "      <td>227</td>\n",
       "      <td>1209</td>\n",
       "      <td>18.775848</td>\n",
       "    </tr>\n",
       "    <tr>\n",
       "      <th>Ярославль</th>\n",
       "      <td>438</td>\n",
       "      <td>2478</td>\n",
       "      <td>17.675545</td>\n",
       "    </tr>\n",
       "  </tbody>\n",
       "</table>\n",
       "</div>"
      ],
      "text/plain": [
       "                sum  count    percent\n",
       "city                                 \n",
       "Ростов Великий  785   2411  32.559104\n",
       "Рыбинск         227   1209  18.775848\n",
       "Ярославль       438   2478  17.675545"
      ]
     },
     "execution_count": 26,
     "metadata": {},
     "output_type": "execute_result"
    },
    {
     "data": {
      "image/png": "[encoded data removed]",
      "text/plain": [
       "<Figure size 864x576 with 1 Axes>"
      ]
     },
     "metadata": {
      "needs_background": "light"
     },
     "output_type": "display_data"
    }
   ],
   "source": [
    "churn_city = data.pivot_table(index='city', values ='churn', aggfunc =['sum', 'count'])\n",
    "churn_city.columns = churn_city.columns.droplevel(level=1)\n",
    "churn_city['percent'] = churn_city['sum']/churn_city['count']*100\n",
    "churn_city['percent'].plot(kind='bar', title='Процент ушедших клиентов в разбивке по городам',\n",
    "                           xlabel='Город', ylabel='Процент', color='indigo') \n",
    "churn_city"
   ]
  },
  {
   "cell_type": "markdown",
   "metadata": {},
   "source": [
    "Исходя из графика можно заметить, что самый большой процент ушедших клиентов относится к \n",
    "Ростову Великому. В рыбинске и Ярославле доли примерно равны."
   ]
  },
  {
   "cell_type": "code",
   "execution_count": 27,
   "metadata": {},
   "outputs": [
    {
     "data": {
      "text/html": [
       "<div>\n",
       "<style scoped>\n",
       "    .dataframe tbody tr th:only-of-type {\n",
       "        vertical-align: middle;\n",
       "    }\n",
       "\n",
       "    .dataframe tbody tr th {\n",
       "        vertical-align: top;\n",
       "    }\n",
       "\n",
       "    .dataframe thead th {\n",
       "        text-align: right;\n",
       "    }\n",
       "</style>\n",
       "<table border=\"1\" class=\"dataframe\">\n",
       "  <thead>\n",
       "    <tr style=\"text-align: right;\">\n",
       "      <th></th>\n",
       "      <th>sum</th>\n",
       "      <th>count</th>\n",
       "      <th>percent</th>\n",
       "    </tr>\n",
       "    <tr>\n",
       "      <th>gender</th>\n",
       "      <th></th>\n",
       "      <th></th>\n",
       "      <th></th>\n",
       "    </tr>\n",
       "  </thead>\n",
       "  <tbody>\n",
       "    <tr>\n",
       "      <th>Ж</th>\n",
       "      <td>799</td>\n",
       "      <td>2759</td>\n",
       "      <td>28.959768</td>\n",
       "    </tr>\n",
       "    <tr>\n",
       "      <th>М</th>\n",
       "      <td>651</td>\n",
       "      <td>3339</td>\n",
       "      <td>19.496855</td>\n",
       "    </tr>\n",
       "  </tbody>\n",
       "</table>\n",
       "</div>"
      ],
      "text/plain": [
       "        sum  count    percent\n",
       "gender                       \n",
       "Ж       799   2759  28.959768\n",
       "М       651   3339  19.496855"
      ]
     },
     "execution_count": 27,
     "metadata": {},
     "output_type": "execute_result"
    },
    {
     "data": {
      "image/png": "[encoded data removed]",
      "text/plain": [
       "<Figure size 864x576 with 1 Axes>"
      ]
     },
     "metadata": {
      "needs_background": "light"
     },
     "output_type": "display_data"
    }
   ],
   "source": [
    "churn_gender = data.pivot_table(index='gender', values='churn', aggfunc=['sum', 'count'])\n",
    "churn_gender.columns = churn_gender.columns.droplevel(level=1)\n",
    "churn_gender['percent'] = churn_gender['sum']/churn_gender['count']*100\n",
    "churn_gender['percent'].plot(kind='bar', title='Процент ушедших клиентов в разбивке по полу', \n",
    "                             xlabel='Пол', ylabel='Процент', color='indigo')\n",
    "churn_gender"
   ]
  },
  {
   "cell_type": "markdown",
   "metadata": {},
   "source": [
    "Судя по графику женщины покидают банк чаще мужчин."
   ]
  },
  {
   "cell_type": "code",
   "execution_count": 28,
   "metadata": {},
   "outputs": [
    {
     "data": {
      "text/html": [
       "<div>\n",
       "<style scoped>\n",
       "    .dataframe tbody tr th:only-of-type {\n",
       "        vertical-align: middle;\n",
       "    }\n",
       "\n",
       "    .dataframe tbody tr th {\n",
       "        vertical-align: top;\n",
       "    }\n",
       "\n",
       "    .dataframe thead th {\n",
       "        text-align: right;\n",
       "    }\n",
       "</style>\n",
       "<table border=\"1\" class=\"dataframe\">\n",
       "  <thead>\n",
       "    <tr style=\"text-align: right;\">\n",
       "      <th></th>\n",
       "      <th>sum</th>\n",
       "      <th>count</th>\n",
       "      <th>percent</th>\n",
       "    </tr>\n",
       "    <tr>\n",
       "      <th>objects</th>\n",
       "      <th></th>\n",
       "      <th></th>\n",
       "      <th></th>\n",
       "    </tr>\n",
       "  </thead>\n",
       "  <tbody>\n",
       "    <tr>\n",
       "      <th>0</th>\n",
       "      <td>73</td>\n",
       "      <td>265</td>\n",
       "      <td>27.547170</td>\n",
       "    </tr>\n",
       "    <tr>\n",
       "      <th>1</th>\n",
       "      <td>160</td>\n",
       "      <td>653</td>\n",
       "      <td>24.502297</td>\n",
       "    </tr>\n",
       "    <tr>\n",
       "      <th>2</th>\n",
       "      <td>127</td>\n",
       "      <td>633</td>\n",
       "      <td>20.063191</td>\n",
       "    </tr>\n",
       "    <tr>\n",
       "      <th>3</th>\n",
       "      <td>153</td>\n",
       "      <td>626</td>\n",
       "      <td>24.440895</td>\n",
       "    </tr>\n",
       "    <tr>\n",
       "      <th>4</th>\n",
       "      <td>142</td>\n",
       "      <td>596</td>\n",
       "      <td>23.825503</td>\n",
       "    </tr>\n",
       "    <tr>\n",
       "      <th>5</th>\n",
       "      <td>153</td>\n",
       "      <td>609</td>\n",
       "      <td>25.123153</td>\n",
       "    </tr>\n",
       "    <tr>\n",
       "      <th>6</th>\n",
       "      <td>136</td>\n",
       "      <td>567</td>\n",
       "      <td>23.985891</td>\n",
       "    </tr>\n",
       "    <tr>\n",
       "      <th>7</th>\n",
       "      <td>124</td>\n",
       "      <td>621</td>\n",
       "      <td>19.967794</td>\n",
       "    </tr>\n",
       "    <tr>\n",
       "      <th>8</th>\n",
       "      <td>155</td>\n",
       "      <td>640</td>\n",
       "      <td>24.218750</td>\n",
       "    </tr>\n",
       "    <tr>\n",
       "      <th>9</th>\n",
       "      <td>159</td>\n",
       "      <td>590</td>\n",
       "      <td>26.949153</td>\n",
       "    </tr>\n",
       "    <tr>\n",
       "      <th>10</th>\n",
       "      <td>68</td>\n",
       "      <td>298</td>\n",
       "      <td>22.818792</td>\n",
       "    </tr>\n",
       "  </tbody>\n",
       "</table>\n",
       "</div>"
      ],
      "text/plain": [
       "         sum  count    percent\n",
       "objects                       \n",
       "0         73    265  27.547170\n",
       "1        160    653  24.502297\n",
       "2        127    633  20.063191\n",
       "3        153    626  24.440895\n",
       "4        142    596  23.825503\n",
       "5        153    609  25.123153\n",
       "6        136    567  23.985891\n",
       "7        124    621  19.967794\n",
       "8        155    640  24.218750\n",
       "9        159    590  26.949153\n",
       "10        68    298  22.818792"
      ]
     },
     "execution_count": 28,
     "metadata": {},
     "output_type": "execute_result"
    },
    {
     "data": {
      "image/png": "[encoded data removed]",
      "text/plain": [
       "<Figure size 864x576 with 1 Axes>"
      ]
     },
     "metadata": {
      "needs_background": "light"
     },
     "output_type": "display_data"
    }
   ],
   "source": [
    "churn_objects = data.pivot_table(index='objects', values='churn', aggfunc=['sum', 'count'])\n",
    "churn_objects.columns = churn_objects.columns.droplevel(level=1)\n",
    "churn_objects['percent'] = churn_objects['sum']/churn_objects['count']*100\n",
    "churn_objects['percent'].plot(kind='bar', title='Процент ушедших клиентов в разбивке по объектам в собственности',\n",
    "                              xlabel='Объекты в обственности', ylabel='Процент', color='indigo')\n",
    "churn_objects"
   ]
  },
  {
   "cell_type": "markdown",
   "metadata": {},
   "source": [
    "Наиболее подвержены уходу клиенты без объектов собственности и с 9 объектами собственности. Наименьшая доля ушедших клиентов с 2 или 7 объектами собственности."
   ]
  },
  {
   "cell_type": "code",
   "execution_count": 29,
   "metadata": {},
   "outputs": [
    {
     "data": {
      "text/html": [
       "<div>\n",
       "<style scoped>\n",
       "    .dataframe tbody tr th:only-of-type {\n",
       "        vertical-align: middle;\n",
       "    }\n",
       "\n",
       "    .dataframe tbody tr th {\n",
       "        vertical-align: top;\n",
       "    }\n",
       "\n",
       "    .dataframe thead th {\n",
       "        text-align: right;\n",
       "    }\n",
       "</style>\n",
       "<table border=\"1\" class=\"dataframe\">\n",
       "  <thead>\n",
       "    <tr style=\"text-align: right;\">\n",
       "      <th></th>\n",
       "      <th>sum</th>\n",
       "      <th>count</th>\n",
       "      <th>percent</th>\n",
       "    </tr>\n",
       "    <tr>\n",
       "      <th>age_group</th>\n",
       "      <th></th>\n",
       "      <th></th>\n",
       "      <th></th>\n",
       "    </tr>\n",
       "  </thead>\n",
       "  <tbody>\n",
       "    <tr>\n",
       "      <th>18-27</th>\n",
       "      <td>46</td>\n",
       "      <td>504</td>\n",
       "      <td>9.126984</td>\n",
       "    </tr>\n",
       "    <tr>\n",
       "      <th>28-36</th>\n",
       "      <td>235</td>\n",
       "      <td>2200</td>\n",
       "      <td>10.681818</td>\n",
       "    </tr>\n",
       "    <tr>\n",
       "      <th>37-48</th>\n",
       "      <td>698</td>\n",
       "      <td>2464</td>\n",
       "      <td>28.327922</td>\n",
       "    </tr>\n",
       "    <tr>\n",
       "      <th>49-62</th>\n",
       "      <td>461</td>\n",
       "      <td>807</td>\n",
       "      <td>57.125155</td>\n",
       "    </tr>\n",
       "  </tbody>\n",
       "</table>\n",
       "</div>"
      ],
      "text/plain": [
       "           sum  count    percent\n",
       "age_group                       \n",
       "18-27       46    504   9.126984\n",
       "28-36      235   2200  10.681818\n",
       "37-48      698   2464  28.327922\n",
       "49-62      461    807  57.125155"
      ]
     },
     "execution_count": 29,
     "metadata": {},
     "output_type": "execute_result"
    },
    {
     "data": {
      "image/png": "[encoded data removed]",
      "text/plain": [
       "<Figure size 864x576 with 1 Axes>"
      ]
     },
     "metadata": {
      "needs_background": "light"
     },
     "output_type": "display_data"
    }
   ],
   "source": [
    "churn_age_group = data.pivot_table (index='age_group', values='churn', aggfunc=['sum', 'count'])\n",
    "churn_age_group.columns = churn_age_group.columns.droplevel(level=1)\n",
    "churn_age_group['percent'] = churn_age_group['sum']/churn_age_group['count']*100\n",
    "churn_age_group['percent'].plot(kind='bar', title='Процент ушедших клиентов в разбивке по возрастным группам',\n",
    "                                xlabel='Возраст', ylabel='Процент', color='indigo')\n",
    "churn_age_group"
   ]
  },
  {
   "cell_type": "markdown",
   "metadata": {},
   "source": [
    "При изучении всех групп возрастов, можно заметить что большая часть клиентов возраста 49-62, более 50%, подвержено оттоку. Наименее подвержены оттоку клиенты в возрастной группе 18-27 лет."
   ]
  },
  {
   "cell_type": "code",
   "execution_count": 30,
   "metadata": {
    "scrolled": false
   },
   "outputs": [
    {
     "data": {
      "text/html": [
       "<div>\n",
       "<style scoped>\n",
       "    .dataframe tbody tr th:only-of-type {\n",
       "        vertical-align: middle;\n",
       "    }\n",
       "\n",
       "    .dataframe tbody tr th {\n",
       "        vertical-align: top;\n",
       "    }\n",
       "\n",
       "    .dataframe thead th {\n",
       "        text-align: right;\n",
       "    }\n",
       "</style>\n",
       "<table border=\"1\" class=\"dataframe\">\n",
       "  <thead>\n",
       "    <tr style=\"text-align: right;\">\n",
       "      <th></th>\n",
       "      <th>sum</th>\n",
       "      <th>count</th>\n",
       "      <th>percent</th>\n",
       "    </tr>\n",
       "    <tr>\n",
       "      <th>products</th>\n",
       "      <th></th>\n",
       "      <th></th>\n",
       "      <th></th>\n",
       "    </tr>\n",
       "  </thead>\n",
       "  <tbody>\n",
       "    <tr>\n",
       "      <th>1</th>\n",
       "      <td>1012</td>\n",
       "      <td>3980</td>\n",
       "      <td>25.427136</td>\n",
       "    </tr>\n",
       "    <tr>\n",
       "      <th>2</th>\n",
       "      <td>243</td>\n",
       "      <td>1913</td>\n",
       "      <td>12.702561</td>\n",
       "    </tr>\n",
       "    <tr>\n",
       "      <th>3</th>\n",
       "      <td>149</td>\n",
       "      <td>159</td>\n",
       "      <td>93.710692</td>\n",
       "    </tr>\n",
       "    <tr>\n",
       "      <th>4</th>\n",
       "      <td>46</td>\n",
       "      <td>46</td>\n",
       "      <td>100.000000</td>\n",
       "    </tr>\n",
       "  </tbody>\n",
       "</table>\n",
       "</div>"
      ],
      "text/plain": [
       "           sum  count     percent\n",
       "products                         \n",
       "1         1012   3980   25.427136\n",
       "2          243   1913   12.702561\n",
       "3          149    159   93.710692\n",
       "4           46     46  100.000000"
      ]
     },
     "execution_count": 30,
     "metadata": {},
     "output_type": "execute_result"
    },
    {
     "data": {
      "image/png": "[encoded data removed]",
      "text/plain": [
       "<Figure size 864x576 with 1 Axes>"
      ]
     },
     "metadata": {
      "needs_background": "light"
     },
     "output_type": "display_data"
    }
   ],
   "source": [
    "churn_products = data.pivot_table(index='products', values='churn', aggfunc=['sum', 'count'])\n",
    "churn_products.columns = churn_products.columns.droplevel(level=1)\n",
    "churn_products['percent'] = churn_products['sum']/churn_products['count']*100\n",
    "churn_products['percent'].plot(kind='bar', title='Процент ушедших клиентов в разбивке по количеству используемых продуктов',\n",
    "                               xlabel='Количество продуктов', ylabel='Процент', color='indigo')\n",
    "churn_products"
   ]
  },
  {
   "cell_type": "markdown",
   "metadata": {},
   "source": [
    "Рассмотрим, какую долю от всех клиентов занимает то или иное количества продукта:"
   ]
  },
  {
   "cell_type": "code",
   "execution_count": 31,
   "metadata": {},
   "outputs": [
    {
     "data": {
      "text/plain": [
       "<AxesSubplot:title={'center':'Процент клиентов от общего числа в разбивке по количеству используемых продуктов'}, xlabel='Количество продуктов', ylabel='Процент'>"
      ]
     },
     "execution_count": 31,
     "metadata": {},
     "output_type": "execute_result"
    },
    {
     "data": {
      "image/png": "[encoded data removed]",
      "text/plain": [
       "<Figure size 864x576 with 1 Axes>"
      ]
     },
     "metadata": {
      "needs_background": "light"
     },
     "output_type": "display_data"
    }
   ],
   "source": [
    "count_products = data.pivot_table(index='products', values='userid', aggfunc='count')\n",
    "count_total = [6098, 6098, 6098, 6098]\n",
    "count_products['total_userid'] = count_total\n",
    "count_products\n",
    "count_products['percent'] = count_products['userid']/count_products['total_userid']*100\n",
    "count_products['percent'].plot(kind='bar',\n",
    "                               title='Процент клиентов от общего числа в разбивке по количеству используемых продуктов',\n",
    "                               xlabel='Количество продуктов', ylabel='Процент', color='indigo')"
   ]
  },
  {
   "cell_type": "markdown",
   "metadata": {},
   "source": [
    "На графике видно, что наибольшее количество клиентов пользуются 1 продуктом. Меньше всего клиенты пользуются 4 продуктами."
   ]
  },
  {
   "cell_type": "markdown",
   "metadata": {},
   "source": [
    "Наиболее подвержены уходу клиенты с оформленными 3 или 4 продуктами. Клиенты с 1 или 2 продуктами представляют намного меньшую долю ушедших.\n"
   ]
  },
  {
   "cell_type": "code",
   "execution_count": 32,
   "metadata": {},
   "outputs": [
    {
     "data": {
      "text/html": [
       "<div>\n",
       "<style scoped>\n",
       "    .dataframe tbody tr th:only-of-type {\n",
       "        vertical-align: middle;\n",
       "    }\n",
       "\n",
       "    .dataframe tbody tr th {\n",
       "        vertical-align: top;\n",
       "    }\n",
       "\n",
       "    .dataframe thead th {\n",
       "        text-align: right;\n",
       "    }\n",
       "</style>\n",
       "<table border=\"1\" class=\"dataframe\">\n",
       "  <thead>\n",
       "    <tr style=\"text-align: right;\">\n",
       "      <th></th>\n",
       "      <th>sum</th>\n",
       "      <th>count</th>\n",
       "      <th>percent</th>\n",
       "    </tr>\n",
       "    <tr>\n",
       "      <th>creditcard</th>\n",
       "      <th></th>\n",
       "      <th></th>\n",
       "      <th></th>\n",
       "    </tr>\n",
       "  </thead>\n",
       "  <tbody>\n",
       "    <tr>\n",
       "      <th>0</th>\n",
       "      <td>433</td>\n",
       "      <td>1826</td>\n",
       "      <td>23.713034</td>\n",
       "    </tr>\n",
       "    <tr>\n",
       "      <th>1</th>\n",
       "      <td>1017</td>\n",
       "      <td>4272</td>\n",
       "      <td>23.806180</td>\n",
       "    </tr>\n",
       "  </tbody>\n",
       "</table>\n",
       "</div>"
      ],
      "text/plain": [
       "             sum  count    percent\n",
       "creditcard                        \n",
       "0            433   1826  23.713034\n",
       "1           1017   4272  23.806180"
      ]
     },
     "execution_count": 32,
     "metadata": {},
     "output_type": "execute_result"
    },
    {
     "data": {
      "image/png": "[encoded data removed]",
      "text/plain": [
       "<Figure size 864x576 with 1 Axes>"
      ]
     },
     "metadata": {
      "needs_background": "light"
     },
     "output_type": "display_data"
    }
   ],
   "source": [
    "churn_creditcard = data.pivot_table(index='creditcard', values='churn', aggfunc=['sum', 'count'])\n",
    "churn_creditcard.columns = churn_creditcard.columns.droplevel(level=1)\n",
    "churn_creditcard['percent'] = churn_creditcard['sum']/churn_creditcard['count']*100\n",
    "churn_creditcard['percent'].plot(kind='bar', title='Процент ушедших клиентов в разбивке по по наличию или отсутствию кредитной карты от общего числа',\n",
    "                                  xlabel='Наличие кредитной карты', ylabel='Процент', color='indigo')\n",
    "churn_creditcard"
   ]
  },
  {
   "cell_type": "markdown",
   "metadata": {},
   "source": [
    "На графике видно, как наличие кредитной карты не влияет на отток."
   ]
  },
  {
   "cell_type": "code",
   "execution_count": 33,
   "metadata": {},
   "outputs": [
    {
     "data": {
      "text/html": [
       "<div>\n",
       "<style scoped>\n",
       "    .dataframe tbody tr th:only-of-type {\n",
       "        vertical-align: middle;\n",
       "    }\n",
       "\n",
       "    .dataframe tbody tr th {\n",
       "        vertical-align: top;\n",
       "    }\n",
       "\n",
       "    .dataframe thead th {\n",
       "        text-align: right;\n",
       "    }\n",
       "</style>\n",
       "<table border=\"1\" class=\"dataframe\">\n",
       "  <thead>\n",
       "    <tr style=\"text-align: right;\">\n",
       "      <th></th>\n",
       "      <th>sum</th>\n",
       "      <th>count</th>\n",
       "      <th>percent</th>\n",
       "    </tr>\n",
       "    <tr>\n",
       "      <th>loyalty</th>\n",
       "      <th></th>\n",
       "      <th></th>\n",
       "      <th></th>\n",
       "    </tr>\n",
       "  </thead>\n",
       "  <tbody>\n",
       "    <tr>\n",
       "      <th>0</th>\n",
       "      <td>930</td>\n",
       "      <td>3027</td>\n",
       "      <td>30.723489</td>\n",
       "    </tr>\n",
       "    <tr>\n",
       "      <th>1</th>\n",
       "      <td>520</td>\n",
       "      <td>3071</td>\n",
       "      <td>16.932595</td>\n",
       "    </tr>\n",
       "  </tbody>\n",
       "</table>\n",
       "</div>"
      ],
      "text/plain": [
       "         sum  count    percent\n",
       "loyalty                       \n",
       "0        930   3027  30.723489\n",
       "1        520   3071  16.932595"
      ]
     },
     "execution_count": 33,
     "metadata": {},
     "output_type": "execute_result"
    },
    {
     "data": {
      "image/png": "[encoded data removed]",
      "text/plain": [
       "<Figure size 864x576 with 1 Axes>"
      ]
     },
     "metadata": {
      "needs_background": "light"
     },
     "output_type": "display_data"
    }
   ],
   "source": [
    "churn_loyalty = data.pivot_table(index='loyalty', values='churn', aggfunc=['sum', 'count'])\n",
    "churn_loyalty.columns = churn_loyalty.columns.droplevel(level=1)\n",
    "churn_loyalty['percent'] = churn_loyalty['sum']/churn_loyalty['count']*100\n",
    "churn_loyalty['percent'].plot(kind='bar', title='Процент ушедших клиентов в разбивке по активности', \n",
    "                              xlabel='Активность клиента', ylabel='Процент', color='indigo');\n",
    "churn_loyalty"
   ]
  },
  {
   "cell_type": "markdown",
   "metadata": {},
   "source": [
    "Активные клиенты менее подвержены уходу, нежели клиенты утратившие активность."
   ]
  },
  {
   "cell_type": "markdown",
   "metadata": {},
   "source": [
    "## Создание портретов пользователей:"
   ]
  },
  {
   "cell_type": "markdown",
   "metadata": {},
   "source": [
    "Выделим портрет клиентов, которые склонны уходить из банка:\n",
    "\n",
    "-рейтинг ниже 410, а так же равен 423 и 436\n",
    "\n",
    "-клиенты из города Ростов Великий\n",
    "\n",
    "-клиенты женского пола\n",
    "\n",
    "-клиенты не имеющие объектов собственности, либо имеющие 9 объектов\n",
    "\n",
    "-клиенты состоящие в возрастной группе 49-62 года\n",
    "\n",
    "-клиенты пользующиеся 3-4 продуктами банков\n",
    "\n",
    "-клиенты не проявляющие активности"
   ]
  },
  {
   "cell_type": "markdown",
   "metadata": {},
   "source": [
    "Так же выделим портрет клиентов, которые склонны остаться:\n",
    "\n",
    "-скоринговый рейтинг держится в районе 592-752\n",
    "\n",
    "-клиенты из городов Рыбинск и Ярославль\n",
    "\n",
    "-клиенты мужского пола\n",
    "\n",
    "-клиенты владеющие 2 или 7 объектами собственности\n",
    "\n",
    "-возраст клиентов от 18 до 36 лет\n",
    "\n",
    "-клиенты пользующиеся 1-2 банковскими продуктами\n",
    "\n",
    "-клиенты проявляющие активность"
   ]
  },
  {
   "cell_type": "markdown",
   "metadata": {},
   "source": [
    "## Проверка гипотез:"
   ]
  },
  {
   "cell_type": "markdown",
   "metadata": {},
   "source": [
    "Проверим три гипотезы: Гипотеза 1: доходы ушедших и оставшихся клиентов, Гипотеза 2: количество используемых банковских продуктов оставшихся и ушедших клиентов, Гипотеза 3: доля кредитных карт оставшихся и ушедших клиентов."
   ]
  },
  {
   "cell_type": "markdown",
   "metadata": {},
   "source": [
    "Проверим выборки:"
   ]
  },
  {
   "cell_type": "code",
   "execution_count": 34,
   "metadata": {},
   "outputs": [
    {
     "data": {
      "text/plain": [
       "<AxesSubplot:>"
      ]
     },
     "execution_count": 34,
     "metadata": {},
     "output_type": "execute_result"
    },
    {
     "data": {
      "image/png": "[encoded data removed]",
      "text/plain": [
       "<Figure size 864x576 with 1 Axes>"
      ]
     },
     "metadata": {
      "needs_background": "light"
     },
     "output_type": "display_data"
    }
   ],
   "source": [
    "client_1 = data[(data['churn']==0)]['estimated_salary']\n",
    "client_2 = data[(data['churn']==1)]['estimated_salary']\n",
    "client_1.hist(bins = 30, alpha=0.5)\n",
    "client_2.hist(bins = 30, alpha=0.5)"
   ]
  },
  {
   "cell_type": "code",
   "execution_count": 35,
   "metadata": {},
   "outputs": [
    {
     "data": {
      "text/plain": [
       "<AxesSubplot:>"
      ]
     },
     "execution_count": 35,
     "metadata": {},
     "output_type": "execute_result"
    },
    {
     "data": {
      "image/png": "[encoded data removed]",
      "text/plain": [
       "<Figure size 864x576 with 1 Axes>"
      ]
     },
     "metadata": {
      "needs_background": "light"
     },
     "output_type": "display_data"
    }
   ],
   "source": [
    "product_1 = data[(data['churn']==0)]['products']\n",
    "product_2 = data[(data['churn']==1)]['products']\n",
    "product_1.hist(bins = 30, alpha=0.5)\n",
    "product_2.hist(bins = 30, alpha=0.5)"
   ]
  },
  {
   "cell_type": "markdown",
   "metadata": {},
   "source": [
    "Выборки достаточно независимы друг от друга, используем ttest для проверки гипотез 1 и 2. Для проверки гипотезы 3 используем z-test."
   ]
  },
  {
   "cell_type": "markdown",
   "metadata": {},
   "source": [
    "Сформулируем и проверим статистические гипотезы:"
   ]
  },
  {
   "cell_type": "markdown",
   "metadata": {},
   "source": [
    "### Гипотеза 1: доходы ушедших и оставшихся клиентов\n",
    "\n",
    "H₀:средние доходы ушедших и оставшихся клиентов равны\n",
    "\n",
    "H₁:средние доходы ушедших и оставшихся клиентов не равны"
   ]
  },
  {
   "cell_type": "code",
   "execution_count": 36,
   "metadata": {},
   "outputs": [
    {
     "name": "stdout",
     "output_type": "stream",
     "text": [
      "0.7859743578106887\n",
      "Не получилось отвергнуть нулевую гипотезу\n"
     ]
    }
   ],
   "source": [
    "results = st.ttest_ind (\n",
    "    data[data['churn']==0]['estimated_salary'],\n",
    "    data[data['churn']==1]['estimated_salary'], equal_var = False)\n",
    "\n",
    "alpha = 0.05\n",
    "\n",
    "print (results.pvalue) \n",
    "\n",
    "if results.pvalue < alpha:\n",
    "    print ('Отвергаем нулевую гипотезу')\n",
    "else:\n",
    "    print ('Не получилось отвергнуть нулевую гипотезу')"
   ]
  },
  {
   "cell_type": "markdown",
   "metadata": {},
   "source": [
    "Отвергнуть нулевую гипотезу не получилось: средние доходы ушедших и оставшихся клиентов равны."
   ]
  },
  {
   "cell_type": "markdown",
   "metadata": {},
   "source": [
    "### Гипотеза 2: количество используемых банковских продуктов оставшихся и ушедших клиентов\n",
    "\n",
    "H₀:среднее количество используемых банковских продуктов ушедших и оставшихся клиентов равно\n",
    "\n",
    "H₁:среднее количество используемых банковских продуктов ушедших и оставшихся клиентов не равно"
   ]
  },
  {
   "cell_type": "code",
   "execution_count": 37,
   "metadata": {
    "scrolled": true
   },
   "outputs": [
    {
     "name": "stdout",
     "output_type": "stream",
     "text": [
      "2.7818147936864007e-06\n",
      "Отвергаем нулевую гипотезу\n"
     ]
    }
   ],
   "source": [
    "results = st.ttest_ind (\n",
    "    data[data['churn']==0]['products'],\n",
    "    data[data['churn']==1]['products'], equal_var = False)\n",
    "\n",
    "alpha = 0.05\n",
    "\n",
    "print (results.pvalue) \n",
    "\n",
    "if results.pvalue < alpha:\n",
    "    print ('Отвергаем нулевую гипотезу')\n",
    "else:\n",
    "    print ('Не получилось отвергнуть нулевую гипотезу')"
   ]
  },
  {
   "cell_type": "markdown",
   "metadata": {},
   "source": [
    "Отвергаем нулевую гипотезу: среднее количество используемых банковских продуктов ушедших и оставшихся клиентов не равно."
   ]
  },
  {
   "cell_type": "markdown",
   "metadata": {},
   "source": [
    "### Гипотеза 3: доля кредитных карт оставшихся и ушедших клиентов\n",
    "\n",
    "H₀:доли кредитных карт ушедших и оставшихся клиентов равны\n",
    "\n",
    "H₁:доли кредитных карт ушедших и оставшихся клиентов не равны"
   ]
  },
  {
   "cell_type": "markdown",
   "metadata": {},
   "source": [
    "Для проверки равенства долей используем z-test:"
   ]
  },
  {
   "cell_type": "code",
   "execution_count": 38,
   "metadata": {},
   "outputs": [
    {
     "name": "stdout",
     "output_type": "stream",
     "text": [
      "Уровень значимости: 0.05\n",
      "p-значение: 0.937626081249877\n",
      "Не получилось отвергнуть нулевую гипотезу, нет оснований считать доли разными\n"
     ]
    }
   ],
   "source": [
    "def test_share_eq(dep_col, ind_col, ALPHA):\n",
    "\n",
    "    group_size = data[ind_col].value_counts() #размер групп\n",
    "    share_size = data.groupby(ind_col)[dep_col].sum() #размер целевых подгрупп в группах\n",
    "   \n",
    "    \n",
    "    p = share_size / group_size #доли\n",
    "    p_combined = share_size.sum() / group_size.sum() #общая доля\n",
    "    # разница пропорций в датасетах\n",
    "    difference = p[0] - p[1]\n",
    "    \n",
    "    z_value = difference / mth.sqrt(p_combined * (1 - p_combined) * (1/group_size[0] + 1/group_size[1]))\n",
    "\n",
    "    # задаем стандартное нормальное распределение (среднее 0, ст.отклонение 1)\n",
    "    distr = st.norm(0, 1) \n",
    "\n",
    "    p_value = (1 - distr.cdf(abs(z_value))) * 2\n",
    "\n",
    "    print(f'Уровень значимости: {ALPHA}')\n",
    "    print('p-значение: {0:.15f}'.format(p_value))\n",
    "\n",
    "    if (p_value < ALPHA):\n",
    "        print(\"Отвергаем нулевую гипотезу: между долями есть значимая разница\")\n",
    "    else:\n",
    "        print(\"Не получилось отвергнуть нулевую гипотезу, нет оснований считать доли разными\")\n",
    "\n",
    "test_share_eq('churn', 'creditcard', .05)"
   ]
  },
  {
   "cell_type": "markdown",
   "metadata": {},
   "source": [
    "Отвергнуть нулевую гипотезу не получилось: доли кредитных карт ушедших и оставшихся клиентов равны."
   ]
  },
  {
   "cell_type": "markdown",
   "metadata": {},
   "source": [
    "## Выводы и рекомендации:"
   ]
  },
  {
   "cell_type": "markdown",
   "metadata": {},
   "source": [
    "### Выводы:\n",
    "Наиболее склонны к уходу клиенты с рейтингом ниже 410, женского пола из города Ростов Великий. Такие клиенты в основном не имеют собственности объектов вовсе, либо имеют их 7. Возрастная категория составляет 49-62 года. Клиенты имеют 3-4 продукта банка и не проявляют активности.\n",
    "\n",
    "При проверке гипотез мы выяснили, что средние доходы ушедших и оставшихся клиентов равны, доля кредитных карт ушедших и оставшихся клиентов равна, среднее количество используемых банковских продуктов ушедших и оставшихся клиентов не равно.\n",
    "\n",
    "### Рекомендации:\n",
    "Необходимо более детально рассмотреть филиалы в городе Ростов Великий. Для клиентов с кредитным рейтингом ниже 410 необходимо разработать подходящий продукт. Предложить для возрастных категорий 49-62 более подходящую пенсионную програму. Детально разобраться с негативным опытом использования более 3х банковских продуктов, возможна нехватка информирования клиентов о продуктах, либо наоборот излишняя навязчивость в предложении услуг. Для неакиивных клиентов возможно дополнительное информирование о продуктах банка. Возможно дополнительные продукты для женщин препринимателей."
   ]
  }
 ],
 "metadata": {
  "ExecuteTimeLog": [
   {
    "duration": 1211,
    "start_time": "2023-03-06T18:56:03.771Z"
   },
   {
    "duration": 39,
    "start_time": "2023-03-06T18:56:04.984Z"
   },
   {
    "duration": 20,
    "start_time": "2023-03-06T18:56:05.025Z"
   },
   {
    "duration": 16,
    "start_time": "2023-03-06T18:56:05.048Z"
   },
   {
    "duration": 70,
    "start_time": "2023-03-06T18:56:05.067Z"
   },
   {
    "duration": 14,
    "start_time": "2023-03-06T18:56:05.140Z"
   },
   {
    "duration": 9,
    "start_time": "2023-03-06T18:56:05.156Z"
   },
   {
    "duration": 8,
    "start_time": "2023-03-06T18:56:05.167Z"
   },
   {
    "duration": 12,
    "start_time": "2023-03-06T18:56:05.177Z"
   },
   {
    "duration": 182,
    "start_time": "2023-03-06T18:56:05.192Z"
   },
   {
    "duration": 145,
    "start_time": "2023-03-06T18:56:05.377Z"
   },
   {
    "duration": 131,
    "start_time": "2023-03-06T18:56:05.524Z"
   },
   {
    "duration": 145,
    "start_time": "2023-03-06T18:56:05.657Z"
   },
   {
    "duration": 12,
    "start_time": "2023-03-06T18:56:05.804Z"
   },
   {
    "duration": 9,
    "start_time": "2023-03-06T18:56:05.831Z"
   },
   {
    "duration": 66,
    "start_time": "2023-03-06T18:56:05.842Z"
   },
   {
    "duration": 40,
    "start_time": "2023-03-06T18:56:05.910Z"
   },
   {
    "duration": 3,
    "start_time": "2023-03-06T18:56:05.952Z"
   },
   {
    "duration": 1168,
    "start_time": "2023-03-06T18:56:05.957Z"
   },
   {
    "duration": 504,
    "start_time": "2023-03-06T18:56:07.127Z"
   },
   {
    "duration": 4,
    "start_time": "2023-03-06T18:56:07.633Z"
   },
   {
    "duration": 25,
    "start_time": "2023-03-06T18:56:07.639Z"
   },
   {
    "duration": 1141,
    "start_time": "2023-03-06T18:56:07.668Z"
   },
   {
    "duration": 173,
    "start_time": "2023-03-06T18:56:08.811Z"
   },
   {
    "duration": 186,
    "start_time": "2023-03-06T18:56:08.986Z"
   },
   {
    "duration": 197,
    "start_time": "2023-03-06T18:56:09.173Z"
   },
   {
    "duration": 173,
    "start_time": "2023-03-06T18:56:09.373Z"
   },
   {
    "duration": 174,
    "start_time": "2023-03-06T18:56:09.549Z"
   },
   {
    "duration": 150,
    "start_time": "2023-03-06T18:56:09.731Z"
   },
   {
    "duration": 172,
    "start_time": "2023-03-06T18:56:09.884Z"
   },
   {
    "duration": 11,
    "start_time": "2023-03-06T18:56:10.058Z"
   },
   {
    "duration": 12,
    "start_time": "2023-03-06T18:56:10.070Z"
   },
   {
    "duration": 9,
    "start_time": "2023-03-06T18:56:10.083Z"
   },
   {
    "duration": 12,
    "start_time": "2023-03-06T19:05:11.472Z"
   },
   {
    "duration": 3,
    "start_time": "2023-03-06T19:13:29.098Z"
   },
   {
    "duration": 4,
    "start_time": "2023-03-06T19:19:47.322Z"
   },
   {
    "duration": 19,
    "start_time": "2023-03-06T19:19:47.735Z"
   },
   {
    "duration": 1259,
    "start_time": "2023-03-06T19:20:02.646Z"
   },
   {
    "duration": 48,
    "start_time": "2023-03-06T19:20:03.907Z"
   },
   {
    "duration": 15,
    "start_time": "2023-03-06T19:20:03.957Z"
   },
   {
    "duration": 30,
    "start_time": "2023-03-06T19:20:03.974Z"
   },
   {
    "duration": 54,
    "start_time": "2023-03-06T19:20:04.006Z"
   },
   {
    "duration": 10,
    "start_time": "2023-03-06T19:20:04.061Z"
   },
   {
    "duration": 13,
    "start_time": "2023-03-06T19:20:04.072Z"
   },
   {
    "duration": 9,
    "start_time": "2023-03-06T19:20:04.086Z"
   },
   {
    "duration": 15,
    "start_time": "2023-03-06T19:20:04.097Z"
   },
   {
    "duration": 134,
    "start_time": "2023-03-06T19:20:04.114Z"
   },
   {
    "duration": 144,
    "start_time": "2023-03-06T19:20:04.251Z"
   },
   {
    "duration": 115,
    "start_time": "2023-03-06T19:20:04.397Z"
   },
   {
    "duration": 123,
    "start_time": "2023-03-06T19:20:04.514Z"
   },
   {
    "duration": 10,
    "start_time": "2023-03-06T19:20:04.641Z"
   },
   {
    "duration": 14,
    "start_time": "2023-03-06T19:20:04.652Z"
   },
   {
    "duration": 37,
    "start_time": "2023-03-06T19:20:04.668Z"
   },
   {
    "duration": 49,
    "start_time": "2023-03-06T19:20:04.707Z"
   },
   {
    "duration": 3,
    "start_time": "2023-03-06T19:20:04.758Z"
   },
   {
    "duration": 1231,
    "start_time": "2023-03-06T19:20:04.762Z"
   },
   {
    "duration": 592,
    "start_time": "2023-03-06T19:20:05.995Z"
   },
   {
    "duration": 4,
    "start_time": "2023-03-06T19:20:06.589Z"
   },
   {
    "duration": 28,
    "start_time": "2023-03-06T19:20:06.595Z"
   },
   {
    "duration": 1278,
    "start_time": "2023-03-06T19:20:06.625Z"
   },
   {
    "duration": 197,
    "start_time": "2023-03-06T19:20:07.905Z"
   },
   {
    "duration": 183,
    "start_time": "2023-03-06T19:20:08.104Z"
   },
   {
    "duration": 231,
    "start_time": "2023-03-06T19:20:08.289Z"
   },
   {
    "duration": 186,
    "start_time": "2023-03-06T19:20:08.522Z"
   },
   {
    "duration": 188,
    "start_time": "2023-03-06T19:20:08.710Z"
   },
   {
    "duration": 180,
    "start_time": "2023-03-06T19:20:08.900Z"
   },
   {
    "duration": 189,
    "start_time": "2023-03-06T19:20:09.082Z"
   },
   {
    "duration": 10,
    "start_time": "2023-03-06T19:20:09.272Z"
   },
   {
    "duration": 18,
    "start_time": "2023-03-06T19:20:09.284Z"
   },
   {
    "duration": 7,
    "start_time": "2023-03-06T19:20:09.304Z"
   },
   {
    "duration": 4,
    "start_time": "2023-03-06T19:24:22.032Z"
   },
   {
    "duration": 1211,
    "start_time": "2023-03-06T20:57:07.596Z"
   },
   {
    "duration": 60,
    "start_time": "2023-03-06T20:57:08.809Z"
   },
   {
    "duration": 17,
    "start_time": "2023-03-06T20:57:08.871Z"
   },
   {
    "duration": 13,
    "start_time": "2023-03-06T20:57:08.890Z"
   },
   {
    "duration": 54,
    "start_time": "2023-03-06T20:57:08.905Z"
   },
   {
    "duration": 15,
    "start_time": "2023-03-06T20:57:08.963Z"
   },
   {
    "duration": 9,
    "start_time": "2023-03-06T20:57:08.979Z"
   },
   {
    "duration": 9,
    "start_time": "2023-03-06T20:57:08.990Z"
   },
   {
    "duration": 15,
    "start_time": "2023-03-06T20:57:09.001Z"
   },
   {
    "duration": 134,
    "start_time": "2023-03-06T20:57:09.017Z"
   },
   {
    "duration": 109,
    "start_time": "2023-03-06T20:57:09.153Z"
   },
   {
    "duration": 116,
    "start_time": "2023-03-06T20:57:09.264Z"
   },
   {
    "duration": 121,
    "start_time": "2023-03-06T20:57:09.381Z"
   },
   {
    "duration": 8,
    "start_time": "2023-03-06T20:57:09.505Z"
   },
   {
    "duration": 29,
    "start_time": "2023-03-06T20:57:09.514Z"
   },
   {
    "duration": 58,
    "start_time": "2023-03-06T20:57:09.547Z"
   },
   {
    "duration": 16,
    "start_time": "2023-03-06T20:57:09.607Z"
   },
   {
    "duration": 10,
    "start_time": "2023-03-06T20:57:09.624Z"
   },
   {
    "duration": 1245,
    "start_time": "2023-03-06T20:57:09.636Z"
   },
   {
    "duration": 525,
    "start_time": "2023-03-06T20:57:10.884Z"
   },
   {
    "duration": 4,
    "start_time": "2023-03-06T20:57:11.410Z"
   },
   {
    "duration": 22,
    "start_time": "2023-03-06T20:57:11.415Z"
   },
   {
    "duration": 1254,
    "start_time": "2023-03-06T20:57:11.439Z"
   },
   {
    "duration": 182,
    "start_time": "2023-03-06T20:57:12.695Z"
   },
   {
    "duration": 170,
    "start_time": "2023-03-06T20:57:12.878Z"
   },
   {
    "duration": 213,
    "start_time": "2023-03-06T20:57:13.050Z"
   },
   {
    "duration": 181,
    "start_time": "2023-03-06T20:57:13.265Z"
   },
   {
    "duration": 162,
    "start_time": "2023-03-06T20:57:13.448Z"
   },
   {
    "duration": 180,
    "start_time": "2023-03-06T20:57:13.612Z"
   },
   {
    "duration": 177,
    "start_time": "2023-03-06T20:57:13.794Z"
   },
   {
    "duration": 9,
    "start_time": "2023-03-06T20:57:13.973Z"
   },
   {
    "duration": 10,
    "start_time": "2023-03-06T20:57:13.983Z"
   },
   {
    "duration": 7,
    "start_time": "2023-03-06T20:57:13.995Z"
   },
   {
    "duration": 1203,
    "start_time": "2023-03-06T21:00:54.514Z"
   },
   {
    "duration": 59,
    "start_time": "2023-03-06T21:00:55.719Z"
   },
   {
    "duration": 14,
    "start_time": "2023-03-06T21:00:55.779Z"
   },
   {
    "duration": 10,
    "start_time": "2023-03-06T21:00:55.795Z"
   },
   {
    "duration": 43,
    "start_time": "2023-03-06T21:00:55.807Z"
   },
   {
    "duration": 22,
    "start_time": "2023-03-06T21:00:55.853Z"
   },
   {
    "duration": 6,
    "start_time": "2023-03-06T21:00:55.877Z"
   },
   {
    "duration": 11,
    "start_time": "2023-03-06T21:00:55.885Z"
   },
   {
    "duration": 12,
    "start_time": "2023-03-06T21:00:55.897Z"
   },
   {
    "duration": 151,
    "start_time": "2023-03-06T21:00:55.911Z"
   },
   {
    "duration": 119,
    "start_time": "2023-03-06T21:00:56.069Z"
   },
   {
    "duration": 128,
    "start_time": "2023-03-06T21:00:56.190Z"
   },
   {
    "duration": 149,
    "start_time": "2023-03-06T21:00:56.319Z"
   },
   {
    "duration": 8,
    "start_time": "2023-03-06T21:00:56.471Z"
   },
   {
    "duration": 9,
    "start_time": "2023-03-06T21:00:56.481Z"
   },
   {
    "duration": 47,
    "start_time": "2023-03-06T21:00:56.492Z"
   },
   {
    "duration": 28,
    "start_time": "2023-03-06T21:00:56.541Z"
   },
   {
    "duration": 3,
    "start_time": "2023-03-06T21:00:56.570Z"
   },
   {
    "duration": 1125,
    "start_time": "2023-03-06T21:00:56.575Z"
   },
   {
    "duration": 505,
    "start_time": "2023-03-06T21:00:57.701Z"
   },
   {
    "duration": 4,
    "start_time": "2023-03-06T21:00:58.207Z"
   },
   {
    "duration": 27,
    "start_time": "2023-03-06T21:00:58.212Z"
   },
   {
    "duration": 1236,
    "start_time": "2023-03-06T21:00:58.241Z"
   },
   {
    "duration": 168,
    "start_time": "2023-03-06T21:00:59.479Z"
   },
   {
    "duration": 178,
    "start_time": "2023-03-06T21:00:59.648Z"
   },
   {
    "duration": 220,
    "start_time": "2023-03-06T21:00:59.828Z"
   },
   {
    "duration": 171,
    "start_time": "2023-03-06T21:01:00.050Z"
   },
   {
    "duration": 175,
    "start_time": "2023-03-06T21:01:00.223Z"
   },
   {
    "duration": 183,
    "start_time": "2023-03-06T21:01:00.400Z"
   },
   {
    "duration": 169,
    "start_time": "2023-03-06T21:01:00.585Z"
   },
   {
    "duration": 11,
    "start_time": "2023-03-06T21:01:00.757Z"
   },
   {
    "duration": 36,
    "start_time": "2023-03-06T21:01:00.770Z"
   },
   {
    "duration": 63,
    "start_time": "2023-03-06T21:01:00.808Z"
   },
   {
    "duration": 1155,
    "start_time": "2023-03-07T13:09:56.593Z"
   },
   {
    "duration": 65,
    "start_time": "2023-03-07T13:09:57.750Z"
   },
   {
    "duration": 16,
    "start_time": "2023-03-07T13:09:57.817Z"
   },
   {
    "duration": 13,
    "start_time": "2023-03-07T13:09:57.835Z"
   },
   {
    "duration": 43,
    "start_time": "2023-03-07T13:09:57.851Z"
   },
   {
    "duration": 8,
    "start_time": "2023-03-07T13:09:57.896Z"
   },
   {
    "duration": 28,
    "start_time": "2023-03-07T13:09:57.906Z"
   },
   {
    "duration": 10,
    "start_time": "2023-03-07T13:09:57.937Z"
   },
   {
    "duration": 15,
    "start_time": "2023-03-07T13:09:57.949Z"
   },
   {
    "duration": 112,
    "start_time": "2023-03-07T13:09:57.966Z"
   },
   {
    "duration": 102,
    "start_time": "2023-03-07T13:09:58.080Z"
   },
   {
    "duration": 96,
    "start_time": "2023-03-07T13:09:58.184Z"
   },
   {
    "duration": 115,
    "start_time": "2023-03-07T13:09:58.281Z"
   },
   {
    "duration": 8,
    "start_time": "2023-03-07T13:09:58.399Z"
   },
   {
    "duration": 7,
    "start_time": "2023-03-07T13:09:58.408Z"
   },
   {
    "duration": 38,
    "start_time": "2023-03-07T13:09:58.433Z"
   },
   {
    "duration": 27,
    "start_time": "2023-03-07T13:09:58.473Z"
   },
   {
    "duration": 3,
    "start_time": "2023-03-07T13:09:58.502Z"
   },
   {
    "duration": 1114,
    "start_time": "2023-03-07T13:09:58.508Z"
   },
   {
    "duration": 446,
    "start_time": "2023-03-07T13:09:59.623Z"
   },
   {
    "duration": 4,
    "start_time": "2023-03-07T13:10:00.070Z"
   },
   {
    "duration": 47,
    "start_time": "2023-03-07T13:10:00.075Z"
   },
   {
    "duration": 1202,
    "start_time": "2023-03-07T13:10:00.123Z"
   },
   {
    "duration": 172,
    "start_time": "2023-03-07T13:10:01.326Z"
   },
   {
    "duration": 154,
    "start_time": "2023-03-07T13:10:01.500Z"
   },
   {
    "duration": 189,
    "start_time": "2023-03-07T13:10:01.656Z"
   },
   {
    "duration": 186,
    "start_time": "2023-03-07T13:10:01.847Z"
   },
   {
    "duration": 166,
    "start_time": "2023-03-07T13:10:02.035Z"
   },
   {
    "duration": 168,
    "start_time": "2023-03-07T13:10:02.203Z"
   },
   {
    "duration": 146,
    "start_time": "2023-03-07T13:10:02.372Z"
   },
   {
    "duration": 14,
    "start_time": "2023-03-07T13:10:02.520Z"
   },
   {
    "duration": 39,
    "start_time": "2023-03-07T13:10:02.536Z"
   },
   {
    "duration": 13,
    "start_time": "2023-03-07T13:10:02.576Z"
   },
   {
    "duration": 50,
    "start_time": "2023-03-07T13:44:38.178Z"
   },
   {
    "duration": 1309,
    "start_time": "2023-03-07T13:47:42.154Z"
   },
   {
    "duration": 85,
    "start_time": "2023-03-07T13:47:43.465Z"
   },
   {
    "duration": 17,
    "start_time": "2023-03-07T13:47:43.552Z"
   },
   {
    "duration": 13,
    "start_time": "2023-03-07T13:47:43.571Z"
   },
   {
    "duration": 41,
    "start_time": "2023-03-07T13:47:43.587Z"
   },
   {
    "duration": 10,
    "start_time": "2023-03-07T13:47:43.630Z"
   },
   {
    "duration": 33,
    "start_time": "2023-03-07T13:47:43.642Z"
   },
   {
    "duration": 8,
    "start_time": "2023-03-07T13:47:43.677Z"
   },
   {
    "duration": 12,
    "start_time": "2023-03-07T13:47:43.687Z"
   },
   {
    "duration": 138,
    "start_time": "2023-03-07T13:47:43.700Z"
   },
   {
    "duration": 117,
    "start_time": "2023-03-07T13:47:43.840Z"
   },
   {
    "duration": 116,
    "start_time": "2023-03-07T13:47:43.959Z"
   },
   {
    "duration": 131,
    "start_time": "2023-03-07T13:47:44.077Z"
   },
   {
    "duration": 10,
    "start_time": "2023-03-07T13:47:44.211Z"
   },
   {
    "duration": 8,
    "start_time": "2023-03-07T13:47:44.224Z"
   },
   {
    "duration": 77,
    "start_time": "2023-03-07T13:47:44.234Z"
   },
   {
    "duration": 17,
    "start_time": "2023-03-07T13:47:44.313Z"
   },
   {
    "duration": 4,
    "start_time": "2023-03-07T13:47:44.331Z"
   },
   {
    "duration": 41,
    "start_time": "2023-03-07T13:47:44.337Z"
   },
   {
    "duration": 3,
    "start_time": "2023-03-07T13:47:44.380Z"
   },
   {
    "duration": 1563,
    "start_time": "2023-03-07T13:47:44.385Z"
   },
   {
    "duration": 498,
    "start_time": "2023-03-07T13:47:45.950Z"
   },
   {
    "duration": 4,
    "start_time": "2023-03-07T13:47:46.450Z"
   },
   {
    "duration": 37,
    "start_time": "2023-03-07T13:47:46.456Z"
   },
   {
    "duration": 1359,
    "start_time": "2023-03-07T13:47:46.495Z"
   },
   {
    "duration": 193,
    "start_time": "2023-03-07T13:47:47.856Z"
   },
   {
    "duration": 176,
    "start_time": "2023-03-07T13:47:48.051Z"
   },
   {
    "duration": 216,
    "start_time": "2023-03-07T13:47:48.229Z"
   },
   {
    "duration": 247,
    "start_time": "2023-03-07T13:47:48.447Z"
   },
   {
    "duration": 208,
    "start_time": "2023-03-07T13:47:48.696Z"
   },
   {
    "duration": 195,
    "start_time": "2023-03-07T13:47:48.906Z"
   },
   {
    "duration": 179,
    "start_time": "2023-03-07T13:47:49.103Z"
   },
   {
    "duration": 9,
    "start_time": "2023-03-07T13:47:49.283Z"
   },
   {
    "duration": 11,
    "start_time": "2023-03-07T13:47:49.293Z"
   },
   {
    "duration": 8,
    "start_time": "2023-03-07T13:47:49.305Z"
   },
   {
    "duration": 119,
    "start_time": "2023-03-07T13:48:46.299Z"
   },
   {
    "duration": 17,
    "start_time": "2023-03-07T13:49:00.601Z"
   },
   {
    "duration": 14,
    "start_time": "2023-03-07T13:49:49.172Z"
   },
   {
    "duration": 1385,
    "start_time": "2023-03-07T13:50:01.779Z"
   },
   {
    "duration": 40,
    "start_time": "2023-03-07T13:50:03.166Z"
   },
   {
    "duration": 16,
    "start_time": "2023-03-07T13:50:03.208Z"
   },
   {
    "duration": 16,
    "start_time": "2023-03-07T13:50:03.226Z"
   },
   {
    "duration": 45,
    "start_time": "2023-03-07T13:50:03.244Z"
   },
   {
    "duration": 10,
    "start_time": "2023-03-07T13:50:03.291Z"
   },
   {
    "duration": 9,
    "start_time": "2023-03-07T13:50:03.304Z"
   },
   {
    "duration": 10,
    "start_time": "2023-03-07T13:50:03.316Z"
   },
   {
    "duration": 14,
    "start_time": "2023-03-07T13:50:03.328Z"
   },
   {
    "duration": 164,
    "start_time": "2023-03-07T13:50:03.343Z"
   },
   {
    "duration": 119,
    "start_time": "2023-03-07T13:50:03.510Z"
   },
   {
    "duration": 121,
    "start_time": "2023-03-07T13:50:03.631Z"
   },
   {
    "duration": 132,
    "start_time": "2023-03-07T13:50:03.753Z"
   },
   {
    "duration": 10,
    "start_time": "2023-03-07T13:50:03.888Z"
   },
   {
    "duration": 13,
    "start_time": "2023-03-07T13:50:03.900Z"
   },
   {
    "duration": 65,
    "start_time": "2023-03-07T13:50:03.915Z"
   },
   {
    "duration": 17,
    "start_time": "2023-03-07T13:50:03.982Z"
   },
   {
    "duration": 9,
    "start_time": "2023-03-07T13:50:04.001Z"
   },
   {
    "duration": 30,
    "start_time": "2023-03-07T13:50:04.012Z"
   },
   {
    "duration": 30,
    "start_time": "2023-03-07T13:50:04.044Z"
   },
   {
    "duration": 1680,
    "start_time": "2023-03-07T13:50:04.076Z"
   },
   {
    "duration": 516,
    "start_time": "2023-03-07T13:50:05.758Z"
   },
   {
    "duration": 3,
    "start_time": "2023-03-07T13:50:06.276Z"
   },
   {
    "duration": 35,
    "start_time": "2023-03-07T13:50:06.281Z"
   },
   {
    "duration": 1316,
    "start_time": "2023-03-07T13:50:06.318Z"
   },
   {
    "duration": 188,
    "start_time": "2023-03-07T13:50:07.636Z"
   },
   {
    "duration": 204,
    "start_time": "2023-03-07T13:50:07.826Z"
   },
   {
    "duration": 211,
    "start_time": "2023-03-07T13:50:08.032Z"
   },
   {
    "duration": 188,
    "start_time": "2023-03-07T13:50:08.245Z"
   },
   {
    "duration": 192,
    "start_time": "2023-03-07T13:50:08.435Z"
   },
   {
    "duration": 175,
    "start_time": "2023-03-07T13:50:08.629Z"
   },
   {
    "duration": 192,
    "start_time": "2023-03-07T13:50:08.805Z"
   },
   {
    "duration": 9,
    "start_time": "2023-03-07T13:50:09.000Z"
   },
   {
    "duration": 10,
    "start_time": "2023-03-07T13:50:09.011Z"
   },
   {
    "duration": 8,
    "start_time": "2023-03-07T13:50:09.023Z"
   },
   {
    "duration": 1291,
    "start_time": "2023-03-07T13:50:50.536Z"
   },
   {
    "duration": 47,
    "start_time": "2023-03-07T13:50:51.829Z"
   },
   {
    "duration": 19,
    "start_time": "2023-03-07T13:50:51.878Z"
   },
   {
    "duration": 14,
    "start_time": "2023-03-07T13:50:51.898Z"
   },
   {
    "duration": 59,
    "start_time": "2023-03-07T13:50:51.915Z"
   },
   {
    "duration": 12,
    "start_time": "2023-03-07T13:50:51.976Z"
   },
   {
    "duration": 9,
    "start_time": "2023-03-07T13:50:51.990Z"
   },
   {
    "duration": 26,
    "start_time": "2023-03-07T13:50:52.001Z"
   },
   {
    "duration": 21,
    "start_time": "2023-03-07T13:50:52.029Z"
   },
   {
    "duration": 146,
    "start_time": "2023-03-07T13:50:52.052Z"
   },
   {
    "duration": 123,
    "start_time": "2023-03-07T13:50:52.200Z"
   },
   {
    "duration": 116,
    "start_time": "2023-03-07T13:50:52.325Z"
   },
   {
    "duration": 137,
    "start_time": "2023-03-07T13:50:52.444Z"
   },
   {
    "duration": 10,
    "start_time": "2023-03-07T13:50:52.584Z"
   },
   {
    "duration": 13,
    "start_time": "2023-03-07T13:50:52.596Z"
   },
   {
    "duration": 45,
    "start_time": "2023-03-07T13:50:52.611Z"
   },
   {
    "duration": 17,
    "start_time": "2023-03-07T13:50:52.674Z"
   },
   {
    "duration": 7,
    "start_time": "2023-03-07T13:50:52.694Z"
   },
   {
    "duration": 25,
    "start_time": "2023-03-07T13:50:52.703Z"
   },
   {
    "duration": 4,
    "start_time": "2023-03-07T13:50:52.730Z"
   },
   {
    "duration": 1728,
    "start_time": "2023-03-07T13:50:52.736Z"
   },
   {
    "duration": 544,
    "start_time": "2023-03-07T13:50:54.466Z"
   },
   {
    "duration": 3,
    "start_time": "2023-03-07T13:50:55.012Z"
   },
   {
    "duration": 40,
    "start_time": "2023-03-07T13:50:55.018Z"
   },
   {
    "duration": 1358,
    "start_time": "2023-03-07T13:50:55.061Z"
   },
   {
    "duration": 203,
    "start_time": "2023-03-07T13:50:56.421Z"
   },
   {
    "duration": 185,
    "start_time": "2023-03-07T13:50:56.625Z"
   },
   {
    "duration": 223,
    "start_time": "2023-03-07T13:50:56.812Z"
   },
   {
    "duration": 188,
    "start_time": "2023-03-07T13:50:57.037Z"
   },
   {
    "duration": 201,
    "start_time": "2023-03-07T13:50:57.227Z"
   },
   {
    "duration": 184,
    "start_time": "2023-03-07T13:50:57.430Z"
   },
   {
    "duration": 181,
    "start_time": "2023-03-07T13:50:57.616Z"
   },
   {
    "duration": 8,
    "start_time": "2023-03-07T13:50:57.798Z"
   },
   {
    "duration": 12,
    "start_time": "2023-03-07T13:50:57.809Z"
   },
   {
    "duration": 10,
    "start_time": "2023-03-07T13:50:57.823Z"
   },
   {
    "duration": 1500,
    "start_time": "2023-03-07T14:03:51.076Z"
   },
   {
    "duration": 1849,
    "start_time": "2023-03-07T14:04:01.904Z"
   },
   {
    "duration": 245,
    "start_time": "2023-03-07T14:04:07.416Z"
   },
   {
    "duration": 14,
    "start_time": "2023-03-07T14:06:52.772Z"
   },
   {
    "duration": 187,
    "start_time": "2023-03-07T14:07:15.029Z"
   },
   {
    "duration": 1320,
    "start_time": "2023-03-07T14:07:27.414Z"
   },
   {
    "duration": 202,
    "start_time": "2023-03-07T14:07:44.224Z"
   },
   {
    "duration": 23,
    "start_time": "2023-03-07T14:09:54.297Z"
   },
   {
    "duration": 1553,
    "start_time": "2023-03-07T14:10:07.599Z"
   },
   {
    "duration": 1260,
    "start_time": "2023-03-07T14:10:20.873Z"
   },
   {
    "duration": 20,
    "start_time": "2023-03-07T14:11:20.398Z"
   },
   {
    "duration": 152,
    "start_time": "2023-03-07T14:16:07.278Z"
   },
   {
    "duration": 17,
    "start_time": "2023-03-07T15:19:15.116Z"
   },
   {
    "duration": 26,
    "start_time": "2023-03-07T15:24:47.866Z"
   },
   {
    "duration": 3,
    "start_time": "2023-03-07T15:25:24.108Z"
   },
   {
    "duration": 12,
    "start_time": "2023-03-07T15:25:33.228Z"
   },
   {
    "duration": 12,
    "start_time": "2023-03-07T15:28:28.020Z"
   },
   {
    "duration": 310,
    "start_time": "2023-03-07T15:34:09.320Z"
   },
   {
    "duration": 264,
    "start_time": "2023-03-07T15:37:30.685Z"
   },
   {
    "duration": 276,
    "start_time": "2023-03-07T15:40:48.926Z"
   },
   {
    "duration": 11,
    "start_time": "2023-03-07T15:44:56.944Z"
   },
   {
    "duration": 13,
    "start_time": "2023-03-07T15:45:05.943Z"
   },
   {
    "duration": 245,
    "start_time": "2023-03-07T16:00:36.191Z"
   },
   {
    "duration": 346,
    "start_time": "2023-03-07T16:05:07.327Z"
   },
   {
    "duration": 287,
    "start_time": "2023-03-07T16:05:25.895Z"
   },
   {
    "duration": 318,
    "start_time": "2023-03-07T16:05:26.644Z"
   },
   {
    "duration": 255,
    "start_time": "2023-03-07T16:07:03.704Z"
   },
   {
    "duration": 251,
    "start_time": "2023-03-07T16:07:09.095Z"
   },
   {
    "duration": 387,
    "start_time": "2023-03-07T16:07:34.502Z"
   },
   {
    "duration": 242,
    "start_time": "2023-03-07T16:07:40.951Z"
   },
   {
    "duration": 244,
    "start_time": "2023-03-07T16:20:47.110Z"
   },
   {
    "duration": 94,
    "start_time": "2023-03-07T16:21:24.198Z"
   },
   {
    "duration": 20,
    "start_time": "2023-03-07T16:21:30.751Z"
   },
   {
    "duration": 14,
    "start_time": "2023-03-07T16:21:36.231Z"
   },
   {
    "duration": 11,
    "start_time": "2023-03-07T16:25:31.638Z"
   },
   {
    "duration": 15,
    "start_time": "2023-03-07T16:25:40.272Z"
   },
   {
    "duration": 2212,
    "start_time": "2023-03-07T16:26:42.919Z"
   },
   {
    "duration": 178,
    "start_time": "2023-03-07T16:27:13.913Z"
   },
   {
    "duration": 220,
    "start_time": "2023-03-07T16:27:30.489Z"
   },
   {
    "duration": 178,
    "start_time": "2023-03-07T16:28:21.741Z"
   },
   {
    "duration": 1154,
    "start_time": "2023-03-08T08:33:27.777Z"
   },
   {
    "duration": 39,
    "start_time": "2023-03-08T08:33:28.934Z"
   },
   {
    "duration": 15,
    "start_time": "2023-03-08T08:33:28.975Z"
   },
   {
    "duration": 14,
    "start_time": "2023-03-08T08:33:28.992Z"
   },
   {
    "duration": 40,
    "start_time": "2023-03-08T08:33:29.007Z"
   },
   {
    "duration": 36,
    "start_time": "2023-03-08T08:33:29.049Z"
   },
   {
    "duration": 7,
    "start_time": "2023-03-08T08:33:29.086Z"
   },
   {
    "duration": 11,
    "start_time": "2023-03-08T08:33:29.095Z"
   },
   {
    "duration": 12,
    "start_time": "2023-03-08T08:33:29.108Z"
   },
   {
    "duration": 142,
    "start_time": "2023-03-08T08:33:29.123Z"
   },
   {
    "duration": 124,
    "start_time": "2023-03-08T08:33:29.267Z"
   },
   {
    "duration": 118,
    "start_time": "2023-03-08T08:33:29.394Z"
   },
   {
    "duration": 151,
    "start_time": "2023-03-08T08:33:29.514Z"
   },
   {
    "duration": 17,
    "start_time": "2023-03-08T08:33:29.667Z"
   },
   {
    "duration": 7,
    "start_time": "2023-03-08T08:33:29.686Z"
   },
   {
    "duration": 48,
    "start_time": "2023-03-08T08:33:29.695Z"
   },
   {
    "duration": 36,
    "start_time": "2023-03-08T08:33:29.744Z"
   },
   {
    "duration": 7,
    "start_time": "2023-03-08T08:33:29.782Z"
   },
   {
    "duration": 23,
    "start_time": "2023-03-08T08:33:29.791Z"
   },
   {
    "duration": 3,
    "start_time": "2023-03-08T08:33:29.816Z"
   },
   {
    "duration": 1519,
    "start_time": "2023-03-08T08:33:29.821Z"
   },
   {
    "duration": 535,
    "start_time": "2023-03-08T08:33:31.341Z"
   },
   {
    "duration": 4,
    "start_time": "2023-03-08T08:33:31.877Z"
   },
   {
    "duration": 29,
    "start_time": "2023-03-08T08:33:31.882Z"
   },
   {
    "duration": 1299,
    "start_time": "2023-03-08T08:33:31.913Z"
   },
   {
    "duration": 187,
    "start_time": "2023-03-08T08:33:33.214Z"
   },
   {
    "duration": 171,
    "start_time": "2023-03-08T08:33:33.403Z"
   },
   {
    "duration": 210,
    "start_time": "2023-03-08T08:33:33.579Z"
   },
   {
    "duration": 201,
    "start_time": "2023-03-08T08:33:33.791Z"
   },
   {
    "duration": 171,
    "start_time": "2023-03-08T08:33:33.993Z"
   },
   {
    "duration": 187,
    "start_time": "2023-03-08T08:33:34.166Z"
   },
   {
    "duration": 165,
    "start_time": "2023-03-08T08:33:34.355Z"
   },
   {
    "duration": 181,
    "start_time": "2023-03-08T08:33:34.522Z"
   },
   {
    "duration": 345,
    "start_time": "2023-03-08T08:33:34.705Z"
   },
   {
    "duration": 238,
    "start_time": "2023-03-08T08:33:35.052Z"
   },
   {
    "duration": 8,
    "start_time": "2023-03-08T08:33:35.292Z"
   },
   {
    "duration": 7,
    "start_time": "2023-03-08T08:33:35.302Z"
   },
   {
    "duration": 17,
    "start_time": "2023-03-08T08:33:35.311Z"
   }
  ],
  "kernelspec": {
   "display_name": "Python 3 (ipykernel)",
   "language": "python",
   "name": "python3"
  },
  "language_info": {
   "codemirror_mode": {
    "name": "ipython",
    "version": 3
   },
   "file_extension": ".py",
   "mimetype": "text/x-python",
   "name": "python",
   "nbconvert_exporter": "python",
   "pygments_lexer": "ipython3",
   "version": "3.9.5"
  },
  "toc": {
   "base_numbering": 1,
   "nav_menu": {},
   "number_sections": true,
   "sideBar": true,
   "skip_h1_title": true,
   "title_cell": "Table of Contents",
   "title_sidebar": "Contents",
   "toc_cell": false,
   "toc_position": {},
   "toc_section_display": true,
   "toc_window_display": false
  }
 },
 "nbformat": 4,
 "nbformat_minor": 2
}
