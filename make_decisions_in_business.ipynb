{
 "cells": [
  {
   "cell_type": "markdown",
   "metadata": {},
   "source": [
    "# Проект: принятие решений в бизнесе"
   ]
  },
  {
   "cell_type": "markdown",
   "metadata": {},
   "source": [
    "Вы - аналитик крупного интернет-магазина. Вместе с отделом маркетинга подготовлен список гипотез для увеличения выручки.\n",
    "Задача приоритизировать гипотезы, запустить A/B-тест и проанализировать результаты. "
   ]
  },
  {
   "cell_type": "code",
   "execution_count": 1,
   "metadata": {},
   "outputs": [],
   "source": [
    "import pandas as pd\n",
    "import datetime as dt\n",
    "import numpy as np\n",
    "import matplotlib.pyplot as plt\n",
    "from pandas.plotting import register_matplotlib_converters\n",
    "import scipy.stats as stats"
   ]
  },
  {
   "cell_type": "markdown",
   "metadata": {},
   "source": [
    "## Приоритизация гипотез"
   ]
  },
  {
   "cell_type": "code",
   "execution_count": 2,
   "metadata": {},
   "outputs": [
    {
     "data": {
      "text/html": [
       "<div>\n",
       "<style scoped>\n",
       "    .dataframe tbody tr th:only-of-type {\n",
       "        vertical-align: middle;\n",
       "    }\n",
       "\n",
       "    .dataframe tbody tr th {\n",
       "        vertical-align: top;\n",
       "    }\n",
       "\n",
       "    .dataframe thead th {\n",
       "        text-align: right;\n",
       "    }\n",
       "</style>\n",
       "<table border=\"1\" class=\"dataframe\">\n",
       "  <thead>\n",
       "    <tr style=\"text-align: right;\">\n",
       "      <th></th>\n",
       "      <th>Hypothesis</th>\n",
       "      <th>Reach</th>\n",
       "      <th>Impact</th>\n",
       "      <th>Confidence</th>\n",
       "      <th>Efforts</th>\n",
       "    </tr>\n",
       "  </thead>\n",
       "  <tbody>\n",
       "    <tr>\n",
       "      <th>0</th>\n",
       "      <td>Добавить два новых канала привлечения трафика,...</td>\n",
       "      <td>3</td>\n",
       "      <td>10</td>\n",
       "      <td>8</td>\n",
       "      <td>6</td>\n",
       "    </tr>\n",
       "    <tr>\n",
       "      <th>1</th>\n",
       "      <td>Запустить собственную службу доставки, что сок...</td>\n",
       "      <td>2</td>\n",
       "      <td>5</td>\n",
       "      <td>4</td>\n",
       "      <td>10</td>\n",
       "    </tr>\n",
       "    <tr>\n",
       "      <th>2</th>\n",
       "      <td>Добавить блоки рекомендаций товаров на сайт ин...</td>\n",
       "      <td>8</td>\n",
       "      <td>3</td>\n",
       "      <td>7</td>\n",
       "      <td>3</td>\n",
       "    </tr>\n",
       "    <tr>\n",
       "      <th>3</th>\n",
       "      <td>Изменить структура категорий, что увеличит кон...</td>\n",
       "      <td>8</td>\n",
       "      <td>3</td>\n",
       "      <td>3</td>\n",
       "      <td>8</td>\n",
       "    </tr>\n",
       "    <tr>\n",
       "      <th>4</th>\n",
       "      <td>Изменить цвет фона главной страницы, чтобы уве...</td>\n",
       "      <td>3</td>\n",
       "      <td>1</td>\n",
       "      <td>1</td>\n",
       "      <td>1</td>\n",
       "    </tr>\n",
       "    <tr>\n",
       "      <th>5</th>\n",
       "      <td>Добавить страницу отзывов клиентов о магазине,...</td>\n",
       "      <td>3</td>\n",
       "      <td>2</td>\n",
       "      <td>2</td>\n",
       "      <td>3</td>\n",
       "    </tr>\n",
       "    <tr>\n",
       "      <th>6</th>\n",
       "      <td>Показать на главной странице баннеры с актуаль...</td>\n",
       "      <td>5</td>\n",
       "      <td>3</td>\n",
       "      <td>8</td>\n",
       "      <td>3</td>\n",
       "    </tr>\n",
       "    <tr>\n",
       "      <th>7</th>\n",
       "      <td>Добавить форму подписки на все основные страни...</td>\n",
       "      <td>10</td>\n",
       "      <td>7</td>\n",
       "      <td>8</td>\n",
       "      <td>5</td>\n",
       "    </tr>\n",
       "    <tr>\n",
       "      <th>8</th>\n",
       "      <td>Запустить акцию, дающую скидку на товар в день...</td>\n",
       "      <td>1</td>\n",
       "      <td>9</td>\n",
       "      <td>9</td>\n",
       "      <td>5</td>\n",
       "    </tr>\n",
       "  </tbody>\n",
       "</table>\n",
       "</div>"
      ],
      "text/plain": [
       "                                          Hypothesis  Reach  Impact  \\\n",
       "0  Добавить два новых канала привлечения трафика,...      3      10   \n",
       "1  Запустить собственную службу доставки, что сок...      2       5   \n",
       "2  Добавить блоки рекомендаций товаров на сайт ин...      8       3   \n",
       "3  Изменить структура категорий, что увеличит кон...      8       3   \n",
       "4  Изменить цвет фона главной страницы, чтобы уве...      3       1   \n",
       "5  Добавить страницу отзывов клиентов о магазине,...      3       2   \n",
       "6  Показать на главной странице баннеры с актуаль...      5       3   \n",
       "7  Добавить форму подписки на все основные страни...     10       7   \n",
       "8  Запустить акцию, дающую скидку на товар в день...      1       9   \n",
       "\n",
       "   Confidence  Efforts  \n",
       "0           8        6  \n",
       "1           4       10  \n",
       "2           7        3  \n",
       "3           3        8  \n",
       "4           1        1  \n",
       "5           2        3  \n",
       "6           8        3  \n",
       "7           8        5  \n",
       "8           9        5  "
      ]
     },
     "execution_count": 2,
     "metadata": {},
     "output_type": "execute_result"
    }
   ],
   "source": [
    "data_hypothesis = pd.read_csv('/datasets/hypothesis.csv')\n",
    "data_hypothesis.head(9)"
   ]
  },
  {
   "cell_type": "code",
   "execution_count": 3,
   "metadata": {},
   "outputs": [
    {
     "name": "stdout",
     "output_type": "stream",
     "text": [
      "<class 'pandas.core.frame.DataFrame'>\n",
      "RangeIndex: 9 entries, 0 to 8\n",
      "Data columns (total 5 columns):\n",
      " #   Column      Non-Null Count  Dtype \n",
      "---  ------      --------------  ----- \n",
      " 0   Hypothesis  9 non-null      object\n",
      " 1   Reach       9 non-null      int64 \n",
      " 2   Impact      9 non-null      int64 \n",
      " 3   Confidence  9 non-null      int64 \n",
      " 4   Efforts     9 non-null      int64 \n",
      "dtypes: int64(4), object(1)\n",
      "memory usage: 488.0+ bytes\n"
     ]
    }
   ],
   "source": [
    "data_hypothesis.info()"
   ]
  },
  {
   "cell_type": "markdown",
   "metadata": {},
   "source": [
    "Проверим датасет на дубликаты:"
   ]
  },
  {
   "cell_type": "code",
   "execution_count": 4,
   "metadata": {},
   "outputs": [
    {
     "data": {
      "text/plain": [
       "0"
      ]
     },
     "execution_count": 4,
     "metadata": {},
     "output_type": "execute_result"
    }
   ],
   "source": [
    "data_hypothesis.duplicated().sum()"
   ]
  },
  {
   "cell_type": "markdown",
   "metadata": {},
   "source": [
    "Так же проверим его на наличие пропусков:"
   ]
  },
  {
   "cell_type": "code",
   "execution_count": 5,
   "metadata": {},
   "outputs": [
    {
     "data": {
      "text/plain": [
       "Hypothesis    0\n",
       "Reach         0\n",
       "Impact        0\n",
       "Confidence    0\n",
       "Efforts       0\n",
       "dtype: int64"
      ]
     },
     "execution_count": 5,
     "metadata": {},
     "output_type": "execute_result"
    }
   ],
   "source": [
    "data_hypothesis.isna().sum()"
   ]
  },
  {
   "cell_type": "markdown",
   "metadata": {},
   "source": [
    "Приведем названия столбцов к нижнему регистру:"
   ]
  },
  {
   "cell_type": "code",
   "execution_count": 6,
   "metadata": {},
   "outputs": [],
   "source": [
    "data_hypothesis.columns = data_hypothesis.columns.str.lower()"
   ]
  },
  {
   "cell_type": "markdown",
   "metadata": {},
   "source": [
    "При предобработке данных был получен датафрейм с гипотезами и их параметрами. Пропусков и дубликатов выявлено не было. Название колонок были приведены к нижнему регистру."
   ]
  },
  {
   "cell_type": "markdown",
   "metadata": {},
   "source": [
    "Применим фреймворк ICE для приоритизации гипотез. Отсортируем их по убыванию приоритета:"
   ]
  },
  {
   "cell_type": "code",
   "execution_count": 7,
   "metadata": {},
   "outputs": [],
   "source": [
    "pd.set_option('display.max_colwidth', 0)"
   ]
  },
  {
   "cell_type": "code",
   "execution_count": 8,
   "metadata": {},
   "outputs": [
    {
     "data": {
      "text/html": [
       "<div>\n",
       "<style scoped>\n",
       "    .dataframe tbody tr th:only-of-type {\n",
       "        vertical-align: middle;\n",
       "    }\n",
       "\n",
       "    .dataframe tbody tr th {\n",
       "        vertical-align: top;\n",
       "    }\n",
       "\n",
       "    .dataframe thead th {\n",
       "        text-align: right;\n",
       "    }\n",
       "</style>\n",
       "<table border=\"1\" class=\"dataframe\">\n",
       "  <thead>\n",
       "    <tr style=\"text-align: right;\">\n",
       "      <th></th>\n",
       "      <th>hypothesis</th>\n",
       "      <th>ICE</th>\n",
       "    </tr>\n",
       "  </thead>\n",
       "  <tbody>\n",
       "    <tr>\n",
       "      <th>8</th>\n",
       "      <td>Запустить акцию, дающую скидку на товар в день рождения</td>\n",
       "      <td>16.2</td>\n",
       "    </tr>\n",
       "    <tr>\n",
       "      <th>0</th>\n",
       "      <td>Добавить два новых канала привлечения трафика, что позволит привлекать на 30% больше пользователей</td>\n",
       "      <td>13.3</td>\n",
       "    </tr>\n",
       "    <tr>\n",
       "      <th>7</th>\n",
       "      <td>Добавить форму подписки на все основные страницы, чтобы собрать базу клиентов для email-рассылок</td>\n",
       "      <td>11.2</td>\n",
       "    </tr>\n",
       "    <tr>\n",
       "      <th>6</th>\n",
       "      <td>Показать на главной странице баннеры с актуальными акциями и распродажами, чтобы увеличить конверсию</td>\n",
       "      <td>8.0</td>\n",
       "    </tr>\n",
       "    <tr>\n",
       "      <th>2</th>\n",
       "      <td>Добавить блоки рекомендаций товаров на сайт интернет магазина, чтобы повысить конверсию и средний чек заказа</td>\n",
       "      <td>7.0</td>\n",
       "    </tr>\n",
       "    <tr>\n",
       "      <th>1</th>\n",
       "      <td>Запустить собственную службу доставки, что сократит срок доставки заказов</td>\n",
       "      <td>2.0</td>\n",
       "    </tr>\n",
       "    <tr>\n",
       "      <th>5</th>\n",
       "      <td>Добавить страницу отзывов клиентов о магазине, что позволит увеличить количество заказов</td>\n",
       "      <td>1.3</td>\n",
       "    </tr>\n",
       "    <tr>\n",
       "      <th>3</th>\n",
       "      <td>Изменить структура категорий, что увеличит конверсию, т.к. пользователи быстрее найдут нужный товар</td>\n",
       "      <td>1.1</td>\n",
       "    </tr>\n",
       "    <tr>\n",
       "      <th>4</th>\n",
       "      <td>Изменить цвет фона главной страницы, чтобы увеличить вовлеченность пользователей</td>\n",
       "      <td>1.0</td>\n",
       "    </tr>\n",
       "  </tbody>\n",
       "</table>\n",
       "</div>"
      ],
      "text/plain": [
       "                                                                                                     hypothesis  \\\n",
       "8  Запустить акцию, дающую скидку на товар в день рождения                                                        \n",
       "0  Добавить два новых канала привлечения трафика, что позволит привлекать на 30% больше пользователей             \n",
       "7  Добавить форму подписки на все основные страницы, чтобы собрать базу клиентов для email-рассылок               \n",
       "6  Показать на главной странице баннеры с актуальными акциями и распродажами, чтобы увеличить конверсию           \n",
       "2  Добавить блоки рекомендаций товаров на сайт интернет магазина, чтобы повысить конверсию и средний чек заказа   \n",
       "1  Запустить собственную службу доставки, что сократит срок доставки заказов                                      \n",
       "5  Добавить страницу отзывов клиентов о магазине, что позволит увеличить количество заказов                       \n",
       "3  Изменить структура категорий, что увеличит конверсию, т.к. пользователи быстрее найдут нужный товар            \n",
       "4  Изменить цвет фона главной страницы, чтобы увеличить вовлеченность пользователей                               \n",
       "\n",
       "    ICE  \n",
       "8  16.2  \n",
       "0  13.3  \n",
       "7  11.2  \n",
       "6  8.0   \n",
       "2  7.0   \n",
       "1  2.0   \n",
       "5  1.3   \n",
       "3  1.1   \n",
       "4  1.0   "
      ]
     },
     "execution_count": 8,
     "metadata": {},
     "output_type": "execute_result"
    }
   ],
   "source": [
    "data_hypothesis['ICE'] = data_hypothesis['impact'] * data_hypothesis['confidence'] / data_hypothesis['efforts']\n",
    "data_hypothesis['ICE'] = data_hypothesis['ICE'].round(1)\n",
    "(data_hypothesis[['hypothesis', 'ICE']]).sort_values(by='ICE', ascending=False)\n"
   ]
  },
  {
   "cell_type": "markdown",
   "metadata": {},
   "source": [
    "Наиболее перспективными гипотезами по ICE являются гипотезы 8, 0, 7 и 6"
   ]
  },
  {
   "cell_type": "markdown",
   "metadata": {},
   "source": [
    "Применим фреймворк RICE для приоритизации гипотез. Отсортируем их по убыванию приоритета:"
   ]
  },
  {
   "cell_type": "code",
   "execution_count": 9,
   "metadata": {
    "scrolled": true
   },
   "outputs": [
    {
     "data": {
      "text/html": [
       "<div>\n",
       "<style scoped>\n",
       "    .dataframe tbody tr th:only-of-type {\n",
       "        vertical-align: middle;\n",
       "    }\n",
       "\n",
       "    .dataframe tbody tr th {\n",
       "        vertical-align: top;\n",
       "    }\n",
       "\n",
       "    .dataframe thead th {\n",
       "        text-align: right;\n",
       "    }\n",
       "</style>\n",
       "<table border=\"1\" class=\"dataframe\">\n",
       "  <thead>\n",
       "    <tr style=\"text-align: right;\">\n",
       "      <th></th>\n",
       "      <th>hypothesis</th>\n",
       "      <th>RICE</th>\n",
       "    </tr>\n",
       "  </thead>\n",
       "  <tbody>\n",
       "    <tr>\n",
       "      <th>7</th>\n",
       "      <td>Добавить форму подписки на все основные страницы, чтобы собрать базу клиентов для email-рассылок</td>\n",
       "      <td>112.0</td>\n",
       "    </tr>\n",
       "    <tr>\n",
       "      <th>2</th>\n",
       "      <td>Добавить блоки рекомендаций товаров на сайт интернет магазина, чтобы повысить конверсию и средний чек заказа</td>\n",
       "      <td>56.0</td>\n",
       "    </tr>\n",
       "    <tr>\n",
       "      <th>0</th>\n",
       "      <td>Добавить два новых канала привлечения трафика, что позволит привлекать на 30% больше пользователей</td>\n",
       "      <td>40.0</td>\n",
       "    </tr>\n",
       "    <tr>\n",
       "      <th>6</th>\n",
       "      <td>Показать на главной странице баннеры с актуальными акциями и распродажами, чтобы увеличить конверсию</td>\n",
       "      <td>40.0</td>\n",
       "    </tr>\n",
       "    <tr>\n",
       "      <th>8</th>\n",
       "      <td>Запустить акцию, дающую скидку на товар в день рождения</td>\n",
       "      <td>16.2</td>\n",
       "    </tr>\n",
       "    <tr>\n",
       "      <th>3</th>\n",
       "      <td>Изменить структура категорий, что увеличит конверсию, т.к. пользователи быстрее найдут нужный товар</td>\n",
       "      <td>9.0</td>\n",
       "    </tr>\n",
       "    <tr>\n",
       "      <th>1</th>\n",
       "      <td>Запустить собственную службу доставки, что сократит срок доставки заказов</td>\n",
       "      <td>4.0</td>\n",
       "    </tr>\n",
       "    <tr>\n",
       "      <th>5</th>\n",
       "      <td>Добавить страницу отзывов клиентов о магазине, что позволит увеличить количество заказов</td>\n",
       "      <td>4.0</td>\n",
       "    </tr>\n",
       "    <tr>\n",
       "      <th>4</th>\n",
       "      <td>Изменить цвет фона главной страницы, чтобы увеличить вовлеченность пользователей</td>\n",
       "      <td>3.0</td>\n",
       "    </tr>\n",
       "  </tbody>\n",
       "</table>\n",
       "</div>"
      ],
      "text/plain": [
       "                                                                                                     hypothesis  \\\n",
       "7  Добавить форму подписки на все основные страницы, чтобы собрать базу клиентов для email-рассылок               \n",
       "2  Добавить блоки рекомендаций товаров на сайт интернет магазина, чтобы повысить конверсию и средний чек заказа   \n",
       "0  Добавить два новых канала привлечения трафика, что позволит привлекать на 30% больше пользователей             \n",
       "6  Показать на главной странице баннеры с актуальными акциями и распродажами, чтобы увеличить конверсию           \n",
       "8  Запустить акцию, дающую скидку на товар в день рождения                                                        \n",
       "3  Изменить структура категорий, что увеличит конверсию, т.к. пользователи быстрее найдут нужный товар            \n",
       "1  Запустить собственную службу доставки, что сократит срок доставки заказов                                      \n",
       "5  Добавить страницу отзывов клиентов о магазине, что позволит увеличить количество заказов                       \n",
       "4  Изменить цвет фона главной страницы, чтобы увеличить вовлеченность пользователей                               \n",
       "\n",
       "    RICE  \n",
       "7  112.0  \n",
       "2  56.0   \n",
       "0  40.0   \n",
       "6  40.0   \n",
       "8  16.2   \n",
       "3  9.0    \n",
       "1  4.0    \n",
       "5  4.0    \n",
       "4  3.0    "
      ]
     },
     "execution_count": 9,
     "metadata": {},
     "output_type": "execute_result"
    }
   ],
   "source": [
    "data_hypothesis['RICE'] = data_hypothesis['reach'] * data_hypothesis['impact'] * data_hypothesis['confidence'] / data_hypothesis['efforts']\n",
    "data_hypothesis['RICE'] = data_hypothesis['RICE'].round(1)\n",
    "(data_hypothesis[['hypothesis', 'RICE']]).sort_values(by='RICE', ascending=False)"
   ]
  },
  {
   "cell_type": "markdown",
   "metadata": {},
   "source": [
    "Наиболее перспективными гипотезами по RICE являются гипотезы 7, 2, 0, и 6"
   ]
  },
  {
   "cell_type": "code",
   "execution_count": 10,
   "metadata": {},
   "outputs": [
    {
     "data": {
      "text/html": [
       "<div>\n",
       "<style scoped>\n",
       "    .dataframe tbody tr th:only-of-type {\n",
       "        vertical-align: middle;\n",
       "    }\n",
       "\n",
       "    .dataframe tbody tr th {\n",
       "        vertical-align: top;\n",
       "    }\n",
       "\n",
       "    .dataframe thead th {\n",
       "        text-align: right;\n",
       "    }\n",
       "</style>\n",
       "<table border=\"1\" class=\"dataframe\">\n",
       "  <thead>\n",
       "    <tr style=\"text-align: right;\">\n",
       "      <th></th>\n",
       "      <th>hypothesis</th>\n",
       "      <th>RICE</th>\n",
       "      <th>ICE</th>\n",
       "    </tr>\n",
       "  </thead>\n",
       "  <tbody>\n",
       "    <tr>\n",
       "      <th>0</th>\n",
       "      <td>Добавить два новых канала привлечения трафика, что позволит привлекать на 30% больше пользователей</td>\n",
       "      <td>40.0</td>\n",
       "      <td>13.3</td>\n",
       "    </tr>\n",
       "    <tr>\n",
       "      <th>1</th>\n",
       "      <td>Запустить собственную службу доставки, что сократит срок доставки заказов</td>\n",
       "      <td>4.0</td>\n",
       "      <td>2.0</td>\n",
       "    </tr>\n",
       "    <tr>\n",
       "      <th>2</th>\n",
       "      <td>Добавить блоки рекомендаций товаров на сайт интернет магазина, чтобы повысить конверсию и средний чек заказа</td>\n",
       "      <td>56.0</td>\n",
       "      <td>7.0</td>\n",
       "    </tr>\n",
       "    <tr>\n",
       "      <th>3</th>\n",
       "      <td>Изменить структура категорий, что увеличит конверсию, т.к. пользователи быстрее найдут нужный товар</td>\n",
       "      <td>9.0</td>\n",
       "      <td>1.1</td>\n",
       "    </tr>\n",
       "    <tr>\n",
       "      <th>4</th>\n",
       "      <td>Изменить цвет фона главной страницы, чтобы увеличить вовлеченность пользователей</td>\n",
       "      <td>3.0</td>\n",
       "      <td>1.0</td>\n",
       "    </tr>\n",
       "    <tr>\n",
       "      <th>5</th>\n",
       "      <td>Добавить страницу отзывов клиентов о магазине, что позволит увеличить количество заказов</td>\n",
       "      <td>4.0</td>\n",
       "      <td>1.3</td>\n",
       "    </tr>\n",
       "    <tr>\n",
       "      <th>6</th>\n",
       "      <td>Показать на главной странице баннеры с актуальными акциями и распродажами, чтобы увеличить конверсию</td>\n",
       "      <td>40.0</td>\n",
       "      <td>8.0</td>\n",
       "    </tr>\n",
       "    <tr>\n",
       "      <th>7</th>\n",
       "      <td>Добавить форму подписки на все основные страницы, чтобы собрать базу клиентов для email-рассылок</td>\n",
       "      <td>112.0</td>\n",
       "      <td>11.2</td>\n",
       "    </tr>\n",
       "    <tr>\n",
       "      <th>8</th>\n",
       "      <td>Запустить акцию, дающую скидку на товар в день рождения</td>\n",
       "      <td>16.2</td>\n",
       "      <td>16.2</td>\n",
       "    </tr>\n",
       "  </tbody>\n",
       "</table>\n",
       "</div>"
      ],
      "text/plain": [
       "                                                                                                     hypothesis  \\\n",
       "0  Добавить два новых канала привлечения трафика, что позволит привлекать на 30% больше пользователей             \n",
       "1  Запустить собственную службу доставки, что сократит срок доставки заказов                                      \n",
       "2  Добавить блоки рекомендаций товаров на сайт интернет магазина, чтобы повысить конверсию и средний чек заказа   \n",
       "3  Изменить структура категорий, что увеличит конверсию, т.к. пользователи быстрее найдут нужный товар            \n",
       "4  Изменить цвет фона главной страницы, чтобы увеличить вовлеченность пользователей                               \n",
       "5  Добавить страницу отзывов клиентов о магазине, что позволит увеличить количество заказов                       \n",
       "6  Показать на главной странице баннеры с актуальными акциями и распродажами, чтобы увеличить конверсию           \n",
       "7  Добавить форму подписки на все основные страницы, чтобы собрать базу клиентов для email-рассылок               \n",
       "8  Запустить акцию, дающую скидку на товар в день рождения                                                        \n",
       "\n",
       "    RICE   ICE  \n",
       "0  40.0   13.3  \n",
       "1  4.0    2.0   \n",
       "2  56.0   7.0   \n",
       "3  9.0    1.1   \n",
       "4  3.0    1.0   \n",
       "5  4.0    1.3   \n",
       "6  40.0   8.0   \n",
       "7  112.0  11.2  \n",
       "8  16.2   16.2  "
      ]
     },
     "execution_count": 10,
     "metadata": {},
     "output_type": "execute_result"
    }
   ],
   "source": [
    "(data_hypothesis[['hypothesis', 'RICE', 'ICE']])"
   ]
  },
  {
   "cell_type": "markdown",
   "metadata": {},
   "source": [
    "При применении фреймворков самыми перспективными в обоих случаях остались гипотезы 0, 7, 6. На примере гипотезы 8, можно увидеть различия в проведении расчетов ICE и RICE. При расчете ICE в числителе перемножаются параметры impact(насколько сильно изменение повлияет на пользователей) и confidence(насколько вы уверены, что это изменение повлияет на пользователей именно так), в знаменателе параметр efforts(сколько стоит протестировать эту гипотезу). При расчете RICE в числитель добавляется еще множитель в виде параметра Reach(скольких пользователей затронет изменение, которое вы хотите внести). У 8 гипотезы параметр reach наименьший. Благодаря этому гипотеза выбыла из топ-3 представленных гипотез."
   ]
  },
  {
   "cell_type": "markdown",
   "metadata": {},
   "source": [
    "## Анализ A/B-теста"
   ]
  },
  {
   "cell_type": "code",
   "execution_count": 11,
   "metadata": {},
   "outputs": [
    {
     "data": {
      "text/html": [
       "<div>\n",
       "<style scoped>\n",
       "    .dataframe tbody tr th:only-of-type {\n",
       "        vertical-align: middle;\n",
       "    }\n",
       "\n",
       "    .dataframe tbody tr th {\n",
       "        vertical-align: top;\n",
       "    }\n",
       "\n",
       "    .dataframe thead th {\n",
       "        text-align: right;\n",
       "    }\n",
       "</style>\n",
       "<table border=\"1\" class=\"dataframe\">\n",
       "  <thead>\n",
       "    <tr style=\"text-align: right;\">\n",
       "      <th></th>\n",
       "      <th>transactionId</th>\n",
       "      <th>visitorId</th>\n",
       "      <th>date</th>\n",
       "      <th>revenue</th>\n",
       "      <th>group</th>\n",
       "    </tr>\n",
       "  </thead>\n",
       "  <tbody>\n",
       "    <tr>\n",
       "      <th>0</th>\n",
       "      <td>3667963787</td>\n",
       "      <td>3312258926</td>\n",
       "      <td>2019-08-15</td>\n",
       "      <td>1650</td>\n",
       "      <td>B</td>\n",
       "    </tr>\n",
       "    <tr>\n",
       "      <th>1</th>\n",
       "      <td>2804400009</td>\n",
       "      <td>3642806036</td>\n",
       "      <td>2019-08-15</td>\n",
       "      <td>730</td>\n",
       "      <td>B</td>\n",
       "    </tr>\n",
       "    <tr>\n",
       "      <th>2</th>\n",
       "      <td>2961555356</td>\n",
       "      <td>4069496402</td>\n",
       "      <td>2019-08-15</td>\n",
       "      <td>400</td>\n",
       "      <td>A</td>\n",
       "    </tr>\n",
       "    <tr>\n",
       "      <th>3</th>\n",
       "      <td>3797467345</td>\n",
       "      <td>1196621759</td>\n",
       "      <td>2019-08-15</td>\n",
       "      <td>9759</td>\n",
       "      <td>B</td>\n",
       "    </tr>\n",
       "    <tr>\n",
       "      <th>4</th>\n",
       "      <td>2282983706</td>\n",
       "      <td>2322279887</td>\n",
       "      <td>2019-08-15</td>\n",
       "      <td>2308</td>\n",
       "      <td>B</td>\n",
       "    </tr>\n",
       "  </tbody>\n",
       "</table>\n",
       "</div>"
      ],
      "text/plain": [
       "   transactionId   visitorId        date  revenue group\n",
       "0  3667963787     3312258926  2019-08-15  1650     B   \n",
       "1  2804400009     3642806036  2019-08-15  730      B   \n",
       "2  2961555356     4069496402  2019-08-15  400      A   \n",
       "3  3797467345     1196621759  2019-08-15  9759     B   \n",
       "4  2282983706     2322279887  2019-08-15  2308     B   "
      ]
     },
     "execution_count": 11,
     "metadata": {},
     "output_type": "execute_result"
    }
   ],
   "source": [
    "data_orders = pd.read_csv('/datasets/orders.csv')\n",
    "data_orders.head()"
   ]
  },
  {
   "cell_type": "code",
   "execution_count": 12,
   "metadata": {},
   "outputs": [
    {
     "name": "stdout",
     "output_type": "stream",
     "text": [
      "<class 'pandas.core.frame.DataFrame'>\n",
      "RangeIndex: 1197 entries, 0 to 1196\n",
      "Data columns (total 5 columns):\n",
      " #   Column         Non-Null Count  Dtype \n",
      "---  ------         --------------  ----- \n",
      " 0   transactionId  1197 non-null   int64 \n",
      " 1   visitorId      1197 non-null   int64 \n",
      " 2   date           1197 non-null   object\n",
      " 3   revenue        1197 non-null   int64 \n",
      " 4   group          1197 non-null   object\n",
      "dtypes: int64(3), object(2)\n",
      "memory usage: 46.9+ KB\n"
     ]
    }
   ],
   "source": [
    "data_orders.info()"
   ]
  },
  {
   "cell_type": "markdown",
   "metadata": {},
   "source": [
    "Проверим датасет на наличие дубликатов:"
   ]
  },
  {
   "cell_type": "code",
   "execution_count": 13,
   "metadata": {},
   "outputs": [
    {
     "data": {
      "text/plain": [
       "0"
      ]
     },
     "execution_count": 13,
     "metadata": {},
     "output_type": "execute_result"
    }
   ],
   "source": [
    "data_orders.duplicated().sum()"
   ]
  },
  {
   "cell_type": "markdown",
   "metadata": {},
   "source": [
    "Так же проверим на наличие пропусков:"
   ]
  },
  {
   "cell_type": "code",
   "execution_count": 14,
   "metadata": {},
   "outputs": [
    {
     "data": {
      "text/plain": [
       "transactionId    0\n",
       "visitorId        0\n",
       "date             0\n",
       "revenue          0\n",
       "group            0\n",
       "dtype: int64"
      ]
     },
     "execution_count": 14,
     "metadata": {},
     "output_type": "execute_result"
    }
   ],
   "source": [
    "data_orders.isna().sum()"
   ]
  },
  {
   "cell_type": "code",
   "execution_count": 15,
   "metadata": {},
   "outputs": [
    {
     "data": {
      "text/html": [
       "<div>\n",
       "<style scoped>\n",
       "    .dataframe tbody tr th:only-of-type {\n",
       "        vertical-align: middle;\n",
       "    }\n",
       "\n",
       "    .dataframe tbody tr th {\n",
       "        vertical-align: top;\n",
       "    }\n",
       "\n",
       "    .dataframe thead th {\n",
       "        text-align: right;\n",
       "    }\n",
       "</style>\n",
       "<table border=\"1\" class=\"dataframe\">\n",
       "  <thead>\n",
       "    <tr style=\"text-align: right;\">\n",
       "      <th></th>\n",
       "      <th>date</th>\n",
       "      <th>group</th>\n",
       "      <th>visitors</th>\n",
       "    </tr>\n",
       "  </thead>\n",
       "  <tbody>\n",
       "    <tr>\n",
       "      <th>0</th>\n",
       "      <td>2019-08-01</td>\n",
       "      <td>A</td>\n",
       "      <td>719</td>\n",
       "    </tr>\n",
       "    <tr>\n",
       "      <th>1</th>\n",
       "      <td>2019-08-02</td>\n",
       "      <td>A</td>\n",
       "      <td>619</td>\n",
       "    </tr>\n",
       "    <tr>\n",
       "      <th>2</th>\n",
       "      <td>2019-08-03</td>\n",
       "      <td>A</td>\n",
       "      <td>507</td>\n",
       "    </tr>\n",
       "    <tr>\n",
       "      <th>3</th>\n",
       "      <td>2019-08-04</td>\n",
       "      <td>A</td>\n",
       "      <td>717</td>\n",
       "    </tr>\n",
       "    <tr>\n",
       "      <th>4</th>\n",
       "      <td>2019-08-05</td>\n",
       "      <td>A</td>\n",
       "      <td>756</td>\n",
       "    </tr>\n",
       "  </tbody>\n",
       "</table>\n",
       "</div>"
      ],
      "text/plain": [
       "         date group  visitors\n",
       "0  2019-08-01  A     719     \n",
       "1  2019-08-02  A     619     \n",
       "2  2019-08-03  A     507     \n",
       "3  2019-08-04  A     717     \n",
       "4  2019-08-05  A     756     "
      ]
     },
     "execution_count": 15,
     "metadata": {},
     "output_type": "execute_result"
    }
   ],
   "source": [
    "data_visitors = pd.read_csv('/datasets/visitors.csv')\n",
    "data_visitors.head()"
   ]
  },
  {
   "cell_type": "code",
   "execution_count": 16,
   "metadata": {},
   "outputs": [
    {
     "name": "stdout",
     "output_type": "stream",
     "text": [
      "<class 'pandas.core.frame.DataFrame'>\n",
      "RangeIndex: 62 entries, 0 to 61\n",
      "Data columns (total 3 columns):\n",
      " #   Column    Non-Null Count  Dtype \n",
      "---  ------    --------------  ----- \n",
      " 0   date      62 non-null     object\n",
      " 1   group     62 non-null     object\n",
      " 2   visitors  62 non-null     int64 \n",
      "dtypes: int64(1), object(2)\n",
      "memory usage: 1.6+ KB\n"
     ]
    }
   ],
   "source": [
    "data_visitors.info()"
   ]
  },
  {
   "cell_type": "markdown",
   "metadata": {},
   "source": [
    "Проверим датасет на наличие дубликатов:"
   ]
  },
  {
   "cell_type": "code",
   "execution_count": 17,
   "metadata": {},
   "outputs": [
    {
     "data": {
      "text/plain": [
       "0"
      ]
     },
     "execution_count": 17,
     "metadata": {},
     "output_type": "execute_result"
    }
   ],
   "source": [
    "data_visitors.duplicated().sum()"
   ]
  },
  {
   "cell_type": "markdown",
   "metadata": {},
   "source": [
    "Так же проверим на наличие пропусков:"
   ]
  },
  {
   "cell_type": "code",
   "execution_count": 18,
   "metadata": {},
   "outputs": [
    {
     "data": {
      "text/plain": [
       "date        0\n",
       "group       0\n",
       "visitors    0\n",
       "dtype: int64"
      ]
     },
     "execution_count": 18,
     "metadata": {},
     "output_type": "execute_result"
    }
   ],
   "source": [
    "data_visitors.isna().sum()"
   ]
  },
  {
   "cell_type": "markdown",
   "metadata": {},
   "source": [
    "Приведем столбцы date к нужному типу:"
   ]
  },
  {
   "cell_type": "code",
   "execution_count": 19,
   "metadata": {},
   "outputs": [],
   "source": [
    "data_orders['date'] = pd.to_datetime(data_orders['date'])\n",
    "data_visitors['date'] = pd.to_datetime(data_visitors['date'])"
   ]
  },
  {
   "cell_type": "markdown",
   "metadata": {},
   "source": [
    "При предобработке данных были получены два датафрейма - с заказами и пользователями. Дубликатов и пропусков выявлено не было. Столбцы date в обоих датафреймах приведены к типу datetime. "
   ]
  },
  {
   "cell_type": "markdown",
   "metadata": {},
   "source": [
    "Узнаем не пересекаются ли пользователи двух сегментов."
   ]
  },
  {
   "cell_type": "code",
   "execution_count": 20,
   "metadata": {},
   "outputs": [
    {
     "data": {
      "text/plain": [
       "58"
      ]
     },
     "execution_count": 20,
     "metadata": {},
     "output_type": "execute_result"
    }
   ],
   "source": [
    "data_orders_a = data_orders.query('group == \"A\"')\n",
    "data_orders_b = data_orders.query('group == \"B\"')\n",
    "data_orders_cross_id = data_orders_a.merge(data_orders_b, on='visitorId')['visitorId'].unique()\n",
    "len(data_orders_cross_id)"
   ]
  },
  {
   "cell_type": "code",
   "execution_count": 21,
   "metadata": {},
   "outputs": [
    {
     "data": {
      "text/plain": [
       "1031"
      ]
     },
     "execution_count": 21,
     "metadata": {},
     "output_type": "execute_result"
    }
   ],
   "source": [
    "len(data_orders['visitorId'].unique())"
   ]
  },
  {
   "cell_type": "markdown",
   "metadata": {},
   "source": [
    "58 пользователей из 1031 имеющихся, пересекаются в обоих сегментах."
   ]
  },
  {
   "cell_type": "markdown",
   "metadata": {},
   "source": [
    "Доля пересекающихся пользователей равна примерно 5%, что составляет не критичную часть данных. Такие пользователи подлежат удалению."
   ]
  },
  {
   "cell_type": "code",
   "execution_count": 22,
   "metadata": {},
   "outputs": [
    {
     "data": {
      "text/plain": [
       "973"
      ]
     },
     "execution_count": 22,
     "metadata": {},
     "output_type": "execute_result"
    }
   ],
   "source": [
    "data_orders = data_orders.query('visitorId not in @data_orders_cross_id')\n",
    "len(data_orders['visitorId'].unique())"
   ]
  },
  {
   "cell_type": "markdown",
   "metadata": {},
   "source": [
    "Построим график кумулятивной выручки по группам:"
   ]
  },
  {
   "cell_type": "code",
   "execution_count": 23,
   "metadata": {},
   "outputs": [],
   "source": [
    "datesGroups = data_orders[['date','group']].drop_duplicates()\n",
    "\n",
    "ordersAggregated = datesGroups.apply(lambda x: data_orders[np.logical_and(data_orders['date'] <= x['date'], data_orders['group'] == x['group'])].agg({'date' : 'max', 'group' : 'max', 'transactionId' : 'nunique', 'visitorId' : 'nunique', 'revenue' : 'sum'}), axis=1).sort_values(by=['date','group'])\n",
    "\n",
    "visitorsAggregated = datesGroups.apply(lambda x: data_visitors[np.logical_and(data_visitors['date'] <= x['date'], data_visitors['group'] == x['group'])].agg({'date' : 'max', 'group' : 'max', 'visitors' : 'sum'}), axis=1).sort_values(by=['date','group'])\n",
    "\n",
    "cumulativeData = ordersAggregated.merge(visitorsAggregated, left_on=['date', 'group'], right_on=['date', 'group'])\n",
    "cumulativeData.columns = ['date', 'group', 'orders', 'buyers', 'revenue', 'visitors']"
   ]
  },
  {
   "cell_type": "markdown",
   "metadata": {},
   "source": [
    "Увеличим все графики в проекте:"
   ]
  },
  {
   "cell_type": "code",
   "execution_count": 24,
   "metadata": {},
   "outputs": [],
   "source": [
    "plt.rcParams ['figure.figsize'] = [10, 7]"
   ]
  },
  {
   "cell_type": "code",
   "execution_count": 25,
   "metadata": {},
   "outputs": [
    {
     "data": {
      "text/plain": [
       "<matplotlib.legend.Legend at 0x7f026b830cd0>"
      ]
     },
     "execution_count": 25,
     "metadata": {},
     "output_type": "execute_result"
    },
    {
     "data": {
      "image/png": "[encoded data removed]",
      "text/plain": [
       "<Figure size 720x504 with 1 Axes>"
      ]
     },
     "metadata": {
      "needs_background": "light"
     },
     "output_type": "display_data"
    }
   ],
   "source": [
    "# датафрейм с кумулятивным количеством заказов и кумулятивной выручкой по дням в группе A\n",
    "cumulativeRevenueA = cumulativeData[cumulativeData['group']=='A'][['date','revenue', 'orders']]\n",
    "\n",
    "# датафрейм с кумулятивным количеством заказов и кумулятивной выручкой по дням в группе B\n",
    "cumulativeRevenueB = cumulativeData[cumulativeData['group']=='B'][['date','revenue', 'orders']]\n",
    "\n",
    "# Строим график выручки группы А\n",
    "plt.plot(cumulativeRevenueA['date'], cumulativeRevenueA['revenue'], label='A')\n",
    "\n",
    "# Строим график выручки группы B\n",
    "plt.plot(cumulativeRevenueB['date'], cumulativeRevenueB['revenue'], label='B')\n",
    "plt.xticks(rotation = 45)\n",
    "plt.title('График кумулятивной выручки по группам')\n",
    "plt.xlabel('Дата наблюдения')\n",
    "plt.ylabel('Выручка')\n",
    "plt.legend() "
   ]
  },
  {
   "cell_type": "markdown",
   "metadata": {},
   "source": [
    "Примерно до 2019-08-17 группы двигались одинаково вверх. После указанной даты сегмент B резко вскочил вверх. Возможно аномально большие заказы влияют на результаты. "
   ]
  },
  {
   "cell_type": "markdown",
   "metadata": {},
   "source": [
    "Построим график кумулятивного среднего чека по группам:"
   ]
  },
  {
   "cell_type": "code",
   "execution_count": 26,
   "metadata": {},
   "outputs": [
    {
     "data": {
      "text/plain": [
       "<matplotlib.legend.Legend at 0x7f026b62be80>"
      ]
     },
     "execution_count": 26,
     "metadata": {},
     "output_type": "execute_result"
    },
    {
     "data": {
      "image/png": "[encoded data removed]",
      "text/plain": [
       "<Figure size 720x504 with 1 Axes>"
      ]
     },
     "metadata": {
      "needs_background": "light"
     },
     "output_type": "display_data"
    }
   ],
   "source": [
    "plt.plot(cumulativeRevenueA['date'], cumulativeRevenueA['revenue']/cumulativeRevenueA['orders'], label='A')\n",
    "plt.plot(cumulativeRevenueB['date'], cumulativeRevenueB['revenue']/cumulativeRevenueB['orders'], label='B')\n",
    "plt.xticks(rotation = 45)\n",
    "plt.title('График кумулятивного среднего чека по группам')\n",
    "plt.xlabel('Дата наблюдения')\n",
    "plt.ylabel('Средний чек')\n",
    "plt.legend() "
   ]
  },
  {
   "cell_type": "markdown",
   "metadata": {},
   "source": [
    "График группы А показывал лидерство в периоды первых пары дней наблюдаемого периода и в период примерно с 2019-08-11 по 2019-08-18. В остальные дни лидировала группа В.\n",
    "График группы А падал до 2019-08-05 после пошел вверх и примерно 2019-08-13 зафиксировался. График группы В в основном рос до 2019-08-17. После указанной даты наблюдается резкий скачок вверх и плавный спад до конца наблюдаемого периода. Возможно в эту группу попали большие заказы."
   ]
  },
  {
   "cell_type": "markdown",
   "metadata": {},
   "source": [
    "Постройте график относительного изменения кумулятивного среднего чека группы B к группе A:"
   ]
  },
  {
   "cell_type": "code",
   "execution_count": 27,
   "metadata": {},
   "outputs": [
    {
     "data": {
      "text/plain": [
       "Text(0, 0.5, 'Доля относительного изменения кумулятивного среднего чека')"
      ]
     },
     "execution_count": 27,
     "metadata": {},
     "output_type": "execute_result"
    },
    {
     "data": {
      "image/png": "[encoded data removed]",
      "text/plain": [
       "<Figure size 720x504 with 1 Axes>"
      ]
     },
     "metadata": {
      "needs_background": "light"
     },
     "output_type": "display_data"
    }
   ],
   "source": [
    "mergedCumulativeRevenue = cumulativeRevenueA.merge(cumulativeRevenueB, left_on='date', right_on='date', how='left', suffixes=['A', 'B'])\n",
    "\n",
    "# cтроим отношение средних чеков\n",
    "plt.plot(mergedCumulativeRevenue['date'], (mergedCumulativeRevenue['revenueB']/mergedCumulativeRevenue['ordersB'])/(mergedCumulativeRevenue['revenueA']/mergedCumulativeRevenue['ordersA'])-1)\n",
    "plt.xticks(rotation = 45)\n",
    "# добавляем ось X\n",
    "plt.axhline(y=0, color='black', linestyle='--')\n",
    "plt.title('График относительного изменения кумулятивного среднего чека группы B к группе A')\n",
    "plt.xlabel('Дата наблюдения')\n",
    "plt.ylabel('Доля относительного изменения кумулятивного среднего чека')"
   ]
  },
  {
   "cell_type": "markdown",
   "metadata": {},
   "source": [
    "В нескольких точках график различия между сегментами резко скачет. "
   ]
  },
  {
   "cell_type": "markdown",
   "metadata": {},
   "source": [
    "Постройте график кумулятивного среднего количества заказов на посетителя по группам:"
   ]
  },
  {
   "cell_type": "code",
   "execution_count": 28,
   "metadata": {},
   "outputs": [
    {
     "data": {
      "text/plain": [
       "<matplotlib.legend.Legend at 0x7f026b6fe520>"
      ]
     },
     "execution_count": 28,
     "metadata": {},
     "output_type": "execute_result"
    },
    {
     "data": {
      "image/png": "[encoded data removed]",
      "text/plain": [
       "<Figure size 720x504 with 1 Axes>"
      ]
     },
     "metadata": {
      "needs_background": "light"
     },
     "output_type": "display_data"
    }
   ],
   "source": [
    "cumulativeData['conversion'] = (\n",
    "    cumulativeData['orders'] / cumulativeData['visitors']\n",
    ")\n",
    "\n",
    "cumulativeDataA = cumulativeData[cumulativeData['group'] == 'A']\n",
    "cumulativeDataB = cumulativeData[cumulativeData['group'] == 'B']\n",
    "\n",
    "plt.plot(cumulativeDataA['date'], cumulativeDataA['conversion'], label='A');\n",
    "plt.plot(cumulativeDataB['date'], cumulativeDataB['conversion'], label='B');\n",
    "plt.xticks(rotation = 45)\n",
    "plt.title('График кумулятивного среднего количества заказов на посетителя по группам')\n",
    "plt.xlabel('Дата наблюдения')\n",
    "plt.ylabel('Кумулятивное среднее количество заказов на посетителя')\n",
    "plt.legend()"
   ]
  },
  {
   "cell_type": "markdown",
   "metadata": {},
   "source": [
    "График сегмента А просел и зафиксировался, а график сегмента B наоборот возрос и так же зафиксировался. После примерно 2019-08-06 лидирует сегмент B."
   ]
  },
  {
   "cell_type": "markdown",
   "metadata": {},
   "source": [
    "Построим график относительного изменения кумулятивного среднего количества заказов на посетителя группы B к группе A:"
   ]
  },
  {
   "cell_type": "code",
   "execution_count": 29,
   "metadata": {},
   "outputs": [
    {
     "data": {
      "text/plain": [
       "Text(0, 0.5, '% относительного изменения кумулятивного среднего количества заказов')"
      ]
     },
     "execution_count": 29,
     "metadata": {},
     "output_type": "execute_result"
    },
    {
     "data": {
      "image/png": "[encoded data removed]",
      "text/plain": [
       "<Figure size 720x504 with 1 Axes>"
      ]
     },
     "metadata": {
      "needs_background": "light"
     },
     "output_type": "display_data"
    }
   ],
   "source": [
    "mergedCumulativeConversions = cumulativeDataA[['date','conversion']].merge(cumulativeDataB[['date','conversion']], left_on='date', right_on='date', how='left', suffixes=['A', 'B'])\n",
    "\n",
    "plt.plot(mergedCumulativeConversions['date'], mergedCumulativeConversions['conversionB']/mergedCumulativeConversions['conversionA']-1, label=\"Относительное изменение кумулятивного среднего количества заказов на посетителя группы B к группе A\")\n",
    "plt.xticks(rotation = 45)\n",
    "plt.legend()\n",
    "\n",
    "plt.axhline(y=0, color='black', linestyle='--')\n",
    "plt.axhline(y=0.2, color='grey', linestyle='--')\n",
    "plt.title('График относительного изменения кумулятивного среднего количества заказов на посетителя группы B к группе A')\n",
    "plt.xlabel('Дата наблюдения')\n",
    "plt.ylabel('% относительного изменения кумулятивного среднего количества заказов')"
   ]
  },
  {
   "cell_type": "markdown",
   "metadata": {},
   "source": [
    "В начале теста группа B значительно проигрывала группе A, затем вырвалась вперёд, в середине теста достигнув своего пика. Потом значения графика снова падали, но теперь постепенно растут. График закрепился в районе значения 0.15."
   ]
  },
  {
   "cell_type": "markdown",
   "metadata": {},
   "source": [
    "Стоит проанализировать аномалии, возможно, они изменят картину."
   ]
  },
  {
   "cell_type": "markdown",
   "metadata": {},
   "source": [
    "Построим точечный график количества заказов по пользователям:"
   ]
  },
  {
   "cell_type": "code",
   "execution_count": 30,
   "metadata": {},
   "outputs": [
    {
     "name": "stdout",
     "output_type": "stream",
     "text": [
      "      visitorId  orders\n",
      "908  3967698036  3     \n",
      "55   249864742   3     \n",
      "478  2108163459  3     \n",
      "687  2988190573  3     \n",
      "890  3908431265  3     \n",
      "138  611059232   3     \n",
      "632  2742574263  3     \n",
      "157  678354126   2     \n",
      "323  1404560065  2     \n",
      "452  1985475298  2     \n"
     ]
    },
    {
     "data": {
      "text/plain": [
       "Text(0, 0.5, 'Заказы')"
      ]
     },
     "execution_count": 30,
     "metadata": {},
     "output_type": "execute_result"
    },
    {
     "data": {
      "image/png": "[encoded data removed]",
      "text/plain": [
       "<Figure size 720x504 with 1 Axes>"
      ]
     },
     "metadata": {
      "needs_background": "light"
     },
     "output_type": "display_data"
    }
   ],
   "source": [
    "ordersByUsers = (\n",
    "    data_orders.groupby('visitorId', as_index=False)\n",
    "    .agg({'transactionId': 'nunique'})\n",
    ")\n",
    "ordersByUsers.columns = ['visitorId', 'orders']\n",
    "\n",
    "print(ordersByUsers.sort_values(by='orders', ascending=False).head(10))\n",
    "\n",
    "x_values = pd.Series(range(0,len(ordersByUsers)))\n",
    "\n",
    "plt.scatter(x_values, ordersByUsers['orders'])\n",
    "plt.title('График количества заказов по пользователям')\n",
    "plt.xlabel('Пользователи')\n",
    "plt.ylabel('Заказы')"
   ]
  },
  {
   "cell_type": "markdown",
   "metadata": {},
   "source": [
    "Пользователей, заказавших более двух раз, очень мало. Возможно они аномальны."
   ]
  },
  {
   "cell_type": "markdown",
   "metadata": {},
   "source": [
    "Посчитаем 95-й и 99-й перцентили количества заказов на пользователя:"
   ]
  },
  {
   "cell_type": "code",
   "execution_count": 31,
   "metadata": {},
   "outputs": [
    {
     "name": "stdout",
     "output_type": "stream",
     "text": [
      "[1. 2.]\n"
     ]
    }
   ],
   "source": [
    "print(np.percentile(ordersByUsers['orders'], [95, 99])) "
   ]
  },
  {
   "cell_type": "markdown",
   "metadata": {},
   "source": [
    "Не более 5 процентов пользователей, совершавших более 1 заказа. Определим пользователей заказвших более 1 заказа аномальными."
   ]
  },
  {
   "cell_type": "markdown",
   "metadata": {},
   "source": [
    "Построим точечный график стоимостей заказов:"
   ]
  },
  {
   "cell_type": "code",
   "execution_count": 32,
   "metadata": {},
   "outputs": [
    {
     "data": {
      "text/plain": [
       "Text(0, 0.5, 'Стоимость заказов')"
      ]
     },
     "execution_count": 32,
     "metadata": {},
     "output_type": "execute_result"
    },
    {
     "data": {
      "image/png": "[encoded data removed]",
      "text/plain": [
       "<Figure size 720x504 with 1 Axes>"
      ]
     },
     "metadata": {
      "needs_background": "light"
     },
     "output_type": "display_data"
    }
   ],
   "source": [
    "x_values = pd.Series(range(0, len(data_orders['revenue'])))\n",
    "plt.scatter(x_values, data_orders['revenue'])\n",
    "plt.title('График стоимостей заказов')\n",
    "plt.xlabel('Пользователи')\n",
    "plt.ylabel('Стоимость заказов')"
   ]
  },
  {
   "cell_type": "markdown",
   "metadata": {},
   "source": [
    "Наблюдается заказ в районе 1200000. Для заказа в интенет магазине выглядит аномально. Рассмотрим график более подробно:"
   ]
  },
  {
   "cell_type": "code",
   "execution_count": 33,
   "metadata": {},
   "outputs": [
    {
     "data": {
      "image/png": "[encoded data removed]",
      "text/plain": [
       "<Figure size 720x504 with 1 Axes>"
      ]
     },
     "metadata": {
      "needs_background": "light"
     },
     "output_type": "display_data"
    }
   ],
   "source": [
    "x_values = pd.Series(range(0, len(data_orders['revenue'])))\n",
    "plt.scatter(x_values, data_orders['revenue'])\n",
    "plt.title('График стоимостей заказов')\n",
    "plt.xlabel('Пользователи')\n",
    "plt.ylabel('Стоимость заказов')\n",
    "plt.ylim([0, 120000]);"
   ]
  },
  {
   "cell_type": "markdown",
   "metadata": {},
   "source": [
    "Заказов более 30000 не очень много. Есть единичные заказы в районе 1000000."
   ]
  },
  {
   "cell_type": "markdown",
   "metadata": {},
   "source": [
    "Посчитаем 95-й и 99-й перцентили стоимости заказов:"
   ]
  },
  {
   "cell_type": "code",
   "execution_count": 34,
   "metadata": {},
   "outputs": [
    {
     "name": "stdout",
     "output_type": "stream",
     "text": [
      "[26785. 53904.]\n"
     ]
    }
   ],
   "source": [
    "print(np.percentile(data_orders['revenue'], [95, 99]))"
   ]
  },
  {
   "cell_type": "markdown",
   "metadata": {},
   "source": [
    "Не более 5 процентов пользователей, совершили заказ, на сумму более 26785. Примем за аномальную стоимость выше 27000.\n"
   ]
  },
  {
   "cell_type": "markdown",
   "metadata": {},
   "source": [
    "Посчитаем статистическую значимость различий в среднем количестве заказов на посетителя между группами по «сырым» данным:"
   ]
  },
  {
   "cell_type": "markdown",
   "metadata": {},
   "source": [
    "Сформулируем нулевую и альтернативную гипотезы:\n",
    "Н0 -  в среднем количестве заказов на посетителя группы равны\n",
    "Н1 -  в среднем количестве заказов на посетителя группы различны.\n",
    " Уровень значимости (alpha) = 0.05"
   ]
  },
  {
   "cell_type": "code",
   "execution_count": 35,
   "metadata": {},
   "outputs": [],
   "source": [
    "alpha = .05"
   ]
  },
  {
   "cell_type": "code",
   "execution_count": 36,
   "metadata": {},
   "outputs": [],
   "source": [
    "visitorsADaily = data_visitors[data_visitors['group'] == 'A'][['date', 'visitors']]\n",
    "visitorsADaily.columns = ['date', 'visitorsPerDateA']\n",
    "\n",
    "visitorsACummulative = visitorsADaily.apply(\n",
    "    lambda x: visitorsADaily[visitorsADaily['date'] <= x['date']].agg(\n",
    "        {'date': 'max', 'visitorsPerDateA': 'sum'}\n",
    "    ),\n",
    "    axis=1,\n",
    ")\n",
    "visitorsACummulative.columns = ['date', 'visitorsCummulativeA']\n",
    "\n",
    "visitorsBDaily = data_visitors[data_visitors['group'] == 'B'][['date', 'visitors']]\n",
    "visitorsBDaily.columns = ['date', 'visitorsPerDateB']\n",
    "\n",
    "visitorsBCummulative = visitorsBDaily.apply(\n",
    "    lambda x: visitorsBDaily[visitorsBDaily['date'] <= x['date']].agg(\n",
    "        {'date': 'max', 'visitorsPerDateB': 'sum'}\n",
    "    ),\n",
    "    axis=1,\n",
    ")\n",
    "visitorsBCummulative.columns = ['date', 'visitorsCummulativeB']\n",
    "\n",
    "ordersADaily = (\n",
    "    data_orders[data_orders['group'] == 'A'][['date', 'transactionId', 'visitorId', 'revenue']]\n",
    "    .groupby('date', as_index=False)\n",
    "    .agg({'transactionId': pd.Series.nunique, 'revenue': 'sum'})\n",
    ")\n",
    "ordersADaily.columns = ['date', 'ordersPerDateA', 'revenuePerDateA']\n",
    "\n",
    "ordersACummulative = ordersADaily.apply(\n",
    "    lambda x: ordersADaily[ordersADaily['date'] <= x['date']].agg(\n",
    "        {'date': 'max', 'ordersPerDateA': 'sum', 'revenuePerDateA': 'sum'}\n",
    "    ),\n",
    "    axis=1,\n",
    ").sort_values(by=['date'])\n",
    "ordersACummulative.columns = [\n",
    "    'date',\n",
    "    'ordersCummulativeA',\n",
    "    'revenueCummulativeA',\n",
    "]\n",
    "\n",
    "ordersBDaily = (\n",
    "    data_orders[data_orders['group'] == 'B'][['date', 'transactionId', 'visitorId', 'revenue']]\n",
    "    .groupby('date', as_index=False)\n",
    "    .agg({'transactionId': pd.Series.nunique, 'revenue': 'sum'})\n",
    ")\n",
    "ordersBDaily.columns = ['date', 'ordersPerDateB', 'revenuePerDateB']\n",
    "\n",
    "ordersBCummulative = ordersBDaily.apply(\n",
    "    lambda x: ordersBDaily[ordersBDaily['date'] <= x['date']].agg(\n",
    "        {'date': 'max', 'ordersPerDateB': 'sum', 'revenuePerDateB': 'sum'}\n",
    "    ),\n",
    "    axis=1,\n",
    ").sort_values(by=['date'])\n",
    "ordersBCummulative.columns = [\n",
    "    'date',\n",
    "    'ordersCummulativeB',\n",
    "    'revenueCummulativeB',\n",
    "]\n",
    "data = (\n",
    "    ordersADaily.merge(\n",
    "        ordersBDaily, left_on='date', right_on='date', how='left'\n",
    "    )\n",
    "    .merge(ordersACummulative, left_on='date', right_on='date', how='left')\n",
    "    .merge(ordersBCummulative, left_on='date', right_on='date', how='left')\n",
    "    .merge(visitorsADaily, left_on='date', right_on='date', how='left')\n",
    "    .merge(visitorsBDaily, left_on='date', right_on='date', how='left')\n",
    "    .merge(visitorsACummulative, left_on='date', right_on='date', how='left')\n",
    "    .merge(visitorsBCummulative, left_on='date', right_on='date', how='left')\n",
    ")"
   ]
  },
  {
   "cell_type": "code",
   "execution_count": 37,
   "metadata": {},
   "outputs": [
    {
     "name": "stdout",
     "output_type": "stream",
     "text": [
      "P-value =  0.011\n",
      "Относительный прирост среднего группы В к группе А = 0.160\n"
     ]
    }
   ],
   "source": [
    "ordersByUsersA = (\n",
    "    data_orders[data_orders['group'] == 'A']\n",
    "    .groupby('visitorId', as_index=False)\n",
    "    .agg({'transactionId': pd.Series.nunique})\n",
    ")\n",
    "ordersByUsersA.columns = ['visitorId', 'orders']\n",
    "\n",
    "ordersByUsersB = (\n",
    "    data_orders[data_orders['group'] == 'B']\n",
    "    .groupby('visitorId', as_index=False)\n",
    "    .agg({'transactionId': pd.Series.nunique})\n",
    ")\n",
    "ordersByUsersB.columns = ['visitorId', 'orders'] \n",
    "\n",
    "sampleA = pd.concat([ordersByUsersA['orders'],pd.Series(0, index=np.arange(data['visitorsPerDateA'].sum() - len(ordersByUsersA['orders'])), name='orders')],axis=0)\n",
    "\n",
    "sampleB = pd.concat([ordersByUsersB['orders'],pd.Series(0, index=np.arange(data['visitorsPerDateB'].sum() - len(ordersByUsersB['orders'])), name='orders')],axis=0)\n",
    "\n",
    "print('P-value = ', \"{0:.3f}\".format(stats.mannwhitneyu(sampleA, sampleB)[1]))\n",
    "\n",
    "print('Относительный прирост среднего группы В к группе А =', \"{0:.3f}\".format(sampleB.mean() / sampleA.mean() - 1))"
   ]
  },
  {
   "cell_type": "markdown",
   "metadata": {},
   "source": [
    "P-value = 0.011 что меньше 0.05, следовательно мы отвергаем нулевую гипотезу в пользу альернативной. Группы различны. Относительный прирост среднего группы В к группе А равен 16 процентов."
   ]
  },
  {
   "cell_type": "markdown",
   "metadata": {},
   "source": [
    "Посчитаем статистическую значимость различий в среднем чеке заказа между группами по «сырым» данным:"
   ]
  },
  {
   "cell_type": "markdown",
   "metadata": {},
   "source": [
    "Нулевая гипотеза: различий в среднем чеке между группами нет. Альтернативная гипотеза: различия в среднем чеке между группами есть. "
   ]
  },
  {
   "cell_type": "code",
   "execution_count": 38,
   "metadata": {},
   "outputs": [
    {
     "name": "stdout",
     "output_type": "stream",
     "text": [
      "P-value = 0.829\n",
      "Изменение среднего чека группы B относительно группы A = 0.287\n"
     ]
    }
   ],
   "source": [
    "print('P-value =', '{0:.3f}'.format(stats.mannwhitneyu(data_orders[data_orders['group']=='A']['revenue'], data_orders[data_orders['group']=='B']['revenue'])[1]))\n",
    "print('Изменение среднего чека группы B относительно группы A =', '{0:.3f}'.format(data_orders[data_orders['group']=='B']['revenue'].mean()/data_orders[data_orders['group']=='A']['revenue'].mean()-1))"
   ]
  },
  {
   "cell_type": "markdown",
   "metadata": {},
   "source": [
    "P-value = 0.829 что значительно больше 0.05, следовательно мы не можем отвергать  нулевую гипотезу в пользу альернативной. Различий в среднем чеке заказа между группами А и В нет, а наблюдаемое превышение среднего чека группы В на 28,7% не является значимым, получено случайно."
   ]
  },
  {
   "cell_type": "markdown",
   "metadata": {},
   "source": [
    "Посчитаем статистическую значимость различий в среднем количестве заказов на посетителя между группами по «очищенным» данным:"
   ]
  },
  {
   "cell_type": "markdown",
   "metadata": {},
   "source": [
    "Сформулируем нулевую и альтернативную гипотезы: Н0 -группы равны в среднем количестве заказов на посетителя  Н1 - группы различны в среднем количестве заказов на посетителя "
   ]
  },
  {
   "cell_type": "code",
   "execution_count": 39,
   "metadata": {},
   "outputs": [
    {
     "data": {
      "text/plain": [
       "568     113298937\n",
       "1099    148427295\n",
       "928     204675465\n",
       "33      249864742\n",
       "684     358944393\n",
       "Name: visitorId, dtype: int64"
      ]
     },
     "execution_count": 39,
     "metadata": {},
     "output_type": "execute_result"
    }
   ],
   "source": [
    "usersWithManyOrders = pd.concat(\n",
    "    [\n",
    "        ordersByUsersA[ordersByUsersA['orders'] > 1]['visitorId'],\n",
    "        ordersByUsersB[ordersByUsersB['orders'] > 1]['visitorId'],\n",
    "    ],\n",
    "    axis=0,\n",
    ")\n",
    "usersWithExpensiveOrders = data_orders[data_orders['revenue'] > 27000]['visitorId']\n",
    "abnormalUsers = (\n",
    "    pd.concat([usersWithManyOrders, usersWithExpensiveOrders], axis=0)\n",
    "    .drop_duplicates()\n",
    "    .sort_values()\n",
    ")\n",
    "abnormalUsers.head(5)"
   ]
  },
  {
   "cell_type": "code",
   "execution_count": 40,
   "metadata": {},
   "outputs": [
    {
     "name": "stdout",
     "output_type": "stream",
     "text": [
      "P-value = 0.016\n",
      "Относительный прирост среднего группы В к группе А = 0.174\n"
     ]
    }
   ],
   "source": [
    "sampleAFiltered = pd.concat(\n",
    "    [\n",
    "        ordersByUsersA[\n",
    "            np.logical_not(ordersByUsersA['visitorId'].isin(abnormalUsers))\n",
    "        ]['orders'],\n",
    "        pd.Series(\n",
    "            0,\n",
    "            index=np.arange(\n",
    "                data['visitorsPerDateA'].sum() - len(ordersByUsersA['orders'])\n",
    "            ),\n",
    "            name='orders',\n",
    "        ),\n",
    "    ],\n",
    "    axis=0,\n",
    ")\n",
    "\n",
    "sampleBFiltered = pd.concat(\n",
    "    [\n",
    "        ordersByUsersB[\n",
    "            np.logical_not(ordersByUsersB['visitorId'].isin(abnormalUsers))\n",
    "        ]['orders'],\n",
    "        pd.Series(\n",
    "            0,\n",
    "            index=np.arange(\n",
    "                data['visitorsPerDateB'].sum() - len(ordersByUsersB['orders'])\n",
    "            ),\n",
    "            name='orders',\n",
    "        ),\n",
    "    ],\n",
    "    axis=0,\n",
    ")\n",
    "print('P-value =', '{0:.3f}'.format(stats.mannwhitneyu(sampleAFiltered, sampleBFiltered)[1]))\n",
    "print('Относительный прирост среднего группы В к группе А =', '{0:.3f}'.format(sampleBFiltered.mean()/sampleAFiltered.mean()-1))"
   ]
  },
  {
   "cell_type": "markdown",
   "metadata": {},
   "source": [
    "P-value = 0.016 что меньше 0.05, следовательно мы отвергаем нулевую гипотезу в пользу альернативной. Группы различны. Относительный прирост среднего группы В к группе А равен 17,4 процента. Относительный прирост среднего по очищенным данным увеличился на 1.4%."
   ]
  },
  {
   "cell_type": "markdown",
   "metadata": {},
   "source": [
    "Посчитаем статистическую значимость различий в среднем чеке заказа между группами по «очищенным» данным:"
   ]
  },
  {
   "cell_type": "markdown",
   "metadata": {},
   "source": [
    "Нулевая гипотеза: различий в среднем чеке между группами нет. Альтернативная гипотеза: различия в среднем чеке между группами есть"
   ]
  },
  {
   "cell_type": "code",
   "execution_count": 41,
   "metadata": {},
   "outputs": [
    {
     "name": "stdout",
     "output_type": "stream",
     "text": [
      "P-value = 0.727\n",
      "Различия между средними чеками группы B к группе А = -0.034\n"
     ]
    }
   ],
   "source": [
    "print('P-value =',\n",
    "    '{0:.3f}'.format(\n",
    "        stats.mannwhitneyu(\n",
    "            data_orders[\n",
    "                np.logical_and(\n",
    "                    data_orders['group'] == 'A',\n",
    "                    np.logical_not(data_orders['visitorId'].isin(abnormalUsers)),\n",
    "                )\n",
    "            ]['revenue'],\n",
    "            data_orders[\n",
    "                np.logical_and(\n",
    "                    data_orders['group'] == 'B',\n",
    "                    np.logical_not(data_orders['visitorId'].isin(abnormalUsers)),\n",
    "                )\n",
    "            ]['revenue'],\n",
    "        )[1]\n",
    "    )\n",
    ")\n",
    "\n",
    "print('Различия между средними чеками группы B к группе А =',\n",
    "    \"{0:.3f}\".format(\n",
    "        data_orders[\n",
    "            np.logical_and(\n",
    "                data_orders['group'] == 'B',\n",
    "                np.logical_not(data_orders['visitorId'].isin(abnormalUsers)),\n",
    "            )\n",
    "        ]['revenue'].mean()\n",
    "        / data_orders[\n",
    "            np.logical_and(\n",
    "                data_orders['group'] == 'A',\n",
    "                np.logical_not(data_orders['visitorId'].isin(abnormalUsers)),\n",
    "            )\n",
    "        ]['revenue'].mean()\n",
    "        - 1\n",
    "    )\n",
    ")"
   ]
  },
  {
   "cell_type": "markdown",
   "metadata": {},
   "source": [
    "P-value = 0.727 что значительно больше 0.05, следовательно мы не можем отвергать нулевую гипотезу в пользу альернативной. Различий в среднем чеке между группами нет. Различия между средними чеками по очищенным данным изменились до 3.4% в пользу группы А."
   ]
  },
  {
   "cell_type": "markdown",
   "metadata": {},
   "source": [
    "Результаты:"
   ]
  },
  {
   "cell_type": "markdown",
   "metadata": {},
   "source": [
    "По среднему количеству заказов на посетителя между сегментами есть статистически значимые различия. Такие различия встречаются и в сырых и в очищенных данных.\n",
    "По среднему чеку на посетителя нет статистически важных различий, как в сырых так и в очищенных данных.\n",
    "A/B тест стоит остановить и считать успешным. Результаты сегмента В оказались лучше сегмента А как до так и после очистки данных."
   ]
  }
 ],
 "metadata": {
  "ExecuteTimeLog": [
   {
    "duration": 49,
    "start_time": "2023-01-04T11:12:47.072Z"
   },
   {
    "duration": 424,
    "start_time": "2023-01-04T11:13:52.446Z"
   },
   {
    "duration": 59,
    "start_time": "2023-01-04T11:13:52.872Z"
   },
   {
    "duration": 38,
    "start_time": "2023-01-04T11:14:13.934Z"
   },
   {
    "duration": 32,
    "start_time": "2023-01-04T11:14:33.178Z"
   },
   {
    "duration": 14,
    "start_time": "2023-01-04T11:15:01.127Z"
   },
   {
    "duration": 796,
    "start_time": "2023-01-04T11:20:35.540Z"
   },
   {
    "duration": 3,
    "start_time": "2023-01-04T11:22:24.464Z"
   },
   {
    "duration": 12,
    "start_time": "2023-01-04T11:22:26.726Z"
   },
   {
    "duration": 10,
    "start_time": "2023-01-04T11:22:45.267Z"
   },
   {
    "duration": 11,
    "start_time": "2023-01-04T11:25:17.708Z"
   },
   {
    "duration": 12,
    "start_time": "2023-01-04T11:26:28.051Z"
   },
   {
    "duration": 11,
    "start_time": "2023-01-04T11:26:37.452Z"
   },
   {
    "duration": 92,
    "start_time": "2023-01-04T11:29:22.711Z"
   },
   {
    "duration": 54,
    "start_time": "2023-01-04T11:29:31.985Z"
   },
   {
    "duration": 11,
    "start_time": "2023-01-04T11:29:59.849Z"
   },
   {
    "duration": 70,
    "start_time": "2023-01-04T11:34:52.618Z"
   },
   {
    "duration": 11,
    "start_time": "2023-01-04T11:35:06.898Z"
   },
   {
    "duration": 3,
    "start_time": "2023-01-04T11:40:37.620Z"
   },
   {
    "duration": 210,
    "start_time": "2023-01-04T11:41:56.736Z"
   },
   {
    "duration": 28,
    "start_time": "2023-01-04T11:46:25.844Z"
   },
   {
    "duration": 309,
    "start_time": "2023-01-04T11:48:22.556Z"
   },
   {
    "duration": 394,
    "start_time": "2023-01-04T11:51:11.309Z"
   },
   {
    "duration": 285,
    "start_time": "2023-01-04T11:52:48.324Z"
   },
   {
    "duration": 281,
    "start_time": "2023-01-04T11:53:49.856Z"
   },
   {
    "duration": 400,
    "start_time": "2023-01-04T11:54:54.657Z"
   },
   {
    "duration": 323,
    "start_time": "2023-01-04T12:20:22.852Z"
   },
   {
    "duration": 290,
    "start_time": "2023-01-04T12:22:57.511Z"
   },
   {
    "duration": 277,
    "start_time": "2023-01-04T12:54:20.264Z"
   },
   {
    "duration": 250,
    "start_time": "2023-01-04T12:57:22.951Z"
   },
   {
    "duration": 261,
    "start_time": "2023-01-04T12:57:52.953Z"
   },
   {
    "duration": 301,
    "start_time": "2023-01-04T12:58:09.196Z"
   },
   {
    "duration": 6,
    "start_time": "2023-01-04T13:00:19.271Z"
   },
   {
    "duration": 5,
    "start_time": "2023-01-04T13:00:35.040Z"
   },
   {
    "duration": 422,
    "start_time": "2023-01-04T13:01:08.013Z"
   },
   {
    "duration": 432,
    "start_time": "2023-01-04T13:01:52.091Z"
   },
   {
    "duration": 161,
    "start_time": "2023-01-04T13:07:36.652Z"
   },
   {
    "duration": 5,
    "start_time": "2023-01-04T13:16:33.244Z"
   },
   {
    "duration": 168,
    "start_time": "2023-01-04T13:18:12.413Z"
   },
   {
    "duration": 16,
    "start_time": "2023-01-04T13:18:40.920Z"
   },
   {
    "duration": 4,
    "start_time": "2023-01-04T13:18:54.398Z"
   },
   {
    "duration": 10,
    "start_time": "2023-01-04T14:13:46.271Z"
   },
   {
    "duration": 95,
    "start_time": "2023-01-04T14:13:57.120Z"
   },
   {
    "duration": 163,
    "start_time": "2023-01-04T14:14:10.986Z"
   },
   {
    "duration": 121,
    "start_time": "2023-01-04T14:18:38.859Z"
   },
   {
    "duration": 219,
    "start_time": "2023-01-04T14:20:11.638Z"
   },
   {
    "duration": 145,
    "start_time": "2023-01-04T14:20:15.556Z"
   },
   {
    "duration": 518,
    "start_time": "2023-01-04T14:20:37.095Z"
   },
   {
    "duration": 171,
    "start_time": "2023-01-04T14:20:41.337Z"
   },
   {
    "duration": 37,
    "start_time": "2023-01-04T14:24:49.206Z"
   },
   {
    "duration": 12,
    "start_time": "2023-01-04T14:25:06.752Z"
   },
   {
    "duration": 10,
    "start_time": "2023-01-04T14:25:10.865Z"
   },
   {
    "duration": 10,
    "start_time": "2023-01-04T14:25:27.621Z"
   },
   {
    "duration": 120,
    "start_time": "2023-01-04T14:48:30.713Z"
   },
   {
    "duration": 126,
    "start_time": "2023-01-04T14:49:11.055Z"
   },
   {
    "duration": 129,
    "start_time": "2023-01-04T14:49:17.874Z"
   },
   {
    "duration": 736,
    "start_time": "2023-01-04T14:56:20.343Z"
   },
   {
    "duration": 170,
    "start_time": "2023-01-04T14:57:48.340Z"
   },
   {
    "duration": 11,
    "start_time": "2023-01-04T14:57:51.101Z"
   },
   {
    "duration": 10,
    "start_time": "2023-01-04T14:57:51.436Z"
   },
   {
    "duration": 32,
    "start_time": "2023-01-04T15:01:05.908Z"
   },
   {
    "duration": 884,
    "start_time": "2023-01-04T15:03:30.955Z"
   },
   {
    "duration": 14,
    "start_time": "2023-01-04T15:03:55.988Z"
   },
   {
    "duration": 5,
    "start_time": "2023-01-04T15:09:37.413Z"
   },
   {
    "duration": 6,
    "start_time": "2023-01-04T15:09:54.344Z"
   },
   {
    "duration": 5,
    "start_time": "2023-01-04T15:10:07.071Z"
   },
   {
    "duration": 6,
    "start_time": "2023-01-04T15:10:53.617Z"
   },
   {
    "duration": 6,
    "start_time": "2023-01-04T15:11:11.062Z"
   },
   {
    "duration": 6,
    "start_time": "2023-01-04T15:11:22.301Z"
   },
   {
    "duration": 1338,
    "start_time": "2023-01-05T15:21:58.515Z"
   },
   {
    "duration": 76,
    "start_time": "2023-01-05T15:21:59.855Z"
   },
   {
    "duration": 13,
    "start_time": "2023-01-05T15:21:59.933Z"
   },
   {
    "duration": 20,
    "start_time": "2023-01-05T15:21:59.948Z"
   },
   {
    "duration": 28,
    "start_time": "2023-01-05T15:21:59.970Z"
   },
   {
    "duration": 22,
    "start_time": "2023-01-05T15:22:00.000Z"
   },
   {
    "duration": 42,
    "start_time": "2023-01-05T15:22:00.024Z"
   },
   {
    "duration": 29,
    "start_time": "2023-01-05T15:22:00.068Z"
   },
   {
    "duration": 117,
    "start_time": "2023-01-05T15:22:00.099Z"
   },
   {
    "duration": 15,
    "start_time": "2023-01-05T15:22:00.219Z"
   },
   {
    "duration": 19,
    "start_time": "2023-01-05T15:22:00.236Z"
   },
   {
    "duration": 64,
    "start_time": "2023-01-05T15:22:00.257Z"
   },
   {
    "duration": 112,
    "start_time": "2023-01-05T15:22:00.323Z"
   },
   {
    "duration": 13,
    "start_time": "2023-01-05T15:22:00.439Z"
   },
   {
    "duration": 42,
    "start_time": "2023-01-05T15:22:00.454Z"
   },
   {
    "duration": 68,
    "start_time": "2023-01-05T15:22:00.498Z"
   },
   {
    "duration": 46,
    "start_time": "2023-01-05T15:22:00.569Z"
   },
   {
    "duration": 44,
    "start_time": "2023-01-05T15:22:00.617Z"
   },
   {
    "duration": 326,
    "start_time": "2023-01-05T15:22:00.664Z"
   },
   {
    "duration": 294,
    "start_time": "2023-01-05T15:22:00.992Z"
   },
   {
    "duration": 278,
    "start_time": "2023-01-05T15:22:01.288Z"
   },
   {
    "duration": 412,
    "start_time": "2023-01-05T15:22:01.568Z"
   },
   {
    "duration": 305,
    "start_time": "2023-01-05T15:22:01.982Z"
   },
   {
    "duration": 484,
    "start_time": "2023-01-05T15:22:02.289Z"
   },
   {
    "duration": 143,
    "start_time": "2023-01-05T15:22:02.776Z"
   },
   {
    "duration": 5,
    "start_time": "2023-01-05T15:22:02.920Z"
   },
   {
    "duration": 145,
    "start_time": "2023-01-05T15:22:02.936Z"
   },
   {
    "duration": 4,
    "start_time": "2023-01-05T15:22:03.083Z"
   },
   {
    "duration": 249,
    "start_time": "2023-01-05T15:22:03.089Z"
   },
   {
    "duration": 186,
    "start_time": "2023-01-05T15:22:03.340Z"
   },
   {
    "duration": 12,
    "start_time": "2023-01-05T15:22:03.536Z"
   },
   {
    "duration": 14,
    "start_time": "2023-01-05T15:22:03.550Z"
   },
   {
    "duration": 49,
    "start_time": "2023-01-05T15:22:03.566Z"
   },
   {
    "duration": 31,
    "start_time": "2023-01-05T15:22:03.616Z"
   },
   {
    "duration": 282,
    "start_time": "2023-01-05T15:44:45.906Z"
   },
   {
    "duration": 14,
    "start_time": "2023-01-05T15:46:36.811Z"
   },
   {
    "duration": 274,
    "start_time": "2023-01-05T15:46:44.069Z"
   },
   {
    "duration": 248,
    "start_time": "2023-01-05T15:46:44.849Z"
   },
   {
    "duration": 1096,
    "start_time": "2023-01-05T15:46:58.482Z"
   },
   {
    "duration": 37,
    "start_time": "2023-01-05T15:46:59.580Z"
   },
   {
    "duration": 11,
    "start_time": "2023-01-05T15:46:59.618Z"
   },
   {
    "duration": 9,
    "start_time": "2023-01-05T15:46:59.631Z"
   },
   {
    "duration": 15,
    "start_time": "2023-01-05T15:46:59.641Z"
   },
   {
    "duration": 17,
    "start_time": "2023-01-05T15:46:59.657Z"
   },
   {
    "duration": 23,
    "start_time": "2023-01-05T15:46:59.677Z"
   },
   {
    "duration": 15,
    "start_time": "2023-01-05T15:46:59.702Z"
   },
   {
    "duration": 46,
    "start_time": "2023-01-05T15:46:59.719Z"
   },
   {
    "duration": 12,
    "start_time": "2023-01-05T15:46:59.768Z"
   },
   {
    "duration": 17,
    "start_time": "2023-01-05T15:46:59.782Z"
   },
   {
    "duration": 13,
    "start_time": "2023-01-05T15:46:59.801Z"
   },
   {
    "duration": 31,
    "start_time": "2023-01-05T15:46:59.816Z"
   },
   {
    "duration": 14,
    "start_time": "2023-01-05T15:46:59.848Z"
   },
   {
    "duration": 22,
    "start_time": "2023-01-05T15:46:59.863Z"
   },
   {
    "duration": 11,
    "start_time": "2023-01-05T15:46:59.886Z"
   },
   {
    "duration": 13,
    "start_time": "2023-01-05T15:46:59.899Z"
   },
   {
    "duration": 26,
    "start_time": "2023-01-05T15:46:59.914Z"
   },
   {
    "duration": 22,
    "start_time": "2023-01-05T15:46:59.942Z"
   },
   {
    "duration": 291,
    "start_time": "2023-01-05T15:46:59.966Z"
   },
   {
    "duration": 279,
    "start_time": "2023-01-05T15:47:00.258Z"
   },
   {
    "duration": 196,
    "start_time": "2023-01-05T15:47:00.539Z"
   },
   {
    "duration": 310,
    "start_time": "2023-01-05T15:47:00.738Z"
   },
   {
    "duration": 209,
    "start_time": "2023-01-05T15:47:01.051Z"
   },
   {
    "duration": 435,
    "start_time": "2023-01-05T15:47:01.262Z"
   },
   {
    "duration": 0,
    "start_time": "2023-01-05T15:47:01.700Z"
   },
   {
    "duration": 0,
    "start_time": "2023-01-05T15:47:01.701Z"
   },
   {
    "duration": 0,
    "start_time": "2023-01-05T15:47:01.703Z"
   },
   {
    "duration": 0,
    "start_time": "2023-01-05T15:47:01.705Z"
   },
   {
    "duration": 0,
    "start_time": "2023-01-05T15:47:01.706Z"
   },
   {
    "duration": 0,
    "start_time": "2023-01-05T15:47:01.707Z"
   },
   {
    "duration": 0,
    "start_time": "2023-01-05T15:47:01.708Z"
   },
   {
    "duration": 0,
    "start_time": "2023-01-05T15:47:01.710Z"
   },
   {
    "duration": 0,
    "start_time": "2023-01-05T15:47:01.711Z"
   },
   {
    "duration": 0,
    "start_time": "2023-01-05T15:47:01.712Z"
   },
   {
    "duration": 6,
    "start_time": "2023-01-05T15:48:36.422Z"
   },
   {
    "duration": 4,
    "start_time": "2023-01-05T15:48:45.236Z"
   },
   {
    "duration": 6,
    "start_time": "2023-01-05T15:48:58.543Z"
   },
   {
    "duration": 5,
    "start_time": "2023-01-05T15:48:59.096Z"
   },
   {
    "duration": 388,
    "start_time": "2023-01-05T15:49:47.219Z"
   },
   {
    "duration": 8,
    "start_time": "2023-01-05T15:52:09.504Z"
   },
   {
    "duration": 1181,
    "start_time": "2023-01-05T15:52:15.760Z"
   },
   {
    "duration": 46,
    "start_time": "2023-01-05T15:52:16.943Z"
   },
   {
    "duration": 14,
    "start_time": "2023-01-05T15:52:16.991Z"
   },
   {
    "duration": 29,
    "start_time": "2023-01-05T15:52:17.007Z"
   },
   {
    "duration": 16,
    "start_time": "2023-01-05T15:52:17.039Z"
   },
   {
    "duration": 32,
    "start_time": "2023-01-05T15:52:17.057Z"
   },
   {
    "duration": 38,
    "start_time": "2023-01-05T15:52:17.091Z"
   },
   {
    "duration": 20,
    "start_time": "2023-01-05T15:52:17.131Z"
   },
   {
    "duration": 60,
    "start_time": "2023-01-05T15:52:17.153Z"
   },
   {
    "duration": 11,
    "start_time": "2023-01-05T15:52:17.216Z"
   },
   {
    "duration": 27,
    "start_time": "2023-01-05T15:52:17.229Z"
   },
   {
    "duration": 26,
    "start_time": "2023-01-05T15:52:17.258Z"
   },
   {
    "duration": 39,
    "start_time": "2023-01-05T15:52:17.286Z"
   },
   {
    "duration": 13,
    "start_time": "2023-01-05T15:52:17.330Z"
   },
   {
    "duration": 16,
    "start_time": "2023-01-05T15:52:17.345Z"
   },
   {
    "duration": 18,
    "start_time": "2023-01-05T15:52:17.363Z"
   },
   {
    "duration": 16,
    "start_time": "2023-01-05T15:52:17.383Z"
   },
   {
    "duration": 296,
    "start_time": "2023-01-05T15:52:17.402Z"
   },
   {
    "duration": 0,
    "start_time": "2023-01-05T15:52:17.700Z"
   },
   {
    "duration": 0,
    "start_time": "2023-01-05T15:52:17.702Z"
   },
   {
    "duration": 0,
    "start_time": "2023-01-05T15:52:17.704Z"
   },
   {
    "duration": 0,
    "start_time": "2023-01-05T15:52:17.705Z"
   },
   {
    "duration": 0,
    "start_time": "2023-01-05T15:52:17.706Z"
   },
   {
    "duration": 0,
    "start_time": "2023-01-05T15:52:17.708Z"
   },
   {
    "duration": 1,
    "start_time": "2023-01-05T15:52:17.708Z"
   },
   {
    "duration": 0,
    "start_time": "2023-01-05T15:52:17.710Z"
   },
   {
    "duration": 0,
    "start_time": "2023-01-05T15:52:17.711Z"
   },
   {
    "duration": 0,
    "start_time": "2023-01-05T15:52:17.712Z"
   },
   {
    "duration": 0,
    "start_time": "2023-01-05T15:52:17.713Z"
   },
   {
    "duration": 0,
    "start_time": "2023-01-05T15:52:17.715Z"
   },
   {
    "duration": 0,
    "start_time": "2023-01-05T15:52:17.716Z"
   },
   {
    "duration": 0,
    "start_time": "2023-01-05T15:52:17.718Z"
   },
   {
    "duration": 0,
    "start_time": "2023-01-05T15:52:17.719Z"
   },
   {
    "duration": 0,
    "start_time": "2023-01-05T15:52:17.721Z"
   },
   {
    "duration": 0,
    "start_time": "2023-01-05T15:52:17.722Z"
   },
   {
    "duration": 0,
    "start_time": "2023-01-05T15:52:17.723Z"
   },
   {
    "duration": 1130,
    "start_time": "2023-01-05T15:56:08.576Z"
   },
   {
    "duration": 43,
    "start_time": "2023-01-05T15:56:09.708Z"
   },
   {
    "duration": 13,
    "start_time": "2023-01-05T15:56:09.753Z"
   },
   {
    "duration": 24,
    "start_time": "2023-01-05T15:56:09.768Z"
   },
   {
    "duration": 27,
    "start_time": "2023-01-05T15:56:09.795Z"
   },
   {
    "duration": 14,
    "start_time": "2023-01-05T15:56:09.824Z"
   },
   {
    "duration": 19,
    "start_time": "2023-01-05T15:56:09.840Z"
   },
   {
    "duration": 15,
    "start_time": "2023-01-05T15:56:09.861Z"
   },
   {
    "duration": 54,
    "start_time": "2023-01-05T15:56:09.879Z"
   },
   {
    "duration": 12,
    "start_time": "2023-01-05T15:56:09.935Z"
   },
   {
    "duration": 27,
    "start_time": "2023-01-05T15:56:09.949Z"
   },
   {
    "duration": 19,
    "start_time": "2023-01-05T15:56:09.979Z"
   },
   {
    "duration": 41,
    "start_time": "2023-01-05T15:56:10.000Z"
   },
   {
    "duration": 14,
    "start_time": "2023-01-05T15:56:10.045Z"
   },
   {
    "duration": 11,
    "start_time": "2023-01-05T15:56:10.061Z"
   },
   {
    "duration": 15,
    "start_time": "2023-01-05T15:56:10.074Z"
   },
   {
    "duration": 16,
    "start_time": "2023-01-05T15:56:10.090Z"
   },
   {
    "duration": 23,
    "start_time": "2023-01-05T15:56:10.108Z"
   },
   {
    "duration": 15,
    "start_time": "2023-01-05T15:56:10.136Z"
   },
   {
    "duration": 318,
    "start_time": "2023-01-05T15:56:10.153Z"
   },
   {
    "duration": 287,
    "start_time": "2023-01-05T15:56:10.473Z"
   },
   {
    "duration": 227,
    "start_time": "2023-01-05T15:56:10.762Z"
   },
   {
    "duration": 321,
    "start_time": "2023-01-05T15:56:10.991Z"
   },
   {
    "duration": 388,
    "start_time": "2023-01-05T15:56:11.314Z"
   },
   {
    "duration": 488,
    "start_time": "2023-01-05T15:56:11.704Z"
   },
   {
    "duration": 0,
    "start_time": "2023-01-05T15:56:12.194Z"
   },
   {
    "duration": 0,
    "start_time": "2023-01-05T15:56:12.195Z"
   },
   {
    "duration": 0,
    "start_time": "2023-01-05T15:56:12.197Z"
   },
   {
    "duration": 1,
    "start_time": "2023-01-05T15:56:12.197Z"
   },
   {
    "duration": 0,
    "start_time": "2023-01-05T15:56:12.199Z"
   },
   {
    "duration": 0,
    "start_time": "2023-01-05T15:56:12.200Z"
   },
   {
    "duration": 0,
    "start_time": "2023-01-05T15:56:12.201Z"
   },
   {
    "duration": 0,
    "start_time": "2023-01-05T15:56:12.202Z"
   },
   {
    "duration": 0,
    "start_time": "2023-01-05T15:56:12.203Z"
   },
   {
    "duration": 0,
    "start_time": "2023-01-05T15:56:12.204Z"
   },
   {
    "duration": 1107,
    "start_time": "2023-01-05T15:56:38.681Z"
   },
   {
    "duration": 38,
    "start_time": "2023-01-05T15:56:39.791Z"
   },
   {
    "duration": 14,
    "start_time": "2023-01-05T15:56:39.831Z"
   },
   {
    "duration": 19,
    "start_time": "2023-01-05T15:56:39.848Z"
   },
   {
    "duration": 13,
    "start_time": "2023-01-05T15:56:39.869Z"
   },
   {
    "duration": 22,
    "start_time": "2023-01-05T15:56:39.884Z"
   },
   {
    "duration": 25,
    "start_time": "2023-01-05T15:56:39.908Z"
   },
   {
    "duration": 22,
    "start_time": "2023-01-05T15:56:39.935Z"
   },
   {
    "duration": 46,
    "start_time": "2023-01-05T15:56:39.960Z"
   },
   {
    "duration": 12,
    "start_time": "2023-01-05T15:56:40.009Z"
   },
   {
    "duration": 16,
    "start_time": "2023-01-05T15:56:40.023Z"
   },
   {
    "duration": 15,
    "start_time": "2023-01-05T15:56:40.041Z"
   },
   {
    "duration": 26,
    "start_time": "2023-01-05T15:56:40.058Z"
   },
   {
    "duration": 9,
    "start_time": "2023-01-05T15:56:40.086Z"
   },
   {
    "duration": 9,
    "start_time": "2023-01-05T15:56:40.097Z"
   },
   {
    "duration": 15,
    "start_time": "2023-01-05T15:56:40.108Z"
   },
   {
    "duration": 15,
    "start_time": "2023-01-05T15:56:40.125Z"
   },
   {
    "duration": 17,
    "start_time": "2023-01-05T15:56:40.142Z"
   },
   {
    "duration": 281,
    "start_time": "2023-01-05T15:56:40.161Z"
   },
   {
    "duration": 286,
    "start_time": "2023-01-05T15:56:40.444Z"
   },
   {
    "duration": 322,
    "start_time": "2023-01-05T15:56:40.732Z"
   },
   {
    "duration": 410,
    "start_time": "2023-01-05T15:56:41.056Z"
   },
   {
    "duration": 309,
    "start_time": "2023-01-05T15:56:41.468Z"
   },
   {
    "duration": 451,
    "start_time": "2023-01-05T15:56:41.779Z"
   },
   {
    "duration": 144,
    "start_time": "2023-01-05T15:56:42.234Z"
   },
   {
    "duration": 16,
    "start_time": "2023-01-05T15:56:42.380Z"
   },
   {
    "duration": 213,
    "start_time": "2023-01-05T15:56:42.400Z"
   },
   {
    "duration": 6,
    "start_time": "2023-01-05T15:56:42.618Z"
   },
   {
    "duration": 281,
    "start_time": "2023-01-05T15:56:42.636Z"
   },
   {
    "duration": 202,
    "start_time": "2023-01-05T15:56:42.919Z"
   },
   {
    "duration": 14,
    "start_time": "2023-01-05T15:56:43.123Z"
   },
   {
    "duration": 12,
    "start_time": "2023-01-05T15:56:43.141Z"
   },
   {
    "duration": 44,
    "start_time": "2023-01-05T15:56:43.155Z"
   },
   {
    "duration": 45,
    "start_time": "2023-01-05T15:56:43.201Z"
   },
   {
    "duration": 5,
    "start_time": "2023-01-05T15:58:49.461Z"
   },
   {
    "duration": 161,
    "start_time": "2023-01-05T15:59:08.046Z"
   },
   {
    "duration": 1144,
    "start_time": "2023-01-05T15:59:53.506Z"
   },
   {
    "duration": 37,
    "start_time": "2023-01-05T15:59:54.653Z"
   },
   {
    "duration": 12,
    "start_time": "2023-01-05T15:59:54.693Z"
   },
   {
    "duration": 31,
    "start_time": "2023-01-05T15:59:54.707Z"
   },
   {
    "duration": 33,
    "start_time": "2023-01-05T15:59:54.740Z"
   },
   {
    "duration": 21,
    "start_time": "2023-01-05T15:59:54.776Z"
   },
   {
    "duration": 37,
    "start_time": "2023-01-05T15:59:54.799Z"
   },
   {
    "duration": 15,
    "start_time": "2023-01-05T15:59:54.838Z"
   },
   {
    "duration": 84,
    "start_time": "2023-01-05T15:59:54.854Z"
   },
   {
    "duration": 13,
    "start_time": "2023-01-05T15:59:54.942Z"
   },
   {
    "duration": 27,
    "start_time": "2023-01-05T15:59:54.957Z"
   },
   {
    "duration": 65,
    "start_time": "2023-01-05T15:59:54.986Z"
   },
   {
    "duration": 58,
    "start_time": "2023-01-05T15:59:55.053Z"
   },
   {
    "duration": 12,
    "start_time": "2023-01-05T15:59:55.113Z"
   },
   {
    "duration": 10,
    "start_time": "2023-01-05T15:59:55.128Z"
   },
   {
    "duration": 32,
    "start_time": "2023-01-05T15:59:55.140Z"
   },
   {
    "duration": 32,
    "start_time": "2023-01-05T15:59:55.174Z"
   },
   {
    "duration": 116,
    "start_time": "2023-01-05T15:59:55.208Z"
   },
   {
    "duration": 0,
    "start_time": "2023-01-05T15:59:55.326Z"
   },
   {
    "duration": 0,
    "start_time": "2023-01-05T15:59:55.327Z"
   },
   {
    "duration": 0,
    "start_time": "2023-01-05T15:59:55.335Z"
   },
   {
    "duration": 0,
    "start_time": "2023-01-05T15:59:55.336Z"
   },
   {
    "duration": 0,
    "start_time": "2023-01-05T15:59:55.337Z"
   },
   {
    "duration": 0,
    "start_time": "2023-01-05T15:59:55.338Z"
   },
   {
    "duration": 0,
    "start_time": "2023-01-05T15:59:55.339Z"
   },
   {
    "duration": 0,
    "start_time": "2023-01-05T15:59:55.340Z"
   },
   {
    "duration": 0,
    "start_time": "2023-01-05T15:59:55.341Z"
   },
   {
    "duration": 0,
    "start_time": "2023-01-05T15:59:55.343Z"
   },
   {
    "duration": 0,
    "start_time": "2023-01-05T15:59:55.344Z"
   },
   {
    "duration": 0,
    "start_time": "2023-01-05T15:59:55.346Z"
   },
   {
    "duration": 0,
    "start_time": "2023-01-05T15:59:55.347Z"
   },
   {
    "duration": 0,
    "start_time": "2023-01-05T15:59:55.348Z"
   },
   {
    "duration": 0,
    "start_time": "2023-01-05T15:59:55.349Z"
   },
   {
    "duration": 0,
    "start_time": "2023-01-05T15:59:55.350Z"
   },
   {
    "duration": 0,
    "start_time": "2023-01-05T15:59:55.352Z"
   },
   {
    "duration": 16,
    "start_time": "2023-01-05T16:00:26.219Z"
   },
   {
    "duration": 5,
    "start_time": "2023-01-05T16:00:34.766Z"
   },
   {
    "duration": 14,
    "start_time": "2023-01-05T16:00:53.065Z"
   },
   {
    "duration": 12,
    "start_time": "2023-01-05T16:00:56.515Z"
   },
   {
    "duration": 13,
    "start_time": "2023-01-05T16:00:59.896Z"
   },
   {
    "duration": 12,
    "start_time": "2023-01-05T16:01:18.138Z"
   },
   {
    "duration": 1192,
    "start_time": "2023-01-05T16:01:55.548Z"
   },
   {
    "duration": 45,
    "start_time": "2023-01-05T16:01:56.743Z"
   },
   {
    "duration": 15,
    "start_time": "2023-01-05T16:01:56.790Z"
   },
   {
    "duration": 26,
    "start_time": "2023-01-05T16:01:56.807Z"
   },
   {
    "duration": 17,
    "start_time": "2023-01-05T16:01:56.835Z"
   },
   {
    "duration": 18,
    "start_time": "2023-01-05T16:01:56.854Z"
   },
   {
    "duration": 39,
    "start_time": "2023-01-05T16:01:56.873Z"
   },
   {
    "duration": 15,
    "start_time": "2023-01-05T16:01:56.915Z"
   },
   {
    "duration": 63,
    "start_time": "2023-01-05T16:01:56.931Z"
   },
   {
    "duration": 15,
    "start_time": "2023-01-05T16:01:56.996Z"
   },
   {
    "duration": 29,
    "start_time": "2023-01-05T16:01:57.013Z"
   },
   {
    "duration": 32,
    "start_time": "2023-01-05T16:01:57.044Z"
   },
   {
    "duration": 45,
    "start_time": "2023-01-05T16:01:57.078Z"
   },
   {
    "duration": 14,
    "start_time": "2023-01-05T16:01:57.126Z"
   },
   {
    "duration": 39,
    "start_time": "2023-01-05T16:01:57.144Z"
   },
   {
    "duration": 27,
    "start_time": "2023-01-05T16:01:57.184Z"
   },
   {
    "duration": 62,
    "start_time": "2023-01-05T16:01:57.213Z"
   },
   {
    "duration": 37,
    "start_time": "2023-01-05T16:01:57.277Z"
   },
   {
    "duration": 389,
    "start_time": "2023-01-05T16:01:57.316Z"
   },
   {
    "duration": 306,
    "start_time": "2023-01-05T16:01:57.707Z"
   },
   {
    "duration": 310,
    "start_time": "2023-01-05T16:01:58.015Z"
   },
   {
    "duration": 412,
    "start_time": "2023-01-05T16:01:58.327Z"
   },
   {
    "duration": 320,
    "start_time": "2023-01-05T16:01:58.742Z"
   },
   {
    "duration": 399,
    "start_time": "2023-01-05T16:01:59.064Z"
   },
   {
    "duration": 151,
    "start_time": "2023-01-05T16:01:59.465Z"
   },
   {
    "duration": 5,
    "start_time": "2023-01-05T16:01:59.618Z"
   },
   {
    "duration": 139,
    "start_time": "2023-01-05T16:01:59.636Z"
   },
   {
    "duration": 4,
    "start_time": "2023-01-05T16:01:59.777Z"
   },
   {
    "duration": 232,
    "start_time": "2023-01-05T16:01:59.783Z"
   },
   {
    "duration": 229,
    "start_time": "2023-01-05T16:02:00.017Z"
   },
   {
    "duration": 14,
    "start_time": "2023-01-05T16:02:00.248Z"
   },
   {
    "duration": 73,
    "start_time": "2023-01-05T16:02:00.264Z"
   },
   {
    "duration": 84,
    "start_time": "2023-01-05T16:02:00.339Z"
   },
   {
    "duration": 73,
    "start_time": "2023-01-05T16:02:00.425Z"
   },
   {
    "duration": 8,
    "start_time": "2023-01-05T16:02:49.950Z"
   },
   {
    "duration": 1211,
    "start_time": "2023-01-05T16:03:11.724Z"
   },
   {
    "duration": 45,
    "start_time": "2023-01-05T16:03:12.938Z"
   },
   {
    "duration": 13,
    "start_time": "2023-01-05T16:03:12.985Z"
   },
   {
    "duration": 15,
    "start_time": "2023-01-05T16:03:13.001Z"
   },
   {
    "duration": 17,
    "start_time": "2023-01-05T16:03:13.018Z"
   },
   {
    "duration": 9,
    "start_time": "2023-01-05T16:03:13.037Z"
   },
   {
    "duration": 21,
    "start_time": "2023-01-05T16:03:13.048Z"
   },
   {
    "duration": 15,
    "start_time": "2023-01-05T16:03:13.071Z"
   },
   {
    "duration": 66,
    "start_time": "2023-01-05T16:03:13.088Z"
   },
   {
    "duration": 15,
    "start_time": "2023-01-05T16:03:13.158Z"
   },
   {
    "duration": 13,
    "start_time": "2023-01-05T16:03:13.175Z"
   },
   {
    "duration": 12,
    "start_time": "2023-01-05T16:03:13.189Z"
   },
   {
    "duration": 31,
    "start_time": "2023-01-05T16:03:13.203Z"
   },
   {
    "duration": 11,
    "start_time": "2023-01-05T16:03:13.236Z"
   },
   {
    "duration": 9,
    "start_time": "2023-01-05T16:03:13.250Z"
   },
   {
    "duration": 12,
    "start_time": "2023-01-05T16:03:13.261Z"
   },
   {
    "duration": 12,
    "start_time": "2023-01-05T16:03:13.275Z"
   },
   {
    "duration": 12,
    "start_time": "2023-01-05T16:03:13.288Z"
   },
   {
    "duration": 11,
    "start_time": "2023-01-05T16:03:13.303Z"
   },
   {
    "duration": 303,
    "start_time": "2023-01-05T16:03:13.317Z"
   },
   {
    "duration": 305,
    "start_time": "2023-01-05T16:03:13.621Z"
   },
   {
    "duration": 204,
    "start_time": "2023-01-05T16:03:13.928Z"
   },
   {
    "duration": 300,
    "start_time": "2023-01-05T16:03:14.135Z"
   },
   {
    "duration": 195,
    "start_time": "2023-01-05T16:03:14.437Z"
   },
   {
    "duration": 4,
    "start_time": "2023-01-05T16:03:14.636Z"
   },
   {
    "duration": 0,
    "start_time": "2023-01-05T16:03:14.642Z"
   },
   {
    "duration": 0,
    "start_time": "2023-01-05T16:03:14.644Z"
   },
   {
    "duration": 0,
    "start_time": "2023-01-05T16:03:14.645Z"
   },
   {
    "duration": 0,
    "start_time": "2023-01-05T16:03:14.646Z"
   },
   {
    "duration": 0,
    "start_time": "2023-01-05T16:03:14.648Z"
   },
   {
    "duration": 0,
    "start_time": "2023-01-05T16:03:14.649Z"
   },
   {
    "duration": 0,
    "start_time": "2023-01-05T16:03:14.650Z"
   },
   {
    "duration": 0,
    "start_time": "2023-01-05T16:03:14.651Z"
   },
   {
    "duration": 0,
    "start_time": "2023-01-05T16:03:14.652Z"
   },
   {
    "duration": 0,
    "start_time": "2023-01-05T16:03:14.654Z"
   },
   {
    "duration": 419,
    "start_time": "2023-01-05T16:05:11.899Z"
   },
   {
    "duration": 1157,
    "start_time": "2023-01-05T16:05:41.499Z"
   },
   {
    "duration": 38,
    "start_time": "2023-01-05T16:05:42.659Z"
   },
   {
    "duration": 12,
    "start_time": "2023-01-05T16:05:42.702Z"
   },
   {
    "duration": 24,
    "start_time": "2023-01-05T16:05:42.715Z"
   },
   {
    "duration": 14,
    "start_time": "2023-01-05T16:05:42.741Z"
   },
   {
    "duration": 15,
    "start_time": "2023-01-05T16:05:42.757Z"
   },
   {
    "duration": 33,
    "start_time": "2023-01-05T16:05:42.774Z"
   },
   {
    "duration": 14,
    "start_time": "2023-01-05T16:05:42.809Z"
   },
   {
    "duration": 62,
    "start_time": "2023-01-05T16:05:42.826Z"
   },
   {
    "duration": 11,
    "start_time": "2023-01-05T16:05:42.890Z"
   },
   {
    "duration": 15,
    "start_time": "2023-01-05T16:05:42.903Z"
   },
   {
    "duration": 13,
    "start_time": "2023-01-05T16:05:42.920Z"
   },
   {
    "duration": 34,
    "start_time": "2023-01-05T16:05:42.935Z"
   },
   {
    "duration": 13,
    "start_time": "2023-01-05T16:05:42.970Z"
   },
   {
    "duration": 52,
    "start_time": "2023-01-05T16:05:42.986Z"
   },
   {
    "duration": 25,
    "start_time": "2023-01-05T16:05:43.040Z"
   },
   {
    "duration": 283,
    "start_time": "2023-01-05T16:05:43.067Z"
   },
   {
    "duration": 291,
    "start_time": "2023-01-05T16:05:43.352Z"
   },
   {
    "duration": 278,
    "start_time": "2023-01-05T16:05:43.644Z"
   },
   {
    "duration": 384,
    "start_time": "2023-01-05T16:05:43.923Z"
   },
   {
    "duration": 285,
    "start_time": "2023-01-05T16:05:44.308Z"
   },
   {
    "duration": 421,
    "start_time": "2023-01-05T16:05:44.594Z"
   },
   {
    "duration": 137,
    "start_time": "2023-01-05T16:05:45.016Z"
   },
   {
    "duration": 4,
    "start_time": "2023-01-05T16:05:45.155Z"
   },
   {
    "duration": 141,
    "start_time": "2023-01-05T16:05:45.161Z"
   },
   {
    "duration": 4,
    "start_time": "2023-01-05T16:05:45.303Z"
   },
   {
    "duration": 218,
    "start_time": "2023-01-05T16:05:45.310Z"
   },
   {
    "duration": 181,
    "start_time": "2023-01-05T16:05:45.530Z"
   },
   {
    "duration": 27,
    "start_time": "2023-01-05T16:05:45.713Z"
   },
   {
    "duration": 12,
    "start_time": "2023-01-05T16:05:45.742Z"
   },
   {
    "duration": 36,
    "start_time": "2023-01-05T16:05:45.756Z"
   },
   {
    "duration": 16,
    "start_time": "2023-01-05T16:05:45.795Z"
   },
   {
    "duration": 253,
    "start_time": "2023-01-05T16:24:26.261Z"
   },
   {
    "duration": 321,
    "start_time": "2023-01-05T16:24:47.927Z"
   },
   {
    "duration": 397,
    "start_time": "2023-01-05T16:24:58.603Z"
   },
   {
    "duration": 392,
    "start_time": "2023-01-05T16:25:05.399Z"
   },
   {
    "duration": 370,
    "start_time": "2023-01-05T16:25:09.637Z"
   },
   {
    "duration": 280,
    "start_time": "2023-01-05T16:25:18.711Z"
   },
   {
    "duration": 384,
    "start_time": "2023-01-05T16:25:31.976Z"
   },
   {
    "duration": 7,
    "start_time": "2023-01-05T16:28:26.108Z"
   },
   {
    "duration": 281,
    "start_time": "2023-01-05T16:28:27.978Z"
   },
   {
    "duration": 234,
    "start_time": "2023-01-05T16:28:28.404Z"
   },
   {
    "duration": 180,
    "start_time": "2023-01-05T16:28:34.621Z"
   },
   {
    "duration": 243,
    "start_time": "2023-01-05T16:28:35.974Z"
   },
   {
    "duration": 195,
    "start_time": "2023-01-05T16:28:41.125Z"
   },
   {
    "duration": 502,
    "start_time": "2023-01-05T16:28:44.624Z"
   },
   {
    "duration": 347,
    "start_time": "2023-01-05T16:29:28.300Z"
   },
   {
    "duration": 311,
    "start_time": "2023-01-05T16:31:31.280Z"
   },
   {
    "duration": 354,
    "start_time": "2023-01-05T16:31:41.297Z"
   },
   {
    "duration": 13,
    "start_time": "2023-01-05T16:33:31.603Z"
   },
   {
    "duration": 7,
    "start_time": "2023-01-05T16:33:46.832Z"
   },
   {
    "duration": 338,
    "start_time": "2023-01-05T16:33:51.340Z"
   },
   {
    "duration": 7,
    "start_time": "2023-01-05T16:35:16.647Z"
   },
   {
    "duration": 348,
    "start_time": "2023-01-05T16:35:41.732Z"
   },
   {
    "duration": 383,
    "start_time": "2023-01-05T16:35:50.303Z"
   },
   {
    "duration": 325,
    "start_time": "2023-01-05T16:35:58.188Z"
   },
   {
    "duration": 369,
    "start_time": "2023-01-05T16:36:06.736Z"
   },
   {
    "duration": 341,
    "start_time": "2023-01-05T16:36:21.517Z"
   },
   {
    "duration": 1139,
    "start_time": "2023-01-05T16:36:29.244Z"
   },
   {
    "duration": 39,
    "start_time": "2023-01-05T16:36:30.385Z"
   },
   {
    "duration": 22,
    "start_time": "2023-01-05T16:36:30.426Z"
   },
   {
    "duration": 65,
    "start_time": "2023-01-05T16:36:30.449Z"
   },
   {
    "duration": 72,
    "start_time": "2023-01-05T16:36:30.517Z"
   },
   {
    "duration": 69,
    "start_time": "2023-01-05T16:36:30.590Z"
   },
   {
    "duration": 49,
    "start_time": "2023-01-05T16:36:30.661Z"
   },
   {
    "duration": 39,
    "start_time": "2023-01-05T16:36:30.712Z"
   },
   {
    "duration": 110,
    "start_time": "2023-01-05T16:36:30.753Z"
   },
   {
    "duration": 10,
    "start_time": "2023-01-05T16:36:30.865Z"
   },
   {
    "duration": 19,
    "start_time": "2023-01-05T16:36:30.877Z"
   },
   {
    "duration": 22,
    "start_time": "2023-01-05T16:36:30.898Z"
   },
   {
    "duration": 33,
    "start_time": "2023-01-05T16:36:30.921Z"
   },
   {
    "duration": 18,
    "start_time": "2023-01-05T16:36:30.958Z"
   },
   {
    "duration": 14,
    "start_time": "2023-01-05T16:36:30.978Z"
   },
   {
    "duration": 8,
    "start_time": "2023-01-05T16:36:30.994Z"
   },
   {
    "duration": 17,
    "start_time": "2023-01-05T16:36:31.003Z"
   },
   {
    "duration": 283,
    "start_time": "2023-01-05T16:36:31.022Z"
   },
   {
    "duration": 270,
    "start_time": "2023-01-05T16:36:31.307Z"
   },
   {
    "duration": 201,
    "start_time": "2023-01-05T16:36:31.579Z"
   },
   {
    "duration": 277,
    "start_time": "2023-01-05T16:36:31.782Z"
   },
   {
    "duration": 219,
    "start_time": "2023-01-05T16:36:32.062Z"
   },
   {
    "duration": 406,
    "start_time": "2023-01-05T16:36:32.283Z"
   },
   {
    "duration": 139,
    "start_time": "2023-01-05T16:36:32.691Z"
   },
   {
    "duration": 5,
    "start_time": "2023-01-05T16:36:32.834Z"
   },
   {
    "duration": 138,
    "start_time": "2023-01-05T16:36:32.841Z"
   },
   {
    "duration": 5,
    "start_time": "2023-01-05T16:36:32.980Z"
   },
   {
    "duration": 237,
    "start_time": "2023-01-05T16:36:32.987Z"
   },
   {
    "duration": 173,
    "start_time": "2023-01-05T16:36:33.226Z"
   },
   {
    "duration": 9,
    "start_time": "2023-01-05T16:36:33.401Z"
   },
   {
    "duration": 26,
    "start_time": "2023-01-05T16:36:33.412Z"
   },
   {
    "duration": 38,
    "start_time": "2023-01-05T16:36:33.440Z"
   },
   {
    "duration": 15,
    "start_time": "2023-01-05T16:36:33.479Z"
   },
   {
    "duration": 146,
    "start_time": "2023-01-05T16:36:46.954Z"
   },
   {
    "duration": 8,
    "start_time": "2023-01-05T16:49:03.920Z"
   },
   {
    "duration": 30,
    "start_time": "2023-01-05T17:54:42.754Z"
   },
   {
    "duration": 1166,
    "start_time": "2023-01-05T18:11:04.428Z"
   },
   {
    "duration": 37,
    "start_time": "2023-01-05T18:11:05.596Z"
   },
   {
    "duration": 12,
    "start_time": "2023-01-05T18:11:05.635Z"
   },
   {
    "duration": 27,
    "start_time": "2023-01-05T18:11:05.649Z"
   },
   {
    "duration": 38,
    "start_time": "2023-01-05T18:11:05.677Z"
   },
   {
    "duration": 26,
    "start_time": "2023-01-05T18:11:05.717Z"
   },
   {
    "duration": 25,
    "start_time": "2023-01-05T18:11:05.745Z"
   },
   {
    "duration": 15,
    "start_time": "2023-01-05T18:11:05.772Z"
   },
   {
    "duration": 60,
    "start_time": "2023-01-05T18:11:05.789Z"
   },
   {
    "duration": 10,
    "start_time": "2023-01-05T18:11:05.852Z"
   },
   {
    "duration": 23,
    "start_time": "2023-01-05T18:11:05.863Z"
   },
   {
    "duration": 16,
    "start_time": "2023-01-05T18:11:05.887Z"
   },
   {
    "duration": 28,
    "start_time": "2023-01-05T18:11:05.904Z"
   },
   {
    "duration": 10,
    "start_time": "2023-01-05T18:11:05.934Z"
   },
   {
    "duration": 12,
    "start_time": "2023-01-05T18:11:05.946Z"
   },
   {
    "duration": 22,
    "start_time": "2023-01-05T18:11:05.960Z"
   },
   {
    "duration": 33,
    "start_time": "2023-01-05T18:11:05.984Z"
   },
   {
    "duration": 334,
    "start_time": "2023-01-05T18:11:06.019Z"
   },
   {
    "duration": 303,
    "start_time": "2023-01-05T18:11:06.355Z"
   },
   {
    "duration": 217,
    "start_time": "2023-01-05T18:11:06.660Z"
   },
   {
    "duration": 295,
    "start_time": "2023-01-05T18:11:06.878Z"
   },
   {
    "duration": 216,
    "start_time": "2023-01-05T18:11:07.174Z"
   },
   {
    "duration": 351,
    "start_time": "2023-01-05T18:11:07.391Z"
   },
   {
    "duration": 146,
    "start_time": "2023-01-05T18:11:07.744Z"
   },
   {
    "duration": 5,
    "start_time": "2023-01-05T18:11:07.892Z"
   },
   {
    "duration": 177,
    "start_time": "2023-01-05T18:11:07.900Z"
   },
   {
    "duration": 5,
    "start_time": "2023-01-05T18:11:08.079Z"
   },
   {
    "duration": 262,
    "start_time": "2023-01-05T18:11:08.088Z"
   },
   {
    "duration": 161,
    "start_time": "2023-01-05T18:11:08.352Z"
   },
   {
    "duration": 23,
    "start_time": "2023-01-05T18:11:08.515Z"
   },
   {
    "duration": 10,
    "start_time": "2023-01-05T18:11:08.540Z"
   },
   {
    "duration": 41,
    "start_time": "2023-01-05T18:11:08.552Z"
   },
   {
    "duration": 15,
    "start_time": "2023-01-05T18:11:08.596Z"
   },
   {
    "duration": 1157,
    "start_time": "2023-01-05T20:26:23.214Z"
   },
   {
    "duration": 80,
    "start_time": "2023-01-05T20:26:24.373Z"
   },
   {
    "duration": 12,
    "start_time": "2023-01-05T20:26:24.454Z"
   },
   {
    "duration": 10,
    "start_time": "2023-01-05T20:26:24.468Z"
   },
   {
    "duration": 17,
    "start_time": "2023-01-05T20:26:24.480Z"
   },
   {
    "duration": 6,
    "start_time": "2023-01-05T20:26:24.499Z"
   },
   {
    "duration": 20,
    "start_time": "2023-01-05T20:26:24.507Z"
   },
   {
    "duration": 33,
    "start_time": "2023-01-05T20:26:24.529Z"
   },
   {
    "duration": 74,
    "start_time": "2023-01-05T20:26:24.563Z"
   },
   {
    "duration": 11,
    "start_time": "2023-01-05T20:26:24.640Z"
   },
   {
    "duration": 9,
    "start_time": "2023-01-05T20:26:24.653Z"
   },
   {
    "duration": 7,
    "start_time": "2023-01-05T20:26:24.663Z"
   },
   {
    "duration": 62,
    "start_time": "2023-01-05T20:26:24.672Z"
   },
   {
    "duration": 12,
    "start_time": "2023-01-05T20:26:24.737Z"
   },
   {
    "duration": 8,
    "start_time": "2023-01-05T20:26:24.750Z"
   },
   {
    "duration": 8,
    "start_time": "2023-01-05T20:26:24.760Z"
   },
   {
    "duration": 9,
    "start_time": "2023-01-05T20:26:24.770Z"
   },
   {
    "duration": 339,
    "start_time": "2023-01-05T20:26:24.781Z"
   },
   {
    "duration": 311,
    "start_time": "2023-01-05T20:26:25.122Z"
   },
   {
    "duration": 209,
    "start_time": "2023-01-05T20:26:25.434Z"
   },
   {
    "duration": 335,
    "start_time": "2023-01-05T20:26:25.645Z"
   },
   {
    "duration": 265,
    "start_time": "2023-01-05T20:26:25.983Z"
   },
   {
    "duration": 357,
    "start_time": "2023-01-05T20:26:26.250Z"
   },
   {
    "duration": 143,
    "start_time": "2023-01-05T20:26:26.609Z"
   },
   {
    "duration": 5,
    "start_time": "2023-01-05T20:26:26.754Z"
   },
   {
    "duration": 172,
    "start_time": "2023-01-05T20:26:26.761Z"
   },
   {
    "duration": 5,
    "start_time": "2023-01-05T20:26:26.935Z"
   },
   {
    "duration": 273,
    "start_time": "2023-01-05T20:26:26.942Z"
   },
   {
    "duration": 201,
    "start_time": "2023-01-05T20:26:27.216Z"
   },
   {
    "duration": 12,
    "start_time": "2023-01-05T20:26:27.419Z"
   },
   {
    "duration": 28,
    "start_time": "2023-01-05T20:26:27.433Z"
   },
   {
    "duration": 40,
    "start_time": "2023-01-05T20:26:27.463Z"
   },
   {
    "duration": 18,
    "start_time": "2023-01-05T20:26:27.505Z"
   },
   {
    "duration": 106,
    "start_time": "2023-01-05T20:53:13.925Z"
   },
   {
    "duration": 19,
    "start_time": "2023-01-05T20:53:55.774Z"
   },
   {
    "duration": 15,
    "start_time": "2023-01-05T20:54:07.263Z"
   },
   {
    "duration": 49,
    "start_time": "2023-01-05T21:42:28.628Z"
   },
   {
    "duration": 1234,
    "start_time": "2023-01-05T21:42:40.575Z"
   },
   {
    "duration": 69,
    "start_time": "2023-01-05T21:42:41.812Z"
   },
   {
    "duration": 11,
    "start_time": "2023-01-05T21:42:41.883Z"
   },
   {
    "duration": 19,
    "start_time": "2023-01-05T21:42:41.896Z"
   },
   {
    "duration": 7,
    "start_time": "2023-01-05T21:42:41.918Z"
   },
   {
    "duration": 15,
    "start_time": "2023-01-05T21:42:41.927Z"
   },
   {
    "duration": 19,
    "start_time": "2023-01-05T21:42:41.944Z"
   },
   {
    "duration": 10,
    "start_time": "2023-01-05T21:42:41.965Z"
   },
   {
    "duration": 88,
    "start_time": "2023-01-05T21:42:41.977Z"
   },
   {
    "duration": 11,
    "start_time": "2023-01-05T21:42:42.067Z"
   },
   {
    "duration": 10,
    "start_time": "2023-01-05T21:42:42.080Z"
   },
   {
    "duration": 5,
    "start_time": "2023-01-05T21:42:42.092Z"
   },
   {
    "duration": 64,
    "start_time": "2023-01-05T21:42:42.099Z"
   },
   {
    "duration": 9,
    "start_time": "2023-01-05T21:42:42.166Z"
   },
   {
    "duration": 10,
    "start_time": "2023-01-05T21:42:42.177Z"
   },
   {
    "duration": 10,
    "start_time": "2023-01-05T21:42:42.189Z"
   },
   {
    "duration": 11,
    "start_time": "2023-01-05T21:42:42.201Z"
   },
   {
    "duration": 329,
    "start_time": "2023-01-05T21:42:42.214Z"
   },
   {
    "duration": 313,
    "start_time": "2023-01-05T21:42:42.545Z"
   },
   {
    "duration": 194,
    "start_time": "2023-01-05T21:42:42.860Z"
   },
   {
    "duration": 351,
    "start_time": "2023-01-05T21:42:43.057Z"
   },
   {
    "duration": 208,
    "start_time": "2023-01-05T21:42:43.410Z"
   },
   {
    "duration": 338,
    "start_time": "2023-01-05T21:42:43.620Z"
   },
   {
    "duration": 156,
    "start_time": "2023-01-05T21:42:43.959Z"
   },
   {
    "duration": 4,
    "start_time": "2023-01-05T21:42:44.117Z"
   },
   {
    "duration": 145,
    "start_time": "2023-01-05T21:42:44.123Z"
   },
   {
    "duration": 4,
    "start_time": "2023-01-05T21:42:44.270Z"
   },
   {
    "duration": 226,
    "start_time": "2023-01-05T21:42:44.276Z"
   },
   {
    "duration": 156,
    "start_time": "2023-01-05T21:42:44.504Z"
   },
   {
    "duration": 11,
    "start_time": "2023-01-05T21:42:44.662Z"
   },
   {
    "duration": 10,
    "start_time": "2023-01-05T21:42:44.675Z"
   },
   {
    "duration": 49,
    "start_time": "2023-01-05T21:42:44.687Z"
   },
   {
    "duration": 14,
    "start_time": "2023-01-05T21:42:44.738Z"
   },
   {
    "duration": 118,
    "start_time": "2023-01-05T21:42:58.569Z"
   },
   {
    "duration": 6,
    "start_time": "2023-01-05T21:43:09.788Z"
   },
   {
    "duration": 12,
    "start_time": "2023-01-05T21:43:43.580Z"
   },
   {
    "duration": 5,
    "start_time": "2023-01-05T21:43:49.244Z"
   },
   {
    "duration": 3,
    "start_time": "2023-01-05T21:43:57.833Z"
   },
   {
    "duration": 11,
    "start_time": "2023-01-05T21:43:58.249Z"
   },
   {
    "duration": 11,
    "start_time": "2023-01-05T21:47:34.270Z"
   },
   {
    "duration": 12,
    "start_time": "2023-01-05T21:47:58.069Z"
   },
   {
    "duration": 11,
    "start_time": "2023-01-05T21:48:37.385Z"
   },
   {
    "duration": 9,
    "start_time": "2023-01-05T21:49:00.052Z"
   },
   {
    "duration": 865,
    "start_time": "2023-01-05T22:20:49.568Z"
   },
   {
    "duration": 7,
    "start_time": "2023-01-05T22:21:58.729Z"
   },
   {
    "duration": 1114,
    "start_time": "2023-01-05T22:22:40.075Z"
   },
   {
    "duration": 38,
    "start_time": "2023-01-05T22:22:41.191Z"
   },
   {
    "duration": 12,
    "start_time": "2023-01-05T22:22:41.231Z"
   },
   {
    "duration": 11,
    "start_time": "2023-01-05T22:22:41.245Z"
   },
   {
    "duration": 20,
    "start_time": "2023-01-05T22:22:41.258Z"
   },
   {
    "duration": 14,
    "start_time": "2023-01-05T22:22:41.279Z"
   },
   {
    "duration": 7,
    "start_time": "2023-01-05T22:22:41.295Z"
   },
   {
    "duration": 16,
    "start_time": "2023-01-05T22:22:41.304Z"
   },
   {
    "duration": 12,
    "start_time": "2023-01-05T22:22:41.322Z"
   },
   {
    "duration": 26,
    "start_time": "2023-01-05T22:22:41.337Z"
   },
   {
    "duration": 51,
    "start_time": "2023-01-05T22:22:41.365Z"
   },
   {
    "duration": 11,
    "start_time": "2023-01-05T22:22:41.418Z"
   },
   {
    "duration": 8,
    "start_time": "2023-01-05T22:22:41.431Z"
   },
   {
    "duration": 10,
    "start_time": "2023-01-05T22:22:41.441Z"
   },
   {
    "duration": 40,
    "start_time": "2023-01-05T22:22:41.453Z"
   },
   {
    "duration": 13,
    "start_time": "2023-01-05T22:22:41.495Z"
   },
   {
    "duration": 12,
    "start_time": "2023-01-05T22:22:41.509Z"
   },
   {
    "duration": 11,
    "start_time": "2023-01-05T22:22:41.523Z"
   },
   {
    "duration": 27,
    "start_time": "2023-01-05T22:22:41.535Z"
   },
   {
    "duration": 906,
    "start_time": "2023-01-05T22:22:41.563Z"
   },
   {
    "duration": 0,
    "start_time": "2023-01-05T22:22:42.472Z"
   },
   {
    "duration": 0,
    "start_time": "2023-01-05T22:22:42.473Z"
   },
   {
    "duration": 0,
    "start_time": "2023-01-05T22:22:42.474Z"
   },
   {
    "duration": 0,
    "start_time": "2023-01-05T22:22:42.476Z"
   },
   {
    "duration": 0,
    "start_time": "2023-01-05T22:22:42.477Z"
   },
   {
    "duration": 0,
    "start_time": "2023-01-05T22:22:42.478Z"
   },
   {
    "duration": 0,
    "start_time": "2023-01-05T22:22:42.479Z"
   },
   {
    "duration": 0,
    "start_time": "2023-01-05T22:22:42.481Z"
   },
   {
    "duration": 0,
    "start_time": "2023-01-05T22:22:42.482Z"
   },
   {
    "duration": 0,
    "start_time": "2023-01-05T22:22:42.483Z"
   },
   {
    "duration": 0,
    "start_time": "2023-01-05T22:22:42.485Z"
   },
   {
    "duration": 0,
    "start_time": "2023-01-05T22:22:42.487Z"
   },
   {
    "duration": 0,
    "start_time": "2023-01-05T22:22:42.488Z"
   },
   {
    "duration": 0,
    "start_time": "2023-01-05T22:22:42.490Z"
   },
   {
    "duration": 0,
    "start_time": "2023-01-05T22:22:42.492Z"
   },
   {
    "duration": 0,
    "start_time": "2023-01-05T22:22:42.493Z"
   },
   {
    "duration": 22,
    "start_time": "2023-01-05T22:22:59.342Z"
   },
   {
    "duration": 13,
    "start_time": "2023-01-05T22:23:04.790Z"
   },
   {
    "duration": 1002,
    "start_time": "2023-01-05T22:24:50.446Z"
   },
   {
    "duration": 4,
    "start_time": "2023-01-05T22:24:58.006Z"
   },
   {
    "duration": 6,
    "start_time": "2023-01-05T22:29:21.102Z"
   },
   {
    "duration": 997,
    "start_time": "2023-01-05T22:29:29.391Z"
   },
   {
    "duration": 37,
    "start_time": "2023-01-05T22:29:30.390Z"
   },
   {
    "duration": 11,
    "start_time": "2023-01-05T22:29:30.429Z"
   },
   {
    "duration": 39,
    "start_time": "2023-01-05T22:29:30.443Z"
   },
   {
    "duration": 47,
    "start_time": "2023-01-05T22:29:30.484Z"
   },
   {
    "duration": 48,
    "start_time": "2023-01-05T22:29:30.533Z"
   },
   {
    "duration": 51,
    "start_time": "2023-01-05T22:29:30.583Z"
   },
   {
    "duration": 37,
    "start_time": "2023-01-05T22:29:30.636Z"
   },
   {
    "duration": 33,
    "start_time": "2023-01-05T22:29:30.675Z"
   },
   {
    "duration": 27,
    "start_time": "2023-01-05T22:29:30.711Z"
   },
   {
    "duration": 59,
    "start_time": "2023-01-05T22:29:30.740Z"
   },
   {
    "duration": 10,
    "start_time": "2023-01-05T22:29:30.800Z"
   },
   {
    "duration": 21,
    "start_time": "2023-01-05T22:29:30.812Z"
   },
   {
    "duration": 22,
    "start_time": "2023-01-05T22:29:30.835Z"
   },
   {
    "duration": 36,
    "start_time": "2023-01-05T22:29:30.858Z"
   },
   {
    "duration": 10,
    "start_time": "2023-01-05T22:29:30.895Z"
   },
   {
    "duration": 15,
    "start_time": "2023-01-05T22:29:30.906Z"
   },
   {
    "duration": 11,
    "start_time": "2023-01-05T22:29:30.922Z"
   },
   {
    "duration": 19,
    "start_time": "2023-01-05T22:29:30.935Z"
   },
   {
    "duration": 34,
    "start_time": "2023-01-05T22:29:30.956Z"
   },
   {
    "duration": 25,
    "start_time": "2023-01-05T22:29:30.992Z"
   },
   {
    "duration": 50,
    "start_time": "2023-01-05T22:29:31.019Z"
   },
   {
    "duration": 279,
    "start_time": "2023-01-05T22:29:31.070Z"
   },
   {
    "duration": 278,
    "start_time": "2023-01-05T22:29:31.351Z"
   },
   {
    "duration": 200,
    "start_time": "2023-01-05T22:29:31.631Z"
   },
   {
    "duration": 286,
    "start_time": "2023-01-05T22:29:31.835Z"
   },
   {
    "duration": 203,
    "start_time": "2023-01-05T22:29:32.123Z"
   },
   {
    "duration": 350,
    "start_time": "2023-01-05T22:29:32.335Z"
   },
   {
    "duration": 155,
    "start_time": "2023-01-05T22:29:32.687Z"
   },
   {
    "duration": 4,
    "start_time": "2023-01-05T22:29:32.843Z"
   },
   {
    "duration": 137,
    "start_time": "2023-01-05T22:29:32.849Z"
   },
   {
    "duration": 4,
    "start_time": "2023-01-05T22:29:32.988Z"
   },
   {
    "duration": 219,
    "start_time": "2023-01-05T22:29:32.994Z"
   },
   {
    "duration": 152,
    "start_time": "2023-01-05T22:29:33.215Z"
   },
   {
    "duration": 11,
    "start_time": "2023-01-05T22:29:33.369Z"
   },
   {
    "duration": 13,
    "start_time": "2023-01-05T22:29:33.382Z"
   },
   {
    "duration": 69,
    "start_time": "2023-01-05T22:29:33.396Z"
   },
   {
    "duration": 13,
    "start_time": "2023-01-05T22:29:33.467Z"
   },
   {
    "duration": 7,
    "start_time": "2023-01-05T22:31:11.000Z"
   },
   {
    "duration": 179,
    "start_time": "2023-01-05T22:38:11.257Z"
   },
   {
    "duration": 274,
    "start_time": "2023-01-05T22:39:51.928Z"
   },
   {
    "duration": 230,
    "start_time": "2023-01-05T22:43:48.923Z"
   },
   {
    "duration": 284,
    "start_time": "2023-01-05T22:47:06.379Z"
   },
   {
    "duration": 199,
    "start_time": "2023-01-05T22:47:11.717Z"
   },
   {
    "duration": 3,
    "start_time": "2023-01-05T22:47:55.788Z"
   },
   {
    "duration": 221,
    "start_time": "2023-01-05T22:47:57.849Z"
   },
   {
    "duration": 1102,
    "start_time": "2023-01-05T22:48:24.785Z"
   },
   {
    "duration": 37,
    "start_time": "2023-01-05T22:48:25.889Z"
   },
   {
    "duration": 12,
    "start_time": "2023-01-05T22:48:25.928Z"
   },
   {
    "duration": 15,
    "start_time": "2023-01-05T22:48:25.941Z"
   },
   {
    "duration": 14,
    "start_time": "2023-01-05T22:48:25.959Z"
   },
   {
    "duration": 25,
    "start_time": "2023-01-05T22:48:25.975Z"
   },
   {
    "duration": 29,
    "start_time": "2023-01-05T22:48:26.002Z"
   },
   {
    "duration": 25,
    "start_time": "2023-01-05T22:48:26.033Z"
   },
   {
    "duration": 15,
    "start_time": "2023-01-05T22:48:26.060Z"
   },
   {
    "duration": 25,
    "start_time": "2023-01-05T22:48:26.076Z"
   },
   {
    "duration": 75,
    "start_time": "2023-01-05T22:48:26.103Z"
   },
   {
    "duration": 10,
    "start_time": "2023-01-05T22:48:26.180Z"
   },
   {
    "duration": 13,
    "start_time": "2023-01-05T22:48:26.192Z"
   },
   {
    "duration": 10,
    "start_time": "2023-01-05T22:48:26.208Z"
   },
   {
    "duration": 36,
    "start_time": "2023-01-05T22:48:26.220Z"
   },
   {
    "duration": 9,
    "start_time": "2023-01-05T22:48:26.258Z"
   },
   {
    "duration": 10,
    "start_time": "2023-01-05T22:48:26.269Z"
   },
   {
    "duration": 11,
    "start_time": "2023-01-05T22:48:26.280Z"
   },
   {
    "duration": 14,
    "start_time": "2023-01-05T22:48:26.292Z"
   },
   {
    "duration": 15,
    "start_time": "2023-01-05T22:48:26.308Z"
   },
   {
    "duration": 3,
    "start_time": "2023-01-05T22:48:26.325Z"
   },
   {
    "duration": 18,
    "start_time": "2023-01-05T22:48:26.330Z"
   },
   {
    "duration": 288,
    "start_time": "2023-01-05T22:48:26.350Z"
   },
   {
    "duration": 3,
    "start_time": "2023-01-05T22:48:26.640Z"
   },
   {
    "duration": 337,
    "start_time": "2023-01-05T22:48:26.644Z"
   },
   {
    "duration": 209,
    "start_time": "2023-01-05T22:48:26.983Z"
   },
   {
    "duration": 316,
    "start_time": "2023-01-05T22:48:27.194Z"
   },
   {
    "duration": 218,
    "start_time": "2023-01-05T22:48:27.511Z"
   },
   {
    "duration": 334,
    "start_time": "2023-01-05T22:48:27.734Z"
   },
   {
    "duration": 166,
    "start_time": "2023-01-05T22:48:28.069Z"
   },
   {
    "duration": 4,
    "start_time": "2023-01-05T22:48:28.237Z"
   },
   {
    "duration": 156,
    "start_time": "2023-01-05T22:48:28.242Z"
   },
   {
    "duration": 4,
    "start_time": "2023-01-05T22:48:28.399Z"
   },
   {
    "duration": 216,
    "start_time": "2023-01-05T22:48:28.405Z"
   },
   {
    "duration": 150,
    "start_time": "2023-01-05T22:48:28.623Z"
   },
   {
    "duration": 10,
    "start_time": "2023-01-05T22:48:28.775Z"
   },
   {
    "duration": 19,
    "start_time": "2023-01-05T22:48:28.786Z"
   },
   {
    "duration": 39,
    "start_time": "2023-01-05T22:48:28.807Z"
   },
   {
    "duration": 13,
    "start_time": "2023-01-05T22:48:28.847Z"
   },
   {
    "duration": 226,
    "start_time": "2023-01-05T22:49:46.074Z"
   },
   {
    "duration": 287,
    "start_time": "2023-01-05T22:50:00.343Z"
   },
   {
    "duration": 321,
    "start_time": "2023-01-05T22:51:07.837Z"
   },
   {
    "duration": 316,
    "start_time": "2023-01-05T22:51:57.035Z"
   },
   {
    "duration": 244,
    "start_time": "2023-01-05T22:52:52.172Z"
   },
   {
    "duration": 337,
    "start_time": "2023-01-05T22:55:07.072Z"
   },
   {
    "duration": 229,
    "start_time": "2023-01-05T22:56:11.164Z"
   },
   {
    "duration": 298,
    "start_time": "2023-01-05T22:56:47.381Z"
   },
   {
    "duration": 325,
    "start_time": "2023-01-05T22:57:15.271Z"
   },
   {
    "duration": 236,
    "start_time": "2023-01-05T22:57:31.339Z"
   },
   {
    "duration": 375,
    "start_time": "2023-01-05T22:57:36.122Z"
   },
   {
    "duration": 296,
    "start_time": "2023-01-05T23:03:05.646Z"
   },
   {
    "duration": 316,
    "start_time": "2023-01-05T23:03:34.062Z"
   },
   {
    "duration": 243,
    "start_time": "2023-01-05T23:04:02.505Z"
   },
   {
    "duration": 319,
    "start_time": "2023-01-05T23:04:17.512Z"
   },
   {
    "duration": 213,
    "start_time": "2023-01-05T23:04:30.998Z"
   },
   {
    "duration": 216,
    "start_time": "2023-01-05T23:04:35.341Z"
   },
   {
    "duration": 326,
    "start_time": "2023-01-05T23:04:40.306Z"
   },
   {
    "duration": 168,
    "start_time": "2023-01-05T23:06:58.709Z"
   },
   {
    "duration": 190,
    "start_time": "2023-01-05T23:07:25.932Z"
   },
   {
    "duration": 150,
    "start_time": "2023-01-05T23:07:52.218Z"
   },
   {
    "duration": 144,
    "start_time": "2023-01-05T23:07:57.484Z"
   },
   {
    "duration": 150,
    "start_time": "2023-01-05T23:08:09.586Z"
   },
   {
    "duration": 162,
    "start_time": "2023-01-05T23:09:32.264Z"
   },
   {
    "duration": 188,
    "start_time": "2023-01-05T23:11:17.452Z"
   },
   {
    "duration": 1105,
    "start_time": "2023-01-05T23:11:22.087Z"
   },
   {
    "duration": 36,
    "start_time": "2023-01-05T23:11:23.194Z"
   },
   {
    "duration": 11,
    "start_time": "2023-01-05T23:11:23.231Z"
   },
   {
    "duration": 11,
    "start_time": "2023-01-05T23:11:23.244Z"
   },
   {
    "duration": 9,
    "start_time": "2023-01-05T23:11:23.256Z"
   },
   {
    "duration": 9,
    "start_time": "2023-01-05T23:11:23.267Z"
   },
   {
    "duration": 7,
    "start_time": "2023-01-05T23:11:23.277Z"
   },
   {
    "duration": 17,
    "start_time": "2023-01-05T23:11:23.285Z"
   },
   {
    "duration": 12,
    "start_time": "2023-01-05T23:11:23.304Z"
   },
   {
    "duration": 22,
    "start_time": "2023-01-05T23:11:23.318Z"
   },
   {
    "duration": 58,
    "start_time": "2023-01-05T23:11:23.342Z"
   },
   {
    "duration": 9,
    "start_time": "2023-01-05T23:11:23.401Z"
   },
   {
    "duration": 8,
    "start_time": "2023-01-05T23:11:23.412Z"
   },
   {
    "duration": 12,
    "start_time": "2023-01-05T23:11:23.422Z"
   },
   {
    "duration": 23,
    "start_time": "2023-01-05T23:11:23.435Z"
   },
   {
    "duration": 9,
    "start_time": "2023-01-05T23:11:23.459Z"
   },
   {
    "duration": 21,
    "start_time": "2023-01-05T23:11:23.470Z"
   },
   {
    "duration": 6,
    "start_time": "2023-01-05T23:11:23.493Z"
   },
   {
    "duration": 8,
    "start_time": "2023-01-05T23:11:23.501Z"
   },
   {
    "duration": 16,
    "start_time": "2023-01-05T23:11:23.511Z"
   },
   {
    "duration": 14,
    "start_time": "2023-01-05T23:11:23.529Z"
   },
   {
    "duration": 24,
    "start_time": "2023-01-05T23:11:23.544Z"
   },
   {
    "duration": 266,
    "start_time": "2023-01-05T23:11:23.569Z"
   },
   {
    "duration": 3,
    "start_time": "2023-01-05T23:11:23.836Z"
   },
   {
    "duration": 310,
    "start_time": "2023-01-05T23:11:23.841Z"
   },
   {
    "duration": 223,
    "start_time": "2023-01-05T23:11:24.153Z"
   },
   {
    "duration": 289,
    "start_time": "2023-01-05T23:11:24.378Z"
   },
   {
    "duration": 229,
    "start_time": "2023-01-05T23:11:24.670Z"
   },
   {
    "duration": 383,
    "start_time": "2023-01-05T23:11:24.901Z"
   },
   {
    "duration": 181,
    "start_time": "2023-01-05T23:11:25.285Z"
   },
   {
    "duration": 4,
    "start_time": "2023-01-05T23:11:25.468Z"
   },
   {
    "duration": 168,
    "start_time": "2023-01-05T23:11:25.473Z"
   },
   {
    "duration": 163,
    "start_time": "2023-01-05T23:11:25.642Z"
   },
   {
    "duration": 5,
    "start_time": "2023-01-05T23:11:25.806Z"
   },
   {
    "duration": 291,
    "start_time": "2023-01-05T23:11:25.812Z"
   },
   {
    "duration": 213,
    "start_time": "2023-01-05T23:11:26.105Z"
   },
   {
    "duration": 0,
    "start_time": "2023-01-05T23:11:26.320Z"
   },
   {
    "duration": 0,
    "start_time": "2023-01-05T23:11:26.322Z"
   },
   {
    "duration": 0,
    "start_time": "2023-01-05T23:11:26.323Z"
   },
   {
    "duration": 0,
    "start_time": "2023-01-05T23:11:26.324Z"
   },
   {
    "duration": 1106,
    "start_time": "2023-01-05T23:12:01.565Z"
   },
   {
    "duration": 37,
    "start_time": "2023-01-05T23:12:02.673Z"
   },
   {
    "duration": 13,
    "start_time": "2023-01-05T23:12:02.712Z"
   },
   {
    "duration": 31,
    "start_time": "2023-01-05T23:12:02.726Z"
   },
   {
    "duration": 9,
    "start_time": "2023-01-05T23:12:02.759Z"
   },
   {
    "duration": 13,
    "start_time": "2023-01-05T23:12:02.770Z"
   },
   {
    "duration": 15,
    "start_time": "2023-01-05T23:12:02.785Z"
   },
   {
    "duration": 22,
    "start_time": "2023-01-05T23:12:02.801Z"
   },
   {
    "duration": 12,
    "start_time": "2023-01-05T23:12:02.825Z"
   },
   {
    "duration": 22,
    "start_time": "2023-01-05T23:12:02.838Z"
   },
   {
    "duration": 60,
    "start_time": "2023-01-05T23:12:02.862Z"
   },
   {
    "duration": 9,
    "start_time": "2023-01-05T23:12:02.924Z"
   },
   {
    "duration": 29,
    "start_time": "2023-01-05T23:12:02.934Z"
   },
   {
    "duration": 9,
    "start_time": "2023-01-05T23:12:02.966Z"
   },
   {
    "duration": 29,
    "start_time": "2023-01-05T23:12:02.976Z"
   },
   {
    "duration": 10,
    "start_time": "2023-01-05T23:12:03.007Z"
   },
   {
    "duration": 13,
    "start_time": "2023-01-05T23:12:03.018Z"
   },
   {
    "duration": 12,
    "start_time": "2023-01-05T23:12:03.033Z"
   },
   {
    "duration": 23,
    "start_time": "2023-01-05T23:12:03.047Z"
   },
   {
    "duration": 44,
    "start_time": "2023-01-05T23:12:03.072Z"
   },
   {
    "duration": 6,
    "start_time": "2023-01-05T23:12:03.117Z"
   },
   {
    "duration": 29,
    "start_time": "2023-01-05T23:12:03.124Z"
   },
   {
    "duration": 278,
    "start_time": "2023-01-05T23:12:03.155Z"
   },
   {
    "duration": 2,
    "start_time": "2023-01-05T23:12:03.436Z"
   },
   {
    "duration": 298,
    "start_time": "2023-01-05T23:12:03.439Z"
   },
   {
    "duration": 246,
    "start_time": "2023-01-05T23:12:03.739Z"
   },
   {
    "duration": 351,
    "start_time": "2023-01-05T23:12:03.987Z"
   },
   {
    "duration": 240,
    "start_time": "2023-01-05T23:12:04.340Z"
   },
   {
    "duration": 351,
    "start_time": "2023-01-05T23:12:04.581Z"
   },
   {
    "duration": 171,
    "start_time": "2023-01-05T23:12:04.934Z"
   },
   {
    "duration": 3,
    "start_time": "2023-01-05T23:12:05.107Z"
   },
   {
    "duration": 158,
    "start_time": "2023-01-05T23:12:05.112Z"
   },
   {
    "duration": 159,
    "start_time": "2023-01-05T23:12:05.272Z"
   },
   {
    "duration": 4,
    "start_time": "2023-01-05T23:12:05.435Z"
   },
   {
    "duration": 281,
    "start_time": "2023-01-05T23:12:05.441Z"
   },
   {
    "duration": 145,
    "start_time": "2023-01-05T23:12:05.724Z"
   },
   {
    "duration": 10,
    "start_time": "2023-01-05T23:12:05.870Z"
   },
   {
    "duration": 10,
    "start_time": "2023-01-05T23:12:05.881Z"
   },
   {
    "duration": 50,
    "start_time": "2023-01-05T23:12:05.892Z"
   },
   {
    "duration": 15,
    "start_time": "2023-01-05T23:12:05.944Z"
   },
   {
    "duration": 218,
    "start_time": "2023-01-05T23:12:36.204Z"
   },
   {
    "duration": 974,
    "start_time": "2023-01-05T23:12:46.290Z"
   },
   {
    "duration": 35,
    "start_time": "2023-01-05T23:12:47.266Z"
   },
   {
    "duration": 10,
    "start_time": "2023-01-05T23:12:47.303Z"
   },
   {
    "duration": 19,
    "start_time": "2023-01-05T23:12:47.314Z"
   },
   {
    "duration": 39,
    "start_time": "2023-01-05T23:12:47.334Z"
   },
   {
    "duration": 34,
    "start_time": "2023-01-05T23:12:47.374Z"
   },
   {
    "duration": 24,
    "start_time": "2023-01-05T23:12:47.410Z"
   },
   {
    "duration": 43,
    "start_time": "2023-01-05T23:12:47.435Z"
   },
   {
    "duration": 19,
    "start_time": "2023-01-05T23:12:47.480Z"
   },
   {
    "duration": 19,
    "start_time": "2023-01-05T23:12:47.501Z"
   },
   {
    "duration": 46,
    "start_time": "2023-01-05T23:12:47.521Z"
   },
   {
    "duration": 9,
    "start_time": "2023-01-05T23:12:47.569Z"
   },
   {
    "duration": 17,
    "start_time": "2023-01-05T23:12:47.580Z"
   },
   {
    "duration": 25,
    "start_time": "2023-01-05T23:12:47.600Z"
   },
   {
    "duration": 30,
    "start_time": "2023-01-05T23:12:47.626Z"
   },
   {
    "duration": 10,
    "start_time": "2023-01-05T23:12:47.657Z"
   },
   {
    "duration": 30,
    "start_time": "2023-01-05T23:12:47.668Z"
   },
   {
    "duration": 21,
    "start_time": "2023-01-05T23:12:47.699Z"
   },
   {
    "duration": 15,
    "start_time": "2023-01-05T23:12:47.721Z"
   },
   {
    "duration": 25,
    "start_time": "2023-01-05T23:12:47.737Z"
   },
   {
    "duration": 5,
    "start_time": "2023-01-05T23:12:47.764Z"
   },
   {
    "duration": 7,
    "start_time": "2023-01-05T23:12:47.771Z"
   },
   {
    "duration": 260,
    "start_time": "2023-01-05T23:12:47.780Z"
   },
   {
    "duration": 3,
    "start_time": "2023-01-05T23:12:48.041Z"
   },
   {
    "duration": 287,
    "start_time": "2023-01-05T23:12:48.045Z"
   },
   {
    "duration": 230,
    "start_time": "2023-01-05T23:12:48.334Z"
   },
   {
    "duration": 297,
    "start_time": "2023-01-05T23:12:48.566Z"
   },
   {
    "duration": 245,
    "start_time": "2023-01-05T23:12:48.865Z"
   },
   {
    "duration": 368,
    "start_time": "2023-01-05T23:12:49.111Z"
   },
   {
    "duration": 174,
    "start_time": "2023-01-05T23:12:49.481Z"
   },
   {
    "duration": 4,
    "start_time": "2023-01-05T23:12:49.657Z"
   },
   {
    "duration": 163,
    "start_time": "2023-01-05T23:12:49.662Z"
   },
   {
    "duration": 154,
    "start_time": "2023-01-05T23:12:49.827Z"
   },
   {
    "duration": 4,
    "start_time": "2023-01-05T23:12:49.983Z"
   },
   {
    "duration": 300,
    "start_time": "2023-01-05T23:12:49.989Z"
   },
   {
    "duration": 162,
    "start_time": "2023-01-05T23:12:50.291Z"
   },
   {
    "duration": 9,
    "start_time": "2023-01-05T23:12:50.455Z"
   },
   {
    "duration": 12,
    "start_time": "2023-01-05T23:12:50.465Z"
   },
   {
    "duration": 26,
    "start_time": "2023-01-05T23:12:50.478Z"
   },
   {
    "duration": 36,
    "start_time": "2023-01-05T23:12:50.506Z"
   },
   {
    "duration": 2,
    "start_time": "2023-01-05T23:16:25.618Z"
   },
   {
    "duration": 1084,
    "start_time": "2023-01-05T23:16:55.213Z"
   },
   {
    "duration": 36,
    "start_time": "2023-01-05T23:16:56.299Z"
   },
   {
    "duration": 10,
    "start_time": "2023-01-05T23:16:56.337Z"
   },
   {
    "duration": 8,
    "start_time": "2023-01-05T23:16:56.349Z"
   },
   {
    "duration": 7,
    "start_time": "2023-01-05T23:16:56.358Z"
   },
   {
    "duration": 6,
    "start_time": "2023-01-05T23:16:56.367Z"
   },
   {
    "duration": 5,
    "start_time": "2023-01-05T23:16:56.375Z"
   },
   {
    "duration": 15,
    "start_time": "2023-01-05T23:16:56.381Z"
   },
   {
    "duration": 12,
    "start_time": "2023-01-05T23:16:56.397Z"
   },
   {
    "duration": 12,
    "start_time": "2023-01-05T23:16:56.435Z"
   },
   {
    "duration": 43,
    "start_time": "2023-01-05T23:16:56.449Z"
   },
   {
    "duration": 11,
    "start_time": "2023-01-05T23:16:56.494Z"
   },
   {
    "duration": 10,
    "start_time": "2023-01-05T23:16:56.506Z"
   },
   {
    "duration": 8,
    "start_time": "2023-01-05T23:16:56.517Z"
   },
   {
    "duration": 24,
    "start_time": "2023-01-05T23:16:56.526Z"
   },
   {
    "duration": 9,
    "start_time": "2023-01-05T23:16:56.551Z"
   },
   {
    "duration": 8,
    "start_time": "2023-01-05T23:16:56.562Z"
   },
   {
    "duration": 7,
    "start_time": "2023-01-05T23:16:56.571Z"
   },
   {
    "duration": 9,
    "start_time": "2023-01-05T23:16:56.579Z"
   },
   {
    "duration": 14,
    "start_time": "2023-01-05T23:16:56.590Z"
   },
   {
    "duration": 4,
    "start_time": "2023-01-05T23:16:56.606Z"
   },
   {
    "duration": 26,
    "start_time": "2023-01-05T23:16:56.612Z"
   },
   {
    "duration": 289,
    "start_time": "2023-01-05T23:16:56.639Z"
   },
   {
    "duration": 6,
    "start_time": "2023-01-05T23:16:56.929Z"
   },
   {
    "duration": 282,
    "start_time": "2023-01-05T23:16:56.937Z"
   },
   {
    "duration": 210,
    "start_time": "2023-01-05T23:16:57.221Z"
   },
   {
    "duration": 323,
    "start_time": "2023-01-05T23:16:57.436Z"
   },
   {
    "duration": 217,
    "start_time": "2023-01-05T23:16:57.763Z"
   },
   {
    "duration": 330,
    "start_time": "2023-01-05T23:16:57.981Z"
   },
   {
    "duration": 159,
    "start_time": "2023-01-05T23:16:58.313Z"
   },
   {
    "duration": 4,
    "start_time": "2023-01-05T23:16:58.473Z"
   },
   {
    "duration": 149,
    "start_time": "2023-01-05T23:16:58.478Z"
   },
   {
    "duration": 160,
    "start_time": "2023-01-05T23:16:58.629Z"
   },
   {
    "duration": 4,
    "start_time": "2023-01-05T23:16:58.791Z"
   },
   {
    "duration": 5,
    "start_time": "2023-01-05T23:16:58.796Z"
   },
   {
    "duration": 290,
    "start_time": "2023-01-05T23:16:58.803Z"
   },
   {
    "duration": 158,
    "start_time": "2023-01-05T23:16:59.094Z"
   },
   {
    "duration": 10,
    "start_time": "2023-01-05T23:16:59.254Z"
   },
   {
    "duration": 20,
    "start_time": "2023-01-05T23:16:59.265Z"
   },
   {
    "duration": 30,
    "start_time": "2023-01-05T23:16:59.286Z"
   },
   {
    "duration": 28,
    "start_time": "2023-01-05T23:16:59.317Z"
   },
   {
    "duration": 162,
    "start_time": "2023-01-05T23:18:03.894Z"
   },
   {
    "duration": 13,
    "start_time": "2023-01-05T23:19:46.646Z"
   },
   {
    "duration": 12,
    "start_time": "2023-01-05T23:19:55.336Z"
   },
   {
    "duration": 28,
    "start_time": "2023-01-05T23:21:00.537Z"
   },
   {
    "duration": 13,
    "start_time": "2023-01-05T23:22:12.317Z"
   },
   {
    "duration": 42,
    "start_time": "2023-01-05T23:22:22.644Z"
   },
   {
    "duration": 48,
    "start_time": "2023-01-05T23:22:27.771Z"
   },
   {
    "duration": 14,
    "start_time": "2023-01-05T23:22:59.220Z"
   },
   {
    "duration": 14,
    "start_time": "2023-01-05T23:23:03.506Z"
   },
   {
    "duration": 11,
    "start_time": "2023-01-05T23:42:25.069Z"
   },
   {
    "duration": 1086,
    "start_time": "2023-01-05T23:42:34.314Z"
   },
   {
    "duration": 36,
    "start_time": "2023-01-05T23:42:35.402Z"
   },
   {
    "duration": 13,
    "start_time": "2023-01-05T23:42:35.440Z"
   },
   {
    "duration": 9,
    "start_time": "2023-01-05T23:42:35.456Z"
   },
   {
    "duration": 14,
    "start_time": "2023-01-05T23:42:35.467Z"
   },
   {
    "duration": 14,
    "start_time": "2023-01-05T23:42:35.483Z"
   },
   {
    "duration": 11,
    "start_time": "2023-01-05T23:42:35.498Z"
   },
   {
    "duration": 32,
    "start_time": "2023-01-05T23:42:35.511Z"
   },
   {
    "duration": 13,
    "start_time": "2023-01-05T23:42:35.545Z"
   },
   {
    "duration": 19,
    "start_time": "2023-01-05T23:42:35.562Z"
   },
   {
    "duration": 47,
    "start_time": "2023-01-05T23:42:35.583Z"
   },
   {
    "duration": 10,
    "start_time": "2023-01-05T23:42:35.632Z"
   },
   {
    "duration": 15,
    "start_time": "2023-01-05T23:42:35.644Z"
   },
   {
    "duration": 6,
    "start_time": "2023-01-05T23:42:35.661Z"
   },
   {
    "duration": 29,
    "start_time": "2023-01-05T23:42:35.668Z"
   },
   {
    "duration": 11,
    "start_time": "2023-01-05T23:42:35.699Z"
   },
   {
    "duration": 25,
    "start_time": "2023-01-05T23:42:35.711Z"
   },
   {
    "duration": 37,
    "start_time": "2023-01-05T23:42:35.737Z"
   },
   {
    "duration": 24,
    "start_time": "2023-01-05T23:42:35.776Z"
   },
   {
    "duration": 35,
    "start_time": "2023-01-05T23:42:35.801Z"
   },
   {
    "duration": 17,
    "start_time": "2023-01-05T23:42:35.838Z"
   },
   {
    "duration": 19,
    "start_time": "2023-01-05T23:42:35.857Z"
   },
   {
    "duration": 274,
    "start_time": "2023-01-05T23:42:35.878Z"
   },
   {
    "duration": 4,
    "start_time": "2023-01-05T23:42:36.153Z"
   },
   {
    "duration": 311,
    "start_time": "2023-01-05T23:42:36.158Z"
   },
   {
    "duration": 241,
    "start_time": "2023-01-05T23:42:36.470Z"
   },
   {
    "duration": 337,
    "start_time": "2023-01-05T23:42:36.712Z"
   },
   {
    "duration": 245,
    "start_time": "2023-01-05T23:42:37.053Z"
   },
   {
    "duration": 385,
    "start_time": "2023-01-05T23:42:37.300Z"
   },
   {
    "duration": 179,
    "start_time": "2023-01-05T23:42:37.687Z"
   },
   {
    "duration": 5,
    "start_time": "2023-01-05T23:42:37.868Z"
   },
   {
    "duration": 179,
    "start_time": "2023-01-05T23:42:37.874Z"
   },
   {
    "duration": 158,
    "start_time": "2023-01-05T23:42:38.055Z"
   },
   {
    "duration": 4,
    "start_time": "2023-01-05T23:42:38.215Z"
   },
   {
    "duration": 14,
    "start_time": "2023-01-05T23:42:38.221Z"
   },
   {
    "duration": 282,
    "start_time": "2023-01-05T23:42:38.237Z"
   },
   {
    "duration": 148,
    "start_time": "2023-01-05T23:42:38.521Z"
   },
   {
    "duration": 11,
    "start_time": "2023-01-05T23:42:38.671Z"
   },
   {
    "duration": 33,
    "start_time": "2023-01-05T23:42:38.683Z"
   },
   {
    "duration": 41,
    "start_time": "2023-01-05T23:42:38.718Z"
   },
   {
    "duration": 14,
    "start_time": "2023-01-05T23:42:38.761Z"
   },
   {
    "duration": 1084,
    "start_time": "2023-01-05T23:44:45.773Z"
   },
   {
    "duration": 37,
    "start_time": "2023-01-05T23:44:46.859Z"
   },
   {
    "duration": 11,
    "start_time": "2023-01-05T23:44:46.898Z"
   },
   {
    "duration": 20,
    "start_time": "2023-01-05T23:44:46.912Z"
   },
   {
    "duration": 9,
    "start_time": "2023-01-05T23:44:46.934Z"
   },
   {
    "duration": 14,
    "start_time": "2023-01-05T23:44:46.945Z"
   },
   {
    "duration": 12,
    "start_time": "2023-01-05T23:44:46.960Z"
   },
   {
    "duration": 29,
    "start_time": "2023-01-05T23:44:46.974Z"
   },
   {
    "duration": 16,
    "start_time": "2023-01-05T23:44:47.005Z"
   },
   {
    "duration": 24,
    "start_time": "2023-01-05T23:44:47.023Z"
   },
   {
    "duration": 48,
    "start_time": "2023-01-05T23:44:47.048Z"
   },
   {
    "duration": 11,
    "start_time": "2023-01-05T23:44:47.097Z"
   },
   {
    "duration": 12,
    "start_time": "2023-01-05T23:44:47.109Z"
   },
   {
    "duration": 27,
    "start_time": "2023-01-05T23:44:47.122Z"
   },
   {
    "duration": 24,
    "start_time": "2023-01-05T23:44:47.151Z"
   },
   {
    "duration": 10,
    "start_time": "2023-01-05T23:44:47.177Z"
   },
   {
    "duration": 12,
    "start_time": "2023-01-05T23:44:47.189Z"
   },
   {
    "duration": 10,
    "start_time": "2023-01-05T23:44:47.203Z"
   },
   {
    "duration": 9,
    "start_time": "2023-01-05T23:44:47.215Z"
   },
   {
    "duration": 25,
    "start_time": "2023-01-05T23:44:47.225Z"
   },
   {
    "duration": 13,
    "start_time": "2023-01-05T23:44:47.251Z"
   },
   {
    "duration": 10,
    "start_time": "2023-01-05T23:44:47.266Z"
   },
   {
    "duration": 264,
    "start_time": "2023-01-05T23:44:47.278Z"
   },
   {
    "duration": 3,
    "start_time": "2023-01-05T23:44:47.544Z"
   },
   {
    "duration": 312,
    "start_time": "2023-01-05T23:44:47.549Z"
   },
   {
    "duration": 259,
    "start_time": "2023-01-05T23:44:47.863Z"
   },
   {
    "duration": 340,
    "start_time": "2023-01-05T23:44:48.124Z"
   },
   {
    "duration": 241,
    "start_time": "2023-01-05T23:44:48.467Z"
   },
   {
    "duration": 402,
    "start_time": "2023-01-05T23:44:48.710Z"
   },
   {
    "duration": 198,
    "start_time": "2023-01-05T23:44:49.115Z"
   },
   {
    "duration": 5,
    "start_time": "2023-01-05T23:44:49.316Z"
   },
   {
    "duration": 178,
    "start_time": "2023-01-05T23:44:49.322Z"
   },
   {
    "duration": 162,
    "start_time": "2023-01-05T23:44:49.502Z"
   },
   {
    "duration": 4,
    "start_time": "2023-01-05T23:44:49.666Z"
   },
   {
    "duration": 13,
    "start_time": "2023-01-05T23:44:49.672Z"
   },
   {
    "duration": 296,
    "start_time": "2023-01-05T23:44:49.687Z"
   },
   {
    "duration": 159,
    "start_time": "2023-01-05T23:44:49.984Z"
   },
   {
    "duration": 11,
    "start_time": "2023-01-05T23:44:50.145Z"
   },
   {
    "duration": 27,
    "start_time": "2023-01-05T23:44:50.157Z"
   },
   {
    "duration": 39,
    "start_time": "2023-01-05T23:44:50.186Z"
   },
   {
    "duration": 16,
    "start_time": "2023-01-05T23:44:50.227Z"
   },
   {
    "duration": 1069,
    "start_time": "2023-01-05T23:54:38.539Z"
   },
   {
    "duration": 35,
    "start_time": "2023-01-05T23:54:39.610Z"
   },
   {
    "duration": 10,
    "start_time": "2023-01-05T23:54:39.647Z"
   },
   {
    "duration": 12,
    "start_time": "2023-01-05T23:54:39.659Z"
   },
   {
    "duration": 24,
    "start_time": "2023-01-05T23:54:39.673Z"
   },
   {
    "duration": 17,
    "start_time": "2023-01-05T23:54:39.699Z"
   },
   {
    "duration": 11,
    "start_time": "2023-01-05T23:54:39.718Z"
   },
   {
    "duration": 16,
    "start_time": "2023-01-05T23:54:39.730Z"
   },
   {
    "duration": 11,
    "start_time": "2023-01-05T23:54:39.748Z"
   },
   {
    "duration": 24,
    "start_time": "2023-01-05T23:54:39.762Z"
   },
   {
    "duration": 45,
    "start_time": "2023-01-05T23:54:39.788Z"
   },
   {
    "duration": 10,
    "start_time": "2023-01-05T23:54:39.835Z"
   },
   {
    "duration": 19,
    "start_time": "2023-01-05T23:54:39.846Z"
   },
   {
    "duration": 11,
    "start_time": "2023-01-05T23:54:39.867Z"
   },
   {
    "duration": 34,
    "start_time": "2023-01-05T23:54:39.880Z"
   },
   {
    "duration": 10,
    "start_time": "2023-01-05T23:54:39.915Z"
   },
   {
    "duration": 11,
    "start_time": "2023-01-05T23:54:39.927Z"
   },
   {
    "duration": 10,
    "start_time": "2023-01-05T23:54:39.939Z"
   },
   {
    "duration": 16,
    "start_time": "2023-01-05T23:54:39.951Z"
   },
   {
    "duration": 29,
    "start_time": "2023-01-05T23:54:39.969Z"
   },
   {
    "duration": 4,
    "start_time": "2023-01-05T23:54:40.001Z"
   },
   {
    "duration": 18,
    "start_time": "2023-01-05T23:54:40.007Z"
   },
   {
    "duration": 291,
    "start_time": "2023-01-05T23:54:40.027Z"
   },
   {
    "duration": 3,
    "start_time": "2023-01-05T23:54:40.319Z"
   },
   {
    "duration": 308,
    "start_time": "2023-01-05T23:54:40.324Z"
   },
   {
    "duration": 220,
    "start_time": "2023-01-05T23:54:40.636Z"
   },
   {
    "duration": 310,
    "start_time": "2023-01-05T23:54:40.858Z"
   },
   {
    "duration": 244,
    "start_time": "2023-01-05T23:54:41.171Z"
   },
   {
    "duration": 378,
    "start_time": "2023-01-05T23:54:41.417Z"
   },
   {
    "duration": 169,
    "start_time": "2023-01-05T23:54:41.796Z"
   },
   {
    "duration": 4,
    "start_time": "2023-01-05T23:54:41.966Z"
   },
   {
    "duration": 175,
    "start_time": "2023-01-05T23:54:41.972Z"
   },
   {
    "duration": 162,
    "start_time": "2023-01-05T23:54:42.148Z"
   },
   {
    "duration": 5,
    "start_time": "2023-01-05T23:54:42.311Z"
   },
   {
    "duration": 18,
    "start_time": "2023-01-05T23:54:42.317Z"
   },
   {
    "duration": 314,
    "start_time": "2023-01-05T23:54:42.337Z"
   },
   {
    "duration": 164,
    "start_time": "2023-01-05T23:54:42.652Z"
   },
   {
    "duration": 19,
    "start_time": "2023-01-05T23:54:42.818Z"
   },
   {
    "duration": 10,
    "start_time": "2023-01-05T23:54:42.839Z"
   },
   {
    "duration": 34,
    "start_time": "2023-01-05T23:54:42.851Z"
   },
   {
    "duration": 14,
    "start_time": "2023-01-05T23:54:42.887Z"
   },
   {
    "duration": 8,
    "start_time": "2023-01-05T23:56:34.783Z"
   },
   {
    "duration": 1103,
    "start_time": "2023-01-05T23:57:09.589Z"
   },
   {
    "duration": 36,
    "start_time": "2023-01-05T23:57:10.695Z"
   },
   {
    "duration": 11,
    "start_time": "2023-01-05T23:57:10.733Z"
   },
   {
    "duration": 12,
    "start_time": "2023-01-05T23:57:10.745Z"
   },
   {
    "duration": 14,
    "start_time": "2023-01-05T23:57:10.760Z"
   },
   {
    "duration": 9,
    "start_time": "2023-01-05T23:57:10.776Z"
   },
   {
    "duration": 12,
    "start_time": "2023-01-05T23:57:10.788Z"
   },
   {
    "duration": 18,
    "start_time": "2023-01-05T23:57:10.802Z"
   },
   {
    "duration": 15,
    "start_time": "2023-01-05T23:57:10.822Z"
   },
   {
    "duration": 34,
    "start_time": "2023-01-05T23:57:10.839Z"
   },
   {
    "duration": 47,
    "start_time": "2023-01-05T23:57:10.875Z"
   },
   {
    "duration": 11,
    "start_time": "2023-01-05T23:57:10.924Z"
   },
   {
    "duration": 18,
    "start_time": "2023-01-05T23:57:10.937Z"
   },
   {
    "duration": 23,
    "start_time": "2023-01-05T23:57:10.959Z"
   },
   {
    "duration": 42,
    "start_time": "2023-01-05T23:57:10.984Z"
   },
   {
    "duration": 11,
    "start_time": "2023-01-05T23:57:11.028Z"
   },
   {
    "duration": 42,
    "start_time": "2023-01-05T23:57:11.041Z"
   },
   {
    "duration": 24,
    "start_time": "2023-01-05T23:57:11.084Z"
   },
   {
    "duration": 16,
    "start_time": "2023-01-05T23:57:11.110Z"
   },
   {
    "duration": 45,
    "start_time": "2023-01-05T23:57:11.128Z"
   },
   {
    "duration": 8,
    "start_time": "2023-01-05T23:57:11.175Z"
   },
   {
    "duration": 23,
    "start_time": "2023-01-05T23:57:11.184Z"
   },
   {
    "duration": 274,
    "start_time": "2023-01-05T23:57:11.208Z"
   },
   {
    "duration": 3,
    "start_time": "2023-01-05T23:57:11.484Z"
   },
   {
    "duration": 312,
    "start_time": "2023-01-05T23:57:11.488Z"
   },
   {
    "duration": 228,
    "start_time": "2023-01-05T23:57:11.801Z"
   },
   {
    "duration": 315,
    "start_time": "2023-01-05T23:57:12.034Z"
   },
   {
    "duration": 278,
    "start_time": "2023-01-05T23:57:12.351Z"
   },
   {
    "duration": 369,
    "start_time": "2023-01-05T23:57:12.630Z"
   },
   {
    "duration": 195,
    "start_time": "2023-01-05T23:57:13.000Z"
   },
   {
    "duration": 5,
    "start_time": "2023-01-05T23:57:13.197Z"
   },
   {
    "duration": 193,
    "start_time": "2023-01-05T23:57:13.204Z"
   },
   {
    "duration": 164,
    "start_time": "2023-01-05T23:57:13.399Z"
   },
   {
    "duration": 4,
    "start_time": "2023-01-05T23:57:13.565Z"
   },
   {
    "duration": 35,
    "start_time": "2023-01-05T23:57:13.571Z"
   },
   {
    "duration": 290,
    "start_time": "2023-01-05T23:57:13.608Z"
   },
   {
    "duration": 165,
    "start_time": "2023-01-05T23:57:13.900Z"
   },
   {
    "duration": 9,
    "start_time": "2023-01-05T23:57:14.067Z"
   },
   {
    "duration": 17,
    "start_time": "2023-01-05T23:57:14.078Z"
   },
   {
    "duration": 39,
    "start_time": "2023-01-05T23:57:14.097Z"
   },
   {
    "duration": 14,
    "start_time": "2023-01-05T23:57:14.139Z"
   },
   {
    "duration": 5,
    "start_time": "2023-01-05T23:57:26.307Z"
   },
   {
    "duration": 1081,
    "start_time": "2023-01-05T23:59:11.011Z"
   },
   {
    "duration": 36,
    "start_time": "2023-01-05T23:59:12.093Z"
   },
   {
    "duration": 11,
    "start_time": "2023-01-05T23:59:12.131Z"
   },
   {
    "duration": 7,
    "start_time": "2023-01-05T23:59:12.144Z"
   },
   {
    "duration": 17,
    "start_time": "2023-01-05T23:59:12.152Z"
   },
   {
    "duration": 18,
    "start_time": "2023-01-05T23:59:12.170Z"
   },
   {
    "duration": 16,
    "start_time": "2023-01-05T23:59:12.190Z"
   },
   {
    "duration": 20,
    "start_time": "2023-01-05T23:59:12.208Z"
   },
   {
    "duration": 11,
    "start_time": "2023-01-05T23:59:12.230Z"
   },
   {
    "duration": 24,
    "start_time": "2023-01-05T23:59:12.243Z"
   },
   {
    "duration": 51,
    "start_time": "2023-01-05T23:59:12.269Z"
   },
   {
    "duration": 10,
    "start_time": "2023-01-05T23:59:12.322Z"
   },
   {
    "duration": 16,
    "start_time": "2023-01-05T23:59:12.334Z"
   },
   {
    "duration": 21,
    "start_time": "2023-01-05T23:59:12.351Z"
   },
   {
    "duration": 32,
    "start_time": "2023-01-05T23:59:12.373Z"
   },
   {
    "duration": 13,
    "start_time": "2023-01-05T23:59:12.408Z"
   },
   {
    "duration": 28,
    "start_time": "2023-01-05T23:59:12.423Z"
   },
   {
    "duration": 16,
    "start_time": "2023-01-05T23:59:12.454Z"
   },
   {
    "duration": 20,
    "start_time": "2023-01-05T23:59:12.473Z"
   },
   {
    "duration": 32,
    "start_time": "2023-01-05T23:59:12.495Z"
   },
   {
    "duration": 13,
    "start_time": "2023-01-05T23:59:12.529Z"
   },
   {
    "duration": 30,
    "start_time": "2023-01-05T23:59:12.545Z"
   },
   {
    "duration": 279,
    "start_time": "2023-01-05T23:59:12.576Z"
   },
   {
    "duration": 3,
    "start_time": "2023-01-05T23:59:12.857Z"
   },
   {
    "duration": 320,
    "start_time": "2023-01-05T23:59:12.862Z"
   },
   {
    "duration": 238,
    "start_time": "2023-01-05T23:59:13.183Z"
   },
   {
    "duration": 332,
    "start_time": "2023-01-05T23:59:13.423Z"
   },
   {
    "duration": 250,
    "start_time": "2023-01-05T23:59:13.759Z"
   },
   {
    "duration": 382,
    "start_time": "2023-01-05T23:59:14.011Z"
   },
   {
    "duration": 176,
    "start_time": "2023-01-05T23:59:14.394Z"
   },
   {
    "duration": 4,
    "start_time": "2023-01-05T23:59:14.571Z"
   },
   {
    "duration": 172,
    "start_time": "2023-01-05T23:59:14.577Z"
   },
   {
    "duration": 161,
    "start_time": "2023-01-05T23:59:14.751Z"
   },
   {
    "duration": 5,
    "start_time": "2023-01-05T23:59:14.913Z"
   },
   {
    "duration": 17,
    "start_time": "2023-01-05T23:59:14.920Z"
   },
   {
    "duration": 299,
    "start_time": "2023-01-05T23:59:14.940Z"
   },
   {
    "duration": 158,
    "start_time": "2023-01-05T23:59:15.241Z"
   },
   {
    "duration": 12,
    "start_time": "2023-01-05T23:59:15.401Z"
   },
   {
    "duration": 42,
    "start_time": "2023-01-05T23:59:15.415Z"
   },
   {
    "duration": 47,
    "start_time": "2023-01-05T23:59:15.459Z"
   },
   {
    "duration": 14,
    "start_time": "2023-01-05T23:59:15.507Z"
   },
   {
    "duration": 1095,
    "start_time": "2023-01-06T00:07:32.109Z"
   },
   {
    "duration": 36,
    "start_time": "2023-01-06T00:07:33.206Z"
   },
   {
    "duration": 12,
    "start_time": "2023-01-06T00:07:33.244Z"
   },
   {
    "duration": 11,
    "start_time": "2023-01-06T00:07:33.258Z"
   },
   {
    "duration": 10,
    "start_time": "2023-01-06T00:07:33.271Z"
   },
   {
    "duration": 8,
    "start_time": "2023-01-06T00:07:33.283Z"
   },
   {
    "duration": 6,
    "start_time": "2023-01-06T00:07:33.292Z"
   },
   {
    "duration": 17,
    "start_time": "2023-01-06T00:07:33.300Z"
   },
   {
    "duration": 27,
    "start_time": "2023-01-06T00:07:33.318Z"
   },
   {
    "duration": 9,
    "start_time": "2023-01-06T00:07:33.347Z"
   },
   {
    "duration": 64,
    "start_time": "2023-01-06T00:07:33.358Z"
   },
   {
    "duration": 10,
    "start_time": "2023-01-06T00:07:33.424Z"
   },
   {
    "duration": 12,
    "start_time": "2023-01-06T00:07:33.436Z"
   },
   {
    "duration": 21,
    "start_time": "2023-01-06T00:07:33.449Z"
   },
   {
    "duration": 27,
    "start_time": "2023-01-06T00:07:33.471Z"
   },
   {
    "duration": 10,
    "start_time": "2023-01-06T00:07:33.500Z"
   },
   {
    "duration": 12,
    "start_time": "2023-01-06T00:07:33.512Z"
   },
   {
    "duration": 12,
    "start_time": "2023-01-06T00:07:33.526Z"
   },
   {
    "duration": 13,
    "start_time": "2023-01-06T00:07:33.540Z"
   },
   {
    "duration": 19,
    "start_time": "2023-01-06T00:07:33.555Z"
   },
   {
    "duration": 5,
    "start_time": "2023-01-06T00:07:33.576Z"
   },
   {
    "duration": 10,
    "start_time": "2023-01-06T00:07:33.582Z"
   },
   {
    "duration": 270,
    "start_time": "2023-01-06T00:07:33.593Z"
   },
   {
    "duration": 3,
    "start_time": "2023-01-06T00:07:33.864Z"
   },
   {
    "duration": 328,
    "start_time": "2023-01-06T00:07:33.868Z"
   },
   {
    "duration": 216,
    "start_time": "2023-01-06T00:07:34.198Z"
   },
   {
    "duration": 328,
    "start_time": "2023-01-06T00:07:34.416Z"
   },
   {
    "duration": 235,
    "start_time": "2023-01-06T00:07:34.746Z"
   },
   {
    "duration": 348,
    "start_time": "2023-01-06T00:07:34.982Z"
   },
   {
    "duration": 158,
    "start_time": "2023-01-06T00:07:35.331Z"
   },
   {
    "duration": 5,
    "start_time": "2023-01-06T00:07:35.490Z"
   },
   {
    "duration": 176,
    "start_time": "2023-01-06T00:07:35.496Z"
   },
   {
    "duration": 164,
    "start_time": "2023-01-06T00:07:35.673Z"
   },
   {
    "duration": 4,
    "start_time": "2023-01-06T00:07:35.838Z"
   },
   {
    "duration": 19,
    "start_time": "2023-01-06T00:07:35.843Z"
   },
   {
    "duration": 286,
    "start_time": "2023-01-06T00:07:35.863Z"
   },
   {
    "duration": 160,
    "start_time": "2023-01-06T00:07:36.150Z"
   },
   {
    "duration": 11,
    "start_time": "2023-01-06T00:07:36.311Z"
   },
   {
    "duration": 19,
    "start_time": "2023-01-06T00:07:36.323Z"
   },
   {
    "duration": 29,
    "start_time": "2023-01-06T00:07:36.344Z"
   },
   {
    "duration": 12,
    "start_time": "2023-01-06T00:07:36.375Z"
   },
   {
    "duration": 1138,
    "start_time": "2023-01-06T00:09:01.507Z"
   },
   {
    "duration": 38,
    "start_time": "2023-01-06T00:09:02.648Z"
   },
   {
    "duration": 11,
    "start_time": "2023-01-06T00:09:02.687Z"
   },
   {
    "duration": 25,
    "start_time": "2023-01-06T00:09:02.700Z"
   },
   {
    "duration": 15,
    "start_time": "2023-01-06T00:09:02.728Z"
   },
   {
    "duration": 10,
    "start_time": "2023-01-06T00:09:02.745Z"
   },
   {
    "duration": 13,
    "start_time": "2023-01-06T00:09:02.757Z"
   },
   {
    "duration": 28,
    "start_time": "2023-01-06T00:09:02.772Z"
   },
   {
    "duration": 12,
    "start_time": "2023-01-06T00:09:02.801Z"
   },
   {
    "duration": 21,
    "start_time": "2023-01-06T00:09:02.814Z"
   },
   {
    "duration": 57,
    "start_time": "2023-01-06T00:09:02.837Z"
   },
   {
    "duration": 11,
    "start_time": "2023-01-06T00:09:02.895Z"
   },
   {
    "duration": 14,
    "start_time": "2023-01-06T00:09:02.907Z"
   },
   {
    "duration": 13,
    "start_time": "2023-01-06T00:09:02.924Z"
   },
   {
    "duration": 29,
    "start_time": "2023-01-06T00:09:02.939Z"
   },
   {
    "duration": 10,
    "start_time": "2023-01-06T00:09:02.970Z"
   },
   {
    "duration": 12,
    "start_time": "2023-01-06T00:09:02.981Z"
   },
   {
    "duration": 9,
    "start_time": "2023-01-06T00:09:02.995Z"
   },
   {
    "duration": 17,
    "start_time": "2023-01-06T00:09:03.006Z"
   },
   {
    "duration": 26,
    "start_time": "2023-01-06T00:09:03.025Z"
   },
   {
    "duration": 30,
    "start_time": "2023-01-06T00:09:03.054Z"
   },
   {
    "duration": 28,
    "start_time": "2023-01-06T00:09:03.086Z"
   },
   {
    "duration": 291,
    "start_time": "2023-01-06T00:09:03.116Z"
   },
   {
    "duration": 3,
    "start_time": "2023-01-06T00:09:03.408Z"
   },
   {
    "duration": 322,
    "start_time": "2023-01-06T00:09:03.413Z"
   },
   {
    "duration": 238,
    "start_time": "2023-01-06T00:09:03.737Z"
   },
   {
    "duration": 333,
    "start_time": "2023-01-06T00:09:03.977Z"
   },
   {
    "duration": 247,
    "start_time": "2023-01-06T00:09:04.312Z"
   },
   {
    "duration": 342,
    "start_time": "2023-01-06T00:09:04.561Z"
   },
   {
    "duration": 185,
    "start_time": "2023-01-06T00:09:04.905Z"
   },
   {
    "duration": 5,
    "start_time": "2023-01-06T00:09:05.091Z"
   },
   {
    "duration": 170,
    "start_time": "2023-01-06T00:09:05.097Z"
   },
   {
    "duration": 171,
    "start_time": "2023-01-06T00:09:05.269Z"
   },
   {
    "duration": 4,
    "start_time": "2023-01-06T00:09:05.442Z"
   },
   {
    "duration": 14,
    "start_time": "2023-01-06T00:09:05.448Z"
   },
   {
    "duration": 314,
    "start_time": "2023-01-06T00:09:05.464Z"
   },
   {
    "duration": 156,
    "start_time": "2023-01-06T00:09:05.780Z"
   },
   {
    "duration": 10,
    "start_time": "2023-01-06T00:09:05.938Z"
   },
   {
    "duration": 23,
    "start_time": "2023-01-06T00:09:05.949Z"
   },
   {
    "duration": 38,
    "start_time": "2023-01-06T00:09:05.974Z"
   },
   {
    "duration": 13,
    "start_time": "2023-01-06T00:09:06.016Z"
   },
   {
    "duration": 1285,
    "start_time": "2023-01-07T00:18:40.723Z"
   },
   {
    "duration": 73,
    "start_time": "2023-01-07T00:18:42.011Z"
   },
   {
    "duration": 12,
    "start_time": "2023-01-07T00:18:42.085Z"
   },
   {
    "duration": 8,
    "start_time": "2023-01-07T00:18:42.098Z"
   },
   {
    "duration": 8,
    "start_time": "2023-01-07T00:18:42.107Z"
   },
   {
    "duration": 5,
    "start_time": "2023-01-07T00:18:42.117Z"
   },
   {
    "duration": 6,
    "start_time": "2023-01-07T00:18:42.123Z"
   },
   {
    "duration": 14,
    "start_time": "2023-01-07T00:18:42.131Z"
   },
   {
    "duration": 14,
    "start_time": "2023-01-07T00:18:42.147Z"
   },
   {
    "duration": 12,
    "start_time": "2023-01-07T00:18:42.164Z"
   },
   {
    "duration": 92,
    "start_time": "2023-01-07T00:18:42.178Z"
   },
   {
    "duration": 12,
    "start_time": "2023-01-07T00:18:42.272Z"
   },
   {
    "duration": 8,
    "start_time": "2023-01-07T00:18:42.286Z"
   },
   {
    "duration": 10,
    "start_time": "2023-01-07T00:18:42.295Z"
   },
   {
    "duration": 62,
    "start_time": "2023-01-07T00:18:42.306Z"
   },
   {
    "duration": 11,
    "start_time": "2023-01-07T00:18:42.369Z"
   },
   {
    "duration": 14,
    "start_time": "2023-01-07T00:18:42.381Z"
   },
   {
    "duration": 9,
    "start_time": "2023-01-07T00:18:42.396Z"
   },
   {
    "duration": 11,
    "start_time": "2023-01-07T00:18:42.407Z"
   },
   {
    "duration": 18,
    "start_time": "2023-01-07T00:18:42.420Z"
   },
   {
    "duration": 5,
    "start_time": "2023-01-07T00:18:42.440Z"
   },
   {
    "duration": 8,
    "start_time": "2023-01-07T00:18:42.447Z"
   },
   {
    "duration": 291,
    "start_time": "2023-01-07T00:18:42.457Z"
   },
   {
    "duration": 3,
    "start_time": "2023-01-07T00:18:42.749Z"
   },
   {
    "duration": 288,
    "start_time": "2023-01-07T00:18:42.754Z"
   },
   {
    "duration": 215,
    "start_time": "2023-01-07T00:18:43.044Z"
   },
   {
    "duration": 372,
    "start_time": "2023-01-07T00:18:43.261Z"
   },
   {
    "duration": 238,
    "start_time": "2023-01-07T00:18:43.637Z"
   },
   {
    "duration": 391,
    "start_time": "2023-01-07T00:18:43.877Z"
   },
   {
    "duration": 212,
    "start_time": "2023-01-07T00:18:44.270Z"
   },
   {
    "duration": 5,
    "start_time": "2023-01-07T00:18:44.484Z"
   },
   {
    "duration": 171,
    "start_time": "2023-01-07T00:18:44.491Z"
   },
   {
    "duration": 154,
    "start_time": "2023-01-07T00:18:44.664Z"
   },
   {
    "duration": 5,
    "start_time": "2023-01-07T00:18:44.819Z"
   },
   {
    "duration": 24,
    "start_time": "2023-01-07T00:18:44.826Z"
   },
   {
    "duration": 300,
    "start_time": "2023-01-07T00:18:44.852Z"
   },
   {
    "duration": 148,
    "start_time": "2023-01-07T00:18:45.154Z"
   },
   {
    "duration": 15,
    "start_time": "2023-01-07T00:18:45.304Z"
   },
   {
    "duration": 16,
    "start_time": "2023-01-07T00:18:45.320Z"
   },
   {
    "duration": 25,
    "start_time": "2023-01-07T00:18:45.338Z"
   },
   {
    "duration": 16,
    "start_time": "2023-01-07T00:18:45.365Z"
   },
   {
    "duration": 235,
    "start_time": "2023-01-07T00:19:14.107Z"
   },
   {
    "duration": 144,
    "start_time": "2023-01-07T00:19:14.922Z"
   },
   {
    "duration": 13,
    "start_time": "2023-01-07T00:19:17.493Z"
   },
   {
    "duration": 13,
    "start_time": "2023-01-07T00:19:19.391Z"
   },
   {
    "duration": 28,
    "start_time": "2023-01-07T00:19:19.628Z"
   },
   {
    "duration": 17,
    "start_time": "2023-01-07T00:19:21.184Z"
   },
   {
    "duration": 219,
    "start_time": "2023-01-07T00:19:41.035Z"
   },
   {
    "duration": 137,
    "start_time": "2023-01-07T00:19:41.651Z"
   },
   {
    "duration": 10,
    "start_time": "2023-01-07T00:19:43.233Z"
   },
   {
    "duration": 12,
    "start_time": "2023-01-07T00:19:44.800Z"
   },
   {
    "duration": 37,
    "start_time": "2023-01-07T00:19:44.953Z"
   },
   {
    "duration": 18,
    "start_time": "2023-01-07T00:19:46.844Z"
   },
   {
    "duration": 1064,
    "start_time": "2023-01-07T00:19:53.778Z"
   },
   {
    "duration": 40,
    "start_time": "2023-01-07T00:19:54.844Z"
   },
   {
    "duration": 13,
    "start_time": "2023-01-07T00:19:54.885Z"
   },
   {
    "duration": 15,
    "start_time": "2023-01-07T00:19:54.900Z"
   },
   {
    "duration": 13,
    "start_time": "2023-01-07T00:19:54.918Z"
   },
   {
    "duration": 13,
    "start_time": "2023-01-07T00:19:54.933Z"
   },
   {
    "duration": 11,
    "start_time": "2023-01-07T00:19:54.948Z"
   },
   {
    "duration": 17,
    "start_time": "2023-01-07T00:19:54.961Z"
   },
   {
    "duration": 10,
    "start_time": "2023-01-07T00:19:54.980Z"
   },
   {
    "duration": 15,
    "start_time": "2023-01-07T00:19:54.991Z"
   },
   {
    "duration": 45,
    "start_time": "2023-01-07T00:19:55.012Z"
   },
   {
    "duration": 13,
    "start_time": "2023-01-07T00:19:55.060Z"
   },
   {
    "duration": 17,
    "start_time": "2023-01-07T00:19:55.075Z"
   },
   {
    "duration": 9,
    "start_time": "2023-01-07T00:19:55.096Z"
   },
   {
    "duration": 30,
    "start_time": "2023-01-07T00:19:55.107Z"
   },
   {
    "duration": 9,
    "start_time": "2023-01-07T00:19:55.139Z"
   },
   {
    "duration": 14,
    "start_time": "2023-01-07T00:19:55.150Z"
   },
   {
    "duration": 7,
    "start_time": "2023-01-07T00:19:55.166Z"
   },
   {
    "duration": 9,
    "start_time": "2023-01-07T00:19:55.175Z"
   },
   {
    "duration": 15,
    "start_time": "2023-01-07T00:19:55.185Z"
   },
   {
    "duration": 4,
    "start_time": "2023-01-07T00:19:55.201Z"
   },
   {
    "duration": 11,
    "start_time": "2023-01-07T00:19:55.207Z"
   },
   {
    "duration": 294,
    "start_time": "2023-01-07T00:19:55.220Z"
   },
   {
    "duration": 4,
    "start_time": "2023-01-07T00:19:55.515Z"
   },
   {
    "duration": 282,
    "start_time": "2023-01-07T00:19:55.520Z"
   },
   {
    "duration": 232,
    "start_time": "2023-01-07T00:19:55.804Z"
   },
   {
    "duration": 300,
    "start_time": "2023-01-07T00:19:56.038Z"
   },
   {
    "duration": 288,
    "start_time": "2023-01-07T00:19:56.344Z"
   },
   {
    "duration": 406,
    "start_time": "2023-01-07T00:19:56.635Z"
   },
   {
    "duration": 179,
    "start_time": "2023-01-07T00:19:57.043Z"
   },
   {
    "duration": 5,
    "start_time": "2023-01-07T00:19:57.224Z"
   },
   {
    "duration": 241,
    "start_time": "2023-01-07T00:19:57.231Z"
   },
   {
    "duration": 157,
    "start_time": "2023-01-07T00:19:57.474Z"
   },
   {
    "duration": 4,
    "start_time": "2023-01-07T00:19:57.633Z"
   },
   {
    "duration": 12,
    "start_time": "2023-01-07T00:19:57.639Z"
   },
   {
    "duration": 283,
    "start_time": "2023-01-07T00:19:57.653Z"
   },
   {
    "duration": 239,
    "start_time": "2023-01-07T00:19:57.938Z"
   },
   {
    "duration": 0,
    "start_time": "2023-01-07T00:19:58.179Z"
   },
   {
    "duration": 0,
    "start_time": "2023-01-07T00:19:58.180Z"
   },
   {
    "duration": 0,
    "start_time": "2023-01-07T00:19:58.182Z"
   },
   {
    "duration": 0,
    "start_time": "2023-01-07T00:19:58.184Z"
   },
   {
    "duration": 1094,
    "start_time": "2023-01-07T00:20:30.375Z"
   },
   {
    "duration": 41,
    "start_time": "2023-01-07T00:20:31.470Z"
   },
   {
    "duration": 12,
    "start_time": "2023-01-07T00:20:31.513Z"
   },
   {
    "duration": 11,
    "start_time": "2023-01-07T00:20:31.527Z"
   },
   {
    "duration": 9,
    "start_time": "2023-01-07T00:20:31.540Z"
   },
   {
    "duration": 5,
    "start_time": "2023-01-07T00:20:31.551Z"
   },
   {
    "duration": 6,
    "start_time": "2023-01-07T00:20:31.557Z"
   },
   {
    "duration": 15,
    "start_time": "2023-01-07T00:20:31.564Z"
   },
   {
    "duration": 34,
    "start_time": "2023-01-07T00:20:31.580Z"
   },
   {
    "duration": 11,
    "start_time": "2023-01-07T00:20:31.616Z"
   },
   {
    "duration": 48,
    "start_time": "2023-01-07T00:20:31.628Z"
   },
   {
    "duration": 10,
    "start_time": "2023-01-07T00:20:31.678Z"
   },
   {
    "duration": 7,
    "start_time": "2023-01-07T00:20:31.689Z"
   },
   {
    "duration": 5,
    "start_time": "2023-01-07T00:20:31.699Z"
   },
   {
    "duration": 22,
    "start_time": "2023-01-07T00:20:31.706Z"
   },
   {
    "duration": 10,
    "start_time": "2023-01-07T00:20:31.729Z"
   },
   {
    "duration": 8,
    "start_time": "2023-01-07T00:20:31.741Z"
   },
   {
    "duration": 10,
    "start_time": "2023-01-07T00:20:31.752Z"
   },
   {
    "duration": 12,
    "start_time": "2023-01-07T00:20:31.764Z"
   },
   {
    "duration": 27,
    "start_time": "2023-01-07T00:20:31.778Z"
   },
   {
    "duration": 7,
    "start_time": "2023-01-07T00:20:31.807Z"
   },
   {
    "duration": 10,
    "start_time": "2023-01-07T00:20:31.816Z"
   },
   {
    "duration": 297,
    "start_time": "2023-01-07T00:20:31.828Z"
   },
   {
    "duration": 4,
    "start_time": "2023-01-07T00:20:32.126Z"
   },
   {
    "duration": 316,
    "start_time": "2023-01-07T00:20:32.132Z"
   },
   {
    "duration": 216,
    "start_time": "2023-01-07T00:20:32.449Z"
   },
   {
    "duration": 340,
    "start_time": "2023-01-07T00:20:32.667Z"
   },
   {
    "duration": 237,
    "start_time": "2023-01-07T00:20:33.009Z"
   },
   {
    "duration": 328,
    "start_time": "2023-01-07T00:20:33.248Z"
   },
   {
    "duration": 174,
    "start_time": "2023-01-07T00:20:33.578Z"
   },
   {
    "duration": 4,
    "start_time": "2023-01-07T00:20:33.753Z"
   },
   {
    "duration": 171,
    "start_time": "2023-01-07T00:20:33.759Z"
   },
   {
    "duration": 174,
    "start_time": "2023-01-07T00:20:33.932Z"
   },
   {
    "duration": 6,
    "start_time": "2023-01-07T00:20:34.108Z"
   },
   {
    "duration": 5,
    "start_time": "2023-01-07T00:20:34.116Z"
   },
   {
    "duration": 297,
    "start_time": "2023-01-07T00:20:34.123Z"
   },
   {
    "duration": 152,
    "start_time": "2023-01-07T00:20:34.421Z"
   },
   {
    "duration": 11,
    "start_time": "2023-01-07T00:20:34.575Z"
   },
   {
    "duration": 26,
    "start_time": "2023-01-07T00:20:34.587Z"
   },
   {
    "duration": 24,
    "start_time": "2023-01-07T00:20:34.614Z"
   },
   {
    "duration": 13,
    "start_time": "2023-01-07T00:20:34.641Z"
   },
   {
    "duration": 1043,
    "start_time": "2023-01-07T00:22:18.405Z"
   },
   {
    "duration": 39,
    "start_time": "2023-01-07T00:22:19.449Z"
   },
   {
    "duration": 10,
    "start_time": "2023-01-07T00:22:19.489Z"
   },
   {
    "duration": 8,
    "start_time": "2023-01-07T00:22:19.501Z"
   },
   {
    "duration": 6,
    "start_time": "2023-01-07T00:22:19.511Z"
   },
   {
    "duration": 10,
    "start_time": "2023-01-07T00:22:19.519Z"
   },
   {
    "duration": 5,
    "start_time": "2023-01-07T00:22:19.530Z"
   },
   {
    "duration": 15,
    "start_time": "2023-01-07T00:22:19.536Z"
   },
   {
    "duration": 18,
    "start_time": "2023-01-07T00:22:19.552Z"
   },
   {
    "duration": 14,
    "start_time": "2023-01-07T00:22:19.572Z"
   },
   {
    "duration": 47,
    "start_time": "2023-01-07T00:22:19.588Z"
   },
   {
    "duration": 10,
    "start_time": "2023-01-07T00:22:19.637Z"
   },
   {
    "duration": 11,
    "start_time": "2023-01-07T00:22:19.648Z"
   },
   {
    "duration": 14,
    "start_time": "2023-01-07T00:22:19.661Z"
   },
   {
    "duration": 23,
    "start_time": "2023-01-07T00:22:19.676Z"
   },
   {
    "duration": 9,
    "start_time": "2023-01-07T00:22:19.701Z"
   },
   {
    "duration": 6,
    "start_time": "2023-01-07T00:22:19.711Z"
   },
   {
    "duration": 11,
    "start_time": "2023-01-07T00:22:19.718Z"
   },
   {
    "duration": 8,
    "start_time": "2023-01-07T00:22:19.731Z"
   },
   {
    "duration": 36,
    "start_time": "2023-01-07T00:22:19.741Z"
   },
   {
    "duration": 4,
    "start_time": "2023-01-07T00:22:19.779Z"
   },
   {
    "duration": 11,
    "start_time": "2023-01-07T00:22:19.785Z"
   },
   {
    "duration": 265,
    "start_time": "2023-01-07T00:22:19.798Z"
   },
   {
    "duration": 4,
    "start_time": "2023-01-07T00:22:20.065Z"
   },
   {
    "duration": 322,
    "start_time": "2023-01-07T00:22:20.071Z"
   },
   {
    "duration": 211,
    "start_time": "2023-01-07T00:22:20.395Z"
   },
   {
    "duration": 307,
    "start_time": "2023-01-07T00:22:20.607Z"
   },
   {
    "duration": 243,
    "start_time": "2023-01-07T00:22:20.915Z"
   },
   {
    "duration": 337,
    "start_time": "2023-01-07T00:22:21.159Z"
   },
   {
    "duration": 170,
    "start_time": "2023-01-07T00:22:21.498Z"
   },
   {
    "duration": 4,
    "start_time": "2023-01-07T00:22:21.670Z"
   },
   {
    "duration": 184,
    "start_time": "2023-01-07T00:22:21.676Z"
   },
   {
    "duration": 154,
    "start_time": "2023-01-07T00:22:21.861Z"
   },
   {
    "duration": 4,
    "start_time": "2023-01-07T00:22:22.018Z"
   },
   {
    "duration": 12,
    "start_time": "2023-01-07T00:22:22.024Z"
   },
   {
    "duration": 304,
    "start_time": "2023-01-07T00:22:22.037Z"
   },
   {
    "duration": 157,
    "start_time": "2023-01-07T00:22:22.343Z"
   },
   {
    "duration": 22,
    "start_time": "2023-01-07T00:22:22.501Z"
   },
   {
    "duration": 16,
    "start_time": "2023-01-07T00:22:22.525Z"
   },
   {
    "duration": 71,
    "start_time": "2023-01-07T00:22:22.542Z"
   },
   {
    "duration": 16,
    "start_time": "2023-01-07T00:22:22.618Z"
   }
  ],
  "kernelspec": {
   "display_name": "Python 3 (ipykernel)",
   "language": "python",
   "name": "python3"
  },
  "language_info": {
   "codemirror_mode": {
    "name": "ipython",
    "version": 3
   },
   "file_extension": ".py",
   "mimetype": "text/x-python",
   "name": "python",
   "nbconvert_exporter": "python",
   "pygments_lexer": "ipython3",
   "version": "3.9.5"
  },
  "toc": {
   "base_numbering": 1,
   "nav_menu": {},
   "number_sections": true,
   "sideBar": true,
   "skip_h1_title": true,
   "title_cell": "Table of Contents",
   "title_sidebar": "Contents",
   "toc_cell": false,
   "toc_position": {},
   "toc_section_display": true,
   "toc_window_display": false
  }
 },
 "nbformat": 4,
 "nbformat_minor": 2
}
