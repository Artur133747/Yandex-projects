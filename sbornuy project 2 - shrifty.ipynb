{
 "cells": [
  {
   "cell_type": "markdown",
   "metadata": {},
   "source": [
    "# Сборный проект-2.  Целесообразность новых шрифтов в приложении продуктов питания.\n",
    "\n"
   ]
  },
  {
   "cell_type": "markdown",
   "metadata": {},
   "source": [
    "## Описание проекта"
   ]
  },
  {
   "cell_type": "markdown",
   "metadata": {},
   "source": [
    "Вы работаете в стартапе, который продаёт продукты питания. Нужно разобраться, как ведут себя пользователи вашего мобильного приложения. \n",
    "Изучите воронку продаж. Узнайте, как пользователи доходят до покупки. Сколько пользователей доходит до покупки, а сколько — «застревает» на предыдущих шагах? На каких именно?\n",
    "После этого исследуйте результаты A/A/B-эксперимента. Дизайнеры захотели поменять шрифты во всём приложении, а менеджеры испугались, что пользователям будет непривычно. Договорились принять решение по результатам A/A/B-теста. Пользователей разбили на 3 группы: 2 контрольные со старыми шрифтами и одну экспериментальную — с новыми. Выясните, какой шрифт лучше."
   ]
  },
  {
   "cell_type": "markdown",
   "metadata": {},
   "source": [
    "Импортируем необходимые библиотеки:"
   ]
  },
  {
   "cell_type": "code",
   "execution_count": 1,
   "metadata": {},
   "outputs": [],
   "source": [
    "import pandas as pd\n",
    "from datetime import datetime, timedelta\n",
    "import seaborn as sns\n",
    "from matplotlib import pyplot as plt\n",
    "import numpy as np\n",
    "import math as mth\n",
    "from scipy import stats as st\n",
    "import plotly.express as px\n",
    "from plotly import graph_objects as go"
   ]
  },
  {
   "cell_type": "markdown",
   "metadata": {},
   "source": [
    "## Предобработка данных"
   ]
  },
  {
   "cell_type": "code",
   "execution_count": 2,
   "metadata": {},
   "outputs": [],
   "source": [
    "data = pd.read_csv('/datasets/logs_exp.csv', sep='\\t')"
   ]
  },
  {
   "cell_type": "code",
   "execution_count": 3,
   "metadata": {},
   "outputs": [
    {
     "data": {
      "text/html": [
       "<div>\n",
       "<style scoped>\n",
       "    .dataframe tbody tr th:only-of-type {\n",
       "        vertical-align: middle;\n",
       "    }\n",
       "\n",
       "    .dataframe tbody tr th {\n",
       "        vertical-align: top;\n",
       "    }\n",
       "\n",
       "    .dataframe thead th {\n",
       "        text-align: right;\n",
       "    }\n",
       "</style>\n",
       "<table border=\"1\" class=\"dataframe\">\n",
       "  <thead>\n",
       "    <tr style=\"text-align: right;\">\n",
       "      <th></th>\n",
       "      <th>EventName</th>\n",
       "      <th>DeviceIDHash</th>\n",
       "      <th>EventTimestamp</th>\n",
       "      <th>ExpId</th>\n",
       "    </tr>\n",
       "  </thead>\n",
       "  <tbody>\n",
       "    <tr>\n",
       "      <th>0</th>\n",
       "      <td>MainScreenAppear</td>\n",
       "      <td>4575588528974610257</td>\n",
       "      <td>1564029816</td>\n",
       "      <td>246</td>\n",
       "    </tr>\n",
       "    <tr>\n",
       "      <th>1</th>\n",
       "      <td>MainScreenAppear</td>\n",
       "      <td>7416695313311560658</td>\n",
       "      <td>1564053102</td>\n",
       "      <td>246</td>\n",
       "    </tr>\n",
       "    <tr>\n",
       "      <th>2</th>\n",
       "      <td>PaymentScreenSuccessful</td>\n",
       "      <td>3518123091307005509</td>\n",
       "      <td>1564054127</td>\n",
       "      <td>248</td>\n",
       "    </tr>\n",
       "    <tr>\n",
       "      <th>3</th>\n",
       "      <td>CartScreenAppear</td>\n",
       "      <td>3518123091307005509</td>\n",
       "      <td>1564054127</td>\n",
       "      <td>248</td>\n",
       "    </tr>\n",
       "    <tr>\n",
       "      <th>4</th>\n",
       "      <td>PaymentScreenSuccessful</td>\n",
       "      <td>6217807653094995999</td>\n",
       "      <td>1564055322</td>\n",
       "      <td>248</td>\n",
       "    </tr>\n",
       "  </tbody>\n",
       "</table>\n",
       "</div>"
      ],
      "text/plain": [
       "                 EventName         DeviceIDHash  EventTimestamp  ExpId\n",
       "0         MainScreenAppear  4575588528974610257      1564029816    246\n",
       "1         MainScreenAppear  7416695313311560658      1564053102    246\n",
       "2  PaymentScreenSuccessful  3518123091307005509      1564054127    248\n",
       "3         CartScreenAppear  3518123091307005509      1564054127    248\n",
       "4  PaymentScreenSuccessful  6217807653094995999      1564055322    248"
      ]
     },
     "execution_count": 3,
     "metadata": {},
     "output_type": "execute_result"
    }
   ],
   "source": [
    "data.head()"
   ]
  },
  {
   "cell_type": "code",
   "execution_count": 4,
   "metadata": {},
   "outputs": [
    {
     "name": "stdout",
     "output_type": "stream",
     "text": [
      "<class 'pandas.core.frame.DataFrame'>\n",
      "RangeIndex: 244126 entries, 0 to 244125\n",
      "Data columns (total 4 columns):\n",
      " #   Column          Non-Null Count   Dtype \n",
      "---  ------          --------------   ----- \n",
      " 0   EventName       244126 non-null  object\n",
      " 1   DeviceIDHash    244126 non-null  int64 \n",
      " 2   EventTimestamp  244126 non-null  int64 \n",
      " 3   ExpId           244126 non-null  int64 \n",
      "dtypes: int64(3), object(1)\n",
      "memory usage: 7.5+ MB\n"
     ]
    }
   ],
   "source": [
    "data.info()"
   ]
  },
  {
   "cell_type": "markdown",
   "metadata": {},
   "source": [
    "Приведем названия колонок к необходимому стилю:"
   ]
  },
  {
   "cell_type": "code",
   "execution_count": 5,
   "metadata": {},
   "outputs": [
    {
     "data": {
      "text/html": [
       "<div>\n",
       "<style scoped>\n",
       "    .dataframe tbody tr th:only-of-type {\n",
       "        vertical-align: middle;\n",
       "    }\n",
       "\n",
       "    .dataframe tbody tr th {\n",
       "        vertical-align: top;\n",
       "    }\n",
       "\n",
       "    .dataframe thead th {\n",
       "        text-align: right;\n",
       "    }\n",
       "</style>\n",
       "<table border=\"1\" class=\"dataframe\">\n",
       "  <thead>\n",
       "    <tr style=\"text-align: right;\">\n",
       "      <th></th>\n",
       "      <th>eventname</th>\n",
       "      <th>deviceidhash</th>\n",
       "      <th>eventtimestamp</th>\n",
       "      <th>expid</th>\n",
       "    </tr>\n",
       "  </thead>\n",
       "  <tbody>\n",
       "    <tr>\n",
       "      <th>0</th>\n",
       "      <td>MainScreenAppear</td>\n",
       "      <td>4575588528974610257</td>\n",
       "      <td>1564029816</td>\n",
       "      <td>246</td>\n",
       "    </tr>\n",
       "    <tr>\n",
       "      <th>1</th>\n",
       "      <td>MainScreenAppear</td>\n",
       "      <td>7416695313311560658</td>\n",
       "      <td>1564053102</td>\n",
       "      <td>246</td>\n",
       "    </tr>\n",
       "    <tr>\n",
       "      <th>2</th>\n",
       "      <td>PaymentScreenSuccessful</td>\n",
       "      <td>3518123091307005509</td>\n",
       "      <td>1564054127</td>\n",
       "      <td>248</td>\n",
       "    </tr>\n",
       "    <tr>\n",
       "      <th>3</th>\n",
       "      <td>CartScreenAppear</td>\n",
       "      <td>3518123091307005509</td>\n",
       "      <td>1564054127</td>\n",
       "      <td>248</td>\n",
       "    </tr>\n",
       "    <tr>\n",
       "      <th>4</th>\n",
       "      <td>PaymentScreenSuccessful</td>\n",
       "      <td>6217807653094995999</td>\n",
       "      <td>1564055322</td>\n",
       "      <td>248</td>\n",
       "    </tr>\n",
       "  </tbody>\n",
       "</table>\n",
       "</div>"
      ],
      "text/plain": [
       "                 eventname         deviceidhash  eventtimestamp  expid\n",
       "0         MainScreenAppear  4575588528974610257      1564029816    246\n",
       "1         MainScreenAppear  7416695313311560658      1564053102    246\n",
       "2  PaymentScreenSuccessful  3518123091307005509      1564054127    248\n",
       "3         CartScreenAppear  3518123091307005509      1564054127    248\n",
       "4  PaymentScreenSuccessful  6217807653094995999      1564055322    248"
      ]
     },
     "execution_count": 5,
     "metadata": {},
     "output_type": "execute_result"
    }
   ],
   "source": [
    "data.columns = data.columns.str.lower()\n",
    "data.head()"
   ]
  },
  {
   "cell_type": "code",
   "execution_count": 6,
   "metadata": {},
   "outputs": [
    {
     "data": {
      "text/html": [
       "<div>\n",
       "<style scoped>\n",
       "    .dataframe tbody tr th:only-of-type {\n",
       "        vertical-align: middle;\n",
       "    }\n",
       "\n",
       "    .dataframe tbody tr th {\n",
       "        vertical-align: top;\n",
       "    }\n",
       "\n",
       "    .dataframe thead th {\n",
       "        text-align: right;\n",
       "    }\n",
       "</style>\n",
       "<table border=\"1\" class=\"dataframe\">\n",
       "  <thead>\n",
       "    <tr style=\"text-align: right;\">\n",
       "      <th></th>\n",
       "      <th>event_name</th>\n",
       "      <th>device_id_hash</th>\n",
       "      <th>event_timestamp</th>\n",
       "      <th>exp_id</th>\n",
       "    </tr>\n",
       "  </thead>\n",
       "  <tbody>\n",
       "    <tr>\n",
       "      <th>0</th>\n",
       "      <td>MainScreenAppear</td>\n",
       "      <td>4575588528974610257</td>\n",
       "      <td>1564029816</td>\n",
       "      <td>246</td>\n",
       "    </tr>\n",
       "    <tr>\n",
       "      <th>1</th>\n",
       "      <td>MainScreenAppear</td>\n",
       "      <td>7416695313311560658</td>\n",
       "      <td>1564053102</td>\n",
       "      <td>246</td>\n",
       "    </tr>\n",
       "    <tr>\n",
       "      <th>2</th>\n",
       "      <td>PaymentScreenSuccessful</td>\n",
       "      <td>3518123091307005509</td>\n",
       "      <td>1564054127</td>\n",
       "      <td>248</td>\n",
       "    </tr>\n",
       "    <tr>\n",
       "      <th>3</th>\n",
       "      <td>CartScreenAppear</td>\n",
       "      <td>3518123091307005509</td>\n",
       "      <td>1564054127</td>\n",
       "      <td>248</td>\n",
       "    </tr>\n",
       "    <tr>\n",
       "      <th>4</th>\n",
       "      <td>PaymentScreenSuccessful</td>\n",
       "      <td>6217807653094995999</td>\n",
       "      <td>1564055322</td>\n",
       "      <td>248</td>\n",
       "    </tr>\n",
       "  </tbody>\n",
       "</table>\n",
       "</div>"
      ],
      "text/plain": [
       "                event_name       device_id_hash  event_timestamp  exp_id\n",
       "0         MainScreenAppear  4575588528974610257       1564029816     246\n",
       "1         MainScreenAppear  7416695313311560658       1564053102     246\n",
       "2  PaymentScreenSuccessful  3518123091307005509       1564054127     248\n",
       "3         CartScreenAppear  3518123091307005509       1564054127     248\n",
       "4  PaymentScreenSuccessful  6217807653094995999       1564055322     248"
      ]
     },
     "execution_count": 6,
     "metadata": {},
     "output_type": "execute_result"
    }
   ],
   "source": [
    "data = data.rename(columns = {'eventname': 'event_name', 'deviceidhash': 'device_id_hash', 'eventtimestamp': 'event_timestamp', 'expid': 'exp_id'})\n",
    "data.head()"
   ]
  },
  {
   "cell_type": "markdown",
   "metadata": {},
   "source": [
    "Проверим датасет на наличие дубликатов:"
   ]
  },
  {
   "cell_type": "code",
   "execution_count": 7,
   "metadata": {},
   "outputs": [
    {
     "data": {
      "text/plain": [
       "413"
      ]
     },
     "execution_count": 7,
     "metadata": {},
     "output_type": "execute_result"
    }
   ],
   "source": [
    "data.duplicated().sum()"
   ]
  },
  {
   "cell_type": "markdown",
   "metadata": {},
   "source": [
    "Найдено 413 дубликатов."
   ]
  },
  {
   "cell_type": "markdown",
   "metadata": {},
   "source": [
    "Так же проверим датасет на наличие пропусков:"
   ]
  },
  {
   "cell_type": "code",
   "execution_count": 8,
   "metadata": {},
   "outputs": [
    {
     "data": {
      "text/plain": [
       "event_name         0\n",
       "device_id_hash     0\n",
       "event_timestamp    0\n",
       "exp_id             0\n",
       "dtype: int64"
      ]
     },
     "execution_count": 8,
     "metadata": {},
     "output_type": "execute_result"
    }
   ],
   "source": [
    "data.isna().sum()"
   ]
  },
  {
   "cell_type": "markdown",
   "metadata": {},
   "source": [
    "Так как количество дубликатов составляет малую часть данных, избавимся от них:"
   ]
  },
  {
   "cell_type": "code",
   "execution_count": 9,
   "metadata": {},
   "outputs": [
    {
     "data": {
      "text/plain": [
       "0"
      ]
     },
     "execution_count": 9,
     "metadata": {},
     "output_type": "execute_result"
    }
   ],
   "source": [
    "data = data.drop_duplicates().reset_index()\n",
    "data.duplicated().sum()"
   ]
  },
  {
   "cell_type": "markdown",
   "metadata": {},
   "source": [
    "Приведем данные с временем и датой к нужному типу:"
   ]
  },
  {
   "cell_type": "code",
   "execution_count": 10,
   "metadata": {},
   "outputs": [
    {
     "data": {
      "text/html": [
       "<div>\n",
       "<style scoped>\n",
       "    .dataframe tbody tr th:only-of-type {\n",
       "        vertical-align: middle;\n",
       "    }\n",
       "\n",
       "    .dataframe tbody tr th {\n",
       "        vertical-align: top;\n",
       "    }\n",
       "\n",
       "    .dataframe thead th {\n",
       "        text-align: right;\n",
       "    }\n",
       "</style>\n",
       "<table border=\"1\" class=\"dataframe\">\n",
       "  <thead>\n",
       "    <tr style=\"text-align: right;\">\n",
       "      <th></th>\n",
       "      <th>index</th>\n",
       "      <th>event_name</th>\n",
       "      <th>device_id_hash</th>\n",
       "      <th>event_timestamp</th>\n",
       "      <th>exp_id</th>\n",
       "      <th>event_datetime</th>\n",
       "      <th>event_date</th>\n",
       "    </tr>\n",
       "  </thead>\n",
       "  <tbody>\n",
       "    <tr>\n",
       "      <th>0</th>\n",
       "      <td>0</td>\n",
       "      <td>MainScreenAppear</td>\n",
       "      <td>4575588528974610257</td>\n",
       "      <td>1564029816</td>\n",
       "      <td>246</td>\n",
       "      <td>2019-07-25 04:43:36</td>\n",
       "      <td>2019-07-25</td>\n",
       "    </tr>\n",
       "    <tr>\n",
       "      <th>1</th>\n",
       "      <td>1</td>\n",
       "      <td>MainScreenAppear</td>\n",
       "      <td>7416695313311560658</td>\n",
       "      <td>1564053102</td>\n",
       "      <td>246</td>\n",
       "      <td>2019-07-25 11:11:42</td>\n",
       "      <td>2019-07-25</td>\n",
       "    </tr>\n",
       "    <tr>\n",
       "      <th>2</th>\n",
       "      <td>2</td>\n",
       "      <td>PaymentScreenSuccessful</td>\n",
       "      <td>3518123091307005509</td>\n",
       "      <td>1564054127</td>\n",
       "      <td>248</td>\n",
       "      <td>2019-07-25 11:28:47</td>\n",
       "      <td>2019-07-25</td>\n",
       "    </tr>\n",
       "    <tr>\n",
       "      <th>3</th>\n",
       "      <td>3</td>\n",
       "      <td>CartScreenAppear</td>\n",
       "      <td>3518123091307005509</td>\n",
       "      <td>1564054127</td>\n",
       "      <td>248</td>\n",
       "      <td>2019-07-25 11:28:47</td>\n",
       "      <td>2019-07-25</td>\n",
       "    </tr>\n",
       "    <tr>\n",
       "      <th>4</th>\n",
       "      <td>4</td>\n",
       "      <td>PaymentScreenSuccessful</td>\n",
       "      <td>6217807653094995999</td>\n",
       "      <td>1564055322</td>\n",
       "      <td>248</td>\n",
       "      <td>2019-07-25 11:48:42</td>\n",
       "      <td>2019-07-25</td>\n",
       "    </tr>\n",
       "  </tbody>\n",
       "</table>\n",
       "</div>"
      ],
      "text/plain": [
       "   index               event_name       device_id_hash  event_timestamp  \\\n",
       "0      0         MainScreenAppear  4575588528974610257       1564029816   \n",
       "1      1         MainScreenAppear  7416695313311560658       1564053102   \n",
       "2      2  PaymentScreenSuccessful  3518123091307005509       1564054127   \n",
       "3      3         CartScreenAppear  3518123091307005509       1564054127   \n",
       "4      4  PaymentScreenSuccessful  6217807653094995999       1564055322   \n",
       "\n",
       "   exp_id      event_datetime event_date  \n",
       "0     246 2019-07-25 04:43:36 2019-07-25  \n",
       "1     246 2019-07-25 11:11:42 2019-07-25  \n",
       "2     248 2019-07-25 11:28:47 2019-07-25  \n",
       "3     248 2019-07-25 11:28:47 2019-07-25  \n",
       "4     248 2019-07-25 11:48:42 2019-07-25  "
      ]
     },
     "execution_count": 10,
     "metadata": {},
     "output_type": "execute_result"
    }
   ],
   "source": [
    "data['event_datetime'] = pd.to_datetime(data['event_timestamp'], unit='s')\n",
    "data['event_date'] = pd.to_datetime(data['event_datetime']).dt.date.astype('datetime64[ns]')\n",
    "data.head()"
   ]
  },
  {
   "cell_type": "code",
   "execution_count": 11,
   "metadata": {},
   "outputs": [
    {
     "name": "stdout",
     "output_type": "stream",
     "text": [
      "<class 'pandas.core.frame.DataFrame'>\n",
      "RangeIndex: 243713 entries, 0 to 243712\n",
      "Data columns (total 7 columns):\n",
      " #   Column           Non-Null Count   Dtype         \n",
      "---  ------           --------------   -----         \n",
      " 0   index            243713 non-null  int64         \n",
      " 1   event_name       243713 non-null  object        \n",
      " 2   device_id_hash   243713 non-null  int64         \n",
      " 3   event_timestamp  243713 non-null  int64         \n",
      " 4   exp_id           243713 non-null  int64         \n",
      " 5   event_datetime   243713 non-null  datetime64[ns]\n",
      " 6   event_date       243713 non-null  datetime64[ns]\n",
      "dtypes: datetime64[ns](2), int64(4), object(1)\n",
      "memory usage: 13.0+ MB\n"
     ]
    }
   ],
   "source": [
    "data.info()"
   ]
  },
  {
   "cell_type": "markdown",
   "metadata": {},
   "source": [
    "Благодаря предобоработке, были исправлены названия стобцов на подходящие по стилю и исправлены типы данных на необходимые. Так же датасет был очищен от дубликатов. Пропусков найдено не было."
   ]
  },
  {
   "cell_type": "markdown",
   "metadata": {},
   "source": [
    "Проверим, не попали ли у нас одни и те же пользователи в разные группы:"
   ]
  },
  {
   "cell_type": "code",
   "execution_count": 12,
   "metadata": {},
   "outputs": [
    {
     "name": "stdout",
     "output_type": "stream",
     "text": [
      "Пересекающихся пользователей между 246ой и 247ой группами: 0\n",
      "Пересекающихся пользователей между 246ой и 248ой группами: 0\n",
      "Пересекающихся пользователей между 247ой и 248ой группами: 0\n"
     ]
    }
   ],
   "source": [
    "data_246 = data.query('exp_id == \"246\"')\n",
    "data_247 = data.query('exp_id == \"247\"')\n",
    "data_248 = data.query('exp_id == \"248\"')\n",
    "data_orders_cross_246_247 = data_246.merge(data_247, on='device_id_hash')['device_id_hash'].unique()\n",
    "print('Пересекающихся пользователей между 246ой и 247ой группами:', len(data_orders_cross_246_247))\n",
    "data_orders_cross_246_248 = data_246.merge(data_248, on='device_id_hash')['device_id_hash'].unique()\n",
    "print('Пересекающихся пользователей между 246ой и 248ой группами:', len(data_orders_cross_246_248))\n",
    "data_orders_cross_247_248 = data_247.merge(data_248, on='device_id_hash')['device_id_hash'].unique()\n",
    "print('Пересекающихся пользователей между 247ой и 248ой группами:', len(data_orders_cross_247_248))"
   ]
  },
  {
   "cell_type": "markdown",
   "metadata": {},
   "source": [
    "## Изучение и проверка данных:"
   ]
  },
  {
   "cell_type": "markdown",
   "metadata": {},
   "source": [
    "Узнаем количество событий в логах:"
   ]
  },
  {
   "cell_type": "code",
   "execution_count": 13,
   "metadata": {},
   "outputs": [
    {
     "name": "stdout",
     "output_type": "stream",
     "text": [
      "Количество событий в логах: 5\n"
     ]
    }
   ],
   "source": [
    "print('Количество событий в логах:', data['event_name'].nunique())"
   ]
  },
  {
   "cell_type": "markdown",
   "metadata": {},
   "source": [
    "Узнаем количество уникальных пользователей в логах:"
   ]
  },
  {
   "cell_type": "code",
   "execution_count": 14,
   "metadata": {},
   "outputs": [
    {
     "name": "stdout",
     "output_type": "stream",
     "text": [
      "Количество уникальных пользователей в логах: 7551\n"
     ]
    }
   ],
   "source": [
    "print('Количество уникальных пользователей в логах:', data['device_id_hash'].nunique())"
   ]
  },
  {
   "cell_type": "markdown",
   "metadata": {},
   "source": [
    "Узнаем сколько в среднем событий приходится на пользователя:"
   ]
  },
  {
   "cell_type": "code",
   "execution_count": 15,
   "metadata": {},
   "outputs": [
    {
     "name": "stdout",
     "output_type": "stream",
     "text": [
      "В среднем событий приходится на пользователя: 32.28\n"
     ]
    }
   ],
   "source": [
    "print('В среднем событий приходится на пользователя:', round(data['event_name'].count() / data['device_id_hash'].nunique(), 2))"
   ]
  },
  {
   "cell_type": "markdown",
   "metadata": {},
   "source": [
    "Узнаем, данными за какой период мы располагаем."
   ]
  },
  {
   "cell_type": "markdown",
   "metadata": {},
   "source": [
    "Найдем максимальную и минимальную дату:"
   ]
  },
  {
   "cell_type": "code",
   "execution_count": 16,
   "metadata": {},
   "outputs": [
    {
     "data": {
      "text/plain": [
       "Timestamp('2019-07-25 04:43:36')"
      ]
     },
     "execution_count": 16,
     "metadata": {},
     "output_type": "execute_result"
    }
   ],
   "source": [
    "data['event_datetime'].min()"
   ]
  },
  {
   "cell_type": "code",
   "execution_count": 17,
   "metadata": {},
   "outputs": [
    {
     "data": {
      "text/plain": [
       "Timestamp('2019-08-07 21:15:17')"
      ]
     },
     "execution_count": 17,
     "metadata": {},
     "output_type": "execute_result"
    }
   ],
   "source": [
    "data['event_datetime'].max()"
   ]
  },
  {
   "cell_type": "markdown",
   "metadata": {},
   "source": [
    "Построим гистограмму по дате и времени:"
   ]
  },
  {
   "cell_type": "code",
   "execution_count": 18,
   "metadata": {},
   "outputs": [],
   "source": [
    "plt.rcParams ['figure.figsize'] = [10, 7] # Увеличили графики во всем проекте."
   ]
  },
  {
   "cell_type": "code",
   "execution_count": 19,
   "metadata": {},
   "outputs": [
    {
     "data": {
      "text/plain": [
       "<AxesSubplot:title={'center':'Гистограмма по дате и времени'}, xlabel='Дата', ylabel='События'>"
      ]
     },
     "execution_count": 19,
     "metadata": {},
     "output_type": "execute_result"
    },
    {
     "data": {
      "image/png": "[encoded data removed]",
      "text/plain": [
       "<Figure size 1008x360 with 1 Axes>"
      ]
     },
     "metadata": {
      "needs_background": "light"
     },
     "output_type": "display_data"
    }
   ],
   "source": [
    "plt.title('Гистограмма по дате и времени')\n",
    "plt.xlabel('Дата')\n",
    "plt.ylabel('События')\n",
    "plt.xticks(rotation=90)\n",
    "data['event_datetime'].hist(bins=14*24, figsize=(14, 5))"
   ]
  },
  {
   "cell_type": "code",
   "execution_count": 20,
   "metadata": {},
   "outputs": [
    {
     "data": {
      "text/plain": [
       "<AxesSubplot:>"
      ]
     },
     "execution_count": 20,
     "metadata": {},
     "output_type": "execute_result"
    },
    {
     "data": {
      "image/png": "[encoded data removed]",
      "text/plain": [
       "<Figure size 1008x360 with 1 Axes>"
      ]
     },
     "metadata": {
      "needs_background": "light"
     },
     "output_type": "display_data"
    }
   ],
   "source": [
    "# код ревьюера\n",
    "data['event_datetime'].hist(bins=14*24, figsize=(14, 5))"
   ]
  },
  {
   "cell_type": "markdown",
   "metadata": {},
   "source": [
    "Посмотрим на количество событий по дням:"
   ]
  },
  {
   "cell_type": "code",
   "execution_count": 21,
   "metadata": {},
   "outputs": [
    {
     "data": {
      "text/html": [
       "<div>\n",
       "<style scoped>\n",
       "    .dataframe tbody tr th:only-of-type {\n",
       "        vertical-align: middle;\n",
       "    }\n",
       "\n",
       "    .dataframe tbody tr th {\n",
       "        vertical-align: top;\n",
       "    }\n",
       "\n",
       "    .dataframe thead th {\n",
       "        text-align: right;\n",
       "    }\n",
       "</style>\n",
       "<table border=\"1\" class=\"dataframe\">\n",
       "  <thead>\n",
       "    <tr style=\"text-align: right;\">\n",
       "      <th></th>\n",
       "      <th>event_date</th>\n",
       "      <th>event_name</th>\n",
       "    </tr>\n",
       "  </thead>\n",
       "  <tbody>\n",
       "    <tr>\n",
       "      <th>0</th>\n",
       "      <td>2019-07-25</td>\n",
       "      <td>9</td>\n",
       "    </tr>\n",
       "    <tr>\n",
       "      <th>1</th>\n",
       "      <td>2019-07-26</td>\n",
       "      <td>31</td>\n",
       "    </tr>\n",
       "    <tr>\n",
       "      <th>2</th>\n",
       "      <td>2019-07-27</td>\n",
       "      <td>55</td>\n",
       "    </tr>\n",
       "    <tr>\n",
       "      <th>3</th>\n",
       "      <td>2019-07-28</td>\n",
       "      <td>105</td>\n",
       "    </tr>\n",
       "    <tr>\n",
       "      <th>4</th>\n",
       "      <td>2019-07-29</td>\n",
       "      <td>184</td>\n",
       "    </tr>\n",
       "    <tr>\n",
       "      <th>5</th>\n",
       "      <td>2019-07-30</td>\n",
       "      <td>412</td>\n",
       "    </tr>\n",
       "    <tr>\n",
       "      <th>6</th>\n",
       "      <td>2019-07-31</td>\n",
       "      <td>2030</td>\n",
       "    </tr>\n",
       "    <tr>\n",
       "      <th>7</th>\n",
       "      <td>2019-08-01</td>\n",
       "      <td>36141</td>\n",
       "    </tr>\n",
       "    <tr>\n",
       "      <th>8</th>\n",
       "      <td>2019-08-02</td>\n",
       "      <td>35554</td>\n",
       "    </tr>\n",
       "    <tr>\n",
       "      <th>9</th>\n",
       "      <td>2019-08-03</td>\n",
       "      <td>33282</td>\n",
       "    </tr>\n",
       "    <tr>\n",
       "      <th>10</th>\n",
       "      <td>2019-08-04</td>\n",
       "      <td>32968</td>\n",
       "    </tr>\n",
       "    <tr>\n",
       "      <th>11</th>\n",
       "      <td>2019-08-05</td>\n",
       "      <td>36058</td>\n",
       "    </tr>\n",
       "    <tr>\n",
       "      <th>12</th>\n",
       "      <td>2019-08-06</td>\n",
       "      <td>35788</td>\n",
       "    </tr>\n",
       "    <tr>\n",
       "      <th>13</th>\n",
       "      <td>2019-08-07</td>\n",
       "      <td>31096</td>\n",
       "    </tr>\n",
       "  </tbody>\n",
       "</table>\n",
       "</div>"
      ],
      "text/plain": [
       "   event_date  event_name\n",
       "0  2019-07-25           9\n",
       "1  2019-07-26          31\n",
       "2  2019-07-27          55\n",
       "3  2019-07-28         105\n",
       "4  2019-07-29         184\n",
       "5  2019-07-30         412\n",
       "6  2019-07-31        2030\n",
       "7  2019-08-01       36141\n",
       "8  2019-08-02       35554\n",
       "9  2019-08-03       33282\n",
       "10 2019-08-04       32968\n",
       "11 2019-08-05       36058\n",
       "12 2019-08-06       35788\n",
       "13 2019-08-07       31096"
      ]
     },
     "execution_count": 21,
     "metadata": {},
     "output_type": "execute_result"
    }
   ],
   "source": [
    "logs_daily = data.groupby(by='event_date').agg({'event_name': 'count'}).reset_index()\n",
    "logs_daily"
   ]
  },
  {
   "cell_type": "markdown",
   "metadata": {},
   "source": [
    "Благодаря гистограмме и полученным данным можно утверждать, что мы располагаем полными данными только за период с 2019-08-01 по 2019-08-07."
   ]
  },
  {
   "cell_type": "markdown",
   "metadata": {},
   "source": [
    "Отфильтруем исходный датасет:"
   ]
  },
  {
   "cell_type": "code",
   "execution_count": 22,
   "metadata": {},
   "outputs": [
    {
     "data": {
      "text/html": [
       "<div>\n",
       "<style scoped>\n",
       "    .dataframe tbody tr th:only-of-type {\n",
       "        vertical-align: middle;\n",
       "    }\n",
       "\n",
       "    .dataframe tbody tr th {\n",
       "        vertical-align: top;\n",
       "    }\n",
       "\n",
       "    .dataframe thead th {\n",
       "        text-align: right;\n",
       "    }\n",
       "</style>\n",
       "<table border=\"1\" class=\"dataframe\">\n",
       "  <thead>\n",
       "    <tr style=\"text-align: right;\">\n",
       "      <th></th>\n",
       "      <th>index</th>\n",
       "      <th>event_name</th>\n",
       "      <th>device_id_hash</th>\n",
       "      <th>event_timestamp</th>\n",
       "      <th>exp_id</th>\n",
       "      <th>event_datetime</th>\n",
       "      <th>event_date</th>\n",
       "    </tr>\n",
       "  </thead>\n",
       "  <tbody>\n",
       "    <tr>\n",
       "      <th>2826</th>\n",
       "      <td>2828</td>\n",
       "      <td>Tutorial</td>\n",
       "      <td>3737462046622621720</td>\n",
       "      <td>1564618048</td>\n",
       "      <td>246</td>\n",
       "      <td>2019-08-01 00:07:28</td>\n",
       "      <td>2019-08-01</td>\n",
       "    </tr>\n",
       "    <tr>\n",
       "      <th>2827</th>\n",
       "      <td>2829</td>\n",
       "      <td>MainScreenAppear</td>\n",
       "      <td>3737462046622621720</td>\n",
       "      <td>1564618080</td>\n",
       "      <td>246</td>\n",
       "      <td>2019-08-01 00:08:00</td>\n",
       "      <td>2019-08-01</td>\n",
       "    </tr>\n",
       "    <tr>\n",
       "      <th>2828</th>\n",
       "      <td>2830</td>\n",
       "      <td>MainScreenAppear</td>\n",
       "      <td>3737462046622621720</td>\n",
       "      <td>1564618135</td>\n",
       "      <td>246</td>\n",
       "      <td>2019-08-01 00:08:55</td>\n",
       "      <td>2019-08-01</td>\n",
       "    </tr>\n",
       "    <tr>\n",
       "      <th>2829</th>\n",
       "      <td>2831</td>\n",
       "      <td>OffersScreenAppear</td>\n",
       "      <td>3737462046622621720</td>\n",
       "      <td>1564618138</td>\n",
       "      <td>246</td>\n",
       "      <td>2019-08-01 00:08:58</td>\n",
       "      <td>2019-08-01</td>\n",
       "    </tr>\n",
       "    <tr>\n",
       "      <th>2830</th>\n",
       "      <td>2832</td>\n",
       "      <td>MainScreenAppear</td>\n",
       "      <td>1433840883824088890</td>\n",
       "      <td>1564618139</td>\n",
       "      <td>247</td>\n",
       "      <td>2019-08-01 00:08:59</td>\n",
       "      <td>2019-08-01</td>\n",
       "    </tr>\n",
       "  </tbody>\n",
       "</table>\n",
       "</div>"
      ],
      "text/plain": [
       "      index          event_name       device_id_hash  event_timestamp  exp_id  \\\n",
       "2826   2828            Tutorial  3737462046622621720       1564618048     246   \n",
       "2827   2829    MainScreenAppear  3737462046622621720       1564618080     246   \n",
       "2828   2830    MainScreenAppear  3737462046622621720       1564618135     246   \n",
       "2829   2831  OffersScreenAppear  3737462046622621720       1564618138     246   \n",
       "2830   2832    MainScreenAppear  1433840883824088890       1564618139     247   \n",
       "\n",
       "          event_datetime event_date  \n",
       "2826 2019-08-01 00:07:28 2019-08-01  \n",
       "2827 2019-08-01 00:08:00 2019-08-01  \n",
       "2828 2019-08-01 00:08:55 2019-08-01  \n",
       "2829 2019-08-01 00:08:58 2019-08-01  \n",
       "2830 2019-08-01 00:08:59 2019-08-01  "
      ]
     },
     "execution_count": 22,
     "metadata": {},
     "output_type": "execute_result"
    }
   ],
   "source": [
    "data_filtered = data.query('event_datetime >= \"2019-08-01 00:00:00\"')\n",
    "data_filtered.head()"
   ]
  },
  {
   "cell_type": "markdown",
   "metadata": {},
   "source": [
    "Узнаем какое количество событий было отброшено:"
   ]
  },
  {
   "cell_type": "code",
   "execution_count": 23,
   "metadata": {},
   "outputs": [
    {
     "name": "stdout",
     "output_type": "stream",
     "text": [
      "Количество событий до: 243713 Количество событий после: 240887 Количество отброшенных событий: 2826\n"
     ]
    }
   ],
   "source": [
    "print('Количество событий до:', len(data), 'Количество событий после:', len(data_filtered), 'Количество отброшенных событий:', len(data) - len(data_filtered))"
   ]
  },
  {
   "cell_type": "code",
   "execution_count": 24,
   "metadata": {},
   "outputs": [
    {
     "name": "stdout",
     "output_type": "stream",
     "text": [
      "Количество пользователей до: 7551 Количество пользователей после: 7534 Количество отброшенных пользователей: 17\n"
     ]
    }
   ],
   "source": [
    "print('Количество пользователей до:', data['device_id_hash'].nunique(), 'Количество пользователей после:', data_filtered['device_id_hash'].nunique(), 'Количество отброшенных пользователей:', data['device_id_hash'].nunique() - data_filtered['device_id_hash'].nunique())"
   ]
  },
  {
   "cell_type": "code",
   "execution_count": 25,
   "metadata": {},
   "outputs": [
    {
     "name": "stdout",
     "output_type": "stream",
     "text": [
      "Событий потеряно: 1 %\n"
     ]
    }
   ],
   "source": [
    "print('Событий потеряно:', round(len(data['event_name']) / len(data_filtered['event_name'])), '%')"
   ]
  },
  {
   "cell_type": "code",
   "execution_count": 26,
   "metadata": {},
   "outputs": [
    {
     "name": "stdout",
     "output_type": "stream",
     "text": [
      "Пользователей потеряно 1 %\n"
     ]
    }
   ],
   "source": [
    "print('Пользователей потеряно', round(data['device_id_hash'].nunique() / data_filtered['device_id_hash'].nunique()), '%')\n"
   ]
  },
  {
   "cell_type": "markdown",
   "metadata": {},
   "source": [
    "Количество отброшенных событий: 2826. Количество отброшенных пользователей: 17. Событий потеряно: 1 %. Пользователей потеряно 1 %\n",
    ". Благодаря полученным данным ясно, что был отброшен незначительный их объем."
   ]
  },
  {
   "cell_type": "markdown",
   "metadata": {},
   "source": [
    "Проверим, что у нас есть все пользователи из трех экспериментальных групп:"
   ]
  },
  {
   "cell_type": "code",
   "execution_count": 27,
   "metadata": {},
   "outputs": [
    {
     "data": {
      "text/html": [
       "<div>\n",
       "<style scoped>\n",
       "    .dataframe tbody tr th:only-of-type {\n",
       "        vertical-align: middle;\n",
       "    }\n",
       "\n",
       "    .dataframe tbody tr th {\n",
       "        vertical-align: top;\n",
       "    }\n",
       "\n",
       "    .dataframe thead th {\n",
       "        text-align: right;\n",
       "    }\n",
       "</style>\n",
       "<table border=\"1\" class=\"dataframe\">\n",
       "  <thead>\n",
       "    <tr style=\"text-align: right;\">\n",
       "      <th></th>\n",
       "      <th>device_id_hash</th>\n",
       "    </tr>\n",
       "    <tr>\n",
       "      <th>exp_id</th>\n",
       "      <th></th>\n",
       "    </tr>\n",
       "  </thead>\n",
       "  <tbody>\n",
       "    <tr>\n",
       "      <th>246</th>\n",
       "      <td>2484</td>\n",
       "    </tr>\n",
       "    <tr>\n",
       "      <th>247</th>\n",
       "      <td>2513</td>\n",
       "    </tr>\n",
       "    <tr>\n",
       "      <th>248</th>\n",
       "      <td>2537</td>\n",
       "    </tr>\n",
       "  </tbody>\n",
       "</table>\n",
       "</div>"
      ],
      "text/plain": [
       "        device_id_hash\n",
       "exp_id                \n",
       "246               2484\n",
       "247               2513\n",
       "248               2537"
      ]
     },
     "execution_count": 27,
     "metadata": {},
     "output_type": "execute_result"
    }
   ],
   "source": [
    "data_filtered.groupby('exp_id').agg({'device_id_hash': 'nunique'})"
   ]
  },
  {
   "cell_type": "markdown",
   "metadata": {},
   "source": [
    "## Изучение воронки событий"
   ]
  },
  {
   "cell_type": "markdown",
   "metadata": {},
   "source": [
    "Посмотрим, какие события есть в логах, как часто они встречаются. Отсортируем события по частоте."
   ]
  },
  {
   "cell_type": "code",
   "execution_count": 28,
   "metadata": {},
   "outputs": [
    {
     "data": {
      "text/html": [
       "<div>\n",
       "<style scoped>\n",
       "    .dataframe tbody tr th:only-of-type {\n",
       "        vertical-align: middle;\n",
       "    }\n",
       "\n",
       "    .dataframe tbody tr th {\n",
       "        vertical-align: top;\n",
       "    }\n",
       "\n",
       "    .dataframe thead th {\n",
       "        text-align: right;\n",
       "    }\n",
       "</style>\n",
       "<table border=\"1\" class=\"dataframe\">\n",
       "  <thead>\n",
       "    <tr style=\"text-align: right;\">\n",
       "      <th></th>\n",
       "      <th>event_name</th>\n",
       "      <th>logs</th>\n",
       "    </tr>\n",
       "  </thead>\n",
       "  <tbody>\n",
       "    <tr>\n",
       "      <th>0</th>\n",
       "      <td>MainScreenAppear</td>\n",
       "      <td>117328</td>\n",
       "    </tr>\n",
       "    <tr>\n",
       "      <th>1</th>\n",
       "      <td>OffersScreenAppear</td>\n",
       "      <td>46333</td>\n",
       "    </tr>\n",
       "    <tr>\n",
       "      <th>2</th>\n",
       "      <td>CartScreenAppear</td>\n",
       "      <td>42303</td>\n",
       "    </tr>\n",
       "    <tr>\n",
       "      <th>3</th>\n",
       "      <td>PaymentScreenSuccessful</td>\n",
       "      <td>33918</td>\n",
       "    </tr>\n",
       "    <tr>\n",
       "      <th>4</th>\n",
       "      <td>Tutorial</td>\n",
       "      <td>1005</td>\n",
       "    </tr>\n",
       "  </tbody>\n",
       "</table>\n",
       "</div>"
      ],
      "text/plain": [
       "                event_name    logs\n",
       "0         MainScreenAppear  117328\n",
       "1       OffersScreenAppear   46333\n",
       "2         CartScreenAppear   42303\n",
       "3  PaymentScreenSuccessful   33918\n",
       "4                 Tutorial    1005"
      ]
     },
     "execution_count": 28,
     "metadata": {},
     "output_type": "execute_result"
    }
   ],
   "source": [
    "data_events = data_filtered.value_counts('event_name').reset_index()\n",
    "data_events.columns = ['event_name', 'logs']\n",
    "data_events"
   ]
  },
  {
   "cell_type": "markdown",
   "metadata": {},
   "source": [
    "Посчитаем, сколько пользователей совершали каждое из событий. Отсортируем события по числу пользователей. Посчитаем долю пользователей, которые хоть раз совершали событие."
   ]
  },
  {
   "cell_type": "code",
   "execution_count": 29,
   "metadata": {},
   "outputs": [
    {
     "data": {
      "text/html": [
       "<div>\n",
       "<style scoped>\n",
       "    .dataframe tbody tr th:only-of-type {\n",
       "        vertical-align: middle;\n",
       "    }\n",
       "\n",
       "    .dataframe tbody tr th {\n",
       "        vertical-align: top;\n",
       "    }\n",
       "\n",
       "    .dataframe thead th {\n",
       "        text-align: right;\n",
       "    }\n",
       "</style>\n",
       "<table border=\"1\" class=\"dataframe\">\n",
       "  <thead>\n",
       "    <tr style=\"text-align: right;\">\n",
       "      <th></th>\n",
       "      <th>event_name</th>\n",
       "      <th>event_count</th>\n",
       "      <th>users_count</th>\n",
       "    </tr>\n",
       "  </thead>\n",
       "  <tbody>\n",
       "    <tr>\n",
       "      <th>0</th>\n",
       "      <td>MainScreenAppear</td>\n",
       "      <td>117328</td>\n",
       "      <td>7419</td>\n",
       "    </tr>\n",
       "    <tr>\n",
       "      <th>1</th>\n",
       "      <td>OffersScreenAppear</td>\n",
       "      <td>46333</td>\n",
       "      <td>4593</td>\n",
       "    </tr>\n",
       "    <tr>\n",
       "      <th>2</th>\n",
       "      <td>CartScreenAppear</td>\n",
       "      <td>42303</td>\n",
       "      <td>3734</td>\n",
       "    </tr>\n",
       "    <tr>\n",
       "      <th>3</th>\n",
       "      <td>PaymentScreenSuccessful</td>\n",
       "      <td>33918</td>\n",
       "      <td>3539</td>\n",
       "    </tr>\n",
       "    <tr>\n",
       "      <th>4</th>\n",
       "      <td>Tutorial</td>\n",
       "      <td>1005</td>\n",
       "      <td>840</td>\n",
       "    </tr>\n",
       "  </tbody>\n",
       "</table>\n",
       "</div>"
      ],
      "text/plain": [
       "                event_name  event_count  users_count\n",
       "0         MainScreenAppear       117328         7419\n",
       "1       OffersScreenAppear        46333         4593\n",
       "2         CartScreenAppear        42303         3734\n",
       "3  PaymentScreenSuccessful        33918         3539\n",
       "4                 Tutorial         1005          840"
      ]
     },
     "execution_count": 29,
     "metadata": {},
     "output_type": "execute_result"
    }
   ],
   "source": [
    "data_users = data_filtered.groupby('event_name').agg({'device_id_hash':'nunique'}).sort_values('device_id_hash', ascending=False)\n",
    "data_users = data_events.merge(data_users, on = 'event_name')\n",
    "data_users.columns = ['event_name', 'event_count', 'users_count']\n",
    "data_users"
   ]
  },
  {
   "cell_type": "code",
   "execution_count": 30,
   "metadata": {},
   "outputs": [
    {
     "data": {
      "text/html": [
       "<style  type=\"text/css\" >\n",
       "</style><table id=\"T_d4ef2_\" ><thead>    <tr>        <th class=\"blank level0\" ></th>        <th class=\"col_heading level0 col0\" >event_name</th>        <th class=\"col_heading level0 col1\" >event_count</th>        <th class=\"col_heading level0 col2\" >users_count</th>        <th class=\"col_heading level0 col3\" >users_count/users_all</th>    </tr></thead><tbody>\n",
       "                <tr>\n",
       "                        <th id=\"T_d4ef2_level0_row0\" class=\"row_heading level0 row0\" >0</th>\n",
       "                        <td id=\"T_d4ef2_row0_col0\" class=\"data row0 col0\" >MainScreenAppear</td>\n",
       "                        <td id=\"T_d4ef2_row0_col1\" class=\"data row0 col1\" >117328</td>\n",
       "                        <td id=\"T_d4ef2_row0_col2\" class=\"data row0 col2\" >7419</td>\n",
       "                        <td id=\"T_d4ef2_row0_col3\" class=\"data row0 col3\" >98.25%</td>\n",
       "            </tr>\n",
       "            <tr>\n",
       "                        <th id=\"T_d4ef2_level0_row1\" class=\"row_heading level0 row1\" >1</th>\n",
       "                        <td id=\"T_d4ef2_row1_col0\" class=\"data row1 col0\" >OffersScreenAppear</td>\n",
       "                        <td id=\"T_d4ef2_row1_col1\" class=\"data row1 col1\" >46333</td>\n",
       "                        <td id=\"T_d4ef2_row1_col2\" class=\"data row1 col2\" >4593</td>\n",
       "                        <td id=\"T_d4ef2_row1_col3\" class=\"data row1 col3\" >60.83%</td>\n",
       "            </tr>\n",
       "            <tr>\n",
       "                        <th id=\"T_d4ef2_level0_row2\" class=\"row_heading level0 row2\" >2</th>\n",
       "                        <td id=\"T_d4ef2_row2_col0\" class=\"data row2 col0\" >CartScreenAppear</td>\n",
       "                        <td id=\"T_d4ef2_row2_col1\" class=\"data row2 col1\" >42303</td>\n",
       "                        <td id=\"T_d4ef2_row2_col2\" class=\"data row2 col2\" >3734</td>\n",
       "                        <td id=\"T_d4ef2_row2_col3\" class=\"data row2 col3\" >49.45%</td>\n",
       "            </tr>\n",
       "            <tr>\n",
       "                        <th id=\"T_d4ef2_level0_row3\" class=\"row_heading level0 row3\" >3</th>\n",
       "                        <td id=\"T_d4ef2_row3_col0\" class=\"data row3 col0\" >PaymentScreenSuccessful</td>\n",
       "                        <td id=\"T_d4ef2_row3_col1\" class=\"data row3 col1\" >33918</td>\n",
       "                        <td id=\"T_d4ef2_row3_col2\" class=\"data row3 col2\" >3539</td>\n",
       "                        <td id=\"T_d4ef2_row3_col3\" class=\"data row3 col3\" >46.87%</td>\n",
       "            </tr>\n",
       "            <tr>\n",
       "                        <th id=\"T_d4ef2_level0_row4\" class=\"row_heading level0 row4\" >4</th>\n",
       "                        <td id=\"T_d4ef2_row4_col0\" class=\"data row4 col0\" >Tutorial</td>\n",
       "                        <td id=\"T_d4ef2_row4_col1\" class=\"data row4 col1\" >1005</td>\n",
       "                        <td id=\"T_d4ef2_row4_col2\" class=\"data row4 col2\" >840</td>\n",
       "                        <td id=\"T_d4ef2_row4_col3\" class=\"data row4 col3\" >11.12%</td>\n",
       "            </tr>\n",
       "    </tbody></table>"
      ],
      "text/plain": [
       "<pandas.io.formats.style.Styler at 0x7fbaa414dd90>"
      ]
     },
     "execution_count": 30,
     "metadata": {},
     "output_type": "execute_result"
    }
   ],
   "source": [
    "data_users['users_count/users_all'] = (data_users['users_count'] / data.device_id_hash.nunique())\n",
    "data_users.style.format({'users_count/users_all': '{:.2%}'})"
   ]
  },
  {
   "cell_type": "markdown",
   "metadata": {},
   "source": [
    "Чаще всего пользователи переходят на страницу главного экрана, однако полтора процента пользователей в приложение не заходят. Далее события выстраиваются в последовательную цепочку. Туториал скорее всего явлется опциональной функцией и пропускается большинством пользователей."
   ]
  },
  {
   "cell_type": "markdown",
   "metadata": {},
   "source": [
    "По воронке событий посчитаем, какая доля пользователей проходит на следующий шаг воронки:"
   ]
  },
  {
   "cell_type": "code",
   "execution_count": 31,
   "metadata": {},
   "outputs": [
    {
     "data": {
      "text/html": [
       "<style  type=\"text/css\" >\n",
       "</style><table id=\"T_9e818_\" ><thead>    <tr>        <th class=\"blank level0\" ></th>        <th class=\"col_heading level0 col0\" >event_name</th>        <th class=\"col_heading level0 col1\" >event_count</th>        <th class=\"col_heading level0 col2\" >users_count</th>        <th class=\"col_heading level0 col3\" >users_count/users_all</th>        <th class=\"col_heading level0 col4\" >steps_conversion</th>    </tr></thead><tbody>\n",
       "                <tr>\n",
       "                        <th id=\"T_9e818_level0_row0\" class=\"row_heading level0 row0\" >0</th>\n",
       "                        <td id=\"T_9e818_row0_col0\" class=\"data row0 col0\" >MainScreenAppear</td>\n",
       "                        <td id=\"T_9e818_row0_col1\" class=\"data row0 col1\" >117328</td>\n",
       "                        <td id=\"T_9e818_row0_col2\" class=\"data row0 col2\" >7419</td>\n",
       "                        <td id=\"T_9e818_row0_col3\" class=\"data row0 col3\" >98.25%</td>\n",
       "                        <td id=\"T_9e818_row0_col4\" class=\"data row0 col4\" >100.00%</td>\n",
       "            </tr>\n",
       "            <tr>\n",
       "                        <th id=\"T_9e818_level0_row1\" class=\"row_heading level0 row1\" >1</th>\n",
       "                        <td id=\"T_9e818_row1_col0\" class=\"data row1 col0\" >OffersScreenAppear</td>\n",
       "                        <td id=\"T_9e818_row1_col1\" class=\"data row1 col1\" >46333</td>\n",
       "                        <td id=\"T_9e818_row1_col2\" class=\"data row1 col2\" >4593</td>\n",
       "                        <td id=\"T_9e818_row1_col3\" class=\"data row1 col3\" >60.83%</td>\n",
       "                        <td id=\"T_9e818_row1_col4\" class=\"data row1 col4\" >61.91%</td>\n",
       "            </tr>\n",
       "            <tr>\n",
       "                        <th id=\"T_9e818_level0_row2\" class=\"row_heading level0 row2\" >2</th>\n",
       "                        <td id=\"T_9e818_row2_col0\" class=\"data row2 col0\" >CartScreenAppear</td>\n",
       "                        <td id=\"T_9e818_row2_col1\" class=\"data row2 col1\" >42303</td>\n",
       "                        <td id=\"T_9e818_row2_col2\" class=\"data row2 col2\" >3734</td>\n",
       "                        <td id=\"T_9e818_row2_col3\" class=\"data row2 col3\" >49.45%</td>\n",
       "                        <td id=\"T_9e818_row2_col4\" class=\"data row2 col4\" >81.30%</td>\n",
       "            </tr>\n",
       "            <tr>\n",
       "                        <th id=\"T_9e818_level0_row3\" class=\"row_heading level0 row3\" >3</th>\n",
       "                        <td id=\"T_9e818_row3_col0\" class=\"data row3 col0\" >PaymentScreenSuccessful</td>\n",
       "                        <td id=\"T_9e818_row3_col1\" class=\"data row3 col1\" >33918</td>\n",
       "                        <td id=\"T_9e818_row3_col2\" class=\"data row3 col2\" >3539</td>\n",
       "                        <td id=\"T_9e818_row3_col3\" class=\"data row3 col3\" >46.87%</td>\n",
       "                        <td id=\"T_9e818_row3_col4\" class=\"data row3 col4\" >94.78%</td>\n",
       "            </tr>\n",
       "            <tr>\n",
       "                        <th id=\"T_9e818_level0_row4\" class=\"row_heading level0 row4\" >4</th>\n",
       "                        <td id=\"T_9e818_row4_col0\" class=\"data row4 col0\" >Tutorial</td>\n",
       "                        <td id=\"T_9e818_row4_col1\" class=\"data row4 col1\" >1005</td>\n",
       "                        <td id=\"T_9e818_row4_col2\" class=\"data row4 col2\" >840</td>\n",
       "                        <td id=\"T_9e818_row4_col3\" class=\"data row4 col3\" >11.12%</td>\n",
       "                        <td id=\"T_9e818_row4_col4\" class=\"data row4 col4\" >23.74%</td>\n",
       "            </tr>\n",
       "    </tbody></table>"
      ],
      "text/plain": [
       "<pandas.io.formats.style.Styler at 0x7fba20930cd0>"
      ]
     },
     "execution_count": 31,
     "metadata": {},
     "output_type": "execute_result"
    }
   ],
   "source": [
    "data_users['steps_conversion'] = (data_users['users_count'].pct_change().fillna(0)+1)\n",
    "data_users.style.format({'users_count/users_all': '{:.2%}', 'steps_conversion': '{:.2%}'})"
   ]
  },
  {
   "cell_type": "markdown",
   "metadata": {},
   "source": [
    "По таблице видно, что большая часть пользователей теряется на шаге перехода с главного экарна на экран с предложениями - 37.42%. От первого события до успешной оплаты доходит 46.87% пользователей."
   ]
  },
  {
   "cell_type": "markdown",
   "metadata": {},
   "source": [
    "Построим воронку для наглядной визуализации конверсии:"
   ]
  },
  {
   "cell_type": "code",
   "execution_count": 42,
   "metadata": {},
   "outputs": [
    {
     "data": {
      "application/vnd.plotly.v1+json": {
       "config": {
        "plotlyServerURL": "https://plot.ly"
       },
       "data": [
        {
         "type": "funnel",
         "x": [
          0.98,
          0.61,
          0.49,
          0.47,
          0.11
         ],
         "y": [
          "MainScreenAppear",
          "OffersScreenAppear",
          "CartScreenAppear",
          "PaymentScreenSuccessful",
          "Tutorial"
         ]
        }
       ],
       "layout": {
        "template": {
         "data": {
          "bar": [
           {
            "error_x": {
             "color": "#2a3f5f"
            },
            "error_y": {
             "color": "#2a3f5f"
            },
            "marker": {
             "line": {
              "color": "#E5ECF6",
              "width": 0.5
             },
             "pattern": {
              "fillmode": "overlay",
              "size": 10,
              "solidity": 0.2
             }
            },
            "type": "bar"
           }
          ],
          "barpolar": [
           {
            "marker": {
             "line": {
              "color": "#E5ECF6",
              "width": 0.5
             },
             "pattern": {
              "fillmode": "overlay",
              "size": 10,
              "solidity": 0.2
             }
            },
            "type": "barpolar"
           }
          ],
          "carpet": [
           {
            "aaxis": {
             "endlinecolor": "#2a3f5f",
             "gridcolor": "white",
             "linecolor": "white",
             "minorgridcolor": "white",
             "startlinecolor": "#2a3f5f"
            },
            "baxis": {
             "endlinecolor": "#2a3f5f",
             "gridcolor": "white",
             "linecolor": "white",
             "minorgridcolor": "white",
             "startlinecolor": "#2a3f5f"
            },
            "type": "carpet"
           }
          ],
          "choropleth": [
           {
            "colorbar": {
             "outlinewidth": 0,
             "ticks": ""
            },
            "type": "choropleth"
           }
          ],
          "contour": [
           {
            "colorbar": {
             "outlinewidth": 0,
             "ticks": ""
            },
            "colorscale": [
             [
              0,
              "#0d0887"
             ],
             [
              0.1111111111111111,
              "#46039f"
             ],
             [
              0.2222222222222222,
              "#7201a8"
             ],
             [
              0.3333333333333333,
              "#9c179e"
             ],
             [
              0.4444444444444444,
              "#bd3786"
             ],
             [
              0.5555555555555556,
              "#d8576b"
             ],
             [
              0.6666666666666666,
              "#ed7953"
             ],
             [
              0.7777777777777778,
              "#fb9f3a"
             ],
             [
              0.8888888888888888,
              "#fdca26"
             ],
             [
              1,
              "#f0f921"
             ]
            ],
            "type": "contour"
           }
          ],
          "contourcarpet": [
           {
            "colorbar": {
             "outlinewidth": 0,
             "ticks": ""
            },
            "type": "contourcarpet"
           }
          ],
          "heatmap": [
           {
            "colorbar": {
             "outlinewidth": 0,
             "ticks": ""
            },
            "colorscale": [
             [
              0,
              "#0d0887"
             ],
             [
              0.1111111111111111,
              "#46039f"
             ],
             [
              0.2222222222222222,
              "#7201a8"
             ],
             [
              0.3333333333333333,
              "#9c179e"
             ],
             [
              0.4444444444444444,
              "#bd3786"
             ],
             [
              0.5555555555555556,
              "#d8576b"
             ],
             [
              0.6666666666666666,
              "#ed7953"
             ],
             [
              0.7777777777777778,
              "#fb9f3a"
             ],
             [
              0.8888888888888888,
              "#fdca26"
             ],
             [
              1,
              "#f0f921"
             ]
            ],
            "type": "heatmap"
           }
          ],
          "heatmapgl": [
           {
            "colorbar": {
             "outlinewidth": 0,
             "ticks": ""
            },
            "colorscale": [
             [
              0,
              "#0d0887"
             ],
             [
              0.1111111111111111,
              "#46039f"
             ],
             [
              0.2222222222222222,
              "#7201a8"
             ],
             [
              0.3333333333333333,
              "#9c179e"
             ],
             [
              0.4444444444444444,
              "#bd3786"
             ],
             [
              0.5555555555555556,
              "#d8576b"
             ],
             [
              0.6666666666666666,
              "#ed7953"
             ],
             [
              0.7777777777777778,
              "#fb9f3a"
             ],
             [
              0.8888888888888888,
              "#fdca26"
             ],
             [
              1,
              "#f0f921"
             ]
            ],
            "type": "heatmapgl"
           }
          ],
          "histogram": [
           {
            "marker": {
             "pattern": {
              "fillmode": "overlay",
              "size": 10,
              "solidity": 0.2
             }
            },
            "type": "histogram"
           }
          ],
          "histogram2d": [
           {
            "colorbar": {
             "outlinewidth": 0,
             "ticks": ""
            },
            "colorscale": [
             [
              0,
              "#0d0887"
             ],
             [
              0.1111111111111111,
              "#46039f"
             ],
             [
              0.2222222222222222,
              "#7201a8"
             ],
             [
              0.3333333333333333,
              "#9c179e"
             ],
             [
              0.4444444444444444,
              "#bd3786"
             ],
             [
              0.5555555555555556,
              "#d8576b"
             ],
             [
              0.6666666666666666,
              "#ed7953"
             ],
             [
              0.7777777777777778,
              "#fb9f3a"
             ],
             [
              0.8888888888888888,
              "#fdca26"
             ],
             [
              1,
              "#f0f921"
             ]
            ],
            "type": "histogram2d"
           }
          ],
          "histogram2dcontour": [
           {
            "colorbar": {
             "outlinewidth": 0,
             "ticks": ""
            },
            "colorscale": [
             [
              0,
              "#0d0887"
             ],
             [
              0.1111111111111111,
              "#46039f"
             ],
             [
              0.2222222222222222,
              "#7201a8"
             ],
             [
              0.3333333333333333,
              "#9c179e"
             ],
             [
              0.4444444444444444,
              "#bd3786"
             ],
             [
              0.5555555555555556,
              "#d8576b"
             ],
             [
              0.6666666666666666,
              "#ed7953"
             ],
             [
              0.7777777777777778,
              "#fb9f3a"
             ],
             [
              0.8888888888888888,
              "#fdca26"
             ],
             [
              1,
              "#f0f921"
             ]
            ],
            "type": "histogram2dcontour"
           }
          ],
          "mesh3d": [
           {
            "colorbar": {
             "outlinewidth": 0,
             "ticks": ""
            },
            "type": "mesh3d"
           }
          ],
          "parcoords": [
           {
            "line": {
             "colorbar": {
              "outlinewidth": 0,
              "ticks": ""
             }
            },
            "type": "parcoords"
           }
          ],
          "pie": [
           {
            "automargin": true,
            "type": "pie"
           }
          ],
          "scatter": [
           {
            "marker": {
             "colorbar": {
              "outlinewidth": 0,
              "ticks": ""
             }
            },
            "type": "scatter"
           }
          ],
          "scatter3d": [
           {
            "line": {
             "colorbar": {
              "outlinewidth": 0,
              "ticks": ""
             }
            },
            "marker": {
             "colorbar": {
              "outlinewidth": 0,
              "ticks": ""
             }
            },
            "type": "scatter3d"
           }
          ],
          "scattercarpet": [
           {
            "marker": {
             "colorbar": {
              "outlinewidth": 0,
              "ticks": ""
             }
            },
            "type": "scattercarpet"
           }
          ],
          "scattergeo": [
           {
            "marker": {
             "colorbar": {
              "outlinewidth": 0,
              "ticks": ""
             }
            },
            "type": "scattergeo"
           }
          ],
          "scattergl": [
           {
            "marker": {
             "colorbar": {
              "outlinewidth": 0,
              "ticks": ""
             }
            },
            "type": "scattergl"
           }
          ],
          "scattermapbox": [
           {
            "marker": {
             "colorbar": {
              "outlinewidth": 0,
              "ticks": ""
             }
            },
            "type": "scattermapbox"
           }
          ],
          "scatterpolar": [
           {
            "marker": {
             "colorbar": {
              "outlinewidth": 0,
              "ticks": ""
             }
            },
            "type": "scatterpolar"
           }
          ],
          "scatterpolargl": [
           {
            "marker": {
             "colorbar": {
              "outlinewidth": 0,
              "ticks": ""
             }
            },
            "type": "scatterpolargl"
           }
          ],
          "scatterternary": [
           {
            "marker": {
             "colorbar": {
              "outlinewidth": 0,
              "ticks": ""
             }
            },
            "type": "scatterternary"
           }
          ],
          "surface": [
           {
            "colorbar": {
             "outlinewidth": 0,
             "ticks": ""
            },
            "colorscale": [
             [
              0,
              "#0d0887"
             ],
             [
              0.1111111111111111,
              "#46039f"
             ],
             [
              0.2222222222222222,
              "#7201a8"
             ],
             [
              0.3333333333333333,
              "#9c179e"
             ],
             [
              0.4444444444444444,
              "#bd3786"
             ],
             [
              0.5555555555555556,
              "#d8576b"
             ],
             [
              0.6666666666666666,
              "#ed7953"
             ],
             [
              0.7777777777777778,
              "#fb9f3a"
             ],
             [
              0.8888888888888888,
              "#fdca26"
             ],
             [
              1,
              "#f0f921"
             ]
            ],
            "type": "surface"
           }
          ],
          "table": [
           {
            "cells": {
             "fill": {
              "color": "#EBF0F8"
             },
             "line": {
              "color": "white"
             }
            },
            "header": {
             "fill": {
              "color": "#C8D4E3"
             },
             "line": {
              "color": "white"
             }
            },
            "type": "table"
           }
          ]
         },
         "layout": {
          "annotationdefaults": {
           "arrowcolor": "#2a3f5f",
           "arrowhead": 0,
           "arrowwidth": 1
          },
          "autotypenumbers": "strict",
          "coloraxis": {
           "colorbar": {
            "outlinewidth": 0,
            "ticks": ""
           }
          },
          "colorscale": {
           "diverging": [
            [
             0,
             "#8e0152"
            ],
            [
             0.1,
             "#c51b7d"
            ],
            [
             0.2,
             "#de77ae"
            ],
            [
             0.3,
             "#f1b6da"
            ],
            [
             0.4,
             "#fde0ef"
            ],
            [
             0.5,
             "#f7f7f7"
            ],
            [
             0.6,
             "#e6f5d0"
            ],
            [
             0.7,
             "#b8e186"
            ],
            [
             0.8,
             "#7fbc41"
            ],
            [
             0.9,
             "#4d9221"
            ],
            [
             1,
             "#276419"
            ]
           ],
           "sequential": [
            [
             0,
             "#0d0887"
            ],
            [
             0.1111111111111111,
             "#46039f"
            ],
            [
             0.2222222222222222,
             "#7201a8"
            ],
            [
             0.3333333333333333,
             "#9c179e"
            ],
            [
             0.4444444444444444,
             "#bd3786"
            ],
            [
             0.5555555555555556,
             "#d8576b"
            ],
            [
             0.6666666666666666,
             "#ed7953"
            ],
            [
             0.7777777777777778,
             "#fb9f3a"
            ],
            [
             0.8888888888888888,
             "#fdca26"
            ],
            [
             1,
             "#f0f921"
            ]
           ],
           "sequentialminus": [
            [
             0,
             "#0d0887"
            ],
            [
             0.1111111111111111,
             "#46039f"
            ],
            [
             0.2222222222222222,
             "#7201a8"
            ],
            [
             0.3333333333333333,
             "#9c179e"
            ],
            [
             0.4444444444444444,
             "#bd3786"
            ],
            [
             0.5555555555555556,
             "#d8576b"
            ],
            [
             0.6666666666666666,
             "#ed7953"
            ],
            [
             0.7777777777777778,
             "#fb9f3a"
            ],
            [
             0.8888888888888888,
             "#fdca26"
            ],
            [
             1,
             "#f0f921"
            ]
           ]
          },
          "colorway": [
           "#636efa",
           "#EF553B",
           "#00cc96",
           "#ab63fa",
           "#FFA15A",
           "#19d3f3",
           "#FF6692",
           "#B6E880",
           "#FF97FF",
           "#FECB52"
          ],
          "font": {
           "color": "#2a3f5f"
          },
          "geo": {
           "bgcolor": "white",
           "lakecolor": "white",
           "landcolor": "#E5ECF6",
           "showlakes": true,
           "showland": true,
           "subunitcolor": "white"
          },
          "hoverlabel": {
           "align": "left"
          },
          "hovermode": "closest",
          "mapbox": {
           "style": "light"
          },
          "paper_bgcolor": "white",
          "plot_bgcolor": "#E5ECF6",
          "polar": {
           "angularaxis": {
            "gridcolor": "white",
            "linecolor": "white",
            "ticks": ""
           },
           "bgcolor": "#E5ECF6",
           "radialaxis": {
            "gridcolor": "white",
            "linecolor": "white",
            "ticks": ""
           }
          },
          "scene": {
           "xaxis": {
            "backgroundcolor": "#E5ECF6",
            "gridcolor": "white",
            "gridwidth": 2,
            "linecolor": "white",
            "showbackground": true,
            "ticks": "",
            "zerolinecolor": "white"
           },
           "yaxis": {
            "backgroundcolor": "#E5ECF6",
            "gridcolor": "white",
            "gridwidth": 2,
            "linecolor": "white",
            "showbackground": true,
            "ticks": "",
            "zerolinecolor": "white"
           },
           "zaxis": {
            "backgroundcolor": "#E5ECF6",
            "gridcolor": "white",
            "gridwidth": 2,
            "linecolor": "white",
            "showbackground": true,
            "ticks": "",
            "zerolinecolor": "white"
           }
          },
          "shapedefaults": {
           "line": {
            "color": "#2a3f5f"
           }
          },
          "ternary": {
           "aaxis": {
            "gridcolor": "white",
            "linecolor": "white",
            "ticks": ""
           },
           "baxis": {
            "gridcolor": "white",
            "linecolor": "white",
            "ticks": ""
           },
           "bgcolor": "#E5ECF6",
           "caxis": {
            "gridcolor": "white",
            "linecolor": "white",
            "ticks": ""
           }
          },
          "title": {
           "x": 0.05
          },
          "xaxis": {
           "automargin": true,
           "gridcolor": "white",
           "linecolor": "white",
           "ticks": "",
           "title": {
            "standoff": 15
           },
           "zerolinecolor": "white",
           "zerolinewidth": 2
          },
          "yaxis": {
           "automargin": true,
           "gridcolor": "white",
           "linecolor": "white",
           "ticks": "",
           "title": {
            "standoff": 15
           },
           "zerolinecolor": "white",
           "zerolinewidth": 2
          }
         }
        }
       }
      },
      "text/html": [
       "<div>                            <div id=\"10e6e02d-3887-424c-9bc6-0bc6a8d4e044\" class=\"plotly-graph-div\" style=\"height:525px; width:100%;\"></div>            <script type=\"text/javascript\">                require([\"plotly\"], function(Plotly) {                    window.PLOTLYENV=window.PLOTLYENV || {};                                    if (document.getElementById(\"10e6e02d-3887-424c-9bc6-0bc6a8d4e044\")) {                    Plotly.newPlot(                        \"10e6e02d-3887-424c-9bc6-0bc6a8d4e044\",                        [{\"x\":[0.98,0.61,0.49,0.47,0.11],\"y\":[\"MainScreenAppear\",\"OffersScreenAppear\",\"CartScreenAppear\",\"PaymentScreenSuccessful\",\"Tutorial\"],\"type\":\"funnel\"}],                        {\"template\":{\"data\":{\"bar\":[{\"error_x\":{\"color\":\"#2a3f5f\"},\"error_y\":{\"color\":\"#2a3f5f\"},\"marker\":{\"line\":{\"color\":\"#E5ECF6\",\"width\":0.5},\"pattern\":{\"fillmode\":\"overlay\",\"size\":10,\"solidity\":0.2}},\"type\":\"bar\"}],\"barpolar\":[{\"marker\":{\"line\":{\"color\":\"#E5ECF6\",\"width\":0.5},\"pattern\":{\"fillmode\":\"overlay\",\"size\":10,\"solidity\":0.2}},\"type\":\"barpolar\"}],\"carpet\":[{\"aaxis\":{\"endlinecolor\":\"#2a3f5f\",\"gridcolor\":\"white\",\"linecolor\":\"white\",\"minorgridcolor\":\"white\",\"startlinecolor\":\"#2a3f5f\"},\"baxis\":{\"endlinecolor\":\"#2a3f5f\",\"gridcolor\":\"white\",\"linecolor\":\"white\",\"minorgridcolor\":\"white\",\"startlinecolor\":\"#2a3f5f\"},\"type\":\"carpet\"}],\"choropleth\":[{\"colorbar\":{\"outlinewidth\":0,\"ticks\":\"\"},\"type\":\"choropleth\"}],\"contour\":[{\"colorbar\":{\"outlinewidth\":0,\"ticks\":\"\"},\"colorscale\":[[0.0,\"#0d0887\"],[0.1111111111111111,\"#46039f\"],[0.2222222222222222,\"#7201a8\"],[0.3333333333333333,\"#9c179e\"],[0.4444444444444444,\"#bd3786\"],[0.5555555555555556,\"#d8576b\"],[0.6666666666666666,\"#ed7953\"],[0.7777777777777778,\"#fb9f3a\"],[0.8888888888888888,\"#fdca26\"],[1.0,\"#f0f921\"]],\"type\":\"contour\"}],\"contourcarpet\":[{\"colorbar\":{\"outlinewidth\":0,\"ticks\":\"\"},\"type\":\"contourcarpet\"}],\"heatmap\":[{\"colorbar\":{\"outlinewidth\":0,\"ticks\":\"\"},\"colorscale\":[[0.0,\"#0d0887\"],[0.1111111111111111,\"#46039f\"],[0.2222222222222222,\"#7201a8\"],[0.3333333333333333,\"#9c179e\"],[0.4444444444444444,\"#bd3786\"],[0.5555555555555556,\"#d8576b\"],[0.6666666666666666,\"#ed7953\"],[0.7777777777777778,\"#fb9f3a\"],[0.8888888888888888,\"#fdca26\"],[1.0,\"#f0f921\"]],\"type\":\"heatmap\"}],\"heatmapgl\":[{\"colorbar\":{\"outlinewidth\":0,\"ticks\":\"\"},\"colorscale\":[[0.0,\"#0d0887\"],[0.1111111111111111,\"#46039f\"],[0.2222222222222222,\"#7201a8\"],[0.3333333333333333,\"#9c179e\"],[0.4444444444444444,\"#bd3786\"],[0.5555555555555556,\"#d8576b\"],[0.6666666666666666,\"#ed7953\"],[0.7777777777777778,\"#fb9f3a\"],[0.8888888888888888,\"#fdca26\"],[1.0,\"#f0f921\"]],\"type\":\"heatmapgl\"}],\"histogram\":[{\"marker\":{\"pattern\":{\"fillmode\":\"overlay\",\"size\":10,\"solidity\":0.2}},\"type\":\"histogram\"}],\"histogram2d\":[{\"colorbar\":{\"outlinewidth\":0,\"ticks\":\"\"},\"colorscale\":[[0.0,\"#0d0887\"],[0.1111111111111111,\"#46039f\"],[0.2222222222222222,\"#7201a8\"],[0.3333333333333333,\"#9c179e\"],[0.4444444444444444,\"#bd3786\"],[0.5555555555555556,\"#d8576b\"],[0.6666666666666666,\"#ed7953\"],[0.7777777777777778,\"#fb9f3a\"],[0.8888888888888888,\"#fdca26\"],[1.0,\"#f0f921\"]],\"type\":\"histogram2d\"}],\"histogram2dcontour\":[{\"colorbar\":{\"outlinewidth\":0,\"ticks\":\"\"},\"colorscale\":[[0.0,\"#0d0887\"],[0.1111111111111111,\"#46039f\"],[0.2222222222222222,\"#7201a8\"],[0.3333333333333333,\"#9c179e\"],[0.4444444444444444,\"#bd3786\"],[0.5555555555555556,\"#d8576b\"],[0.6666666666666666,\"#ed7953\"],[0.7777777777777778,\"#fb9f3a\"],[0.8888888888888888,\"#fdca26\"],[1.0,\"#f0f921\"]],\"type\":\"histogram2dcontour\"}],\"mesh3d\":[{\"colorbar\":{\"outlinewidth\":0,\"ticks\":\"\"},\"type\":\"mesh3d\"}],\"parcoords\":[{\"line\":{\"colorbar\":{\"outlinewidth\":0,\"ticks\":\"\"}},\"type\":\"parcoords\"}],\"pie\":[{\"automargin\":true,\"type\":\"pie\"}],\"scatter\":[{\"marker\":{\"colorbar\":{\"outlinewidth\":0,\"ticks\":\"\"}},\"type\":\"scatter\"}],\"scatter3d\":[{\"line\":{\"colorbar\":{\"outlinewidth\":0,\"ticks\":\"\"}},\"marker\":{\"colorbar\":{\"outlinewidth\":0,\"ticks\":\"\"}},\"type\":\"scatter3d\"}],\"scattercarpet\":[{\"marker\":{\"colorbar\":{\"outlinewidth\":0,\"ticks\":\"\"}},\"type\":\"scattercarpet\"}],\"scattergeo\":[{\"marker\":{\"colorbar\":{\"outlinewidth\":0,\"ticks\":\"\"}},\"type\":\"scattergeo\"}],\"scattergl\":[{\"marker\":{\"colorbar\":{\"outlinewidth\":0,\"ticks\":\"\"}},\"type\":\"scattergl\"}],\"scattermapbox\":[{\"marker\":{\"colorbar\":{\"outlinewidth\":0,\"ticks\":\"\"}},\"type\":\"scattermapbox\"}],\"scatterpolar\":[{\"marker\":{\"colorbar\":{\"outlinewidth\":0,\"ticks\":\"\"}},\"type\":\"scatterpolar\"}],\"scatterpolargl\":[{\"marker\":{\"colorbar\":{\"outlinewidth\":0,\"ticks\":\"\"}},\"type\":\"scatterpolargl\"}],\"scatterternary\":[{\"marker\":{\"colorbar\":{\"outlinewidth\":0,\"ticks\":\"\"}},\"type\":\"scatterternary\"}],\"surface\":[{\"colorbar\":{\"outlinewidth\":0,\"ticks\":\"\"},\"colorscale\":[[0.0,\"#0d0887\"],[0.1111111111111111,\"#46039f\"],[0.2222222222222222,\"#7201a8\"],[0.3333333333333333,\"#9c179e\"],[0.4444444444444444,\"#bd3786\"],[0.5555555555555556,\"#d8576b\"],[0.6666666666666666,\"#ed7953\"],[0.7777777777777778,\"#fb9f3a\"],[0.8888888888888888,\"#fdca26\"],[1.0,\"#f0f921\"]],\"type\":\"surface\"}],\"table\":[{\"cells\":{\"fill\":{\"color\":\"#EBF0F8\"},\"line\":{\"color\":\"white\"}},\"header\":{\"fill\":{\"color\":\"#C8D4E3\"},\"line\":{\"color\":\"white\"}},\"type\":\"table\"}]},\"layout\":{\"annotationdefaults\":{\"arrowcolor\":\"#2a3f5f\",\"arrowhead\":0,\"arrowwidth\":1},\"autotypenumbers\":\"strict\",\"coloraxis\":{\"colorbar\":{\"outlinewidth\":0,\"ticks\":\"\"}},\"colorscale\":{\"diverging\":[[0,\"#8e0152\"],[0.1,\"#c51b7d\"],[0.2,\"#de77ae\"],[0.3,\"#f1b6da\"],[0.4,\"#fde0ef\"],[0.5,\"#f7f7f7\"],[0.6,\"#e6f5d0\"],[0.7,\"#b8e186\"],[0.8,\"#7fbc41\"],[0.9,\"#4d9221\"],[1,\"#276419\"]],\"sequential\":[[0.0,\"#0d0887\"],[0.1111111111111111,\"#46039f\"],[0.2222222222222222,\"#7201a8\"],[0.3333333333333333,\"#9c179e\"],[0.4444444444444444,\"#bd3786\"],[0.5555555555555556,\"#d8576b\"],[0.6666666666666666,\"#ed7953\"],[0.7777777777777778,\"#fb9f3a\"],[0.8888888888888888,\"#fdca26\"],[1.0,\"#f0f921\"]],\"sequentialminus\":[[0.0,\"#0d0887\"],[0.1111111111111111,\"#46039f\"],[0.2222222222222222,\"#7201a8\"],[0.3333333333333333,\"#9c179e\"],[0.4444444444444444,\"#bd3786\"],[0.5555555555555556,\"#d8576b\"],[0.6666666666666666,\"#ed7953\"],[0.7777777777777778,\"#fb9f3a\"],[0.8888888888888888,\"#fdca26\"],[1.0,\"#f0f921\"]]},\"colorway\":[\"#636efa\",\"#EF553B\",\"#00cc96\",\"#ab63fa\",\"#FFA15A\",\"#19d3f3\",\"#FF6692\",\"#B6E880\",\"#FF97FF\",\"#FECB52\"],\"font\":{\"color\":\"#2a3f5f\"},\"geo\":{\"bgcolor\":\"white\",\"lakecolor\":\"white\",\"landcolor\":\"#E5ECF6\",\"showlakes\":true,\"showland\":true,\"subunitcolor\":\"white\"},\"hoverlabel\":{\"align\":\"left\"},\"hovermode\":\"closest\",\"mapbox\":{\"style\":\"light\"},\"paper_bgcolor\":\"white\",\"plot_bgcolor\":\"#E5ECF6\",\"polar\":{\"angularaxis\":{\"gridcolor\":\"white\",\"linecolor\":\"white\",\"ticks\":\"\"},\"bgcolor\":\"#E5ECF6\",\"radialaxis\":{\"gridcolor\":\"white\",\"linecolor\":\"white\",\"ticks\":\"\"}},\"scene\":{\"xaxis\":{\"backgroundcolor\":\"#E5ECF6\",\"gridcolor\":\"white\",\"gridwidth\":2,\"linecolor\":\"white\",\"showbackground\":true,\"ticks\":\"\",\"zerolinecolor\":\"white\"},\"yaxis\":{\"backgroundcolor\":\"#E5ECF6\",\"gridcolor\":\"white\",\"gridwidth\":2,\"linecolor\":\"white\",\"showbackground\":true,\"ticks\":\"\",\"zerolinecolor\":\"white\"},\"zaxis\":{\"backgroundcolor\":\"#E5ECF6\",\"gridcolor\":\"white\",\"gridwidth\":2,\"linecolor\":\"white\",\"showbackground\":true,\"ticks\":\"\",\"zerolinecolor\":\"white\"}},\"shapedefaults\":{\"line\":{\"color\":\"#2a3f5f\"}},\"ternary\":{\"aaxis\":{\"gridcolor\":\"white\",\"linecolor\":\"white\",\"ticks\":\"\"},\"baxis\":{\"gridcolor\":\"white\",\"linecolor\":\"white\",\"ticks\":\"\"},\"bgcolor\":\"#E5ECF6\",\"caxis\":{\"gridcolor\":\"white\",\"linecolor\":\"white\",\"ticks\":\"\"}},\"title\":{\"x\":0.05},\"xaxis\":{\"automargin\":true,\"gridcolor\":\"white\",\"linecolor\":\"white\",\"ticks\":\"\",\"title\":{\"standoff\":15},\"zerolinecolor\":\"white\",\"zerolinewidth\":2},\"yaxis\":{\"automargin\":true,\"gridcolor\":\"white\",\"linecolor\":\"white\",\"ticks\":\"\",\"title\":{\"standoff\":15},\"zerolinecolor\":\"white\",\"zerolinewidth\":2}}}},                        {\"responsive\": true}                    ).then(function(){\n",
       "                            \n",
       "var gd = document.getElementById('10e6e02d-3887-424c-9bc6-0bc6a8d4e044');\n",
       "var x = new MutationObserver(function (mutations, observer) {{\n",
       "        var display = window.getComputedStyle(gd).display;\n",
       "        if (!display || display === 'none') {{\n",
       "            console.log([gd, 'removed!']);\n",
       "            Plotly.purge(gd);\n",
       "            observer.disconnect();\n",
       "        }}\n",
       "}});\n",
       "\n",
       "// Listen for the removal of the full notebook cells\n",
       "var notebookContainer = gd.closest('#notebook-container');\n",
       "if (notebookContainer) {{\n",
       "    x.observe(notebookContainer, {childList: true});\n",
       "}}\n",
       "\n",
       "// Listen for the clearing of the current output cell\n",
       "var outputEl = gd.closest('.output');\n",
       "if (outputEl) {{\n",
       "    x.observe(outputEl, {childList: true});\n",
       "}}\n",
       "\n",
       "                        })                };                });            </script>        </div>"
      ]
     },
     "metadata": {},
     "output_type": "display_data"
    }
   ],
   "source": [
    "fig = go.Figure(go.Funnel(\n",
    "    y = data_users['event_name'],\n",
    "    x = round(data_users['users_count/users_all'], 2)))\n",
    "\n",
    "fig.show()"
   ]
  },
  {
   "cell_type": "markdown",
   "metadata": {},
   "source": [
    "## Изучение результатов эксперимента"
   ]
  },
  {
   "cell_type": "markdown",
   "metadata": {},
   "source": [
    "Узнаем сколько пользователей в каждой экспериментальной группе и добавим две объединенные 246 и 247 группы:"
   ]
  },
  {
   "cell_type": "code",
   "execution_count": 33,
   "metadata": {},
   "outputs": [
    {
     "data": {
      "text/html": [
       "<div>\n",
       "<style scoped>\n",
       "    .dataframe tbody tr th:only-of-type {\n",
       "        vertical-align: middle;\n",
       "    }\n",
       "\n",
       "    .dataframe tbody tr th {\n",
       "        vertical-align: top;\n",
       "    }\n",
       "\n",
       "    .dataframe thead th {\n",
       "        text-align: right;\n",
       "    }\n",
       "</style>\n",
       "<table border=\"1\" class=\"dataframe\">\n",
       "  <thead>\n",
       "    <tr style=\"text-align: right;\">\n",
       "      <th></th>\n",
       "      <th>device_id_hash</th>\n",
       "    </tr>\n",
       "    <tr>\n",
       "      <th>exp_id</th>\n",
       "      <th></th>\n",
       "    </tr>\n",
       "  </thead>\n",
       "  <tbody>\n",
       "    <tr>\n",
       "      <th>246</th>\n",
       "      <td>2484</td>\n",
       "    </tr>\n",
       "    <tr>\n",
       "      <th>247</th>\n",
       "      <td>2513</td>\n",
       "    </tr>\n",
       "    <tr>\n",
       "      <th>248</th>\n",
       "      <td>2537</td>\n",
       "    </tr>\n",
       "    <tr>\n",
       "      <th>246+247</th>\n",
       "      <td>4997</td>\n",
       "    </tr>\n",
       "  </tbody>\n",
       "</table>\n",
       "</div>"
      ],
      "text/plain": [
       "         device_id_hash\n",
       "exp_id                 \n",
       "246                2484\n",
       "247                2513\n",
       "248                2537\n",
       "246+247            4997"
      ]
     },
     "execution_count": 33,
     "metadata": {},
     "output_type": "execute_result"
    }
   ],
   "source": [
    "data_exp = data_filtered.groupby('exp_id').agg({'device_id_hash':'nunique'}).sort_values('device_id_hash').reset_index()\n",
    "data_exp_2 = data_exp['device_id_hash']\n",
    "data_exp.loc[3] = ['246+247', data_exp_2[0]+data_exp_2[1]]\n",
    "data_exp = data_exp.set_index(data_exp.columns[0])\n",
    "data_exp"
   ]
  },
  {
   "cell_type": "markdown",
   "metadata": {},
   "source": [
    "Создадим датасет с разбивкой по количеству пользователей в каждой группе, на каждое уникальное событие. Так же удалим туториал, являющийся необязательным:"
   ]
  },
  {
   "cell_type": "code",
   "execution_count": 34,
   "metadata": {},
   "outputs": [
    {
     "data": {
      "text/html": [
       "<div>\n",
       "<style scoped>\n",
       "    .dataframe tbody tr th:only-of-type {\n",
       "        vertical-align: middle;\n",
       "    }\n",
       "\n",
       "    .dataframe tbody tr th {\n",
       "        vertical-align: top;\n",
       "    }\n",
       "\n",
       "    .dataframe thead th {\n",
       "        text-align: right;\n",
       "    }\n",
       "</style>\n",
       "<table border=\"1\" class=\"dataframe\">\n",
       "  <thead>\n",
       "    <tr style=\"text-align: right;\">\n",
       "      <th>exp_id</th>\n",
       "      <th>246</th>\n",
       "      <th>247</th>\n",
       "      <th>248</th>\n",
       "      <th>246+247</th>\n",
       "    </tr>\n",
       "    <tr>\n",
       "      <th>event_name</th>\n",
       "      <th></th>\n",
       "      <th></th>\n",
       "      <th></th>\n",
       "      <th></th>\n",
       "    </tr>\n",
       "  </thead>\n",
       "  <tbody>\n",
       "    <tr>\n",
       "      <th>MainScreenAppear</th>\n",
       "      <td>2450</td>\n",
       "      <td>2476</td>\n",
       "      <td>2493</td>\n",
       "      <td>4926</td>\n",
       "    </tr>\n",
       "    <tr>\n",
       "      <th>OffersScreenAppear</th>\n",
       "      <td>1542</td>\n",
       "      <td>1520</td>\n",
       "      <td>1531</td>\n",
       "      <td>3062</td>\n",
       "    </tr>\n",
       "    <tr>\n",
       "      <th>CartScreenAppear</th>\n",
       "      <td>1266</td>\n",
       "      <td>1238</td>\n",
       "      <td>1230</td>\n",
       "      <td>2504</td>\n",
       "    </tr>\n",
       "    <tr>\n",
       "      <th>PaymentScreenSuccessful</th>\n",
       "      <td>1200</td>\n",
       "      <td>1158</td>\n",
       "      <td>1181</td>\n",
       "      <td>2358</td>\n",
       "    </tr>\n",
       "  </tbody>\n",
       "</table>\n",
       "</div>"
      ],
      "text/plain": [
       "exp_id                    246   247   248  246+247\n",
       "event_name                                        \n",
       "MainScreenAppear         2450  2476  2493     4926\n",
       "OffersScreenAppear       1542  1520  1531     3062\n",
       "CartScreenAppear         1266  1238  1230     2504\n",
       "PaymentScreenSuccessful  1200  1158  1181     2358"
      ]
     },
     "execution_count": 34,
     "metadata": {},
     "output_type": "execute_result"
    }
   ],
   "source": [
    "data_funnels = data_filtered.pivot_table(index='event_name', values='device_id_hash', columns='exp_id', aggfunc='nunique').sort_values(246, ascending=False)\n",
    "data_funnels['246+247'] = data_funnels[246] + data_funnels[247]\n",
    "data_funnels.drop(['Tutorial'], inplace=True)\n",
    "data_funnels"
   ]
  },
  {
   "cell_type": "markdown",
   "metadata": {},
   "source": [
    "Сформулируем гипотезы: \n",
    "\n",
    "Н0 - Доли уникальных посетителей, побывавших на этапе воронки, одинаковы.\n",
    "\n",
    "Н1 - Между долями уникальных посетителей, побывавших на этапе воронки, есть значимая разница."
   ]
  },
  {
   "cell_type": "markdown",
   "metadata": {},
   "source": [
    "Для проверки гипотез воспользуемся z-тестом с использованием поправки Бонферрони, из-за проведения множественных сравнений. Так как сравнений будет 16, alpha = alpha/16.  Для удобства обернем z-тест в функцию:"
   ]
  },
  {
   "cell_type": "code",
   "execution_count": 35,
   "metadata": {},
   "outputs": [],
   "source": [
    "alpha = .05 # критический уровень статистической значимости\n",
    "\n",
    "def z_test(exp_1, exp_2, event, alpha): \n",
    "    p1_event = data_funnels.loc[event, exp_1]\n",
    "    p2_event = data_funnels.loc[event, exp_2] \n",
    "    p1_users = data_exp.loc[exp_1, 'device_id_hash'] \n",
    "    p2_users = data_exp.loc[exp_2, 'device_id_hash'] \n",
    "    p1 = p1_event / p1_users \n",
    "    p2 = p2_event / p2_users \n",
    "    difference = p1 - p2\n",
    "    p_combined = (p1_event + p2_event) / (p1_users + p2_users) \n",
    "    z_value = difference / mth.sqrt(p_combined * (1 - p_combined) * (1 / p1_users + 1 / p2_users))\n",
    "    distr = st.norm(0, 1)\n",
    "    p_value = (1 - distr.cdf(abs(z_value))) * 2\n",
    "    \n",
    "    alpha = alpha / 16\n",
    "    \n",
    "    print('Проверяем группы {} и {}, событие: {}, p-value = {p_value:.2f}'.format(exp_1, exp_2, event, p_value=p_value))\n",
    "    if (p_value < alpha):\n",
    "        print(\"Отвергаем нулевую гипотезу\")\n",
    "    else:\n",
    "        print(\"Не можем отвергнуть нулевую гипотезу\")\n"
   ]
  },
  {
   "cell_type": "markdown",
   "metadata": {},
   "source": [
    "Проверим, находят ли статистические критерии разницу между выборками 246 и 247:"
   ]
  },
  {
   "cell_type": "code",
   "execution_count": 36,
   "metadata": {},
   "outputs": [
    {
     "name": "stdout",
     "output_type": "stream",
     "text": [
      "Проверяем группы 246 и 247, событие: MainScreenAppear, p-value = 0.76\n",
      "Не можем отвергнуть нулевую гипотезу\n",
      "\n",
      "Проверяем группы 246 и 247, событие: OffersScreenAppear, p-value = 0.25\n",
      "Не можем отвергнуть нулевую гипотезу\n",
      "\n",
      "Проверяем группы 246 и 247, событие: CartScreenAppear, p-value = 0.23\n",
      "Не можем отвергнуть нулевую гипотезу\n",
      "\n",
      "Проверяем группы 246 и 247, событие: PaymentScreenSuccessful, p-value = 0.11\n",
      "Не можем отвергнуть нулевую гипотезу\n",
      "\n"
     ]
    }
   ],
   "source": [
    "for event in data_funnels.index:\n",
    "    z_test(246, 247, event, 0.05)\n",
    "    print()"
   ]
  },
  {
   "cell_type": "markdown",
   "metadata": {},
   "source": [
    "Конверсия в обеих группах по каждому событию равна."
   ]
  },
  {
   "cell_type": "markdown",
   "metadata": {},
   "source": [
    "Выберем самое популярное событие. Посчитаем число пользователей, совершивших это событие в каждой из контрольных групп. Посчитайте долю пользователей, совершивших это событие:"
   ]
  },
  {
   "cell_type": "code",
   "execution_count": 37,
   "metadata": {},
   "outputs": [
    {
     "data": {
      "text/html": [
       "<div>\n",
       "<style scoped>\n",
       "    .dataframe tbody tr th:only-of-type {\n",
       "        vertical-align: middle;\n",
       "    }\n",
       "\n",
       "    .dataframe tbody tr th {\n",
       "        vertical-align: top;\n",
       "    }\n",
       "\n",
       "    .dataframe thead th {\n",
       "        text-align: right;\n",
       "    }\n",
       "</style>\n",
       "<table border=\"1\" class=\"dataframe\">\n",
       "  <thead>\n",
       "    <tr style=\"text-align: right;\">\n",
       "      <th></th>\n",
       "      <th>event_name</th>\n",
       "      <th>246</th>\n",
       "      <th>247</th>\n",
       "      <th>248</th>\n",
       "      <th>conversion_246(%)</th>\n",
       "      <th>conversion_247(%)</th>\n",
       "      <th>conversion_248(%)</th>\n",
       "    </tr>\n",
       "  </thead>\n",
       "  <tbody>\n",
       "    <tr>\n",
       "      <th>0</th>\n",
       "      <td>MainScreenAppear</td>\n",
       "      <td>2450</td>\n",
       "      <td>2476</td>\n",
       "      <td>2493</td>\n",
       "      <td>98.63</td>\n",
       "      <td>98.53</td>\n",
       "      <td>98.27</td>\n",
       "    </tr>\n",
       "    <tr>\n",
       "      <th>1</th>\n",
       "      <td>OffersScreenAppear</td>\n",
       "      <td>1542</td>\n",
       "      <td>1520</td>\n",
       "      <td>1531</td>\n",
       "      <td>62.08</td>\n",
       "      <td>60.49</td>\n",
       "      <td>60.35</td>\n",
       "    </tr>\n",
       "    <tr>\n",
       "      <th>2</th>\n",
       "      <td>CartScreenAppear</td>\n",
       "      <td>1266</td>\n",
       "      <td>1238</td>\n",
       "      <td>1230</td>\n",
       "      <td>50.97</td>\n",
       "      <td>49.26</td>\n",
       "      <td>48.48</td>\n",
       "    </tr>\n",
       "    <tr>\n",
       "      <th>3</th>\n",
       "      <td>PaymentScreenSuccessful</td>\n",
       "      <td>1200</td>\n",
       "      <td>1158</td>\n",
       "      <td>1181</td>\n",
       "      <td>48.31</td>\n",
       "      <td>46.08</td>\n",
       "      <td>46.55</td>\n",
       "    </tr>\n",
       "  </tbody>\n",
       "</table>\n",
       "</div>"
      ],
      "text/plain": [
       "                event_name   246   247   248  conversion_246(%)  \\\n",
       "0         MainScreenAppear  2450  2476  2493              98.63   \n",
       "1       OffersScreenAppear  1542  1520  1531              62.08   \n",
       "2         CartScreenAppear  1266  1238  1230              50.97   \n",
       "3  PaymentScreenSuccessful  1200  1158  1181              48.31   \n",
       "\n",
       "   conversion_247(%)  conversion_248(%)  \n",
       "0              98.53              98.27  \n",
       "1              60.49              60.35  \n",
       "2              49.26              48.48  \n",
       "3              46.08              46.55  "
      ]
     },
     "execution_count": 37,
     "metadata": {},
     "output_type": "execute_result"
    }
   ],
   "source": [
    "data_popular = data_filtered.pivot_table(index='event_name', values='device_id_hash', columns='exp_id', aggfunc='nunique').reset_index()\n",
    "data_popular.columns = ['event_name', 246, 247, 248]\n",
    "data_popular['conversion_246(%)'] = round((data_popular[246] / data_exp.device_id_hash[246] * 100), 2)\n",
    "data_popular['conversion_247(%)'] = round((data_popular[247] / data_exp.device_id_hash[247] * 100), 2)\n",
    "data_popular['conversion_248(%)'] = round((data_popular[248] / data_exp.device_id_hash[248] * 100), 2)\n",
    "data_popular = data_popular.sort_values(246, ascending=False).reset_index(drop=True)\n",
    "data_popular = data_popular.drop([4])\n",
    "data_popular"
   ]
  },
  {
   "cell_type": "markdown",
   "metadata": {},
   "source": [
    "Самым популярным событием является переход на главный экран. Число пользователей, совершивших это событие в группе 246: 2450, в группе 247: 2476, в группе 248: 2493. Доля пользователей, совершивших это событие в группе 246: 98.63%, в группе 247: 98.53%, в группе 248: 98.27%."
   ]
  },
  {
   "cell_type": "markdown",
   "metadata": {},
   "source": [
    "Проверим, находят ли статистические критерии разницу между выборками 246 и 248:"
   ]
  },
  {
   "cell_type": "code",
   "execution_count": 38,
   "metadata": {},
   "outputs": [
    {
     "name": "stdout",
     "output_type": "stream",
     "text": [
      "Проверяем группы 246 и 248, событие: MainScreenAppear, p-value = 0.29\n",
      "Не можем отвергнуть нулевую гипотезу\n",
      "\n",
      "Проверяем группы 246 и 248, событие: OffersScreenAppear, p-value = 0.21\n",
      "Не можем отвергнуть нулевую гипотезу\n",
      "\n",
      "Проверяем группы 246 и 248, событие: CartScreenAppear, p-value = 0.08\n",
      "Не можем отвергнуть нулевую гипотезу\n",
      "\n",
      "Проверяем группы 246 и 248, событие: PaymentScreenSuccessful, p-value = 0.21\n",
      "Не можем отвергнуть нулевую гипотезу\n",
      "\n"
     ]
    }
   ],
   "source": [
    "for event in data_funnels.index:\n",
    "    z_test(246, 248, event, 0.05)\n",
    "    print()"
   ]
  },
  {
   "cell_type": "markdown",
   "metadata": {},
   "source": [
    "Конверсия в обеих группах по каждому событию равна."
   ]
  },
  {
   "cell_type": "markdown",
   "metadata": {},
   "source": [
    "Проверим, находят ли статистические критерии разницу между выборками 247 и 248:"
   ]
  },
  {
   "cell_type": "code",
   "execution_count": 39,
   "metadata": {},
   "outputs": [
    {
     "name": "stdout",
     "output_type": "stream",
     "text": [
      "Проверяем группы 247 и 248, событие: MainScreenAppear, p-value = 0.46\n",
      "Не можем отвергнуть нулевую гипотезу\n",
      "\n",
      "Проверяем группы 247 и 248, событие: OffersScreenAppear, p-value = 0.92\n",
      "Не можем отвергнуть нулевую гипотезу\n",
      "\n",
      "Проверяем группы 247 и 248, событие: CartScreenAppear, p-value = 0.58\n",
      "Не можем отвергнуть нулевую гипотезу\n",
      "\n",
      "Проверяем группы 247 и 248, событие: PaymentScreenSuccessful, p-value = 0.74\n",
      "Не можем отвергнуть нулевую гипотезу\n",
      "\n"
     ]
    }
   ],
   "source": [
    "for event in data_funnels.index:\n",
    "    z_test(247, 248, event, 0.05)\n",
    "    print()"
   ]
  },
  {
   "cell_type": "markdown",
   "metadata": {},
   "source": [
    "Конверсия в обеих группах по каждому событию равна."
   ]
  },
  {
   "cell_type": "markdown",
   "metadata": {},
   "source": [
    "Проверим, находят ли статистические критерии разницу между объединенными выборками 246+247 и выборкой 248:"
   ]
  },
  {
   "cell_type": "code",
   "execution_count": 40,
   "metadata": {},
   "outputs": [
    {
     "name": "stdout",
     "output_type": "stream",
     "text": [
      "Проверяем группы 246+247 и 248, событие: MainScreenAppear, p-value = 0.29\n",
      "Не можем отвергнуть нулевую гипотезу\n",
      "\n",
      "Проверяем группы 246+247 и 248, событие: OffersScreenAppear, p-value = 0.43\n",
      "Не можем отвергнуть нулевую гипотезу\n",
      "\n",
      "Проверяем группы 246+247 и 248, событие: CartScreenAppear, p-value = 0.18\n",
      "Не можем отвергнуть нулевую гипотезу\n",
      "\n",
      "Проверяем группы 246+247 и 248, событие: PaymentScreenSuccessful, p-value = 0.60\n",
      "Не можем отвергнуть нулевую гипотезу\n",
      "\n"
     ]
    }
   ],
   "source": [
    "for event in data_funnels.index:\n",
    "    z_test('246+247', 248, event, 0.05)\n",
    "    print()"
   ]
  },
  {
   "cell_type": "markdown",
   "metadata": {},
   "source": [
    "Конверсия по каждому событию в выборках равна."
   ]
  },
  {
   "cell_type": "markdown",
   "metadata": {},
   "source": [
    "Исходя из полученных данных, можно сказать, что изменение дизайнов шрифтов никак не повлияло на пользователей."
   ]
  },
  {
   "cell_type": "markdown",
   "metadata": {},
   "source": [
    "Какой уровень значимости был выбран при проверке статистических гипотез? Посчитаем, сколько проверок статистических гипотез сделано:"
   ]
  },
  {
   "cell_type": "markdown",
   "metadata": {},
   "source": [
    "При проведении эксперимента было сделано 16 проверок статистических гипотез. Был выбран стандартный уровень значимости в 0.05, с применением поправки Бонферрони."
   ]
  },
  {
   "cell_type": "markdown",
   "metadata": {},
   "source": [
    "## Вывод"
   ]
  },
  {
   "cell_type": "markdown",
   "metadata": {},
   "source": [
    "В проекте была исследована конверсия пользователей для каждого уникального события в приложении и изучены результаты А/А/В тестов для контрольных групп со старым и новым типом шрифтов.\n",
    "\n",
    "В ходе работы было выявлено, что при переходе с главного экрана на экран с предложениями, теряется 37.42% пользователей. Возможно дело в неинтуитивном интерфейсе, ведь туториал пропускает большинство пользователей. От первого события до успешной оплаты доходит 46.87% пользователей.\n",
    "\n",
    "По результатам А/А/В тестов не было выявлено различий между экспериментальной и контрольными группами. Замена шрифтов никак не влияет на пользователей. Возможно стоит провести тест с большей выборкой."
   ]
  }
 ],
 "metadata": {
  "ExecuteTimeLog": [
   {
    "duration": 48,
    "start_time": "2023-01-09T16:26:22.248Z"
   },
   {
    "duration": 371,
    "start_time": "2023-01-09T16:26:47.959Z"
   },
   {
    "duration": 29,
    "start_time": "2023-01-09T16:27:04.393Z"
   },
   {
    "duration": 2,
    "start_time": "2023-01-09T16:27:06.941Z"
   },
   {
    "duration": 978,
    "start_time": "2023-01-09T16:27:07.206Z"
   },
   {
    "duration": 16,
    "start_time": "2023-01-09T16:27:08.186Z"
   },
   {
    "duration": 32,
    "start_time": "2023-01-09T16:27:08.204Z"
   },
   {
    "duration": 7,
    "start_time": "2023-01-09T16:27:51.806Z"
   },
   {
    "duration": 217,
    "start_time": "2023-01-09T16:30:37.996Z"
   },
   {
    "duration": 8,
    "start_time": "2023-01-09T16:30:39.068Z"
   },
   {
    "duration": 24,
    "start_time": "2023-01-09T16:31:01.179Z"
   },
   {
    "duration": 9,
    "start_time": "2023-01-09T16:31:38.017Z"
   },
   {
    "duration": 919,
    "start_time": "2023-01-09T16:32:48.521Z"
   },
   {
    "duration": 5,
    "start_time": "2023-01-09T16:33:22.981Z"
   },
   {
    "duration": 14,
    "start_time": "2023-01-09T16:34:01.910Z"
   },
   {
    "duration": 11,
    "start_time": "2023-01-09T16:38:16.238Z"
   },
   {
    "duration": 20,
    "start_time": "2023-01-09T16:38:28.150Z"
   },
   {
    "duration": 59,
    "start_time": "2023-01-09T16:39:31.224Z"
   },
   {
    "duration": 17,
    "start_time": "2023-01-09T16:40:24.954Z"
   },
   {
    "duration": 96,
    "start_time": "2023-01-09T16:41:31.527Z"
   },
   {
    "duration": 121,
    "start_time": "2023-01-09T16:41:46.162Z"
   },
   {
    "duration": 121,
    "start_time": "2023-01-09T16:41:52.624Z"
   },
   {
    "duration": 1134,
    "start_time": "2023-01-09T16:41:58.421Z"
   },
   {
    "duration": 183,
    "start_time": "2023-01-09T16:41:59.557Z"
   },
   {
    "duration": 15,
    "start_time": "2023-01-09T16:41:59.742Z"
   },
   {
    "duration": 50,
    "start_time": "2023-01-09T16:41:59.760Z"
   },
   {
    "duration": 14,
    "start_time": "2023-01-09T16:41:59.812Z"
   },
   {
    "duration": 24,
    "start_time": "2023-01-09T16:41:59.828Z"
   },
   {
    "duration": 96,
    "start_time": "2023-01-09T16:41:59.854Z"
   },
   {
    "duration": 25,
    "start_time": "2023-01-09T16:41:59.952Z"
   },
   {
    "duration": 156,
    "start_time": "2023-01-09T16:41:59.979Z"
   },
   {
    "duration": 1177,
    "start_time": "2023-01-09T16:42:50.182Z"
   },
   {
    "duration": 164,
    "start_time": "2023-01-09T16:42:51.361Z"
   },
   {
    "duration": 12,
    "start_time": "2023-01-09T16:42:51.527Z"
   },
   {
    "duration": 34,
    "start_time": "2023-01-09T16:42:51.541Z"
   },
   {
    "duration": 8,
    "start_time": "2023-01-09T16:42:51.578Z"
   },
   {
    "duration": 30,
    "start_time": "2023-01-09T16:42:51.588Z"
   },
   {
    "duration": 85,
    "start_time": "2023-01-09T16:42:51.620Z"
   },
   {
    "duration": 16,
    "start_time": "2023-01-09T16:42:51.707Z"
   },
   {
    "duration": 157,
    "start_time": "2023-01-09T16:42:51.724Z"
   },
   {
    "duration": 1264,
    "start_time": "2023-01-09T16:48:10.060Z"
   },
   {
    "duration": 16,
    "start_time": "2023-01-09T16:49:06.427Z"
   },
   {
    "duration": 1196,
    "start_time": "2023-01-09T16:49:20.632Z"
   },
   {
    "duration": 175,
    "start_time": "2023-01-09T16:49:21.830Z"
   },
   {
    "duration": 11,
    "start_time": "2023-01-09T16:49:22.007Z"
   },
   {
    "duration": 63,
    "start_time": "2023-01-09T16:49:22.019Z"
   },
   {
    "duration": 7,
    "start_time": "2023-01-09T16:49:22.085Z"
   },
   {
    "duration": 24,
    "start_time": "2023-01-09T16:49:22.094Z"
   },
   {
    "duration": 128,
    "start_time": "2023-01-09T16:49:22.120Z"
   },
   {
    "duration": 24,
    "start_time": "2023-01-09T16:49:22.250Z"
   },
   {
    "duration": 205,
    "start_time": "2023-01-09T16:49:22.277Z"
   },
   {
    "duration": 141,
    "start_time": "2023-01-09T16:49:22.484Z"
   },
   {
    "duration": 21,
    "start_time": "2023-01-09T16:49:53.709Z"
   },
   {
    "duration": 21,
    "start_time": "2023-01-09T16:52:06.280Z"
   },
   {
    "duration": 7,
    "start_time": "2023-01-09T16:52:52.153Z"
   },
   {
    "duration": 5,
    "start_time": "2023-01-09T16:53:03.718Z"
   },
   {
    "duration": 105,
    "start_time": "2023-01-09T16:55:01.454Z"
   },
   {
    "duration": 22,
    "start_time": "2023-01-09T16:55:19.802Z"
   },
   {
    "duration": 19,
    "start_time": "2023-01-09T16:56:58.026Z"
   },
   {
    "duration": 23,
    "start_time": "2023-01-09T16:57:08.114Z"
   },
   {
    "duration": 20,
    "start_time": "2023-01-09T16:58:07.455Z"
   },
   {
    "duration": 43,
    "start_time": "2023-01-09T16:58:50.270Z"
   },
   {
    "duration": 51,
    "start_time": "2023-01-09T16:59:03.820Z"
   },
   {
    "duration": 11,
    "start_time": "2023-01-09T16:59:42.486Z"
   },
   {
    "duration": 41,
    "start_time": "2023-01-09T17:06:33.411Z"
   },
   {
    "duration": 41,
    "start_time": "2023-01-09T17:06:44.899Z"
   },
   {
    "duration": 14,
    "start_time": "2023-01-09T17:07:12.953Z"
   },
   {
    "duration": 19,
    "start_time": "2023-01-09T17:07:25.296Z"
   },
   {
    "duration": 7,
    "start_time": "2023-01-09T17:11:41.477Z"
   },
   {
    "duration": 7,
    "start_time": "2023-01-09T17:11:55.340Z"
   },
   {
    "duration": 333,
    "start_time": "2023-01-09T17:28:43.123Z"
   },
   {
    "duration": 230,
    "start_time": "2023-01-09T17:29:23.461Z"
   },
   {
    "duration": 295,
    "start_time": "2023-01-09T17:29:34.061Z"
   },
   {
    "duration": 247,
    "start_time": "2023-01-09T17:29:40.509Z"
   },
   {
    "duration": 3,
    "start_time": "2023-01-09T17:31:33.056Z"
   },
   {
    "duration": 371,
    "start_time": "2023-01-09T17:31:33.375Z"
   },
   {
    "duration": 68,
    "start_time": "2023-01-09T17:51:04.385Z"
   },
   {
    "duration": 1469,
    "start_time": "2023-01-09T17:51:11.386Z"
   },
   {
    "duration": 296,
    "start_time": "2023-01-09T17:51:12.859Z"
   },
   {
    "duration": 14,
    "start_time": "2023-01-09T17:51:13.157Z"
   },
   {
    "duration": 35,
    "start_time": "2023-01-09T17:51:13.173Z"
   },
   {
    "duration": 8,
    "start_time": "2023-01-09T17:51:13.210Z"
   },
   {
    "duration": 11,
    "start_time": "2023-01-09T17:51:13.221Z"
   },
   {
    "duration": 64,
    "start_time": "2023-01-09T17:51:13.234Z"
   },
   {
    "duration": 36,
    "start_time": "2023-01-09T17:51:13.300Z"
   },
   {
    "duration": 157,
    "start_time": "2023-01-09T17:51:13.338Z"
   },
   {
    "duration": 187,
    "start_time": "2023-01-09T17:51:13.497Z"
   },
   {
    "duration": 39,
    "start_time": "2023-01-09T17:51:13.686Z"
   },
   {
    "duration": 41,
    "start_time": "2023-01-09T17:51:13.726Z"
   },
   {
    "duration": 12,
    "start_time": "2023-01-09T17:51:13.768Z"
   },
   {
    "duration": 49,
    "start_time": "2023-01-09T17:51:13.783Z"
   },
   {
    "duration": 7,
    "start_time": "2023-01-09T17:51:13.834Z"
   },
   {
    "duration": 9,
    "start_time": "2023-01-09T17:51:13.842Z"
   },
   {
    "duration": 15,
    "start_time": "2023-01-09T17:51:13.853Z"
   },
   {
    "duration": 434,
    "start_time": "2023-01-09T17:51:13.870Z"
   },
   {
    "duration": 117,
    "start_time": "2023-01-09T17:51:14.306Z"
   },
   {
    "duration": 50,
    "start_time": "2023-01-09T18:04:53.785Z"
   },
   {
    "duration": 1390,
    "start_time": "2023-01-09T18:04:59.091Z"
   },
   {
    "duration": 1273,
    "start_time": "2023-01-09T18:05:00.483Z"
   },
   {
    "duration": 11,
    "start_time": "2023-01-09T18:05:01.758Z"
   },
   {
    "duration": 20,
    "start_time": "2023-01-09T18:05:01.771Z"
   },
   {
    "duration": 8,
    "start_time": "2023-01-09T18:05:01.794Z"
   },
   {
    "duration": 20,
    "start_time": "2023-01-09T18:05:01.804Z"
   },
   {
    "duration": 68,
    "start_time": "2023-01-09T18:05:01.825Z"
   },
   {
    "duration": 27,
    "start_time": "2023-01-09T18:05:01.894Z"
   },
   {
    "duration": 150,
    "start_time": "2023-01-09T18:05:01.922Z"
   },
   {
    "duration": 143,
    "start_time": "2023-01-09T18:05:02.073Z"
   },
   {
    "duration": 19,
    "start_time": "2023-01-09T18:05:02.218Z"
   },
   {
    "duration": 29,
    "start_time": "2023-01-09T18:05:02.239Z"
   },
   {
    "duration": 10,
    "start_time": "2023-01-09T18:05:02.271Z"
   },
   {
    "duration": 42,
    "start_time": "2023-01-09T18:05:02.284Z"
   },
   {
    "duration": 8,
    "start_time": "2023-01-09T18:05:02.328Z"
   },
   {
    "duration": 9,
    "start_time": "2023-01-09T18:05:02.338Z"
   },
   {
    "duration": 4,
    "start_time": "2023-01-09T18:05:02.349Z"
   },
   {
    "duration": 394,
    "start_time": "2023-01-09T18:05:02.355Z"
   },
   {
    "duration": 23,
    "start_time": "2023-01-09T18:05:02.751Z"
   },
   {
    "duration": 16,
    "start_time": "2023-01-09T18:05:37.888Z"
   },
   {
    "duration": 3,
    "start_time": "2023-01-09T18:05:59.221Z"
   },
   {
    "duration": 4,
    "start_time": "2023-01-09T18:06:03.825Z"
   },
   {
    "duration": 1178,
    "start_time": "2023-01-09T18:06:11.182Z"
   },
   {
    "duration": 161,
    "start_time": "2023-01-09T18:06:12.362Z"
   },
   {
    "duration": 12,
    "start_time": "2023-01-09T18:06:12.524Z"
   },
   {
    "duration": 39,
    "start_time": "2023-01-09T18:06:12.538Z"
   },
   {
    "duration": 8,
    "start_time": "2023-01-09T18:06:12.580Z"
   },
   {
    "duration": 27,
    "start_time": "2023-01-09T18:06:12.590Z"
   },
   {
    "duration": 75,
    "start_time": "2023-01-09T18:06:12.619Z"
   },
   {
    "duration": 25,
    "start_time": "2023-01-09T18:06:12.696Z"
   },
   {
    "duration": 164,
    "start_time": "2023-01-09T18:06:12.723Z"
   },
   {
    "duration": 150,
    "start_time": "2023-01-09T18:06:12.889Z"
   },
   {
    "duration": 18,
    "start_time": "2023-01-09T18:06:13.040Z"
   },
   {
    "duration": 37,
    "start_time": "2023-01-09T18:06:13.060Z"
   },
   {
    "duration": 21,
    "start_time": "2023-01-09T18:06:13.099Z"
   },
   {
    "duration": 33,
    "start_time": "2023-01-09T18:06:13.123Z"
   },
   {
    "duration": 36,
    "start_time": "2023-01-09T18:06:13.158Z"
   },
   {
    "duration": 26,
    "start_time": "2023-01-09T18:06:13.196Z"
   },
   {
    "duration": 27,
    "start_time": "2023-01-09T18:06:13.224Z"
   },
   {
    "duration": 382,
    "start_time": "2023-01-09T18:06:13.253Z"
   },
   {
    "duration": 22,
    "start_time": "2023-01-09T18:06:13.637Z"
   },
   {
    "duration": 27,
    "start_time": "2023-01-09T18:06:13.661Z"
   },
   {
    "duration": 31,
    "start_time": "2023-01-09T18:06:13.690Z"
   },
   {
    "duration": 62,
    "start_time": "2023-01-09T18:15:18.492Z"
   },
   {
    "duration": 1317,
    "start_time": "2023-01-09T18:15:23.276Z"
   },
   {
    "duration": 297,
    "start_time": "2023-01-09T18:15:24.595Z"
   },
   {
    "duration": 10,
    "start_time": "2023-01-09T18:15:24.894Z"
   },
   {
    "duration": 27,
    "start_time": "2023-01-09T18:15:24.906Z"
   },
   {
    "duration": 13,
    "start_time": "2023-01-09T18:15:24.935Z"
   },
   {
    "duration": 15,
    "start_time": "2023-01-09T18:15:24.949Z"
   },
   {
    "duration": 76,
    "start_time": "2023-01-09T18:15:24.966Z"
   },
   {
    "duration": 14,
    "start_time": "2023-01-09T18:15:25.044Z"
   },
   {
    "duration": 129,
    "start_time": "2023-01-09T18:15:25.060Z"
   },
   {
    "duration": 128,
    "start_time": "2023-01-09T18:15:25.191Z"
   },
   {
    "duration": 23,
    "start_time": "2023-01-09T18:15:25.321Z"
   },
   {
    "duration": 45,
    "start_time": "2023-01-09T18:15:25.346Z"
   },
   {
    "duration": 22,
    "start_time": "2023-01-09T18:15:25.393Z"
   },
   {
    "duration": 24,
    "start_time": "2023-01-09T18:15:25.419Z"
   },
   {
    "duration": 14,
    "start_time": "2023-01-09T18:15:25.445Z"
   },
   {
    "duration": 8,
    "start_time": "2023-01-09T18:15:25.461Z"
   },
   {
    "duration": 5,
    "start_time": "2023-01-09T18:15:25.471Z"
   },
   {
    "duration": 381,
    "start_time": "2023-01-09T18:15:25.478Z"
   },
   {
    "duration": 21,
    "start_time": "2023-01-09T18:15:25.861Z"
   },
   {
    "duration": 3,
    "start_time": "2023-01-09T18:15:25.884Z"
   },
   {
    "duration": 19,
    "start_time": "2023-01-09T18:15:25.889Z"
   },
   {
    "duration": 10,
    "start_time": "2023-01-09T18:15:25.909Z"
   },
   {
    "duration": 1415,
    "start_time": "2023-01-10T13:24:29.749Z"
   },
   {
    "duration": 277,
    "start_time": "2023-01-10T13:24:31.166Z"
   },
   {
    "duration": 15,
    "start_time": "2023-01-10T13:24:31.445Z"
   },
   {
    "duration": 34,
    "start_time": "2023-01-10T13:24:31.463Z"
   },
   {
    "duration": 11,
    "start_time": "2023-01-10T13:24:31.499Z"
   },
   {
    "duration": 42,
    "start_time": "2023-01-10T13:24:31.512Z"
   },
   {
    "duration": 84,
    "start_time": "2023-01-10T13:24:31.556Z"
   },
   {
    "duration": 15,
    "start_time": "2023-01-10T13:24:31.641Z"
   },
   {
    "duration": 143,
    "start_time": "2023-01-10T13:24:31.657Z"
   },
   {
    "duration": 189,
    "start_time": "2023-01-10T13:24:31.804Z"
   },
   {
    "duration": 29,
    "start_time": "2023-01-10T13:24:31.995Z"
   },
   {
    "duration": 43,
    "start_time": "2023-01-10T13:24:32.026Z"
   },
   {
    "duration": 17,
    "start_time": "2023-01-10T13:24:32.070Z"
   },
   {
    "duration": 28,
    "start_time": "2023-01-10T13:24:32.089Z"
   },
   {
    "duration": 20,
    "start_time": "2023-01-10T13:24:32.118Z"
   },
   {
    "duration": 25,
    "start_time": "2023-01-10T13:24:32.140Z"
   },
   {
    "duration": 15,
    "start_time": "2023-01-10T13:24:32.167Z"
   },
   {
    "duration": 403,
    "start_time": "2023-01-10T13:24:32.183Z"
   },
   {
    "duration": 23,
    "start_time": "2023-01-10T13:24:32.589Z"
   },
   {
    "duration": 4,
    "start_time": "2023-01-10T13:24:32.614Z"
   },
   {
    "duration": 8,
    "start_time": "2023-01-10T13:24:32.620Z"
   },
   {
    "duration": 19,
    "start_time": "2023-01-10T13:24:32.629Z"
   },
   {
    "duration": 133,
    "start_time": "2023-01-10T13:24:32.650Z"
   },
   {
    "duration": 40,
    "start_time": "2023-01-10T13:31:13.007Z"
   },
   {
    "duration": 40,
    "start_time": "2023-01-10T13:35:09.216Z"
   },
   {
    "duration": 41,
    "start_time": "2023-01-10T13:35:21.431Z"
   },
   {
    "duration": 31,
    "start_time": "2023-01-10T13:35:23.993Z"
   },
   {
    "duration": 24,
    "start_time": "2023-01-10T13:36:31.450Z"
   },
   {
    "duration": 99,
    "start_time": "2023-01-10T13:36:56.806Z"
   },
   {
    "duration": 73,
    "start_time": "2023-01-10T13:37:06.038Z"
   },
   {
    "duration": 14,
    "start_time": "2023-01-10T13:39:50.962Z"
   },
   {
    "duration": 74,
    "start_time": "2023-01-10T13:40:18.091Z"
   },
   {
    "duration": 1496,
    "start_time": "2023-01-10T15:02:22.037Z"
   },
   {
    "duration": 809,
    "start_time": "2023-01-10T15:02:23.535Z"
   },
   {
    "duration": 12,
    "start_time": "2023-01-10T15:02:24.346Z"
   },
   {
    "duration": 26,
    "start_time": "2023-01-10T15:02:24.360Z"
   },
   {
    "duration": 9,
    "start_time": "2023-01-10T15:02:24.388Z"
   },
   {
    "duration": 21,
    "start_time": "2023-01-10T15:02:24.398Z"
   },
   {
    "duration": 95,
    "start_time": "2023-01-10T15:02:24.421Z"
   },
   {
    "duration": 34,
    "start_time": "2023-01-10T15:02:24.518Z"
   },
   {
    "duration": 154,
    "start_time": "2023-01-10T15:02:24.554Z"
   },
   {
    "duration": 150,
    "start_time": "2023-01-10T15:02:24.710Z"
   },
   {
    "duration": 23,
    "start_time": "2023-01-10T15:02:24.861Z"
   },
   {
    "duration": 35,
    "start_time": "2023-01-10T15:02:24.886Z"
   },
   {
    "duration": 29,
    "start_time": "2023-01-10T15:02:24.923Z"
   },
   {
    "duration": 18,
    "start_time": "2023-01-10T15:02:24.955Z"
   },
   {
    "duration": 6,
    "start_time": "2023-01-10T15:02:24.975Z"
   },
   {
    "duration": 15,
    "start_time": "2023-01-10T15:02:24.982Z"
   },
   {
    "duration": 3,
    "start_time": "2023-01-10T15:02:24.999Z"
   },
   {
    "duration": 425,
    "start_time": "2023-01-10T15:02:25.004Z"
   },
   {
    "duration": 29,
    "start_time": "2023-01-10T15:02:25.431Z"
   },
   {
    "duration": 4,
    "start_time": "2023-01-10T15:02:25.462Z"
   },
   {
    "duration": 8,
    "start_time": "2023-01-10T15:02:25.467Z"
   },
   {
    "duration": 13,
    "start_time": "2023-01-10T15:02:25.477Z"
   },
   {
    "duration": 36,
    "start_time": "2023-01-10T15:02:25.492Z"
   },
   {
    "duration": 79,
    "start_time": "2023-01-10T15:02:25.550Z"
   },
   {
    "duration": 72,
    "start_time": "2023-01-10T15:02:25.631Z"
   },
   {
    "duration": 1259,
    "start_time": "2023-01-10T15:02:25.705Z"
   },
   {
    "duration": 10,
    "start_time": "2023-01-10T15:04:55.834Z"
   },
   {
    "duration": 52,
    "start_time": "2023-01-10T15:09:59.812Z"
   },
   {
    "duration": 57,
    "start_time": "2023-01-10T15:10:07.334Z"
   },
   {
    "duration": 95,
    "start_time": "2023-01-10T15:43:02.388Z"
   },
   {
    "duration": 90,
    "start_time": "2023-01-10T15:43:34.283Z"
   },
   {
    "duration": 130,
    "start_time": "2023-01-10T15:43:59.577Z"
   },
   {
    "duration": 89,
    "start_time": "2023-01-10T15:44:22.581Z"
   },
   {
    "duration": 99,
    "start_time": "2023-01-10T15:45:28.008Z"
   },
   {
    "duration": 112,
    "start_time": "2023-01-10T15:46:24.065Z"
   },
   {
    "duration": 129,
    "start_time": "2023-01-10T15:46:41.886Z"
   },
   {
    "duration": 124,
    "start_time": "2023-01-10T15:50:14.145Z"
   },
   {
    "duration": 88,
    "start_time": "2023-01-10T16:08:06.285Z"
   },
   {
    "duration": 89,
    "start_time": "2023-01-10T16:08:26.935Z"
   },
   {
    "duration": 113,
    "start_time": "2023-01-10T16:09:29.205Z"
   },
   {
    "duration": 101,
    "start_time": "2023-01-10T16:25:03.940Z"
   },
   {
    "duration": 14,
    "start_time": "2023-01-10T16:31:53.179Z"
   },
   {
    "duration": 4,
    "start_time": "2023-01-10T16:32:07.386Z"
   },
   {
    "duration": 5,
    "start_time": "2023-01-10T16:32:10.654Z"
   },
   {
    "duration": 14,
    "start_time": "2023-01-10T16:32:17.183Z"
   },
   {
    "duration": 17,
    "start_time": "2023-01-10T16:32:28.693Z"
   },
   {
    "duration": 15,
    "start_time": "2023-01-10T16:33:26.539Z"
   },
   {
    "duration": 107,
    "start_time": "2023-01-10T16:51:45.337Z"
   },
   {
    "duration": 20,
    "start_time": "2023-01-10T16:54:25.786Z"
   },
   {
    "duration": 19,
    "start_time": "2023-01-10T16:55:34.339Z"
   },
   {
    "duration": 96,
    "start_time": "2023-01-10T17:11:24.043Z"
   },
   {
    "duration": 99,
    "start_time": "2023-01-10T17:12:30.523Z"
   },
   {
    "duration": 1472,
    "start_time": "2023-01-11T12:21:57.860Z"
   },
   {
    "duration": 306,
    "start_time": "2023-01-11T12:21:59.334Z"
   },
   {
    "duration": 13,
    "start_time": "2023-01-11T12:21:59.641Z"
   },
   {
    "duration": 31,
    "start_time": "2023-01-11T12:21:59.656Z"
   },
   {
    "duration": 10,
    "start_time": "2023-01-11T12:21:59.690Z"
   },
   {
    "duration": 24,
    "start_time": "2023-01-11T12:21:59.702Z"
   },
   {
    "duration": 87,
    "start_time": "2023-01-11T12:21:59.728Z"
   },
   {
    "duration": 18,
    "start_time": "2023-01-11T12:21:59.816Z"
   },
   {
    "duration": 164,
    "start_time": "2023-01-11T12:21:59.836Z"
   },
   {
    "duration": 144,
    "start_time": "2023-01-11T12:22:00.002Z"
   },
   {
    "duration": 31,
    "start_time": "2023-01-11T12:22:00.148Z"
   },
   {
    "duration": 34,
    "start_time": "2023-01-11T12:22:00.181Z"
   },
   {
    "duration": 39,
    "start_time": "2023-01-11T12:22:00.217Z"
   },
   {
    "duration": 19,
    "start_time": "2023-01-11T12:22:00.260Z"
   },
   {
    "duration": 18,
    "start_time": "2023-01-11T12:22:00.281Z"
   },
   {
    "duration": 39,
    "start_time": "2023-01-11T12:22:00.302Z"
   },
   {
    "duration": 19,
    "start_time": "2023-01-11T12:22:00.343Z"
   },
   {
    "duration": 398,
    "start_time": "2023-01-11T12:22:00.364Z"
   },
   {
    "duration": 21,
    "start_time": "2023-01-11T12:22:00.764Z"
   },
   {
    "duration": 34,
    "start_time": "2023-01-11T12:22:00.787Z"
   },
   {
    "duration": 69,
    "start_time": "2023-01-11T12:22:00.823Z"
   },
   {
    "duration": 78,
    "start_time": "2023-01-11T12:22:00.893Z"
   },
   {
    "duration": 125,
    "start_time": "2023-01-11T12:22:00.973Z"
   },
   {
    "duration": 126,
    "start_time": "2023-01-11T12:22:01.100Z"
   },
   {
    "duration": 57,
    "start_time": "2023-01-11T12:22:01.228Z"
   },
   {
    "duration": 9,
    "start_time": "2023-01-11T12:22:01.287Z"
   },
   {
    "duration": 98,
    "start_time": "2023-01-11T12:22:01.298Z"
   },
   {
    "duration": 119,
    "start_time": "2023-01-11T12:22:01.398Z"
   },
   {
    "duration": 7,
    "start_time": "2023-01-11T12:22:01.519Z"
   },
   {
    "duration": 114,
    "start_time": "2023-01-11T12:31:47.532Z"
   },
   {
    "duration": 126,
    "start_time": "2023-01-11T12:32:31.922Z"
   },
   {
    "duration": 13,
    "start_time": "2023-01-11T12:32:58.630Z"
   },
   {
    "duration": 867,
    "start_time": "2023-01-11T12:35:39.016Z"
   },
   {
    "duration": 90,
    "start_time": "2023-01-11T12:35:59.506Z"
   },
   {
    "duration": 90,
    "start_time": "2023-01-11T12:39:22.552Z"
   },
   {
    "duration": 84,
    "start_time": "2023-01-11T12:39:36.502Z"
   },
   {
    "duration": 78,
    "start_time": "2023-01-11T12:42:47.361Z"
   },
   {
    "duration": 83,
    "start_time": "2023-01-11T12:42:58.920Z"
   },
   {
    "duration": 88,
    "start_time": "2023-01-11T12:43:18.458Z"
   },
   {
    "duration": 90,
    "start_time": "2023-01-11T12:44:58.122Z"
   },
   {
    "duration": 91,
    "start_time": "2023-01-11T12:50:57.152Z"
   },
   {
    "duration": 97,
    "start_time": "2023-01-11T12:51:13.999Z"
   },
   {
    "duration": 133,
    "start_time": "2023-01-11T12:52:16.538Z"
   },
   {
    "duration": 85,
    "start_time": "2023-01-11T12:52:48.787Z"
   },
   {
    "duration": 1330,
    "start_time": "2023-01-11T12:53:17.952Z"
   },
   {
    "duration": 166,
    "start_time": "2023-01-11T12:53:19.285Z"
   },
   {
    "duration": 13,
    "start_time": "2023-01-11T12:53:19.453Z"
   },
   {
    "duration": 22,
    "start_time": "2023-01-11T12:53:19.469Z"
   },
   {
    "duration": 8,
    "start_time": "2023-01-11T12:53:19.494Z"
   },
   {
    "duration": 19,
    "start_time": "2023-01-11T12:53:19.504Z"
   },
   {
    "duration": 100,
    "start_time": "2023-01-11T12:53:19.525Z"
   },
   {
    "duration": 39,
    "start_time": "2023-01-11T12:53:19.627Z"
   },
   {
    "duration": 151,
    "start_time": "2023-01-11T12:53:19.668Z"
   },
   {
    "duration": 178,
    "start_time": "2023-01-11T12:53:19.821Z"
   },
   {
    "duration": 26,
    "start_time": "2023-01-11T12:53:20.001Z"
   },
   {
    "duration": 55,
    "start_time": "2023-01-11T12:53:20.029Z"
   },
   {
    "duration": 11,
    "start_time": "2023-01-11T12:53:20.086Z"
   },
   {
    "duration": 20,
    "start_time": "2023-01-11T12:53:20.100Z"
   },
   {
    "duration": 34,
    "start_time": "2023-01-11T12:53:20.122Z"
   },
   {
    "duration": 7,
    "start_time": "2023-01-11T12:53:20.158Z"
   },
   {
    "duration": 8,
    "start_time": "2023-01-11T12:53:20.167Z"
   },
   {
    "duration": 441,
    "start_time": "2023-01-11T12:53:20.177Z"
   },
   {
    "duration": 35,
    "start_time": "2023-01-11T12:53:20.620Z"
   },
   {
    "duration": 6,
    "start_time": "2023-01-11T12:53:20.658Z"
   },
   {
    "duration": 13,
    "start_time": "2023-01-11T12:53:20.666Z"
   },
   {
    "duration": 10,
    "start_time": "2023-01-11T12:53:20.681Z"
   },
   {
    "duration": 61,
    "start_time": "2023-01-11T12:53:20.693Z"
   },
   {
    "duration": 99,
    "start_time": "2023-01-11T12:53:20.756Z"
   },
   {
    "duration": 66,
    "start_time": "2023-01-11T12:53:20.857Z"
   },
   {
    "duration": 10,
    "start_time": "2023-01-11T12:53:20.925Z"
   },
   {
    "duration": 47,
    "start_time": "2023-01-11T12:53:20.957Z"
   },
   {
    "duration": 124,
    "start_time": "2023-01-11T12:53:21.006Z"
   },
   {
    "duration": 43,
    "start_time": "2023-01-11T12:53:21.133Z"
   },
   {
    "duration": 0,
    "start_time": "2023-01-11T12:53:21.178Z"
   },
   {
    "duration": 905,
    "start_time": "2023-01-11T12:58:54.428Z"
   },
   {
    "duration": 88,
    "start_time": "2023-01-11T13:00:12.475Z"
   },
   {
    "duration": 6,
    "start_time": "2023-01-11T13:00:17.398Z"
   },
   {
    "duration": 3,
    "start_time": "2023-01-11T13:03:16.018Z"
   },
   {
    "duration": 86,
    "start_time": "2023-01-11T13:03:40.948Z"
   },
   {
    "duration": 723,
    "start_time": "2023-01-11T13:03:45.467Z"
   },
   {
    "duration": 94,
    "start_time": "2023-01-11T13:04:02.500Z"
   },
   {
    "duration": 4,
    "start_time": "2023-01-11T13:04:04.458Z"
   },
   {
    "duration": 5,
    "start_time": "2023-01-11T13:15:23.293Z"
   },
   {
    "duration": 9,
    "start_time": "2023-01-11T13:18:48.318Z"
   },
   {
    "duration": 19,
    "start_time": "2023-01-11T13:19:07.407Z"
   },
   {
    "duration": 1325,
    "start_time": "2023-01-12T10:22:21.868Z"
   },
   {
    "duration": 1347,
    "start_time": "2023-01-12T10:22:23.196Z"
   },
   {
    "duration": 13,
    "start_time": "2023-01-12T10:22:24.545Z"
   },
   {
    "duration": 28,
    "start_time": "2023-01-12T10:22:24.560Z"
   },
   {
    "duration": 10,
    "start_time": "2023-01-12T10:22:24.590Z"
   },
   {
    "duration": 53,
    "start_time": "2023-01-12T10:22:24.602Z"
   },
   {
    "duration": 83,
    "start_time": "2023-01-12T10:22:24.657Z"
   },
   {
    "duration": 17,
    "start_time": "2023-01-12T10:22:24.744Z"
   },
   {
    "duration": 163,
    "start_time": "2023-01-12T10:22:24.763Z"
   },
   {
    "duration": 158,
    "start_time": "2023-01-12T10:22:24.937Z"
   },
   {
    "duration": 30,
    "start_time": "2023-01-12T10:22:25.097Z"
   },
   {
    "duration": 75,
    "start_time": "2023-01-12T10:22:25.129Z"
   },
   {
    "duration": 17,
    "start_time": "2023-01-12T10:22:25.206Z"
   },
   {
    "duration": 52,
    "start_time": "2023-01-12T10:22:25.229Z"
   },
   {
    "duration": 19,
    "start_time": "2023-01-12T10:22:25.283Z"
   },
   {
    "duration": 48,
    "start_time": "2023-01-12T10:22:25.304Z"
   },
   {
    "duration": 6,
    "start_time": "2023-01-12T10:22:25.354Z"
   },
   {
    "duration": 537,
    "start_time": "2023-01-12T10:22:25.362Z"
   },
   {
    "duration": 41,
    "start_time": "2023-01-12T10:22:25.901Z"
   },
   {
    "duration": 30,
    "start_time": "2023-01-12T10:22:25.945Z"
   },
   {
    "duration": 17,
    "start_time": "2023-01-12T10:22:25.977Z"
   },
   {
    "duration": 13,
    "start_time": "2023-01-12T10:22:26.005Z"
   },
   {
    "duration": 105,
    "start_time": "2023-01-12T10:22:26.020Z"
   },
   {
    "duration": 108,
    "start_time": "2023-01-12T10:22:26.129Z"
   },
   {
    "duration": 57,
    "start_time": "2023-01-12T10:22:26.244Z"
   },
   {
    "duration": 13,
    "start_time": "2023-01-12T10:22:26.304Z"
   },
   {
    "duration": 103,
    "start_time": "2023-01-12T10:22:26.319Z"
   },
   {
    "duration": 104,
    "start_time": "2023-01-12T10:22:26.425Z"
   },
   {
    "duration": 4,
    "start_time": "2023-01-12T10:22:26.534Z"
   },
   {
    "duration": 9,
    "start_time": "2023-01-12T10:22:26.540Z"
   },
   {
    "duration": 123,
    "start_time": "2023-01-12T10:22:26.550Z"
   },
   {
    "duration": 11,
    "start_time": "2023-01-12T10:32:24.633Z"
   },
   {
    "duration": 4,
    "start_time": "2023-01-12T10:32:36.916Z"
   },
   {
    "duration": 4,
    "start_time": "2023-01-12T10:32:38.901Z"
   },
   {
    "duration": 15,
    "start_time": "2023-01-12T10:32:41.050Z"
   },
   {
    "duration": 5,
    "start_time": "2023-01-12T10:33:32.845Z"
   },
   {
    "duration": 12,
    "start_time": "2023-01-12T10:33:34.033Z"
   },
   {
    "duration": 12,
    "start_time": "2023-01-12T10:33:47.122Z"
   },
   {
    "duration": 11,
    "start_time": "2023-01-12T10:34:57.910Z"
   },
   {
    "duration": 13,
    "start_time": "2023-01-12T10:36:07.224Z"
   },
   {
    "duration": 1271,
    "start_time": "2023-01-12T10:36:30.398Z"
   },
   {
    "duration": 168,
    "start_time": "2023-01-12T10:36:31.670Z"
   },
   {
    "duration": 10,
    "start_time": "2023-01-12T10:36:31.840Z"
   },
   {
    "duration": 21,
    "start_time": "2023-01-12T10:36:31.851Z"
   },
   {
    "duration": 8,
    "start_time": "2023-01-12T10:36:31.874Z"
   },
   {
    "duration": 34,
    "start_time": "2023-01-12T10:36:31.883Z"
   },
   {
    "duration": 67,
    "start_time": "2023-01-12T10:36:31.919Z"
   },
   {
    "duration": 31,
    "start_time": "2023-01-12T10:36:31.988Z"
   },
   {
    "duration": 141,
    "start_time": "2023-01-12T10:36:32.022Z"
   },
   {
    "duration": 158,
    "start_time": "2023-01-12T10:36:32.165Z"
   },
   {
    "duration": 20,
    "start_time": "2023-01-12T10:36:32.326Z"
   },
   {
    "duration": 27,
    "start_time": "2023-01-12T10:36:32.348Z"
   },
   {
    "duration": 9,
    "start_time": "2023-01-12T10:36:32.376Z"
   },
   {
    "duration": 47,
    "start_time": "2023-01-12T10:36:32.387Z"
   },
   {
    "duration": 5,
    "start_time": "2023-01-12T10:36:32.436Z"
   },
   {
    "duration": 7,
    "start_time": "2023-01-12T10:36:32.442Z"
   },
   {
    "duration": 3,
    "start_time": "2023-01-12T10:36:32.450Z"
   },
   {
    "duration": 405,
    "start_time": "2023-01-12T10:36:32.455Z"
   },
   {
    "duration": 19,
    "start_time": "2023-01-12T10:36:32.861Z"
   },
   {
    "duration": 3,
    "start_time": "2023-01-12T10:36:32.882Z"
   },
   {
    "duration": 5,
    "start_time": "2023-01-12T10:36:32.887Z"
   },
   {
    "duration": 31,
    "start_time": "2023-01-12T10:36:32.893Z"
   },
   {
    "duration": 32,
    "start_time": "2023-01-12T10:36:32.926Z"
   },
   {
    "duration": 82,
    "start_time": "2023-01-12T10:36:32.960Z"
   },
   {
    "duration": 48,
    "start_time": "2023-01-12T10:36:33.044Z"
   },
   {
    "duration": 21,
    "start_time": "2023-01-12T10:36:33.093Z"
   },
   {
    "duration": 46,
    "start_time": "2023-01-12T10:36:33.116Z"
   },
   {
    "duration": 96,
    "start_time": "2023-01-12T10:36:33.164Z"
   },
   {
    "duration": 3,
    "start_time": "2023-01-12T10:36:33.261Z"
   },
   {
    "duration": 6,
    "start_time": "2023-01-12T10:36:33.266Z"
   },
   {
    "duration": 129,
    "start_time": "2023-01-12T10:36:33.274Z"
   },
   {
    "duration": 3,
    "start_time": "2023-01-12T10:38:32.528Z"
   },
   {
    "duration": 9,
    "start_time": "2023-01-12T10:38:37.431Z"
   },
   {
    "duration": 5,
    "start_time": "2023-01-12T10:38:45.293Z"
   },
   {
    "duration": 6,
    "start_time": "2023-01-12T10:41:07.836Z"
   },
   {
    "duration": 1496,
    "start_time": "2023-01-12T10:50:26.103Z"
   },
   {
    "duration": 1647,
    "start_time": "2023-01-12T10:50:27.601Z"
   },
   {
    "duration": 11,
    "start_time": "2023-01-12T10:50:29.250Z"
   },
   {
    "duration": 26,
    "start_time": "2023-01-12T10:50:29.263Z"
   },
   {
    "duration": 8,
    "start_time": "2023-01-12T10:50:29.291Z"
   },
   {
    "duration": 15,
    "start_time": "2023-01-12T10:50:29.305Z"
   },
   {
    "duration": 66,
    "start_time": "2023-01-12T10:50:29.322Z"
   },
   {
    "duration": 27,
    "start_time": "2023-01-12T10:50:29.406Z"
   },
   {
    "duration": 150,
    "start_time": "2023-01-12T10:50:29.435Z"
   },
   {
    "duration": 138,
    "start_time": "2023-01-12T10:50:29.587Z"
   },
   {
    "duration": 21,
    "start_time": "2023-01-12T10:50:29.727Z"
   },
   {
    "duration": 35,
    "start_time": "2023-01-12T10:50:29.750Z"
   },
   {
    "duration": 30,
    "start_time": "2023-01-12T10:50:29.786Z"
   },
   {
    "duration": 35,
    "start_time": "2023-01-12T10:50:29.820Z"
   },
   {
    "duration": 10,
    "start_time": "2023-01-12T10:50:29.857Z"
   },
   {
    "duration": 9,
    "start_time": "2023-01-12T10:50:29.868Z"
   },
   {
    "duration": 26,
    "start_time": "2023-01-12T10:50:29.878Z"
   },
   {
    "duration": 384,
    "start_time": "2023-01-12T10:50:29.905Z"
   },
   {
    "duration": 29,
    "start_time": "2023-01-12T10:50:30.291Z"
   },
   {
    "duration": 5,
    "start_time": "2023-01-12T10:50:30.322Z"
   },
   {
    "duration": 28,
    "start_time": "2023-01-12T10:50:30.328Z"
   },
   {
    "duration": 54,
    "start_time": "2023-01-12T10:50:30.357Z"
   },
   {
    "duration": 43,
    "start_time": "2023-01-12T10:50:30.412Z"
   },
   {
    "duration": 95,
    "start_time": "2023-01-12T10:50:30.457Z"
   },
   {
    "duration": 63,
    "start_time": "2023-01-12T10:50:30.554Z"
   },
   {
    "duration": 9,
    "start_time": "2023-01-12T10:50:30.619Z"
   },
   {
    "duration": 89,
    "start_time": "2023-01-12T10:50:30.629Z"
   },
   {
    "duration": 92,
    "start_time": "2023-01-12T10:50:30.720Z"
   },
   {
    "duration": 3,
    "start_time": "2023-01-12T10:50:30.814Z"
   },
   {
    "duration": 31,
    "start_time": "2023-01-12T10:50:30.819Z"
   },
   {
    "duration": 13,
    "start_time": "2023-01-12T10:50:30.852Z"
   },
   {
    "duration": 91,
    "start_time": "2023-01-12T10:51:12.315Z"
   },
   {
    "duration": 1191,
    "start_time": "2023-01-12T10:52:06.469Z"
   },
   {
    "duration": 198,
    "start_time": "2023-01-12T10:52:07.663Z"
   },
   {
    "duration": 19,
    "start_time": "2023-01-12T10:52:07.863Z"
   },
   {
    "duration": 41,
    "start_time": "2023-01-12T10:52:07.884Z"
   },
   {
    "duration": 9,
    "start_time": "2023-01-12T10:52:07.928Z"
   },
   {
    "duration": 17,
    "start_time": "2023-01-12T10:52:07.939Z"
   },
   {
    "duration": 90,
    "start_time": "2023-01-12T10:52:07.957Z"
   },
   {
    "duration": 17,
    "start_time": "2023-01-12T10:52:08.048Z"
   },
   {
    "duration": 152,
    "start_time": "2023-01-12T10:52:08.066Z"
   },
   {
    "duration": 144,
    "start_time": "2023-01-12T10:52:08.220Z"
   },
   {
    "duration": 21,
    "start_time": "2023-01-12T10:52:08.366Z"
   },
   {
    "duration": 50,
    "start_time": "2023-01-12T10:52:08.388Z"
   },
   {
    "duration": 9,
    "start_time": "2023-01-12T10:52:08.440Z"
   },
   {
    "duration": 18,
    "start_time": "2023-01-12T10:52:08.451Z"
   },
   {
    "duration": 35,
    "start_time": "2023-01-12T10:52:08.471Z"
   },
   {
    "duration": 4,
    "start_time": "2023-01-12T10:52:08.508Z"
   },
   {
    "duration": 8,
    "start_time": "2023-01-12T10:52:08.514Z"
   },
   {
    "duration": 373,
    "start_time": "2023-01-12T10:52:08.524Z"
   },
   {
    "duration": 20,
    "start_time": "2023-01-12T10:52:08.899Z"
   },
   {
    "duration": 4,
    "start_time": "2023-01-12T10:52:08.921Z"
   },
   {
    "duration": 13,
    "start_time": "2023-01-12T10:52:08.926Z"
   },
   {
    "duration": 14,
    "start_time": "2023-01-12T10:52:08.940Z"
   },
   {
    "duration": 54,
    "start_time": "2023-01-12T10:52:08.957Z"
   },
   {
    "duration": 64,
    "start_time": "2023-01-12T10:52:09.012Z"
   },
   {
    "duration": 64,
    "start_time": "2023-01-12T10:52:09.078Z"
   },
   {
    "duration": 8,
    "start_time": "2023-01-12T10:52:09.144Z"
   },
   {
    "duration": 63,
    "start_time": "2023-01-12T10:52:09.153Z"
   },
   {
    "duration": 97,
    "start_time": "2023-01-12T10:52:09.217Z"
   },
   {
    "duration": 4,
    "start_time": "2023-01-12T10:52:09.316Z"
   },
   {
    "duration": 8,
    "start_time": "2023-01-12T10:52:09.322Z"
   },
   {
    "duration": 8,
    "start_time": "2023-01-12T10:52:09.331Z"
   },
   {
    "duration": 83,
    "start_time": "2023-01-12T10:59:33.204Z"
   },
   {
    "duration": 80,
    "start_time": "2023-01-12T10:59:36.390Z"
   },
   {
    "duration": 176,
    "start_time": "2023-01-12T10:59:58.934Z"
   },
   {
    "duration": 1398,
    "start_time": "2023-01-12T11:07:35.876Z"
   },
   {
    "duration": 962,
    "start_time": "2023-01-12T11:07:37.276Z"
   },
   {
    "duration": 13,
    "start_time": "2023-01-12T11:07:38.239Z"
   },
   {
    "duration": 28,
    "start_time": "2023-01-12T11:07:38.255Z"
   },
   {
    "duration": 11,
    "start_time": "2023-01-12T11:07:38.285Z"
   },
   {
    "duration": 29,
    "start_time": "2023-01-12T11:07:38.297Z"
   },
   {
    "duration": 79,
    "start_time": "2023-01-12T11:07:38.328Z"
   },
   {
    "duration": 32,
    "start_time": "2023-01-12T11:07:38.409Z"
   },
   {
    "duration": 153,
    "start_time": "2023-01-12T11:07:38.443Z"
   },
   {
    "duration": 135,
    "start_time": "2023-01-12T11:07:38.598Z"
   },
   {
    "duration": 20,
    "start_time": "2023-01-12T11:07:38.734Z"
   },
   {
    "duration": 29,
    "start_time": "2023-01-12T11:07:38.759Z"
   },
   {
    "duration": 10,
    "start_time": "2023-01-12T11:07:38.790Z"
   },
   {
    "duration": 15,
    "start_time": "2023-01-12T11:07:38.823Z"
   },
   {
    "duration": 6,
    "start_time": "2023-01-12T11:07:38.839Z"
   },
   {
    "duration": 7,
    "start_time": "2023-01-12T11:07:38.846Z"
   },
   {
    "duration": 3,
    "start_time": "2023-01-12T11:07:38.855Z"
   },
   {
    "duration": 388,
    "start_time": "2023-01-12T11:07:38.860Z"
   },
   {
    "duration": 21,
    "start_time": "2023-01-12T11:07:39.250Z"
   },
   {
    "duration": 4,
    "start_time": "2023-01-12T11:07:39.273Z"
   },
   {
    "duration": 7,
    "start_time": "2023-01-12T11:07:39.279Z"
   },
   {
    "duration": 10,
    "start_time": "2023-01-12T11:07:39.287Z"
   },
   {
    "duration": 29,
    "start_time": "2023-01-12T11:07:39.322Z"
   },
   {
    "duration": 85,
    "start_time": "2023-01-12T11:07:39.352Z"
   },
   {
    "duration": 54,
    "start_time": "2023-01-12T11:07:39.440Z"
   },
   {
    "duration": 11,
    "start_time": "2023-01-12T11:07:39.495Z"
   },
   {
    "duration": 44,
    "start_time": "2023-01-12T11:07:39.521Z"
   },
   {
    "duration": 106,
    "start_time": "2023-01-12T11:07:39.568Z"
   },
   {
    "duration": 3,
    "start_time": "2023-01-12T11:07:39.676Z"
   },
   {
    "duration": 6,
    "start_time": "2023-01-12T11:07:39.681Z"
   },
   {
    "duration": 7,
    "start_time": "2023-01-12T11:07:39.689Z"
   },
   {
    "duration": 10,
    "start_time": "2023-01-12T11:08:03.876Z"
   },
   {
    "duration": 99,
    "start_time": "2023-01-12T11:18:12.057Z"
   },
   {
    "duration": 94,
    "start_time": "2023-01-12T11:18:46.618Z"
   },
   {
    "duration": 109,
    "start_time": "2023-01-12T11:19:15.746Z"
   },
   {
    "duration": 108,
    "start_time": "2023-01-12T11:40:26.485Z"
   },
   {
    "duration": 124,
    "start_time": "2023-01-12T11:41:44.098Z"
   },
   {
    "duration": 44,
    "start_time": "2023-01-12T11:46:18.787Z"
   },
   {
    "duration": 42,
    "start_time": "2023-01-12T11:46:50.978Z"
   },
   {
    "duration": 48,
    "start_time": "2023-01-12T11:46:58.786Z"
   },
   {
    "duration": 1342,
    "start_time": "2023-01-12T11:47:23.377Z"
   },
   {
    "duration": 180,
    "start_time": "2023-01-12T11:47:24.721Z"
   },
   {
    "duration": 21,
    "start_time": "2023-01-12T11:47:24.902Z"
   },
   {
    "duration": 34,
    "start_time": "2023-01-12T11:47:24.926Z"
   },
   {
    "duration": 8,
    "start_time": "2023-01-12T11:47:24.962Z"
   },
   {
    "duration": 18,
    "start_time": "2023-01-12T11:47:24.972Z"
   },
   {
    "duration": 103,
    "start_time": "2023-01-12T11:47:24.992Z"
   },
   {
    "duration": 29,
    "start_time": "2023-01-12T11:47:25.097Z"
   },
   {
    "duration": 164,
    "start_time": "2023-01-12T11:47:25.128Z"
   },
   {
    "duration": 167,
    "start_time": "2023-01-12T11:47:25.294Z"
   },
   {
    "duration": 20,
    "start_time": "2023-01-12T11:47:25.463Z"
   },
   {
    "duration": 56,
    "start_time": "2023-01-12T11:47:25.486Z"
   },
   {
    "duration": 14,
    "start_time": "2023-01-12T11:47:25.544Z"
   },
   {
    "duration": 17,
    "start_time": "2023-01-12T11:47:25.561Z"
   },
   {
    "duration": 7,
    "start_time": "2023-01-12T11:47:25.580Z"
   },
   {
    "duration": 51,
    "start_time": "2023-01-12T11:47:25.588Z"
   },
   {
    "duration": 5,
    "start_time": "2023-01-12T11:47:25.642Z"
   },
   {
    "duration": 464,
    "start_time": "2023-01-12T11:47:25.649Z"
   },
   {
    "duration": 36,
    "start_time": "2023-01-12T11:47:26.115Z"
   },
   {
    "duration": 5,
    "start_time": "2023-01-12T11:47:26.153Z"
   },
   {
    "duration": 12,
    "start_time": "2023-01-12T11:47:26.160Z"
   },
   {
    "duration": 32,
    "start_time": "2023-01-12T11:47:26.174Z"
   },
   {
    "duration": 34,
    "start_time": "2023-01-12T11:47:26.208Z"
   },
   {
    "duration": 107,
    "start_time": "2023-01-12T11:47:26.244Z"
   },
   {
    "duration": 54,
    "start_time": "2023-01-12T11:47:26.353Z"
   },
   {
    "duration": 13,
    "start_time": "2023-01-12T11:47:26.421Z"
   },
   {
    "duration": 88,
    "start_time": "2023-01-12T11:47:26.436Z"
   },
   {
    "duration": 252,
    "start_time": "2023-01-12T11:47:26.527Z"
   },
   {
    "duration": 0,
    "start_time": "2023-01-12T11:47:26.782Z"
   },
   {
    "duration": 0,
    "start_time": "2023-01-12T11:47:26.784Z"
   },
   {
    "duration": 0,
    "start_time": "2023-01-12T11:47:26.785Z"
   },
   {
    "duration": 0,
    "start_time": "2023-01-12T11:47:26.787Z"
   },
   {
    "duration": 1204,
    "start_time": "2023-01-12T11:48:05.902Z"
   },
   {
    "duration": 27,
    "start_time": "2023-01-12T11:48:31.986Z"
   },
   {
    "duration": 23,
    "start_time": "2023-01-12T11:48:37.127Z"
   },
   {
    "duration": 46,
    "start_time": "2023-01-12T11:50:34.296Z"
   },
   {
    "duration": 33,
    "start_time": "2023-01-12T11:50:48.208Z"
   },
   {
    "duration": 57,
    "start_time": "2023-01-12T11:50:53.613Z"
   },
   {
    "duration": 1216,
    "start_time": "2023-01-12T11:50:56.322Z"
   },
   {
    "duration": 1312,
    "start_time": "2023-01-12T11:51:26.591Z"
   },
   {
    "duration": 153,
    "start_time": "2023-01-12T11:51:27.905Z"
   },
   {
    "duration": 15,
    "start_time": "2023-01-12T11:51:28.060Z"
   },
   {
    "duration": 32,
    "start_time": "2023-01-12T11:51:28.080Z"
   },
   {
    "duration": 9,
    "start_time": "2023-01-12T11:51:28.121Z"
   },
   {
    "duration": 22,
    "start_time": "2023-01-12T11:51:28.131Z"
   },
   {
    "duration": 86,
    "start_time": "2023-01-12T11:51:28.154Z"
   },
   {
    "duration": 14,
    "start_time": "2023-01-12T11:51:28.241Z"
   },
   {
    "duration": 166,
    "start_time": "2023-01-12T11:51:28.257Z"
   },
   {
    "duration": 143,
    "start_time": "2023-01-12T11:51:28.425Z"
   },
   {
    "duration": 31,
    "start_time": "2023-01-12T11:51:28.570Z"
   },
   {
    "duration": 46,
    "start_time": "2023-01-12T11:51:28.603Z"
   },
   {
    "duration": 10,
    "start_time": "2023-01-12T11:51:28.651Z"
   },
   {
    "duration": 17,
    "start_time": "2023-01-12T11:51:28.663Z"
   },
   {
    "duration": 9,
    "start_time": "2023-01-12T11:51:28.681Z"
   },
   {
    "duration": 7,
    "start_time": "2023-01-12T11:51:28.722Z"
   },
   {
    "duration": 11,
    "start_time": "2023-01-12T11:51:28.732Z"
   },
   {
    "duration": 405,
    "start_time": "2023-01-12T11:51:28.745Z"
   },
   {
    "duration": 28,
    "start_time": "2023-01-12T11:51:29.152Z"
   },
   {
    "duration": 4,
    "start_time": "2023-01-12T11:51:29.182Z"
   },
   {
    "duration": 7,
    "start_time": "2023-01-12T11:51:29.187Z"
   },
   {
    "duration": 10,
    "start_time": "2023-01-12T11:51:29.221Z"
   },
   {
    "duration": 30,
    "start_time": "2023-01-12T11:51:29.233Z"
   },
   {
    "duration": 88,
    "start_time": "2023-01-12T11:51:29.265Z"
   },
   {
    "duration": 82,
    "start_time": "2023-01-12T11:51:29.355Z"
   },
   {
    "duration": 12,
    "start_time": "2023-01-12T11:51:29.439Z"
   },
   {
    "duration": 41,
    "start_time": "2023-01-12T11:51:29.453Z"
   },
   {
    "duration": 1430,
    "start_time": "2023-01-12T11:51:29.496Z"
   },
   {
    "duration": 0,
    "start_time": "2023-01-12T11:51:30.929Z"
   },
   {
    "duration": 0,
    "start_time": "2023-01-12T11:51:30.930Z"
   },
   {
    "duration": 0,
    "start_time": "2023-01-12T11:51:30.931Z"
   },
   {
    "duration": 0,
    "start_time": "2023-01-12T11:51:30.932Z"
   },
   {
    "duration": 82,
    "start_time": "2023-01-12T11:52:11.941Z"
   },
   {
    "duration": 39,
    "start_time": "2023-01-12T11:52:36.697Z"
   },
   {
    "duration": 1204,
    "start_time": "2023-01-12T11:52:36.957Z"
   },
   {
    "duration": 124,
    "start_time": "2023-01-12T11:53:53.238Z"
   },
   {
    "duration": 5,
    "start_time": "2023-01-12T11:54:00.287Z"
   },
   {
    "duration": 6,
    "start_time": "2023-01-12T11:54:00.478Z"
   },
   {
    "duration": 6,
    "start_time": "2023-01-12T11:54:00.906Z"
   },
   {
    "duration": 124,
    "start_time": "2023-01-12T11:54:02.970Z"
   },
   {
    "duration": 47,
    "start_time": "2023-01-12T11:58:02.546Z"
   },
   {
    "duration": 39,
    "start_time": "2023-01-12T11:59:24.861Z"
   },
   {
    "duration": 1439,
    "start_time": "2023-01-12T12:01:31.051Z"
   },
   {
    "duration": 45,
    "start_time": "2023-01-12T12:02:09.481Z"
   },
   {
    "duration": 62,
    "start_time": "2023-01-12T12:02:41.169Z"
   },
   {
    "duration": 72,
    "start_time": "2023-01-12T12:02:51.600Z"
   },
   {
    "duration": 85,
    "start_time": "2023-01-12T12:03:03.617Z"
   },
   {
    "duration": 1174,
    "start_time": "2023-01-12T12:03:34.834Z"
   },
   {
    "duration": 193,
    "start_time": "2023-01-12T12:03:36.011Z"
   },
   {
    "duration": 17,
    "start_time": "2023-01-12T12:03:36.205Z"
   },
   {
    "duration": 29,
    "start_time": "2023-01-12T12:03:36.224Z"
   },
   {
    "duration": 8,
    "start_time": "2023-01-12T12:03:36.255Z"
   },
   {
    "duration": 24,
    "start_time": "2023-01-12T12:03:36.265Z"
   },
   {
    "duration": 86,
    "start_time": "2023-01-12T12:03:36.290Z"
   },
   {
    "duration": 14,
    "start_time": "2023-01-12T12:03:36.378Z"
   },
   {
    "duration": 158,
    "start_time": "2023-01-12T12:03:36.394Z"
   },
   {
    "duration": 134,
    "start_time": "2023-01-12T12:03:36.554Z"
   },
   {
    "duration": 19,
    "start_time": "2023-01-12T12:03:36.690Z"
   },
   {
    "duration": 38,
    "start_time": "2023-01-12T12:03:36.711Z"
   },
   {
    "duration": 10,
    "start_time": "2023-01-12T12:03:36.750Z"
   },
   {
    "duration": 16,
    "start_time": "2023-01-12T12:03:36.763Z"
   },
   {
    "duration": 42,
    "start_time": "2023-01-12T12:03:36.780Z"
   },
   {
    "duration": 5,
    "start_time": "2023-01-12T12:03:36.824Z"
   },
   {
    "duration": 9,
    "start_time": "2023-01-12T12:03:36.831Z"
   },
   {
    "duration": 394,
    "start_time": "2023-01-12T12:03:36.842Z"
   },
   {
    "duration": 37,
    "start_time": "2023-01-12T12:03:37.239Z"
   },
   {
    "duration": 4,
    "start_time": "2023-01-12T12:03:37.278Z"
   },
   {
    "duration": 13,
    "start_time": "2023-01-12T12:03:37.284Z"
   },
   {
    "duration": 26,
    "start_time": "2023-01-12T12:03:37.300Z"
   },
   {
    "duration": 41,
    "start_time": "2023-01-12T12:03:37.329Z"
   },
   {
    "duration": 90,
    "start_time": "2023-01-12T12:03:37.372Z"
   },
   {
    "duration": 59,
    "start_time": "2023-01-12T12:03:37.464Z"
   },
   {
    "duration": 9,
    "start_time": "2023-01-12T12:03:37.524Z"
   },
   {
    "duration": 47,
    "start_time": "2023-01-12T12:03:37.535Z"
   },
   {
    "duration": 113,
    "start_time": "2023-01-12T12:03:37.584Z"
   },
   {
    "duration": 4,
    "start_time": "2023-01-12T12:03:37.699Z"
   },
   {
    "duration": 16,
    "start_time": "2023-01-12T12:03:37.705Z"
   },
   {
    "duration": 10,
    "start_time": "2023-01-12T12:03:37.723Z"
   },
   {
    "duration": 95,
    "start_time": "2023-01-12T12:03:37.735Z"
   },
   {
    "duration": 6,
    "start_time": "2023-01-12T12:19:44.716Z"
   },
   {
    "duration": 8,
    "start_time": "2023-01-12T12:20:59.495Z"
   },
   {
    "duration": 177,
    "start_time": "2023-01-12T12:23:39.822Z"
   },
   {
    "duration": 92,
    "start_time": "2023-01-12T12:23:47.839Z"
   },
   {
    "duration": 89,
    "start_time": "2023-01-12T12:23:55.830Z"
   },
   {
    "duration": 105,
    "start_time": "2023-01-12T12:24:04.191Z"
   },
   {
    "duration": 90,
    "start_time": "2023-01-12T12:24:49.034Z"
   },
   {
    "duration": 94,
    "start_time": "2023-01-12T12:25:17.262Z"
   },
   {
    "duration": 96,
    "start_time": "2023-01-12T12:25:35.777Z"
   },
   {
    "duration": 5,
    "start_time": "2023-01-12T12:26:09.750Z"
   },
   {
    "duration": 5,
    "start_time": "2023-01-12T12:27:07.697Z"
   },
   {
    "duration": 10,
    "start_time": "2023-01-12T12:28:10.797Z"
   },
   {
    "duration": 361,
    "start_time": "2023-01-12T12:28:43.479Z"
   },
   {
    "duration": 85,
    "start_time": "2023-01-12T12:29:17.672Z"
   },
   {
    "duration": 91,
    "start_time": "2023-01-12T12:29:29.970Z"
   },
   {
    "duration": 391,
    "start_time": "2023-01-12T12:29:39.227Z"
   },
   {
    "duration": 77,
    "start_time": "2023-01-12T12:29:48.392Z"
   },
   {
    "duration": 90,
    "start_time": "2023-01-12T12:30:21.154Z"
   },
   {
    "duration": 90,
    "start_time": "2023-01-12T12:30:44.520Z"
   },
   {
    "duration": 6,
    "start_time": "2023-01-12T12:30:48.476Z"
   },
   {
    "duration": 9,
    "start_time": "2023-01-12T12:30:48.732Z"
   },
   {
    "duration": 7,
    "start_time": "2023-01-12T12:32:07.581Z"
   },
   {
    "duration": 12,
    "start_time": "2023-01-12T12:32:07.883Z"
   },
   {
    "duration": 89,
    "start_time": "2023-01-12T12:32:09.739Z"
   },
   {
    "duration": 9,
    "start_time": "2023-01-12T12:32:10.396Z"
   },
   {
    "duration": 9,
    "start_time": "2023-01-12T12:32:31.033Z"
   },
   {
    "duration": 8,
    "start_time": "2023-01-12T12:32:48.830Z"
   },
   {
    "duration": 9,
    "start_time": "2023-01-12T12:33:38.986Z"
   },
   {
    "duration": 1139,
    "start_time": "2023-01-12T12:34:13.018Z"
   },
   {
    "duration": 10,
    "start_time": "2023-01-12T12:34:17.962Z"
   },
   {
    "duration": 1187,
    "start_time": "2023-01-12T13:39:25.010Z"
   },
   {
    "duration": 160,
    "start_time": "2023-01-12T13:39:26.199Z"
   },
   {
    "duration": 11,
    "start_time": "2023-01-12T13:39:26.361Z"
   },
   {
    "duration": 26,
    "start_time": "2023-01-12T13:39:26.374Z"
   },
   {
    "duration": 24,
    "start_time": "2023-01-12T13:39:26.402Z"
   },
   {
    "duration": 18,
    "start_time": "2023-01-12T13:39:26.428Z"
   },
   {
    "duration": 92,
    "start_time": "2023-01-12T13:39:26.448Z"
   },
   {
    "duration": 16,
    "start_time": "2023-01-12T13:39:26.542Z"
   },
   {
    "duration": 167,
    "start_time": "2023-01-12T13:39:26.560Z"
   },
   {
    "duration": 142,
    "start_time": "2023-01-12T13:39:26.729Z"
   },
   {
    "duration": 19,
    "start_time": "2023-01-12T13:39:26.872Z"
   },
   {
    "duration": 46,
    "start_time": "2023-01-12T13:39:26.893Z"
   },
   {
    "duration": 10,
    "start_time": "2023-01-12T13:39:26.940Z"
   },
   {
    "duration": 17,
    "start_time": "2023-01-12T13:39:26.953Z"
   },
   {
    "duration": 6,
    "start_time": "2023-01-12T13:39:26.971Z"
   },
   {
    "duration": 6,
    "start_time": "2023-01-12T13:39:26.979Z"
   },
   {
    "duration": 35,
    "start_time": "2023-01-12T13:39:26.987Z"
   },
   {
    "duration": 373,
    "start_time": "2023-01-12T13:39:27.024Z"
   },
   {
    "duration": 35,
    "start_time": "2023-01-12T13:39:27.399Z"
   },
   {
    "duration": 5,
    "start_time": "2023-01-12T13:39:27.436Z"
   },
   {
    "duration": 16,
    "start_time": "2023-01-12T13:39:27.443Z"
   },
   {
    "duration": 12,
    "start_time": "2023-01-12T13:39:27.461Z"
   },
   {
    "duration": 30,
    "start_time": "2023-01-12T13:39:27.475Z"
   },
   {
    "duration": 80,
    "start_time": "2023-01-12T13:39:27.507Z"
   },
   {
    "duration": 73,
    "start_time": "2023-01-12T13:39:27.589Z"
   },
   {
    "duration": 10,
    "start_time": "2023-01-12T13:39:27.663Z"
   },
   {
    "duration": 60,
    "start_time": "2023-01-12T13:39:27.674Z"
   },
   {
    "duration": 97,
    "start_time": "2023-01-12T13:39:27.736Z"
   },
   {
    "duration": 100,
    "start_time": "2023-01-12T13:39:27.835Z"
   },
   {
    "duration": 8,
    "start_time": "2023-01-12T13:39:27.937Z"
   },
   {
    "duration": 26,
    "start_time": "2023-01-12T13:39:27.947Z"
   },
   {
    "duration": 95,
    "start_time": "2023-01-12T13:39:27.974Z"
   },
   {
    "duration": 10,
    "start_time": "2023-01-12T13:39:28.070Z"
   },
   {
    "duration": 111,
    "start_time": "2023-01-12T13:39:28.081Z"
   },
   {
    "duration": 0,
    "start_time": "2023-01-12T13:39:28.194Z"
   },
   {
    "duration": 9,
    "start_time": "2023-01-12T13:39:56.401Z"
   },
   {
    "duration": 9,
    "start_time": "2023-01-12T13:39:56.693Z"
   },
   {
    "duration": 46,
    "start_time": "2023-01-12T14:01:14.501Z"
   },
   {
    "duration": 30,
    "start_time": "2023-01-12T14:01:19.986Z"
   },
   {
    "duration": 105,
    "start_time": "2023-01-12T14:01:46.164Z"
   },
   {
    "duration": 11,
    "start_time": "2023-01-12T14:01:52.136Z"
   },
   {
    "duration": 22,
    "start_time": "2023-01-12T14:02:33.586Z"
   },
   {
    "duration": 15,
    "start_time": "2023-01-12T14:02:59.378Z"
   },
   {
    "duration": 17,
    "start_time": "2023-01-12T14:03:31.699Z"
   },
   {
    "duration": 15,
    "start_time": "2023-01-12T14:04:47.393Z"
   },
   {
    "duration": 3,
    "start_time": "2023-01-12T14:06:53.738Z"
   },
   {
    "duration": 16,
    "start_time": "2023-01-12T14:10:37.484Z"
   },
   {
    "duration": 23,
    "start_time": "2023-01-12T14:11:05.909Z"
   },
   {
    "duration": 24,
    "start_time": "2023-01-12T14:11:32.046Z"
   },
   {
    "duration": 5,
    "start_time": "2023-01-12T14:16:40.980Z"
   },
   {
    "duration": 6,
    "start_time": "2023-01-12T14:19:03.544Z"
   },
   {
    "duration": 4,
    "start_time": "2023-01-12T14:19:21.942Z"
   },
   {
    "duration": 5,
    "start_time": "2023-01-12T14:19:32.218Z"
   },
   {
    "duration": 5,
    "start_time": "2023-01-12T14:20:09.456Z"
   },
   {
    "duration": 45,
    "start_time": "2023-01-12T14:22:17.202Z"
   },
   {
    "duration": 37,
    "start_time": "2023-01-12T14:24:20.109Z"
   },
   {
    "duration": 33,
    "start_time": "2023-01-12T14:24:25.742Z"
   },
   {
    "duration": 68,
    "start_time": "2023-01-12T14:25:33.047Z"
   },
   {
    "duration": 2,
    "start_time": "2023-01-12T14:27:03.615Z"
   },
   {
    "duration": 12,
    "start_time": "2023-01-12T14:38:36.128Z"
   },
   {
    "duration": 14,
    "start_time": "2023-01-12T14:38:52.366Z"
   },
   {
    "duration": 10,
    "start_time": "2023-01-12T14:38:54.581Z"
   },
   {
    "duration": 1259,
    "start_time": "2023-01-12T14:39:00.371Z"
   },
   {
    "duration": 166,
    "start_time": "2023-01-12T14:39:01.638Z"
   },
   {
    "duration": 31,
    "start_time": "2023-01-12T14:39:01.806Z"
   },
   {
    "duration": 39,
    "start_time": "2023-01-12T14:39:01.839Z"
   },
   {
    "duration": 52,
    "start_time": "2023-01-12T14:39:01.880Z"
   },
   {
    "duration": 156,
    "start_time": "2023-01-12T14:39:01.934Z"
   },
   {
    "duration": 145,
    "start_time": "2023-01-12T14:39:02.091Z"
   },
   {
    "duration": 109,
    "start_time": "2023-01-12T14:39:02.238Z"
   },
   {
    "duration": 148,
    "start_time": "2023-01-12T14:39:02.349Z"
   },
   {
    "duration": 152,
    "start_time": "2023-01-12T14:39:02.501Z"
   },
   {
    "duration": 21,
    "start_time": "2023-01-12T14:39:02.655Z"
   },
   {
    "duration": 56,
    "start_time": "2023-01-12T14:39:02.679Z"
   },
   {
    "duration": 29,
    "start_time": "2023-01-12T14:39:02.737Z"
   },
   {
    "duration": 37,
    "start_time": "2023-01-12T14:39:02.768Z"
   },
   {
    "duration": 14,
    "start_time": "2023-01-12T14:39:02.807Z"
   },
   {
    "duration": 25,
    "start_time": "2023-01-12T14:39:02.825Z"
   },
   {
    "duration": 26,
    "start_time": "2023-01-12T14:39:02.853Z"
   },
   {
    "duration": 394,
    "start_time": "2023-01-12T14:39:02.881Z"
   },
   {
    "duration": 22,
    "start_time": "2023-01-12T14:39:03.277Z"
   },
   {
    "duration": 49,
    "start_time": "2023-01-12T14:39:03.301Z"
   },
   {
    "duration": 4,
    "start_time": "2023-01-12T14:39:03.352Z"
   },
   {
    "duration": 45,
    "start_time": "2023-01-12T14:39:03.358Z"
   },
   {
    "duration": 44,
    "start_time": "2023-01-12T14:39:03.405Z"
   },
   {
    "duration": 83,
    "start_time": "2023-01-12T14:39:03.451Z"
   },
   {
    "duration": 54,
    "start_time": "2023-01-12T14:39:03.536Z"
   },
   {
    "duration": 9,
    "start_time": "2023-01-12T14:39:03.592Z"
   },
   {
    "duration": 69,
    "start_time": "2023-01-12T14:39:03.603Z"
   },
   {
    "duration": 3,
    "start_time": "2023-01-12T14:39:03.676Z"
   },
   {
    "duration": 134,
    "start_time": "2023-01-12T14:39:03.681Z"
   },
   {
    "duration": 13,
    "start_time": "2023-01-12T14:39:03.818Z"
   },
   {
    "duration": 27,
    "start_time": "2023-01-12T14:39:03.838Z"
   },
   {
    "duration": 111,
    "start_time": "2023-01-12T14:39:03.867Z"
   },
   {
    "duration": 11,
    "start_time": "2023-01-12T14:39:03.980Z"
   },
   {
    "duration": 27,
    "start_time": "2023-01-12T14:39:03.993Z"
   },
   {
    "duration": 39,
    "start_time": "2023-01-12T14:39:04.027Z"
   },
   {
    "duration": 6,
    "start_time": "2023-01-12T15:02:48.572Z"
   },
   {
    "duration": 9,
    "start_time": "2023-01-12T15:02:49.739Z"
   },
   {
    "duration": 6,
    "start_time": "2023-01-12T15:02:56.550Z"
   },
   {
    "duration": 9,
    "start_time": "2023-01-12T15:02:57.466Z"
   },
   {
    "duration": 6,
    "start_time": "2023-01-12T15:03:17.943Z"
   },
   {
    "duration": 9,
    "start_time": "2023-01-12T15:03:18.549Z"
   },
   {
    "duration": 11,
    "start_time": "2023-01-12T15:14:29.367Z"
   },
   {
    "duration": 10,
    "start_time": "2023-01-12T15:14:30.019Z"
   },
   {
    "duration": 11,
    "start_time": "2023-01-12T15:14:30.837Z"
   },
   {
    "duration": 1170,
    "start_time": "2023-01-12T15:43:26.829Z"
   },
   {
    "duration": 159,
    "start_time": "2023-01-12T15:43:28.001Z"
   },
   {
    "duration": 12,
    "start_time": "2023-01-12T15:43:28.161Z"
   },
   {
    "duration": 20,
    "start_time": "2023-01-12T15:43:28.175Z"
   },
   {
    "duration": 27,
    "start_time": "2023-01-12T15:43:28.197Z"
   },
   {
    "duration": 15,
    "start_time": "2023-01-12T15:43:28.225Z"
   },
   {
    "duration": 76,
    "start_time": "2023-01-12T15:43:28.242Z"
   },
   {
    "duration": 14,
    "start_time": "2023-01-12T15:43:28.319Z"
   },
   {
    "duration": 154,
    "start_time": "2023-01-12T15:43:28.335Z"
   },
   {
    "duration": 127,
    "start_time": "2023-01-12T15:43:28.491Z"
   },
   {
    "duration": 19,
    "start_time": "2023-01-12T15:43:28.621Z"
   },
   {
    "duration": 29,
    "start_time": "2023-01-12T15:43:28.642Z"
   },
   {
    "duration": 10,
    "start_time": "2023-01-12T15:43:28.673Z"
   },
   {
    "duration": 38,
    "start_time": "2023-01-12T15:43:28.685Z"
   },
   {
    "duration": 5,
    "start_time": "2023-01-12T15:43:28.725Z"
   },
   {
    "duration": 11,
    "start_time": "2023-01-12T15:43:28.732Z"
   },
   {
    "duration": 6,
    "start_time": "2023-01-12T15:43:28.744Z"
   },
   {
    "duration": 386,
    "start_time": "2023-01-12T15:43:28.751Z"
   },
   {
    "duration": 21,
    "start_time": "2023-01-12T15:43:29.139Z"
   },
   {
    "duration": 28,
    "start_time": "2023-01-12T15:43:29.163Z"
   },
   {
    "duration": 4,
    "start_time": "2023-01-12T15:43:29.193Z"
   },
   {
    "duration": 39,
    "start_time": "2023-01-12T15:43:29.223Z"
   },
   {
    "duration": 27,
    "start_time": "2023-01-12T15:43:29.264Z"
   },
   {
    "duration": 84,
    "start_time": "2023-01-12T15:43:29.292Z"
   },
   {
    "duration": 56,
    "start_time": "2023-01-12T15:43:29.378Z"
   },
   {
    "duration": 9,
    "start_time": "2023-01-12T15:43:29.435Z"
   },
   {
    "duration": 56,
    "start_time": "2023-01-12T15:43:29.446Z"
   },
   {
    "duration": 96,
    "start_time": "2023-01-12T15:43:29.504Z"
   },
   {
    "duration": 6,
    "start_time": "2023-01-12T15:43:29.602Z"
   },
   {
    "duration": 39,
    "start_time": "2023-01-12T15:43:29.609Z"
   },
   {
    "duration": 95,
    "start_time": "2023-01-12T15:43:29.650Z"
   },
   {
    "duration": 9,
    "start_time": "2023-01-12T15:43:29.747Z"
   },
   {
    "duration": 28,
    "start_time": "2023-01-12T15:43:29.758Z"
   },
   {
    "duration": 16,
    "start_time": "2023-01-12T15:43:29.787Z"
   },
   {
    "duration": 1653,
    "start_time": "2023-01-12T19:24:42.744Z"
   },
   {
    "duration": 1086,
    "start_time": "2023-01-12T19:24:44.399Z"
   },
   {
    "duration": 16,
    "start_time": "2023-01-12T19:24:45.490Z"
   },
   {
    "duration": 36,
    "start_time": "2023-01-12T19:24:45.509Z"
   },
   {
    "duration": 13,
    "start_time": "2023-01-12T19:24:45.548Z"
   },
   {
    "duration": 27,
    "start_time": "2023-01-12T19:24:45.563Z"
   },
   {
    "duration": 108,
    "start_time": "2023-01-12T19:24:45.592Z"
   },
   {
    "duration": 38,
    "start_time": "2023-01-12T19:24:45.702Z"
   },
   {
    "duration": 207,
    "start_time": "2023-01-12T19:24:45.743Z"
   },
   {
    "duration": 231,
    "start_time": "2023-01-12T19:24:45.953Z"
   },
   {
    "duration": 34,
    "start_time": "2023-01-12T19:24:46.185Z"
   },
   {
    "duration": 50,
    "start_time": "2023-01-12T19:24:46.221Z"
   },
   {
    "duration": 9,
    "start_time": "2023-01-12T19:24:46.273Z"
   },
   {
    "duration": 18,
    "start_time": "2023-01-12T19:24:46.284Z"
   },
   {
    "duration": 37,
    "start_time": "2023-01-12T19:24:46.304Z"
   },
   {
    "duration": 7,
    "start_time": "2023-01-12T19:24:46.344Z"
   },
   {
    "duration": 10,
    "start_time": "2023-01-12T19:24:46.353Z"
   },
   {
    "duration": 413,
    "start_time": "2023-01-12T19:24:46.366Z"
   },
   {
    "duration": 24,
    "start_time": "2023-01-12T19:24:46.781Z"
   },
   {
    "duration": 48,
    "start_time": "2023-01-12T19:24:46.807Z"
   },
   {
    "duration": 5,
    "start_time": "2023-01-12T19:24:46.857Z"
   },
   {
    "duration": 50,
    "start_time": "2023-01-12T19:24:46.864Z"
   },
   {
    "duration": 54,
    "start_time": "2023-01-12T19:24:46.916Z"
   },
   {
    "duration": 110,
    "start_time": "2023-01-12T19:24:46.972Z"
   },
   {
    "duration": 65,
    "start_time": "2023-01-12T19:24:47.084Z"
   },
   {
    "duration": 11,
    "start_time": "2023-01-12T19:24:47.151Z"
   },
   {
    "duration": 62,
    "start_time": "2023-01-12T19:24:47.164Z"
   },
   {
    "duration": 101,
    "start_time": "2023-01-12T19:24:47.238Z"
   },
   {
    "duration": 6,
    "start_time": "2023-01-12T19:24:47.341Z"
   },
   {
    "duration": 17,
    "start_time": "2023-01-12T19:24:47.348Z"
   },
   {
    "duration": 106,
    "start_time": "2023-01-12T19:24:47.366Z"
   },
   {
    "duration": 9,
    "start_time": "2023-01-12T19:24:47.475Z"
   },
   {
    "duration": 14,
    "start_time": "2023-01-12T19:24:47.486Z"
   },
   {
    "duration": 14,
    "start_time": "2023-01-12T19:24:47.502Z"
   },
   {
    "duration": 630,
    "start_time": "2023-01-12T19:29:37.625Z"
   },
   {
    "duration": 1477,
    "start_time": "2023-01-13T16:34:04.010Z"
   },
   {
    "duration": 787,
    "start_time": "2023-01-13T16:34:05.489Z"
   },
   {
    "duration": 19,
    "start_time": "2023-01-13T16:34:06.277Z"
   },
   {
    "duration": 64,
    "start_time": "2023-01-13T16:34:06.299Z"
   },
   {
    "duration": 24,
    "start_time": "2023-01-13T16:34:06.364Z"
   },
   {
    "duration": 77,
    "start_time": "2023-01-13T16:34:06.390Z"
   },
   {
    "duration": 123,
    "start_time": "2023-01-13T16:34:06.469Z"
   },
   {
    "duration": 16,
    "start_time": "2023-01-13T16:34:06.593Z"
   },
   {
    "duration": 188,
    "start_time": "2023-01-13T16:34:06.624Z"
   },
   {
    "duration": 155,
    "start_time": "2023-01-13T16:34:06.814Z"
   },
   {
    "duration": 22,
    "start_time": "2023-01-13T16:34:06.970Z"
   },
   {
    "duration": 64,
    "start_time": "2023-01-13T16:34:06.993Z"
   },
   {
    "duration": 24,
    "start_time": "2023-01-13T16:34:07.058Z"
   },
   {
    "duration": 55,
    "start_time": "2023-01-13T16:34:07.084Z"
   },
   {
    "duration": 44,
    "start_time": "2023-01-13T16:34:07.143Z"
   },
   {
    "duration": 27,
    "start_time": "2023-01-13T16:34:07.189Z"
   },
   {
    "duration": 31,
    "start_time": "2023-01-13T16:34:07.217Z"
   },
   {
    "duration": 452,
    "start_time": "2023-01-13T16:34:07.250Z"
   },
   {
    "duration": 744,
    "start_time": "2023-01-13T16:34:07.703Z"
   },
   {
    "duration": 25,
    "start_time": "2023-01-13T16:34:08.449Z"
   },
   {
    "duration": 55,
    "start_time": "2023-01-13T16:34:08.476Z"
   },
   {
    "duration": 10,
    "start_time": "2023-01-13T16:34:08.535Z"
   },
   {
    "duration": 72,
    "start_time": "2023-01-13T16:34:08.547Z"
   },
   {
    "duration": 39,
    "start_time": "2023-01-13T16:34:08.620Z"
   },
   {
    "duration": 78,
    "start_time": "2023-01-13T16:34:08.661Z"
   },
   {
    "duration": 50,
    "start_time": "2023-01-13T16:34:08.744Z"
   },
   {
    "duration": 8,
    "start_time": "2023-01-13T16:34:08.796Z"
   },
   {
    "duration": 62,
    "start_time": "2023-01-13T16:34:08.807Z"
   },
   {
    "duration": 110,
    "start_time": "2023-01-13T16:34:08.871Z"
   },
   {
    "duration": 6,
    "start_time": "2023-01-13T16:34:08.982Z"
   },
   {
    "duration": 38,
    "start_time": "2023-01-13T16:34:08.990Z"
   },
   {
    "duration": 124,
    "start_time": "2023-01-13T16:34:09.030Z"
   },
   {
    "duration": 10,
    "start_time": "2023-01-13T16:34:09.156Z"
   },
   {
    "duration": 29,
    "start_time": "2023-01-13T16:34:09.168Z"
   },
   {
    "duration": 40,
    "start_time": "2023-01-13T16:34:09.199Z"
   },
   {
    "duration": 213,
    "start_time": "2023-01-13T16:37:23.951Z"
   },
   {
    "duration": 216,
    "start_time": "2023-01-13T16:37:26.702Z"
   },
   {
    "duration": 1253,
    "start_time": "2023-01-13T16:37:32.453Z"
   },
   {
    "duration": 186,
    "start_time": "2023-01-13T16:37:33.708Z"
   },
   {
    "duration": 11,
    "start_time": "2023-01-13T16:37:33.896Z"
   },
   {
    "duration": 63,
    "start_time": "2023-01-13T16:37:33.909Z"
   },
   {
    "duration": 8,
    "start_time": "2023-01-13T16:37:33.975Z"
   },
   {
    "duration": 25,
    "start_time": "2023-01-13T16:37:33.984Z"
   },
   {
    "duration": 100,
    "start_time": "2023-01-13T16:37:34.011Z"
   },
   {
    "duration": 25,
    "start_time": "2023-01-13T16:37:34.113Z"
   },
   {
    "duration": 256,
    "start_time": "2023-01-13T16:37:34.140Z"
   },
   {
    "duration": 165,
    "start_time": "2023-01-13T16:37:34.399Z"
   },
   {
    "duration": 20,
    "start_time": "2023-01-13T16:37:34.565Z"
   },
   {
    "duration": 57,
    "start_time": "2023-01-13T16:37:34.587Z"
   },
   {
    "duration": 43,
    "start_time": "2023-01-13T16:37:34.647Z"
   },
   {
    "duration": 28,
    "start_time": "2023-01-13T16:37:34.695Z"
   },
   {
    "duration": 30,
    "start_time": "2023-01-13T16:37:34.730Z"
   },
   {
    "duration": 25,
    "start_time": "2023-01-13T16:37:34.762Z"
   },
   {
    "duration": 24,
    "start_time": "2023-01-13T16:37:34.789Z"
   },
   {
    "duration": 435,
    "start_time": "2023-01-13T16:37:34.815Z"
   },
   {
    "duration": 675,
    "start_time": "2023-01-13T16:37:35.252Z"
   },
   {
    "duration": 31,
    "start_time": "2023-01-13T16:37:35.929Z"
   },
   {
    "duration": 36,
    "start_time": "2023-01-13T16:37:35.963Z"
   },
   {
    "duration": 4,
    "start_time": "2023-01-13T16:37:36.001Z"
   },
   {
    "duration": 48,
    "start_time": "2023-01-13T16:37:36.026Z"
   },
   {
    "duration": 29,
    "start_time": "2023-01-13T16:37:36.075Z"
   },
   {
    "duration": 94,
    "start_time": "2023-01-13T16:37:36.105Z"
   },
   {
    "duration": 70,
    "start_time": "2023-01-13T16:37:36.201Z"
   },
   {
    "duration": 9,
    "start_time": "2023-01-13T16:37:36.273Z"
   },
   {
    "duration": 60,
    "start_time": "2023-01-13T16:37:36.283Z"
   },
   {
    "duration": 105,
    "start_time": "2023-01-13T16:37:36.345Z"
   },
   {
    "duration": 6,
    "start_time": "2023-01-13T16:37:36.453Z"
   },
   {
    "duration": 28,
    "start_time": "2023-01-13T16:37:36.461Z"
   },
   {
    "duration": 141,
    "start_time": "2023-01-13T16:37:36.490Z"
   },
   {
    "duration": 11,
    "start_time": "2023-01-13T16:37:36.637Z"
   },
   {
    "duration": 41,
    "start_time": "2023-01-13T16:37:36.650Z"
   },
   {
    "duration": 52,
    "start_time": "2023-01-13T16:37:36.693Z"
   },
   {
    "duration": 110,
    "start_time": "2023-01-13T16:40:07.531Z"
   },
   {
    "duration": 4,
    "start_time": "2023-01-13T16:40:30.858Z"
   },
   {
    "duration": 4,
    "start_time": "2023-01-13T16:43:02.035Z"
   },
   {
    "duration": 17,
    "start_time": "2023-01-13T16:43:46.200Z"
   },
   {
    "duration": 20,
    "start_time": "2023-01-13T16:44:30.347Z"
   },
   {
    "duration": 11,
    "start_time": "2023-01-13T16:45:30.156Z"
   },
   {
    "duration": 107,
    "start_time": "2023-01-13T16:47:29.148Z"
   },
   {
    "duration": 12,
    "start_time": "2023-01-13T16:47:48.575Z"
   },
   {
    "duration": 4,
    "start_time": "2023-01-13T16:48:56.353Z"
   },
   {
    "duration": 100,
    "start_time": "2023-01-13T16:49:00.662Z"
   },
   {
    "duration": 9,
    "start_time": "2023-01-13T16:49:07.195Z"
   },
   {
    "duration": 4,
    "start_time": "2023-01-13T16:49:11.462Z"
   },
   {
    "duration": 771,
    "start_time": "2023-01-13T16:50:22.586Z"
   },
   {
    "duration": 689,
    "start_time": "2023-01-13T16:50:31.017Z"
   },
   {
    "duration": 107,
    "start_time": "2023-01-13T16:59:54.360Z"
   },
   {
    "duration": 24,
    "start_time": "2023-01-13T17:02:07.662Z"
   },
   {
    "duration": 12,
    "start_time": "2023-01-13T17:04:35.491Z"
   },
   {
    "duration": 4,
    "start_time": "2023-01-13T17:04:52.668Z"
   },
   {
    "duration": 353,
    "start_time": "2023-01-13T17:05:02.143Z"
   },
   {
    "duration": 21,
    "start_time": "2023-01-13T17:05:34.771Z"
   },
   {
    "duration": 81,
    "start_time": "2023-01-13T17:05:51.355Z"
   },
   {
    "duration": 10,
    "start_time": "2023-01-13T17:05:53.978Z"
   },
   {
    "duration": 14,
    "start_time": "2023-01-13T17:07:43.313Z"
   },
   {
    "duration": 10,
    "start_time": "2023-01-13T17:07:52.976Z"
   },
   {
    "duration": 74,
    "start_time": "2023-01-13T17:08:13.040Z"
   },
   {
    "duration": 76,
    "start_time": "2023-01-13T17:08:26.541Z"
   },
   {
    "duration": 92,
    "start_time": "2023-01-13T17:08:34.885Z"
   },
   {
    "duration": 81,
    "start_time": "2023-01-13T17:08:41.186Z"
   },
   {
    "duration": 78,
    "start_time": "2023-01-13T17:08:49.702Z"
   },
   {
    "duration": 80,
    "start_time": "2023-01-13T17:08:55.606Z"
   },
   {
    "duration": 75,
    "start_time": "2023-01-13T17:09:33.642Z"
   },
   {
    "duration": 83,
    "start_time": "2023-01-13T17:09:59.100Z"
   },
   {
    "duration": 94,
    "start_time": "2023-01-13T17:10:04.171Z"
   },
   {
    "duration": 74,
    "start_time": "2023-01-13T17:10:17.442Z"
   },
   {
    "duration": 85,
    "start_time": "2023-01-13T17:10:22.388Z"
   },
   {
    "duration": 8,
    "start_time": "2023-01-13T17:10:26.680Z"
   },
   {
    "duration": 19,
    "start_time": "2023-01-13T17:10:56.016Z"
   },
   {
    "duration": 77,
    "start_time": "2023-01-13T17:17:29.506Z"
   },
   {
    "duration": 85,
    "start_time": "2023-01-13T17:19:07.197Z"
   },
   {
    "duration": 61,
    "start_time": "2023-01-13T17:19:14.910Z"
   },
   {
    "duration": 1272,
    "start_time": "2023-01-13T17:20:25.667Z"
   },
   {
    "duration": 165,
    "start_time": "2023-01-13T17:20:26.941Z"
   },
   {
    "duration": 11,
    "start_time": "2023-01-13T17:20:27.108Z"
   },
   {
    "duration": 30,
    "start_time": "2023-01-13T17:20:27.122Z"
   },
   {
    "duration": 9,
    "start_time": "2023-01-13T17:20:27.155Z"
   },
   {
    "duration": 14,
    "start_time": "2023-01-13T17:20:27.165Z"
   },
   {
    "duration": 86,
    "start_time": "2023-01-13T17:20:27.181Z"
   },
   {
    "duration": 14,
    "start_time": "2023-01-13T17:20:27.269Z"
   },
   {
    "duration": 180,
    "start_time": "2023-01-13T17:20:27.284Z"
   },
   {
    "duration": 145,
    "start_time": "2023-01-13T17:20:27.466Z"
   },
   {
    "duration": 32,
    "start_time": "2023-01-13T17:20:27.612Z"
   },
   {
    "duration": 30,
    "start_time": "2023-01-13T17:20:27.645Z"
   },
   {
    "duration": 8,
    "start_time": "2023-01-13T17:20:27.677Z"
   },
   {
    "duration": 44,
    "start_time": "2023-01-13T17:20:27.690Z"
   },
   {
    "duration": 10,
    "start_time": "2023-01-13T17:20:27.737Z"
   },
   {
    "duration": 14,
    "start_time": "2023-01-13T17:20:27.748Z"
   },
   {
    "duration": 5,
    "start_time": "2023-01-13T17:20:27.764Z"
   },
   {
    "duration": 399,
    "start_time": "2023-01-13T17:20:27.771Z"
   },
   {
    "duration": 667,
    "start_time": "2023-01-13T17:20:28.172Z"
   },
   {
    "duration": 22,
    "start_time": "2023-01-13T17:20:28.843Z"
   },
   {
    "duration": 37,
    "start_time": "2023-01-13T17:20:28.867Z"
   },
   {
    "duration": 4,
    "start_time": "2023-01-13T17:20:28.906Z"
   },
   {
    "duration": 24,
    "start_time": "2023-01-13T17:20:28.926Z"
   },
   {
    "duration": 93,
    "start_time": "2023-01-13T17:20:28.952Z"
   },
   {
    "duration": 19,
    "start_time": "2023-01-13T17:20:29.047Z"
   },
   {
    "duration": 115,
    "start_time": "2023-01-13T17:20:29.067Z"
   },
   {
    "duration": 0,
    "start_time": "2023-01-13T17:20:29.184Z"
   },
   {
    "duration": 0,
    "start_time": "2023-01-13T17:20:29.185Z"
   },
   {
    "duration": 0,
    "start_time": "2023-01-13T17:20:29.186Z"
   },
   {
    "duration": 0,
    "start_time": "2023-01-13T17:20:29.187Z"
   },
   {
    "duration": 0,
    "start_time": "2023-01-13T17:20:29.188Z"
   },
   {
    "duration": 0,
    "start_time": "2023-01-13T17:20:29.189Z"
   },
   {
    "duration": 0,
    "start_time": "2023-01-13T17:20:29.190Z"
   },
   {
    "duration": 0,
    "start_time": "2023-01-13T17:20:29.191Z"
   },
   {
    "duration": 0,
    "start_time": "2023-01-13T17:20:29.192Z"
   },
   {
    "duration": 0,
    "start_time": "2023-01-13T17:20:29.193Z"
   },
   {
    "duration": 0,
    "start_time": "2023-01-13T17:20:29.194Z"
   },
   {
    "duration": 0,
    "start_time": "2023-01-13T17:20:29.196Z"
   },
   {
    "duration": 0,
    "start_time": "2023-01-13T17:20:29.197Z"
   },
   {
    "duration": 0,
    "start_time": "2023-01-13T17:20:29.198Z"
   },
   {
    "duration": 0,
    "start_time": "2023-01-13T17:20:29.222Z"
   },
   {
    "duration": 1294,
    "start_time": "2023-01-13T17:21:01.022Z"
   },
   {
    "duration": 174,
    "start_time": "2023-01-13T17:21:02.318Z"
   },
   {
    "duration": 14,
    "start_time": "2023-01-13T17:21:02.493Z"
   },
   {
    "duration": 37,
    "start_time": "2023-01-13T17:21:02.508Z"
   },
   {
    "duration": 7,
    "start_time": "2023-01-13T17:21:02.548Z"
   },
   {
    "duration": 17,
    "start_time": "2023-01-13T17:21:02.556Z"
   },
   {
    "duration": 88,
    "start_time": "2023-01-13T17:21:02.575Z"
   },
   {
    "duration": 14,
    "start_time": "2023-01-13T17:21:02.665Z"
   },
   {
    "duration": 186,
    "start_time": "2023-01-13T17:21:02.681Z"
   },
   {
    "duration": 146,
    "start_time": "2023-01-13T17:21:02.869Z"
   },
   {
    "duration": 34,
    "start_time": "2023-01-13T17:21:03.016Z"
   },
   {
    "duration": 48,
    "start_time": "2023-01-13T17:21:03.052Z"
   },
   {
    "duration": 8,
    "start_time": "2023-01-13T17:21:03.103Z"
   },
   {
    "duration": 25,
    "start_time": "2023-01-13T17:21:03.123Z"
   },
   {
    "duration": 11,
    "start_time": "2023-01-13T17:21:03.155Z"
   },
   {
    "duration": 7,
    "start_time": "2023-01-13T17:21:03.168Z"
   },
   {
    "duration": 6,
    "start_time": "2023-01-13T17:21:03.177Z"
   },
   {
    "duration": 407,
    "start_time": "2023-01-13T17:21:03.185Z"
   },
   {
    "duration": 707,
    "start_time": "2023-01-13T17:21:03.593Z"
   },
   {
    "duration": 40,
    "start_time": "2023-01-13T17:21:04.303Z"
   },
   {
    "duration": 40,
    "start_time": "2023-01-13T17:21:04.345Z"
   },
   {
    "duration": 4,
    "start_time": "2023-01-13T17:21:04.387Z"
   },
   {
    "duration": 50,
    "start_time": "2023-01-13T17:21:04.392Z"
   },
   {
    "duration": 4,
    "start_time": "2023-01-13T17:21:04.444Z"
   },
   {
    "duration": 104,
    "start_time": "2023-01-13T17:21:04.449Z"
   },
   {
    "duration": 34,
    "start_time": "2023-01-13T17:21:04.555Z"
   },
   {
    "duration": 3,
    "start_time": "2023-01-13T17:21:04.591Z"
   },
   {
    "duration": 53,
    "start_time": "2023-01-13T17:21:04.595Z"
   },
   {
    "duration": 60,
    "start_time": "2023-01-13T17:21:04.650Z"
   },
   {
    "duration": 66,
    "start_time": "2023-01-13T17:21:04.711Z"
   },
   {
    "duration": 10,
    "start_time": "2023-01-13T17:21:04.778Z"
   },
   {
    "duration": 161,
    "start_time": "2023-01-13T17:21:04.789Z"
   },
   {
    "duration": 72,
    "start_time": "2023-01-13T17:21:04.953Z"
   },
   {
    "duration": 129,
    "start_time": "2023-01-13T17:21:05.027Z"
   },
   {
    "duration": 6,
    "start_time": "2023-01-13T17:21:05.157Z"
   },
   {
    "duration": 26,
    "start_time": "2023-01-13T17:21:05.165Z"
   },
   {
    "duration": 114,
    "start_time": "2023-01-13T17:21:05.192Z"
   },
   {
    "duration": 19,
    "start_time": "2023-01-13T17:21:05.308Z"
   },
   {
    "duration": 22,
    "start_time": "2023-01-13T17:21:05.329Z"
   },
   {
    "duration": 26,
    "start_time": "2023-01-13T17:21:05.353Z"
   },
   {
    "duration": 1350,
    "start_time": "2023-01-13T17:24:03.746Z"
   },
   {
    "duration": 184,
    "start_time": "2023-01-13T17:24:05.099Z"
   },
   {
    "duration": 12,
    "start_time": "2023-01-13T17:24:05.285Z"
   },
   {
    "duration": 62,
    "start_time": "2023-01-13T17:24:05.299Z"
   },
   {
    "duration": 8,
    "start_time": "2023-01-13T17:24:05.364Z"
   },
   {
    "duration": 38,
    "start_time": "2023-01-13T17:24:05.374Z"
   },
   {
    "duration": 88,
    "start_time": "2023-01-13T17:24:05.413Z"
   },
   {
    "duration": 14,
    "start_time": "2023-01-13T17:24:05.502Z"
   },
   {
    "duration": 219,
    "start_time": "2023-01-13T17:24:05.517Z"
   },
   {
    "duration": 176,
    "start_time": "2023-01-13T17:24:05.740Z"
   },
   {
    "duration": 27,
    "start_time": "2023-01-13T17:24:05.918Z"
   },
   {
    "duration": 53,
    "start_time": "2023-01-13T17:24:05.949Z"
   },
   {
    "duration": 24,
    "start_time": "2023-01-13T17:24:06.004Z"
   },
   {
    "duration": 41,
    "start_time": "2023-01-13T17:24:06.032Z"
   },
   {
    "duration": 10,
    "start_time": "2023-01-13T17:24:06.075Z"
   },
   {
    "duration": 30,
    "start_time": "2023-01-13T17:24:06.087Z"
   },
   {
    "duration": 31,
    "start_time": "2023-01-13T17:24:06.119Z"
   },
   {
    "duration": 398,
    "start_time": "2023-01-13T17:24:06.152Z"
   },
   {
    "duration": 698,
    "start_time": "2023-01-13T17:24:06.552Z"
   },
   {
    "duration": 23,
    "start_time": "2023-01-13T17:24:07.252Z"
   },
   {
    "duration": 48,
    "start_time": "2023-01-13T17:24:07.277Z"
   },
   {
    "duration": 4,
    "start_time": "2023-01-13T17:24:07.327Z"
   },
   {
    "duration": 34,
    "start_time": "2023-01-13T17:24:07.338Z"
   },
   {
    "duration": 4,
    "start_time": "2023-01-13T17:24:07.375Z"
   },
   {
    "duration": 108,
    "start_time": "2023-01-13T17:24:07.381Z"
   },
   {
    "duration": 53,
    "start_time": "2023-01-13T17:24:07.490Z"
   },
   {
    "duration": 3,
    "start_time": "2023-01-13T17:24:07.547Z"
   },
   {
    "duration": 44,
    "start_time": "2023-01-13T17:24:07.551Z"
   },
   {
    "duration": 70,
    "start_time": "2023-01-13T17:24:07.596Z"
   },
   {
    "duration": 69,
    "start_time": "2023-01-13T17:24:07.668Z"
   },
   {
    "duration": 10,
    "start_time": "2023-01-13T17:24:07.748Z"
   },
   {
    "duration": 183,
    "start_time": "2023-01-13T17:24:07.760Z"
   },
   {
    "duration": 101,
    "start_time": "2023-01-13T17:24:07.946Z"
   },
   {
    "duration": 130,
    "start_time": "2023-01-13T17:24:08.049Z"
   },
   {
    "duration": 6,
    "start_time": "2023-01-13T17:24:08.180Z"
   },
   {
    "duration": 32,
    "start_time": "2023-01-13T17:24:08.187Z"
   },
   {
    "duration": 143,
    "start_time": "2023-01-13T17:24:08.221Z"
   },
   {
    "duration": 8,
    "start_time": "2023-01-13T17:24:08.366Z"
   },
   {
    "duration": 14,
    "start_time": "2023-01-13T17:24:08.376Z"
   },
   {
    "duration": 27,
    "start_time": "2023-01-13T17:24:08.392Z"
   },
   {
    "duration": 328,
    "start_time": "2023-01-13T17:27:40.869Z"
   },
   {
    "duration": 11,
    "start_time": "2023-01-13T17:27:56.157Z"
   },
   {
    "duration": 14,
    "start_time": "2023-01-13T17:30:01.657Z"
   },
   {
    "duration": 1499,
    "start_time": "2023-01-13T17:30:42.980Z"
   },
   {
    "duration": 195,
    "start_time": "2023-01-13T17:30:44.483Z"
   },
   {
    "duration": 13,
    "start_time": "2023-01-13T17:30:44.680Z"
   },
   {
    "duration": 45,
    "start_time": "2023-01-13T17:30:44.695Z"
   },
   {
    "duration": 13,
    "start_time": "2023-01-13T17:30:44.750Z"
   },
   {
    "duration": 18,
    "start_time": "2023-01-13T17:30:44.765Z"
   },
   {
    "duration": 91,
    "start_time": "2023-01-13T17:30:44.785Z"
   },
   {
    "duration": 15,
    "start_time": "2023-01-13T17:30:44.878Z"
   },
   {
    "duration": 197,
    "start_time": "2023-01-13T17:30:44.896Z"
   },
   {
    "duration": 179,
    "start_time": "2023-01-13T17:30:45.095Z"
   },
   {
    "duration": 24,
    "start_time": "2023-01-13T17:30:45.276Z"
   },
   {
    "duration": 117,
    "start_time": "2023-01-13T17:30:45.303Z"
   },
   {
    "duration": 23,
    "start_time": "2023-01-13T17:30:45.422Z"
   },
   {
    "duration": 45,
    "start_time": "2023-01-13T17:30:45.451Z"
   },
   {
    "duration": 6,
    "start_time": "2023-01-13T17:30:45.498Z"
   },
   {
    "duration": 6,
    "start_time": "2023-01-13T17:30:45.506Z"
   },
   {
    "duration": 3,
    "start_time": "2023-01-13T17:30:45.514Z"
   },
   {
    "duration": 450,
    "start_time": "2023-01-13T17:30:45.518Z"
   },
   {
    "duration": 696,
    "start_time": "2023-01-13T17:30:45.970Z"
   },
   {
    "duration": 22,
    "start_time": "2023-01-13T17:30:46.668Z"
   },
   {
    "duration": 58,
    "start_time": "2023-01-13T17:30:46.691Z"
   },
   {
    "duration": 4,
    "start_time": "2023-01-13T17:30:46.751Z"
   },
   {
    "duration": 31,
    "start_time": "2023-01-13T17:30:46.757Z"
   },
   {
    "duration": 4,
    "start_time": "2023-01-13T17:30:46.790Z"
   },
   {
    "duration": 44,
    "start_time": "2023-01-13T17:30:46.796Z"
   },
   {
    "duration": 124,
    "start_time": "2023-01-13T17:30:46.848Z"
   },
   {
    "duration": 25,
    "start_time": "2023-01-13T17:30:46.974Z"
   },
   {
    "duration": 84,
    "start_time": "2023-01-13T17:30:47.001Z"
   },
   {
    "duration": 79,
    "start_time": "2023-01-13T17:30:47.087Z"
   },
   {
    "duration": 11,
    "start_time": "2023-01-13T17:30:47.168Z"
   },
   {
    "duration": 163,
    "start_time": "2023-01-13T17:30:47.181Z"
   },
   {
    "duration": 90,
    "start_time": "2023-01-13T17:30:47.346Z"
   },
   {
    "duration": 139,
    "start_time": "2023-01-13T17:30:47.438Z"
   },
   {
    "duration": 6,
    "start_time": "2023-01-13T17:30:47.578Z"
   },
   {
    "duration": 41,
    "start_time": "2023-01-13T17:30:47.586Z"
   },
   {
    "duration": 147,
    "start_time": "2023-01-13T17:30:47.628Z"
   },
   {
    "duration": 9,
    "start_time": "2023-01-13T17:30:47.777Z"
   },
   {
    "duration": 20,
    "start_time": "2023-01-13T17:30:47.787Z"
   },
   {
    "duration": 29,
    "start_time": "2023-01-13T17:30:47.808Z"
   },
   {
    "duration": 690,
    "start_time": "2023-01-13T17:31:17.752Z"
   },
   {
    "duration": 683,
    "start_time": "2023-01-13T17:31:56.235Z"
   },
   {
    "duration": 785,
    "start_time": "2023-01-13T17:34:25.816Z"
   },
   {
    "duration": 1399,
    "start_time": "2023-01-13T17:38:48.865Z"
   },
   {
    "duration": 184,
    "start_time": "2023-01-13T17:38:50.267Z"
   },
   {
    "duration": 15,
    "start_time": "2023-01-13T17:38:50.452Z"
   },
   {
    "duration": 31,
    "start_time": "2023-01-13T17:38:50.469Z"
   },
   {
    "duration": 24,
    "start_time": "2023-01-13T17:38:50.502Z"
   },
   {
    "duration": 44,
    "start_time": "2023-01-13T17:38:50.527Z"
   },
   {
    "duration": 82,
    "start_time": "2023-01-13T17:38:50.572Z"
   },
   {
    "duration": 19,
    "start_time": "2023-01-13T17:38:50.656Z"
   },
   {
    "duration": 180,
    "start_time": "2023-01-13T17:38:50.677Z"
   },
   {
    "duration": 152,
    "start_time": "2023-01-13T17:38:50.860Z"
   },
   {
    "duration": 33,
    "start_time": "2023-01-13T17:38:51.013Z"
   },
   {
    "duration": 37,
    "start_time": "2023-01-13T17:38:51.048Z"
   },
   {
    "duration": 7,
    "start_time": "2023-01-13T17:38:51.088Z"
   },
   {
    "duration": 35,
    "start_time": "2023-01-13T17:38:51.097Z"
   },
   {
    "duration": 23,
    "start_time": "2023-01-13T17:38:51.133Z"
   },
   {
    "duration": 12,
    "start_time": "2023-01-13T17:38:51.158Z"
   },
   {
    "duration": 6,
    "start_time": "2023-01-13T17:38:51.171Z"
   },
   {
    "duration": 856,
    "start_time": "2023-01-13T17:38:51.179Z"
   },
   {
    "duration": 796,
    "start_time": "2023-01-13T17:38:52.037Z"
   },
   {
    "duration": 29,
    "start_time": "2023-01-13T17:38:52.835Z"
   },
   {
    "duration": 35,
    "start_time": "2023-01-13T17:38:52.866Z"
   },
   {
    "duration": 4,
    "start_time": "2023-01-13T17:38:52.903Z"
   },
   {
    "duration": 49,
    "start_time": "2023-01-13T17:38:52.929Z"
   },
   {
    "duration": 5,
    "start_time": "2023-01-13T17:38:52.979Z"
   },
   {
    "duration": 14,
    "start_time": "2023-01-13T17:38:52.985Z"
   },
   {
    "duration": 43,
    "start_time": "2023-01-13T17:38:53.001Z"
   },
   {
    "duration": 34,
    "start_time": "2023-01-13T17:38:53.047Z"
   },
   {
    "duration": 74,
    "start_time": "2023-01-13T17:38:53.085Z"
   },
   {
    "duration": 46,
    "start_time": "2023-01-13T17:38:53.161Z"
   },
   {
    "duration": 14,
    "start_time": "2023-01-13T17:38:53.227Z"
   },
   {
    "duration": 187,
    "start_time": "2023-01-13T17:38:53.249Z"
   },
   {
    "duration": 90,
    "start_time": "2023-01-13T17:38:53.437Z"
   },
   {
    "duration": 165,
    "start_time": "2023-01-13T17:38:53.530Z"
   },
   {
    "duration": 6,
    "start_time": "2023-01-13T17:38:53.697Z"
   },
   {
    "duration": 30,
    "start_time": "2023-01-13T17:38:53.704Z"
   },
   {
    "duration": 121,
    "start_time": "2023-01-13T17:38:53.740Z"
   },
   {
    "duration": 11,
    "start_time": "2023-01-13T17:38:53.866Z"
   },
   {
    "duration": 13,
    "start_time": "2023-01-13T17:38:53.879Z"
   },
   {
    "duration": 14,
    "start_time": "2023-01-13T17:38:53.893Z"
   },
   {
    "duration": 137,
    "start_time": "2023-01-13T17:42:31.578Z"
   },
   {
    "duration": 43,
    "start_time": "2023-01-13T17:42:40.619Z"
   },
   {
    "duration": 35,
    "start_time": "2023-01-13T17:44:31.535Z"
   },
   {
    "duration": 42,
    "start_time": "2023-01-13T17:45:23.510Z"
   },
   {
    "duration": 49,
    "start_time": "2023-01-13T17:46:18.431Z"
   },
   {
    "duration": 41,
    "start_time": "2023-01-13T17:47:58.450Z"
   },
   {
    "duration": 18,
    "start_time": "2023-01-13T17:55:05.150Z"
   },
   {
    "duration": 131,
    "start_time": "2023-01-13T17:56:14.443Z"
   },
   {
    "duration": 13,
    "start_time": "2023-01-13T17:56:21.644Z"
   },
   {
    "duration": 87,
    "start_time": "2023-01-13T17:58:51.673Z"
   },
   {
    "duration": 70,
    "start_time": "2023-01-13T17:59:01.679Z"
   },
   {
    "duration": 10,
    "start_time": "2023-01-13T17:59:08.583Z"
   },
   {
    "duration": 79,
    "start_time": "2023-01-13T17:59:30.849Z"
   },
   {
    "duration": 88,
    "start_time": "2023-01-13T17:59:38.585Z"
   },
   {
    "duration": 17,
    "start_time": "2023-01-13T17:59:45.352Z"
   },
   {
    "duration": 15,
    "start_time": "2023-01-13T18:02:27.440Z"
   },
   {
    "duration": 13,
    "start_time": "2023-01-13T18:02:36.249Z"
   },
   {
    "duration": 10,
    "start_time": "2023-01-13T18:07:07.573Z"
   },
   {
    "duration": 12,
    "start_time": "2023-01-13T18:07:19.866Z"
   },
   {
    "duration": 11,
    "start_time": "2023-01-13T18:07:59.083Z"
   },
   {
    "duration": 20,
    "start_time": "2023-01-13T18:08:06.059Z"
   },
   {
    "duration": 49,
    "start_time": "2023-01-13T18:08:22.940Z"
   },
   {
    "duration": 11,
    "start_time": "2023-01-13T18:08:30.837Z"
   },
   {
    "duration": 1298,
    "start_time": "2023-01-14T15:35:36.480Z"
   },
   {
    "duration": 166,
    "start_time": "2023-01-14T15:35:37.780Z"
   },
   {
    "duration": 11,
    "start_time": "2023-01-14T15:35:37.948Z"
   },
   {
    "duration": 29,
    "start_time": "2023-01-14T15:35:37.961Z"
   },
   {
    "duration": 9,
    "start_time": "2023-01-14T15:35:37.991Z"
   },
   {
    "duration": 35,
    "start_time": "2023-01-14T15:35:38.001Z"
   },
   {
    "duration": 68,
    "start_time": "2023-01-14T15:35:38.038Z"
   },
   {
    "duration": 28,
    "start_time": "2023-01-14T15:35:38.108Z"
   },
   {
    "duration": 170,
    "start_time": "2023-01-14T15:35:38.138Z"
   },
   {
    "duration": 141,
    "start_time": "2023-01-14T15:35:38.311Z"
   },
   {
    "duration": 23,
    "start_time": "2023-01-14T15:35:38.454Z"
   },
   {
    "duration": 73,
    "start_time": "2023-01-14T15:35:38.478Z"
   },
   {
    "duration": 31,
    "start_time": "2023-01-14T15:35:38.552Z"
   },
   {
    "duration": 8,
    "start_time": "2023-01-14T15:35:38.584Z"
   },
   {
    "duration": 16,
    "start_time": "2023-01-14T15:35:38.593Z"
   },
   {
    "duration": 29,
    "start_time": "2023-01-14T15:35:38.610Z"
   },
   {
    "duration": 16,
    "start_time": "2023-01-14T15:35:38.641Z"
   },
   {
    "duration": 4,
    "start_time": "2023-01-14T15:35:38.658Z"
   },
   {
    "duration": 708,
    "start_time": "2023-01-14T15:35:38.663Z"
   },
   {
    "duration": 658,
    "start_time": "2023-01-14T15:35:39.373Z"
   },
   {
    "duration": 21,
    "start_time": "2023-01-14T15:35:40.035Z"
   },
   {
    "duration": 20,
    "start_time": "2023-01-14T15:35:40.057Z"
   },
   {
    "duration": 4,
    "start_time": "2023-01-14T15:35:40.078Z"
   },
   {
    "duration": 33,
    "start_time": "2023-01-14T15:35:40.084Z"
   },
   {
    "duration": 17,
    "start_time": "2023-01-14T15:35:40.119Z"
   },
   {
    "duration": 22,
    "start_time": "2023-01-14T15:35:40.138Z"
   },
   {
    "duration": 36,
    "start_time": "2023-01-14T15:35:40.162Z"
   },
   {
    "duration": 24,
    "start_time": "2023-01-14T15:35:40.202Z"
   },
   {
    "duration": 55,
    "start_time": "2023-01-14T15:35:40.235Z"
   },
   {
    "duration": 58,
    "start_time": "2023-01-14T15:35:40.292Z"
   },
   {
    "duration": 8,
    "start_time": "2023-01-14T15:35:40.352Z"
   },
   {
    "duration": 280,
    "start_time": "2023-01-14T15:35:40.361Z"
   },
   {
    "duration": 38,
    "start_time": "2023-01-14T15:35:40.643Z"
   },
   {
    "duration": 112,
    "start_time": "2023-01-14T15:35:40.736Z"
   },
   {
    "duration": 5,
    "start_time": "2023-01-14T15:35:40.850Z"
   },
   {
    "duration": 14,
    "start_time": "2023-01-14T15:35:40.857Z"
   },
   {
    "duration": 102,
    "start_time": "2023-01-14T15:35:40.873Z"
   },
   {
    "duration": 8,
    "start_time": "2023-01-14T15:35:40.977Z"
   },
   {
    "duration": 12,
    "start_time": "2023-01-14T15:35:40.987Z"
   },
   {
    "duration": 25,
    "start_time": "2023-01-14T15:35:41.001Z"
   },
   {
    "duration": 11,
    "start_time": "2023-01-14T15:38:37.550Z"
   },
   {
    "duration": 10,
    "start_time": "2023-01-14T15:38:46.261Z"
   }
  ],
  "kernelspec": {
   "display_name": "Python 3 (ipykernel)",
   "language": "python",
   "name": "python3"
  },
  "language_info": {
   "codemirror_mode": {
    "name": "ipython",
    "version": 3
   },
   "file_extension": ".py",
   "mimetype": "text/x-python",
   "name": "python",
   "nbconvert_exporter": "python",
   "pygments_lexer": "ipython3",
   "version": "3.9.5"
  },
  "toc": {
   "base_numbering": 1,
   "nav_menu": {},
   "number_sections": false,
   "sideBar": true,
   "skip_h1_title": false,
   "title_cell": "Table of Contents",
   "title_sidebar": "Contents",
   "toc_cell": false,
   "toc_position": {
    "height": "calc(100% - 180px)",
    "left": "10px",
    "top": "150px",
    "width": "267.102px"
   },
   "toc_section_display": true,
   "toc_window_display": true
  }
 },
 "nbformat": 4,
 "nbformat_minor": 2
}
